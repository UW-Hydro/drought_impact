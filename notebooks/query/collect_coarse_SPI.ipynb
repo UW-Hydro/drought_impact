{
 "cells": [
  {
   "cell_type": "code",
   "execution_count": 3,
   "metadata": {},
   "outputs": [
    {
     "name": "stderr",
     "output_type": "stream",
     "text": [
      "<frozen importlib._bootstrap>:241: RuntimeWarning: numpy.ndarray size changed, may indicate binary incompatibility. Expected 16 from C header, got 96 from PyObject\n"
     ]
    }
   ],
   "source": [
    "import numpy as np\n",
    "import xarray as xr\n",
    "import h5py"
   ]
  },
  {
   "cell_type": "code",
   "execution_count": 4,
   "metadata": {},
   "outputs": [],
   "source": [
    "spi30_path = '/pool0/home/steinadi/data/drought/drought_impact/data/drought_measures/spi/coarse/pr_30d.mat'\n",
    "spi180_path = '/pool0/home/steinadi/data/drought/drought_impact/data/drought_measures/spi/coarse/pr_180d.mat'"
   ]
  },
  {
   "cell_type": "code",
   "execution_count": 5,
   "metadata": {},
   "outputs": [],
   "source": [
    "latlon_path = '/pool0/home/steinadi/data/drought/drought_impact/data/drought_measures/spi/coarse/FOR_ADI/alt_gridmetlonlat.mat'"
   ]
  },
  {
   "cell_type": "code",
   "execution_count": 6,
   "metadata": {},
   "outputs": [],
   "source": [
    "f = h5py.File(spi30_path, 'r')\n",
    "spi30d = f.get('n')"
   ]
  },
  {
   "cell_type": "code",
   "execution_count": 7,
   "metadata": {},
   "outputs": [],
   "source": [
    "spi30d = np.array(spi30d)"
   ]
  },
  {
   "cell_type": "code",
   "execution_count": 8,
   "metadata": {},
   "outputs": [],
   "source": [
    "f = h5py.File(spi180_path, 'r')\n",
    "spi180d = f.get('n')"
   ]
  },
  {
   "cell_type": "code",
   "execution_count": 9,
   "metadata": {},
   "outputs": [],
   "source": [
    "spi180d = np.array(spi180d)"
   ]
  },
  {
   "cell_type": "code",
   "execution_count": 10,
   "metadata": {},
   "outputs": [],
   "source": [
    "spi30d_coarse = xr.DataArray(spi30d).coarsen(dim={'dim_0':5, 'dim_1':5}, boundary='trim').mean().values"
   ]
  },
  {
   "cell_type": "code",
   "execution_count": 11,
   "metadata": {},
   "outputs": [],
   "source": [
    "spi180d_coarse = xr.DataArray(spi180d).coarsen(dim={'dim_0':5, 'dim_1':5}, boundary='trim').mean().values"
   ]
  },
  {
   "cell_type": "code",
   "execution_count": 12,
   "metadata": {},
   "outputs": [],
   "source": [
    "import scipy.io"
   ]
  },
  {
   "cell_type": "code",
   "execution_count": 13,
   "metadata": {},
   "outputs": [],
   "source": [
    "spi30_path_out = '/pool0/home/steinadi/data/drought/drought_impact/data/drought_measures/spi/coarse/pr_30d_5xcoarse.mat'"
   ]
  },
  {
   "cell_type": "code",
   "execution_count": 17,
   "metadata": {},
   "outputs": [],
   "source": [
    "spi180_path_out = '/pool0/home/steinadi/data/drought/drought_impact/data/drought_measures/spi/coarse/pr_180d_5xcoarse.mat'"
   ]
  },
  {
   "cell_type": "code",
   "execution_count": 22,
   "metadata": {},
   "outputs": [],
   "source": [
    "scipy.io.savemat(spi30_path_out, {'n': spi30d_coarse[:, :, 20:, :]})"
   ]
  },
  {
   "cell_type": "code",
   "execution_count": 24,
   "metadata": {},
   "outputs": [],
   "source": [
    "scipy.io.savemat(spi180_path_out, {'n': spi180d_coarse[:, :, 20:, :]})"
   ]
  },
  {
   "cell_type": "code",
   "execution_count": null,
   "metadata": {},
   "outputs": [],
   "source": []
  }
 ],
 "metadata": {
  "kernelspec": {
   "display_name": "sedi",
   "language": "python",
   "name": "python3"
  },
  "language_info": {
   "codemirror_mode": {
    "name": "ipython",
    "version": 3
   },
   "file_extension": ".py",
   "mimetype": "text/x-python",
   "name": "python",
   "nbconvert_exporter": "python",
   "pygments_lexer": "ipython3",
   "version": "3.10.8"
  },
  "orig_nbformat": 4
 },
 "nbformat": 4,
 "nbformat_minor": 2
}
