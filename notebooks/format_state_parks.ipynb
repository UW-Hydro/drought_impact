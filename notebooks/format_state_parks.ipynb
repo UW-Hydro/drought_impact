{
 "cells": [
  {
   "cell_type": "markdown",
   "metadata": {},
   "source": [
    "# Format State Parks\n",
    "\n",
    "This notebook picks up after `format_national_parks.ipynb` to format the state park data."
   ]
  },
  {
   "cell_type": "code",
   "execution_count": 1,
   "metadata": {},
   "outputs": [
    {
     "name": "stdout",
     "output_type": "stream",
     "text": [
      "Populating the interactive namespace from numpy and matplotlib\n"
     ]
    }
   ],
   "source": [
    "%pylab inline\n",
    "%load_ext autoreload\n",
    "%autoreload 2\n",
    "%reload_ext autoreload\n",
    "\n",
    "import xarray as xr\n",
    "import pandas as pd\n",
    "import os\n",
    "\n",
    "data_dir = \"/pool0/home/steinadi/data/drought/DatabaseDrafts\""
   ]
  },
  {
   "cell_type": "markdown",
   "metadata": {},
   "source": [
    "### Explore Data"
   ]
  },
  {
   "cell_type": "markdown",
   "metadata": {},
   "source": [
    "Path notes from `explore.ipynb`"
   ]
  },
  {
   "cell_type": "code",
   "execution_count": 2,
   "metadata": {},
   "outputs": [],
   "source": [
    "# Good to go\n",
    "# ----------\n",
    "# pd.read_excel(f\"{data_dir}/StatePark_Visitations.xlsx\", sheet_name=\"WA Overnight\", skiprows=np.arange(1,5), usecols='B:Q', index_col=[0,1,2], header=1)\n",
    "# pd.read_excel(f\"{data_dir}/StatePark_Visitations.xlsx\", sheet_name=\"WA Total\", skiprows=np.arange(1,5), usecols='B:Q', index_col=[0,1,2], header=1)\n",
    "# pd.read_excel(f\"{data_dir}/StatePark_Visitations.xlsx\", sheet_name=\"WA Day Use\", skiprows=np.arange(1,5), usecols='B:Q', index_col=[0,1,2], header=1)\n",
    "# pd.read_excel(f\"{data_dir}/StatePark_Visitations.xlsx\", sheet_name=\"OR Day User Monthly\", skiprows=np.arange(1,4), index_col=[0,1,2], header=1)\n",
    "# pd.read_excel(f\"{data_dir}/StatePark_Visitations.xlsx\", sheet_name=\"OR Overnight Monthly\", skiprows=np.arange(1,4), index_col=[0,1,2], header=1)\n",
    "\n",
    "# Needs splicing\n",
    "# --------------\n",
    "# pd.read_excel(f\"{data_dir}/StatePark_Visitations.xlsx\", sheet_name=\"OR Annual Day Use\", skiprows=np.arange(1,6), index_col=0, header=1) # some totals that I think can be cut out?\n",
    "# pd.read_excel(f\"{data_dir}/StatePark_Visitations.xlsx\", sheet_name=\"OR Annual Overnight\", skiprows=np.arange(1,7), index_col=2, header=1) # also some strange totals"
   ]
  },
  {
   "cell_type": "markdown",
   "metadata": {},
   "source": [
    "Read in data"
   ]
  },
  {
   "cell_type": "code",
   "execution_count": 3,
   "metadata": {},
   "outputs": [],
   "source": [
    "# uses year-park multi-index with months for columns\n",
    "wa_overnight = pd.read_excel(f\"{data_dir}/StatePark_Visitations.xlsx\", sheet_name=\"WA Overnight\", skiprows=np.arange(1,5), usecols='B:Q', index_col=[0,1,2], header=1)\n",
    "wa_total = pd.read_excel(f\"{data_dir}/StatePark_Visitations.xlsx\", sheet_name=\"WA Total\", skiprows=np.arange(1,5), usecols='B:Q', index_col=[0,1,2], header=1)\n",
    "wa_day_use = pd.read_excel(f\"{data_dir}/StatePark_Visitations.xlsx\", sheet_name=\"WA Day Use\", skiprows=np.arange(1,5), usecols='B:Q', index_col=[0,1,2], header=1)\n",
    "\n",
    "# uses park-month_num-year for index with sums for column\n",
    "or_day_user_monthly = pd.read_excel(f\"{data_dir}/StatePark_Visitations.xlsx\", sheet_name=\"OR Day User Monthly\", skiprows=np.arange(1,4), index_col=[0,1,2], header=1)\n",
    "or_overnight_monthly = pd.read_excel(f\"{data_dir}/StatePark_Visitations.xlsx\", sheet_name=\"OR Overnight Monthly\", skiprows=np.arange(1,4), index_col=[0,1,2], header=1)\n",
    "\n",
    "# uses park/totals for index, year for columns\n",
    "or_annual_day = pd.read_excel(f\"{data_dir}/StatePark_Visitations.xlsx\", sheet_name=\"OR Annual Day Use\", skiprows=np.arange(1,6), index_col=0, header=1)\n",
    "or_annual_overnight = pd.read_excel(f\"{data_dir}/StatePark_Visitations.xlsx\", sheet_name=\"OR Annual Overnight\", skiprows=np.arange(1,7), index_col=2, header=1)"
   ]
  },
  {
   "cell_type": "markdown",
   "metadata": {},
   "source": [
    "Alright, in `format_national_parks.ipynb`, I got the netcdf to have dimensions of time and park, so I want to repeat that here I think."
   ]
  },
  {
   "cell_type": "markdown",
   "metadata": {},
   "source": [
    "First I want to take care of the splicing needs of the last two dataframes"
   ]
  },
  {
   "cell_type": "markdown",
   "metadata": {},
   "source": [
    "After second thought, I want to keep those totals, could be useful, might as well not throw out data."
   ]
  },
  {
   "cell_type": "markdown",
   "metadata": {},
   "source": [
    "let's get a list of park names"
   ]
  },
  {
   "cell_type": "code",
   "execution_count": 4,
   "metadata": {},
   "outputs": [],
   "source": [
    "wa_parks = []\n",
    "\n",
    "for data in [wa_overnight, wa_total, wa_day_use]:\n",
    "    for dex in data.index:\n",
    "        park = dex[2].upper()\n",
    "        if park not in wa_parks:\n",
    "            wa_parks.append(park)"
   ]
  },
  {
   "cell_type": "code",
   "execution_count": 5,
   "metadata": {},
   "outputs": [],
   "source": [
    "or_parks = []\n",
    "\n",
    "for data in [or_day_user_monthly, or_overnight_monthly]:\n",
    "    for dex in data.index:\n",
    "        park = dex[0].upper()\n",
    "        if park not in or_parks:\n",
    "            or_parks.append(park)\n",
    "\n",
    "for data in [or_annual_day, or_annual_overnight]:\n",
    "    for dex in data.index:\n",
    "        if isinstance(dex, str):\n",
    "            park = dex.upper()\n",
    "            if park not in or_parks:\n",
    "                or_parks.append(park)"
   ]
  },
  {
   "cell_type": "markdown",
   "metadata": {},
   "source": [
    "Got that. Now let's check our times. \n",
    "\n",
    "WA data goes from 2014 to 2020    \n",
    "OR data goes from 1989 to 2021 for monthly, and 2002 to 2020 for annual\n",
    "\n",
    "Hmmm ... let's see whether the annual and monthly data adds up for OR, (because if they do, then I might as well only store the monthly data and just compute the annual data later to make my coordinates easier in the netcdf)"
   ]
  },
  {
   "cell_type": "code",
   "execution_count": 6,
   "metadata": {},
   "outputs": [
    {
     "data": {
      "text/html": [
       "<div>\n",
       "<style scoped>\n",
       "    .dataframe tbody tr th:only-of-type {\n",
       "        vertical-align: middle;\n",
       "    }\n",
       "\n",
       "    .dataframe tbody tr th {\n",
       "        vertical-align: top;\n",
       "    }\n",
       "\n",
       "    .dataframe thead th {\n",
       "        text-align: right;\n",
       "    }\n",
       "</style>\n",
       "<table border=\"1\" class=\"dataframe\">\n",
       "  <thead>\n",
       "    <tr style=\"text-align: right;\">\n",
       "      <th></th>\n",
       "      <th></th>\n",
       "      <th></th>\n",
       "      <th>SumOfattendance</th>\n",
       "    </tr>\n",
       "    <tr>\n",
       "      <th>property</th>\n",
       "      <th>recordedMonth</th>\n",
       "      <th>recordedYear</th>\n",
       "      <th></th>\n",
       "    </tr>\n",
       "  </thead>\n",
       "  <tbody>\n",
       "    <tr>\n",
       "      <th rowspan=\"5\" valign=\"top\">Agate Beach State Recreation Site</th>\n",
       "      <th>7</th>\n",
       "      <th>1989</th>\n",
       "      <td>37656.0</td>\n",
       "    </tr>\n",
       "    <tr>\n",
       "      <th>8</th>\n",
       "      <th>1989</th>\n",
       "      <td>35544.0</td>\n",
       "    </tr>\n",
       "    <tr>\n",
       "      <th>9</th>\n",
       "      <th>1989</th>\n",
       "      <td>28316.0</td>\n",
       "    </tr>\n",
       "    <tr>\n",
       "      <th>10</th>\n",
       "      <th>1989</th>\n",
       "      <td>16580.0</td>\n",
       "    </tr>\n",
       "    <tr>\n",
       "      <th>11</th>\n",
       "      <th>1989</th>\n",
       "      <td>11792.0</td>\n",
       "    </tr>\n",
       "  </tbody>\n",
       "</table>\n",
       "</div>"
      ],
      "text/plain": [
       "                                                              SumOfattendance\n",
       "property                          recordedMonth recordedYear                 \n",
       "Agate Beach State Recreation Site 7             1989                  37656.0\n",
       "                                  8             1989                  35544.0\n",
       "                                  9             1989                  28316.0\n",
       "                                  10            1989                  16580.0\n",
       "                                  11            1989                  11792.0"
      ]
     },
     "execution_count": 6,
     "metadata": {},
     "output_type": "execute_result"
    }
   ],
   "source": [
    "or_day_user_monthly.head()"
   ]
  },
  {
   "cell_type": "code",
   "execution_count": 7,
   "metadata": {},
   "outputs": [
    {
     "data": {
      "text/html": [
       "<div>\n",
       "<style scoped>\n",
       "    .dataframe tbody tr th:only-of-type {\n",
       "        vertical-align: middle;\n",
       "    }\n",
       "\n",
       "    .dataframe tbody tr th {\n",
       "        vertical-align: top;\n",
       "    }\n",
       "\n",
       "    .dataframe thead th {\n",
       "        text-align: right;\n",
       "    }\n",
       "</style>\n",
       "<table border=\"1\" class=\"dataframe\">\n",
       "  <thead>\n",
       "    <tr style=\"text-align: right;\">\n",
       "      <th></th>\n",
       "      <th>SumOfattendance</th>\n",
       "    </tr>\n",
       "    <tr>\n",
       "      <th>property</th>\n",
       "      <th></th>\n",
       "    </tr>\n",
       "  </thead>\n",
       "  <tbody>\n",
       "    <tr>\n",
       "      <th>Agate Beach State Recreation Site</th>\n",
       "      <td>158136.0</td>\n",
       "    </tr>\n",
       "    <tr>\n",
       "      <th>Alderwood State Wayside</th>\n",
       "      <td>51058.0</td>\n",
       "    </tr>\n",
       "    <tr>\n",
       "      <th>Alfred A. Loeb State Park</th>\n",
       "      <td>122526.0</td>\n",
       "    </tr>\n",
       "    <tr>\n",
       "      <th>Arcadia Beach State Recreation Site</th>\n",
       "      <td>126172.0</td>\n",
       "    </tr>\n",
       "    <tr>\n",
       "      <th>Arizona Beach</th>\n",
       "      <td>43130.0</td>\n",
       "    </tr>\n",
       "    <tr>\n",
       "      <th>...</th>\n",
       "      <td>...</td>\n",
       "    </tr>\n",
       "    <tr>\n",
       "      <th>Winchuck State Recreation Site</th>\n",
       "      <td>12264.0</td>\n",
       "    </tr>\n",
       "    <tr>\n",
       "      <th>Wyeth State Recreation Area</th>\n",
       "      <td>145290.0</td>\n",
       "    </tr>\n",
       "    <tr>\n",
       "      <th>Yachats Ocean Road State Natural Site</th>\n",
       "      <td>324644.0</td>\n",
       "    </tr>\n",
       "    <tr>\n",
       "      <th>Yachats State Recreation Area</th>\n",
       "      <td>553702.0</td>\n",
       "    </tr>\n",
       "    <tr>\n",
       "      <th>Yaquina Bay State Recreation Site</th>\n",
       "      <td>1533712.0</td>\n",
       "    </tr>\n",
       "  </tbody>\n",
       "</table>\n",
       "<p>173 rows × 1 columns</p>\n",
       "</div>"
      ],
      "text/plain": [
       "                                       SumOfattendance\n",
       "property                                              \n",
       "Agate Beach State Recreation Site             158136.0\n",
       "Alderwood State Wayside                        51058.0\n",
       "Alfred A. Loeb State Park                     122526.0\n",
       "Arcadia Beach State Recreation Site           126172.0\n",
       "Arizona Beach                                  43130.0\n",
       "...                                                ...\n",
       "Winchuck State Recreation Site                 12264.0\n",
       "Wyeth State Recreation Area                   145290.0\n",
       "Yachats Ocean Road State Natural Site         324644.0\n",
       "Yachats State Recreation Area                 553702.0\n",
       "Yaquina Bay State Recreation Site            1533712.0\n",
       "\n",
       "[173 rows x 1 columns]"
      ]
     },
     "execution_count": 7,
     "metadata": {},
     "output_type": "execute_result"
    }
   ],
   "source": [
    "or_reproduced_day_annual = or_day_user_monthly.groupby(['recordedYear', 'property']).sum()\n",
    "or_reproduced_day_annual.loc[2020]"
   ]
  },
  {
   "cell_type": "code",
   "execution_count": 11,
   "metadata": {},
   "outputs": [
    {
     "data": {
      "text/plain": [
       "Location\n",
       "AGATE BEACH STATE RECREATION SITE           158136.0\n",
       "ALFRED A LOEB STATE PARK                    122526.0\n",
       "ALSEA BAY HISTORIC INTERPRETIVE CENTER           NaN\n",
       "ARCADIA BEACH STATE RECREATION SITE         126172.0\n",
       "ARIZONA BEACH                                43130.0\n",
       "                                             ...    \n",
       "WARM SPRINGS STATE RECREATION SITE          215644.0\n",
       "WHITE RIVER FALLS STATE PARK                 45044.0\n",
       "Total Mountain Region                      9833322.5\n",
       "NaN                                              NaN\n",
       "Total Statewide                           42912867.5\n",
       "Name: 2020 (updated 2-10-2021), Length: 186, dtype: float64"
      ]
     },
     "execution_count": 11,
     "metadata": {},
     "output_type": "execute_result"
    }
   ],
   "source": [
    "or_annual_day.iloc[:,-1]"
   ]
  },
  {
   "cell_type": "markdown",
   "metadata": {},
   "source": [
    "Alright, checked a few by eye (I know not very rigorous but didn't want to spend a bunch of time on this) and they are matching up, so I'll just keep the monthly totals and make life easier for me."
   ]
  },
  {
   "cell_type": "markdown",
   "metadata": {},
   "source": [
    "So let's make 2 datasets, one for WA parks and one for OR parks, just to keep things organized since they are state parks anywho. I'll have them as both monthly intervals for their respective time periods."
   ]
  },
  {
   "cell_type": "markdown",
   "metadata": {},
   "source": [
    "### WA State Parks"
   ]
  },
  {
   "cell_type": "code",
   "execution_count": 22,
   "metadata": {},
   "outputs": [
    {
     "name": "stdout",
     "output_type": "stream",
     "text": [
      "['January', 'February', 'March', 'April', 'May', 'June', 'July', 'August', 'September', 'October', 'November', 'December']\n"
     ]
    }
   ],
   "source": [
    "months = list(wa_day_use.columns)[:-1]\n",
    "print(months)"
   ]
  },
  {
   "cell_type": "code",
   "execution_count": 29,
   "metadata": {},
   "outputs": [
    {
     "data": {
      "text/plain": [
       "[2016, 2017, 2018, 2019, 2020, 2014, 2015]"
      ]
     },
     "execution_count": 29,
     "metadata": {},
     "output_type": "execute_result"
    }
   ],
   "source": [
    "wa_years = list(set([dex[0] for dex in wa_day_use.index]))\n",
    "wa_years"
   ]
  },
  {
   "cell_type": "code",
   "execution_count": null,
   "metadata": {},
   "outputs": [],
   "source": [
    "revised_wa_park_visits = pd.DataFrame(index=pd.date_range(start=f\"{wa_years[0]}\", end=f\"{wa_years[-1]}\", freq=\"MS\"), columns=wa_parks)\n",
    "\n",
    "errors = []\n",
    "\n",
    "for park in wa_parks:\n",
    "    for year in wa_years:\n",
    "        for month_num, month in enumerate(months):\n",
    "            try:\n",
    "                revised_wa_park_visits[]"
   ]
  }
 ],
 "metadata": {
  "interpreter": {
   "hash": "5585d616cc037afe4e5997f9d5ad9938ec3148b25e01a6d2931d801949bec716"
  },
  "kernelspec": {
   "display_name": "Python 3.7.12 ('sedi')",
   "language": "python",
   "name": "python3"
  },
  "language_info": {
   "codemirror_mode": {
    "name": "ipython",
    "version": 3
   },
   "file_extension": ".py",
   "mimetype": "text/x-python",
   "name": "python",
   "nbconvert_exporter": "python",
   "pygments_lexer": "ipython3",
   "version": "3.7.12"
  },
  "orig_nbformat": 4
 },
 "nbformat": 4,
 "nbformat_minor": 2
}
