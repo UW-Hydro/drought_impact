{
 "cells": [
  {
   "cell_type": "markdown",
   "metadata": {},
   "source": [
    "# Drought Event Network\n",
    "\n",
    "a. stein 7.28.2022\n",
    "\n",
    "Okay. So following `explore/drought_tracking.ipynb` I did `quality_control/tset_drought_event_plot.ipynb` and found that while blob identifying and connecting over time works ... the id system is a nightmare and not very smooth to use, especially as I realized during testing that I needed one extra set of parenthesis around a split to make the id's unique. This makes sorting them a further pain and there isn't a great way to trace history despite the id being unique (writing something to then process sorting is really annoying). So, let's try making a nodal network to keep track of it instead in combination with networkx."
   ]
  },
  {
   "cell_type": "code",
   "execution_count": 1,
   "metadata": {},
   "outputs": [
    {
     "name": "stdout",
     "output_type": "stream",
     "text": [
      "Populating the interactive namespace from numpy and matplotlib\n"
     ]
    },
    {
     "name": "stderr",
     "output_type": "stream",
     "text": [
      "/pool0/data/steinadi/.conda/envs/sedi/lib/python3.7/site-packages/ipykernel_launcher.py:14: TqdmExperimentalWarning: Using `tqdm.autonotebook.tqdm` in notebook mode. Use `tqdm.tqdm` instead to force console mode (e.g. in jupyter console)\n",
      "  \n"
     ]
    }
   ],
   "source": [
    "%pylab inline\n",
    "%load_ext autoreload\n",
    "%autoreload 2\n",
    "%reload_ext autoreload\n",
    "\n",
    "import xarray as xr\n",
    "import rioxarray\n",
    "import rasterio as rio\n",
    "import pandas as pd\n",
    "import geopandas as gpd\n",
    "\n",
    "import matplotlib.dates as mdates\n",
    "\n",
    "from tqdm.autonotebook import tqdm\n",
    "\n",
    "import sys\n",
    "sys.path.append('../../')\n",
    "import ndrought.wrangle as wrangle\n",
    "import ndrought.compare as compare\n",
    "import ndrought.plotting as ndplot\n",
    "\n",
    "import skimage\n",
    "\n",
    "from skimage.color import rgb2gray\n",
    "from skimage.measure import regionprops_table\n",
    "\n",
    "import networkx as nx"
   ]
  },
  {
   "cell_type": "markdown",
   "metadata": {},
   "source": [
    "Let's get our simpler test case up in here."
   ]
  },
  {
   "cell_type": "code",
   "execution_count": 2,
   "metadata": {},
   "outputs": [],
   "source": [
    "def tick(matrix):\n",
    "    new_state = np.copy(matrix)\n",
    "\n",
    "    i_dim, j_dim = matrix.shape\n",
    "\n",
    "    for i in range(i_dim):\n",
    "        for j in range(j_dim):\n",
    "            north = matrix[i][j-1] if j>0 else 0\n",
    "            south = matrix[i][j+1] if j<(j_dim-1) else 0\n",
    "            west = matrix[i+1][j] if i<(i_dim-1) else 0\n",
    "            east = matrix[i-1][j] if i>0 else 0\n",
    "            se = matrix[i+1][j+1] if i<(i_dim-1) and j<(j_dim-1) else 0\n",
    "            sw = matrix[i+1][j-1] if i<(i_dim-1) and j>0 else 0\n",
    "            ne = matrix[i-1][j+1] if i>0 and j<(j_dim-1) else 0\n",
    "            nw = matrix[i-1][j-1] if i>0 and j>0 else 0\n",
    "            neighbors = np.sum([north, south, west, east, se, sw, ne, nw])\n",
    "\n",
    "            # rules\n",
    "            if matrix[i][j] == 0 and neighbors == 3: # reproduction\n",
    "                new_state[i][j] = 1\n",
    "            elif matrix[i][j] == 1 and neighbors < 2: # underpopulation\n",
    "                new_state[i][j] = 0\n",
    "            elif matrix[i][j] == 1 and neighbors > 3: # overpopulation\n",
    "                new_state[i][j] = 0\n",
    "            elif matrix[i][j] == 1 and neighbors == 2: # survives\n",
    "                new_state[i][j] = 1\n",
    "            elif matrix[i][j] == 1 and neighbors == 3: # also survives\n",
    "                new_state[i][j] = 1\n",
    "\n",
    "    return new_state"
   ]
  },
  {
   "cell_type": "code",
   "execution_count": 3,
   "metadata": {},
   "outputs": [],
   "source": [
    "# this was originally generated randomly using the same method method as\n",
    "# before, but I have now hard coded it to have a consistent test example\n",
    "test_matrix = np.array([\n",
    "    [0, 0, 0, 0, 0],\n",
    "    [0, 1, 1, 0, 1],\n",
    "    [1, 1, 0, 0, 1],\n",
    "    [1, 1, 1, 0, 1],\n",
    "    [0, 0, 1, 0, 1]\n",
    "])"
   ]
  },
  {
   "cell_type": "code",
   "execution_count": 4,
   "metadata": {},
   "outputs": [
    {
     "data": {
      "image/png": "[encoded data removed]",
      "text/plain": [
       "<Figure size 720x432 with 8 Axes>"
      ]
     },
     "metadata": {
      "needs_background": "light"
     },
     "output_type": "display_data"
    }
   ],
   "source": [
    "fig, axs = plt.subplots(2, 4, figsize=(10,6))\n",
    "\n",
    "test_series = []\n",
    "plot_matrix = test_matrix\n",
    "\n",
    "for i, ax in enumerate(axs.ravel()):\n",
    "    test_series.append(plot_matrix)\n",
    "    ax.imshow(plot_matrix)\n",
    "    plot_matrix = tick(plot_matrix)\n",
    "\n",
    "    ax.set_title(i)\n",
    "\n",
    "plt.tight_layout()"
   ]
  },
  {
   "cell_type": "code",
   "execution_count": 5,
   "metadata": {},
   "outputs": [],
   "source": [
    "test_series = np.array(test_series)"
   ]
  },
  {
   "cell_type": "code",
   "execution_count": 6,
   "metadata": {},
   "outputs": [],
   "source": [
    "class EventNode():\n",
    "\n",
    "    def __init__(self, time, area, coords, id):\n",
    "        self.time = time\n",
    "        self.area = area\n",
    "        self.coords = coords\n",
    "        self.id = id\n",
    "        self.future: List[EventNode] = list()\n",
    "\n",
    "    def __str__(self):\n",
    "        future_events = list()\n",
    "        for future_EventNode in self.future:\n",
    "            future_events.append(future_EventNode.id)\n",
    "        return f'time: {self.time}, id: {self.id}, futures: {future_events}'\n",
    "\n",
    "    def __iter__(self):\n",
    "        yield self\n",
    "        for node in self.future:\n",
    "            yield node\n",
    "\n",
    "    def __repr__(self):\n",
    "        return f'time: {self.time}, id: {self.id}'\n",
    "\n",
    "    def append_future(self, other):\n",
    "        self.future.append(other)\n",
    "\n",
    "    def check_connects(self, other, auto_connect=True):\n",
    "        \n",
    "        connection_found = False\n",
    "\n",
    "        self_coord_set = set(tuple(coord) for coord in self.coords)\n",
    "        other_coord_set = set(tuple(coord) for coord in other.coords)\n",
    "\n",
    "        if len(self_coord_set.intersection(other_coord_set)) > 0:\n",
    "            connection_found = True\n",
    "            if auto_connect:\n",
    "                self.append_future(other)\n",
    "        \n",
    "        return connection_found\n",
    "\n",
    "    def get_future_thread(self, futures=[]):\n",
    "        if self not in futures:\n",
    "            futures.append(self)\n",
    "       \n",
    "        for node in self.future:\n",
    "            futures = node.get_future_thread(futures)\n",
    "        \n",
    "        return futures"
   ]
  },
  {
   "cell_type": "markdown",
   "metadata": {},
   "source": [
    "Okay, I think above is a fairly good starting point for this class. I need to do the following:\n",
    "- try constructing a string of `EventNode`'s and see if they match a test version\n",
    "- figure out how to transition from nodes to timeseries\n",
    "- figure out how to hold all the nodes for a timeseries together, given they can stop and end and may not all be connected"
   ]
  },
  {
   "cell_type": "code",
   "execution_count": 7,
   "metadata": {},
   "outputs": [],
   "source": [
    "def create_EventNodes(vals:np.ndarray, time=0, id=0):\n",
    "    df = wrangle.identify_drought_blob(vals)\n",
    "    nodes = []\n",
    "    for i in np.arange(len(df)):\n",
    "        node = EventNode(\n",
    "            time=time,\n",
    "            area=df['area'].values[i],\n",
    "            coords=df['coords'].values[i],\n",
    "            id=id\n",
    "        )\n",
    "        nodes.append(node)\n",
    "        id += 1\n",
    "\n",
    "    # hopeful optimization\n",
    "    df = None\n",
    "\n",
    "    return nodes, id"
   ]
  },
  {
   "cell_type": "code",
   "execution_count": 8,
   "metadata": {},
   "outputs": [],
   "source": [
    "test_nodes = []\n",
    "id = 0\n",
    "for i, data in enumerate(test_series):\n",
    "    nodes, id = create_EventNodes(data, time=i, id=id)\n",
    "    test_nodes.append(nodes)"
   ]
  },
  {
   "cell_type": "code",
   "execution_count": 9,
   "metadata": {},
   "outputs": [
    {
     "data": {
      "text/plain": [
       "[[time: 0, id: 0, time: 0, id: 1],\n",
       " [time: 1, id: 2, time: 1, id: 3, time: 1, id: 4],\n",
       " [time: 2, id: 5, time: 2, id: 6],\n",
       " [time: 3, id: 7],\n",
       " [time: 4, id: 8],\n",
       " [time: 5, id: 9, time: 5, id: 10],\n",
       " [time: 6, id: 11, time: 6, id: 12, time: 6, id: 13],\n",
       " [time: 7, id: 14, time: 7, id: 15]]"
      ]
     },
     "execution_count": 9,
     "metadata": {},
     "output_type": "execute_result"
    }
   ],
   "source": [
    "test_nodes"
   ]
  },
  {
   "cell_type": "code",
   "execution_count": 10,
   "metadata": {},
   "outputs": [
    {
     "name": "stdout",
     "output_type": "stream",
     "text": [
      "time: 0, id: 0, futures: []\n"
     ]
    }
   ],
   "source": [
    "print(test_nodes[0][0])"
   ]
  },
  {
   "cell_type": "markdown",
   "metadata": {},
   "source": [
    "Yay, nothing blew up."
   ]
  },
  {
   "cell_type": "code",
   "execution_count": 11,
   "metadata": {},
   "outputs": [],
   "source": [
    "for i in np.arange(len(test_nodes)-1):\n",
    "    for node in test_nodes[i]:\n",
    "        for potential_future in test_nodes[i+1]:\n",
    "            node.check_connects(potential_future)"
   ]
  },
  {
   "cell_type": "code",
   "execution_count": 12,
   "metadata": {},
   "outputs": [
    {
     "name": "stdout",
     "output_type": "stream",
     "text": [
      "time: 0, id: 0, futures: [2, 3, 4]\n"
     ]
    }
   ],
   "source": [
    "print(test_nodes[0][0])"
   ]
  },
  {
   "cell_type": "markdown",
   "metadata": {},
   "source": [
    "Does the iteration work?"
   ]
  },
  {
   "cell_type": "code",
   "execution_count": 13,
   "metadata": {},
   "outputs": [
    {
     "name": "stdout",
     "output_type": "stream",
     "text": [
      "time: 0, id: 0, futures: [2, 3, 4]\n",
      "time: 1, id: 2, futures: [5]\n",
      "time: 1, id: 3, futures: []\n",
      "time: 1, id: 4, futures: []\n"
     ]
    }
   ],
   "source": [
    "for node in test_nodes[0][0]:\n",
    "    print(node)"
   ]
  },
  {
   "cell_type": "markdown",
   "metadata": {},
   "source": [
    "Nice."
   ]
  },
  {
   "cell_type": "markdown",
   "metadata": {},
   "source": [
    "That's looking promising knowing one of them does do a 3-way split. Let's get the history codes in there"
   ]
  },
  {
   "cell_type": "markdown",
   "metadata": {},
   "source": [
    "I'mma be needing to make an overarching class to contain all the events and maintain an encoding scheme."
   ]
  },
  {
   "cell_type": "code",
   "execution_count": 14,
   "metadata": {},
   "outputs": [],
   "source": [
    "class DroughtNetwork:\n",
    "\n",
    "    def __init__(self, data):\n",
    "        self.data = data\n",
    "        self.origins: List[EventNode] = list()\n",
    "        self.nodes: List[EventNode] = list()\n",
    "\n",
    "        # go through and setup network\n",
    "        last_nodes = []\n",
    "        id = 0\n",
    "        for i in np.arange(data.shape[0]):\n",
    "            nodes_i, id = create_EventNodes(data[i,:,:], time=i, id=id)\n",
    "            # see if we currently found some droughts\n",
    "            if len(nodes_i) > 0:\n",
    "                # and if last time step there were droughts\n",
    "                # that this might connect to;\n",
    "                # also make sure to keep the list of all nodes\n",
    "                # going strong\n",
    "                self.nodes.extend(nodes_i)\n",
    "                if len(last_nodes) > 0:\n",
    "                    for node in nodes_i:\n",
    "                        # loop through the last nodes \n",
    "                        # to see if there is a connection\n",
    "                        connection_found = False\n",
    "                        for l, last_node in enumerate(last_nodes):\n",
    "                            check = last_node.check_connects(node)\n",
    "                            if check:                \n",
    "                                connection_found = True\n",
    "                        if not connection_found:\n",
    "                            # if we couldn't find a connection\n",
    "                            # then I'm considering it a new\n",
    "                            # event for now\n",
    "                            self.origins.append(node)\n",
    "                else:\n",
    "                    self.origins.extend(nodes_i)\n",
    "                # need to preserve that we just had droughts\n",
    "                # for the next time step\n",
    "                last_nodes = nodes_i\n",
    "            else:\n",
    "                # if nothing was found, clear the holding list\n",
    "                last_nodes = []\n",
    "\n",
    "            # lastly, let's setup and adjacency matrix\n",
    "            # the id will have been the last id plus 1,\n",
    "            # which is great to set array dimensions\n",
    "            self.adj_mat = np.zeros((id, id))\n",
    "            for node in self.nodes:\n",
    "                i_id = node.id\n",
    "                for future in node.future:\n",
    "                    j_id = future.id\n",
    "                    self.adj_mat[i_id, j_id] = 1\n",
    "        \n",
    "    def find_node_by_id(self, id)  :\n",
    "        for node in self.nodes:\n",
    "            if node.id == id:\n",
    "                return node\n",
    "        \n",
    "        raise Exception(f'id: {id} not in network')\n",
    "            \n",
    "    def get_chronological_future_thread(self, id):\n",
    "        node = self.find_node_by_id(id)\n",
    "        nodes_to_sort = node.get_future_thread().copy()\n",
    "        sorted_nodes = [nodes_to_sort[0]]\n",
    " \n",
    "        if len(nodes_to_sort) > 1:\n",
    "            for node in nodes_to_sort[1:]:\n",
    "                if node.time >= sorted_nodes[-1].time:\n",
    "                    sorted_nodes.append(node)\n",
    "                else:\n",
    "                    i = 0\n",
    "                    while i <= len(sorted_nodes) and node.time > sorted_nodes[i].time:\n",
    "                        i += 1\n",
    "                    sorted_nodes.insert(i, node)\n",
    "\n",
    "        # toss a little check in here\n",
    "        if len(nodes_to_sort) != len(sorted_nodes):\n",
    "            raise Exception('Something went wrong during sorting, check code.')\n",
    "\n",
    "        return sorted_nodes\n",
    "\n",
    "    def time_slice(start_time, end_time, id=None):\n",
    "        # needs testing\n",
    "        if id:\n",
    "            # an option to combine the features of the two\n",
    "            # functions\n",
    "            nodes = self.get_chronological_future_thread(id)\n",
    "        else:\n",
    "            nodes = self.nodes\n",
    "        \n",
    "        time_sliced = []\n",
    "        for node in nodes:\n",
    "            t = node.time\n",
    "            if t >= start_time and t <= end_time:\n",
    "                time_sliced.append(node)\n",
    "        \n",
    "        return time_sliced\n",
    "\n",
    "    def get_nx_network(self, id=None):\n",
    "\n",
    "        topog = nx.from_numpy_array(self.adj_mat)\n",
    "\n",
    "        if id:\n",
    "            plot_nodes = self.get_chronological_future_thread(id)\n",
    "        else:\n",
    "            plot_nodes = self.nodes\n",
    "\n",
    "        plot_ids = [node.id for node in plot_nodes]\n",
    "        print(plot_ids)\n",
    "        \n",
    "        if plot_nodes != self.nodes:\n",
    "            for node in self.nodes:\n",
    "                if node.id not in plot_ids:\n",
    "                    print(node.id)\n",
    "                    topog.remove_node(node.id)\n",
    "        \n",
    "        pos = nx.drawing.nx_agraph.graphviz_layout(topog, prog= 'dot')\n",
    "\n",
    "        return topog, pos\n",
    "\n",
    "    \n",
    "\n",
    "    "
   ]
  },
  {
   "cell_type": "code",
   "execution_count": 15,
   "metadata": {},
   "outputs": [
    {
     "data": {
      "text/plain": [
       "<__main__.DroughtNetwork at 0x7fd8bea10550>"
      ]
     },
     "execution_count": 15,
     "metadata": {},
     "output_type": "execute_result"
    }
   ],
   "source": [
    "drought_network = DroughtNetwork(test_series)\n",
    "drought_network"
   ]
  },
  {
   "cell_type": "code",
   "execution_count": 16,
   "metadata": {},
   "outputs": [
    {
     "data": {
      "text/plain": [
       "[time: 0, id: 0, time: 0, id: 1, time: 2, id: 6]"
      ]
     },
     "execution_count": 16,
     "metadata": {},
     "output_type": "execute_result"
    }
   ],
   "source": [
    "drought_network.origins"
   ]
  },
  {
   "cell_type": "code",
   "execution_count": 17,
   "metadata": {},
   "outputs": [
    {
     "data": {
      "text/plain": [
       "[time: 0, id: 0,\n",
       " time: 0, id: 1,\n",
       " time: 1, id: 2,\n",
       " time: 1, id: 3,\n",
       " time: 1, id: 4,\n",
       " time: 2, id: 5,\n",
       " time: 2, id: 6,\n",
       " time: 3, id: 7,\n",
       " time: 4, id: 8,\n",
       " time: 5, id: 9,\n",
       " time: 5, id: 10,\n",
       " time: 6, id: 11,\n",
       " time: 6, id: 12,\n",
       " time: 6, id: 13,\n",
       " time: 7, id: 14,\n",
       " time: 7, id: 15]"
      ]
     },
     "execution_count": 17,
     "metadata": {},
     "output_type": "execute_result"
    }
   ],
   "source": [
    "drought_network.nodes"
   ]
  },
  {
   "cell_type": "code",
   "execution_count": 18,
   "metadata": {},
   "outputs": [
    {
     "data": {
      "text/plain": [
       "0"
      ]
     },
     "execution_count": 18,
     "metadata": {},
     "output_type": "execute_result"
    }
   ],
   "source": [
    "drought_network.origins[0].id"
   ]
  },
  {
   "cell_type": "code",
   "execution_count": 19,
   "metadata": {},
   "outputs": [
    {
     "name": "stdout",
     "output_type": "stream",
     "text": [
      "time: 0, id: 0, futures: [2, 3, 4]\n",
      "time: 0, id: 1, futures: [2]\n",
      "time: 1, id: 2, futures: [5]\n",
      "time: 1, id: 3, futures: []\n",
      "time: 1, id: 4, futures: []\n",
      "time: 2, id: 5, futures: [7]\n",
      "time: 2, id: 6, futures: []\n",
      "time: 3, id: 7, futures: [8]\n",
      "time: 4, id: 8, futures: [9, 10]\n",
      "time: 5, id: 9, futures: [11, 12]\n",
      "time: 5, id: 10, futures: [12, 13]\n",
      "time: 6, id: 11, futures: [14]\n",
      "time: 6, id: 12, futures: [14, 15]\n",
      "time: 6, id: 13, futures: []\n",
      "time: 7, id: 14, futures: []\n",
      "time: 7, id: 15, futures: []\n"
     ]
    }
   ],
   "source": [
    "for node in drought_network.nodes:\n",
    "    print(node)"
   ]
  },
  {
   "cell_type": "markdown",
   "metadata": {},
   "source": [
    "That's looking good, what about codes?\n",
    "\n",
    "Splits should be easy enough to identify ... that'll just be multiple futures. Merges however, will need to see if the same node exists at the same time step in multiple futures I think ..."
   ]
  },
  {
   "cell_type": "code",
   "execution_count": 20,
   "metadata": {},
   "outputs": [],
   "source": [
    "origins = drought_network.origins"
   ]
  },
  {
   "cell_type": "markdown",
   "metadata": {},
   "source": [
    "Going to test equivalency ..."
   ]
  },
  {
   "cell_type": "code",
   "execution_count": 21,
   "metadata": {},
   "outputs": [
    {
     "data": {
      "text/plain": [
       "True"
      ]
     },
     "execution_count": 21,
     "metadata": {},
     "output_type": "execute_result"
    }
   ],
   "source": [
    "origins[0] == origins[0]"
   ]
  },
  {
   "cell_type": "code",
   "execution_count": 22,
   "metadata": {},
   "outputs": [
    {
     "data": {
      "text/plain": [
       "False"
      ]
     },
     "execution_count": 22,
     "metadata": {},
     "output_type": "execute_result"
    }
   ],
   "source": [
    "origins[0] == origins[1]"
   ]
  },
  {
   "cell_type": "code",
   "execution_count": 23,
   "metadata": {},
   "outputs": [
    {
     "data": {
      "text/plain": [
       "[time: 0, id: 0,\n",
       " time: 1, id: 2,\n",
       " time: 2, id: 5,\n",
       " time: 3, id: 7,\n",
       " time: 4, id: 8,\n",
       " time: 5, id: 9,\n",
       " time: 6, id: 11,\n",
       " time: 7, id: 14,\n",
       " time: 6, id: 12,\n",
       " time: 7, id: 15,\n",
       " time: 5, id: 10,\n",
       " time: 6, id: 13,\n",
       " time: 1, id: 3,\n",
       " time: 1, id: 4]"
      ]
     },
     "execution_count": 23,
     "metadata": {},
     "output_type": "execute_result"
    }
   ],
   "source": [
    "origins[0].get_future_thread()"
   ]
  },
  {
   "cell_type": "markdown",
   "metadata": {},
   "source": [
    "I think I want to sort that by time ..."
   ]
  },
  {
   "cell_type": "code",
   "execution_count": 24,
   "metadata": {},
   "outputs": [
    {
     "data": {
      "text/plain": [
       "[time: 0, id: 0,\n",
       " time: 1, id: 4,\n",
       " time: 1, id: 3,\n",
       " time: 1, id: 2,\n",
       " time: 2, id: 5,\n",
       " time: 3, id: 7,\n",
       " time: 4, id: 8,\n",
       " time: 5, id: 10,\n",
       " time: 5, id: 9,\n",
       " time: 6, id: 13,\n",
       " time: 6, id: 12,\n",
       " time: 6, id: 11,\n",
       " time: 7, id: 14,\n",
       " time: 7, id: 15]"
      ]
     },
     "execution_count": 24,
     "metadata": {},
     "output_type": "execute_result"
    }
   ],
   "source": [
    "nodes_to_sort = origins[0].get_future_thread().copy()\n",
    "sorted_nodes = [nodes_to_sort[0]]\n",
    "\n",
    "for node in nodes_to_sort[1:]:\n",
    "    if node.time >= sorted_nodes[-1].time:\n",
    "        sorted_nodes.append(node)\n",
    "    else:\n",
    "        #print(node.time)\n",
    "        i = 0\n",
    "        while i <= len(sorted_nodes) and node.time > sorted_nodes[i].time:\n",
    "            i += 1\n",
    "        sorted_nodes.insert(i, node)\n",
    "\n",
    "sorted_nodes"
   ]
  },
  {
   "cell_type": "code",
   "execution_count": 25,
   "metadata": {},
   "outputs": [
    {
     "data": {
      "text/plain": [
       "time: 2, id: 5"
      ]
     },
     "execution_count": 25,
     "metadata": {},
     "output_type": "execute_result"
    }
   ],
   "source": [
    "node_5 = drought_network.find_node_by_id(5)\n",
    "node_5"
   ]
  },
  {
   "cell_type": "code",
   "execution_count": 28,
   "metadata": {},
   "outputs": [
    {
     "name": "stdout",
     "output_type": "stream",
     "text": [
      "time: 2, id: 5, futures: [7]\n"
     ]
    }
   ],
   "source": [
    "print(node_5)"
   ]
  },
  {
   "cell_type": "code",
   "execution_count": 26,
   "metadata": {},
   "outputs": [
    {
     "data": {
      "text/plain": [
       "[time: 0, id: 0,\n",
       " time: 1, id: 2,\n",
       " time: 2, id: 5,\n",
       " time: 3, id: 7,\n",
       " time: 4, id: 8,\n",
       " time: 5, id: 9,\n",
       " time: 6, id: 11,\n",
       " time: 7, id: 14,\n",
       " time: 6, id: 12,\n",
       " time: 7, id: 15,\n",
       " time: 5, id: 10,\n",
       " time: 6, id: 13,\n",
       " time: 1, id: 3,\n",
       " time: 1, id: 4]"
      ]
     },
     "execution_count": 26,
     "metadata": {},
     "output_type": "execute_result"
    }
   ],
   "source": [
    "node_5.get_future_thread()"
   ]
  },
  {
   "cell_type": "markdown",
   "metadata": {},
   "source": [
    "Well that's not right."
   ]
  },
  {
   "cell_type": "code",
   "execution_count": 37,
   "metadata": {},
   "outputs": [
    {
     "data": {
      "text/plain": [
       "[time: 0, id: 0,\n",
       " time: 1, id: 4,\n",
       " time: 1, id: 3,\n",
       " time: 1, id: 2,\n",
       " time: 2, id: 5,\n",
       " time: 3, id: 7,\n",
       " time: 4, id: 8,\n",
       " time: 5, id: 10,\n",
       " time: 5, id: 9,\n",
       " time: 6, id: 13,\n",
       " time: 6, id: 12,\n",
       " time: 6, id: 11,\n",
       " time: 7, id: 14,\n",
       " time: 7, id: 15]"
      ]
     },
     "execution_count": 37,
     "metadata": {},
     "output_type": "execute_result"
    }
   ],
   "source": [
    "drought_network.get_chronological_future_thread(5)"
   ]
  },
  {
   "cell_type": "markdown",
   "metadata": {},
   "source": [
    "Woot, a sorting algorithm that was sooo much easier than before. Ah, but this destroys the higher up structures ... frick. At least that's maybe useful for plotting? idk. might be useful post codes"
   ]
  },
  {
   "cell_type": "markdown",
   "metadata": {},
   "source": [
    "Going to add the above to the `DroughtNetwork` class"
   ]
  },
  {
   "cell_type": "markdown",
   "metadata": {},
   "source": [
    "I'm wondering ... do I need a unique numbering scheme if they're connected in a network? I can just count them ... cause that sorting algorithm let's me get the thread fine\n"
   ]
  },
  {
   "cell_type": "markdown",
   "metadata": {},
   "source": [
    "Let's try making a networkx plot of this"
   ]
  },
  {
   "cell_type": "code",
   "execution_count": 25,
   "metadata": {},
   "outputs": [],
   "source": [
    "import networkx as nx"
   ]
  },
  {
   "cell_type": "markdown",
   "metadata": {},
   "source": [
    "Following what I've done before, I can make an adjacency matrix and then compose a graph from that."
   ]
  },
  {
   "cell_type": "code",
   "execution_count": 26,
   "metadata": {},
   "outputs": [
    {
     "data": {
      "text/plain": [
       "array([[0., 0., 0., 0., 0., 0., 0., 0., 0., 0., 0., 0., 0., 0., 0., 0.],\n",
       "       [0., 0., 0., 0., 0., 0., 0., 0., 0., 0., 0., 0., 0., 0., 0., 0.],\n",
       "       [0., 0., 0., 0., 0., 0., 0., 0., 0., 0., 0., 0., 0., 0., 0., 0.],\n",
       "       [0., 0., 0., 0., 0., 0., 0., 0., 0., 0., 0., 0., 0., 0., 0., 0.],\n",
       "       [0., 0., 0., 0., 0., 0., 0., 0., 0., 0., 0., 0., 0., 0., 0., 0.],\n",
       "       [0., 0., 0., 0., 0., 0., 0., 0., 0., 0., 0., 0., 0., 0., 0., 0.],\n",
       "       [0., 0., 0., 0., 0., 0., 0., 0., 0., 0., 0., 0., 0., 0., 0., 0.],\n",
       "       [0., 0., 0., 0., 0., 0., 0., 0., 0., 0., 0., 0., 0., 0., 0., 0.],\n",
       "       [0., 0., 0., 0., 0., 0., 0., 0., 0., 0., 0., 0., 0., 0., 0., 0.],\n",
       "       [0., 0., 0., 0., 0., 0., 0., 0., 0., 0., 0., 0., 0., 0., 0., 0.],\n",
       "       [0., 0., 0., 0., 0., 0., 0., 0., 0., 0., 0., 0., 0., 0., 0., 0.],\n",
       "       [0., 0., 0., 0., 0., 0., 0., 0., 0., 0., 0., 0., 0., 0., 0., 0.],\n",
       "       [0., 0., 0., 0., 0., 0., 0., 0., 0., 0., 0., 0., 0., 0., 0., 0.],\n",
       "       [0., 0., 0., 0., 0., 0., 0., 0., 0., 0., 0., 0., 0., 0., 0., 0.],\n",
       "       [0., 0., 0., 0., 0., 0., 0., 0., 0., 0., 0., 0., 0., 0., 0., 0.],\n",
       "       [0., 0., 0., 0., 0., 0., 0., 0., 0., 0., 0., 0., 0., 0., 0., 0.]])"
      ]
     },
     "execution_count": 26,
     "metadata": {},
     "output_type": "execute_result"
    }
   ],
   "source": [
    "size = 16\n",
    "adj_mat = np.zeros((size,size))\n",
    "adj_mat"
   ]
  },
  {
   "cell_type": "code",
   "execution_count": 27,
   "metadata": {},
   "outputs": [
    {
     "name": "stdout",
     "output_type": "stream",
     "text": [
      "0 2\n",
      "0 3\n",
      "0 4\n",
      "2 5\n",
      "5 7\n",
      "7 8\n",
      "8 9\n",
      "8 10\n",
      "10 12\n",
      "10 13\n",
      "9 11\n",
      "9 12\n",
      "12 14\n",
      "12 15\n",
      "11 14\n"
     ]
    },
    {
     "data": {
      "text/plain": [
       "array([[0., 0., 1., 1., 1., 0., 0., 0., 0., 0., 0., 0., 0., 0., 0., 0.],\n",
       "       [0., 0., 0., 0., 0., 0., 0., 0., 0., 0., 0., 0., 0., 0., 0., 0.],\n",
       "       [0., 0., 0., 0., 0., 1., 0., 0., 0., 0., 0., 0., 0., 0., 0., 0.],\n",
       "       [0., 0., 0., 0., 0., 0., 0., 0., 0., 0., 0., 0., 0., 0., 0., 0.],\n",
       "       [0., 0., 0., 0., 0., 0., 0., 0., 0., 0., 0., 0., 0., 0., 0., 0.],\n",
       "       [0., 0., 0., 0., 0., 0., 0., 1., 0., 0., 0., 0., 0., 0., 0., 0.],\n",
       "       [0., 0., 0., 0., 0., 0., 0., 0., 0., 0., 0., 0., 0., 0., 0., 0.],\n",
       "       [0., 0., 0., 0., 0., 0., 0., 0., 1., 0., 0., 0., 0., 0., 0., 0.],\n",
       "       [0., 0., 0., 0., 0., 0., 0., 0., 0., 1., 1., 0., 0., 0., 0., 0.],\n",
       "       [0., 0., 0., 0., 0., 0., 0., 0., 0., 0., 0., 1., 1., 0., 0., 0.],\n",
       "       [0., 0., 0., 0., 0., 0., 0., 0., 0., 0., 0., 0., 1., 1., 0., 0.],\n",
       "       [0., 0., 0., 0., 0., 0., 0., 0., 0., 0., 0., 0., 0., 0., 1., 0.],\n",
       "       [0., 0., 0., 0., 0., 0., 0., 0., 0., 0., 0., 0., 0., 0., 1., 1.],\n",
       "       [0., 0., 0., 0., 0., 0., 0., 0., 0., 0., 0., 0., 0., 0., 0., 0.],\n",
       "       [0., 0., 0., 0., 0., 0., 0., 0., 0., 0., 0., 0., 0., 0., 0., 0.],\n",
       "       [0., 0., 0., 0., 0., 0., 0., 0., 0., 0., 0., 0., 0., 0., 0., 0.]])"
      ]
     },
     "execution_count": 27,
     "metadata": {},
     "output_type": "execute_result"
    }
   ],
   "source": [
    "for node in sorted_nodes:\n",
    "    i_id = node.id\n",
    "    for future in node.future:\n",
    "        j_id = future.id\n",
    "        print(i_id, j_id)\n",
    "        adj_mat[i_id, j_id] = 1\n",
    "\n",
    "adj_mat"
   ]
  },
  {
   "cell_type": "code",
   "execution_count": 28,
   "metadata": {},
   "outputs": [],
   "source": [
    "topog = nx.from_numpy_matrix(adj_mat)\n",
    "pos = nx.drawing.nx_agraph.graphviz_layout(topog, prog= 'dot')"
   ]
  },
  {
   "cell_type": "code",
   "execution_count": 29,
   "metadata": {},
   "outputs": [
    {
     "data": {
      "image/png": "[encoded data removed]",
      "text/plain": [
       "<Figure size 432x288 with 1 Axes>"
      ]
     },
     "metadata": {},
     "output_type": "display_data"
    }
   ],
   "source": [
    "nx.draw_networkx(topog, pos)"
   ]
  },
  {
   "cell_type": "markdown",
   "metadata": {},
   "source": [
    "That looks correct, it's just that I selected out 0 as the thread, so 1 doesn't get attached right. Let's see if I can remove that"
   ]
  },
  {
   "cell_type": "code",
   "execution_count": 30,
   "metadata": {},
   "outputs": [],
   "source": [
    "topog.remove_node(1)\n",
    "topog.remove_node(6)"
   ]
  },
  {
   "cell_type": "code",
   "execution_count": 31,
   "metadata": {},
   "outputs": [
    {
     "data": {
      "image/png": "[encoded data removed]",
      "text/plain": [
       "<Figure size 432x288 with 1 Axes>"
      ]
     },
     "metadata": {},
     "output_type": "display_data"
    }
   ],
   "source": [
    "nx.draw_networkx(topog, pos)"
   ]
  },
  {
   "cell_type": "markdown",
   "metadata": {},
   "source": [
    "Nice, so could literally loop through id and get rid of whatever is needed"
   ]
  },
  {
   "cell_type": "markdown",
   "metadata": {},
   "source": [
    "There may be room for optimization by only constructing what is needed and then labeling accordingly, but this works for now."
   ]
  },
  {
   "cell_type": "markdown",
   "metadata": {},
   "source": [
    "Let's get these in that class as well. Then the last thing I want to do is be able to translate from the network to the timeseries ... a rather crucial part, but I'm not super worried given the time sorting works."
   ]
  },
  {
   "cell_type": "markdown",
   "metadata": {},
   "source": [
    "One thing that I'm thinking of is it could be helpful to give events that persist the same id's ... but this allows temporal visualization"
   ]
  },
  {
   "cell_type": "code",
   "execution_count": 32,
   "metadata": {},
   "outputs": [
    {
     "name": "stdout",
     "output_type": "stream",
     "text": [
      "0\n",
      "2\n",
      "3\n",
      "4\n",
      "5\n",
      "7\n",
      "8\n",
      "9\n",
      "10\n",
      "11\n",
      "12\n",
      "13\n",
      "14\n",
      "15\n"
     ]
    }
   ],
   "source": [
    "for node in topog.nodes:\n",
    "    print(node)"
   ]
  },
  {
   "cell_type": "code",
   "execution_count": 33,
   "metadata": {},
   "outputs": [
    {
     "data": {
      "image/png": "[encoded data removed]",
      "text/plain": [
       "<Figure size 432x288 with 1 Axes>"
      ]
     },
     "metadata": {},
     "output_type": "display_data"
    }
   ],
   "source": [
    "topog = nx.from_numpy_array(drought_network.adj_mat)\n",
    "pos = nx.drawing.nx_agraph.graphviz_layout(topog, prog= 'dot')\n",
    "\n",
    "nx.draw_networkx(topog, pos)"
   ]
  },
  {
   "cell_type": "markdown",
   "metadata": {},
   "source": [
    "Nice."
   ]
  },
  {
   "cell_type": "code",
   "execution_count": 34,
   "metadata": {},
   "outputs": [
    {
     "name": "stdout",
     "output_type": "stream",
     "text": [
      "[0, 1, 2, 3, 4, 5, 6, 7, 8, 9, 10, 11, 12, 13, 14, 15]\n"
     ]
    },
    {
     "data": {
      "image/png": "[encoded data removed]",
      "text/plain": [
       "<Figure size 432x288 with 1 Axes>"
      ]
     },
     "metadata": {},
     "output_type": "display_data"
    }
   ],
   "source": [
    "topog, pos = drought_network.get_nx_network()\n",
    "\n",
    "nx.draw_networkx(topog, pos)"
   ]
  },
  {
   "cell_type": "markdown",
   "metadata": {},
   "source": [
    "WOOT."
   ]
  },
  {
   "cell_type": "code",
   "execution_count": 35,
   "metadata": {},
   "outputs": [
    {
     "name": "stdout",
     "output_type": "stream",
     "text": [
      "[0, 4, 3, 2, 5, 7, 8, 10, 9, 13, 12, 11, 14, 15]\n",
      "1\n",
      "6\n"
     ]
    },
    {
     "data": {
      "image/png": "[encoded data removed]",
      "text/plain": [
       "<Figure size 432x288 with 1 Axes>"
      ]
     },
     "metadata": {},
     "output_type": "display_data"
    }
   ],
   "source": [
    "topog, pos = drought_network.get_nx_network(id=5)\n",
    "\n",
    "nx.draw_networkx(topog, pos)"
   ]
  },
  {
   "cell_type": "markdown",
   "metadata": {},
   "source": [
    "Huh, for some reason this only works right if I toss an extra print in there ..."
   ]
  },
  {
   "cell_type": "markdown",
   "metadata": {},
   "source": []
  },
  {
   "cell_type": "code",
   "execution_count": 4,
   "metadata": {},
   "outputs": [],
   "source": [
    "dm_path = '/pool0/home/steinadi/data/drought/drought_impact/data/drought_measures'\n",
    "\n",
    "paired_ds = xr.open_dataset(f'{dm_path}/ndrought_products/paired_USDM_SPI.nc')"
   ]
  },
  {
   "cell_type": "code",
   "execution_count": 6,
   "metadata": {},
   "outputs": [
    {
     "data": {
      "application/vnd.jupyter.widget-view+json": {
       "model_id": "ccec843c6ba14363bca8be5e3f1d7fdf",
       "version_major": 2,
       "version_minor": 0
      },
      "text/plain": [
       "Identifying Blobs:   0%|          | 0/1148 [00:00<?, ?it/s]"
      ]
     },
     "metadata": {},
     "output_type": "display_data"
    },
    {
     "data": {
      "application/vnd.jupyter.widget-view+json": {
       "model_id": "fb2c85ce1d714b7b98a9836d34b4a647",
       "version_major": 2,
       "version_minor": 0
      },
      "text/plain": [
       "Encoding Blobs:   0%|          | 0/1147 [00:00<?, ?it/s]"
      ]
     },
     "metadata": {},
     "output_type": "display_data"
    }
   ],
   "source": [
    "USDM_events = wrangle.encode_drought_events(paired_ds['USDM'].values)"
   ]
  },
  {
   "cell_type": "code",
   "execution_count": 7,
   "metadata": {},
   "outputs": [
    {
     "data": {
      "text/html": [
       "<div>\n",
       "<style scoped>\n",
       "    .dataframe tbody tr th:only-of-type {\n",
       "        vertical-align: middle;\n",
       "    }\n",
       "\n",
       "    .dataframe tbody tr th {\n",
       "        vertical-align: top;\n",
       "    }\n",
       "\n",
       "    .dataframe thead th {\n",
       "        text-align: right;\n",
       "    }\n",
       "</style>\n",
       "<table border=\"1\" class=\"dataframe\">\n",
       "  <thead>\n",
       "    <tr style=\"text-align: right;\">\n",
       "      <th></th>\n",
       "      <th></th>\n",
       "      <th>area</th>\n",
       "      <th>convex_area</th>\n",
       "      <th>coords</th>\n",
       "      <th>drought_id</th>\n",
       "    </tr>\n",
       "    <tr>\n",
       "      <th>time</th>\n",
       "      <th>drought_id</th>\n",
       "      <th></th>\n",
       "      <th></th>\n",
       "      <th></th>\n",
       "      <th></th>\n",
       "    </tr>\n",
       "  </thead>\n",
       "  <tbody>\n",
       "    <tr>\n",
       "      <th>56</th>\n",
       "      <th>1</th>\n",
       "      <td>653</td>\n",
       "      <td>665</td>\n",
       "      <td>[[0, 154], [0, 155], [0, 156], [0, 157], [0, 1...</td>\n",
       "      <td>1</td>\n",
       "    </tr>\n",
       "    <tr>\n",
       "      <th>57</th>\n",
       "      <th>1</th>\n",
       "      <td>653</td>\n",
       "      <td>665</td>\n",
       "      <td>[[0, 154], [0, 155], [0, 156], [0, 157], [0, 1...</td>\n",
       "      <td>1</td>\n",
       "    </tr>\n",
       "    <tr>\n",
       "      <th rowspan=\"3\" valign=\"top\">58</th>\n",
       "      <th>1</th>\n",
       "      <td>12006</td>\n",
       "      <td>13514</td>\n",
       "      <td>[[0, 49], [0, 50], [0, 51], [0, 52], [0, 53], ...</td>\n",
       "      <td>1</td>\n",
       "    </tr>\n",
       "    <tr>\n",
       "      <th>2</th>\n",
       "      <td>37</td>\n",
       "      <td>65</td>\n",
       "      <td>[[6, 41], [7, 41], [7, 43], [7, 44], [7, 45], ...</td>\n",
       "      <td>2</td>\n",
       "    </tr>\n",
       "    <tr>\n",
       "      <th>3</th>\n",
       "      <td>1</td>\n",
       "      <td>1</td>\n",
       "      <td>[[10, 53]]</td>\n",
       "      <td>3</td>\n",
       "    </tr>\n",
       "    <tr>\n",
       "      <th>...</th>\n",
       "      <th>...</th>\n",
       "      <td>...</td>\n",
       "      <td>...</td>\n",
       "      <td>...</td>\n",
       "      <td>...</td>\n",
       "    </tr>\n",
       "    <tr>\n",
       "      <th>1144</th>\n",
       "      <th>(((75.(76).(77.(78)))-1.(80))-1)-2</th>\n",
       "      <td>2</td>\n",
       "      <td>2</td>\n",
       "      <td>[[82, 62], [82, 63]]</td>\n",
       "      <td>(((75.(76).(77.(78)))-1.(80))-1)-2</td>\n",
       "    </tr>\n",
       "    <tr>\n",
       "      <th rowspan=\"2\" valign=\"top\">1145</th>\n",
       "      <th>(((75.(76).(77.(78)))-1.(80))-1)-1</th>\n",
       "      <td>6861</td>\n",
       "      <td>7561</td>\n",
       "      <td>[[0, 113], [0, 114], [0, 115], [0, 116], [0, 1...</td>\n",
       "      <td>(((75.(76).(77.(78)))-1.(80))-1)-1</td>\n",
       "    </tr>\n",
       "    <tr>\n",
       "      <th>(((75.(76).(77.(78)))-1.(80))-1)-2</th>\n",
       "      <td>2</td>\n",
       "      <td>2</td>\n",
       "      <td>[[82, 62], [82, 63]]</td>\n",
       "      <td>(((75.(76).(77.(78)))-1.(80))-1)-2</td>\n",
       "    </tr>\n",
       "    <tr>\n",
       "      <th>1146</th>\n",
       "      <th>(((75.(76).(77.(78)))-1.(80))-1)-1</th>\n",
       "      <td>6771</td>\n",
       "      <td>7276</td>\n",
       "      <td>[[0, 114], [0, 115], [0, 116], [0, 117], [0, 1...</td>\n",
       "      <td>(((75.(76).(77.(78)))-1.(80))-1)-1</td>\n",
       "    </tr>\n",
       "    <tr>\n",
       "      <th>1147</th>\n",
       "      <th>(((75.(76).(77.(78)))-1.(80))-1)-1</th>\n",
       "      <td>6810</td>\n",
       "      <td>7316</td>\n",
       "      <td>[[0, 113], [0, 114], [0, 115], [0, 116], [0, 1...</td>\n",
       "      <td>(((75.(76).(77.(78)))-1.(80))-1)-1</td>\n",
       "    </tr>\n",
       "  </tbody>\n",
       "</table>\n",
       "<p>1408 rows × 4 columns</p>\n",
       "</div>"
      ],
      "text/plain": [
       "                                          area  convex_area  \\\n",
       "time drought_id                                               \n",
       "56   1                                     653          665   \n",
       "57   1                                     653          665   \n",
       "58   1                                   12006        13514   \n",
       "     2                                      37           65   \n",
       "     3                                       1            1   \n",
       "...                                        ...          ...   \n",
       "1144 (((75.(76).(77.(78)))-1.(80))-1)-2      2            2   \n",
       "1145 (((75.(76).(77.(78)))-1.(80))-1)-1   6861         7561   \n",
       "     (((75.(76).(77.(78)))-1.(80))-1)-2      2            2   \n",
       "1146 (((75.(76).(77.(78)))-1.(80))-1)-1   6771         7276   \n",
       "1147 (((75.(76).(77.(78)))-1.(80))-1)-1   6810         7316   \n",
       "\n",
       "                                                                                    coords  \\\n",
       "time drought_id                                                                              \n",
       "56   1                                   [[0, 154], [0, 155], [0, 156], [0, 157], [0, 1...   \n",
       "57   1                                   [[0, 154], [0, 155], [0, 156], [0, 157], [0, 1...   \n",
       "58   1                                   [[0, 49], [0, 50], [0, 51], [0, 52], [0, 53], ...   \n",
       "     2                                   [[6, 41], [7, 41], [7, 43], [7, 44], [7, 45], ...   \n",
       "     3                                                                          [[10, 53]]   \n",
       "...                                                                                    ...   \n",
       "1144 (((75.(76).(77.(78)))-1.(80))-1)-2                               [[82, 62], [82, 63]]   \n",
       "1145 (((75.(76).(77.(78)))-1.(80))-1)-1  [[0, 113], [0, 114], [0, 115], [0, 116], [0, 1...   \n",
       "     (((75.(76).(77.(78)))-1.(80))-1)-2                               [[82, 62], [82, 63]]   \n",
       "1146 (((75.(76).(77.(78)))-1.(80))-1)-1  [[0, 114], [0, 115], [0, 116], [0, 117], [0, 1...   \n",
       "1147 (((75.(76).(77.(78)))-1.(80))-1)-1  [[0, 113], [0, 114], [0, 115], [0, 116], [0, 1...   \n",
       "\n",
       "                                                                 drought_id  \n",
       "time drought_id                                                              \n",
       "56   1                                                                    1  \n",
       "57   1                                                                    1  \n",
       "58   1                                                                    1  \n",
       "     2                                                                    2  \n",
       "     3                                                                    3  \n",
       "...                                                                     ...  \n",
       "1144 (((75.(76).(77.(78)))-1.(80))-1)-2  (((75.(76).(77.(78)))-1.(80))-1)-2  \n",
       "1145 (((75.(76).(77.(78)))-1.(80))-1)-1  (((75.(76).(77.(78)))-1.(80))-1)-1  \n",
       "     (((75.(76).(77.(78)))-1.(80))-1)-2  (((75.(76).(77.(78)))-1.(80))-1)-2  \n",
       "1146 (((75.(76).(77.(78)))-1.(80))-1)-1  (((75.(76).(77.(78)))-1.(80))-1)-1  \n",
       "1147 (((75.(76).(77.(78)))-1.(80))-1)-1  (((75.(76).(77.(78)))-1.(80))-1)-1  \n",
       "\n",
       "[1408 rows x 4 columns]"
      ]
     },
     "execution_count": 7,
     "metadata": {},
     "output_type": "execute_result"
    }
   ],
   "source": [
    "USDM_events"
   ]
  },
  {
   "cell_type": "code",
   "execution_count": null,
   "metadata": {},
   "outputs": [],
   "source": []
  }
 ],
 "metadata": {
  "kernelspec": {
   "display_name": "Python 3.7.12 ('sedi')",
   "language": "python",
   "name": "python3"
  },
  "language_info": {
   "codemirror_mode": {
    "name": "ipython",
    "version": 3
   },
   "file_extension": ".py",
   "mimetype": "text/x-python",
   "name": "python",
   "nbconvert_exporter": "python",
   "pygments_lexer": "ipython3",
   "version": "3.7.12"
  },
  "orig_nbformat": 4,
  "vscode": {
   "interpreter": {
    "hash": "5585d616cc037afe4e5997f9d5ad9938ec3148b25e01a6d2931d801949bec716"
   }
  }
 },
 "nbformat": 4,
 "nbformat_minor": 2
}
