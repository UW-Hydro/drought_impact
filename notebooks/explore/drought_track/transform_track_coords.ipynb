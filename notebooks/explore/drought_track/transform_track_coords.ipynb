{
 "cells": [
  {
   "cell_type": "code",
   "execution_count": 21,
   "metadata": {},
   "outputs": [
    {
     "name": "stderr",
     "output_type": "stream",
     "text": [
      "/pool0/data/steinjao/drought/drought_impact/notebooks/explore/../../ndrought/wrangle.py:17: TqdmExperimentalWarning: Using `tqdm.autonotebook.tqdm` in notebook mode. Use `tqdm.tqdm` instead to force console mode (e.g. in jupyter console)\n",
      "  from tqdm.autonotebook import tqdm\n"
     ]
    }
   ],
   "source": [
    "import sys\n",
    "sys.path.append('../../')\n",
    "import ndrought.wrangle as dnw\n",
    "\n",
    "import xarray as xr"
   ]
  },
  {
   "cell_type": "code",
   "execution_count": 22,
   "metadata": {},
   "outputs": [
    {
     "name": "stdout",
     "output_type": "stream",
     "text": [
      "153.78809735235532 -5.1587317798664545\n"
     ]
    },
    {
     "name": "stderr",
     "output_type": "stream",
     "text": [
      "/pool0/data/steinadi/.conda/envs/sedi/lib/python3.10/site-packages/pyproj/crs/crs.py:130: FutureWarning: '+init=<authority>:<code>' syntax is deprecated. '<authority>:<code>' is the preferred initialization method. When making the change, be mindful of axis order changes: https://pyproj4.github.io/pyproj/stable/gotchas.html#axis-order-changes-in-proj-6\n",
      "  in_crs_string = _prepare_from_proj_string(in_crs_string)\n",
      "/pool0/data/steinadi/.conda/envs/sedi/lib/python3.10/site-packages/pyproj/crs/crs.py:130: FutureWarning: '+init=<authority>:<code>' syntax is deprecated. '<authority>:<code>' is the preferred initialization method. When making the change, be mindful of axis order changes: https://pyproj4.github.io/pyproj/stable/gotchas.html#axis-order-changes-in-proj-6\n",
      "  in_crs_string = _prepare_from_proj_string(in_crs_string)\n",
      "/tmp/ipykernel_3595538/3695428546.py:7: DeprecationWarning: This function is deprecated. See: https://pyproj4.github.io/pyproj/stable/gotchas.html#upgrading-to-pyproj-2-from-pyproj-1\n",
      "  x2,y2 = transform(inProj,outProj,x1,y1)\n"
     ]
    }
   ],
   "source": [
    "#https://gis.stackexchange.com/questions/78838/converting-projected-coordinates-to-lat-lon-using-python\n",
    "from pyproj import Proj, transform\n",
    "\n",
    "inProj = Proj(init='epsg:5070')\n",
    "outProj = Proj(init='epsg:4326')\n",
    "x1,y1 = -11705274.6374,4826473.6922\n",
    "x2,y2 = transform(inProj,outProj,x1,y1)\n",
    "print(x2,y2)"
   ]
  },
  {
   "cell_type": "code",
   "execution_count": 23,
   "metadata": {},
   "outputs": [],
   "source": [
    "import pyproj\n",
    "\n",
    "def transform_points(x, y, inproj=pyproj.CRS('epsg:5070'), outproj=pyproj.CRS('epsg:4326')):\n",
    "    return pyproj.transform(inproj,outproj,x,y)"
   ]
  },
  {
   "cell_type": "code",
   "execution_count": 24,
   "metadata": {},
   "outputs": [],
   "source": [
    "dt_path = '/pool0/home/steinjao/data/drought/drought_impact/data/drought_measures/ndrought_products/CONUS_105W/drought_tracks'"
   ]
  },
  {
   "cell_type": "code",
   "execution_count": 25,
   "metadata": {},
   "outputs": [],
   "source": [
    "exp_tag = 'fwa_d1_rt20p'"
   ]
  },
  {
   "cell_type": "code",
   "execution_count": 26,
   "metadata": {},
   "outputs": [],
   "source": [
    "usdm_dtd = dnw.convert_pickle_to_dtd(f'{dt_path}/USDM_tracks_{exp_tag}.pickle')"
   ]
  },
  {
   "cell_type": "code",
   "execution_count": 27,
   "metadata": {},
   "outputs": [],
   "source": [
    "spi30d_dtd = dnw.convert_pickle_to_dtd(f'{dt_path}/spi_30d_tracks_{exp_tag}.pickle')"
   ]
  },
  {
   "cell_type": "code",
   "execution_count": 28,
   "metadata": {},
   "outputs": [],
   "source": [
    "spi180d_dtd = dnw.convert_pickle_to_dtd(f'{dt_path}/spi_180d_tracks_{exp_tag}.pickle')"
   ]
  },
  {
   "cell_type": "code",
   "execution_count": 31,
   "metadata": {},
   "outputs": [
    {
     "name": "stderr",
     "output_type": "stream",
     "text": [
      "/tmp/ipykernel_3595538/4185616944.py:4: DeprecationWarning: This function is deprecated. See: https://pyproj4.github.io/pyproj/stable/gotchas.html#upgrading-to-pyproj-2-from-pyproj-1\n",
      "  return pyproj.transform(inproj,outproj,x,y)\n"
     ]
    },
    {
     "data": {
      "text/plain": [
       "(array([31.868127  , 31.868127  , 32.56039417, 32.56043119, 32.61334257,\n",
       "        32.57085326, 32.58968455, 32.63861129, 32.46301006, 32.58364268,\n",
       "        32.62043368, 32.6518025 , 32.65186257, 32.63286153, 32.67278058,\n",
       "        33.48453646, 33.48458528, 33.60489938, 33.66831018, 33.71823394,\n",
       "        33.71823394]),\n",
       " array([-105.63948135, -105.63948135, -109.76837593, -109.76822562,\n",
       "        -109.40538743, -109.21370649, -107.35262719, -107.34735294,\n",
       "        -107.34374007, -107.75154336, -107.75686357, -107.57885908,\n",
       "        -107.57879327, -108.25358315, -108.39325392, -108.19087391,\n",
       "        -108.19091142, -108.3415733 , -108.630684  , -108.63791196,\n",
       "        -108.63791196]))"
      ]
     },
     "execution_count": 31,
     "metadata": {},
     "output_type": "execute_result"
    }
   ],
   "source": [
    "transform_points(usdm_dtd['x'][0], usdm_dtd['y'][0])"
   ]
  },
  {
   "cell_type": "code",
   "execution_count": null,
   "metadata": {},
   "outputs": [],
   "source": []
  }
 ],
 "metadata": {
  "kernelspec": {
   "display_name": "sedi",
   "language": "python",
   "name": "sedi"
  },
  "language_info": {
   "codemirror_mode": {
    "name": "ipython",
    "version": 3
   },
   "file_extension": ".py",
   "mimetype": "text/x-python",
   "name": "python",
   "nbconvert_exporter": "python",
   "pygments_lexer": "ipython3",
   "version": "3.10.8"
  },
  "orig_nbformat": 4
 },
 "nbformat": 4,
 "nbformat_minor": 2
}
