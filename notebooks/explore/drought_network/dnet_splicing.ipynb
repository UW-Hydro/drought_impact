{
 "cells": [
  {
   "attachments": {},
   "cell_type": "markdown",
   "metadata": {},
   "source": [
    "# Drought Network Splicing\n",
    "3.28.2023\n",
    "a. stein\n",
    "\n",
    "Here I want to enable splicing based on thresholds"
   ]
  },
  {
   "cell_type": "code",
   "execution_count": 1,
   "metadata": {},
   "outputs": [
    {
     "name": "stdout",
     "output_type": "stream",
     "text": [
      "%pylab is deprecated, use %matplotlib inline and import the required libraries.\n",
      "Populating the interactive namespace from numpy and matplotlib\n"
     ]
    },
    {
     "name": "stderr",
     "output_type": "stream",
     "text": [
      "/tmp/ipykernel_3603431/2339562268.py:12: TqdmExperimentalWarning: Using `tqdm.autonotebook.tqdm` in notebook mode. Use `tqdm.tqdm` instead to force console mode (e.g. in jupyter console)\n",
      "  from tqdm.autonotebook import tqdm\n"
     ]
    }
   ],
   "source": [
    "%pylab inline\n",
    "%load_ext autoreload\n",
    "%autoreload 2\n",
    "%reload_ext autoreload\n",
    "\n",
    "import xarray as xr\n",
    "import pandas as pd\n",
    "import geopandas as gpd\n",
    "\n",
    "import matplotlib.dates as mdates\n",
    "\n",
    "from tqdm.autonotebook import tqdm\n",
    "\n",
    "import sys\n",
    "sys.path.append('../../../')\n",
    "from ndrought import drought_network_v12 as dnet"
   ]
  },
  {
   "cell_type": "markdown",
   "metadata": {},
   "source": [
    "Let's get our simpler test case up in here."
   ]
  },
  {
   "cell_type": "code",
   "execution_count": 2,
   "metadata": {},
   "outputs": [],
   "source": [
    "def tick(matrix):\n",
    "    new_state = np.copy(matrix)\n",
    "\n",
    "    i_dim, j_dim = matrix.shape\n",
    "\n",
    "    for i in range(i_dim):\n",
    "        for j in range(j_dim):\n",
    "            north = matrix[i][j-1] if j>0 else 0\n",
    "            south = matrix[i][j+1] if j<(j_dim-1) else 0\n",
    "            west = matrix[i+1][j] if i<(i_dim-1) else 0\n",
    "            east = matrix[i-1][j] if i>0 else 0\n",
    "            se = matrix[i+1][j+1] if i<(i_dim-1) and j<(j_dim-1) else 0\n",
    "            sw = matrix[i+1][j-1] if i<(i_dim-1) and j>0 else 0\n",
    "            ne = matrix[i-1][j+1] if i>0 and j<(j_dim-1) else 0\n",
    "            nw = matrix[i-1][j-1] if i>0 and j>0 else 0\n",
    "            neighbors = np.sum([north, south, west, east, se, sw, ne, nw])\n",
    "\n",
    "            # rules\n",
    "            if matrix[i][j] == 0 and neighbors == 3: # reproduction\n",
    "                new_state[i][j] = 1\n",
    "            elif matrix[i][j] == 1 and neighbors < 2: # underpopulation\n",
    "                new_state[i][j] = 0\n",
    "            elif matrix[i][j] == 1 and neighbors > 3: # overpopulation\n",
    "                new_state[i][j] = 0\n",
    "            elif matrix[i][j] == 1 and neighbors == 2: # survives\n",
    "                new_state[i][j] = 1\n",
    "            elif matrix[i][j] == 1 and neighbors == 3: # also survives\n",
    "                new_state[i][j] = 1\n",
    "\n",
    "    return new_state"
   ]
  },
  {
   "cell_type": "code",
   "execution_count": 3,
   "metadata": {},
   "outputs": [],
   "source": [
    "# this was originally generated randomly using the same method method as\n",
    "# before, but I have now hard coded it to have a consistent test example\n",
    "test_matrix = np.array([\n",
    "    [0, 0, 0, 0, 0],\n",
    "    [0, 1, 1, 0, 1],\n",
    "    [1, 1, 0, 0, 1],\n",
    "    [1, 1, 1, 0, 1],\n",
    "    [0, 0, 1, 0, 1]\n",
    "])"
   ]
  },
  {
   "cell_type": "code",
   "execution_count": null,
   "metadata": {},
   "outputs": [],
   "source": []
  },
  {
   "cell_type": "code",
   "execution_count": 4,
   "metadata": {},
   "outputs": [
    {
     "data": {
      "image/png": "[encoded data removed]",
      "text/plain": [
       "<Figure size 720x432 with 8 Axes>"
      ]
     },
     "metadata": {
      "needs_background": "light"
     },
     "output_type": "display_data"
    }
   ],
   "source": [
    "fig, axs = plt.subplots(2, 4, figsize=(10,6))\n",
    "\n",
    "test_series = []\n",
    "plot_matrix = test_matrix\n",
    "\n",
    "for i, ax in enumerate(axs.ravel()):\n",
    "    test_series.append(plot_matrix)\n",
    "    ax.imshow(plot_matrix)\n",
    "    plot_matrix = tick(plot_matrix)\n",
    "\n",
    "    ax.set_title(i)\n",
    "\n",
    "test_series = np.array(test_series)\n",
    "\n",
    "plt.tight_layout()"
   ]
  },
  {
   "cell_type": "code",
   "execution_count": 5,
   "metadata": {},
   "outputs": [],
   "source": [
    "plot_matrix = test_matrix\n",
    "test_series = []\n",
    "for i in np.arange(8):\n",
    "    test_series.append(plot_matrix)\n",
    "    plot_matrix = tick(plot_matrix)\n",
    "test_series = np.array(test_series)"
   ]
  },
  {
   "cell_type": "code",
   "execution_count": 6,
   "metadata": {},
   "outputs": [
    {
     "data": {
      "application/vnd.jupyter.widget-view+json": {
       "model_id": "870034eb08d746c9b6410af5c8ab61c3",
       "version_major": 2,
       "version_minor": 0
      },
      "text/plain": [
       "Creating Network: drought_network:   0%|          | 0/8 [00:00<?, ?it/s]"
      ]
     },
     "metadata": {},
     "output_type": "display_data"
    }
   ],
   "source": [
    "test_dnet = dnet.DroughtNetwork(test_series.copy())"
   ]
  },
  {
   "cell_type": "code",
   "execution_count": 7,
   "metadata": {},
   "outputs": [
    {
     "name": "stdout",
     "output_type": "stream",
     "text": [
      "time: 1, id: 3, futures: []\n",
      "time: 2, id: 6, futures: []\n",
      "time: 6, id: 13, futures: []\n"
     ]
    }
   ],
   "source": [
    "to_remove = []\n",
    "\n",
    "for node in test_dnet.nodes:\n",
    "    if node.area == 1:\n",
    "        to_remove.append(node)\n",
    "        print(node)"
   ]
  },
  {
   "cell_type": "code",
   "execution_count": 8,
   "metadata": {},
   "outputs": [
    {
     "name": "stdout",
     "output_type": "stream",
     "text": [
      "time: 1, id: 3, futures: []\n",
      "time: 0, id: 0, futures: [2, 3, 4]\n",
      "time: 0, id: 0, futures: [2, 4]\n",
      "\n",
      "time: 2, id: 6, futures: []\n",
      "\n",
      "time: 6, id: 13, futures: []\n",
      "time: 5, id: 10, futures: [12, 13]\n",
      "time: 5, id: 10, futures: [12]\n",
      "\n"
     ]
    }
   ],
   "source": [
    "for node in to_remove:\n",
    "    print(node)\n",
    "    for past_node in node.past:\n",
    "        print(past_node)\n",
    "        past_node.future.remove(node)\n",
    "        print(past_node)\n",
    "    for future_node in node.future:\n",
    "        future_node.past.remove(node)\n",
    "    test_dnet.nodes.remove(node)\n",
    "    print()"
   ]
  },
  {
   "cell_type": "code",
   "execution_count": 9,
   "metadata": {},
   "outputs": [
    {
     "data": {
      "image/png": "[encoded data removed]",
      "text/plain": [
       "<Figure size 720x432 with 8 Axes>"
      ]
     },
     "metadata": {
      "needs_background": "light"
     },
     "output_type": "display_data"
    }
   ],
   "source": [
    "fig, axs = plt.subplots(2, 4, figsize=(10,6))\n",
    "\n",
    "test_series = test_dnet.to_array()\n",
    "\n",
    "for i, ax in enumerate(axs.ravel()):\n",
    "    ax.imshow(test_series[i, :, :])\n",
    "\n",
    "    ax.set_title(i)\n",
    "\n",
    "plt.tight_layout()"
   ]
  },
  {
   "cell_type": "code",
   "execution_count": 10,
   "metadata": {},
   "outputs": [
    {
     "data": {
      "text/plain": [
       "[time: 0, id: 0,\n",
       " time: 0, id: 1,\n",
       " time: 1, id: 2,\n",
       " time: 1, id: 4,\n",
       " time: 2, id: 5,\n",
       " time: 3, id: 7,\n",
       " time: 4, id: 8,\n",
       " time: 5, id: 9,\n",
       " time: 5, id: 10,\n",
       " time: 6, id: 11,\n",
       " time: 6, id: 12,\n",
       " time: 7, id: 14,\n",
       " time: 7, id: 15]"
      ]
     },
     "execution_count": 10,
     "metadata": {},
     "output_type": "execute_result"
    }
   ],
   "source": [
    "test_dnet.nodes"
   ]
  },
  {
   "attachments": {},
   "cell_type": "markdown",
   "metadata": {},
   "source": [
    "Cool, that works."
   ]
  },
  {
   "cell_type": "code",
   "execution_count": 11,
   "metadata": {},
   "outputs": [
    {
     "data": {
      "application/vnd.jupyter.widget-view+json": {
       "model_id": "9a1c1d8c3c664e79b9dce2ece229f6b2",
       "version_major": 2,
       "version_minor": 0
      },
      "text/plain": [
       "Creating Network: drought_network:   0%|          | 0/8 [00:00<?, ?it/s]"
      ]
     },
     "metadata": {},
     "output_type": "display_data"
    }
   ],
   "source": [
    "plot_matrix = test_matrix\n",
    "test_series = []\n",
    "for i in np.arange(8):\n",
    "    test_series.append(plot_matrix)\n",
    "    plot_matrix = tick(plot_matrix)\n",
    "test_series = np.array(test_series)\n",
    "\n",
    "test_dnet = dnet.DroughtNetwork(test_series.copy())"
   ]
  },
  {
   "cell_type": "code",
   "execution_count": 12,
   "metadata": {},
   "outputs": [],
   "source": [
    "def area_thresh_removal(net, thresh:int):\n",
    "    to_remove = []\n",
    "    for node in net.nodes:\n",
    "        if node.area <= thresh:\n",
    "            to_remove.append(node)\n",
    "    \n",
    "    for node in to_remove:\n",
    "        for past_node in node.past:\n",
    "            past_node.future.remove(node)\n",
    "        for future_node in node.future:\n",
    "            future_node.past.remove(node)\n",
    "        net.nodes.remove(node)\n",
    "        if node in net.origins:\n",
    "            net.origins.remove(node)\n",
    "\n",
    "    for node in net.nodes:\n",
    "        if len(node.past) == 0 and not node in net.origins:\n",
    "            net.origins.append(node)"
   ]
  },
  {
   "cell_type": "code",
   "execution_count": 13,
   "metadata": {},
   "outputs": [],
   "source": [
    "area_thresh_removal(test_dnet, 1)"
   ]
  },
  {
   "cell_type": "code",
   "execution_count": 14,
   "metadata": {},
   "outputs": [
    {
     "data": {
      "image/png": "[encoded data removed]",
      "text/plain": [
       "<Figure size 720x432 with 8 Axes>"
      ]
     },
     "metadata": {
      "needs_background": "light"
     },
     "output_type": "display_data"
    }
   ],
   "source": [
    "fig, axs = plt.subplots(2, 4, figsize=(10,6))\n",
    "\n",
    "test_series = test_dnet.to_array()\n",
    "\n",
    "for i, ax in enumerate(axs.ravel()):\n",
    "    ax.imshow(test_series[i, :, :])\n",
    "\n",
    "    ax.set_title(i)\n",
    "\n",
    "plt.tight_layout()"
   ]
  },
  {
   "cell_type": "code",
   "execution_count": 15,
   "metadata": {},
   "outputs": [
    {
     "data": {
      "text/plain": [
       "[time: 0, id: 0, time: 0, id: 1]"
      ]
     },
     "execution_count": 15,
     "metadata": {},
     "output_type": "execute_result"
    }
   ],
   "source": [
    "test_dnet.origins"
   ]
  },
  {
   "attachments": {},
   "cell_type": "markdown",
   "metadata": {},
   "source": [
    "Now for splicing threads"
   ]
  },
  {
   "cell_type": "code",
   "execution_count": 16,
   "metadata": {},
   "outputs": [
    {
     "data": {
      "application/vnd.jupyter.widget-view+json": {
       "model_id": "7393ca42e9e34bb5b85dec674df45c25",
       "version_major": 2,
       "version_minor": 0
      },
      "text/plain": [
       "Creating Network: drought_network:   0%|          | 0/8 [00:00<?, ?it/s]"
      ]
     },
     "metadata": {},
     "output_type": "display_data"
    }
   ],
   "source": [
    "plot_matrix = test_matrix\n",
    "test_series = []\n",
    "for i in np.arange(8):\n",
    "    test_series.append(plot_matrix)\n",
    "    plot_matrix = tick(plot_matrix)\n",
    "test_series = np.array(test_series)\n",
    "\n",
    "test_dnet = dnet.DroughtNetwork(test_series.copy())"
   ]
  },
  {
   "cell_type": "code",
   "execution_count": 17,
   "metadata": {},
   "outputs": [
    {
     "name": "stdout",
     "output_type": "stream",
     "text": [
      "time: 1, id: 3, futures: []\n",
      "[time: 0, id: 0, time: 0, id: 1, time: 2, id: 6, time: 1, id: 3]\n",
      "time: 1, id: 4, futures: []\n",
      "[time: 0, id: 0, time: 0, id: 1, time: 2, id: 6, time: 1, id: 3, time: 1, id: 4]\n",
      "time: 5, id: 10, futures: [12, 13]\n",
      "[time: 0, id: 0, time: 0, id: 1, time: 2, id: 6, time: 1, id: 3, time: 1, id: 4, time: 5, id: 10]\n",
      "time: 6, id: 11, futures: [14]\n",
      "[time: 0, id: 0, time: 0, id: 1, time: 2, id: 6, time: 1, id: 3, time: 1, id: 4, time: 5, id: 10, time: 6, id: 11]\n",
      "time: 6, id: 13, futures: []\n",
      "[time: 0, id: 0, time: 0, id: 1, time: 2, id: 6, time: 1, id: 3, time: 1, id: 4, time: 5, id: 10, time: 6, id: 11, time: 6, id: 13]\n"
     ]
    }
   ],
   "source": [
    "for node in test_dnet.nodes:\n",
    "    #print(node)\n",
    "    to_splice = []\n",
    "    for future_node in node.future:\n",
    "        if future_node.area <= 0.5*node.area:\n",
    "            to_splice.append(future_node)\n",
    "    for splice_node in to_splice:\n",
    "        print(splice_node)\n",
    "        node.future.remove(splice_node)\n",
    "        splice_node.past.remove(node)\n",
    "        if len(splice_node.past) == 0:\n",
    "            test_dnet.origins.append(splice_node)\n",
    "            print(test_dnet.origins)\n",
    "        \n",
    "    #print(node)\n",
    "    #print()"
   ]
  },
  {
   "cell_type": "code",
   "execution_count": 18,
   "metadata": {},
   "outputs": [
    {
     "data": {
      "image/png": "[encoded data removed]",
      "text/plain": [
       "<Figure size 720x432 with 8 Axes>"
      ]
     },
     "metadata": {
      "needs_background": "light"
     },
     "output_type": "display_data"
    }
   ],
   "source": [
    "fig, axs = plt.subplots(2, 4, figsize=(10,6))\n",
    "\n",
    "test_series = test_dnet.to_array()\n",
    "\n",
    "for i, ax in enumerate(axs.ravel()):\n",
    "    ax.imshow(test_series[i, :, :])\n",
    "\n",
    "    ax.set_title(i)\n",
    "\n",
    "plt.tight_layout()"
   ]
  },
  {
   "cell_type": "code",
   "execution_count": 19,
   "metadata": {},
   "outputs": [
    {
     "data": {
      "text/plain": [
       "[time: 0, id: 0,\n",
       " time: 0, id: 1,\n",
       " time: 2, id: 6,\n",
       " time: 1, id: 3,\n",
       " time: 1, id: 4,\n",
       " time: 5, id: 10,\n",
       " time: 6, id: 11,\n",
       " time: 6, id: 13]"
      ]
     },
     "execution_count": 19,
     "metadata": {},
     "output_type": "execute_result"
    }
   ],
   "source": [
    "test_dnet.origins"
   ]
  },
  {
   "cell_type": "code",
   "execution_count": 20,
   "metadata": {},
   "outputs": [],
   "source": [
    "def area_thresh_splice(net, thresh):\n",
    "    for node in net.nodes:\n",
    "        to_splice = []\n",
    "        for future_node in node.future:\n",
    "            if future_node.area <= thresh*node.area:\n",
    "                to_splice.append(future_node)\n",
    "        \n",
    "        for splice_node in to_splice:\n",
    "            node.future.remove(splice_node)\n",
    "            splice_node.past.remove(node)\n",
    "            if len(splice_node.past) == 0:\n",
    "                net.origins.append(splice_node)"
   ]
  },
  {
   "cell_type": "code",
   "execution_count": 21,
   "metadata": {},
   "outputs": [
    {
     "data": {
      "application/vnd.jupyter.widget-view+json": {
       "model_id": "385bfe6d8f8640f0ad6e4f3ba21e4c9d",
       "version_major": 2,
       "version_minor": 0
      },
      "text/plain": [
       "Creating Network: drought_network:   0%|          | 0/8 [00:00<?, ?it/s]"
      ]
     },
     "metadata": {},
     "output_type": "display_data"
    }
   ],
   "source": [
    "plot_matrix = test_matrix\n",
    "test_series = []\n",
    "for i in np.arange(8):\n",
    "    test_series.append(plot_matrix)\n",
    "    plot_matrix = tick(plot_matrix)\n",
    "test_series = np.array(test_series)\n",
    "\n",
    "test_dnet = dnet.DroughtNetwork(test_series.copy())"
   ]
  },
  {
   "cell_type": "code",
   "execution_count": 22,
   "metadata": {},
   "outputs": [
    {
     "data": {
      "text/plain": [
       "[time: 0, id: 0, time: 0, id: 1, time: 2, id: 6]"
      ]
     },
     "execution_count": 22,
     "metadata": {},
     "output_type": "execute_result"
    }
   ],
   "source": [
    "test_dnet.origins"
   ]
  },
  {
   "cell_type": "code",
   "execution_count": 23,
   "metadata": {},
   "outputs": [],
   "source": [
    "area_thresh_splice(test_dnet, 0.5)"
   ]
  },
  {
   "cell_type": "code",
   "execution_count": 24,
   "metadata": {},
   "outputs": [
    {
     "data": {
      "image/png": "[encoded data removed]",
      "text/plain": [
       "<Figure size 720x432 with 8 Axes>"
      ]
     },
     "metadata": {
      "needs_background": "light"
     },
     "output_type": "display_data"
    }
   ],
   "source": [
    "fig, axs = plt.subplots(2, 4, figsize=(10,6))\n",
    "\n",
    "test_series = test_dnet.to_array()\n",
    "\n",
    "for i, ax in enumerate(axs.ravel()):\n",
    "    ax.imshow(test_series[i, :, :])\n",
    "\n",
    "    ax.set_title(i)\n",
    "\n",
    "plt.tight_layout()"
   ]
  },
  {
   "cell_type": "code",
   "execution_count": 25,
   "metadata": {},
   "outputs": [
    {
     "data": {
      "text/plain": [
       "[time: 0, id: 0,\n",
       " time: 0, id: 1,\n",
       " time: 2, id: 6,\n",
       " time: 1, id: 3,\n",
       " time: 1, id: 4,\n",
       " time: 5, id: 10,\n",
       " time: 6, id: 11,\n",
       " time: 6, id: 13]"
      ]
     },
     "execution_count": 25,
     "metadata": {},
     "output_type": "execute_result"
    }
   ],
   "source": [
    "test_dnet.origins"
   ]
  },
  {
   "cell_type": "code",
   "execution_count": 26,
   "metadata": {},
   "outputs": [],
   "source": [
    "area_thresh_removal(test_dnet, 1)"
   ]
  },
  {
   "cell_type": "code",
   "execution_count": 27,
   "metadata": {},
   "outputs": [
    {
     "data": {
      "image/png": "[encoded data removed]",
      "text/plain": [
       "<Figure size 720x432 with 8 Axes>"
      ]
     },
     "metadata": {
      "needs_background": "light"
     },
     "output_type": "display_data"
    }
   ],
   "source": [
    "fig, axs = plt.subplots(2, 4, figsize=(10,6))\n",
    "\n",
    "test_series = test_dnet.to_array()\n",
    "\n",
    "for i, ax in enumerate(axs.ravel()):\n",
    "    ax.imshow(test_series[i, :, :])\n",
    "\n",
    "    ax.set_title(i)\n",
    "\n",
    "plt.tight_layout()"
   ]
  },
  {
   "cell_type": "code",
   "execution_count": 28,
   "metadata": {},
   "outputs": [
    {
     "data": {
      "text/plain": [
       "[time: 0, id: 0,\n",
       " time: 0, id: 1,\n",
       " time: 1, id: 4,\n",
       " time: 5, id: 10,\n",
       " time: 6, id: 11]"
      ]
     },
     "execution_count": 28,
     "metadata": {},
     "output_type": "execute_result"
    }
   ],
   "source": [
    "test_dnet.origins"
   ]
  },
  {
   "cell_type": "code",
   "execution_count": null,
   "metadata": {},
   "outputs": [],
   "source": []
  }
 ],
 "metadata": {
  "kernelspec": {
   "display_name": "sedi",
   "language": "python",
   "name": "python3"
  },
  "language_info": {
   "codemirror_mode": {
    "name": "ipython",
    "version": 3
   },
   "file_extension": ".py",
   "mimetype": "text/x-python",
   "name": "python",
   "nbconvert_exporter": "python",
   "pygments_lexer": "ipython3",
   "version": "3.10.8"
  },
  "orig_nbformat": 4
 },
 "nbformat": 4,
 "nbformat_minor": 2
}
