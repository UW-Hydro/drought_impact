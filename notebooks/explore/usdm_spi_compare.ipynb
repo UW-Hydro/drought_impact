{
 "cells": [
  {
   "cell_type": "markdown",
   "metadata": {},
   "source": [
    "# Compare USDM & SPI\n",
    "a. stein 4.18.2022"
   ]
  },
  {
   "cell_type": "code",
   "execution_count": 1,
   "metadata": {},
   "outputs": [
    {
     "name": "stdout",
     "output_type": "stream",
     "text": [
      "Populating the interactive namespace from numpy and matplotlib\n"
     ]
    },
    {
     "name": "stderr",
     "output_type": "stream",
     "text": [
      "/pool0/data/steinadi/.conda/envs/sedi/lib/python3.7/site-packages/ipykernel_launcher.py:12: TqdmExperimentalWarning: Using `tqdm.autonotebook.tqdm` in notebook mode. Use `tqdm.tqdm` instead to force console mode (e.g. in jupyter console)\n",
      "  if sys.path[0] == '':\n"
     ]
    }
   ],
   "source": [
    "%pylab inline\n",
    "%load_ext autoreload\n",
    "%autoreload 2\n",
    "%reload_ext autoreload\n",
    "\n",
    "import xarray as xr\n",
    "import rioxarray\n",
    "import rasterio as rio\n",
    "import pandas as pd\n",
    "import geopandas as gpd\n",
    "\n",
    "from tqdm.autonotebook import tqdm\n",
    "\n",
    "import sys\n",
    "sys.path.append('../../')\n",
    "import ndrought.wrangle as wrangle"
   ]
  },
  {
   "cell_type": "markdown",
   "metadata": {},
   "source": [
    "Load in USDM and SPI"
   ]
  },
  {
   "cell_type": "code",
   "execution_count": 2,
   "metadata": {},
   "outputs": [],
   "source": [
    "dm_path = '/pool0/home/steinadi/data/drought/drought_impact/data/drought_measures'\n",
    "\n",
    "# USDM will be already clipped, but we'll need to clip spi real quick\n",
    "usdm = xr.open_dataset(f'{dm_path}/usdm/USDM_WA_20000104_20220412.nc')\n",
    "spi_1y = xr.open_dataset(f'{dm_path}/spi/spi1y.nc')"
   ]
  },
  {
   "cell_type": "code",
   "execution_count": 3,
   "metadata": {},
   "outputs": [],
   "source": [
    "usdm_da_wa = usdm['USDM'].rio.write_crs('EPSG:4326', inplace=True)\n",
    "spi_da = spi_1y['spi'].rio.write_crs('EPSG:4326', inplace=True)"
   ]
  },
  {
   "cell_type": "markdown",
   "metadata": {},
   "source": [
    "Grab some bounds for Washington and check the crs"
   ]
  },
  {
   "cell_type": "code",
   "execution_count": 4,
   "metadata": {},
   "outputs": [],
   "source": [
    "states_url = 'http://eric.clst.org/assets/wiki/uploads/Stuff/gz_2010_us_040_00_5m.json'\n",
    "states_gdf = gpd.read_file(states_url)\n",
    "wa_gdf = states_gdf[(states_gdf.NAME=='Washington')]"
   ]
  },
  {
   "cell_type": "code",
   "execution_count": 5,
   "metadata": {},
   "outputs": [
    {
     "data": {
      "text/plain": [
       "<Geographic 2D CRS: EPSG:4326>\n",
       "Name: WGS 84\n",
       "Axis Info [ellipsoidal]:\n",
       "- Lat[north]: Geodetic latitude (degree)\n",
       "- Lon[east]: Geodetic longitude (degree)\n",
       "Area of Use:\n",
       "- name: World.\n",
       "- bounds: (-180.0, -90.0, 180.0, 90.0)\n",
       "Datum: World Geodetic System 1984 ensemble\n",
       "- Ellipsoid: WGS 84\n",
       "- Prime Meridian: Greenwich"
      ]
     },
     "execution_count": 5,
     "metadata": {},
     "output_type": "execute_result"
    }
   ],
   "source": [
    "wa_gdf.crs"
   ]
  },
  {
   "cell_type": "markdown",
   "metadata": {},
   "source": [
    "Clip SPI to WA"
   ]
  },
  {
   "cell_type": "code",
   "execution_count": 6,
   "metadata": {},
   "outputs": [],
   "source": [
    "spi_da_wa = wrangle.clip_xarray(spi_da, wa_gdf)"
   ]
  },
  {
   "cell_type": "code",
   "execution_count": 7,
   "metadata": {},
   "outputs": [
    {
     "data": {
      "text/html": [
       "<div><svg style=\"position: absolute; width: 0; height: 0; overflow: hidden\">\n",
       "<defs>\n",
       "<symbol id=\"icon-database\" viewBox=\"0 0 32 32\">\n",
       "<path d=\"M16 0c-8.837 0-16 2.239-16 5v4c0 2.761 7.163 5 16 5s16-2.239 16-5v-4c0-2.761-7.163-5-16-5z\"></path>\n",
       "<path d=\"M16 17c-8.837 0-16-2.239-16-5v6c0 2.761 7.163 5 16 5s16-2.239 16-5v-6c0 2.761-7.163 5-16 5z\"></path>\n",
       "<path d=\"M16 26c-8.837 0-16-2.239-16-5v6c0 2.761 7.163 5 16 5s16-2.239 16-5v-6c0 2.761-7.163 5-16 5z\"></path>\n",
       "</symbol>\n",
       "<symbol id=\"icon-file-text2\" viewBox=\"0 0 32 32\">\n",
       "<path d=\"M28.681 7.159c-0.694-0.947-1.662-2.053-2.724-3.116s-2.169-2.030-3.116-2.724c-1.612-1.182-2.393-1.319-2.841-1.319h-15.5c-1.378 0-2.5 1.121-2.5 2.5v27c0 1.378 1.122 2.5 2.5 2.5h23c1.378 0 2.5-1.122 2.5-2.5v-19.5c0-0.448-0.137-1.23-1.319-2.841zM24.543 5.457c0.959 0.959 1.712 1.825 2.268 2.543h-4.811v-4.811c0.718 0.556 1.584 1.309 2.543 2.268zM28 29.5c0 0.271-0.229 0.5-0.5 0.5h-23c-0.271 0-0.5-0.229-0.5-0.5v-27c0-0.271 0.229-0.5 0.5-0.5 0 0 15.499-0 15.5 0v7c0 0.552 0.448 1 1 1h7v19.5z\"></path>\n",
       "<path d=\"M23 26h-14c-0.552 0-1-0.448-1-1s0.448-1 1-1h14c0.552 0 1 0.448 1 1s-0.448 1-1 1z\"></path>\n",
       "<path d=\"M23 22h-14c-0.552 0-1-0.448-1-1s0.448-1 1-1h14c0.552 0 1 0.448 1 1s-0.448 1-1 1z\"></path>\n",
       "<path d=\"M23 18h-14c-0.552 0-1-0.448-1-1s0.448-1 1-1h14c0.552 0 1 0.448 1 1s-0.448 1-1 1z\"></path>\n",
       "</symbol>\n",
       "</defs>\n",
       "</svg>\n",
       "<style>/* CSS stylesheet for displaying xarray objects in jupyterlab.\n",
       " *\n",
       " */\n",
       "\n",
       ":root {\n",
       "  --xr-font-color0: var(--jp-content-font-color0, rgba(0, 0, 0, 1));\n",
       "  --xr-font-color2: var(--jp-content-font-color2, rgba(0, 0, 0, 0.54));\n",
       "  --xr-font-color3: var(--jp-content-font-color3, rgba(0, 0, 0, 0.38));\n",
       "  --xr-border-color: var(--jp-border-color2, #e0e0e0);\n",
       "  --xr-disabled-color: var(--jp-layout-color3, #bdbdbd);\n",
       "  --xr-background-color: var(--jp-layout-color0, white);\n",
       "  --xr-background-color-row-even: var(--jp-layout-color1, white);\n",
       "  --xr-background-color-row-odd: var(--jp-layout-color2, #eeeeee);\n",
       "}\n",
       "\n",
       "html[theme=dark],\n",
       "body.vscode-dark {\n",
       "  --xr-font-color0: rgba(255, 255, 255, 1);\n",
       "  --xr-font-color2: rgba(255, 255, 255, 0.54);\n",
       "  --xr-font-color3: rgba(255, 255, 255, 0.38);\n",
       "  --xr-border-color: #1F1F1F;\n",
       "  --xr-disabled-color: #515151;\n",
       "  --xr-background-color: #111111;\n",
       "  --xr-background-color-row-even: #111111;\n",
       "  --xr-background-color-row-odd: #313131;\n",
       "}\n",
       "\n",
       ".xr-wrap {\n",
       "  display: block !important;\n",
       "  min-width: 300px;\n",
       "  max-width: 700px;\n",
       "}\n",
       "\n",
       ".xr-text-repr-fallback {\n",
       "  /* fallback to plain text repr when CSS is not injected (untrusted notebook) */\n",
       "  display: none;\n",
       "}\n",
       "\n",
       ".xr-header {\n",
       "  padding-top: 6px;\n",
       "  padding-bottom: 6px;\n",
       "  margin-bottom: 4px;\n",
       "  border-bottom: solid 1px var(--xr-border-color);\n",
       "}\n",
       "\n",
       ".xr-header > div,\n",
       ".xr-header > ul {\n",
       "  display: inline;\n",
       "  margin-top: 0;\n",
       "  margin-bottom: 0;\n",
       "}\n",
       "\n",
       ".xr-obj-type,\n",
       ".xr-array-name {\n",
       "  margin-left: 2px;\n",
       "  margin-right: 10px;\n",
       "}\n",
       "\n",
       ".xr-obj-type {\n",
       "  color: var(--xr-font-color2);\n",
       "}\n",
       "\n",
       ".xr-sections {\n",
       "  padding-left: 0 !important;\n",
       "  display: grid;\n",
       "  grid-template-columns: 150px auto auto 1fr 20px 20px;\n",
       "}\n",
       "\n",
       ".xr-section-item {\n",
       "  display: contents;\n",
       "}\n",
       "\n",
       ".xr-section-item input {\n",
       "  display: none;\n",
       "}\n",
       "\n",
       ".xr-section-item input + label {\n",
       "  color: var(--xr-disabled-color);\n",
       "}\n",
       "\n",
       ".xr-section-item input:enabled + label {\n",
       "  cursor: pointer;\n",
       "  color: var(--xr-font-color2);\n",
       "}\n",
       "\n",
       ".xr-section-item input:enabled + label:hover {\n",
       "  color: var(--xr-font-color0);\n",
       "}\n",
       "\n",
       ".xr-section-summary {\n",
       "  grid-column: 1;\n",
       "  color: var(--xr-font-color2);\n",
       "  font-weight: 500;\n",
       "}\n",
       "\n",
       ".xr-section-summary > span {\n",
       "  display: inline-block;\n",
       "  padding-left: 0.5em;\n",
       "}\n",
       "\n",
       ".xr-section-summary-in:disabled + label {\n",
       "  color: var(--xr-font-color2);\n",
       "}\n",
       "\n",
       ".xr-section-summary-in + label:before {\n",
       "  display: inline-block;\n",
       "  content: '►';\n",
       "  font-size: 11px;\n",
       "  width: 15px;\n",
       "  text-align: center;\n",
       "}\n",
       "\n",
       ".xr-section-summary-in:disabled + label:before {\n",
       "  color: var(--xr-disabled-color);\n",
       "}\n",
       "\n",
       ".xr-section-summary-in:checked + label:before {\n",
       "  content: '▼';\n",
       "}\n",
       "\n",
       ".xr-section-summary-in:checked + label > span {\n",
       "  display: none;\n",
       "}\n",
       "\n",
       ".xr-section-summary,\n",
       ".xr-section-inline-details {\n",
       "  padding-top: 4px;\n",
       "  padding-bottom: 4px;\n",
       "}\n",
       "\n",
       ".xr-section-inline-details {\n",
       "  grid-column: 2 / -1;\n",
       "}\n",
       "\n",
       ".xr-section-details {\n",
       "  display: none;\n",
       "  grid-column: 1 / -1;\n",
       "  margin-bottom: 5px;\n",
       "}\n",
       "\n",
       ".xr-section-summary-in:checked ~ .xr-section-details {\n",
       "  display: contents;\n",
       "}\n",
       "\n",
       ".xr-array-wrap {\n",
       "  grid-column: 1 / -1;\n",
       "  display: grid;\n",
       "  grid-template-columns: 20px auto;\n",
       "}\n",
       "\n",
       ".xr-array-wrap > label {\n",
       "  grid-column: 1;\n",
       "  vertical-align: top;\n",
       "}\n",
       "\n",
       ".xr-preview {\n",
       "  color: var(--xr-font-color3);\n",
       "}\n",
       "\n",
       ".xr-array-preview,\n",
       ".xr-array-data {\n",
       "  padding: 0 5px !important;\n",
       "  grid-column: 2;\n",
       "}\n",
       "\n",
       ".xr-array-data,\n",
       ".xr-array-in:checked ~ .xr-array-preview {\n",
       "  display: none;\n",
       "}\n",
       "\n",
       ".xr-array-in:checked ~ .xr-array-data,\n",
       ".xr-array-preview {\n",
       "  display: inline-block;\n",
       "}\n",
       "\n",
       ".xr-dim-list {\n",
       "  display: inline-block !important;\n",
       "  list-style: none;\n",
       "  padding: 0 !important;\n",
       "  margin: 0;\n",
       "}\n",
       "\n",
       ".xr-dim-list li {\n",
       "  display: inline-block;\n",
       "  padding: 0;\n",
       "  margin: 0;\n",
       "}\n",
       "\n",
       ".xr-dim-list:before {\n",
       "  content: '(';\n",
       "}\n",
       "\n",
       ".xr-dim-list:after {\n",
       "  content: ')';\n",
       "}\n",
       "\n",
       ".xr-dim-list li:not(:last-child):after {\n",
       "  content: ',';\n",
       "  padding-right: 5px;\n",
       "}\n",
       "\n",
       ".xr-has-index {\n",
       "  font-weight: bold;\n",
       "}\n",
       "\n",
       ".xr-var-list,\n",
       ".xr-var-item {\n",
       "  display: contents;\n",
       "}\n",
       "\n",
       ".xr-var-item > div,\n",
       ".xr-var-item label,\n",
       ".xr-var-item > .xr-var-name span {\n",
       "  background-color: var(--xr-background-color-row-even);\n",
       "  margin-bottom: 0;\n",
       "}\n",
       "\n",
       ".xr-var-item > .xr-var-name:hover span {\n",
       "  padding-right: 5px;\n",
       "}\n",
       "\n",
       ".xr-var-list > li:nth-child(odd) > div,\n",
       ".xr-var-list > li:nth-child(odd) > label,\n",
       ".xr-var-list > li:nth-child(odd) > .xr-var-name span {\n",
       "  background-color: var(--xr-background-color-row-odd);\n",
       "}\n",
       "\n",
       ".xr-var-name {\n",
       "  grid-column: 1;\n",
       "}\n",
       "\n",
       ".xr-var-dims {\n",
       "  grid-column: 2;\n",
       "}\n",
       "\n",
       ".xr-var-dtype {\n",
       "  grid-column: 3;\n",
       "  text-align: right;\n",
       "  color: var(--xr-font-color2);\n",
       "}\n",
       "\n",
       ".xr-var-preview {\n",
       "  grid-column: 4;\n",
       "}\n",
       "\n",
       ".xr-var-name,\n",
       ".xr-var-dims,\n",
       ".xr-var-dtype,\n",
       ".xr-preview,\n",
       ".xr-attrs dt {\n",
       "  white-space: nowrap;\n",
       "  overflow: hidden;\n",
       "  text-overflow: ellipsis;\n",
       "  padding-right: 10px;\n",
       "}\n",
       "\n",
       ".xr-var-name:hover,\n",
       ".xr-var-dims:hover,\n",
       ".xr-var-dtype:hover,\n",
       ".xr-attrs dt:hover {\n",
       "  overflow: visible;\n",
       "  width: auto;\n",
       "  z-index: 1;\n",
       "}\n",
       "\n",
       ".xr-var-attrs,\n",
       ".xr-var-data {\n",
       "  display: none;\n",
       "  background-color: var(--xr-background-color) !important;\n",
       "  padding-bottom: 5px !important;\n",
       "}\n",
       "\n",
       ".xr-var-attrs-in:checked ~ .xr-var-attrs,\n",
       ".xr-var-data-in:checked ~ .xr-var-data {\n",
       "  display: block;\n",
       "}\n",
       "\n",
       ".xr-var-data > table {\n",
       "  float: right;\n",
       "}\n",
       "\n",
       ".xr-var-name span,\n",
       ".xr-var-data,\n",
       ".xr-attrs {\n",
       "  padding-left: 25px !important;\n",
       "}\n",
       "\n",
       ".xr-attrs,\n",
       ".xr-var-attrs,\n",
       ".xr-var-data {\n",
       "  grid-column: 1 / -1;\n",
       "}\n",
       "\n",
       "dl.xr-attrs {\n",
       "  padding: 0;\n",
       "  margin: 0;\n",
       "  display: grid;\n",
       "  grid-template-columns: 125px auto;\n",
       "}\n",
       "\n",
       ".xr-attrs dt,\n",
       ".xr-attrs dd {\n",
       "  padding: 0;\n",
       "  margin: 0;\n",
       "  float: left;\n",
       "  padding-right: 10px;\n",
       "  width: auto;\n",
       "}\n",
       "\n",
       ".xr-attrs dt {\n",
       "  font-weight: normal;\n",
       "  grid-column: 1;\n",
       "}\n",
       "\n",
       ".xr-attrs dt:hover span {\n",
       "  display: inline-block;\n",
       "  background: var(--xr-background-color);\n",
       "  padding-right: 10px;\n",
       "}\n",
       "\n",
       ".xr-attrs dd {\n",
       "  grid-column: 2;\n",
       "  white-space: pre-wrap;\n",
       "  word-break: break-all;\n",
       "}\n",
       "\n",
       ".xr-icon-database,\n",
       ".xr-icon-file-text2 {\n",
       "  display: inline-block;\n",
       "  vertical-align: middle;\n",
       "  width: 1em;\n",
       "  height: 1.5em !important;\n",
       "  stroke-width: 0;\n",
       "  stroke: currentColor;\n",
       "  fill: currentColor;\n",
       "}\n",
       "</style><pre class='xr-text-repr-fallback'>&lt;xarray.DataArray &#x27;spi&#x27; (day: 3066, lat: 84, lon: 188)&gt;\n",
       "array([[[        nan,         nan,         nan, ..., -0.6199999 ,\n",
       "                 nan,         nan],\n",
       "        [        nan,         nan,         nan, ..., -0.6199999 ,\n",
       "                 nan,         nan],\n",
       "        [        nan,         nan,         nan, ..., -1.28      ,\n",
       "                 nan,         nan],\n",
       "        ...,\n",
       "        [        nan,         nan,         nan, ...,         nan,\n",
       "                 nan,         nan],\n",
       "        [        nan,         nan,         nan, ...,         nan,\n",
       "                 nan,         nan],\n",
       "        [        nan,         nan,         nan, ...,         nan,\n",
       "                 nan,         nan]],\n",
       "\n",
       "       [[        nan,         nan,         nan, ..., -0.71000004,\n",
       "                 nan,         nan],\n",
       "        [        nan,         nan,         nan, ..., -0.9000001 ,\n",
       "                 nan,         nan],\n",
       "        [        nan,         nan,         nan, ..., -1.28      ,\n",
       "                 nan,         nan],\n",
       "...\n",
       "        [        nan,         nan,         nan, ...,         nan,\n",
       "                 nan,         nan],\n",
       "        [        nan,         nan,         nan, ...,         nan,\n",
       "                 nan,         nan],\n",
       "        [        nan,         nan,         nan, ...,         nan,\n",
       "                 nan,         nan]],\n",
       "\n",
       "       [[        nan,         nan,         nan, ..., -0.32000017,\n",
       "                 nan,         nan],\n",
       "        [        nan,         nan,         nan, ..., -0.38999987,\n",
       "                 nan,         nan],\n",
       "        [        nan,         nan,         nan, ..., -0.38999987,\n",
       "                 nan,         nan],\n",
       "        ...,\n",
       "        [        nan,         nan,         nan, ...,         nan,\n",
       "                 nan,         nan],\n",
       "        [        nan,         nan,         nan, ...,         nan,\n",
       "                 nan,         nan],\n",
       "        [        nan,         nan,         nan, ...,         nan,\n",
       "                 nan,         nan]]], dtype=float32)\n",
       "Coordinates:\n",
       "  * lat      (lat) float64 48.98 48.94 48.9 48.86 ... 45.65 45.61 45.57 45.53\n",
       "  * lon      (lon) float64 -124.7 -124.7 -124.6 -124.6 ... -117.0 -117.0 -116.9\n",
       "  * day      (day) datetime64[ns] 1980-01-05 1980-01-10 ... 2021-12-31\n",
       "    crs      int64 0\n",
       "Attributes:\n",
       "    units:              \n",
       "    description:        Standardized Precipitation Index\n",
       "    long_name:          spi1y\n",
       "    standard_name:      spi1y\n",
       "    dimensions:         lon lat time\n",
       "    grid_mapping:       crs\n",
       "    coordinate_system:  WGS84,EPSG:4326</pre><div class='xr-wrap' style='display:none'><div class='xr-header'><div class='xr-obj-type'>xarray.DataArray</div><div class='xr-array-name'>'spi'</div><ul class='xr-dim-list'><li><span class='xr-has-index'>day</span>: 3066</li><li><span class='xr-has-index'>lat</span>: 84</li><li><span class='xr-has-index'>lon</span>: 188</li></ul></div><ul class='xr-sections'><li class='xr-section-item'><div class='xr-array-wrap'><input id='section-2cf5ecfc-493a-433a-b299-4502a5cb334f' class='xr-array-in' type='checkbox' checked><label for='section-2cf5ecfc-493a-433a-b299-4502a5cb334f' title='Show/hide data repr'><svg class='icon xr-icon-database'><use xlink:href='#icon-database'></use></svg></label><div class='xr-array-preview xr-preview'><span>nan nan nan nan nan nan nan nan ... nan nan nan nan nan nan nan nan</span></div><div class='xr-array-data'><pre>array([[[        nan,         nan,         nan, ..., -0.6199999 ,\n",
       "                 nan,         nan],\n",
       "        [        nan,         nan,         nan, ..., -0.6199999 ,\n",
       "                 nan,         nan],\n",
       "        [        nan,         nan,         nan, ..., -1.28      ,\n",
       "                 nan,         nan],\n",
       "        ...,\n",
       "        [        nan,         nan,         nan, ...,         nan,\n",
       "                 nan,         nan],\n",
       "        [        nan,         nan,         nan, ...,         nan,\n",
       "                 nan,         nan],\n",
       "        [        nan,         nan,         nan, ...,         nan,\n",
       "                 nan,         nan]],\n",
       "\n",
       "       [[        nan,         nan,         nan, ..., -0.71000004,\n",
       "                 nan,         nan],\n",
       "        [        nan,         nan,         nan, ..., -0.9000001 ,\n",
       "                 nan,         nan],\n",
       "        [        nan,         nan,         nan, ..., -1.28      ,\n",
       "                 nan,         nan],\n",
       "...\n",
       "        [        nan,         nan,         nan, ...,         nan,\n",
       "                 nan,         nan],\n",
       "        [        nan,         nan,         nan, ...,         nan,\n",
       "                 nan,         nan],\n",
       "        [        nan,         nan,         nan, ...,         nan,\n",
       "                 nan,         nan]],\n",
       "\n",
       "       [[        nan,         nan,         nan, ..., -0.32000017,\n",
       "                 nan,         nan],\n",
       "        [        nan,         nan,         nan, ..., -0.38999987,\n",
       "                 nan,         nan],\n",
       "        [        nan,         nan,         nan, ..., -0.38999987,\n",
       "                 nan,         nan],\n",
       "        ...,\n",
       "        [        nan,         nan,         nan, ...,         nan,\n",
       "                 nan,         nan],\n",
       "        [        nan,         nan,         nan, ...,         nan,\n",
       "                 nan,         nan],\n",
       "        [        nan,         nan,         nan, ...,         nan,\n",
       "                 nan,         nan]]], dtype=float32)</pre></div></div></li><li class='xr-section-item'><input id='section-a1bdf67b-8f19-4087-a588-008790409727' class='xr-section-summary-in' type='checkbox'  checked><label for='section-a1bdf67b-8f19-4087-a588-008790409727' class='xr-section-summary' >Coordinates: <span>(4)</span></label><div class='xr-section-inline-details'></div><div class='xr-section-details'><ul class='xr-var-list'><li class='xr-var-item'><div class='xr-var-name'><span class='xr-has-index'>lat</span></div><div class='xr-var-dims'>(lat)</div><div class='xr-var-dtype'>float64</div><div class='xr-var-preview xr-preview'>48.98 48.94 48.9 ... 45.57 45.53</div><input id='attrs-76bc21b5-9a13-441c-aff9-e717a2d88ff2' class='xr-var-attrs-in' type='checkbox' ><label for='attrs-76bc21b5-9a13-441c-aff9-e717a2d88ff2' title='Show/Hide attributes'><svg class='icon xr-icon-file-text2'><use xlink:href='#icon-file-text2'></use></svg></label><input id='data-1027ddb7-1ea2-46a3-a0cf-283d721b0c44' class='xr-var-data-in' type='checkbox'><label for='data-1027ddb7-1ea2-46a3-a0cf-283d721b0c44' title='Show/Hide data repr'><svg class='icon xr-icon-database'><use xlink:href='#icon-database'></use></svg></label><div class='xr-var-attrs'><dl class='xr-attrs'><dt><span>units :</span></dt><dd>degrees_north</dd><dt><span>description :</span></dt><dd>latitude</dd><dt><span>long_name :</span></dt><dd>latitude</dd><dt><span>standard_name :</span></dt><dd>latitude</dd><dt><span>axis :</span></dt><dd>Y</dd></dl></div><div class='xr-var-data'><pre>array([48.983333, 48.941667, 48.9     , 48.858333, 48.816667, 48.775   ,\n",
       "       48.733333, 48.691667, 48.65    , 48.608333, 48.566667, 48.525   ,\n",
       "       48.483333, 48.441667, 48.4     , 48.358333, 48.316667, 48.275   ,\n",
       "       48.233333, 48.191667, 48.15    , 48.108333, 48.066667, 48.025   ,\n",
       "       47.983333, 47.941667, 47.9     , 47.858333, 47.816667, 47.775   ,\n",
       "       47.733333, 47.691667, 47.65    , 47.608333, 47.566667, 47.525   ,\n",
       "       47.483333, 47.441667, 47.4     , 47.358333, 47.316667, 47.275   ,\n",
       "       47.233333, 47.191667, 47.15    , 47.108333, 47.066667, 47.025   ,\n",
       "       46.983333, 46.941667, 46.9     , 46.858333, 46.816667, 46.775   ,\n",
       "       46.733333, 46.691667, 46.65    , 46.608333, 46.566667, 46.525   ,\n",
       "       46.483333, 46.441667, 46.4     , 46.358333, 46.316667, 46.275   ,\n",
       "       46.233333, 46.191667, 46.15    , 46.108333, 46.066667, 46.025   ,\n",
       "       45.983333, 45.941667, 45.9     , 45.858333, 45.816667, 45.775   ,\n",
       "       45.733333, 45.691667, 45.65    , 45.608333, 45.566667, 45.525   ])</pre></div></li><li class='xr-var-item'><div class='xr-var-name'><span class='xr-has-index'>lon</span></div><div class='xr-var-dims'>(lon)</div><div class='xr-var-dtype'>float64</div><div class='xr-var-preview xr-preview'>-124.7 -124.7 ... -117.0 -116.9</div><input id='attrs-21556cc7-9b11-42d2-a447-c54c22920355' class='xr-var-attrs-in' type='checkbox' ><label for='attrs-21556cc7-9b11-42d2-a447-c54c22920355' title='Show/Hide attributes'><svg class='icon xr-icon-file-text2'><use xlink:href='#icon-file-text2'></use></svg></label><input id='data-42e77c97-8aaf-4196-b07c-3e1ee19b3046' class='xr-var-data-in' type='checkbox'><label for='data-42e77c97-8aaf-4196-b07c-3e1ee19b3046' title='Show/Hide data repr'><svg class='icon xr-icon-database'><use xlink:href='#icon-database'></use></svg></label><div class='xr-var-attrs'><dl class='xr-attrs'><dt><span>units :</span></dt><dd>degrees_east</dd><dt><span>description :</span></dt><dd>longitude</dd><dt><span>long_name :</span></dt><dd>longitude</dd><dt><span>standard_name :</span></dt><dd>longitude</dd><dt><span>axis :</span></dt><dd>X</dd></dl></div><div class='xr-var-data'><pre>array([-124.725   , -124.683333, -124.641667, -124.6     , -124.558333,\n",
       "       -124.516667, -124.475   , -124.433333, -124.391667, -124.35    ,\n",
       "       -124.308333, -124.266667, -124.225   , -124.183333, -124.141667,\n",
       "       -124.1     , -124.058333, -124.016667, -123.975   , -123.933333,\n",
       "       -123.891667, -123.85    , -123.808333, -123.766667, -123.725   ,\n",
       "       -123.683333, -123.641667, -123.6     , -123.558333, -123.516667,\n",
       "       -123.475   , -123.433333, -123.391667, -123.35    , -123.308333,\n",
       "       -123.266667, -123.225   , -123.183333, -123.141667, -123.1     ,\n",
       "       -123.058333, -123.016667, -122.975   , -122.933333, -122.891667,\n",
       "       -122.85    , -122.808333, -122.766667, -122.725   , -122.683333,\n",
       "       -122.641667, -122.6     , -122.558333, -122.516667, -122.475   ,\n",
       "       -122.433333, -122.391667, -122.35    , -122.308333, -122.266667,\n",
       "       -122.225   , -122.183333, -122.141667, -122.1     , -122.058333,\n",
       "       -122.016667, -121.975   , -121.933333, -121.891667, -121.85    ,\n",
       "       -121.808333, -121.766667, -121.725   , -121.683333, -121.641667,\n",
       "       -121.6     , -121.558333, -121.516667, -121.475   , -121.433333,\n",
       "       -121.391667, -121.35    , -121.308333, -121.266667, -121.225   ,\n",
       "       -121.183333, -121.141667, -121.1     , -121.058333, -121.016667,\n",
       "       -120.975   , -120.933333, -120.891667, -120.85    , -120.808333,\n",
       "       -120.766667, -120.725   , -120.683333, -120.641667, -120.6     ,\n",
       "       -120.558333, -120.516667, -120.475   , -120.433333, -120.391667,\n",
       "       -120.35    , -120.308333, -120.266667, -120.225   , -120.183333,\n",
       "       -120.141667, -120.1     , -120.058333, -120.016667, -119.975   ,\n",
       "       -119.933333, -119.891667, -119.85    , -119.808333, -119.766667,\n",
       "       -119.725   , -119.683333, -119.641667, -119.6     , -119.558333,\n",
       "       -119.516667, -119.475   , -119.433333, -119.391667, -119.35    ,\n",
       "       -119.308333, -119.266667, -119.225   , -119.183333, -119.141667,\n",
       "       -119.1     , -119.058333, -119.016667, -118.975   , -118.933333,\n",
       "       -118.891667, -118.85    , -118.808333, -118.766667, -118.725   ,\n",
       "       -118.683333, -118.641667, -118.6     , -118.558333, -118.516667,\n",
       "       -118.475   , -118.433333, -118.391667, -118.35    , -118.308333,\n",
       "       -118.266667, -118.225   , -118.183333, -118.141667, -118.1     ,\n",
       "       -118.058333, -118.016667, -117.975   , -117.933333, -117.891667,\n",
       "       -117.85    , -117.808333, -117.766667, -117.725   , -117.683333,\n",
       "       -117.641667, -117.6     , -117.558333, -117.516667, -117.475   ,\n",
       "       -117.433333, -117.391667, -117.35    , -117.308333, -117.266667,\n",
       "       -117.225   , -117.183333, -117.141667, -117.1     , -117.058333,\n",
       "       -117.016667, -116.975   , -116.933333])</pre></div></li><li class='xr-var-item'><div class='xr-var-name'><span class='xr-has-index'>day</span></div><div class='xr-var-dims'>(day)</div><div class='xr-var-dtype'>datetime64[ns]</div><div class='xr-var-preview xr-preview'>1980-01-05 ... 2021-12-31</div><input id='attrs-0704181a-51eb-47a9-9531-ad584c403e7d' class='xr-var-attrs-in' type='checkbox' ><label for='attrs-0704181a-51eb-47a9-9531-ad584c403e7d' title='Show/Hide attributes'><svg class='icon xr-icon-file-text2'><use xlink:href='#icon-file-text2'></use></svg></label><input id='data-60439e1c-eaea-4fd2-a5f0-bdf7f1d301e4' class='xr-var-data-in' type='checkbox'><label for='data-60439e1c-eaea-4fd2-a5f0-bdf7f1d301e4' title='Show/Hide data repr'><svg class='icon xr-icon-database'><use xlink:href='#icon-database'></use></svg></label><div class='xr-var-attrs'><dl class='xr-attrs'><dt><span>description :</span></dt><dd>days since 1900-01-01</dd><dt><span>long_name :</span></dt><dd>time</dd><dt><span>standard_name :</span></dt><dd>time</dd></dl></div><div class='xr-var-data'><pre>array([&#x27;1980-01-05T00:00:00.000000000&#x27;, &#x27;1980-01-10T00:00:00.000000000&#x27;,\n",
       "       &#x27;1980-01-15T00:00:00.000000000&#x27;, ..., &#x27;2021-12-21T00:00:00.000000000&#x27;,\n",
       "       &#x27;2021-12-26T00:00:00.000000000&#x27;, &#x27;2021-12-31T00:00:00.000000000&#x27;],\n",
       "      dtype=&#x27;datetime64[ns]&#x27;)</pre></div></li><li class='xr-var-item'><div class='xr-var-name'><span>crs</span></div><div class='xr-var-dims'>()</div><div class='xr-var-dtype'>int64</div><div class='xr-var-preview xr-preview'>0</div><input id='attrs-aaceb3ca-a419-45e8-a15c-4aaae6fd8dc6' class='xr-var-attrs-in' type='checkbox' ><label for='attrs-aaceb3ca-a419-45e8-a15c-4aaae6fd8dc6' title='Show/Hide attributes'><svg class='icon xr-icon-file-text2'><use xlink:href='#icon-file-text2'></use></svg></label><input id='data-5ee149ed-1761-4b1f-89cd-8326d32ea11c' class='xr-var-data-in' type='checkbox'><label for='data-5ee149ed-1761-4b1f-89cd-8326d32ea11c' title='Show/Hide data repr'><svg class='icon xr-icon-database'><use xlink:href='#icon-database'></use></svg></label><div class='xr-var-attrs'><dl class='xr-attrs'><dt><span>crs_wkt :</span></dt><dd>GEOGCS[&quot;WGS 84&quot;,DATUM[&quot;WGS_1984&quot;,SPHEROID[&quot;WGS 84&quot;,6378137,298.257223563,AUTHORITY[&quot;EPSG&quot;,&quot;7030&quot;]],AUTHORITY[&quot;EPSG&quot;,&quot;6326&quot;]],PRIMEM[&quot;Greenwich&quot;,0,AUTHORITY[&quot;EPSG&quot;,&quot;8901&quot;]],UNIT[&quot;degree&quot;,0.0174532925199433,AUTHORITY[&quot;EPSG&quot;,&quot;9122&quot;]],AXIS[&quot;Latitude&quot;,NORTH],AXIS[&quot;Longitude&quot;,EAST],AUTHORITY[&quot;EPSG&quot;,&quot;4326&quot;]]</dd><dt><span>semi_major_axis :</span></dt><dd>6378137.0</dd><dt><span>semi_minor_axis :</span></dt><dd>6356752.314245179</dd><dt><span>inverse_flattening :</span></dt><dd>298.257223563</dd><dt><span>reference_ellipsoid_name :</span></dt><dd>WGS 84</dd><dt><span>longitude_of_prime_meridian :</span></dt><dd>0.0</dd><dt><span>prime_meridian_name :</span></dt><dd>Greenwich</dd><dt><span>geographic_crs_name :</span></dt><dd>WGS 84</dd><dt><span>grid_mapping_name :</span></dt><dd>latitude_longitude</dd><dt><span>spatial_ref :</span></dt><dd>GEOGCS[&quot;WGS 84&quot;,DATUM[&quot;WGS_1984&quot;,SPHEROID[&quot;WGS 84&quot;,6378137,298.257223563,AUTHORITY[&quot;EPSG&quot;,&quot;7030&quot;]],AUTHORITY[&quot;EPSG&quot;,&quot;6326&quot;]],PRIMEM[&quot;Greenwich&quot;,0,AUTHORITY[&quot;EPSG&quot;,&quot;8901&quot;]],UNIT[&quot;degree&quot;,0.0174532925199433,AUTHORITY[&quot;EPSG&quot;,&quot;9122&quot;]],AXIS[&quot;Latitude&quot;,NORTH],AXIS[&quot;Longitude&quot;,EAST],AUTHORITY[&quot;EPSG&quot;,&quot;4326&quot;]]</dd><dt><span>GeoTransform :</span></dt><dd>-124.7458333 0.041666666666666616 0.0 49.00416666666667 0.0 -0.04166666666666661</dd></dl></div><div class='xr-var-data'><pre>array(0)</pre></div></li></ul></div></li><li class='xr-section-item'><input id='section-491b0bb6-9563-4c58-83ce-45ae0473f1e9' class='xr-section-summary-in' type='checkbox'  checked><label for='section-491b0bb6-9563-4c58-83ce-45ae0473f1e9' class='xr-section-summary' >Attributes: <span>(7)</span></label><div class='xr-section-inline-details'></div><div class='xr-section-details'><dl class='xr-attrs'><dt><span>units :</span></dt><dd></dd><dt><span>description :</span></dt><dd>Standardized Precipitation Index</dd><dt><span>long_name :</span></dt><dd>spi1y</dd><dt><span>standard_name :</span></dt><dd>spi1y</dd><dt><span>dimensions :</span></dt><dd>lon lat time</dd><dt><span>grid_mapping :</span></dt><dd>crs</dd><dt><span>coordinate_system :</span></dt><dd>WGS84,EPSG:4326</dd></dl></div></li></ul></div></div>"
      ],
      "text/plain": [
       "<xarray.DataArray 'spi' (day: 3066, lat: 84, lon: 188)>\n",
       "array([[[        nan,         nan,         nan, ..., -0.6199999 ,\n",
       "                 nan,         nan],\n",
       "        [        nan,         nan,         nan, ..., -0.6199999 ,\n",
       "                 nan,         nan],\n",
       "        [        nan,         nan,         nan, ..., -1.28      ,\n",
       "                 nan,         nan],\n",
       "        ...,\n",
       "        [        nan,         nan,         nan, ...,         nan,\n",
       "                 nan,         nan],\n",
       "        [        nan,         nan,         nan, ...,         nan,\n",
       "                 nan,         nan],\n",
       "        [        nan,         nan,         nan, ...,         nan,\n",
       "                 nan,         nan]],\n",
       "\n",
       "       [[        nan,         nan,         nan, ..., -0.71000004,\n",
       "                 nan,         nan],\n",
       "        [        nan,         nan,         nan, ..., -0.9000001 ,\n",
       "                 nan,         nan],\n",
       "        [        nan,         nan,         nan, ..., -1.28      ,\n",
       "                 nan,         nan],\n",
       "...\n",
       "        [        nan,         nan,         nan, ...,         nan,\n",
       "                 nan,         nan],\n",
       "        [        nan,         nan,         nan, ...,         nan,\n",
       "                 nan,         nan],\n",
       "        [        nan,         nan,         nan, ...,         nan,\n",
       "                 nan,         nan]],\n",
       "\n",
       "       [[        nan,         nan,         nan, ..., -0.32000017,\n",
       "                 nan,         nan],\n",
       "        [        nan,         nan,         nan, ..., -0.38999987,\n",
       "                 nan,         nan],\n",
       "        [        nan,         nan,         nan, ..., -0.38999987,\n",
       "                 nan,         nan],\n",
       "        ...,\n",
       "        [        nan,         nan,         nan, ...,         nan,\n",
       "                 nan,         nan],\n",
       "        [        nan,         nan,         nan, ...,         nan,\n",
       "                 nan,         nan],\n",
       "        [        nan,         nan,         nan, ...,         nan,\n",
       "                 nan,         nan]]], dtype=float32)\n",
       "Coordinates:\n",
       "  * lat      (lat) float64 48.98 48.94 48.9 48.86 ... 45.65 45.61 45.57 45.53\n",
       "  * lon      (lon) float64 -124.7 -124.7 -124.6 -124.6 ... -117.0 -117.0 -116.9\n",
       "  * day      (day) datetime64[ns] 1980-01-05 1980-01-10 ... 2021-12-31\n",
       "    crs      int64 0\n",
       "Attributes:\n",
       "    units:              \n",
       "    description:        Standardized Precipitation Index\n",
       "    long_name:          spi1y\n",
       "    standard_name:      spi1y\n",
       "    dimensions:         lon lat time\n",
       "    grid_mapping:       crs\n",
       "    coordinate_system:  WGS84,EPSG:4326"
      ]
     },
     "execution_count": 7,
     "metadata": {},
     "output_type": "execute_result"
    }
   ],
   "source": [
    "spi_da_wa"
   ]
  },
  {
   "cell_type": "code",
   "execution_count": 8,
   "metadata": {},
   "outputs": [
    {
     "data": {
      "text/html": [
       "<div><svg style=\"position: absolute; width: 0; height: 0; overflow: hidden\">\n",
       "<defs>\n",
       "<symbol id=\"icon-database\" viewBox=\"0 0 32 32\">\n",
       "<path d=\"M16 0c-8.837 0-16 2.239-16 5v4c0 2.761 7.163 5 16 5s16-2.239 16-5v-4c0-2.761-7.163-5-16-5z\"></path>\n",
       "<path d=\"M16 17c-8.837 0-16-2.239-16-5v6c0 2.761 7.163 5 16 5s16-2.239 16-5v-6c0 2.761-7.163 5-16 5z\"></path>\n",
       "<path d=\"M16 26c-8.837 0-16-2.239-16-5v6c0 2.761 7.163 5 16 5s16-2.239 16-5v-6c0 2.761-7.163 5-16 5z\"></path>\n",
       "</symbol>\n",
       "<symbol id=\"icon-file-text2\" viewBox=\"0 0 32 32\">\n",
       "<path d=\"M28.681 7.159c-0.694-0.947-1.662-2.053-2.724-3.116s-2.169-2.030-3.116-2.724c-1.612-1.182-2.393-1.319-2.841-1.319h-15.5c-1.378 0-2.5 1.121-2.5 2.5v27c0 1.378 1.122 2.5 2.5 2.5h23c1.378 0 2.5-1.122 2.5-2.5v-19.5c0-0.448-0.137-1.23-1.319-2.841zM24.543 5.457c0.959 0.959 1.712 1.825 2.268 2.543h-4.811v-4.811c0.718 0.556 1.584 1.309 2.543 2.268zM28 29.5c0 0.271-0.229 0.5-0.5 0.5h-23c-0.271 0-0.5-0.229-0.5-0.5v-27c0-0.271 0.229-0.5 0.5-0.5 0 0 15.499-0 15.5 0v7c0 0.552 0.448 1 1 1h7v19.5z\"></path>\n",
       "<path d=\"M23 26h-14c-0.552 0-1-0.448-1-1s0.448-1 1-1h14c0.552 0 1 0.448 1 1s-0.448 1-1 1z\"></path>\n",
       "<path d=\"M23 22h-14c-0.552 0-1-0.448-1-1s0.448-1 1-1h14c0.552 0 1 0.448 1 1s-0.448 1-1 1z\"></path>\n",
       "<path d=\"M23 18h-14c-0.552 0-1-0.448-1-1s0.448-1 1-1h14c0.552 0 1 0.448 1 1s-0.448 1-1 1z\"></path>\n",
       "</symbol>\n",
       "</defs>\n",
       "</svg>\n",
       "<style>/* CSS stylesheet for displaying xarray objects in jupyterlab.\n",
       " *\n",
       " */\n",
       "\n",
       ":root {\n",
       "  --xr-font-color0: var(--jp-content-font-color0, rgba(0, 0, 0, 1));\n",
       "  --xr-font-color2: var(--jp-content-font-color2, rgba(0, 0, 0, 0.54));\n",
       "  --xr-font-color3: var(--jp-content-font-color3, rgba(0, 0, 0, 0.38));\n",
       "  --xr-border-color: var(--jp-border-color2, #e0e0e0);\n",
       "  --xr-disabled-color: var(--jp-layout-color3, #bdbdbd);\n",
       "  --xr-background-color: var(--jp-layout-color0, white);\n",
       "  --xr-background-color-row-even: var(--jp-layout-color1, white);\n",
       "  --xr-background-color-row-odd: var(--jp-layout-color2, #eeeeee);\n",
       "}\n",
       "\n",
       "html[theme=dark],\n",
       "body.vscode-dark {\n",
       "  --xr-font-color0: rgba(255, 255, 255, 1);\n",
       "  --xr-font-color2: rgba(255, 255, 255, 0.54);\n",
       "  --xr-font-color3: rgba(255, 255, 255, 0.38);\n",
       "  --xr-border-color: #1F1F1F;\n",
       "  --xr-disabled-color: #515151;\n",
       "  --xr-background-color: #111111;\n",
       "  --xr-background-color-row-even: #111111;\n",
       "  --xr-background-color-row-odd: #313131;\n",
       "}\n",
       "\n",
       ".xr-wrap {\n",
       "  display: block !important;\n",
       "  min-width: 300px;\n",
       "  max-width: 700px;\n",
       "}\n",
       "\n",
       ".xr-text-repr-fallback {\n",
       "  /* fallback to plain text repr when CSS is not injected (untrusted notebook) */\n",
       "  display: none;\n",
       "}\n",
       "\n",
       ".xr-header {\n",
       "  padding-top: 6px;\n",
       "  padding-bottom: 6px;\n",
       "  margin-bottom: 4px;\n",
       "  border-bottom: solid 1px var(--xr-border-color);\n",
       "}\n",
       "\n",
       ".xr-header > div,\n",
       ".xr-header > ul {\n",
       "  display: inline;\n",
       "  margin-top: 0;\n",
       "  margin-bottom: 0;\n",
       "}\n",
       "\n",
       ".xr-obj-type,\n",
       ".xr-array-name {\n",
       "  margin-left: 2px;\n",
       "  margin-right: 10px;\n",
       "}\n",
       "\n",
       ".xr-obj-type {\n",
       "  color: var(--xr-font-color2);\n",
       "}\n",
       "\n",
       ".xr-sections {\n",
       "  padding-left: 0 !important;\n",
       "  display: grid;\n",
       "  grid-template-columns: 150px auto auto 1fr 20px 20px;\n",
       "}\n",
       "\n",
       ".xr-section-item {\n",
       "  display: contents;\n",
       "}\n",
       "\n",
       ".xr-section-item input {\n",
       "  display: none;\n",
       "}\n",
       "\n",
       ".xr-section-item input + label {\n",
       "  color: var(--xr-disabled-color);\n",
       "}\n",
       "\n",
       ".xr-section-item input:enabled + label {\n",
       "  cursor: pointer;\n",
       "  color: var(--xr-font-color2);\n",
       "}\n",
       "\n",
       ".xr-section-item input:enabled + label:hover {\n",
       "  color: var(--xr-font-color0);\n",
       "}\n",
       "\n",
       ".xr-section-summary {\n",
       "  grid-column: 1;\n",
       "  color: var(--xr-font-color2);\n",
       "  font-weight: 500;\n",
       "}\n",
       "\n",
       ".xr-section-summary > span {\n",
       "  display: inline-block;\n",
       "  padding-left: 0.5em;\n",
       "}\n",
       "\n",
       ".xr-section-summary-in:disabled + label {\n",
       "  color: var(--xr-font-color2);\n",
       "}\n",
       "\n",
       ".xr-section-summary-in + label:before {\n",
       "  display: inline-block;\n",
       "  content: '►';\n",
       "  font-size: 11px;\n",
       "  width: 15px;\n",
       "  text-align: center;\n",
       "}\n",
       "\n",
       ".xr-section-summary-in:disabled + label:before {\n",
       "  color: var(--xr-disabled-color);\n",
       "}\n",
       "\n",
       ".xr-section-summary-in:checked + label:before {\n",
       "  content: '▼';\n",
       "}\n",
       "\n",
       ".xr-section-summary-in:checked + label > span {\n",
       "  display: none;\n",
       "}\n",
       "\n",
       ".xr-section-summary,\n",
       ".xr-section-inline-details {\n",
       "  padding-top: 4px;\n",
       "  padding-bottom: 4px;\n",
       "}\n",
       "\n",
       ".xr-section-inline-details {\n",
       "  grid-column: 2 / -1;\n",
       "}\n",
       "\n",
       ".xr-section-details {\n",
       "  display: none;\n",
       "  grid-column: 1 / -1;\n",
       "  margin-bottom: 5px;\n",
       "}\n",
       "\n",
       ".xr-section-summary-in:checked ~ .xr-section-details {\n",
       "  display: contents;\n",
       "}\n",
       "\n",
       ".xr-array-wrap {\n",
       "  grid-column: 1 / -1;\n",
       "  display: grid;\n",
       "  grid-template-columns: 20px auto;\n",
       "}\n",
       "\n",
       ".xr-array-wrap > label {\n",
       "  grid-column: 1;\n",
       "  vertical-align: top;\n",
       "}\n",
       "\n",
       ".xr-preview {\n",
       "  color: var(--xr-font-color3);\n",
       "}\n",
       "\n",
       ".xr-array-preview,\n",
       ".xr-array-data {\n",
       "  padding: 0 5px !important;\n",
       "  grid-column: 2;\n",
       "}\n",
       "\n",
       ".xr-array-data,\n",
       ".xr-array-in:checked ~ .xr-array-preview {\n",
       "  display: none;\n",
       "}\n",
       "\n",
       ".xr-array-in:checked ~ .xr-array-data,\n",
       ".xr-array-preview {\n",
       "  display: inline-block;\n",
       "}\n",
       "\n",
       ".xr-dim-list {\n",
       "  display: inline-block !important;\n",
       "  list-style: none;\n",
       "  padding: 0 !important;\n",
       "  margin: 0;\n",
       "}\n",
       "\n",
       ".xr-dim-list li {\n",
       "  display: inline-block;\n",
       "  padding: 0;\n",
       "  margin: 0;\n",
       "}\n",
       "\n",
       ".xr-dim-list:before {\n",
       "  content: '(';\n",
       "}\n",
       "\n",
       ".xr-dim-list:after {\n",
       "  content: ')';\n",
       "}\n",
       "\n",
       ".xr-dim-list li:not(:last-child):after {\n",
       "  content: ',';\n",
       "  padding-right: 5px;\n",
       "}\n",
       "\n",
       ".xr-has-index {\n",
       "  font-weight: bold;\n",
       "}\n",
       "\n",
       ".xr-var-list,\n",
       ".xr-var-item {\n",
       "  display: contents;\n",
       "}\n",
       "\n",
       ".xr-var-item > div,\n",
       ".xr-var-item label,\n",
       ".xr-var-item > .xr-var-name span {\n",
       "  background-color: var(--xr-background-color-row-even);\n",
       "  margin-bottom: 0;\n",
       "}\n",
       "\n",
       ".xr-var-item > .xr-var-name:hover span {\n",
       "  padding-right: 5px;\n",
       "}\n",
       "\n",
       ".xr-var-list > li:nth-child(odd) > div,\n",
       ".xr-var-list > li:nth-child(odd) > label,\n",
       ".xr-var-list > li:nth-child(odd) > .xr-var-name span {\n",
       "  background-color: var(--xr-background-color-row-odd);\n",
       "}\n",
       "\n",
       ".xr-var-name {\n",
       "  grid-column: 1;\n",
       "}\n",
       "\n",
       ".xr-var-dims {\n",
       "  grid-column: 2;\n",
       "}\n",
       "\n",
       ".xr-var-dtype {\n",
       "  grid-column: 3;\n",
       "  text-align: right;\n",
       "  color: var(--xr-font-color2);\n",
       "}\n",
       "\n",
       ".xr-var-preview {\n",
       "  grid-column: 4;\n",
       "}\n",
       "\n",
       ".xr-var-name,\n",
       ".xr-var-dims,\n",
       ".xr-var-dtype,\n",
       ".xr-preview,\n",
       ".xr-attrs dt {\n",
       "  white-space: nowrap;\n",
       "  overflow: hidden;\n",
       "  text-overflow: ellipsis;\n",
       "  padding-right: 10px;\n",
       "}\n",
       "\n",
       ".xr-var-name:hover,\n",
       ".xr-var-dims:hover,\n",
       ".xr-var-dtype:hover,\n",
       ".xr-attrs dt:hover {\n",
       "  overflow: visible;\n",
       "  width: auto;\n",
       "  z-index: 1;\n",
       "}\n",
       "\n",
       ".xr-var-attrs,\n",
       ".xr-var-data {\n",
       "  display: none;\n",
       "  background-color: var(--xr-background-color) !important;\n",
       "  padding-bottom: 5px !important;\n",
       "}\n",
       "\n",
       ".xr-var-attrs-in:checked ~ .xr-var-attrs,\n",
       ".xr-var-data-in:checked ~ .xr-var-data {\n",
       "  display: block;\n",
       "}\n",
       "\n",
       ".xr-var-data > table {\n",
       "  float: right;\n",
       "}\n",
       "\n",
       ".xr-var-name span,\n",
       ".xr-var-data,\n",
       ".xr-attrs {\n",
       "  padding-left: 25px !important;\n",
       "}\n",
       "\n",
       ".xr-attrs,\n",
       ".xr-var-attrs,\n",
       ".xr-var-data {\n",
       "  grid-column: 1 / -1;\n",
       "}\n",
       "\n",
       "dl.xr-attrs {\n",
       "  padding: 0;\n",
       "  margin: 0;\n",
       "  display: grid;\n",
       "  grid-template-columns: 125px auto;\n",
       "}\n",
       "\n",
       ".xr-attrs dt,\n",
       ".xr-attrs dd {\n",
       "  padding: 0;\n",
       "  margin: 0;\n",
       "  float: left;\n",
       "  padding-right: 10px;\n",
       "  width: auto;\n",
       "}\n",
       "\n",
       ".xr-attrs dt {\n",
       "  font-weight: normal;\n",
       "  grid-column: 1;\n",
       "}\n",
       "\n",
       ".xr-attrs dt:hover span {\n",
       "  display: inline-block;\n",
       "  background: var(--xr-background-color);\n",
       "  padding-right: 10px;\n",
       "}\n",
       "\n",
       ".xr-attrs dd {\n",
       "  grid-column: 2;\n",
       "  white-space: pre-wrap;\n",
       "  word-break: break-all;\n",
       "}\n",
       "\n",
       ".xr-icon-database,\n",
       ".xr-icon-file-text2 {\n",
       "  display: inline-block;\n",
       "  vertical-align: middle;\n",
       "  width: 1em;\n",
       "  height: 1.5em !important;\n",
       "  stroke-width: 0;\n",
       "  stroke: currentColor;\n",
       "  fill: currentColor;\n",
       "}\n",
       "</style><pre class='xr-text-repr-fallback'>&lt;xarray.DataArray &#x27;USDM&#x27; (date: 1163, lat: 139, lon: 314)&gt;\n",
       "[50760298 values with dtype=float64]\n",
       "Coordinates:\n",
       "  * lat          (lat) float64 49.0 48.97 48.95 48.92 ... 45.62 45.6 45.57 45.55\n",
       "  * lon          (lon) float64 -124.7 -124.7 -124.7 ... -117.0 -116.9 -116.9\n",
       "  * date         (date) datetime64[ns] 2000-01-04 2000-01-11 ... 2022-04-12\n",
       "    spatial_ref  int64 0\n",
       "Attributes:\n",
       "    crs_wkt:                      GEOGCS[&quot;WGS 84&quot;,DATUM[&quot;WGS_1984&quot;,SPHEROID[&quot;...\n",
       "    semi_major_axis:              6378137.0\n",
       "    semi_minor_axis:              6356752.314245179\n",
       "    inverse_flattening:           298.257223563\n",
       "    reference_ellipsoid_name:     WGS 84\n",
       "    longitude_of_prime_meridian:  0.0\n",
       "    prime_meridian_name:          Greenwich\n",
       "    geographic_crs_name:          WGS 84\n",
       "    grid_mapping_name:            latitude_longitude\n",
       "    spatial_ref:                  GEOGCS[&quot;WGS 84&quot;,DATUM[&quot;WGS_1984&quot;,SPHEROID[&quot;...\n",
       "    GeoTransform:                 -124.74590760646159 0.024999999999999963 0....</pre><div class='xr-wrap' style='display:none'><div class='xr-header'><div class='xr-obj-type'>xarray.DataArray</div><div class='xr-array-name'>'USDM'</div><ul class='xr-dim-list'><li><span class='xr-has-index'>date</span>: 1163</li><li><span class='xr-has-index'>lat</span>: 139</li><li><span class='xr-has-index'>lon</span>: 314</li></ul></div><ul class='xr-sections'><li class='xr-section-item'><div class='xr-array-wrap'><input id='section-d93b6302-3e36-4d41-a44b-920af066bd7b' class='xr-array-in' type='checkbox' checked><label for='section-d93b6302-3e36-4d41-a44b-920af066bd7b' title='Show/hide data repr'><svg class='icon xr-icon-database'><use xlink:href='#icon-database'></use></svg></label><div class='xr-array-preview xr-preview'><span>...</span></div><div class='xr-array-data'><pre>[50760298 values with dtype=float64]</pre></div></div></li><li class='xr-section-item'><input id='section-88650c07-18ba-46b3-a133-f28d36bb6c3c' class='xr-section-summary-in' type='checkbox'  checked><label for='section-88650c07-18ba-46b3-a133-f28d36bb6c3c' class='xr-section-summary' >Coordinates: <span>(4)</span></label><div class='xr-section-inline-details'></div><div class='xr-section-details'><ul class='xr-var-list'><li class='xr-var-item'><div class='xr-var-name'><span class='xr-has-index'>lat</span></div><div class='xr-var-dims'>(lat)</div><div class='xr-var-dtype'>float64</div><div class='xr-var-preview xr-preview'>49.0 48.97 48.95 ... 45.57 45.55</div><input id='attrs-771c30f3-ed51-462a-9b62-6a8386a4520c' class='xr-var-attrs-in' type='checkbox' ><label for='attrs-771c30f3-ed51-462a-9b62-6a8386a4520c' title='Show/Hide attributes'><svg class='icon xr-icon-file-text2'><use xlink:href='#icon-file-text2'></use></svg></label><input id='data-a992d356-f8b1-400b-a3ca-3dc7946f8658' class='xr-var-data-in' type='checkbox'><label for='data-a992d356-f8b1-400b-a3ca-3dc7946f8658' title='Show/Hide data repr'><svg class='icon xr-icon-database'><use xlink:href='#icon-database'></use></svg></label><div class='xr-var-attrs'><dl class='xr-attrs'><dt><span>axis :</span></dt><dd>Y</dd><dt><span>long_name :</span></dt><dd>latitude</dd><dt><span>standard_name :</span></dt><dd>latitude</dd><dt><span>units :</span></dt><dd>degrees_north</dd></dl></div><div class='xr-var-data'><pre>array([48.998048, 48.973048, 48.948048, 48.923048, 48.898048, 48.873048,\n",
       "       48.848048, 48.823048, 48.798048, 48.773048, 48.748048, 48.723048,\n",
       "       48.698048, 48.673048, 48.648048, 48.623048, 48.598048, 48.573048,\n",
       "       48.548048, 48.523048, 48.498048, 48.473048, 48.448048, 48.423048,\n",
       "       48.398048, 48.373048, 48.348048, 48.323048, 48.298048, 48.273048,\n",
       "       48.248048, 48.223048, 48.198048, 48.173048, 48.148048, 48.123048,\n",
       "       48.098048, 48.073048, 48.048048, 48.023048, 47.998048, 47.973048,\n",
       "       47.948048, 47.923048, 47.898048, 47.873048, 47.848048, 47.823048,\n",
       "       47.798048, 47.773048, 47.748048, 47.723048, 47.698048, 47.673048,\n",
       "       47.648048, 47.623048, 47.598048, 47.573048, 47.548048, 47.523048,\n",
       "       47.498048, 47.473048, 47.448048, 47.423048, 47.398048, 47.373048,\n",
       "       47.348048, 47.323048, 47.298048, 47.273048, 47.248048, 47.223048,\n",
       "       47.198048, 47.173048, 47.148048, 47.123048, 47.098048, 47.073048,\n",
       "       47.048048, 47.023048, 46.998048, 46.973048, 46.948048, 46.923048,\n",
       "       46.898048, 46.873048, 46.848048, 46.823048, 46.798048, 46.773048,\n",
       "       46.748048, 46.723048, 46.698048, 46.673048, 46.648048, 46.623048,\n",
       "       46.598048, 46.573048, 46.548048, 46.523048, 46.498048, 46.473048,\n",
       "       46.448048, 46.423048, 46.398048, 46.373048, 46.348048, 46.323048,\n",
       "       46.298048, 46.273048, 46.248048, 46.223048, 46.198048, 46.173048,\n",
       "       46.148048, 46.123048, 46.098048, 46.073048, 46.048048, 46.023048,\n",
       "       45.998048, 45.973048, 45.948048, 45.923048, 45.898048, 45.873048,\n",
       "       45.848048, 45.823048, 45.798048, 45.773048, 45.748048, 45.723048,\n",
       "       45.698048, 45.673048, 45.648048, 45.623048, 45.598048, 45.573048,\n",
       "       45.548048])</pre></div></li><li class='xr-var-item'><div class='xr-var-name'><span class='xr-has-index'>lon</span></div><div class='xr-var-dims'>(lon)</div><div class='xr-var-dtype'>float64</div><div class='xr-var-preview xr-preview'>-124.7 -124.7 ... -116.9 -116.9</div><input id='attrs-d87c953e-8713-4651-8d65-8d2f87535679' class='xr-var-attrs-in' type='checkbox' ><label for='attrs-d87c953e-8713-4651-8d65-8d2f87535679' title='Show/Hide attributes'><svg class='icon xr-icon-file-text2'><use xlink:href='#icon-file-text2'></use></svg></label><input id='data-4782a9a1-9ac6-469c-b692-76fc42678dd5' class='xr-var-data-in' type='checkbox'><label for='data-4782a9a1-9ac6-469c-b692-76fc42678dd5' title='Show/Hide data repr'><svg class='icon xr-icon-database'><use xlink:href='#icon-database'></use></svg></label><div class='xr-var-attrs'><dl class='xr-attrs'><dt><span>axis :</span></dt><dd>X</dd><dt><span>long_name :</span></dt><dd>longitude</dd><dt><span>standard_name :</span></dt><dd>longitude</dd><dt><span>units :</span></dt><dd>degrees_east</dd></dl></div><div class='xr-var-data'><pre>array([-124.733408, -124.708408, -124.683408, ..., -116.958408, -116.933408,\n",
       "       -116.908408])</pre></div></li><li class='xr-var-item'><div class='xr-var-name'><span class='xr-has-index'>date</span></div><div class='xr-var-dims'>(date)</div><div class='xr-var-dtype'>datetime64[ns]</div><div class='xr-var-preview xr-preview'>2000-01-04 ... 2022-04-12</div><input id='attrs-b17b5c6f-5f9e-4b27-80b7-fb0884de7039' class='xr-var-attrs-in' type='checkbox' ><label for='attrs-b17b5c6f-5f9e-4b27-80b7-fb0884de7039' title='Show/Hide attributes'><svg class='icon xr-icon-file-text2'><use xlink:href='#icon-file-text2'></use></svg></label><input id='data-20e1eb00-8de4-4585-8284-9fc22cc40bba' class='xr-var-data-in' type='checkbox'><label for='data-20e1eb00-8de4-4585-8284-9fc22cc40bba' title='Show/Hide data repr'><svg class='icon xr-icon-database'><use xlink:href='#icon-database'></use></svg></label><div class='xr-var-attrs'><dl class='xr-attrs'><dt><span>notes :</span></dt><dd>release date for USDM map according to file naming convention, release time not documented here</dd></dl></div><div class='xr-var-data'><pre>array([&#x27;2000-01-04T00:00:00.000000000&#x27;, &#x27;2000-01-11T00:00:00.000000000&#x27;,\n",
       "       &#x27;2000-01-18T00:00:00.000000000&#x27;, ..., &#x27;2022-03-29T00:00:00.000000000&#x27;,\n",
       "       &#x27;2022-04-05T00:00:00.000000000&#x27;, &#x27;2022-04-12T00:00:00.000000000&#x27;],\n",
       "      dtype=&#x27;datetime64[ns]&#x27;)</pre></div></li><li class='xr-var-item'><div class='xr-var-name'><span>spatial_ref</span></div><div class='xr-var-dims'>()</div><div class='xr-var-dtype'>int64</div><div class='xr-var-preview xr-preview'>0</div><input id='attrs-dc42d206-9ddc-4ca8-a3b5-f8bf7445ffa4' class='xr-var-attrs-in' type='checkbox' ><label for='attrs-dc42d206-9ddc-4ca8-a3b5-f8bf7445ffa4' title='Show/Hide attributes'><svg class='icon xr-icon-file-text2'><use xlink:href='#icon-file-text2'></use></svg></label><input id='data-c70a5f52-cd80-496c-bbcc-b6c064dc1d4a' class='xr-var-data-in' type='checkbox'><label for='data-c70a5f52-cd80-496c-bbcc-b6c064dc1d4a' title='Show/Hide data repr'><svg class='icon xr-icon-database'><use xlink:href='#icon-database'></use></svg></label><div class='xr-var-attrs'><dl class='xr-attrs'><dt><span>crs_wkt :</span></dt><dd>GEOGCS[&quot;WGS 84&quot;,DATUM[&quot;WGS_1984&quot;,SPHEROID[&quot;WGS 84&quot;,6378137,298.257223563,AUTHORITY[&quot;EPSG&quot;,&quot;7030&quot;]],AUTHORITY[&quot;EPSG&quot;,&quot;6326&quot;]],PRIMEM[&quot;Greenwich&quot;,0,AUTHORITY[&quot;EPSG&quot;,&quot;8901&quot;]],UNIT[&quot;degree&quot;,0.0174532925199433,AUTHORITY[&quot;EPSG&quot;,&quot;9122&quot;]],AXIS[&quot;Latitude&quot;,NORTH],AXIS[&quot;Longitude&quot;,EAST],AUTHORITY[&quot;EPSG&quot;,&quot;4326&quot;]]</dd><dt><span>semi_major_axis :</span></dt><dd>6378137.0</dd><dt><span>semi_minor_axis :</span></dt><dd>6356752.314245179</dd><dt><span>inverse_flattening :</span></dt><dd>298.257223563</dd><dt><span>reference_ellipsoid_name :</span></dt><dd>WGS 84</dd><dt><span>longitude_of_prime_meridian :</span></dt><dd>0.0</dd><dt><span>prime_meridian_name :</span></dt><dd>Greenwich</dd><dt><span>geographic_crs_name :</span></dt><dd>WGS 84</dd><dt><span>grid_mapping_name :</span></dt><dd>latitude_longitude</dd><dt><span>spatial_ref :</span></dt><dd>GEOGCS[&quot;WGS 84&quot;,DATUM[&quot;WGS_1984&quot;,SPHEROID[&quot;WGS 84&quot;,6378137,298.257223563,AUTHORITY[&quot;EPSG&quot;,&quot;7030&quot;]],AUTHORITY[&quot;EPSG&quot;,&quot;6326&quot;]],PRIMEM[&quot;Greenwich&quot;,0,AUTHORITY[&quot;EPSG&quot;,&quot;8901&quot;]],UNIT[&quot;degree&quot;,0.0174532925199433,AUTHORITY[&quot;EPSG&quot;,&quot;9122&quot;]],AXIS[&quot;Latitude&quot;,NORTH],AXIS[&quot;Longitude&quot;,EAST],AUTHORITY[&quot;EPSG&quot;,&quot;4326&quot;]]</dd></dl></div><div class='xr-var-data'><pre>array(0)</pre></div></li></ul></div></li><li class='xr-section-item'><input id='section-b85543e2-1afa-4c6b-9344-25c6e088d156' class='xr-section-summary-in' type='checkbox'  ><label for='section-b85543e2-1afa-4c6b-9344-25c6e088d156' class='xr-section-summary' >Attributes: <span>(11)</span></label><div class='xr-section-inline-details'></div><div class='xr-section-details'><dl class='xr-attrs'><dt><span>crs_wkt :</span></dt><dd>GEOGCS[&quot;WGS 84&quot;,DATUM[&quot;WGS_1984&quot;,SPHEROID[&quot;WGS 84&quot;,6378137,298.257223563,AUTHORITY[&quot;EPSG&quot;,&quot;7030&quot;]],AUTHORITY[&quot;EPSG&quot;,&quot;6326&quot;]],PRIMEM[&quot;Greenwich&quot;,0,AUTHORITY[&quot;EPSG&quot;,&quot;8901&quot;]],UNIT[&quot;degree&quot;,0.0174532925199433,AUTHORITY[&quot;EPSG&quot;,&quot;9122&quot;]],AXIS[&quot;Latitude&quot;,NORTH],AXIS[&quot;Longitude&quot;,EAST],AUTHORITY[&quot;EPSG&quot;,&quot;4326&quot;]]</dd><dt><span>semi_major_axis :</span></dt><dd>6378137.0</dd><dt><span>semi_minor_axis :</span></dt><dd>6356752.314245179</dd><dt><span>inverse_flattening :</span></dt><dd>298.257223563</dd><dt><span>reference_ellipsoid_name :</span></dt><dd>WGS 84</dd><dt><span>longitude_of_prime_meridian :</span></dt><dd>0.0</dd><dt><span>prime_meridian_name :</span></dt><dd>Greenwich</dd><dt><span>geographic_crs_name :</span></dt><dd>WGS 84</dd><dt><span>grid_mapping_name :</span></dt><dd>latitude_longitude</dd><dt><span>spatial_ref :</span></dt><dd>GEOGCS[&quot;WGS 84&quot;,DATUM[&quot;WGS_1984&quot;,SPHEROID[&quot;WGS 84&quot;,6378137,298.257223563,AUTHORITY[&quot;EPSG&quot;,&quot;7030&quot;]],AUTHORITY[&quot;EPSG&quot;,&quot;6326&quot;]],PRIMEM[&quot;Greenwich&quot;,0,AUTHORITY[&quot;EPSG&quot;,&quot;8901&quot;]],UNIT[&quot;degree&quot;,0.0174532925199433,AUTHORITY[&quot;EPSG&quot;,&quot;9122&quot;]],AXIS[&quot;Latitude&quot;,NORTH],AXIS[&quot;Longitude&quot;,EAST],AUTHORITY[&quot;EPSG&quot;,&quot;4326&quot;]]</dd><dt><span>GeoTransform :</span></dt><dd>-124.74590760646159 0.024999999999999963 0.0 49.01054810699192 0.0 -0.02499999999999997</dd></dl></div></li></ul></div></div>"
      ],
      "text/plain": [
       "<xarray.DataArray 'USDM' (date: 1163, lat: 139, lon: 314)>\n",
       "[50760298 values with dtype=float64]\n",
       "Coordinates:\n",
       "  * lat          (lat) float64 49.0 48.97 48.95 48.92 ... 45.62 45.6 45.57 45.55\n",
       "  * lon          (lon) float64 -124.7 -124.7 -124.7 ... -117.0 -116.9 -116.9\n",
       "  * date         (date) datetime64[ns] 2000-01-04 2000-01-11 ... 2022-04-12\n",
       "    spatial_ref  int64 0\n",
       "Attributes:\n",
       "    crs_wkt:                      GEOGCS[\"WGS 84\",DATUM[\"WGS_1984\",SPHEROID[\"...\n",
       "    semi_major_axis:              6378137.0\n",
       "    semi_minor_axis:              6356752.314245179\n",
       "    inverse_flattening:           298.257223563\n",
       "    reference_ellipsoid_name:     WGS 84\n",
       "    longitude_of_prime_meridian:  0.0\n",
       "    prime_meridian_name:          Greenwich\n",
       "    geographic_crs_name:          WGS 84\n",
       "    grid_mapping_name:            latitude_longitude\n",
       "    spatial_ref:                  GEOGCS[\"WGS 84\",DATUM[\"WGS_1984\",SPHEROID[\"...\n",
       "    GeoTransform:                 -124.74590760646159 0.024999999999999963 0...."
      ]
     },
     "execution_count": 8,
     "metadata": {},
     "output_type": "execute_result"
    }
   ],
   "source": [
    "usdm_da_wa"
   ]
  },
  {
   "cell_type": "markdown",
   "metadata": {},
   "source": [
    "## Prelim plots"
   ]
  },
  {
   "cell_type": "markdown",
   "metadata": {},
   "source": [
    "So I know that USDM is every week (7 days), while SPI is every 5 days."
   ]
  },
  {
   "cell_type": "code",
   "execution_count": 9,
   "metadata": {},
   "outputs": [],
   "source": [
    "# this is the first time stamp for UDSM ...\n",
    "usdm_da_wa_sel = usdm_da_wa.sel(date='2000-01-04')"
   ]
  },
  {
   "cell_type": "code",
   "execution_count": 10,
   "metadata": {},
   "outputs": [],
   "source": [
    "# and it looks like there is an SPI for the 5th, so that's\n",
    "# close enough for me\n",
    "spi_da_wa_sel = spi_da_wa.sel(day='2000-01-05')"
   ]
  },
  {
   "cell_type": "code",
   "execution_count": 11,
   "metadata": {},
   "outputs": [
    {
     "data": {
      "image/png": "[encoded data removed]",
      "text/plain": [
       "<Figure size 1080x360 with 4 Axes>"
      ]
     },
     "metadata": {
      "needs_background": "light"
     },
     "output_type": "display_data"
    }
   ],
   "source": [
    "fig, ax = plt.subplots(1,2, figsize=(15,5))\n",
    "\n",
    "usdm_da_wa_sel.plot(ax=ax[0])\n",
    "spi_da_wa_sel.plot(ax=ax[1])\n",
    "\n",
    "ax[0].set_title('USDM (2000-01-04)')\n",
    "ax[1].set_title('SPI - 1y (2000-01-05)')\n",
    "\n",
    "plt.tight_layout()"
   ]
  },
  {
   "cell_type": "markdown",
   "metadata": {},
   "source": [
    "Hm, let's make a function to get the correct USDM colorbar ...\n",
    "\n",
    "-1 : Neutral (or Wet)    \n",
    "0 : D0 (Abnormal Dry)    \n",
    "1 : D1 (Moderate Drought)    \n",
    "2 : D2 (Severe Drought)    \n",
    "3 : D3 (Extreme Drought)    \n",
    "4 : D4 (Exceptional Drought)"
   ]
  },
  {
   "cell_type": "code",
   "execution_count": 12,
   "metadata": {},
   "outputs": [],
   "source": [
    "usdm_colors=[\"white\",\"yellow\",\"navajowhite\",\"orange\",\"crimson\",\"darkred\"]\n",
    "usdm_cmap = mpl.colors.LinearSegmentedColormap.from_list(\"mycmap\", usdm_colors)\n",
    "usdm_cats = [\"D0\",\"D1\",\"D2\",\"D3\",\"D4\"]"
   ]
  },
  {
   "cell_type": "code",
   "execution_count": 13,
   "metadata": {},
   "outputs": [
    {
     "data": {
      "image/png": "[encoded data removed]",
      "text/plain": [
       "<Figure size 1080x360 with 4 Axes>"
      ]
     },
     "metadata": {
      "needs_background": "light"
     },
     "output_type": "display_data"
    }
   ],
   "source": [
    "fig, ax = plt.subplots(1,2, figsize=(15,5))\n",
    "\n",
    "usdm_plot = usdm_da_wa_sel.plot(ax=ax[0], cmap = usdm_cmap, vmin=-1, vmax=4)\n",
    "spi_da_wa_sel.plot(ax=ax[1], cmap='RdBu')\n",
    "\n",
    "ax[0].set_title('USDM (2000-01-04)')\n",
    "ax[1].set_title('SPI - 1y (2000-01-05)')\n",
    "\n",
    "plt.tight_layout()"
   ]
  },
  {
   "cell_type": "markdown",
   "metadata": {},
   "source": [
    "That works. It seems a bit tricky to get the proper labels, so I'm going to move on since it'll be useful to preserve those values for operations."
   ]
  },
  {
   "cell_type": "markdown",
   "metadata": {},
   "source": [
    "Here is the USDM's breakdown on values for SPI to create like-catagories: https://droughtmonitor.unl.edu/About/AbouttheData/DroughtClassification.aspx\n",
    "\n",
    "D0 : -0.5 to -0.7 (21 to 30 p)    \n",
    "D1 : -0.8 to -1.2 (11 to 20 p)    \n",
    "D2 : -1.3 to -1.5 (6 to 10 p)    \n",
    "D3 : -1.6 to -1.9 (3 to 5 p)    \n",
    "D4 : -2.0 or less (0 to 2 p)\n",
    "\n",
    "Which would then place the -1 marker to be anything greater than -0.5 I think ... yeah because USDM doesn't distinguish between degrees of wetness, so it'd all be the same."
   ]
  },
  {
   "cell_type": "markdown",
   "metadata": {},
   "source": [
    "Let's try implementing this ... and if it works then I'll toss it in a function"
   ]
  },
  {
   "cell_type": "code",
   "execution_count": 14,
   "metadata": {},
   "outputs": [],
   "source": [
    "spi_1y_usdmcat = spi_da_wa_sel.copy()\n",
    "# need to get the underlying array because I can't do this fancy\n",
    "# indexing on the datarray (sad)\n",
    "spi_1y_usdmcat_vals = spi_1y_usdmcat.values\n",
    "# need to make a copy we don't edit to not compound reassignment\n",
    "spi_1y_usdmcat_origin = spi_1y_usdmcat_vals.copy()\n",
    "# set values ...\n",
    "spi_1y_usdmcat_vals[spi_1y_usdmcat_origin > -0.5] = -1\n",
    "spi_1y_usdmcat_vals[(spi_1y_usdmcat_origin <= -0.5)&(spi_1y_usdmcat_origin > -0.8)] = 0\n",
    "spi_1y_usdmcat_vals[(spi_1y_usdmcat_origin <= -0.8)&(spi_1y_usdmcat_origin > -1.3)] = 1\n",
    "spi_1y_usdmcat_vals[(spi_1y_usdmcat_origin <= -1.3)&(spi_1y_usdmcat_origin > -1.6)] = 2\n",
    "spi_1y_usdmcat_vals[(spi_1y_usdmcat_origin <= -1.6)&(spi_1y_usdmcat_origin > -2.0)] = 3\n",
    "spi_1y_usdmcat_vals[(spi_1y_usdmcat_origin <= -2.0)] = 4"
   ]
  },
  {
   "cell_type": "code",
   "execution_count": 15,
   "metadata": {},
   "outputs": [],
   "source": [
    "spi_1y_usdmcat.loc[:,:] = spi_1y_usdmcat_vals"
   ]
  },
  {
   "cell_type": "code",
   "execution_count": 16,
   "metadata": {},
   "outputs": [
    {
     "data": {
      "image/png": "[encoded data removed]",
      "text/plain": [
       "<Figure size 1080x360 with 4 Axes>"
      ]
     },
     "metadata": {
      "needs_background": "light"
     },
     "output_type": "display_data"
    }
   ],
   "source": [
    "fig, ax = plt.subplots(1,2, figsize=(15,5))\n",
    "\n",
    "usdm_plot = usdm_da_wa_sel.plot(ax=ax[0], cmap = usdm_cmap, vmin=-1, vmax=4)\n",
    "spi_1y_usdmcat.plot(ax=ax[1], cmap = usdm_cmap, vmin=-1, vmax=4)\n",
    "\n",
    "ax[0].set_title('USDM (2000-01-04)')\n",
    "ax[1].set_title('SPI - 1y (2000-01-05)')\n",
    "\n",
    "# this will help make sure I'm not missing data ...\n",
    "ax[0].set_facecolor('k')\n",
    "ax[1].set_facecolor('k')\n",
    "\n",
    "plt.tight_layout()"
   ]
  },
  {
   "cell_type": "markdown",
   "metadata": {},
   "source": [
    "Ayyy, not too bad."
   ]
  },
  {
   "cell_type": "markdown",
   "metadata": {},
   "source": [
    "Let's get that in a function"
   ]
  },
  {
   "cell_type": "code",
   "execution_count": 17,
   "metadata": {},
   "outputs": [],
   "source": [
    "def spi_to_usdmcat(spi_da:xr.DataArray):\n",
    "    \"\"\"Categorizes SPI based on USDM categories.\n",
    "\n",
    "    Uses the mapping scheme presented by USDM (https://droughtmonitor.unl.edu/About/AbouttheData/DroughtClassification.aspx)\n",
    "    Where Neutral is -1, D0 is 0, D1 is 1, D2, is 2, D3 is 3, and D4 is 4.\n",
    "\n",
    "    Parameters\n",
    "    ----------\n",
    "    spi_da : xr.DataArray\n",
    "        Contains SPI values.\n",
    "    \n",
    "    Returns\n",
    "    -------\n",
    "    xr.DataArray\n",
    "        DataArray formatted the same as spi_da but using USDM categories.\n",
    "\n",
    "    \"\"\"\n",
    "\n",
    "    # make sure we don't overwrite the original\n",
    "    spi_da_copy = spi_da.copy()\n",
    "    # can only do boolean indexing on the underlying array\n",
    "    spi_da_vals = spi_da.values\n",
    "    # get a copy to make sure reassignment isn't compounding\n",
    "    spi_da_origin = spi_da_vals.copy()\n",
    "\n",
    "    # assign neutral\n",
    "    spi_da_vals[spi_da_origin > -0.5] = -1\n",
    "    # assign D0\n",
    "    spi_da_vals[(spi_da_origin <= -0.5)&(spi_da_origin > -0.8)] = 0\n",
    "    # assign D1\n",
    "    spi_da_vals[(spi_da_origin <= -0.8)&(spi_da_origin > -1.3)] = 1\n",
    "    # assign D2\n",
    "    spi_da_vals[(spi_da_origin <= -1.3)&(spi_da_origin > -1.6)] = 2\n",
    "    # assign D3\n",
    "    spi_da_vals[(spi_da_origin <= -1.6)&(spi_da_origin > -2.0)] = 3\n",
    "    # assign D4\n",
    "    spi_da_vals[(spi_da_origin <= -2.0)] = 4\n",
    "\n",
    "    # put them back into the dataarray\n",
    "    spi_da_copy.loc[:,:] = spi_da_vals\n",
    "\n",
    "    return spi_da_copy"
   ]
  },
  {
   "cell_type": "markdown",
   "metadata": {},
   "source": [
    "Test the function ..."
   ]
  },
  {
   "cell_type": "code",
   "execution_count": 18,
   "metadata": {},
   "outputs": [],
   "source": [
    "spi_1y_cat = spi_to_usdmcat(spi_da_wa_sel)"
   ]
  },
  {
   "cell_type": "code",
   "execution_count": 19,
   "metadata": {},
   "outputs": [
    {
     "data": {
      "image/png": "[encoded data removed]",
      "text/plain": [
       "<Figure size 1080x360 with 4 Axes>"
      ]
     },
     "metadata": {
      "needs_background": "light"
     },
     "output_type": "display_data"
    }
   ],
   "source": [
    "fig, ax = plt.subplots(1,2, figsize=(15,5))\n",
    "\n",
    "usdm_da_wa_sel.plot(ax=ax[0], cmap = usdm_cmap, vmin=-1, vmax=4)\n",
    "spi_1y_cat.plot(ax=ax[1], cmap = usdm_cmap, vmin=-1, vmax=4)\n",
    "\n",
    "ax[0].set_title('USDM (2000-01-04)')\n",
    "ax[1].set_title('SPI - 1y (2000-01-05)')\n",
    "\n",
    "# this will help make sure I'm not missing data ...\n",
    "ax[0].set_facecolor('k')\n",
    "ax[1].set_facecolor('k')\n",
    "\n",
    "plt.tight_layout()"
   ]
  },
  {
   "cell_type": "markdown",
   "metadata": {},
   "source": [
    "Great!"
   ]
  },
  {
   "cell_type": "markdown",
   "metadata": {},
   "source": [
    "Now how do I compare them ... especially since they have different gridding .."
   ]
  },
  {
   "cell_type": "markdown",
   "metadata": {},
   "source": [
    "My main idea is to up-sample USDM ... but want to find a year that will show a bit more data ... let's go with the 2015 drought in WA"
   ]
  },
  {
   "cell_type": "code",
   "execution_count": 20,
   "metadata": {},
   "outputs": [],
   "source": [
    "usdm_wa_2015 = usdm_da_wa.sel(date='2015-06-30')\n",
    "spi_1y_wa_2015 = spi_to_usdmcat(spi_da_wa.sel(day='2015-06-29'))"
   ]
  },
  {
   "cell_type": "code",
   "execution_count": 21,
   "metadata": {},
   "outputs": [
    {
     "data": {
      "image/png": "[encoded data removed]",
      "text/plain": [
       "<Figure size 1080x360 with 4 Axes>"
      ]
     },
     "metadata": {
      "needs_background": "light"
     },
     "output_type": "display_data"
    }
   ],
   "source": [
    "fig, ax = plt.subplots(1,2, figsize=(15,5))\n",
    "\n",
    "usdm_wa_2015.plot(ax=ax[0], cmap = usdm_cmap, vmin=-1, vmax=4)\n",
    "spi_1y_wa_2015.plot(ax=ax[1], cmap = usdm_cmap, vmin=-1, vmax=4)\n",
    "\n",
    "ax[0].set_title('USDM (2015-06-30)')\n",
    "ax[1].set_title('SPI - 1y (2015-06-29)')\n",
    "\n",
    "# this will help make sure I'm not missing data ...\n",
    "ax[0].set_facecolor('k')\n",
    "ax[1].set_facecolor('k')\n",
    "\n",
    "plt.tight_layout()"
   ]
  },
  {
   "cell_type": "markdown",
   "metadata": {},
   "source": [
    "Wow those are big differences. This'll be good to compare"
   ]
  },
  {
   "cell_type": "markdown",
   "metadata": {},
   "source": [
    "Let's figure out how to compare things ... "
   ]
  },
  {
   "cell_type": "markdown",
   "metadata": {},
   "source": [
    "Ah, can use [rio.reproject_match](https://corteva.github.io/rioxarray/stable/examples/reproject_match.html)"
   ]
  },
  {
   "cell_type": "code",
   "execution_count": 23,
   "metadata": {},
   "outputs": [],
   "source": [
    "usdm_wa_2015_resamp = usdm_wa_2015.rio.reproject_match(spi_1y_wa_2015)"
   ]
  },
  {
   "cell_type": "code",
   "execution_count": 24,
   "metadata": {},
   "outputs": [
    {
     "data": {
      "image/png": "[encoded data removed]",
      "text/plain": [
       "<Figure size 1080x360 with 4 Axes>"
      ]
     },
     "metadata": {
      "needs_background": "light"
     },
     "output_type": "display_data"
    }
   ],
   "source": [
    "fig, ax = plt.subplots(1,2, figsize=(15,5))\n",
    "\n",
    "usdm_wa_2015_resamp.plot(ax=ax[0], cmap = usdm_cmap, vmin=-1, vmax=4)\n",
    "spi_1y_wa_2015.plot(ax=ax[1], cmap = usdm_cmap, vmin=-1, vmax=4)\n",
    "\n",
    "ax[0].set_title('Upscaled USDM (2015-06-30)')\n",
    "ax[1].set_title('SPI - 1y (2015-06-29)')\n",
    "\n",
    "# this will help make sure I'm not missing data ...\n",
    "ax[0].set_facecolor('k')\n",
    "ax[1].set_facecolor('k')\n",
    "\n",
    "plt.tight_layout()"
   ]
  },
  {
   "cell_type": "markdown",
   "metadata": {},
   "source": [
    "Okay, how does taking the difference look like? \n",
    "\n",
    "This will range from -5 to 5 ... where a positive number means that USDM has a higher category than SPI, a lower number means SPI has a higher category, and 0 means a match (besides nans)."
   ]
  },
  {
   "cell_type": "code",
   "execution_count": 25,
   "metadata": {},
   "outputs": [],
   "source": [
    "usdm_wa_2015_resamp = usdm_wa_2015_resamp.rename({'x':'lon', 'y':'lat', 'date':'day'})"
   ]
  },
  {
   "cell_type": "code",
   "execution_count": 26,
   "metadata": {},
   "outputs": [
    {
     "data": {
      "image/png": "[encoded data removed]",
      "text/plain": [
       "<Figure size 504x360 with 2 Axes>"
      ]
     },
     "metadata": {
      "needs_background": "light"
     },
     "output_type": "display_data"
    }
   ],
   "source": [
    "fig, ax = plt.subplots(figsize=(7,5))\n",
    "\n",
    "(usdm_wa_2015_resamp - spi_1y_wa_2015).plot(ax=ax, vmin=-5, vmax=5, cmap='PuOr', cbar_kwargs={'label':'USDM - SPI'})\n",
    "ax.set_facecolor('k')\n",
    "ax.set_title('Upscaled USDM (2015-06-30) - SPI-1y (2015-06-29)')\n",
    "\n",
    "plt.tight_layout()"
   ]
  },
  {
   "cell_type": "markdown",
   "metadata": {},
   "source": [
    "So yeah, we are seeing where USDM puts WA in a drought that SPI largely does not ... but also see where SPI is more severe that popping up in contrast to USDM. Good to note that this is on the 5 to -5 scale, and not a 4 to -4 scale due to the -1's present in the dataset. I don't think adding them would be helpful since it'll hide the -1 differences more."
   ]
  },
  {
   "cell_type": "markdown",
   "metadata": {},
   "source": [
    "How does this look if I sample the other way?"
   ]
  },
  {
   "cell_type": "code",
   "execution_count": 27,
   "metadata": {},
   "outputs": [],
   "source": [
    "spi_1y_wa_2015_resamp = spi_1y_wa_2015.rio.reproject_match(usdm_wa_2015)"
   ]
  },
  {
   "cell_type": "code",
   "execution_count": 28,
   "metadata": {},
   "outputs": [],
   "source": [
    "spi_1y_wa_2015_resamp = spi_1y_wa_2015_resamp.rename({'x':'lon', 'y':'lat', 'day':'date'})"
   ]
  },
  {
   "cell_type": "code",
   "execution_count": 29,
   "metadata": {},
   "outputs": [
    {
     "data": {
      "image/png": "[encoded data removed]",
      "text/plain": [
       "<Figure size 504x360 with 2 Axes>"
      ]
     },
     "metadata": {
      "needs_background": "light"
     },
     "output_type": "display_data"
    }
   ],
   "source": [
    "fig, ax = plt.subplots(figsize=(7,5))\n",
    "\n",
    "(usdm_wa_2015 - spi_1y_wa_2015_resamp).plot(ax=ax, vmin=-5, vmax=5, cmap='PuOr', cbar_kwargs={'label':'USDM - SPI'})\n",
    "ax.set_facecolor('k')\n",
    "ax.set_title('USDM (2015-06-30) - Downscaled SPI-1y (2015-06-29)')\n",
    "\n",
    "plt.tight_layout()"
   ]
  },
  {
   "cell_type": "markdown",
   "metadata": {},
   "source": [
    "Looking pretty similar (beyond the obvious resolution difference) ... I'm not sure what is the more honest method to use here. I should get some other thoughts from the groups about this."
   ]
  },
  {
   "cell_type": "markdown",
   "metadata": {},
   "source": [
    "How do I compare more data ... cause I now have the spatial comparison, but I need it across time ... maybe animation ..."
   ]
  },
  {
   "cell_type": "markdown",
   "metadata": {},
   "source": [
    "But even if I do that I need a way to sync times ..."
   ]
  },
  {
   "cell_type": "markdown",
   "metadata": {},
   "source": [
    "So the USDM is made weekly, and the data cutoff is on Tuesday mornings ... so if SPI is Wed-Mon prio to the USDM date, then it is applicable, otherwise is goes into the next cycle."
   ]
  },
  {
   "cell_type": "code",
   "execution_count": 30,
   "metadata": {},
   "outputs": [
    {
     "data": {
      "image/png": "[encoded data removed]",
      "text/plain": [
       "<Figure size 432x288 with 1 Axes>"
      ]
     },
     "metadata": {
      "needs_background": "light"
     },
     "output_type": "display_data"
    }
   ],
   "source": [
    "plt.hist(pd.to_datetime(usdm_da_wa['date']).day_of_week, bins=np.arange(0,8));"
   ]
  },
  {
   "cell_type": "markdown",
   "metadata": {},
   "source": [
    "And I'm betting SPI should be fairly evenly spread out ..."
   ]
  },
  {
   "cell_type": "code",
   "execution_count": 31,
   "metadata": {},
   "outputs": [
    {
     "data": {
      "image/png": "[encoded data removed]",
      "text/plain": [
       "<Figure size 432x288 with 1 Axes>"
      ]
     },
     "metadata": {
      "needs_background": "light"
     },
     "output_type": "display_data"
    }
   ],
   "source": [
    "plt.hist(pd.to_datetime(spi_1y['day']).day_of_week, bins=np.arange(0,8), edgecolor='k');"
   ]
  },
  {
   "cell_type": "markdown",
   "metadata": {},
   "source": [
    "Cool."
   ]
  },
  {
   "cell_type": "markdown",
   "metadata": {},
   "source": [
    "So I can probably do some grouping to align times ...but it'd def be a staggered animation. To not deal with that for now ... let's just grab what dates are closest to the USDM dates."
   ]
  },
  {
   "cell_type": "code",
   "execution_count": 65,
   "metadata": {},
   "outputs": [
    {
     "data": {
      "text/plain": [
       "DatetimeIndex(['2000-01-04', '2000-01-11', '2000-01-18', '2000-01-25',\n",
       "               '2000-02-01', '2000-02-08', '2000-02-15', '2000-02-22',\n",
       "               '2000-02-29', '2000-03-07',\n",
       "               ...\n",
       "               '2022-02-08', '2022-02-15', '2022-02-22', '2022-03-01',\n",
       "               '2022-03-08', '2022-03-15', '2022-03-22', '2022-03-29',\n",
       "               '2022-04-05', '2022-04-12'],\n",
       "              dtype='datetime64[ns]', length=1163, freq=None)"
      ]
     },
     "execution_count": 65,
     "metadata": {},
     "output_type": "execute_result"
    }
   ],
   "source": [
    "usdm_dates = pd.to_datetime(usdm['date'])\n",
    "usdm_dates"
   ]
  },
  {
   "cell_type": "code",
   "execution_count": 36,
   "metadata": {},
   "outputs": [
    {
     "data": {
      "text/plain": [
       "DatetimeIndex(['1980-01-05', '1980-01-10', '1980-01-15', '1980-01-20',\n",
       "               '1980-01-25', '1980-01-30', '1980-02-04', '1980-02-09',\n",
       "               '1980-02-14', '1980-02-19',\n",
       "               ...\n",
       "               '2021-11-16', '2021-11-21', '2021-11-26', '2021-12-01',\n",
       "               '2021-12-06', '2021-12-11', '2021-12-16', '2021-12-21',\n",
       "               '2021-12-26', '2021-12-31'],\n",
       "              dtype='datetime64[ns]', length=3066, freq=None)"
      ]
     },
     "execution_count": 36,
     "metadata": {},
     "output_type": "execute_result"
    }
   ],
   "source": [
    "spi_dates = pd.to_datetime(spi_da_wa['day'])\n",
    "spi_dates"
   ]
  },
  {
   "cell_type": "code",
   "execution_count": 41,
   "metadata": {},
   "outputs": [
    {
     "data": {
      "text/plain": [
       "DatetimeIndex(['1999-12-31', '2000-01-05', '2000-01-10', '2000-01-15',\n",
       "               '2000-01-20', '2000-01-25', '2000-01-30', '2000-02-04',\n",
       "               '2000-02-09', '2000-02-14',\n",
       "               ...\n",
       "               '2021-11-16', '2021-11-21', '2021-11-26', '2021-12-01',\n",
       "               '2021-12-06', '2021-12-11', '2021-12-16', '2021-12-21',\n",
       "               '2021-12-26', '2021-12-31'],\n",
       "              dtype='datetime64[ns]', length=1607, freq=None)"
      ]
     },
     "execution_count": 41,
     "metadata": {},
     "output_type": "execute_result"
    }
   ],
   "source": [
    "spi_dates = spi_dates[spi_dates >= '1999-12-31']\n",
    "spi_dates"
   ]
  },
  {
   "cell_type": "code",
   "execution_count": 99,
   "metadata": {},
   "outputs": [
    {
     "data": {
      "text/html": [
       "<div>\n",
       "<style scoped>\n",
       "    .dataframe tbody tr th:only-of-type {\n",
       "        vertical-align: middle;\n",
       "    }\n",
       "\n",
       "    .dataframe tbody tr th {\n",
       "        vertical-align: top;\n",
       "    }\n",
       "\n",
       "    .dataframe thead th {\n",
       "        text-align: right;\n",
       "    }\n",
       "</style>\n",
       "<table border=\"1\" class=\"dataframe\">\n",
       "  <thead>\n",
       "    <tr style=\"text-align: right;\">\n",
       "      <th></th>\n",
       "      <th>SPI Date</th>\n",
       "      <th>DoW</th>\n",
       "    </tr>\n",
       "  </thead>\n",
       "  <tbody>\n",
       "    <tr>\n",
       "      <th>0</th>\n",
       "      <td>1999-12-31</td>\n",
       "      <td>4</td>\n",
       "    </tr>\n",
       "    <tr>\n",
       "      <th>1</th>\n",
       "      <td>2000-01-05</td>\n",
       "      <td>2</td>\n",
       "    </tr>\n",
       "    <tr>\n",
       "      <th>2</th>\n",
       "      <td>2000-01-10</td>\n",
       "      <td>0</td>\n",
       "    </tr>\n",
       "    <tr>\n",
       "      <th>3</th>\n",
       "      <td>2000-01-15</td>\n",
       "      <td>5</td>\n",
       "    </tr>\n",
       "    <tr>\n",
       "      <th>4</th>\n",
       "      <td>2000-01-20</td>\n",
       "      <td>3</td>\n",
       "    </tr>\n",
       "    <tr>\n",
       "      <th>...</th>\n",
       "      <td>...</td>\n",
       "      <td>...</td>\n",
       "    </tr>\n",
       "    <tr>\n",
       "      <th>1602</th>\n",
       "      <td>2021-12-11</td>\n",
       "      <td>5</td>\n",
       "    </tr>\n",
       "    <tr>\n",
       "      <th>1603</th>\n",
       "      <td>2021-12-16</td>\n",
       "      <td>3</td>\n",
       "    </tr>\n",
       "    <tr>\n",
       "      <th>1604</th>\n",
       "      <td>2021-12-21</td>\n",
       "      <td>1</td>\n",
       "    </tr>\n",
       "    <tr>\n",
       "      <th>1605</th>\n",
       "      <td>2021-12-26</td>\n",
       "      <td>6</td>\n",
       "    </tr>\n",
       "    <tr>\n",
       "      <th>1606</th>\n",
       "      <td>2021-12-31</td>\n",
       "      <td>4</td>\n",
       "    </tr>\n",
       "  </tbody>\n",
       "</table>\n",
       "<p>1607 rows × 2 columns</p>\n",
       "</div>"
      ],
      "text/plain": [
       "       SPI Date  DoW\n",
       "0    1999-12-31    4\n",
       "1    2000-01-05    2\n",
       "2    2000-01-10    0\n",
       "3    2000-01-15    5\n",
       "4    2000-01-20    3\n",
       "...         ...  ...\n",
       "1602 2021-12-11    5\n",
       "1603 2021-12-16    3\n",
       "1604 2021-12-21    1\n",
       "1605 2021-12-26    6\n",
       "1606 2021-12-31    4\n",
       "\n",
       "[1607 rows x 2 columns]"
      ]
     },
     "execution_count": 99,
     "metadata": {},
     "output_type": "execute_result"
    }
   ],
   "source": [
    "spi_dates_df = pd.DataFrame(spi_dates)\n",
    "spi_dates_df['DoW'] = spi_dates.dayofweek\n",
    "spi_dates_df.rename(columns={0:'SPI Date'}, inplace=True)\n",
    "spi_dates_df"
   ]
  },
  {
   "cell_type": "code",
   "execution_count": 100,
   "metadata": {},
   "outputs": [
    {
     "data": {
      "text/html": [
       "<div>\n",
       "<style scoped>\n",
       "    .dataframe tbody tr th:only-of-type {\n",
       "        vertical-align: middle;\n",
       "    }\n",
       "\n",
       "    .dataframe tbody tr th {\n",
       "        vertical-align: top;\n",
       "    }\n",
       "\n",
       "    .dataframe thead th {\n",
       "        text-align: right;\n",
       "    }\n",
       "</style>\n",
       "<table border=\"1\" class=\"dataframe\">\n",
       "  <thead>\n",
       "    <tr style=\"text-align: right;\">\n",
       "      <th></th>\n",
       "      <th>SPI Date</th>\n",
       "      <th>DoW</th>\n",
       "      <th>Days Till Tuesday</th>\n",
       "    </tr>\n",
       "  </thead>\n",
       "  <tbody>\n",
       "    <tr>\n",
       "      <th>0</th>\n",
       "      <td>1999-12-31</td>\n",
       "      <td>4</td>\n",
       "      <td>4</td>\n",
       "    </tr>\n",
       "    <tr>\n",
       "      <th>1</th>\n",
       "      <td>2000-01-05</td>\n",
       "      <td>2</td>\n",
       "      <td>6</td>\n",
       "    </tr>\n",
       "    <tr>\n",
       "      <th>2</th>\n",
       "      <td>2000-01-10</td>\n",
       "      <td>0</td>\n",
       "      <td>1</td>\n",
       "    </tr>\n",
       "    <tr>\n",
       "      <th>3</th>\n",
       "      <td>2000-01-15</td>\n",
       "      <td>5</td>\n",
       "      <td>3</td>\n",
       "    </tr>\n",
       "    <tr>\n",
       "      <th>4</th>\n",
       "      <td>2000-01-20</td>\n",
       "      <td>3</td>\n",
       "      <td>5</td>\n",
       "    </tr>\n",
       "    <tr>\n",
       "      <th>...</th>\n",
       "      <td>...</td>\n",
       "      <td>...</td>\n",
       "      <td>...</td>\n",
       "    </tr>\n",
       "    <tr>\n",
       "      <th>1602</th>\n",
       "      <td>2021-12-11</td>\n",
       "      <td>5</td>\n",
       "      <td>3</td>\n",
       "    </tr>\n",
       "    <tr>\n",
       "      <th>1603</th>\n",
       "      <td>2021-12-16</td>\n",
       "      <td>3</td>\n",
       "      <td>5</td>\n",
       "    </tr>\n",
       "    <tr>\n",
       "      <th>1604</th>\n",
       "      <td>2021-12-21</td>\n",
       "      <td>1</td>\n",
       "      <td>0</td>\n",
       "    </tr>\n",
       "    <tr>\n",
       "      <th>1605</th>\n",
       "      <td>2021-12-26</td>\n",
       "      <td>6</td>\n",
       "      <td>2</td>\n",
       "    </tr>\n",
       "    <tr>\n",
       "      <th>1606</th>\n",
       "      <td>2021-12-31</td>\n",
       "      <td>4</td>\n",
       "      <td>4</td>\n",
       "    </tr>\n",
       "  </tbody>\n",
       "</table>\n",
       "<p>1607 rows × 3 columns</p>\n",
       "</div>"
      ],
      "text/plain": [
       "       SPI Date  DoW  Days Till Tuesday\n",
       "0    1999-12-31    4                  4\n",
       "1    2000-01-05    2                  6\n",
       "2    2000-01-10    0                  1\n",
       "3    2000-01-15    5                  3\n",
       "4    2000-01-20    3                  5\n",
       "...         ...  ...                ...\n",
       "1602 2021-12-11    5                  3\n",
       "1603 2021-12-16    3                  5\n",
       "1604 2021-12-21    1                  0\n",
       "1605 2021-12-26    6                  2\n",
       "1606 2021-12-31    4                  4\n",
       "\n",
       "[1607 rows x 3 columns]"
      ]
     },
     "execution_count": 100,
     "metadata": {},
     "output_type": "execute_result"
    }
   ],
   "source": [
    "spi_dates_df['Days Till Tuesday'] = spi_dates_df['DoW']\n",
    "dtt = {\n",
    "    0:1,\n",
    "    1:0,\n",
    "    2:6,\n",
    "    3:5,\n",
    "    4:4,\n",
    "    5:3,\n",
    "    6:2\n",
    "}\n",
    "spi_dates_df['Days Till Tuesday'] = [dtt[day] for day in spi_dates_df['DoW'].values]\n",
    "spi_dates_df"
   ]
  },
  {
   "cell_type": "code",
   "execution_count": 101,
   "metadata": {},
   "outputs": [
    {
     "data": {
      "text/html": [
       "<div>\n",
       "<style scoped>\n",
       "    .dataframe tbody tr th:only-of-type {\n",
       "        vertical-align: middle;\n",
       "    }\n",
       "\n",
       "    .dataframe tbody tr th {\n",
       "        vertical-align: top;\n",
       "    }\n",
       "\n",
       "    .dataframe thead th {\n",
       "        text-align: right;\n",
       "    }\n",
       "</style>\n",
       "<table border=\"1\" class=\"dataframe\">\n",
       "  <thead>\n",
       "    <tr style=\"text-align: right;\">\n",
       "      <th></th>\n",
       "      <th>SPI Date</th>\n",
       "      <th>DoW</th>\n",
       "      <th>Days Till Tuesday</th>\n",
       "      <th>Pull for USDM</th>\n",
       "    </tr>\n",
       "  </thead>\n",
       "  <tbody>\n",
       "    <tr>\n",
       "      <th>0</th>\n",
       "      <td>1999-12-31</td>\n",
       "      <td>4</td>\n",
       "      <td>4</td>\n",
       "      <td>0.0</td>\n",
       "    </tr>\n",
       "    <tr>\n",
       "      <th>1</th>\n",
       "      <td>2000-01-05</td>\n",
       "      <td>2</td>\n",
       "      <td>6</td>\n",
       "      <td>0.0</td>\n",
       "    </tr>\n",
       "    <tr>\n",
       "      <th>2</th>\n",
       "      <td>2000-01-10</td>\n",
       "      <td>0</td>\n",
       "      <td>1</td>\n",
       "      <td>0.0</td>\n",
       "    </tr>\n",
       "    <tr>\n",
       "      <th>3</th>\n",
       "      <td>2000-01-15</td>\n",
       "      <td>5</td>\n",
       "      <td>3</td>\n",
       "      <td>0.0</td>\n",
       "    </tr>\n",
       "    <tr>\n",
       "      <th>4</th>\n",
       "      <td>2000-01-20</td>\n",
       "      <td>3</td>\n",
       "      <td>5</td>\n",
       "      <td>0.0</td>\n",
       "    </tr>\n",
       "    <tr>\n",
       "      <th>...</th>\n",
       "      <td>...</td>\n",
       "      <td>...</td>\n",
       "      <td>...</td>\n",
       "      <td>...</td>\n",
       "    </tr>\n",
       "    <tr>\n",
       "      <th>1602</th>\n",
       "      <td>2021-12-11</td>\n",
       "      <td>5</td>\n",
       "      <td>3</td>\n",
       "      <td>0.0</td>\n",
       "    </tr>\n",
       "    <tr>\n",
       "      <th>1603</th>\n",
       "      <td>2021-12-16</td>\n",
       "      <td>3</td>\n",
       "      <td>5</td>\n",
       "      <td>0.0</td>\n",
       "    </tr>\n",
       "    <tr>\n",
       "      <th>1604</th>\n",
       "      <td>2021-12-21</td>\n",
       "      <td>1</td>\n",
       "      <td>0</td>\n",
       "      <td>0.0</td>\n",
       "    </tr>\n",
       "    <tr>\n",
       "      <th>1605</th>\n",
       "      <td>2021-12-26</td>\n",
       "      <td>6</td>\n",
       "      <td>2</td>\n",
       "      <td>0.0</td>\n",
       "    </tr>\n",
       "    <tr>\n",
       "      <th>1606</th>\n",
       "      <td>2021-12-31</td>\n",
       "      <td>4</td>\n",
       "      <td>4</td>\n",
       "      <td>0.0</td>\n",
       "    </tr>\n",
       "  </tbody>\n",
       "</table>\n",
       "<p>1607 rows × 4 columns</p>\n",
       "</div>"
      ],
      "text/plain": [
       "       SPI Date  DoW  Days Till Tuesday  Pull for USDM\n",
       "0    1999-12-31    4                  4            0.0\n",
       "1    2000-01-05    2                  6            0.0\n",
       "2    2000-01-10    0                  1            0.0\n",
       "3    2000-01-15    5                  3            0.0\n",
       "4    2000-01-20    3                  5            0.0\n",
       "...         ...  ...                ...            ...\n",
       "1602 2021-12-11    5                  3            0.0\n",
       "1603 2021-12-16    3                  5            0.0\n",
       "1604 2021-12-21    1                  0            0.0\n",
       "1605 2021-12-26    6                  2            0.0\n",
       "1606 2021-12-31    4                  4            0.0\n",
       "\n",
       "[1607 rows x 4 columns]"
      ]
     },
     "execution_count": 101,
     "metadata": {},
     "output_type": "execute_result"
    }
   ],
   "source": [
    "spi_dates_df['Pull for USDM'] = np.zeros(len(spi_dates_df))\n",
    "spi_dates_df"
   ]
  },
  {
   "cell_type": "code",
   "execution_count": 102,
   "metadata": {},
   "outputs": [
    {
     "name": "stderr",
     "output_type": "stream",
     "text": [
      "/pool0/data/steinadi/.conda/envs/sedi/lib/python3.7/site-packages/pandas/core/indexing.py:1732: SettingWithCopyWarning: \n",
      "A value is trying to be set on a copy of a slice from a DataFrame\n",
      "\n",
      "See the caveats in the documentation: https://pandas.pydata.org/pandas-docs/stable/user_guide/indexing.html#returning-a-view-versus-a-copy\n",
      "  self._setitem_single_block(indexer, value, name)\n"
     ]
    }
   ],
   "source": [
    "last_valid_dow = 7\n",
    "\n",
    "dtt_all = spi_dates_df['Days Till Tuesday'].values\n",
    "\n",
    "for i, dtt_i in enumerate(dtt_all):\n",
    "    if i < len(spi_dates_df)-1:\n",
    "        if dtt_i < dtt_all[i+1]:\n",
    "            spi_dates_df['Pull for USDM'].iloc[i] = 1"
   ]
  },
  {
   "cell_type": "code",
   "execution_count": 103,
   "metadata": {},
   "outputs": [
    {
     "data": {
      "text/html": [
       "<div>\n",
       "<style scoped>\n",
       "    .dataframe tbody tr th:only-of-type {\n",
       "        vertical-align: middle;\n",
       "    }\n",
       "\n",
       "    .dataframe tbody tr th {\n",
       "        vertical-align: top;\n",
       "    }\n",
       "\n",
       "    .dataframe thead th {\n",
       "        text-align: right;\n",
       "    }\n",
       "</style>\n",
       "<table border=\"1\" class=\"dataframe\">\n",
       "  <thead>\n",
       "    <tr style=\"text-align: right;\">\n",
       "      <th></th>\n",
       "      <th>SPI Date</th>\n",
       "      <th>DoW</th>\n",
       "      <th>Days Till Tuesday</th>\n",
       "      <th>Pull for USDM</th>\n",
       "    </tr>\n",
       "  </thead>\n",
       "  <tbody>\n",
       "    <tr>\n",
       "      <th>0</th>\n",
       "      <td>1999-12-31</td>\n",
       "      <td>4</td>\n",
       "      <td>4</td>\n",
       "      <td>1.0</td>\n",
       "    </tr>\n",
       "    <tr>\n",
       "      <th>2</th>\n",
       "      <td>2000-01-10</td>\n",
       "      <td>0</td>\n",
       "      <td>1</td>\n",
       "      <td>1.0</td>\n",
       "    </tr>\n",
       "    <tr>\n",
       "      <th>3</th>\n",
       "      <td>2000-01-15</td>\n",
       "      <td>5</td>\n",
       "      <td>3</td>\n",
       "      <td>1.0</td>\n",
       "    </tr>\n",
       "    <tr>\n",
       "      <th>5</th>\n",
       "      <td>2000-01-25</td>\n",
       "      <td>1</td>\n",
       "      <td>0</td>\n",
       "      <td>1.0</td>\n",
       "    </tr>\n",
       "    <tr>\n",
       "      <th>6</th>\n",
       "      <td>2000-01-30</td>\n",
       "      <td>6</td>\n",
       "      <td>2</td>\n",
       "      <td>1.0</td>\n",
       "    </tr>\n",
       "    <tr>\n",
       "      <th>...</th>\n",
       "      <td>...</td>\n",
       "      <td>...</td>\n",
       "      <td>...</td>\n",
       "      <td>...</td>\n",
       "    </tr>\n",
       "    <tr>\n",
       "      <th>1599</th>\n",
       "      <td>2021-11-26</td>\n",
       "      <td>4</td>\n",
       "      <td>4</td>\n",
       "      <td>1.0</td>\n",
       "    </tr>\n",
       "    <tr>\n",
       "      <th>1601</th>\n",
       "      <td>2021-12-06</td>\n",
       "      <td>0</td>\n",
       "      <td>1</td>\n",
       "      <td>1.0</td>\n",
       "    </tr>\n",
       "    <tr>\n",
       "      <th>1602</th>\n",
       "      <td>2021-12-11</td>\n",
       "      <td>5</td>\n",
       "      <td>3</td>\n",
       "      <td>1.0</td>\n",
       "    </tr>\n",
       "    <tr>\n",
       "      <th>1604</th>\n",
       "      <td>2021-12-21</td>\n",
       "      <td>1</td>\n",
       "      <td>0</td>\n",
       "      <td>1.0</td>\n",
       "    </tr>\n",
       "    <tr>\n",
       "      <th>1605</th>\n",
       "      <td>2021-12-26</td>\n",
       "      <td>6</td>\n",
       "      <td>2</td>\n",
       "      <td>1.0</td>\n",
       "    </tr>\n",
       "  </tbody>\n",
       "</table>\n",
       "<p>1148 rows × 4 columns</p>\n",
       "</div>"
      ],
      "text/plain": [
       "       SPI Date  DoW  Days Till Tuesday  Pull for USDM\n",
       "0    1999-12-31    4                  4            1.0\n",
       "2    2000-01-10    0                  1            1.0\n",
       "3    2000-01-15    5                  3            1.0\n",
       "5    2000-01-25    1                  0            1.0\n",
       "6    2000-01-30    6                  2            1.0\n",
       "...         ...  ...                ...            ...\n",
       "1599 2021-11-26    4                  4            1.0\n",
       "1601 2021-12-06    0                  1            1.0\n",
       "1602 2021-12-11    5                  3            1.0\n",
       "1604 2021-12-21    1                  0            1.0\n",
       "1605 2021-12-26    6                  2            1.0\n",
       "\n",
       "[1148 rows x 4 columns]"
      ]
     },
     "execution_count": 103,
     "metadata": {},
     "output_type": "execute_result"
    }
   ],
   "source": [
    "spi_dates_df[spi_dates_df['Pull for USDM'] == 1]"
   ]
  },
  {
   "cell_type": "code",
   "execution_count": 104,
   "metadata": {},
   "outputs": [],
   "source": [
    "usdm_dates = usdm_dates[usdm_dates < '2022']"
   ]
  },
  {
   "cell_type": "code",
   "execution_count": 105,
   "metadata": {},
   "outputs": [
    {
     "name": "stderr",
     "output_type": "stream",
     "text": [
      "/pool0/data/steinadi/.conda/envs/sedi/lib/python3.7/site-packages/ipykernel_launcher.py:2: SettingWithCopyWarning: \n",
      "A value is trying to be set on a copy of a slice from a DataFrame.\n",
      "Try using .loc[row_indexer,col_indexer] = value instead\n",
      "\n",
      "See the caveats in the documentation: https://pandas.pydata.org/pandas-docs/stable/user_guide/indexing.html#returning-a-view-versus-a-copy\n",
      "  \n"
     ]
    }
   ],
   "source": [
    "spi_dates_df_filtered = spi_dates_df[spi_dates_df['Pull for USDM'] == 1]\n",
    "spi_dates_df_filtered['USDM Date'] = usdm_dates"
   ]
  },
  {
   "cell_type": "code",
   "execution_count": 106,
   "metadata": {},
   "outputs": [
    {
     "data": {
      "text/html": [
       "<div>\n",
       "<style scoped>\n",
       "    .dataframe tbody tr th:only-of-type {\n",
       "        vertical-align: middle;\n",
       "    }\n",
       "\n",
       "    .dataframe tbody tr th {\n",
       "        vertical-align: top;\n",
       "    }\n",
       "\n",
       "    .dataframe thead th {\n",
       "        text-align: right;\n",
       "    }\n",
       "</style>\n",
       "<table border=\"1\" class=\"dataframe\">\n",
       "  <thead>\n",
       "    <tr style=\"text-align: right;\">\n",
       "      <th></th>\n",
       "      <th>SPI Date</th>\n",
       "      <th>DoW</th>\n",
       "      <th>Days Till Tuesday</th>\n",
       "      <th>Pull for USDM</th>\n",
       "      <th>USDM Date</th>\n",
       "    </tr>\n",
       "  </thead>\n",
       "  <tbody>\n",
       "    <tr>\n",
       "      <th>0</th>\n",
       "      <td>1999-12-31</td>\n",
       "      <td>4</td>\n",
       "      <td>4</td>\n",
       "      <td>1.0</td>\n",
       "      <td>2000-01-04</td>\n",
       "    </tr>\n",
       "    <tr>\n",
       "      <th>2</th>\n",
       "      <td>2000-01-10</td>\n",
       "      <td>0</td>\n",
       "      <td>1</td>\n",
       "      <td>1.0</td>\n",
       "      <td>2000-01-11</td>\n",
       "    </tr>\n",
       "    <tr>\n",
       "      <th>3</th>\n",
       "      <td>2000-01-15</td>\n",
       "      <td>5</td>\n",
       "      <td>3</td>\n",
       "      <td>1.0</td>\n",
       "      <td>2000-01-18</td>\n",
       "    </tr>\n",
       "    <tr>\n",
       "      <th>5</th>\n",
       "      <td>2000-01-25</td>\n",
       "      <td>1</td>\n",
       "      <td>0</td>\n",
       "      <td>1.0</td>\n",
       "      <td>2000-01-25</td>\n",
       "    </tr>\n",
       "    <tr>\n",
       "      <th>6</th>\n",
       "      <td>2000-01-30</td>\n",
       "      <td>6</td>\n",
       "      <td>2</td>\n",
       "      <td>1.0</td>\n",
       "      <td>2000-02-01</td>\n",
       "    </tr>\n",
       "    <tr>\n",
       "      <th>...</th>\n",
       "      <td>...</td>\n",
       "      <td>...</td>\n",
       "      <td>...</td>\n",
       "      <td>...</td>\n",
       "      <td>...</td>\n",
       "    </tr>\n",
       "    <tr>\n",
       "      <th>1599</th>\n",
       "      <td>2021-11-26</td>\n",
       "      <td>4</td>\n",
       "      <td>4</td>\n",
       "      <td>1.0</td>\n",
       "      <td>2021-11-30</td>\n",
       "    </tr>\n",
       "    <tr>\n",
       "      <th>1601</th>\n",
       "      <td>2021-12-06</td>\n",
       "      <td>0</td>\n",
       "      <td>1</td>\n",
       "      <td>1.0</td>\n",
       "      <td>2021-12-07</td>\n",
       "    </tr>\n",
       "    <tr>\n",
       "      <th>1602</th>\n",
       "      <td>2021-12-11</td>\n",
       "      <td>5</td>\n",
       "      <td>3</td>\n",
       "      <td>1.0</td>\n",
       "      <td>2021-12-14</td>\n",
       "    </tr>\n",
       "    <tr>\n",
       "      <th>1604</th>\n",
       "      <td>2021-12-21</td>\n",
       "      <td>1</td>\n",
       "      <td>0</td>\n",
       "      <td>1.0</td>\n",
       "      <td>2021-12-21</td>\n",
       "    </tr>\n",
       "    <tr>\n",
       "      <th>1605</th>\n",
       "      <td>2021-12-26</td>\n",
       "      <td>6</td>\n",
       "      <td>2</td>\n",
       "      <td>1.0</td>\n",
       "      <td>2021-12-28</td>\n",
       "    </tr>\n",
       "  </tbody>\n",
       "</table>\n",
       "<p>1148 rows × 5 columns</p>\n",
       "</div>"
      ],
      "text/plain": [
       "       SPI Date  DoW  Days Till Tuesday  Pull for USDM  USDM Date\n",
       "0    1999-12-31    4                  4            1.0 2000-01-04\n",
       "2    2000-01-10    0                  1            1.0 2000-01-11\n",
       "3    2000-01-15    5                  3            1.0 2000-01-18\n",
       "5    2000-01-25    1                  0            1.0 2000-01-25\n",
       "6    2000-01-30    6                  2            1.0 2000-02-01\n",
       "...         ...  ...                ...            ...        ...\n",
       "1599 2021-11-26    4                  4            1.0 2021-11-30\n",
       "1601 2021-12-06    0                  1            1.0 2021-12-07\n",
       "1602 2021-12-11    5                  3            1.0 2021-12-14\n",
       "1604 2021-12-21    1                  0            1.0 2021-12-21\n",
       "1605 2021-12-26    6                  2            1.0 2021-12-28\n",
       "\n",
       "[1148 rows x 5 columns]"
      ]
     },
     "execution_count": 106,
     "metadata": {},
     "output_type": "execute_result"
    }
   ],
   "source": [
    "spi_dates_df_filtered"
   ]
  },
  {
   "cell_type": "markdown",
   "metadata": {},
   "source": [
    "Ah-ha! There is our groupings. That totally wasn't a headache."
   ]
  },
  {
   "cell_type": "code",
   "execution_count": 111,
   "metadata": {},
   "outputs": [],
   "source": [
    "usdm_resampled = usdm_da_wa.rio.reproject_match(spi_1y_wa_2015)"
   ]
  },
  {
   "cell_type": "code",
   "execution_count": 120,
   "metadata": {},
   "outputs": [],
   "source": [
    "usdm_resample_sel = usdm_resampled.sel(date=spi_dates_df_filtered['USDM Date'].values)\n",
    "usdm_resample_sel = usdm_resample_sel.rename({'y':'lat', 'x':'lon'})"
   ]
  },
  {
   "cell_type": "code",
   "execution_count": 117,
   "metadata": {},
   "outputs": [],
   "source": [
    "spi_sel = spi_da_wa.sel(day=spi_dates_df_filtered['SPI Date'].values)"
   ]
  },
  {
   "cell_type": "markdown",
   "metadata": {},
   "source": [
    "Hm. I need a way to do the USDM categories for SPI across a dataset that includes time ... let's make a helper function."
   ]
  },
  {
   "cell_type": "code",
   "execution_count": 130,
   "metadata": {},
   "outputs": [],
   "source": [
    "def spi_to_usdmcat_multtime(spi_ds:xr.Dataset):\n",
    "    \"\"\"Categorizes SPI based on USDM categories for multiple times.\n",
    "    \n",
    "    See spi_to_usdmcat for further documentation.\n",
    "    \n",
    "    Parameters\n",
    "    ----------\n",
    "    spi_ds : xr.Dataset\n",
    "        SPI at multiple time values as the coordinate 'day'.\n",
    "    \n",
    "    Returns\n",
    "    -------\n",
    "    xr.Dataset\n",
    "        SPI categorized by spi_to_usdmcat.\n",
    "    \"\"\"\n",
    "    \n",
    "    return spi_to_usdmcat(xr.concat([spi_ds.sel(day=day) for day in spi_ds['day'].values], dim='day'))"
   ]
  },
  {
   "cell_type": "code",
   "execution_count": 129,
   "metadata": {},
   "outputs": [],
   "source": [
    "spi_usdmcat_sel = spi_to_usdmcat_multtime(spi_sel)"
   ]
  },
  {
   "cell_type": "code",
   "execution_count": 136,
   "metadata": {},
   "outputs": [
    {
     "ename": "AttributeError",
     "evalue": "'Timestamp' object has no attribute 'strft'",
     "output_type": "error",
     "traceback": [
      "\u001b[0;31m---------------------------------------------------------------------------\u001b[0m",
      "\u001b[0;31mAttributeError\u001b[0m                            Traceback (most recent call last)",
      "\u001b[0;32m/tmp/ipykernel_2889704/1542107476.py\u001b[0m in \u001b[0;36m<module>\u001b[0;34m\u001b[0m\n\u001b[0;32m----> 1\u001b[0;31m \u001b[0mpd\u001b[0m\u001b[0;34m.\u001b[0m\u001b[0mto_datetime\u001b[0m\u001b[0;34m(\u001b[0m\u001b[0musdm_resample_sel\u001b[0m\u001b[0;34m[\u001b[0m\u001b[0;34m'date'\u001b[0m\u001b[0;34m]\u001b[0m\u001b[0;34m.\u001b[0m\u001b[0mvalues\u001b[0m\u001b[0;34m[\u001b[0m\u001b[0;36m0\u001b[0m\u001b[0;34m]\u001b[0m\u001b[0;34m)\u001b[0m\u001b[0;34m.\u001b[0m\u001b[0mstrft\u001b[0m\u001b[0;34m(\u001b[0m\u001b[0;34m'%Y%M%D'\u001b[0m\u001b[0;34m)\u001b[0m\u001b[0;34m\u001b[0m\u001b[0;34m\u001b[0m\u001b[0m\n\u001b[0m",
      "\u001b[0;31mAttributeError\u001b[0m: 'Timestamp' object has no attribute 'strft'"
     ]
    }
   ],
   "source": [
    "pd.to_datetime(usdm_resample_sel['date'].values[0]).strft('%Y%M%D')"
   ]
  },
  {
   "cell_type": "markdown",
   "metadata": {},
   "source": [
    "I believe the time has come ... to ANIMATE!"
   ]
  },
  {
   "cell_type": "code",
   "execution_count": null,
   "metadata": {},
   "outputs": [],
   "source": [
    "fig, ax = plt.subplots()\n",
    "\n",
    "ax.invert_yaxis()\n",
    "cmap = mpl.cm.get_cmap('PuOr')\n",
    "\n",
    "ax.set_xlabel('longitude (degrees east)')\n",
    "ax.set_ylabel('latitude (degrees west)')\n",
    "\n",
    "extreme = 5\n",
    "\n",
    "norm = mpl.colors.Normalize(vmin=-extreme, vmax=extreme)\n",
    "cbar = fig.colorbar(mpl.cm.ScalarMappable(norm=norm, cmap=cmap))\n",
    "cbar.set_label('Upscaled USDM - SPI')\n",
    "\n",
    "def animate(i):\n",
    "    ax.set_title(f'USDM {})"
   ]
  }
 ],
 "metadata": {
  "interpreter": {
   "hash": "5585d616cc037afe4e5997f9d5ad9938ec3148b25e01a6d2931d801949bec716"
  },
  "kernelspec": {
   "display_name": "sedi",
   "language": "python",
   "name": "sedi"
  },
  "language_info": {
   "codemirror_mode": {
    "name": "ipython",
    "version": 3
   },
   "file_extension": ".py",
   "mimetype": "text/x-python",
   "name": "python",
   "nbconvert_exporter": "python",
   "pygments_lexer": "ipython3",
   "version": "3.7.12"
  }
 },
 "nbformat": 4,
 "nbformat_minor": 4
}
