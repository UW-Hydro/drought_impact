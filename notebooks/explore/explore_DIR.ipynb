{
 "cells": [
  {
   "attachments": {},
   "cell_type": "markdown",
   "metadata": {},
   "source": [
    "# Explore Drought Impact Reporter (DIR)\n",
    "a. stein    1.12.2023\n",
    "\n",
    "Part of the drought monitor is the [Drought Impact Reporter](https://droughtmonitor.unl.edu/DmData/StateImpacts.aspx). I've gathered table readouts from it into csv files located here:\n",
    "\n",
    "`/pool0/home/steinadi/data/drought/drought_impact/data/impacts/DIR`\n",
    "\n",
    "Let's see if we find anything interesting, yeah?"
   ]
  },
  {
   "cell_type": "code",
   "execution_count": 1,
   "metadata": {},
   "outputs": [
    {
     "name": "stderr",
     "output_type": "stream",
     "text": [
      "/tmp/ipykernel_3044363/4244775593.py:10: TqdmExperimentalWarning: Using `tqdm.autonotebook.tqdm` in notebook mode. Use `tqdm.tqdm` instead to force console mode (e.g. in jupyter console)\n",
      "  from tqdm.autonotebook import tqdm\n"
     ]
    }
   ],
   "source": [
    "import xarray as xr\n",
    "import pandas as pd\n",
    "import numpy as np\n",
    "\n",
    "import matplotlib as mpl\n",
    "import matplotlib.pyplot as plt\n",
    "\n",
    "import geopandas as gpd\n",
    "\n",
    "from tqdm.autonotebook import tqdm"
   ]
  },
  {
   "cell_type": "code",
   "execution_count": 2,
   "metadata": {},
   "outputs": [],
   "source": [
    "dir_path = '/pool0/home/steinadi/data/drought/drought_impact/data/impacts/DIR'"
   ]
  },
  {
   "cell_type": "code",
   "execution_count": 15,
   "metadata": {},
   "outputs": [],
   "source": [
    "dir_d0 = pd.read_csv(f'{dir_path}/WA_USDM_Impacts_D0.csv', index_col='Start Date')\n",
    "dir_d0.index = pd.to_datetime(dir_d0.index)\n",
    "\n",
    "dir_d1 = pd.read_csv(f'{dir_path}/WA_USDM_Impacts_D1.csv', index_col='Start Date')\n",
    "dir_d1.index = pd.to_datetime(dir_d1.index)\n",
    "\n",
    "dir_d2 = pd.read_csv(f'{dir_path}/WA_USDM_Impacts_D2.csv', index_col='Start Date')\n",
    "dir_d2.index = pd.to_datetime(dir_d2.index)\n",
    "\n",
    "dir_d3 = pd.read_csv(f'{dir_path}/WA_USDM_Impacts_D3.csv', index_col='Start Date')\n",
    "dir_d3.index = pd.to_datetime(dir_d3.index)\n",
    "\n",
    "dir_d4 = pd.read_csv(f'{dir_path}/WA_USDM_Impacts_D4.csv', index_col='Start Date')\n",
    "dir_d4.index = pd.to_datetime(dir_d4.index)"
   ]
  },
  {
   "cell_type": "code",
   "execution_count": 16,
   "metadata": {},
   "outputs": [
    {
     "data": {
      "text/html": [
       "<div>\n",
       "<style scoped>\n",
       "    .dataframe tbody tr th:only-of-type {\n",
       "        vertical-align: middle;\n",
       "    }\n",
       "\n",
       "    .dataframe tbody tr th {\n",
       "        vertical-align: top;\n",
       "    }\n",
       "\n",
       "    .dataframe thead th {\n",
       "        text-align: right;\n",
       "    }\n",
       "</style>\n",
       "<table border=\"1\" class=\"dataframe\">\n",
       "  <thead>\n",
       "    <tr style=\"text-align: right;\">\n",
       "      <th></th>\n",
       "      <th>Seasons</th>\n",
       "      <th>Weeks in Drought</th>\n",
       "      <th>Historically observed impacts</th>\n",
       "    </tr>\n",
       "    <tr>\n",
       "      <th>Start Date</th>\n",
       "      <th></th>\n",
       "      <th></th>\n",
       "      <th></th>\n",
       "    </tr>\n",
       "  </thead>\n",
       "  <tbody>\n",
       "    <tr>\n",
       "      <th>2021-08-11</th>\n",
       "      <td>summer</td>\n",
       "      <td>0</td>\n",
       "      <td>Dry weather, heat slashed Washington wheat yie...</td>\n",
       "    </tr>\n",
       "    <tr>\n",
       "      <th>2021-06-04</th>\n",
       "      <td>summer</td>\n",
       "      <td>0</td>\n",
       "      <td>Water curtailed in Chehalis River basin in Was...</td>\n",
       "    </tr>\n",
       "    <tr>\n",
       "      <th>2021-05-27</th>\n",
       "      <td>spring</td>\n",
       "      <td>0</td>\n",
       "      <td>Drought advisory in Washington State</td>\n",
       "    </tr>\n",
       "    <tr>\n",
       "      <th>2020-07-28</th>\n",
       "      <td>summer</td>\n",
       "      <td>0</td>\n",
       "      <td>Statewide burn ban on all Washington forestland</td>\n",
       "    </tr>\n",
       "    <tr>\n",
       "      <th>2020-04-10</th>\n",
       "      <td>spring</td>\n",
       "      <td>0</td>\n",
       "      <td>Early season burn ban for DNR lands in eastern...</td>\n",
       "    </tr>\n",
       "  </tbody>\n",
       "</table>\n",
       "</div>"
      ],
      "text/plain": [
       "           Seasons  Weeks in Drought  \\\n",
       "Start Date                             \n",
       "2021-08-11  summer                 0   \n",
       "2021-06-04  summer                 0   \n",
       "2021-05-27  spring                 0   \n",
       "2020-07-28  summer                 0   \n",
       "2020-04-10  spring                 0   \n",
       "\n",
       "                                Historically observed impacts  \n",
       "Start Date                                                     \n",
       "2021-08-11  Dry weather, heat slashed Washington wheat yie...  \n",
       "2021-06-04  Water curtailed in Chehalis River basin in Was...  \n",
       "2021-05-27               Drought advisory in Washington State  \n",
       "2020-07-28    Statewide burn ban on all Washington forestland  \n",
       "2020-04-10  Early season burn ban for DNR lands in eastern...  "
      ]
     },
     "execution_count": 16,
     "metadata": {},
     "output_type": "execute_result"
    }
   ],
   "source": [
    "dir_d0.head()"
   ]
  },
  {
   "cell_type": "code",
   "execution_count": null,
   "metadata": {},
   "outputs": [],
   "source": []
  }
 ],
 "metadata": {
  "kernelspec": {
   "display_name": "sedi",
   "language": "python",
   "name": "python3"
  },
  "language_info": {
   "codemirror_mode": {
    "name": "ipython",
    "version": 3
   },
   "file_extension": ".py",
   "mimetype": "text/x-python",
   "name": "python",
   "nbconvert_exporter": "python",
   "pygments_lexer": "ipython3",
   "version": "3.10.8"
  },
  "orig_nbformat": 4,
  "vscode": {
   "interpreter": {
    "hash": "5585d616cc037afe4e5997f9d5ad9938ec3148b25e01a6d2931d801949bec716"
   }
  }
 },
 "nbformat": 4,
 "nbformat_minor": 2
}
