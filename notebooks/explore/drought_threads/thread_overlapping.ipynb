{
 "cells": [
  {
   "attachments": {},
   "cell_type": "markdown",
   "metadata": {},
   "source": [
    "# Thread Overlapping\n",
    "a. stein 4.28.2023"
   ]
  },
  {
   "cell_type": "code",
   "execution_count": 1,
   "metadata": {},
   "outputs": [
    {
     "name": "stderr",
     "output_type": "stream",
     "text": [
      "/pool0/data/steinjao/drought/drought_impact/notebooks/explore/drought_network/../../../ndrought/wrangle.py:17: TqdmExperimentalWarning: Using `tqdm.autonotebook.tqdm` in notebook mode. Use `tqdm.tqdm` instead to force console mode (e.g. in jupyter console)\n",
      "  from tqdm.autonotebook import tqdm\n"
     ]
    }
   ],
   "source": [
    "import pickle\n",
    "import numpy as np\n",
    "\n",
    "import sys\n",
    "sys.path.append('../../../')\n",
    "import ndrought.drought_network as dnet\n",
    "import ndrought.wrangle_v11 as dnw\n",
    "\n",
    "import matplotlib as mpl\n",
    "import matplotlib.pyplot as plt\n",
    "\n",
    "import pandas as pd\n",
    "import xarray as xr\n",
    "\n",
    "from tqdm.autonotebook import tqdm"
   ]
  },
  {
   "attachments": {},
   "cell_type": "markdown",
   "metadata": {},
   "source": [
    "## Load in Data"
   ]
  },
  {
   "cell_type": "code",
   "execution_count": 2,
   "metadata": {},
   "outputs": [],
   "source": [
    "dnet_path = '/pool0/home/steinadi/data/drought/drought_impact/data/drought_measures/ndrought_products/CONUS_105W/individual_dnet'"
   ]
  },
  {
   "cell_type": "code",
   "execution_count": 3,
   "metadata": {},
   "outputs": [],
   "source": [
    "exp_tag = 'f25k_d1_rt20p_paired'"
   ]
  },
  {
   "cell_type": "code",
   "execution_count": 4,
   "metadata": {},
   "outputs": [],
   "source": [
    "usdm_net = dnet.DroughtNetwork.unpickle(f'{dnet_path}/USDM_net_{exp_tag}.pickle')"
   ]
  },
  {
   "cell_type": "code",
   "execution_count": 5,
   "metadata": {},
   "outputs": [],
   "source": [
    "spi30d_net = dnet.DroughtNetwork.unpickle(f'{dnet_path}/spi_30d_net_{exp_tag}.pickle')"
   ]
  },
  {
   "cell_type": "code",
   "execution_count": 6,
   "metadata": {},
   "outputs": [],
   "source": [
    "spi180d_net = dnet.DroughtNetwork.unpickle(f'{dnet_path}/spi_180d_net_{exp_tag}.pickle')"
   ]
  },
  {
   "attachments": {},
   "cell_type": "markdown",
   "metadata": {},
   "source": [
    "## Grab drought\n",
    "- 2014/2016: 765,870\n",
    "- 2004/2006: 244,348\n",
    "- 2010/2012: 557,661"
   ]
  },
  {
   "cell_type": "code",
   "execution_count": 7,
   "metadata": {},
   "outputs": [
    {
     "data": {
      "application/vnd.jupyter.widget-view+json": {
       "model_id": "cebccee8bc604375940dc0e040e652b7",
       "version_major": 2,
       "version_minor": 0
      },
      "text/plain": [
       "  0%|          | 0/50 [00:00<?, ?it/s]"
      ]
     },
     "metadata": {},
     "output_type": "display_data"
    },
    {
     "ename": "KeyboardInterrupt",
     "evalue": "",
     "output_type": "error",
     "traceback": [
      "\u001b[0;31m---------------------------------------------------------------------------\u001b[0m",
      "\u001b[0;31mKeyboardInterrupt\u001b[0m                         Traceback (most recent call last)",
      "\u001b[1;32m/pool0/home/steinadi/data/drought/drought_impact/notebooks/explore/drought_network/thread_overlapping.ipynb Cell 10\u001b[0m in \u001b[0;36m<cell line: 7>\u001b[0;34m()\u001b[0m\n\u001b[1;32m      <a href='vscode-notebook-cell://ssh-remote%2Bh2o/pool0/home/steinadi/data/drought/drought_impact/notebooks/explore/drought_network/thread_overlapping.ipynb#X12sdnNjb2RlLXJlbW90ZQ%3D%3D?line=8'>9</a>\u001b[0m found_origins\u001b[39m.\u001b[39mappend(o)\n\u001b[1;32m     <a href='vscode-notebook-cell://ssh-remote%2Bh2o/pool0/home/steinadi/data/drought/drought_impact/notebooks/explore/drought_network/thread_overlapping.ipynb#X12sdnNjb2RlLXJlbW90ZQ%3D%3D?line=9'>10</a>\u001b[0m found_threads[o\u001b[39m.\u001b[39mid] \u001b[39m=\u001b[39m usdm_net\u001b[39m.\u001b[39mget_chronological_future_thread(o\u001b[39m.\u001b[39mid)\n\u001b[0;32m---> <a href='vscode-notebook-cell://ssh-remote%2Bh2o/pool0/home/steinadi/data/drought/drought_impact/notebooks/explore/drought_network/thread_overlapping.ipynb#X12sdnNjb2RlLXJlbW90ZQ%3D%3D?line=10'>11</a>\u001b[0m found_arrays[o\u001b[39m.\u001b[39mid] \u001b[39m=\u001b[39m usdm_net\u001b[39m.\u001b[39;49mto_array(\u001b[39mid\u001b[39;49m\u001b[39m=\u001b[39;49mo\u001b[39m.\u001b[39;49mid)\n\u001b[1;32m     <a href='vscode-notebook-cell://ssh-remote%2Bh2o/pool0/home/steinadi/data/drought/drought_impact/notebooks/explore/drought_network/thread_overlapping.ipynb#X12sdnNjb2RlLXJlbW90ZQ%3D%3D?line=11'>12</a>\u001b[0m \u001b[39mprint\u001b[39m(o)\n\u001b[1;32m     <a href='vscode-notebook-cell://ssh-remote%2Bh2o/pool0/home/steinadi/data/drought/drought_impact/notebooks/explore/drought_network/thread_overlapping.ipynb#X12sdnNjb2RlLXJlbW90ZQ%3D%3D?line=12'>13</a>\u001b[0m \u001b[39mprint\u001b[39m(found_threads[o\u001b[39m.\u001b[39mid])\n",
      "File \u001b[0;32m/pool0/data/steinjao/drought/drought_impact/notebooks/explore/drought_network/../../../ndrought/drought_network_v12.py:613\u001b[0m, in \u001b[0;36mDroughtNetwork.to_array\u001b[0;34m(self, id, start_time, end_time, adj_dict)\u001b[0m\n\u001b[1;32m    611\u001b[0m     t \u001b[39m=\u001b[39m node\u001b[39m.\u001b[39mtime \u001b[39m-\u001b[39m found_start_time\n\u001b[1;32m    612\u001b[0m     \u001b[39mfor\u001b[39;00m [i, j] \u001b[39min\u001b[39;00m node\u001b[39m.\u001b[39mcoords:\n\u001b[0;32m--> 613\u001b[0m         array_out[t, i, j] \u001b[39m+\u001b[39m\u001b[39m=\u001b[39m \u001b[39m1\u001b[39m\n\u001b[1;32m    615\u001b[0m \u001b[39mreturn\u001b[39;00m array_out\n",
      "\u001b[0;31mKeyboardInterrupt\u001b[0m: "
     ]
    }
   ],
   "source": [
    "found_origins = []\n",
    "found_threads = dict()\n",
    "found_arrays = dict()\n",
    "\n",
    "t = tqdm(total=len(usdm_net.origins))\n",
    "\n",
    "for o in usdm_net.origins:\n",
    "    if o.time > 557 and o.time < 661:\n",
    "        found_origins.append(o)\n",
    "        found_threads[o.id] = usdm_net.get_chronological_future_thread(o.id)\n",
    "        found_arrays[o.id] = usdm_net.to_array(id=o.id)\n",
    "        print(o)\n",
    "        print(found_threads[o.id])\n",
    "        print()\n",
    "    t.update()"
   ]
  },
  {
   "cell_type": "code",
   "execution_count": null,
   "metadata": {},
   "outputs": [
    {
     "name": "stdout",
     "output_type": "stream",
     "text": [
      "632\n",
      "time: 1148, id: 1813, futures: []\n",
      "632\n",
      "time: 1148, id: 1813, futures: []\n",
      "578\n",
      "time: 1148, id: 1813, futures: []\n",
      "10\n",
      "time: 636, id: 1009, futures: []\n",
      "552\n",
      "time: 1148, id: 1813, futures: []\n"
     ]
    }
   ],
   "source": [
    "for o in found_origins:\n",
    "    print(len(found_threads[o.id]))\n",
    "    print(found_threads[o.id][-1])"
   ]
  },
  {
   "cell_type": "code",
   "execution_count": null,
   "metadata": {},
   "outputs": [
    {
     "data": {
      "application/vnd.jupyter.widget-view+json": {
       "model_id": "8bb05385007349668243fc3fa3b2af03",
       "version_major": 2,
       "version_minor": 0
      },
      "text/plain": [
       "  0%|          | 0/272 [00:00<?, ?it/s]"
      ]
     },
     "metadata": {},
     "output_type": "display_data"
    },
    {
     "name": "stdout",
     "output_type": "stream",
     "text": [
      "time: 571, id: 918, futures: [920]\n",
      "[time: 618, id: 918, time: 619, id: 921, time: 620, id: 924]\n",
      "\n",
      "time: 571, id: 919, futures: [921]\n",
      "[time: 618, id: 919, time: 619, id: 922, time: 620, id: 925]\n",
      "\n",
      "time: 625, id: 985, futures: [987]\n",
      "[time: 676, id: 985, time: 677, id: 988, time: 678, id: 991, time: 679, id: 995]\n",
      "\n",
      "time: 627, id: 989, futures: [992]\n",
      "[time: 678, id: 989, time: 679, id: 992, time: 680, id: 996]\n",
      "\n",
      "time: 651, id: 1025, futures: [1027]\n",
      "[time: 716, id: 1025, time: 717, id: 1030]\n",
      "\n"
     ]
    }
   ],
   "source": [
    "found_origins = []\n",
    "found_threads = dict()\n",
    "found_arrays = dict()\n",
    "\n",
    "t = tqdm(total=len(spi180d_net.origins))\n",
    "\n",
    "for o in usdm_net.origins:\n",
    "    if o.time > 557 and o.time < 661:\n",
    "        found_origins.append(o)\n",
    "        found_threads[o.id] = spi180d_net.get_chronological_future_thread(o.id)\n",
    "        found_arrays[o.id] = spi180d_net.to_array(id=o.id)\n",
    "        print(o)\n",
    "        print(found_threads[o.id])\n",
    "        print()\n",
    "    t.update()"
   ]
  },
  {
   "cell_type": "code",
   "execution_count": null,
   "metadata": {},
   "outputs": [
    {
     "name": "stdout",
     "output_type": "stream",
     "text": [
      "3\n",
      "time: 620, id: 924, futures: []\n",
      "3\n",
      "time: 620, id: 925, futures: []\n",
      "4\n",
      "time: 679, id: 995, futures: []\n",
      "3\n",
      "time: 680, id: 996, futures: []\n",
      "2\n",
      "time: 717, id: 1030, futures: []\n"
     ]
    }
   ],
   "source": [
    "for o in found_origins:\n",
    "    print(len(found_threads[o.id]))\n",
    "    print(found_threads[o.id][-1])"
   ]
  },
  {
   "cell_type": "code",
   "execution_count": null,
   "metadata": {},
   "outputs": [
    {
     "data": {
      "image/png": "[encoded data removed]",
      "text/plain": [
       "<Figure size 432x288 with 20 Axes>"
      ]
     },
     "metadata": {
      "needs_background": "light"
     },
     "output_type": "display_data"
    }
   ],
   "source": [
    "fig, axs = plt.subplots(5,4)\n",
    "\n",
    "for i, o in enumerate(found_origins):\n",
    "    for j, array in enumerate(found_arrays[o.id]):\n",
    "        axs[i,j].imshow(array)"
   ]
  },
  {
   "attachments": {},
   "cell_type": "markdown",
   "metadata": {},
   "source": [
    "Okay, that doesn't give me that much to work with. Let's find the biggest event in spi180d and trace from there"
   ]
  },
  {
   "cell_type": "code",
   "execution_count": null,
   "metadata": {},
   "outputs": [],
   "source": [
    "largest_id = 0\n",
    "largest_size = 0\n",
    "\n",
    "for node in spi180d_net.nodes:\n",
    "    if len(node.coords) > largest_size:\n",
    "        largest_id = node.id\n",
    "        largest_size = len(node.coords)"
   ]
  },
  {
   "cell_type": "code",
   "execution_count": null,
   "metadata": {},
   "outputs": [
    {
     "data": {
      "text/plain": [
       "time: 900, id: 1517"
      ]
     },
     "execution_count": 13,
     "metadata": {},
     "output_type": "execute_result"
    }
   ],
   "source": [
    "largest_node = spi180d_net.nodes[largest_id]\n",
    "largest_node"
   ]
  },
  {
   "cell_type": "code",
   "execution_count": null,
   "metadata": {},
   "outputs": [
    {
     "data": {
      "text/plain": [
       "86019"
      ]
     },
     "execution_count": 14,
     "metadata": {},
     "output_type": "execute_result"
    }
   ],
   "source": [
    "largest_size"
   ]
  },
  {
   "cell_type": "code",
   "execution_count": null,
   "metadata": {},
   "outputs": [
    {
     "data": {
      "text/plain": [
       "(23, 702, 525)"
      ]
     },
     "execution_count": 15,
     "metadata": {},
     "output_type": "execute_result"
    }
   ],
   "source": [
    "largest_array = spi180d_net.to_array(id=largest_id)\n",
    "largest_array.shape"
   ]
  },
  {
   "cell_type": "code",
   "execution_count": null,
   "metadata": {},
   "outputs": [
    {
     "data": {
      "image/png": "[encoded data removed]",
      "text/plain": [
       "<Figure size 432x288 with 25 Axes>"
      ]
     },
     "metadata": {
      "needs_background": "light"
     },
     "output_type": "display_data"
    }
   ],
   "source": [
    "fig, axs = plt.subplots(5,5)\n",
    "axs_list = axs.ravel()\n",
    "\n",
    "for i in np.arange(largest_array.shape[0]):\n",
    "    axs_list[i].imshow(largest_array[i, :, :])"
   ]
  },
  {
   "attachments": {},
   "cell_type": "markdown",
   "metadata": {},
   "source": [
    "That's more what I'm talking about."
   ]
  },
  {
   "attachments": {},
   "cell_type": "markdown",
   "metadata": {},
   "source": [
    "Now to trace it backwards"
   ]
  },
  {
   "cell_type": "code",
   "execution_count": null,
   "metadata": {},
   "outputs": [
    {
     "data": {
      "text/plain": [
       "[1463, 1439, 1434, 1436, 1360, 1361, 1351, 1352]"
      ]
     },
     "execution_count": 17,
     "metadata": {},
     "output_type": "execute_result"
    }
   ],
   "source": [
    "largest_origins = spi180d_net.find_origins(start_id=largest_id)\n",
    "largest_origins"
   ]
  },
  {
   "cell_type": "code",
   "execution_count": null,
   "metadata": {},
   "outputs": [
    {
     "name": "stdout",
     "output_type": "stream",
     "text": [
      "5985\n",
      "3682\n",
      "2410\n",
      "4344\n",
      "3614\n",
      "1949\n",
      "1599\n",
      "1681\n"
     ]
    }
   ],
   "source": [
    "for o in largest_origins:\n",
    "    print(len(spi180d_net.nodes[o].coords))"
   ]
  },
  {
   "attachments": {},
   "cell_type": "markdown",
   "metadata": {},
   "source": [
    "Are these just events that snowball?"
   ]
  },
  {
   "cell_type": "code",
   "execution_count": null,
   "metadata": {},
   "outputs": [],
   "source": [
    "origin_threads = dict()\n",
    "origin_thread_ids = dict()\n",
    "\n",
    "for o in largest_origins:\n",
    "    origin_threads[o] = spi180d_net.get_chronological_future_thread(id=o)\n",
    "    origin_thread_ids[o] = [org.id for org in origin_threads[o]]"
   ]
  },
  {
   "cell_type": "code",
   "execution_count": null,
   "metadata": {},
   "outputs": [],
   "source": [
    "test_1 = origin_thread_ids[largest_origins[0]]\n",
    "test_2 = origin_thread_ids[largest_origins[1]]"
   ]
  },
  {
   "cell_type": "code",
   "execution_count": null,
   "metadata": {},
   "outputs": [
    {
     "data": {
      "text/plain": [
       "65"
      ]
     },
     "execution_count": 21,
     "metadata": {},
     "output_type": "execute_result"
    }
   ],
   "source": [
    "len(test_1)"
   ]
  },
  {
   "cell_type": "code",
   "execution_count": null,
   "metadata": {},
   "outputs": [
    {
     "data": {
      "text/plain": [
       "79"
      ]
     },
     "execution_count": 22,
     "metadata": {},
     "output_type": "execute_result"
    }
   ],
   "source": [
    "len(test_2)"
   ]
  },
  {
   "cell_type": "code",
   "execution_count": null,
   "metadata": {},
   "outputs": [
    {
     "data": {
      "text/plain": [
       "63"
      ]
     },
     "execution_count": 23,
     "metadata": {},
     "output_type": "execute_result"
    }
   ],
   "source": [
    "len(np.intersect1d(test_1, test_2))"
   ]
  },
  {
   "cell_type": "code",
   "execution_count": null,
   "metadata": {},
   "outputs": [
    {
     "data": {
      "text/plain": [
       "81"
      ]
     },
     "execution_count": 24,
     "metadata": {},
     "output_type": "execute_result"
    }
   ],
   "source": [
    "len(np.union1d(test_1, test_2))"
   ]
  },
  {
   "cell_type": "code",
   "execution_count": null,
   "metadata": {},
   "outputs": [
    {
     "name": "stdout",
     "output_type": "stream",
     "text": [
      "1463 in 1463\n",
      "1439 in 1439\n",
      "1434 in 1434\n",
      "1436 in 1436\n",
      "1360 in 1360\n",
      "1361 in 1361\n",
      "1351 in 1351\n",
      "1352 in 1352\n"
     ]
    }
   ],
   "source": [
    "for o_1 in largest_origins:\n",
    "    o_thread_1 = origin_thread_ids[o_1]\n",
    "    for o_2 in largest_origins:\n",
    "        o_thread_2 = origin_thread_ids[o_2]\n",
    "        intersect = np.intersect1d(o_thread_1, o_thread_2)\n",
    "        if len(intersect) == len(o_thread_1):\n",
    "            print(f'{o_2} in {o_1}')\n",
    "        elif len(intersect) == len(o_thread_2):\n",
    "            print(f'{o_1} in {o_2}')"
   ]
  },
  {
   "cell_type": "code",
   "execution_count": null,
   "metadata": {},
   "outputs": [
    {
     "name": "stdout",
     "output_type": "stream",
     "text": [
      "1463(65) intersect 1463(65) --> 65\n",
      "1463(65) intersect 1439(79) --> 63\n",
      "1463(65) intersect 1434(80) --> 63\n",
      "1463(65) intersect 1436(81) --> 63\n",
      "1463(65) intersect 1360(123) --> 64\n",
      "1463(65) intersect 1361(123) --> 64\n",
      "1463(65) intersect 1351(126) --> 64\n",
      "1463(65) intersect 1352(126) --> 64\n",
      "1439(79) intersect 1463(65) --> 63\n",
      "1439(79) intersect 1439(79) --> 79\n",
      "1439(79) intersect 1434(80) --> 78\n",
      "1439(79) intersect 1436(81) --> 78\n",
      "1439(79) intersect 1360(123) --> 63\n",
      "1439(79) intersect 1361(123) --> 63\n",
      "1439(79) intersect 1351(126) --> 63\n",
      "1439(79) intersect 1352(126) --> 63\n",
      "1434(80) intersect 1463(65) --> 63\n",
      "1434(80) intersect 1439(79) --> 78\n",
      "1434(80) intersect 1434(80) --> 80\n",
      "1434(80) intersect 1436(81) --> 79\n",
      "1434(80) intersect 1360(123) --> 63\n",
      "1434(80) intersect 1361(123) --> 63\n",
      "1434(80) intersect 1351(126) --> 63\n",
      "1434(80) intersect 1352(126) --> 63\n",
      "1436(81) intersect 1463(65) --> 63\n",
      "1436(81) intersect 1439(79) --> 78\n",
      "1436(81) intersect 1434(80) --> 79\n",
      "1436(81) intersect 1436(81) --> 81\n",
      "1436(81) intersect 1360(123) --> 63\n",
      "1436(81) intersect 1361(123) --> 63\n",
      "1436(81) intersect 1351(126) --> 63\n",
      "1436(81) intersect 1352(126) --> 63\n",
      "1360(123) intersect 1463(65) --> 64\n",
      "1360(123) intersect 1439(79) --> 63\n",
      "1360(123) intersect 1434(80) --> 63\n",
      "1360(123) intersect 1436(81) --> 63\n",
      "1360(123) intersect 1360(123) --> 123\n",
      "1360(123) intersect 1361(123) --> 122\n",
      "1360(123) intersect 1351(126) --> 122\n",
      "1360(123) intersect 1352(126) --> 122\n",
      "1361(123) intersect 1463(65) --> 64\n",
      "1361(123) intersect 1439(79) --> 63\n",
      "1361(123) intersect 1434(80) --> 63\n",
      "1361(123) intersect 1436(81) --> 63\n",
      "1361(123) intersect 1360(123) --> 122\n",
      "1361(123) intersect 1361(123) --> 123\n",
      "1361(123) intersect 1351(126) --> 122\n",
      "1361(123) intersect 1352(126) --> 122\n",
      "1351(126) intersect 1463(65) --> 64\n",
      "1351(126) intersect 1439(79) --> 63\n",
      "1351(126) intersect 1434(80) --> 63\n",
      "1351(126) intersect 1436(81) --> 63\n",
      "1351(126) intersect 1360(123) --> 122\n",
      "1351(126) intersect 1361(123) --> 122\n",
      "1351(126) intersect 1351(126) --> 126\n",
      "1351(126) intersect 1352(126) --> 125\n",
      "1352(126) intersect 1463(65) --> 64\n",
      "1352(126) intersect 1439(79) --> 63\n",
      "1352(126) intersect 1434(80) --> 63\n",
      "1352(126) intersect 1436(81) --> 63\n",
      "1352(126) intersect 1360(123) --> 122\n",
      "1352(126) intersect 1361(123) --> 122\n",
      "1352(126) intersect 1351(126) --> 125\n",
      "1352(126) intersect 1352(126) --> 126\n"
     ]
    }
   ],
   "source": [
    "for o_1 in largest_origins:\n",
    "    o_thread_1 = origin_thread_ids[o_1]\n",
    "    for o_2 in largest_origins:\n",
    "        o_thread_2 = origin_thread_ids[o_2]\n",
    "        intersect = np.intersect1d(o_thread_1, o_thread_2)\n",
    "        print(f'{o_1}({len(o_thread_1)}) intersect {o_2}({len(o_thread_2)}) --> {len(intersect)}')"
   ]
  },
  {
   "attachments": {},
   "cell_type": "markdown",
   "metadata": {},
   "source": [
    "So they're not complete snowballs (as in, they blip one moment then completely match), they have some life before they merge"
   ]
  },
  {
   "cell_type": "code",
   "execution_count": null,
   "metadata": {},
   "outputs": [],
   "source": [
    "spi180d_ln = largest_node # ln = largest node"
   ]
  },
  {
   "cell_type": "code",
   "execution_count": null,
   "metadata": {},
   "outputs": [],
   "source": [
    "spi180d_ln_cs = set(tuple(coord) for coord in spi180d_ln.coords) # cs = coord set"
   ]
  },
  {
   "attachments": {},
   "cell_type": "markdown",
   "metadata": {},
   "source": [
    "Now I need to select out the node that has the greatest overlap at that time"
   ]
  },
  {
   "cell_type": "code",
   "execution_count": null,
   "metadata": {},
   "outputs": [
    {
     "name": "stdout",
     "output_type": "stream",
     "text": [
      "time: 900, id: 1801, futures: [1804]\n",
      "time: 900, id: 1802, futures: [1805]\n",
      "time: 900, id: 1803, futures: [1805]\n"
     ]
    }
   ],
   "source": [
    "spi30d_tm = []\n",
    "\n",
    "for node in spi30d_net:\n",
    "    if node.time ==spi180d_ln.time:\n",
    "        print(node)\n",
    "        spi30d_tm.append(node)"
   ]
  },
  {
   "cell_type": "code",
   "execution_count": null,
   "metadata": {},
   "outputs": [
    {
     "name": "stdout",
     "output_type": "stream",
     "text": [
      "23846\n",
      "10168\n",
      "2450\n"
     ]
    }
   ],
   "source": [
    "for node in spi30d_tm:\n",
    "    node_cs = set(tuple(coord) for coord in node.coords)\n",
    "    print(len(spi180d_ln_cs.intersection(node_cs)))"
   ]
  },
  {
   "attachments": {},
   "cell_type": "markdown",
   "metadata": {},
   "source": [
    "So all 3 of those intersect ... great"
   ]
  },
  {
   "cell_type": "code",
   "execution_count": null,
   "metadata": {},
   "outputs": [
    {
     "data": {
      "text/plain": [
       "[[1789, 1760, 1758, 1751], [1789, 1760, 1758, 1751], []]"
      ]
     },
     "execution_count": 31,
     "metadata": {},
     "output_type": "execute_result"
    }
   ],
   "source": [
    "[spi30d_net.find_origins(node.id) for node in spi30d_tm]"
   ]
  },
  {
   "cell_type": "code",
   "execution_count": null,
   "metadata": {},
   "outputs": [
    {
     "data": {
      "text/plain": [
       "[]"
      ]
     },
     "execution_count": 32,
     "metadata": {},
     "output_type": "execute_result"
    }
   ],
   "source": [
    "# double check that that last entry means its an origin\n",
    "spi30d_tm[-1].past"
   ]
  },
  {
   "attachments": {},
   "cell_type": "markdown",
   "metadata": {},
   "source": [
    "So we got 8 threads that feed into the node for spi180d, and then effectively 9 that feed into spi30d that intersects at the same time."
   ]
  },
  {
   "attachments": {},
   "cell_type": "markdown",
   "metadata": {},
   "source": [
    "What about for USDM? (I'm probably going to regret this)"
   ]
  },
  {
   "cell_type": "code",
   "execution_count": null,
   "metadata": {},
   "outputs": [
    {
     "name": "stdout",
     "output_type": "stream",
     "text": [
      "time: 900, id: 1374, futures: [1375]\n"
     ]
    }
   ],
   "source": [
    "usdm_tm = []\n",
    "\n",
    "for node in usdm_net:\n",
    "    if node.time == spi180d_ln.time:\n",
    "        print(node)\n",
    "        usdm_tm.append(node)"
   ]
  },
  {
   "cell_type": "code",
   "execution_count": null,
   "metadata": {},
   "outputs": [
    {
     "name": "stdout",
     "output_type": "stream",
     "text": [
      "0\n"
     ]
    }
   ],
   "source": [
    "for node in usdm_tm:\n",
    "    node_cs = set(tuple(coord) for coord in node.coords)\n",
    "    print(len(spi180d_ln_cs.intersection(node_cs)))"
   ]
  },
  {
   "attachments": {},
   "cell_type": "markdown",
   "metadata": {},
   "source": [
    "HAHAHAHHAHAAH, they don't even intersect. Wow."
   ]
  },
  {
   "attachments": {},
   "cell_type": "markdown",
   "metadata": {},
   "source": [
    "So any overlapping I do I'd need to run it at a different part of the thread"
   ]
  },
  {
   "attachments": {},
   "cell_type": "markdown",
   "metadata": {},
   "source": [
    "GAAAAAAAAAAAAAAAAAAAAAAAAAAAAAAAAAAAAAAAAAHHHH"
   ]
  },
  {
   "attachments": {},
   "cell_type": "markdown",
   "metadata": {},
   "source": [
    "Okay, lets start simple and try running one of the threads against another thread"
   ]
  },
  {
   "cell_type": "code",
   "execution_count": null,
   "metadata": {},
   "outputs": [],
   "source": []
  }
 ],
 "metadata": {
  "kernelspec": {
   "display_name": "sedi",
   "language": "python",
   "name": "sedi"
  },
  "language_info": {
   "codemirror_mode": {
    "name": "ipython",
    "version": 3
   },
   "file_extension": ".py",
   "mimetype": "text/x-python",
   "name": "python",
   "nbconvert_exporter": "python",
   "pygments_lexer": "ipython3",
   "version": "3.10.8"
  },
  "orig_nbformat": 4
 },
 "nbformat": 4,
 "nbformat_minor": 2
}
