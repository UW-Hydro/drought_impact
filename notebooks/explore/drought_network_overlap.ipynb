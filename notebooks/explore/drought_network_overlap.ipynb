{
 "cells": [
  {
   "cell_type": "markdown",
   "metadata": {},
   "source": [
    "# Drought Network Overlap\n",
    "9.20.2022, a. stein\n",
    "\n",
    "Here I want to look into tracing how the same drought evolves differently in different metrics."
   ]
  },
  {
   "cell_type": "code",
   "execution_count": 1,
   "metadata": {},
   "outputs": [
    {
     "name": "stdout",
     "output_type": "stream",
     "text": [
      "%pylab is deprecated, use %matplotlib inline and import the required libraries.\n",
      "Populating the interactive namespace from numpy and matplotlib\n"
     ]
    },
    {
     "name": "stderr",
     "output_type": "stream",
     "text": [
      "/tmp/ipykernel_1081522/2338660029.py:15: TqdmExperimentalWarning: Using `tqdm.autonotebook.tqdm` in notebook mode. Use `tqdm.tqdm` instead to force console mode (e.g. in jupyter console)\n",
      "  from tqdm.autonotebook import tqdm\n"
     ]
    }
   ],
   "source": [
    "%pylab inline\n",
    "%load_ext autoreload\n",
    "%autoreload 2\n",
    "%reload_ext autoreload\n",
    "\n",
    "import xarray as xr\n",
    "import rioxarray\n",
    "import rasterio as rio\n",
    "import pandas as pd\n",
    "import geopandas as gpd\n",
    "import networkx as nx\n",
    "\n",
    "import matplotlib.dates as mdates\n",
    "\n",
    "from tqdm.autonotebook import tqdm\n",
    "\n",
    "import sys\n",
    "sys.path.append('../../')\n",
    "import ndrought.wrangle as wrangle\n",
    "import ndrought.compare as compare\n",
    "import ndrought.plotting as ndplot\n",
    "import ndrought.drought_network as dnet"
   ]
  },
  {
   "cell_type": "markdown",
   "metadata": {},
   "source": [
    "Pull some data"
   ]
  },
  {
   "cell_type": "code",
   "execution_count": 2,
   "metadata": {},
   "outputs": [],
   "source": [
    "dm_path = '/pool0/home/steinadi/data/drought/drought_impact/data/drought_measures'"
   ]
  },
  {
   "cell_type": "code",
   "execution_count": 3,
   "metadata": {},
   "outputs": [],
   "source": [
    "usdm = xr.open_dataset(f'{dm_path}/usdm/USDM_WA_20000104_20220412.nc')"
   ]
  },
  {
   "cell_type": "code",
   "execution_count": 4,
   "metadata": {},
   "outputs": [],
   "source": [
    "usdm_net = dnet.DroughtNetwork.unpickle(f'{dm_path}/usdm/usdm_WA_net.pickle')"
   ]
  },
  {
   "cell_type": "code",
   "execution_count": 5,
   "metadata": {},
   "outputs": [],
   "source": [
    "pdsi = xr.open_dataset(f'{dm_path}/pdsi/WA/pdsi_usdmcat_WA.nc')"
   ]
  },
  {
   "cell_type": "code",
   "execution_count": 6,
   "metadata": {},
   "outputs": [],
   "source": [
    "pdsi_net = dnet.DroughtNetwork.unpickle(f'{dm_path}/pdsi/WA/pdsi_WA_net.pickle')"
   ]
  },
  {
   "cell_type": "markdown",
   "metadata": {},
   "source": [
    "Okay, I want things to match time, yet the drought network does not currently store what the actual date is of each network's nodes are. So let's check how they should be paired for these."
   ]
  },
  {
   "cell_type": "code",
   "execution_count": 7,
   "metadata": {},
   "outputs": [
    {
     "name": "stderr",
     "output_type": "stream",
     "text": [
      "/pool0/data/steinjao/drought/drought_impact/notebooks/explore/../../ndrought/compare.py:125: SettingWithCopyWarning: \n",
      "A value is trying to be set on a copy of a slice from a DataFrame\n",
      "\n",
      "See the caveats in the documentation: https://pandas.pydata.org/pandas-docs/stable/user_guide/indexing.html#returning-a-view-versus-a-copy\n",
      "  pair_dates['USDM Date'].iloc[i-1] = date\n",
      "/pool0/data/steinjao/drought/drought_impact/notebooks/explore/../../ndrought/compare.py:128: FutureWarning: In a future version of pandas all arguments of DataFrame.dropna will be keyword-only.\n",
      "  pair_dates = pair_dates.dropna('index')\n"
     ]
    }
   ],
   "source": [
    "matched_dates = compare.pair_to_usdm_date(pd.to_datetime(usdm.date.values), pd.to_datetime(pdsi.day.values), 'PDSI', realign=True)"
   ]
  },
  {
   "cell_type": "code",
   "execution_count": 8,
   "metadata": {},
   "outputs": [
    {
     "data": {
      "text/html": [
       "<div>\n",
       "<style scoped>\n",
       "    .dataframe tbody tr th:only-of-type {\n",
       "        vertical-align: middle;\n",
       "    }\n",
       "\n",
       "    .dataframe tbody tr th {\n",
       "        vertical-align: top;\n",
       "    }\n",
       "\n",
       "    .dataframe thead th {\n",
       "        text-align: right;\n",
       "    }\n",
       "</style>\n",
       "<table border=\"1\" class=\"dataframe\">\n",
       "  <thead>\n",
       "    <tr style=\"text-align: right;\">\n",
       "      <th></th>\n",
       "      <th>PDSI</th>\n",
       "      <th>USDM Date</th>\n",
       "    </tr>\n",
       "  </thead>\n",
       "  <tbody>\n",
       "    <tr>\n",
       "      <th>0</th>\n",
       "      <td>1999-12-31</td>\n",
       "      <td>2000-01-04 00:00:00</td>\n",
       "    </tr>\n",
       "    <tr>\n",
       "      <th>1</th>\n",
       "      <td>2000-01-10</td>\n",
       "      <td>2000-01-11 00:00:00</td>\n",
       "    </tr>\n",
       "    <tr>\n",
       "      <th>2</th>\n",
       "      <td>2000-01-15</td>\n",
       "      <td>2000-01-18 00:00:00</td>\n",
       "    </tr>\n",
       "    <tr>\n",
       "      <th>3</th>\n",
       "      <td>2000-01-25</td>\n",
       "      <td>2000-01-25 00:00:00</td>\n",
       "    </tr>\n",
       "    <tr>\n",
       "      <th>4</th>\n",
       "      <td>2000-01-30</td>\n",
       "      <td>2000-02-01 00:00:00</td>\n",
       "    </tr>\n",
       "    <tr>\n",
       "      <th>...</th>\n",
       "      <td>...</td>\n",
       "      <td>...</td>\n",
       "    </tr>\n",
       "    <tr>\n",
       "      <th>1144</th>\n",
       "      <td>2021-12-06</td>\n",
       "      <td>2021-12-07 00:00:00</td>\n",
       "    </tr>\n",
       "    <tr>\n",
       "      <th>1145</th>\n",
       "      <td>2021-12-11</td>\n",
       "      <td>2021-12-14 00:00:00</td>\n",
       "    </tr>\n",
       "    <tr>\n",
       "      <th>1146</th>\n",
       "      <td>2021-12-21</td>\n",
       "      <td>2021-12-21 00:00:00</td>\n",
       "    </tr>\n",
       "    <tr>\n",
       "      <th>1147</th>\n",
       "      <td>2021-12-26</td>\n",
       "      <td>2021-12-28 00:00:00</td>\n",
       "    </tr>\n",
       "    <tr>\n",
       "      <th>1148</th>\n",
       "      <td>2021-12-31</td>\n",
       "      <td>2022-01-04 00:00:00</td>\n",
       "    </tr>\n",
       "  </tbody>\n",
       "</table>\n",
       "<p>1149 rows × 2 columns</p>\n",
       "</div>"
      ],
      "text/plain": [
       "           PDSI            USDM Date\n",
       "0    1999-12-31  2000-01-04 00:00:00\n",
       "1    2000-01-10  2000-01-11 00:00:00\n",
       "2    2000-01-15  2000-01-18 00:00:00\n",
       "3    2000-01-25  2000-01-25 00:00:00\n",
       "4    2000-01-30  2000-02-01 00:00:00\n",
       "...         ...                  ...\n",
       "1144 2021-12-06  2021-12-07 00:00:00\n",
       "1145 2021-12-11  2021-12-14 00:00:00\n",
       "1146 2021-12-21  2021-12-21 00:00:00\n",
       "1147 2021-12-26  2021-12-28 00:00:00\n",
       "1148 2021-12-31  2022-01-04 00:00:00\n",
       "\n",
       "[1149 rows x 2 columns]"
      ]
     },
     "execution_count": 8,
     "metadata": {},
     "output_type": "execute_result"
    }
   ],
   "source": [
    "matched_dates"
   ]
  },
  {
   "cell_type": "code",
   "execution_count": 9,
   "metadata": {},
   "outputs": [
    {
     "data": {
      "text/plain": [
       "array(['2000-01-04T00:00:00.000000000', '2000-01-11T00:00:00.000000000',\n",
       "       '2000-01-18T00:00:00.000000000', ...,\n",
       "       '2021-12-21T00:00:00.000000000', '2021-12-28T00:00:00.000000000',\n",
       "       '2022-01-04T00:00:00.000000000'], dtype='datetime64[ns]')"
      ]
     },
     "execution_count": 9,
     "metadata": {},
     "output_type": "execute_result"
    }
   ],
   "source": [
    "usdm.date.values[:1149]"
   ]
  },
  {
   "cell_type": "markdown",
   "metadata": {},
   "source": [
    "Okay, if we just go to 1149, then we'll be good"
   ]
  },
  {
   "cell_type": "markdown",
   "metadata": {},
   "source": [
    "And looks like the times are at the same interval, so we can just check for time equivalency then"
   ]
  },
  {
   "cell_type": "code",
   "execution_count": 10,
   "metadata": {},
   "outputs": [
    {
     "data": {
      "application/vnd.jupyter.widget-view+json": {
       "model_id": "df7b686af8914ead9010d13b650644fc",
       "version_major": 2,
       "version_minor": 0
      },
      "text/plain": [
       "  0%|          | 0/86991324 [00:00<?, ?it/s]"
      ]
     },
     "metadata": {},
     "output_type": "display_data"
    }
   ],
   "source": [
    "overlapped_nodes = dict()\n",
    "\n",
    "t = tqdm(total=(len(usdm_net.nodes)*len(pdsi_net.nodes)))\n",
    "\n",
    "for usdm_node in usdm_net.nodes:\n",
    "    usdm_coord_set = set(tuple(coord) for coord in usdm_node.coords)\n",
    "    time = usdm_node.time\n",
    "    for pdsi_node in pdsi_net.nodes:\n",
    "        if time == pdsi_node.time:\n",
    "            pdsi_coord_set = set(tuple(coord) for coord in pdsi_node.coords)\n",
    "\n",
    "            if len(usdm_coord_set.intersection(pdsi_coord_set)) > 0:\n",
    "                if time not in overlapped_nodes.keys():\n",
    "                    overlapped_nodes[time] = []\n",
    "                overlapped_nodes[time].append([usdm_node, pdsi_node])\n",
    "\n",
    "        t.update()"
   ]
  },
  {
   "cell_type": "markdown",
   "metadata": {},
   "source": [
    "Alright, what did we get?"
   ]
  },
  {
   "cell_type": "code",
   "execution_count": 11,
   "metadata": {},
   "outputs": [],
   "source": [
    "overlapped_dates = matched_dates.iloc[list(overlapped_nodes.keys())]"
   ]
  },
  {
   "cell_type": "code",
   "execution_count": 12,
   "metadata": {},
   "outputs": [
    {
     "data": {
      "text/html": [
       "<div>\n",
       "<style scoped>\n",
       "    .dataframe tbody tr th:only-of-type {\n",
       "        vertical-align: middle;\n",
       "    }\n",
       "\n",
       "    .dataframe tbody tr th {\n",
       "        vertical-align: top;\n",
       "    }\n",
       "\n",
       "    .dataframe thead th {\n",
       "        text-align: right;\n",
       "    }\n",
       "</style>\n",
       "<table border=\"1\" class=\"dataframe\">\n",
       "  <thead>\n",
       "    <tr style=\"text-align: right;\">\n",
       "      <th></th>\n",
       "      <th>PDSI</th>\n",
       "      <th>USDM Date</th>\n",
       "    </tr>\n",
       "  </thead>\n",
       "  <tbody>\n",
       "    <tr>\n",
       "      <th>58</th>\n",
       "      <td>2001-02-09</td>\n",
       "      <td>2001-02-13 00:00:00</td>\n",
       "    </tr>\n",
       "    <tr>\n",
       "      <th>59</th>\n",
       "      <td>2001-02-19</td>\n",
       "      <td>2001-02-20 00:00:00</td>\n",
       "    </tr>\n",
       "    <tr>\n",
       "      <th>60</th>\n",
       "      <td>2001-02-24</td>\n",
       "      <td>2001-02-27 00:00:00</td>\n",
       "    </tr>\n",
       "    <tr>\n",
       "      <th>61</th>\n",
       "      <td>2001-03-06</td>\n",
       "      <td>2001-03-06 00:00:00</td>\n",
       "    </tr>\n",
       "    <tr>\n",
       "      <th>62</th>\n",
       "      <td>2001-03-11</td>\n",
       "      <td>2001-03-13 00:00:00</td>\n",
       "    </tr>\n",
       "    <tr>\n",
       "      <th>...</th>\n",
       "      <td>...</td>\n",
       "      <td>...</td>\n",
       "    </tr>\n",
       "    <tr>\n",
       "      <th>1144</th>\n",
       "      <td>2021-12-06</td>\n",
       "      <td>2021-12-07 00:00:00</td>\n",
       "    </tr>\n",
       "    <tr>\n",
       "      <th>1145</th>\n",
       "      <td>2021-12-11</td>\n",
       "      <td>2021-12-14 00:00:00</td>\n",
       "    </tr>\n",
       "    <tr>\n",
       "      <th>1146</th>\n",
       "      <td>2021-12-21</td>\n",
       "      <td>2021-12-21 00:00:00</td>\n",
       "    </tr>\n",
       "    <tr>\n",
       "      <th>1147</th>\n",
       "      <td>2021-12-26</td>\n",
       "      <td>2021-12-28 00:00:00</td>\n",
       "    </tr>\n",
       "    <tr>\n",
       "      <th>1148</th>\n",
       "      <td>2021-12-31</td>\n",
       "      <td>2022-01-04 00:00:00</td>\n",
       "    </tr>\n",
       "  </tbody>\n",
       "</table>\n",
       "<p>448 rows × 2 columns</p>\n",
       "</div>"
      ],
      "text/plain": [
       "           PDSI            USDM Date\n",
       "58   2001-02-09  2001-02-13 00:00:00\n",
       "59   2001-02-19  2001-02-20 00:00:00\n",
       "60   2001-02-24  2001-02-27 00:00:00\n",
       "61   2001-03-06  2001-03-06 00:00:00\n",
       "62   2001-03-11  2001-03-13 00:00:00\n",
       "...         ...                  ...\n",
       "1144 2021-12-06  2021-12-07 00:00:00\n",
       "1145 2021-12-11  2021-12-14 00:00:00\n",
       "1146 2021-12-21  2021-12-21 00:00:00\n",
       "1147 2021-12-26  2021-12-28 00:00:00\n",
       "1148 2021-12-31  2022-01-04 00:00:00\n",
       "\n",
       "[448 rows x 2 columns]"
      ]
     },
     "execution_count": 12,
     "metadata": {},
     "output_type": "execute_result"
    }
   ],
   "source": [
    "overlapped_dates"
   ]
  },
  {
   "cell_type": "code",
   "execution_count": 13,
   "metadata": {},
   "outputs": [],
   "source": [
    "time_index = np.arange(1149)\n",
    "time_overlapped_binary = []\n",
    "for time in time_index:\n",
    "    if time in overlapped_nodes.keys():\n",
    "        time_overlapped_binary.append(1)\n",
    "    else:\n",
    "        time_overlapped_binary.append(0)"
   ]
  },
  {
   "cell_type": "code",
   "execution_count": 14,
   "metadata": {},
   "outputs": [
    {
     "data": {
      "text/plain": [
       "[<matplotlib.lines.Line2D at 0x7f7379defc10>]"
      ]
     },
     "execution_count": 14,
     "metadata": {},
     "output_type": "execute_result"
    },
    {
     "data": {
      "image/png": "[encoded data removed]",
      "text/plain": [
       "<Figure size 720x216 with 1 Axes>"
      ]
     },
     "metadata": {
      "needs_background": "light"
     },
     "output_type": "display_data"
    }
   ],
   "source": [
    "fig, ax = plt.subplots(figsize=(10,3))\n",
    "\n",
    "ax.plot(time_index, time_overlapped_binary)"
   ]
  },
  {
   "cell_type": "markdown",
   "metadata": {},
   "source": [
    "So that gives us a sense of when there is overlap."
   ]
  },
  {
   "cell_type": "markdown",
   "metadata": {},
   "source": [
    "It's interesting comparing that to the CAF plots, as some definitely align by eye, but where it looks like a drought might align in the CAF plots it doesn't always physically overlap."
   ]
  },
  {
   "cell_type": "code",
   "execution_count": 15,
   "metadata": {},
   "outputs": [],
   "source": [
    "overlap_events = []\n",
    "\n",
    "current_event = []\n",
    "for time in overlapped_nodes.keys():\n",
    "    if len(current_event) == 0:\n",
    "        current_event.append(time)\n",
    "    elif current_event[-1] == time - 1:\n",
    "        current_event.append(time)\n",
    "    else:\n",
    "        overlap_events.append(current_event)\n",
    "        current_event = []\n",
    "\n",
    "if len(current_event) != 0 and overlap_events[-1] != current_event:\n",
    "    overlap_events.append(current_event)"
   ]
  },
  {
   "cell_type": "code",
   "execution_count": 16,
   "metadata": {},
   "outputs": [
    {
     "data": {
      "text/plain": [
       "16"
      ]
     },
     "execution_count": 16,
     "metadata": {},
     "output_type": "execute_result"
    }
   ],
   "source": [
    "len(overlap_events)"
   ]
  },
  {
   "cell_type": "markdown",
   "metadata": {},
   "source": [
    "Cool, that matches the number of events I can identify by eye in the above plot"
   ]
  },
  {
   "cell_type": "markdown",
   "metadata": {},
   "source": [
    "So there are 2 ways I can think that this might be interesting:\n",
    "- animation overlay of drought events\n",
    "- creating edges that merge the two graphs at these connection points"
   ]
  },
  {
   "cell_type": "code",
   "execution_count": 17,
   "metadata": {},
   "outputs": [],
   "source": [
    "event = overlap_events[0]"
   ]
  },
  {
   "cell_type": "code",
   "execution_count": 18,
   "metadata": {},
   "outputs": [],
   "source": [
    "usdm_overlap_nodes = []\n",
    "pdsi_overlap_nodes = []\n",
    "\n",
    "for nodes in overlapped_nodes[58]:\n",
    "    usdm_node, pdsi_node = nodes\n",
    "    if usdm_node not in usdm_overlap_nodes:\n",
    "        usdm_overlap_nodes.append(usdm_node)\n",
    "    if pdsi_node not in pdsi_overlap_nodes:\n",
    "        pdsi_overlap_nodes.append(pdsi_node)"
   ]
  },
  {
   "cell_type": "code",
   "execution_count": 19,
   "metadata": {},
   "outputs": [
    {
     "data": {
      "text/plain": [
       "[time: 58, id: 3, time: 58, id: 4, time: 58, id: 5]"
      ]
     },
     "execution_count": 19,
     "metadata": {},
     "output_type": "execute_result"
    }
   ],
   "source": [
    "usdm_overlap_nodes"
   ]
  },
  {
   "cell_type": "code",
   "execution_count": 20,
   "metadata": {},
   "outputs": [
    {
     "data": {
      "text/plain": [
       "[time: 58, id: 533,\n",
       " time: 58, id: 543,\n",
       " time: 58, id: 545,\n",
       " time: 58, id: 546,\n",
       " time: 58, id: 549,\n",
       " time: 58, id: 555,\n",
       " time: 58, id: 556,\n",
       " time: 58, id: 559,\n",
       " time: 58, id: 560,\n",
       " time: 58, id: 562,\n",
       " time: 58, id: 564,\n",
       " time: 58, id: 565,\n",
       " time: 58, id: 566,\n",
       " time: 58, id: 567,\n",
       " time: 58, id: 568,\n",
       " time: 58, id: 569,\n",
       " time: 58, id: 570,\n",
       " time: 58, id: 571,\n",
       " time: 58, id: 572,\n",
       " time: 58, id: 573,\n",
       " time: 58, id: 574,\n",
       " time: 58, id: 575,\n",
       " time: 58, id: 576,\n",
       " time: 58, id: 577,\n",
       " time: 58, id: 578,\n",
       " time: 58, id: 542,\n",
       " time: 58, id: 552]"
      ]
     },
     "execution_count": 20,
     "metadata": {},
     "output_type": "execute_result"
    }
   ],
   "source": [
    "pdsi_overlap_nodes"
   ]
  },
  {
   "cell_type": "code",
   "execution_count": 21,
   "metadata": {},
   "outputs": [],
   "source": [
    "usdm_event_adj_dicts = []\n",
    "pdsi_event_adj_dicts = []\n",
    "\n",
    "for event in overlap_events:\n",
    "    usdm_overlap_ids = []\n",
    "    pdsi_overlap_ids = []\n",
    "    for time in event:\n",
    "        for usdm_node, pdsi_node in overlapped_nodes[time]:\n",
    "            usdm_id = usdm_node.id\n",
    "            pdsi_id = pdsi_node.id\n",
    "            if usdm_id not in usdm_overlap_ids:\n",
    "                usdm_overlap_ids.append(usdm_id)\n",
    "            if pdsi_id not in pdsi_overlap_ids:\n",
    "                pdsi_overlap_ids.append(pdsi_id)\n",
    "    usdm_event_adj_dicts.append(usdm_net.filter_adj_dict_by_id(usdm_overlap_ids))\n",
    "    pdsi_event_adj_dicts.append(pdsi_net.filter_adj_dict_by_id(pdsi_overlap_ids))"
   ]
  },
  {
   "cell_type": "markdown",
   "metadata": {},
   "source": [
    "ani_folder = '/pool0/home/steinadi/data/drought/drought_impact/animations/usdm_pdsi_overlap'\n",
    "\n",
    "t = tqdm(total=len(overlap_events)*2)\n",
    "\n",
    "for i, (usdm_adj_dict, pdsi_adj_dict) in enumerate(zip(usdm_event_adj_dicts, pdsi_event_adj_dicts)):\n",
    "\n",
    "    times = np.array(overlap_events[i])\n",
    "\n",
    "    usdm_net.create_animated_gif(out_path=f'{ani_folder}/usdm_{i}.gif', adj_dict=usdm_adj_dict, times=times)\n",
    "    t.update()\n",
    "\n",
    "    pdsi_net.create_animated_gif(out_path=f'{ani_folder}/pdsi_{i}.gif', adj_dict=pdsi_adj_dict, times=times)\n",
    "    t.update()"
   ]
  },
  {
   "cell_type": "markdown",
   "metadata": {},
   "source": [
    "ani_folder = '/pool0/home/steinadi/data/drought/drought_impact/animations/usdm_pdsi_overlap'\n",
    "\n",
    "t = tqdm(total=len(overlap_events)*2)\n",
    "\n",
    "for i, (usdm_adj_dict, pdsi_adj_dict) in enumerate(zip(usdm_event_adj_dicts, pdsi_event_adj_dicts)):\n",
    "\n",
    "    times = np.array(overlap_events[i])\n",
    "\n",
    "    usdm_net.create_animated_gif(out_path=f'{ani_folder}/nb_usdm_{i}.gif', adj_dict=usdm_adj_dict, times=times, nonbinary_data=usdm['USDM'].values[overlap_events[i], :, :])\n",
    "    t.update()\n",
    "\n",
    "    pdsi_net.create_animated_gif(out_path=f'{ani_folder}/nb_pdsi_{i}.gif', adj_dict=pdsi_adj_dict, times=times, nonbinary_data=pdsi['pdsi'].values[overlap_events[i], :, :])\n",
    "    t.update()"
   ]
  },
  {
   "cell_type": "markdown",
   "metadata": {},
   "source": [
    "Okay, that yielded some interesting things. Let's put this into a function"
   ]
  },
  {
   "cell_type": "code",
   "execution_count": null,
   "metadata": {},
   "outputs": [],
   "source": []
  }
 ],
 "metadata": {
  "kernelspec": {
   "display_name": "Python 3.10.5 ('sedi')",
   "language": "python",
   "name": "python3"
  },
  "language_info": {
   "codemirror_mode": {
    "name": "ipython",
    "version": 3
   },
   "file_extension": ".py",
   "mimetype": "text/x-python",
   "name": "python",
   "nbconvert_exporter": "python",
   "pygments_lexer": "ipython3",
   "version": "3.10.5"
  },
  "orig_nbformat": 4,
  "vscode": {
   "interpreter": {
    "hash": "5585d616cc037afe4e5997f9d5ad9938ec3148b25e01a6d2931d801949bec716"
   }
  }
 },
 "nbformat": 4,
 "nbformat_minor": 2
}
