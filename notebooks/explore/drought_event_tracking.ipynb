{
 "cells": [
  {
   "cell_type": "markdown",
   "metadata": {},
   "source": [
    "# Drought Event Tracking\n",
    "\n",
    "a. stein 7.8.2022\n",
    "\n",
    "A useful piece of information would be how big different droughts get because each pixel is impacted by its neighbor. Through blob tracking, I might be able to detect different drought events and their areas over time as they come and go."
   ]
  },
  {
   "cell_type": "code",
   "execution_count": 1,
   "metadata": {},
   "outputs": [
    {
     "name": "stdout",
     "output_type": "stream",
     "text": [
      "Populating the interactive namespace from numpy and matplotlib\n"
     ]
    },
    {
     "name": "stderr",
     "output_type": "stream",
     "text": [
      "/pool0/data/steinadi/.conda/envs/sedi/lib/python3.7/site-packages/ipykernel_launcher.py:14: TqdmExperimentalWarning: Using `tqdm.autonotebook.tqdm` in notebook mode. Use `tqdm.tqdm` instead to force console mode (e.g. in jupyter console)\n",
      "  \n"
     ]
    }
   ],
   "source": [
    "%pylab inline\n",
    "%load_ext autoreload\n",
    "%autoreload 2\n",
    "%reload_ext autoreload\n",
    "\n",
    "import xarray as xr\n",
    "import rioxarray\n",
    "import rasterio as rio\n",
    "import pandas as pd\n",
    "import geopandas as gpd\n",
    "\n",
    "import matplotlib.dates as mdates\n",
    "\n",
    "from tqdm.autonotebook import tqdm\n",
    "\n",
    "import sys\n",
    "sys.path.append('../../')\n",
    "import ndrought.wrangle as wrangle\n",
    "import ndrought.compare as compare\n",
    "import ndrought.plotting as ndplot"
   ]
  },
  {
   "cell_type": "markdown",
   "metadata": {},
   "source": [
    "Load in data"
   ]
  },
  {
   "cell_type": "code",
   "execution_count": 4,
   "metadata": {},
   "outputs": [],
   "source": [
    "dm_path = '/pool0/home/steinadi/data/drought/drought_impact/data/drought_measures'\n",
    "\n",
    "spi_intervals = ['14d', '30d', '90d', '180d', '270d', '1y', '2y', '5y', ]\n",
    "cats = ['neutral_wet', 'D0', 'D1', 'D2', 'D3', 'D4']\n",
    "\n",
    "dm_vars = ['USDM']\n",
    "dm_vars.extend([f'spi_{interval}' for interval in spi_intervals])\n",
    "\n",
    "paired_ds = xr.open_dataset(f'{dm_path}/ndrought_products/paired_USDM_SPI.nc')"
   ]
  },
  {
   "cell_type": "code",
   "execution_count": 5,
   "metadata": {},
   "outputs": [
    {
     "data": {
      "text/html": [
       "<div><svg style=\"position: absolute; width: 0; height: 0; overflow: hidden\">\n",
       "<defs>\n",
       "<symbol id=\"icon-database\" viewBox=\"0 0 32 32\">\n",
       "<path d=\"M16 0c-8.837 0-16 2.239-16 5v4c0 2.761 7.163 5 16 5s16-2.239 16-5v-4c0-2.761-7.163-5-16-5z\"></path>\n",
       "<path d=\"M16 17c-8.837 0-16-2.239-16-5v6c0 2.761 7.163 5 16 5s16-2.239 16-5v-6c0 2.761-7.163 5-16 5z\"></path>\n",
       "<path d=\"M16 26c-8.837 0-16-2.239-16-5v6c0 2.761 7.163 5 16 5s16-2.239 16-5v-6c0 2.761-7.163 5-16 5z\"></path>\n",
       "</symbol>\n",
       "<symbol id=\"icon-file-text2\" viewBox=\"0 0 32 32\">\n",
       "<path d=\"M28.681 7.159c-0.694-0.947-1.662-2.053-2.724-3.116s-2.169-2.030-3.116-2.724c-1.612-1.182-2.393-1.319-2.841-1.319h-15.5c-1.378 0-2.5 1.121-2.5 2.5v27c0 1.378 1.122 2.5 2.5 2.5h23c1.378 0 2.5-1.122 2.5-2.5v-19.5c0-0.448-0.137-1.23-1.319-2.841zM24.543 5.457c0.959 0.959 1.712 1.825 2.268 2.543h-4.811v-4.811c0.718 0.556 1.584 1.309 2.543 2.268zM28 29.5c0 0.271-0.229 0.5-0.5 0.5h-23c-0.271 0-0.5-0.229-0.5-0.5v-27c0-0.271 0.229-0.5 0.5-0.5 0 0 15.499-0 15.5 0v7c0 0.552 0.448 1 1 1h7v19.5z\"></path>\n",
       "<path d=\"M23 26h-14c-0.552 0-1-0.448-1-1s0.448-1 1-1h14c0.552 0 1 0.448 1 1s-0.448 1-1 1z\"></path>\n",
       "<path d=\"M23 22h-14c-0.552 0-1-0.448-1-1s0.448-1 1-1h14c0.552 0 1 0.448 1 1s-0.448 1-1 1z\"></path>\n",
       "<path d=\"M23 18h-14c-0.552 0-1-0.448-1-1s0.448-1 1-1h14c0.552 0 1 0.448 1 1s-0.448 1-1 1z\"></path>\n",
       "</symbol>\n",
       "</defs>\n",
       "</svg>\n",
       "<style>/* CSS stylesheet for displaying xarray objects in jupyterlab.\n",
       " *\n",
       " */\n",
       "\n",
       ":root {\n",
       "  --xr-font-color0: var(--jp-content-font-color0, rgba(0, 0, 0, 1));\n",
       "  --xr-font-color2: var(--jp-content-font-color2, rgba(0, 0, 0, 0.54));\n",
       "  --xr-font-color3: var(--jp-content-font-color3, rgba(0, 0, 0, 0.38));\n",
       "  --xr-border-color: var(--jp-border-color2, #e0e0e0);\n",
       "  --xr-disabled-color: var(--jp-layout-color3, #bdbdbd);\n",
       "  --xr-background-color: var(--jp-layout-color0, white);\n",
       "  --xr-background-color-row-even: var(--jp-layout-color1, white);\n",
       "  --xr-background-color-row-odd: var(--jp-layout-color2, #eeeeee);\n",
       "}\n",
       "\n",
       "html[theme=dark],\n",
       "body.vscode-dark {\n",
       "  --xr-font-color0: rgba(255, 255, 255, 1);\n",
       "  --xr-font-color2: rgba(255, 255, 255, 0.54);\n",
       "  --xr-font-color3: rgba(255, 255, 255, 0.38);\n",
       "  --xr-border-color: #1F1F1F;\n",
       "  --xr-disabled-color: #515151;\n",
       "  --xr-background-color: #111111;\n",
       "  --xr-background-color-row-even: #111111;\n",
       "  --xr-background-color-row-odd: #313131;\n",
       "}\n",
       "\n",
       ".xr-wrap {\n",
       "  display: block !important;\n",
       "  min-width: 300px;\n",
       "  max-width: 700px;\n",
       "}\n",
       "\n",
       ".xr-text-repr-fallback {\n",
       "  /* fallback to plain text repr when CSS is not injected (untrusted notebook) */\n",
       "  display: none;\n",
       "}\n",
       "\n",
       ".xr-header {\n",
       "  padding-top: 6px;\n",
       "  padding-bottom: 6px;\n",
       "  margin-bottom: 4px;\n",
       "  border-bottom: solid 1px var(--xr-border-color);\n",
       "}\n",
       "\n",
       ".xr-header > div,\n",
       ".xr-header > ul {\n",
       "  display: inline;\n",
       "  margin-top: 0;\n",
       "  margin-bottom: 0;\n",
       "}\n",
       "\n",
       ".xr-obj-type,\n",
       ".xr-array-name {\n",
       "  margin-left: 2px;\n",
       "  margin-right: 10px;\n",
       "}\n",
       "\n",
       ".xr-obj-type {\n",
       "  color: var(--xr-font-color2);\n",
       "}\n",
       "\n",
       ".xr-sections {\n",
       "  padding-left: 0 !important;\n",
       "  display: grid;\n",
       "  grid-template-columns: 150px auto auto 1fr 20px 20px;\n",
       "}\n",
       "\n",
       ".xr-section-item {\n",
       "  display: contents;\n",
       "}\n",
       "\n",
       ".xr-section-item input {\n",
       "  display: none;\n",
       "}\n",
       "\n",
       ".xr-section-item input + label {\n",
       "  color: var(--xr-disabled-color);\n",
       "}\n",
       "\n",
       ".xr-section-item input:enabled + label {\n",
       "  cursor: pointer;\n",
       "  color: var(--xr-font-color2);\n",
       "}\n",
       "\n",
       ".xr-section-item input:enabled + label:hover {\n",
       "  color: var(--xr-font-color0);\n",
       "}\n",
       "\n",
       ".xr-section-summary {\n",
       "  grid-column: 1;\n",
       "  color: var(--xr-font-color2);\n",
       "  font-weight: 500;\n",
       "}\n",
       "\n",
       ".xr-section-summary > span {\n",
       "  display: inline-block;\n",
       "  padding-left: 0.5em;\n",
       "}\n",
       "\n",
       ".xr-section-summary-in:disabled + label {\n",
       "  color: var(--xr-font-color2);\n",
       "}\n",
       "\n",
       ".xr-section-summary-in + label:before {\n",
       "  display: inline-block;\n",
       "  content: '►';\n",
       "  font-size: 11px;\n",
       "  width: 15px;\n",
       "  text-align: center;\n",
       "}\n",
       "\n",
       ".xr-section-summary-in:disabled + label:before {\n",
       "  color: var(--xr-disabled-color);\n",
       "}\n",
       "\n",
       ".xr-section-summary-in:checked + label:before {\n",
       "  content: '▼';\n",
       "}\n",
       "\n",
       ".xr-section-summary-in:checked + label > span {\n",
       "  display: none;\n",
       "}\n",
       "\n",
       ".xr-section-summary,\n",
       ".xr-section-inline-details {\n",
       "  padding-top: 4px;\n",
       "  padding-bottom: 4px;\n",
       "}\n",
       "\n",
       ".xr-section-inline-details {\n",
       "  grid-column: 2 / -1;\n",
       "}\n",
       "\n",
       ".xr-section-details {\n",
       "  display: none;\n",
       "  grid-column: 1 / -1;\n",
       "  margin-bottom: 5px;\n",
       "}\n",
       "\n",
       ".xr-section-summary-in:checked ~ .xr-section-details {\n",
       "  display: contents;\n",
       "}\n",
       "\n",
       ".xr-array-wrap {\n",
       "  grid-column: 1 / -1;\n",
       "  display: grid;\n",
       "  grid-template-columns: 20px auto;\n",
       "}\n",
       "\n",
       ".xr-array-wrap > label {\n",
       "  grid-column: 1;\n",
       "  vertical-align: top;\n",
       "}\n",
       "\n",
       ".xr-preview {\n",
       "  color: var(--xr-font-color3);\n",
       "}\n",
       "\n",
       ".xr-array-preview,\n",
       ".xr-array-data {\n",
       "  padding: 0 5px !important;\n",
       "  grid-column: 2;\n",
       "}\n",
       "\n",
       ".xr-array-data,\n",
       ".xr-array-in:checked ~ .xr-array-preview {\n",
       "  display: none;\n",
       "}\n",
       "\n",
       ".xr-array-in:checked ~ .xr-array-data,\n",
       ".xr-array-preview {\n",
       "  display: inline-block;\n",
       "}\n",
       "\n",
       ".xr-dim-list {\n",
       "  display: inline-block !important;\n",
       "  list-style: none;\n",
       "  padding: 0 !important;\n",
       "  margin: 0;\n",
       "}\n",
       "\n",
       ".xr-dim-list li {\n",
       "  display: inline-block;\n",
       "  padding: 0;\n",
       "  margin: 0;\n",
       "}\n",
       "\n",
       ".xr-dim-list:before {\n",
       "  content: '(';\n",
       "}\n",
       "\n",
       ".xr-dim-list:after {\n",
       "  content: ')';\n",
       "}\n",
       "\n",
       ".xr-dim-list li:not(:last-child):after {\n",
       "  content: ',';\n",
       "  padding-right: 5px;\n",
       "}\n",
       "\n",
       ".xr-has-index {\n",
       "  font-weight: bold;\n",
       "}\n",
       "\n",
       ".xr-var-list,\n",
       ".xr-var-item {\n",
       "  display: contents;\n",
       "}\n",
       "\n",
       ".xr-var-item > div,\n",
       ".xr-var-item label,\n",
       ".xr-var-item > .xr-var-name span {\n",
       "  background-color: var(--xr-background-color-row-even);\n",
       "  margin-bottom: 0;\n",
       "}\n",
       "\n",
       ".xr-var-item > .xr-var-name:hover span {\n",
       "  padding-right: 5px;\n",
       "}\n",
       "\n",
       ".xr-var-list > li:nth-child(odd) > div,\n",
       ".xr-var-list > li:nth-child(odd) > label,\n",
       ".xr-var-list > li:nth-child(odd) > .xr-var-name span {\n",
       "  background-color: var(--xr-background-color-row-odd);\n",
       "}\n",
       "\n",
       ".xr-var-name {\n",
       "  grid-column: 1;\n",
       "}\n",
       "\n",
       ".xr-var-dims {\n",
       "  grid-column: 2;\n",
       "}\n",
       "\n",
       ".xr-var-dtype {\n",
       "  grid-column: 3;\n",
       "  text-align: right;\n",
       "  color: var(--xr-font-color2);\n",
       "}\n",
       "\n",
       ".xr-var-preview {\n",
       "  grid-column: 4;\n",
       "}\n",
       "\n",
       ".xr-var-name,\n",
       ".xr-var-dims,\n",
       ".xr-var-dtype,\n",
       ".xr-preview,\n",
       ".xr-attrs dt {\n",
       "  white-space: nowrap;\n",
       "  overflow: hidden;\n",
       "  text-overflow: ellipsis;\n",
       "  padding-right: 10px;\n",
       "}\n",
       "\n",
       ".xr-var-name:hover,\n",
       ".xr-var-dims:hover,\n",
       ".xr-var-dtype:hover,\n",
       ".xr-attrs dt:hover {\n",
       "  overflow: visible;\n",
       "  width: auto;\n",
       "  z-index: 1;\n",
       "}\n",
       "\n",
       ".xr-var-attrs,\n",
       ".xr-var-data {\n",
       "  display: none;\n",
       "  background-color: var(--xr-background-color) !important;\n",
       "  padding-bottom: 5px !important;\n",
       "}\n",
       "\n",
       ".xr-var-attrs-in:checked ~ .xr-var-attrs,\n",
       ".xr-var-data-in:checked ~ .xr-var-data {\n",
       "  display: block;\n",
       "}\n",
       "\n",
       ".xr-var-data > table {\n",
       "  float: right;\n",
       "}\n",
       "\n",
       ".xr-var-name span,\n",
       ".xr-var-data,\n",
       ".xr-attrs {\n",
       "  padding-left: 25px !important;\n",
       "}\n",
       "\n",
       ".xr-attrs,\n",
       ".xr-var-attrs,\n",
       ".xr-var-data {\n",
       "  grid-column: 1 / -1;\n",
       "}\n",
       "\n",
       "dl.xr-attrs {\n",
       "  padding: 0;\n",
       "  margin: 0;\n",
       "  display: grid;\n",
       "  grid-template-columns: 125px auto;\n",
       "}\n",
       "\n",
       ".xr-attrs dt,\n",
       ".xr-attrs dd {\n",
       "  padding: 0;\n",
       "  margin: 0;\n",
       "  float: left;\n",
       "  padding-right: 10px;\n",
       "  width: auto;\n",
       "}\n",
       "\n",
       ".xr-attrs dt {\n",
       "  font-weight: normal;\n",
       "  grid-column: 1;\n",
       "}\n",
       "\n",
       ".xr-attrs dt:hover span {\n",
       "  display: inline-block;\n",
       "  background: var(--xr-background-color);\n",
       "  padding-right: 10px;\n",
       "}\n",
       "\n",
       ".xr-attrs dd {\n",
       "  grid-column: 2;\n",
       "  white-space: pre-wrap;\n",
       "  word-break: break-all;\n",
       "}\n",
       "\n",
       ".xr-icon-database,\n",
       ".xr-icon-file-text2 {\n",
       "  display: inline-block;\n",
       "  vertical-align: middle;\n",
       "  width: 1em;\n",
       "  height: 1.5em !important;\n",
       "  stroke-width: 0;\n",
       "  stroke: currentColor;\n",
       "  fill: currentColor;\n",
       "}\n",
       "</style><pre class='xr-text-repr-fallback'>&lt;xarray.Dataset&gt;\n",
       "Dimensions:      (lat: 84, lon: 188, index: 1148)\n",
       "Coordinates:\n",
       "  * lat          (lat) float64 48.98 48.94 48.9 48.86 ... 45.61 45.57 45.53\n",
       "  * lon          (lon) float64 -124.7 -124.7 -124.6 ... -117.0 -117.0 -116.9\n",
       "  * index        (index) int64 0 1 2 3 4 5 6 ... 1142 1143 1144 1145 1146 1147\n",
       "Data variables:\n",
       "    spatial_ref  int64 0\n",
       "    USDM         (index, lat, lon) float64 ...\n",
       "    USDM Date    (index) datetime64[ns] 2000-01-04 2000-01-11 ... 2021-12-28\n",
       "    spi_1y       (index, lat, lon) float32 ...\n",
       "    spi_2y       (index, lat, lon) float32 ...\n",
       "    spi_5y       (index, lat, lon) float32 ...\n",
       "    spi_14d      (index, lat, lon) float32 ...\n",
       "    spi_30d      (index, lat, lon) float32 ...\n",
       "    spi_90d      (index, lat, lon) float32 ...\n",
       "    spi_180d     (index, lat, lon) float32 ...\n",
       "    spi_270d     (index, lat, lon) float32 ...\n",
       "    SPI Date     (index) datetime64[ns] 1999-12-31 2000-01-10 ... 2021-12-26\n",
       "Attributes:\n",
       "    author:       a. stein 6/8/2022\n",
       "    description:  USDM and SPI matched to USDM data cutoff dates, as describe...\n",
       "    USDM Date:    this contains the original dates for USDM\n",
       "    SPI Date:     this contains the original dates for SPI</pre><div class='xr-wrap' style='display:none'><div class='xr-header'><div class='xr-obj-type'>xarray.Dataset</div></div><ul class='xr-sections'><li class='xr-section-item'><input id='section-2593f80b-d449-40ec-94d8-23a3327759c6' class='xr-section-summary-in' type='checkbox' disabled ><label for='section-2593f80b-d449-40ec-94d8-23a3327759c6' class='xr-section-summary'  title='Expand/collapse section'>Dimensions:</label><div class='xr-section-inline-details'><ul class='xr-dim-list'><li><span class='xr-has-index'>lat</span>: 84</li><li><span class='xr-has-index'>lon</span>: 188</li><li><span class='xr-has-index'>index</span>: 1148</li></ul></div><div class='xr-section-details'></div></li><li class='xr-section-item'><input id='section-83f01e85-6f0a-409c-8900-22765d6c612f' class='xr-section-summary-in' type='checkbox'  checked><label for='section-83f01e85-6f0a-409c-8900-22765d6c612f' class='xr-section-summary' >Coordinates: <span>(3)</span></label><div class='xr-section-inline-details'></div><div class='xr-section-details'><ul class='xr-var-list'><li class='xr-var-item'><div class='xr-var-name'><span class='xr-has-index'>lat</span></div><div class='xr-var-dims'>(lat)</div><div class='xr-var-dtype'>float64</div><div class='xr-var-preview xr-preview'>48.98 48.94 48.9 ... 45.57 45.53</div><input id='attrs-e67917ff-1c40-49ce-8a8e-f82eb47bfec7' class='xr-var-attrs-in' type='checkbox' disabled><label for='attrs-e67917ff-1c40-49ce-8a8e-f82eb47bfec7' title='Show/Hide attributes'><svg class='icon xr-icon-file-text2'><use xlink:href='#icon-file-text2'></use></svg></label><input id='data-0239aa71-1cac-4b85-9753-fa3f7d59ef9f' class='xr-var-data-in' type='checkbox'><label for='data-0239aa71-1cac-4b85-9753-fa3f7d59ef9f' title='Show/Hide data repr'><svg class='icon xr-icon-database'><use xlink:href='#icon-database'></use></svg></label><div class='xr-var-attrs'><dl class='xr-attrs'></dl></div><div class='xr-var-data'><pre>array([48.983333, 48.941667, 48.9     , 48.858333, 48.816667, 48.775   ,\n",
       "       48.733333, 48.691667, 48.65    , 48.608333, 48.566667, 48.525   ,\n",
       "       48.483333, 48.441667, 48.4     , 48.358333, 48.316667, 48.275   ,\n",
       "       48.233333, 48.191667, 48.15    , 48.108333, 48.066667, 48.025   ,\n",
       "       47.983333, 47.941667, 47.9     , 47.858333, 47.816667, 47.775   ,\n",
       "       47.733333, 47.691667, 47.65    , 47.608333, 47.566667, 47.525   ,\n",
       "       47.483333, 47.441667, 47.4     , 47.358333, 47.316667, 47.275   ,\n",
       "       47.233333, 47.191667, 47.15    , 47.108333, 47.066667, 47.025   ,\n",
       "       46.983333, 46.941667, 46.9     , 46.858333, 46.816667, 46.775   ,\n",
       "       46.733333, 46.691667, 46.65    , 46.608333, 46.566667, 46.525   ,\n",
       "       46.483333, 46.441667, 46.4     , 46.358333, 46.316667, 46.275   ,\n",
       "       46.233333, 46.191667, 46.15    , 46.108333, 46.066667, 46.025   ,\n",
       "       45.983333, 45.941667, 45.9     , 45.858333, 45.816667, 45.775   ,\n",
       "       45.733333, 45.691667, 45.65    , 45.608333, 45.566667, 45.525   ])</pre></div></li><li class='xr-var-item'><div class='xr-var-name'><span class='xr-has-index'>lon</span></div><div class='xr-var-dims'>(lon)</div><div class='xr-var-dtype'>float64</div><div class='xr-var-preview xr-preview'>-124.7 -124.7 ... -117.0 -116.9</div><input id='attrs-9f89ad54-ee42-4736-acec-3c4eda882599' class='xr-var-attrs-in' type='checkbox' disabled><label for='attrs-9f89ad54-ee42-4736-acec-3c4eda882599' title='Show/Hide attributes'><svg class='icon xr-icon-file-text2'><use xlink:href='#icon-file-text2'></use></svg></label><input id='data-fcba174a-31cf-4094-a994-3cd1bbe603ce' class='xr-var-data-in' type='checkbox'><label for='data-fcba174a-31cf-4094-a994-3cd1bbe603ce' title='Show/Hide data repr'><svg class='icon xr-icon-database'><use xlink:href='#icon-database'></use></svg></label><div class='xr-var-attrs'><dl class='xr-attrs'></dl></div><div class='xr-var-data'><pre>array([-124.725   , -124.683333, -124.641667, -124.6     , -124.558333,\n",
       "       -124.516667, -124.475   , -124.433333, -124.391667, -124.35    ,\n",
       "       -124.308333, -124.266667, -124.225   , -124.183333, -124.141667,\n",
       "       -124.1     , -124.058333, -124.016667, -123.975   , -123.933333,\n",
       "       -123.891667, -123.85    , -123.808333, -123.766667, -123.725   ,\n",
       "       -123.683333, -123.641667, -123.6     , -123.558333, -123.516667,\n",
       "       -123.475   , -123.433333, -123.391667, -123.35    , -123.308333,\n",
       "       -123.266667, -123.225   , -123.183333, -123.141667, -123.1     ,\n",
       "       -123.058333, -123.016667, -122.975   , -122.933333, -122.891667,\n",
       "       -122.85    , -122.808333, -122.766667, -122.725   , -122.683333,\n",
       "       -122.641667, -122.6     , -122.558333, -122.516667, -122.475   ,\n",
       "       -122.433333, -122.391667, -122.35    , -122.308333, -122.266667,\n",
       "       -122.225   , -122.183333, -122.141667, -122.1     , -122.058333,\n",
       "       -122.016667, -121.975   , -121.933333, -121.891667, -121.85    ,\n",
       "       -121.808333, -121.766667, -121.725   , -121.683333, -121.641667,\n",
       "       -121.6     , -121.558333, -121.516667, -121.475   , -121.433333,\n",
       "       -121.391667, -121.35    , -121.308333, -121.266667, -121.225   ,\n",
       "       -121.183333, -121.141667, -121.1     , -121.058333, -121.016667,\n",
       "       -120.975   , -120.933333, -120.891667, -120.85    , -120.808333,\n",
       "       -120.766667, -120.725   , -120.683333, -120.641667, -120.6     ,\n",
       "       -120.558333, -120.516667, -120.475   , -120.433333, -120.391667,\n",
       "       -120.35    , -120.308333, -120.266667, -120.225   , -120.183333,\n",
       "       -120.141667, -120.1     , -120.058333, -120.016667, -119.975   ,\n",
       "       -119.933333, -119.891667, -119.85    , -119.808333, -119.766667,\n",
       "       -119.725   , -119.683333, -119.641667, -119.6     , -119.558333,\n",
       "       -119.516667, -119.475   , -119.433333, -119.391667, -119.35    ,\n",
       "       -119.308333, -119.266667, -119.225   , -119.183333, -119.141667,\n",
       "       -119.1     , -119.058333, -119.016667, -118.975   , -118.933333,\n",
       "       -118.891667, -118.85    , -118.808333, -118.766667, -118.725   ,\n",
       "       -118.683333, -118.641667, -118.6     , -118.558333, -118.516667,\n",
       "       -118.475   , -118.433333, -118.391667, -118.35    , -118.308333,\n",
       "       -118.266667, -118.225   , -118.183333, -118.141667, -118.1     ,\n",
       "       -118.058333, -118.016667, -117.975   , -117.933333, -117.891667,\n",
       "       -117.85    , -117.808333, -117.766667, -117.725   , -117.683333,\n",
       "       -117.641667, -117.6     , -117.558333, -117.516667, -117.475   ,\n",
       "       -117.433333, -117.391667, -117.35    , -117.308333, -117.266667,\n",
       "       -117.225   , -117.183333, -117.141667, -117.1     , -117.058333,\n",
       "       -117.016667, -116.975   , -116.933333])</pre></div></li><li class='xr-var-item'><div class='xr-var-name'><span class='xr-has-index'>index</span></div><div class='xr-var-dims'>(index)</div><div class='xr-var-dtype'>int64</div><div class='xr-var-preview xr-preview'>0 1 2 3 4 ... 1144 1145 1146 1147</div><input id='attrs-f965ae66-186a-49ed-a700-180a49a1ec85' class='xr-var-attrs-in' type='checkbox' disabled><label for='attrs-f965ae66-186a-49ed-a700-180a49a1ec85' title='Show/Hide attributes'><svg class='icon xr-icon-file-text2'><use xlink:href='#icon-file-text2'></use></svg></label><input id='data-e4b9647d-61d3-464b-a083-1a88f5d6ca00' class='xr-var-data-in' type='checkbox'><label for='data-e4b9647d-61d3-464b-a083-1a88f5d6ca00' title='Show/Hide data repr'><svg class='icon xr-icon-database'><use xlink:href='#icon-database'></use></svg></label><div class='xr-var-attrs'><dl class='xr-attrs'></dl></div><div class='xr-var-data'><pre>array([   0,    1,    2, ..., 1145, 1146, 1147])</pre></div></li></ul></div></li><li class='xr-section-item'><input id='section-b8244868-cb96-439a-8251-40e6255a6268' class='xr-section-summary-in' type='checkbox'  checked><label for='section-b8244868-cb96-439a-8251-40e6255a6268' class='xr-section-summary' >Data variables: <span>(12)</span></label><div class='xr-section-inline-details'></div><div class='xr-section-details'><ul class='xr-var-list'><li class='xr-var-item'><div class='xr-var-name'><span>spatial_ref</span></div><div class='xr-var-dims'>()</div><div class='xr-var-dtype'>int64</div><div class='xr-var-preview xr-preview'>...</div><input id='attrs-a9e40648-d5fd-4b7a-999f-ef72672ef029' class='xr-var-attrs-in' type='checkbox' ><label for='attrs-a9e40648-d5fd-4b7a-999f-ef72672ef029' title='Show/Hide attributes'><svg class='icon xr-icon-file-text2'><use xlink:href='#icon-file-text2'></use></svg></label><input id='data-8be60e35-b689-4c86-ae2d-4d89495bae43' class='xr-var-data-in' type='checkbox'><label for='data-8be60e35-b689-4c86-ae2d-4d89495bae43' title='Show/Hide data repr'><svg class='icon xr-icon-database'><use xlink:href='#icon-database'></use></svg></label><div class='xr-var-attrs'><dl class='xr-attrs'><dt><span>crs_wkt :</span></dt><dd>GEOGCS[&quot;WGS 84&quot;,DATUM[&quot;WGS_1984&quot;,SPHEROID[&quot;WGS 84&quot;,6378137,298.257223563,AUTHORITY[&quot;EPSG&quot;,&quot;7030&quot;]],AUTHORITY[&quot;EPSG&quot;,&quot;6326&quot;]],PRIMEM[&quot;Greenwich&quot;,0,AUTHORITY[&quot;EPSG&quot;,&quot;8901&quot;]],UNIT[&quot;degree&quot;,0.0174532925199433,AUTHORITY[&quot;EPSG&quot;,&quot;9122&quot;]],AXIS[&quot;Latitude&quot;,NORTH],AXIS[&quot;Longitude&quot;,EAST],AUTHORITY[&quot;EPSG&quot;,&quot;4326&quot;]]</dd><dt><span>semi_major_axis :</span></dt><dd>6378137.0</dd><dt><span>semi_minor_axis :</span></dt><dd>6356752.314245179</dd><dt><span>inverse_flattening :</span></dt><dd>298.257223563</dd><dt><span>reference_ellipsoid_name :</span></dt><dd>WGS 84</dd><dt><span>longitude_of_prime_meridian :</span></dt><dd>0.0</dd><dt><span>prime_meridian_name :</span></dt><dd>Greenwich</dd><dt><span>geographic_crs_name :</span></dt><dd>WGS 84</dd><dt><span>grid_mapping_name :</span></dt><dd>latitude_longitude</dd><dt><span>spatial_ref :</span></dt><dd>GEOGCS[&quot;WGS 84&quot;,DATUM[&quot;WGS_1984&quot;,SPHEROID[&quot;WGS 84&quot;,6378137,298.257223563,AUTHORITY[&quot;EPSG&quot;,&quot;7030&quot;]],AUTHORITY[&quot;EPSG&quot;,&quot;6326&quot;]],PRIMEM[&quot;Greenwich&quot;,0,AUTHORITY[&quot;EPSG&quot;,&quot;8901&quot;]],UNIT[&quot;degree&quot;,0.0174532925199433,AUTHORITY[&quot;EPSG&quot;,&quot;9122&quot;]],AXIS[&quot;Latitude&quot;,NORTH],AXIS[&quot;Longitude&quot;,EAST],AUTHORITY[&quot;EPSG&quot;,&quot;4326&quot;]]</dd><dt><span>GeoTransform :</span></dt><dd>-124.7458333 0.041666666666666616 0.0 49.00416666666667 0.0 -0.04166666666666661</dd></dl></div><div class='xr-var-data'><pre>array(0)</pre></div></li><li class='xr-var-item'><div class='xr-var-name'><span>USDM</span></div><div class='xr-var-dims'>(index, lat, lon)</div><div class='xr-var-dtype'>float64</div><div class='xr-var-preview xr-preview'>...</div><input id='attrs-4a446267-0c48-4224-b65d-c0c5cc3f184b' class='xr-var-attrs-in' type='checkbox' ><label for='attrs-4a446267-0c48-4224-b65d-c0c5cc3f184b' title='Show/Hide attributes'><svg class='icon xr-icon-file-text2'><use xlink:href='#icon-file-text2'></use></svg></label><input id='data-c84f74c9-402a-455f-be91-a0be46920769' class='xr-var-data-in' type='checkbox'><label for='data-c84f74c9-402a-455f-be91-a0be46920769' title='Show/Hide data repr'><svg class='icon xr-icon-database'><use xlink:href='#icon-database'></use></svg></label><div class='xr-var-attrs'><dl class='xr-attrs'><dt><span>crs_wkt :</span></dt><dd>GEOGCS[&quot;WGS 84&quot;,DATUM[&quot;WGS_1984&quot;,SPHEROID[&quot;WGS 84&quot;,6378137,298.257223563,AUTHORITY[&quot;EPSG&quot;,&quot;7030&quot;]],AUTHORITY[&quot;EPSG&quot;,&quot;6326&quot;]],PRIMEM[&quot;Greenwich&quot;,0,AUTHORITY[&quot;EPSG&quot;,&quot;8901&quot;]],UNIT[&quot;degree&quot;,0.0174532925199433,AUTHORITY[&quot;EPSG&quot;,&quot;9122&quot;]],AXIS[&quot;Latitude&quot;,NORTH],AXIS[&quot;Longitude&quot;,EAST],AUTHORITY[&quot;EPSG&quot;,&quot;4326&quot;]]</dd><dt><span>semi_major_axis :</span></dt><dd>6378137.0</dd><dt><span>semi_minor_axis :</span></dt><dd>6356752.314245179</dd><dt><span>inverse_flattening :</span></dt><dd>298.257223563</dd><dt><span>reference_ellipsoid_name :</span></dt><dd>WGS 84</dd><dt><span>longitude_of_prime_meridian :</span></dt><dd>0.0</dd><dt><span>prime_meridian_name :</span></dt><dd>Greenwich</dd><dt><span>geographic_crs_name :</span></dt><dd>WGS 84</dd><dt><span>grid_mapping_name :</span></dt><dd>latitude_longitude</dd><dt><span>spatial_ref :</span></dt><dd>GEOGCS[&quot;WGS 84&quot;,DATUM[&quot;WGS_1984&quot;,SPHEROID[&quot;WGS 84&quot;,6378137,298.257223563,AUTHORITY[&quot;EPSG&quot;,&quot;7030&quot;]],AUTHORITY[&quot;EPSG&quot;,&quot;6326&quot;]],PRIMEM[&quot;Greenwich&quot;,0,AUTHORITY[&quot;EPSG&quot;,&quot;8901&quot;]],UNIT[&quot;degree&quot;,0.0174532925199433,AUTHORITY[&quot;EPSG&quot;,&quot;9122&quot;]],AXIS[&quot;Latitude&quot;,NORTH],AXIS[&quot;Longitude&quot;,EAST],AUTHORITY[&quot;EPSG&quot;,&quot;4326&quot;]]</dd><dt><span>GeoTransform :</span></dt><dd>-124.74590760646159 0.024999999999999963 0.0 49.01054810699192 0.0 -0.02499999999999997</dd><dt><span>grid_mapping :</span></dt><dd>spatial_ref</dd></dl></div><div class='xr-var-data'><pre>[18129216 values with dtype=float64]</pre></div></li><li class='xr-var-item'><div class='xr-var-name'><span>USDM Date</span></div><div class='xr-var-dims'>(index)</div><div class='xr-var-dtype'>datetime64[ns]</div><div class='xr-var-preview xr-preview'>...</div><input id='attrs-43b8761a-8ff0-4df5-9f8d-a32f8e9fbba6' class='xr-var-attrs-in' type='checkbox' disabled><label for='attrs-43b8761a-8ff0-4df5-9f8d-a32f8e9fbba6' title='Show/Hide attributes'><svg class='icon xr-icon-file-text2'><use xlink:href='#icon-file-text2'></use></svg></label><input id='data-062fc6cf-c607-4622-ada2-cdd573581096' class='xr-var-data-in' type='checkbox'><label for='data-062fc6cf-c607-4622-ada2-cdd573581096' title='Show/Hide data repr'><svg class='icon xr-icon-database'><use xlink:href='#icon-database'></use></svg></label><div class='xr-var-attrs'><dl class='xr-attrs'></dl></div><div class='xr-var-data'><pre>array([&#x27;2000-01-04T00:00:00.000000000&#x27;, &#x27;2000-01-11T00:00:00.000000000&#x27;,\n",
       "       &#x27;2000-01-18T00:00:00.000000000&#x27;, ..., &#x27;2021-12-14T00:00:00.000000000&#x27;,\n",
       "       &#x27;2021-12-21T00:00:00.000000000&#x27;, &#x27;2021-12-28T00:00:00.000000000&#x27;],\n",
       "      dtype=&#x27;datetime64[ns]&#x27;)</pre></div></li><li class='xr-var-item'><div class='xr-var-name'><span>spi_1y</span></div><div class='xr-var-dims'>(index, lat, lon)</div><div class='xr-var-dtype'>float32</div><div class='xr-var-preview xr-preview'>...</div><input id='attrs-7d269c10-f98b-44a3-8827-543d00e02c46' class='xr-var-attrs-in' type='checkbox' disabled><label for='attrs-7d269c10-f98b-44a3-8827-543d00e02c46' title='Show/Hide attributes'><svg class='icon xr-icon-file-text2'><use xlink:href='#icon-file-text2'></use></svg></label><input id='data-e1bbcc9c-f5a0-442b-84ab-006bc5b4d087' class='xr-var-data-in' type='checkbox'><label for='data-e1bbcc9c-f5a0-442b-84ab-006bc5b4d087' title='Show/Hide data repr'><svg class='icon xr-icon-database'><use xlink:href='#icon-database'></use></svg></label><div class='xr-var-attrs'><dl class='xr-attrs'></dl></div><div class='xr-var-data'><pre>[18129216 values with dtype=float32]</pre></div></li><li class='xr-var-item'><div class='xr-var-name'><span>spi_2y</span></div><div class='xr-var-dims'>(index, lat, lon)</div><div class='xr-var-dtype'>float32</div><div class='xr-var-preview xr-preview'>...</div><input id='attrs-34bec703-ad06-4797-a46f-6f95c89ecaa2' class='xr-var-attrs-in' type='checkbox' disabled><label for='attrs-34bec703-ad06-4797-a46f-6f95c89ecaa2' title='Show/Hide attributes'><svg class='icon xr-icon-file-text2'><use xlink:href='#icon-file-text2'></use></svg></label><input id='data-f7ba1633-547f-4b00-bdca-660dceab8b50' class='xr-var-data-in' type='checkbox'><label for='data-f7ba1633-547f-4b00-bdca-660dceab8b50' title='Show/Hide data repr'><svg class='icon xr-icon-database'><use xlink:href='#icon-database'></use></svg></label><div class='xr-var-attrs'><dl class='xr-attrs'></dl></div><div class='xr-var-data'><pre>[18129216 values with dtype=float32]</pre></div></li><li class='xr-var-item'><div class='xr-var-name'><span>spi_5y</span></div><div class='xr-var-dims'>(index, lat, lon)</div><div class='xr-var-dtype'>float32</div><div class='xr-var-preview xr-preview'>...</div><input id='attrs-7aeebe2f-d970-4b14-957f-599c64025755' class='xr-var-attrs-in' type='checkbox' disabled><label for='attrs-7aeebe2f-d970-4b14-957f-599c64025755' title='Show/Hide attributes'><svg class='icon xr-icon-file-text2'><use xlink:href='#icon-file-text2'></use></svg></label><input id='data-85fd3287-c574-4143-961c-e04b8b6c368b' class='xr-var-data-in' type='checkbox'><label for='data-85fd3287-c574-4143-961c-e04b8b6c368b' title='Show/Hide data repr'><svg class='icon xr-icon-database'><use xlink:href='#icon-database'></use></svg></label><div class='xr-var-attrs'><dl class='xr-attrs'></dl></div><div class='xr-var-data'><pre>[18129216 values with dtype=float32]</pre></div></li><li class='xr-var-item'><div class='xr-var-name'><span>spi_14d</span></div><div class='xr-var-dims'>(index, lat, lon)</div><div class='xr-var-dtype'>float32</div><div class='xr-var-preview xr-preview'>...</div><input id='attrs-dfd36f45-e604-477f-a70f-9983a5169621' class='xr-var-attrs-in' type='checkbox' disabled><label for='attrs-dfd36f45-e604-477f-a70f-9983a5169621' title='Show/Hide attributes'><svg class='icon xr-icon-file-text2'><use xlink:href='#icon-file-text2'></use></svg></label><input id='data-006cb2d6-3396-4370-8bfa-8ae0634c6ca0' class='xr-var-data-in' type='checkbox'><label for='data-006cb2d6-3396-4370-8bfa-8ae0634c6ca0' title='Show/Hide data repr'><svg class='icon xr-icon-database'><use xlink:href='#icon-database'></use></svg></label><div class='xr-var-attrs'><dl class='xr-attrs'></dl></div><div class='xr-var-data'><pre>[18129216 values with dtype=float32]</pre></div></li><li class='xr-var-item'><div class='xr-var-name'><span>spi_30d</span></div><div class='xr-var-dims'>(index, lat, lon)</div><div class='xr-var-dtype'>float32</div><div class='xr-var-preview xr-preview'>...</div><input id='attrs-84423401-c4eb-4a80-98e1-ccbd4955d9f9' class='xr-var-attrs-in' type='checkbox' disabled><label for='attrs-84423401-c4eb-4a80-98e1-ccbd4955d9f9' title='Show/Hide attributes'><svg class='icon xr-icon-file-text2'><use xlink:href='#icon-file-text2'></use></svg></label><input id='data-9379e376-31e7-4a14-8bdd-c16b7146c748' class='xr-var-data-in' type='checkbox'><label for='data-9379e376-31e7-4a14-8bdd-c16b7146c748' title='Show/Hide data repr'><svg class='icon xr-icon-database'><use xlink:href='#icon-database'></use></svg></label><div class='xr-var-attrs'><dl class='xr-attrs'></dl></div><div class='xr-var-data'><pre>[18129216 values with dtype=float32]</pre></div></li><li class='xr-var-item'><div class='xr-var-name'><span>spi_90d</span></div><div class='xr-var-dims'>(index, lat, lon)</div><div class='xr-var-dtype'>float32</div><div class='xr-var-preview xr-preview'>...</div><input id='attrs-d9b47346-c652-404c-a9a8-cfc5e8f75225' class='xr-var-attrs-in' type='checkbox' disabled><label for='attrs-d9b47346-c652-404c-a9a8-cfc5e8f75225' title='Show/Hide attributes'><svg class='icon xr-icon-file-text2'><use xlink:href='#icon-file-text2'></use></svg></label><input id='data-a50e3f87-cc24-40ff-8c37-ddc7d3a1ccec' class='xr-var-data-in' type='checkbox'><label for='data-a50e3f87-cc24-40ff-8c37-ddc7d3a1ccec' title='Show/Hide data repr'><svg class='icon xr-icon-database'><use xlink:href='#icon-database'></use></svg></label><div class='xr-var-attrs'><dl class='xr-attrs'></dl></div><div class='xr-var-data'><pre>[18129216 values with dtype=float32]</pre></div></li><li class='xr-var-item'><div class='xr-var-name'><span>spi_180d</span></div><div class='xr-var-dims'>(index, lat, lon)</div><div class='xr-var-dtype'>float32</div><div class='xr-var-preview xr-preview'>...</div><input id='attrs-5a009534-46e3-42af-97bd-a77d33bee283' class='xr-var-attrs-in' type='checkbox' disabled><label for='attrs-5a009534-46e3-42af-97bd-a77d33bee283' title='Show/Hide attributes'><svg class='icon xr-icon-file-text2'><use xlink:href='#icon-file-text2'></use></svg></label><input id='data-9ac8d53a-4167-46e7-be27-7f1e3674545d' class='xr-var-data-in' type='checkbox'><label for='data-9ac8d53a-4167-46e7-be27-7f1e3674545d' title='Show/Hide data repr'><svg class='icon xr-icon-database'><use xlink:href='#icon-database'></use></svg></label><div class='xr-var-attrs'><dl class='xr-attrs'></dl></div><div class='xr-var-data'><pre>[18129216 values with dtype=float32]</pre></div></li><li class='xr-var-item'><div class='xr-var-name'><span>spi_270d</span></div><div class='xr-var-dims'>(index, lat, lon)</div><div class='xr-var-dtype'>float32</div><div class='xr-var-preview xr-preview'>...</div><input id='attrs-3bd9ac62-11cc-45f9-89fb-c720a7b581ab' class='xr-var-attrs-in' type='checkbox' disabled><label for='attrs-3bd9ac62-11cc-45f9-89fb-c720a7b581ab' title='Show/Hide attributes'><svg class='icon xr-icon-file-text2'><use xlink:href='#icon-file-text2'></use></svg></label><input id='data-94153513-3ba4-475b-9ebd-0362640972fb' class='xr-var-data-in' type='checkbox'><label for='data-94153513-3ba4-475b-9ebd-0362640972fb' title='Show/Hide data repr'><svg class='icon xr-icon-database'><use xlink:href='#icon-database'></use></svg></label><div class='xr-var-attrs'><dl class='xr-attrs'></dl></div><div class='xr-var-data'><pre>[18129216 values with dtype=float32]</pre></div></li><li class='xr-var-item'><div class='xr-var-name'><span>SPI Date</span></div><div class='xr-var-dims'>(index)</div><div class='xr-var-dtype'>datetime64[ns]</div><div class='xr-var-preview xr-preview'>...</div><input id='attrs-a64b3c64-7e14-4972-8018-e253edf0f177' class='xr-var-attrs-in' type='checkbox' disabled><label for='attrs-a64b3c64-7e14-4972-8018-e253edf0f177' title='Show/Hide attributes'><svg class='icon xr-icon-file-text2'><use xlink:href='#icon-file-text2'></use></svg></label><input id='data-bb1a4146-2a2b-4fc1-8db3-0ecfbeab6827' class='xr-var-data-in' type='checkbox'><label for='data-bb1a4146-2a2b-4fc1-8db3-0ecfbeab6827' title='Show/Hide data repr'><svg class='icon xr-icon-database'><use xlink:href='#icon-database'></use></svg></label><div class='xr-var-attrs'><dl class='xr-attrs'></dl></div><div class='xr-var-data'><pre>array([&#x27;1999-12-31T00:00:00.000000000&#x27;, &#x27;2000-01-10T00:00:00.000000000&#x27;,\n",
       "       &#x27;2000-01-15T00:00:00.000000000&#x27;, ..., &#x27;2021-12-11T00:00:00.000000000&#x27;,\n",
       "       &#x27;2021-12-21T00:00:00.000000000&#x27;, &#x27;2021-12-26T00:00:00.000000000&#x27;],\n",
       "      dtype=&#x27;datetime64[ns]&#x27;)</pre></div></li></ul></div></li><li class='xr-section-item'><input id='section-1ca4bdb6-2ea0-4536-85aa-093490145af4' class='xr-section-summary-in' type='checkbox'  checked><label for='section-1ca4bdb6-2ea0-4536-85aa-093490145af4' class='xr-section-summary' >Attributes: <span>(4)</span></label><div class='xr-section-inline-details'></div><div class='xr-section-details'><dl class='xr-attrs'><dt><span>author :</span></dt><dd>a. stein 6/8/2022</dd><dt><span>description :</span></dt><dd>USDM and SPI matched to USDM data cutoff dates, as described by the index for Washington State. USDM has been upscaled to SPI resolution while SPI has been categorized according to the USDM drought categories.</dd><dt><span>USDM Date :</span></dt><dd>this contains the original dates for USDM</dd><dt><span>SPI Date :</span></dt><dd>this contains the original dates for SPI</dd></dl></div></li></ul></div></div>"
      ],
      "text/plain": [
       "<xarray.Dataset>\n",
       "Dimensions:      (lat: 84, lon: 188, index: 1148)\n",
       "Coordinates:\n",
       "  * lat          (lat) float64 48.98 48.94 48.9 48.86 ... 45.61 45.57 45.53\n",
       "  * lon          (lon) float64 -124.7 -124.7 -124.6 ... -117.0 -117.0 -116.9\n",
       "  * index        (index) int64 0 1 2 3 4 5 6 ... 1142 1143 1144 1145 1146 1147\n",
       "Data variables:\n",
       "    spatial_ref  int64 ...\n",
       "    USDM         (index, lat, lon) float64 ...\n",
       "    USDM Date    (index) datetime64[ns] ...\n",
       "    spi_1y       (index, lat, lon) float32 ...\n",
       "    spi_2y       (index, lat, lon) float32 ...\n",
       "    spi_5y       (index, lat, lon) float32 ...\n",
       "    spi_14d      (index, lat, lon) float32 ...\n",
       "    spi_30d      (index, lat, lon) float32 ...\n",
       "    spi_90d      (index, lat, lon) float32 ...\n",
       "    spi_180d     (index, lat, lon) float32 ...\n",
       "    spi_270d     (index, lat, lon) float32 ...\n",
       "    SPI Date     (index) datetime64[ns] ...\n",
       "Attributes:\n",
       "    author:       a. stein 6/8/2022\n",
       "    description:  USDM and SPI matched to USDM data cutoff dates, as describe...\n",
       "    USDM Date:    this contains the original dates for USDM\n",
       "    SPI Date:     this contains the original dates for SPI"
      ]
     },
     "execution_count": 5,
     "metadata": {},
     "output_type": "execute_result"
    }
   ],
   "source": [
    "paired_ds"
   ]
  },
  {
   "cell_type": "markdown",
   "metadata": {},
   "source": [
    "The most useful package for this appears to OpenCV .. here's a tutorial: https://pyimagesearch.com/2021/02/22/opencv-connected-component-labeling-and-analysis/"
   ]
  },
  {
   "cell_type": "code",
   "execution_count": 2,
   "metadata": {},
   "outputs": [],
   "source": [
    "import cv2"
   ]
  },
  {
   "cell_type": "code",
   "execution_count": 217,
   "metadata": {},
   "outputs": [],
   "source": [
    "test = paired_ds['USDM']\n",
    "test_vals = test.sel(index=500).values"
   ]
  },
  {
   "cell_type": "code",
   "execution_count": 219,
   "metadata": {},
   "outputs": [
    {
     "data": {
      "image/png": "[encoded data removed]",
      "text/plain": [
       "<Figure size 432x288 with 2 Axes>"
      ]
     },
     "metadata": {
      "needs_background": "light"
     },
     "output_type": "display_data"
    }
   ],
   "source": [
    "fig, ax = plt.subplots()\n",
    "\n",
    "cb = ax.imshow(test_vals, vmin=-1, vmax=4, cmap=ndplot.usdm_cmap())\n",
    "fig.colorbar(cb)\n",
    "ax.set_facecolor('k')"
   ]
  },
  {
   "cell_type": "markdown",
   "metadata": {},
   "source": [
    "Okay, I know I'm going to needs to use a binary image, so let's go ahead and use a threshold of D1"
   ]
  },
  {
   "cell_type": "code",
   "execution_count": 220,
   "metadata": {},
   "outputs": [],
   "source": [
    "test_vals[test_vals < 1] = 0\n",
    "test_vals[test_vals > 0] = 1"
   ]
  },
  {
   "cell_type": "code",
   "execution_count": 221,
   "metadata": {},
   "outputs": [
    {
     "data": {
      "image/png": "[encoded data removed]",
      "text/plain": [
       "<Figure size 432x288 with 2 Axes>"
      ]
     },
     "metadata": {
      "needs_background": "light"
     },
     "output_type": "display_data"
    }
   ],
   "source": [
    "fig, ax = plt.subplots()\n",
    "\n",
    "cb = ax.imshow(test_vals, vmin=0, vmax=1, cmap='viridis')\n",
    "fig.colorbar(cb)\n",
    "ax.set_facecolor('k')"
   ]
  },
  {
   "cell_type": "markdown",
   "metadata": {},
   "source": [
    "Cool, that looks right."
   ]
  },
  {
   "cell_type": "markdown",
   "metadata": {},
   "source": [
    "Now to figure out how to make it an image ... https://www.codespeedy.com/convert-a-numpy-array-to-image-in-python/"
   ]
  },
  {
   "cell_type": "code",
   "execution_count": 222,
   "metadata": {},
   "outputs": [],
   "source": [
    "from PIL import Image"
   ]
  },
  {
   "cell_type": "code",
   "execution_count": 223,
   "metadata": {},
   "outputs": [
    {
     "data": {
      "text/plain": [
       "(84, 188)"
      ]
     },
     "execution_count": 223,
     "metadata": {},
     "output_type": "execute_result"
    }
   ],
   "source": [
    "test_vals.shape"
   ]
  },
  {
   "cell_type": "code",
   "execution_count": 224,
   "metadata": {},
   "outputs": [],
   "source": [
    "w, h = len(paired_ds.lon), len(paired_ds.lat)\n",
    "t = (h, w, 3)\n",
    "A = np.zeros(t, dtype=np.uint8)\n",
    "for i in range(h):\n",
    "    for j in range(w):\n",
    "        val = test_vals[i,j]\n",
    "        if np.isnan(val):\n",
    "            val = 0\n",
    "        color_val = 255*val\n",
    "        color_val = np.uint8(color_val)\n",
    "        #print(color_val)\n",
    "        \n",
    "        A[i,j]=[color_val, color_val, color_val]\n",
    "\n",
    "img = Image.fromarray(A, 'RGB')"
   ]
  },
  {
   "cell_type": "code",
   "execution_count": 225,
   "metadata": {},
   "outputs": [
    {
     "data": {
      "image/png": "[encoded data removed]",
      "text/plain": [
       "<PIL.Image.Image image mode=RGB size=188x84 at 0x7FE46EBCC850>"
      ]
     },
     "execution_count": 225,
     "metadata": {},
     "output_type": "execute_result"
    }
   ],
   "source": [
    "img"
   ]
  },
  {
   "cell_type": "code",
   "execution_count": 226,
   "metadata": {},
   "outputs": [
    {
     "data": {
      "text/plain": [
       "<matplotlib.image.AxesImage at 0x7fe46edb9c10>"
      ]
     },
     "execution_count": 226,
     "metadata": {},
     "output_type": "execute_result"
    },
    {
     "data": {
      "image/png": "[encoded data removed]",
      "text/plain": [
       "<Figure size 432x288 with 1 Axes>"
      ]
     },
     "metadata": {
      "needs_background": "light"
     },
     "output_type": "display_data"
    }
   ],
   "source": [
    "# double check that's right\n",
    "fig, ax = plt.subplots()\n",
    "\n",
    "ax.imshow(A, vmin=0, vmax=256)\n"
   ]
  },
  {
   "cell_type": "markdown",
   "metadata": {},
   "source": [
    "Cool. After much debugging, that's solved."
   ]
  },
  {
   "cell_type": "code",
   "execution_count": 227,
   "metadata": {},
   "outputs": [],
   "source": [
    "gray = cv2.cvtColor(A, cv2.COLOR_RGB2GRAY)"
   ]
  },
  {
   "cell_type": "code",
   "execution_count": 228,
   "metadata": {},
   "outputs": [],
   "source": [
    "thresh = cv2.threshold(gray, 0, 255, cv2.THRESH_BINARY_INV | cv2.THRESH_OTSU)[1]"
   ]
  },
  {
   "cell_type": "code",
   "execution_count": 229,
   "metadata": {},
   "outputs": [],
   "source": [
    "output = cv2.connectedComponentsWithStats(thresh, 8, cv2.CV_32S)"
   ]
  },
  {
   "cell_type": "code",
   "execution_count": 230,
   "metadata": {},
   "outputs": [],
   "source": [
    "(numLabels, labels, stats, centroids) = output"
   ]
  },
  {
   "cell_type": "code",
   "execution_count": 231,
   "metadata": {},
   "outputs": [
    {
     "data": {
      "text/plain": [
       "2"
      ]
     },
     "execution_count": 231,
     "metadata": {},
     "output_type": "execute_result"
    }
   ],
   "source": [
    "numLabels"
   ]
  },
  {
   "cell_type": "code",
   "execution_count": 232,
   "metadata": {},
   "outputs": [
    {
     "data": {
      "text/plain": [
       "array([[1, 1, 1, ..., 1, 1, 1],\n",
       "       [1, 1, 1, ..., 1, 1, 1],\n",
       "       [1, 1, 1, ..., 1, 1, 1],\n",
       "       ...,\n",
       "       [1, 1, 1, ..., 1, 1, 1],\n",
       "       [1, 1, 1, ..., 1, 1, 1],\n",
       "       [1, 1, 1, ..., 1, 1, 1]], dtype=int32)"
      ]
     },
     "execution_count": 232,
     "metadata": {},
     "output_type": "execute_result"
    }
   ],
   "source": [
    "labels"
   ]
  },
  {
   "cell_type": "code",
   "execution_count": 233,
   "metadata": {},
   "outputs": [
    {
     "data": {
      "text/plain": [
       "array([[    1,     0,   151,    54,  3444],\n",
       "       [    0,     0,   188,    84, 12348]], dtype=int32)"
      ]
     },
     "execution_count": 233,
     "metadata": {},
     "output_type": "execute_result"
    }
   ],
   "source": [
    "# so this is the bounding box and then the area in pixels\n",
    "stats"
   ]
  },
  {
   "cell_type": "code",
   "execution_count": 234,
   "metadata": {},
   "outputs": [
    {
     "data": {
      "text/plain": [
       "array([[96.97067364, 26.10481998],\n",
       "       [92.53198899, 45.79389375]])"
      ]
     },
     "execution_count": 234,
     "metadata": {},
     "output_type": "execute_result"
    }
   ],
   "source": [
    "centroids"
   ]
  },
  {
   "cell_type": "code",
   "execution_count": 235,
   "metadata": {},
   "outputs": [
    {
     "data": {
      "text/plain": [
       "<matplotlib.collections.PathCollection at 0x7fe46f31fe50>"
      ]
     },
     "execution_count": 235,
     "metadata": {},
     "output_type": "execute_result"
    },
    {
     "data": {
      "image/png": "[encoded data removed]",
      "text/plain": [
       "<Figure size 432x288 with 1 Axes>"
      ]
     },
     "metadata": {
      "needs_background": "light"
     },
     "output_type": "display_data"
    }
   ],
   "source": [
    "fig, ax = plt.subplots()\n",
    "\n",
    "ax.imshow(labels)\n",
    "ax.scatter(x=centroids[:,0], y=centroids[:,1])"
   ]
  },
  {
   "cell_type": "code",
   "execution_count": 236,
   "metadata": {},
   "outputs": [
    {
     "data": {
      "text/plain": [
       "15792"
      ]
     },
     "execution_count": 236,
     "metadata": {},
     "output_type": "execute_result"
    }
   ],
   "source": [
    "stats[:,-1].sum()"
   ]
  },
  {
   "cell_type": "markdown",
   "metadata": {},
   "source": [
    "Ah, so it separated it into drought and not drought ... which isn't really what I was hoping for ..."
   ]
  },
  {
   "cell_type": "markdown",
   "metadata": {},
   "source": [
    "### Scikit"
   ]
  },
  {
   "cell_type": "markdown",
   "metadata": {},
   "source": [
    "Okay, this already looks soo much easier to use: https://towardsdatascience.com/image-processing-with-python-blob-detection-using-scikit-image-5df9a8380ade"
   ]
  },
  {
   "cell_type": "code",
   "execution_count": 243,
   "metadata": {},
   "outputs": [],
   "source": [
    "import skimage\n",
    "\n",
    "from skimage.io import imshow\n",
    "from skimage.color import rgb2gray\n",
    "from skimage.measure import label, regionprops, regionprops_table\n"
   ]
  },
  {
   "cell_type": "code",
   "execution_count": 248,
   "metadata": {},
   "outputs": [
    {
     "name": "stdout",
     "output_type": "stream",
     "text": [
      "\u001b[0;31mSignature:\u001b[0m \u001b[0mlabel\u001b[0m\u001b[0;34m(\u001b[0m\u001b[0mlabel_image\u001b[0m\u001b[0;34m,\u001b[0m \u001b[0mbackground\u001b[0m\u001b[0;34m=\u001b[0m\u001b[0;32mNone\u001b[0m\u001b[0;34m,\u001b[0m \u001b[0mreturn_num\u001b[0m\u001b[0;34m=\u001b[0m\u001b[0;32mFalse\u001b[0m\u001b[0;34m,\u001b[0m \u001b[0mconnectivity\u001b[0m\u001b[0;34m=\u001b[0m\u001b[0;32mNone\u001b[0m\u001b[0;34m)\u001b[0m\u001b[0;34m\u001b[0m\u001b[0;34m\u001b[0m\u001b[0m\n",
      "\u001b[0;31mDocstring:\u001b[0m\n",
      "Label connected regions of an integer array.\n",
      "\n",
      "Two pixels are connected when they are neighbors and have the same value.\n",
      "In 2D, they can be neighbors either in a 1- or 2-connected sense.\n",
      "The value refers to the maximum number of orthogonal hops to consider a\n",
      "pixel/voxel a neighbor::\n",
      "\n",
      "  1-connectivity     2-connectivity     diagonal connection close-up\n",
      "\n",
      "       [ ]           [ ]  [ ]  [ ]             [ ]\n",
      "        |               \\  |  /                 |  <- hop 2\n",
      "  [ ]--[x]--[ ]      [ ]--[x]--[ ]        [x]--[ ]\n",
      "        |               /  |  \\             hop 1\n",
      "       [ ]           [ ]  [ ]  [ ]\n",
      "\n",
      "Parameters\n",
      "----------\n",
      "label_image : ndarray of dtype int\n",
      "    Image to label.\n",
      "background : int, optional\n",
      "    Consider all pixels with this value as background pixels, and label\n",
      "    them as 0. By default, 0-valued pixels are considered as background\n",
      "    pixels.\n",
      "return_num : bool, optional\n",
      "    Whether to return the number of assigned labels.\n",
      "connectivity : int, optional\n",
      "    Maximum number of orthogonal hops to consider a pixel/voxel\n",
      "    as a neighbor.\n",
      "    Accepted values are ranging from  1 to input.ndim. If ``None``, a full\n",
      "    connectivity of ``input.ndim`` is used.\n",
      "\n",
      "Returns\n",
      "-------\n",
      "labels : ndarray of dtype int\n",
      "    Labeled array, where all connected regions are assigned the\n",
      "    same integer value.\n",
      "num : int, optional\n",
      "    Number of labels, which equals the maximum label index and is only\n",
      "    returned if return_num is `True`.\n",
      "\n",
      "See Also\n",
      "--------\n",
      "regionprops\n",
      "regionprops_table\n",
      "\n",
      "References\n",
      "----------\n",
      ".. [1] Christophe Fiorio and Jens Gustedt, \"Two linear time Union-Find\n",
      "       strategies for image processing\", Theoretical Computer Science\n",
      "       154 (1996), pp. 165-181.\n",
      ".. [2] Kensheng Wu, Ekow Otoo and Arie Shoshani, \"Optimizing connected\n",
      "       component labeling algorithms\", Paper LBNL-56864, 2005,\n",
      "       Lawrence Berkeley National Laboratory (University of California),\n",
      "       http://repositories.cdlib.org/lbnl/LBNL-56864\n",
      "\n",
      "Examples\n",
      "--------\n",
      ">>> import numpy as np\n",
      ">>> x = np.eye(3).astype(int)\n",
      ">>> print(x)\n",
      "[[1 0 0]\n",
      " [0 1 0]\n",
      " [0 0 1]]\n",
      ">>> print(label(x, connectivity=1))\n",
      "[[1 0 0]\n",
      " [0 2 0]\n",
      " [0 0 3]]\n",
      ">>> print(label(x, connectivity=2))\n",
      "[[1 0 0]\n",
      " [0 1 0]\n",
      " [0 0 1]]\n",
      ">>> print(label(x, background=-1))\n",
      "[[1 2 2]\n",
      " [2 1 2]\n",
      " [2 2 1]]\n",
      ">>> x = np.array([[1, 0, 0],\n",
      "...               [1, 1, 5],\n",
      "...               [0, 0, 0]])\n",
      ">>> print(label(x))\n",
      "[[1 0 0]\n",
      " [1 1 2]\n",
      " [0 0 0]]\n",
      "\u001b[0;31mFile:\u001b[0m      /pool0/data/steinadi/.conda/envs/sedi/lib/python3.7/site-packages/skimage/measure/_label.py\n",
      "\u001b[0;31mType:\u001b[0m      function\n"
     ]
    }
   ],
   "source": [
    "label?"
   ]
  },
  {
   "cell_type": "code",
   "execution_count": 250,
   "metadata": {},
   "outputs": [
    {
     "name": "stdout",
     "output_type": "stream",
     "text": [
      "\u001b[0;31mSignature:\u001b[0m\n",
      "\u001b[0mregionprops_table\u001b[0m\u001b[0;34m(\u001b[0m\u001b[0;34m\u001b[0m\n",
      "\u001b[0;34m\u001b[0m    \u001b[0mlabel_image\u001b[0m\u001b[0;34m,\u001b[0m\u001b[0;34m\u001b[0m\n",
      "\u001b[0;34m\u001b[0m    \u001b[0mintensity_image\u001b[0m\u001b[0;34m=\u001b[0m\u001b[0;32mNone\u001b[0m\u001b[0;34m,\u001b[0m\u001b[0;34m\u001b[0m\n",
      "\u001b[0;34m\u001b[0m    \u001b[0mproperties\u001b[0m\u001b[0;34m=\u001b[0m\u001b[0;34m(\u001b[0m\u001b[0;34m'label'\u001b[0m\u001b[0;34m,\u001b[0m \u001b[0;34m'bbox'\u001b[0m\u001b[0;34m)\u001b[0m\u001b[0;34m,\u001b[0m\u001b[0;34m\u001b[0m\n",
      "\u001b[0;34m\u001b[0m    \u001b[0;34m*\u001b[0m\u001b[0;34m,\u001b[0m\u001b[0;34m\u001b[0m\n",
      "\u001b[0;34m\u001b[0m    \u001b[0mcache\u001b[0m\u001b[0;34m=\u001b[0m\u001b[0;32mTrue\u001b[0m\u001b[0;34m,\u001b[0m\u001b[0;34m\u001b[0m\n",
      "\u001b[0;34m\u001b[0m    \u001b[0mseparator\u001b[0m\u001b[0;34m=\u001b[0m\u001b[0;34m'-'\u001b[0m\u001b[0;34m,\u001b[0m\u001b[0;34m\u001b[0m\n",
      "\u001b[0;34m\u001b[0m    \u001b[0mextra_properties\u001b[0m\u001b[0;34m=\u001b[0m\u001b[0;32mNone\u001b[0m\u001b[0;34m,\u001b[0m\u001b[0;34m\u001b[0m\n",
      "\u001b[0;34m\u001b[0m\u001b[0;34m)\u001b[0m\u001b[0;34m\u001b[0m\u001b[0;34m\u001b[0m\u001b[0m\n",
      "\u001b[0;31mDocstring:\u001b[0m\n",
      "Compute image properties and return them as a pandas-compatible table.\n",
      "\n",
      "The table is a dictionary mapping column names to value arrays. See Notes\n",
      "section below for details.\n",
      "\n",
      ".. versionadded:: 0.16\n",
      "\n",
      "Parameters\n",
      "----------\n",
      "label_image : (N, M[, P]) ndarray\n",
      "    Labeled input image. Labels with value 0 are ignored.\n",
      "intensity_image : (M, N[, P][, C]) ndarray, optional\n",
      "    Intensity (i.e., input) image with same size as labeled image, plus\n",
      "    optionally an extra dimension for multichannel data. Currently,\n",
      "    this extra channel dimension, if present, must be the last axis.\n",
      "    Default is None.\n",
      "\n",
      "    .. versionchanged:: 0.18.0\n",
      "        The ability to provide an extra dimension for channels was added.\n",
      "properties : tuple or list of str, optional\n",
      "    Properties that will be included in the resulting dictionary\n",
      "    For a list of available properties, please see :func:`regionprops`.\n",
      "    Users should remember to add \"label\" to keep track of region\n",
      "    identities.\n",
      "cache : bool, optional\n",
      "    Determine whether to cache calculated properties. The computation is\n",
      "    much faster for cached properties, whereas the memory consumption\n",
      "    increases.\n",
      "separator : str, optional\n",
      "    For non-scalar properties not listed in OBJECT_COLUMNS, each element\n",
      "    will appear in its own column, with the index of that element separated\n",
      "    from the property name by this separator. For example, the inertia\n",
      "    tensor of a 2D region will appear in four columns:\n",
      "    ``inertia_tensor-0-0``, ``inertia_tensor-0-1``, ``inertia_tensor-1-0``,\n",
      "    and ``inertia_tensor-1-1`` (where the separator is ``-``).\n",
      "\n",
      "    Object columns are those that cannot be split in this way because the\n",
      "    number of columns would change depending on the object. For example,\n",
      "    ``image`` and ``coords``.\n",
      "extra_properties : Iterable of callables\n",
      "    Add extra property computation functions that are not included with\n",
      "    skimage. The name of the property is derived from the function name,\n",
      "    the dtype is inferred by calling the function on a small sample.\n",
      "    If the name of an extra property clashes with the name of an existing\n",
      "    property the extra property wil not be visible and a UserWarning is\n",
      "    issued. A property computation function must take a region mask as its\n",
      "    first argument. If the property requires an intensity image, it must\n",
      "    accept the intensity image as the second argument.\n",
      "\n",
      "Returns\n",
      "-------\n",
      "out_dict : dict\n",
      "    Dictionary mapping property names to an array of values of that\n",
      "    property, one value per region. This dictionary can be used as input to\n",
      "    pandas ``DataFrame`` to map property names to columns in the frame and\n",
      "    regions to rows. If the image has no regions,\n",
      "    the arrays will have length 0, but the correct type.\n",
      "\n",
      "Notes\n",
      "-----\n",
      "Each column contains either a scalar property, an object property, or an\n",
      "element in a multidimensional array.\n",
      "\n",
      "Properties with scalar values for each region, such as \"eccentricity\", will\n",
      "appear as a float or int array with that property name as key.\n",
      "\n",
      "Multidimensional properties *of fixed size* for a given image dimension,\n",
      "such as \"centroid\" (every centroid will have three elements in a 3D image,\n",
      "no matter the region size), will be split into that many columns, with the\n",
      "name {property_name}{separator}{element_num} (for 1D properties),\n",
      "{property_name}{separator}{elem_num0}{separator}{elem_num1} (for 2D\n",
      "properties), and so on.\n",
      "\n",
      "For multidimensional properties that don't have a fixed size, such as\n",
      "\"image\" (the image of a region varies in size depending on the region\n",
      "size), an object array will be used, with the corresponding property name\n",
      "as the key.\n",
      "\n",
      "Examples\n",
      "--------\n",
      ">>> from skimage import data, util, measure\n",
      ">>> image = data.coins()\n",
      ">>> label_image = measure.label(image > 110, connectivity=image.ndim)\n",
      ">>> props = measure.regionprops_table(label_image, image,\n",
      "...                           properties=['label', 'inertia_tensor',\n",
      "...                                       'inertia_tensor_eigvals'])\n",
      ">>> props  # doctest: +ELLIPSIS +SKIP\n",
      "{'label': array([ 1,  2, ...]), ...\n",
      " 'inertia_tensor-0-0': array([  4.012...e+03,   8.51..., ...]), ...\n",
      " ...,\n",
      " 'inertia_tensor_eigvals-1': array([  2.67...e+02,   2.83..., ...])}\n",
      "\n",
      "The resulting dictionary can be directly passed to pandas, if installed, to\n",
      "obtain a clean DataFrame:\n",
      "\n",
      ">>> import pandas as pd  # doctest: +SKIP\n",
      ">>> data = pd.DataFrame(props)  # doctest: +SKIP\n",
      ">>> data.head()  # doctest: +SKIP\n",
      "   label  inertia_tensor-0-0  ...  inertia_tensor_eigvals-1\n",
      "0      1         4012.909888  ...                267.065503\n",
      "1      2            8.514739  ...                  2.834806\n",
      "2      3            0.666667  ...                  0.000000\n",
      "3      4            0.000000  ...                  0.000000\n",
      "4      5            0.222222  ...                  0.111111\n",
      "\n",
      "[5 rows x 7 columns]\n",
      "\n",
      "If we want to measure a feature that does not come as a built-in\n",
      "property, we can define custom functions and pass them as\n",
      "``extra_properties``. For example, we can create a custom function\n",
      "that measures the intensity quartiles in a region:\n",
      "\n",
      ">>> from skimage import data, util, measure\n",
      ">>> import numpy as np\n",
      ">>> def quartiles(regionmask, intensity):\n",
      "...     return np.percentile(intensity[regionmask], q=(25, 50, 75))\n",
      ">>>\n",
      ">>> image = data.coins()\n",
      ">>> label_image = measure.label(image > 110, connectivity=image.ndim)\n",
      ">>> props = measure.regionprops_table(label_image, intensity_image=image,\n",
      "...                                   properties=('label',),\n",
      "...                                   extra_properties=(quartiles,))\n",
      ">>> import pandas as pd # doctest: +SKIP\n",
      ">>> pd.DataFrame(props).head() # doctest: +SKIP\n",
      "       label  quartiles-0  quartiles-1  quartiles-2\n",
      "0      1       117.00        123.0        130.0\n",
      "1      2       111.25        112.0        114.0\n",
      "2      3       111.00        111.0        111.0\n",
      "3      4       111.00        111.5        112.5\n",
      "4      5       112.50        113.0        114.0\n",
      "\u001b[0;31mFile:\u001b[0m      /pool0/data/steinadi/.conda/envs/sedi/lib/python3.7/site-packages/skimage/measure/_regionprops.py\n",
      "\u001b[0;31mType:\u001b[0m      function\n"
     ]
    }
   ],
   "source": [
    "regionprops_table?"
   ]
  },
  {
   "cell_type": "code",
   "execution_count": 249,
   "metadata": {},
   "outputs": [
    {
     "name": "stderr",
     "output_type": "stream",
     "text": [
      "/pool0/data/steinadi/.conda/envs/sedi/lib/python3.7/site-packages/skimage/io/_plugins/matplotlib_plugin.py:150: UserWarning: Low image data range; displaying image with stretched contrast.\n",
      "  lo, hi, cmap = _get_display_range(image)\n"
     ]
    },
    {
     "data": {
      "text/plain": [
       "<matplotlib.image.AxesImage at 0x7fe46e047410>"
      ]
     },
     "execution_count": 249,
     "metadata": {},
     "output_type": "execute_result"
    },
    {
     "data": {
      "image/png": "[encoded data removed]",
      "text/plain": [
       "<Figure size 432x288 with 2 Axes>"
      ]
     },
     "metadata": {
      "needs_background": "light"
     },
     "output_type": "display_data"
    }
   ],
   "source": [
    "blobs = label(rgb2gray(A) > 0, connectivity=2)\n",
    "imshow(blobs)"
   ]
  },
  {
   "cell_type": "markdown",
   "metadata": {},
   "source": [
    "YAY! DIFFERENT BLOBS"
   ]
  },
  {
   "cell_type": "markdown",
   "metadata": {},
   "source": [
    "List of all different properties: https://scikit-image.org/docs/stable/api/skimage.measure.html#skimage.measure.regionprops"
   ]
  },
  {
   "cell_type": "code",
   "execution_count": 246,
   "metadata": {},
   "outputs": [],
   "source": [
    "properties =['area','bbox','convex_area','bbox_area',\n",
    "             'major_axis_length', 'minor_axis_length',\n",
    "             'eccentricity']\n",
    "df = pd.DataFrame(regionprops_table(blobs, properties = properties))"
   ]
  },
  {
   "cell_type": "code",
   "execution_count": 247,
   "metadata": {},
   "outputs": [
    {
     "data": {
      "text/html": [
       "<div>\n",
       "<style scoped>\n",
       "    .dataframe tbody tr th:only-of-type {\n",
       "        vertical-align: middle;\n",
       "    }\n",
       "\n",
       "    .dataframe tbody tr th {\n",
       "        vertical-align: top;\n",
       "    }\n",
       "\n",
       "    .dataframe thead th {\n",
       "        text-align: right;\n",
       "    }\n",
       "</style>\n",
       "<table border=\"1\" class=\"dataframe\">\n",
       "  <thead>\n",
       "    <tr style=\"text-align: right;\">\n",
       "      <th></th>\n",
       "      <th>area</th>\n",
       "      <th>bbox-0</th>\n",
       "      <th>bbox-1</th>\n",
       "      <th>bbox-2</th>\n",
       "      <th>bbox-3</th>\n",
       "      <th>convex_area</th>\n",
       "      <th>bbox_area</th>\n",
       "      <th>major_axis_length</th>\n",
       "      <th>minor_axis_length</th>\n",
       "      <th>eccentricity</th>\n",
       "    </tr>\n",
       "  </thead>\n",
       "  <tbody>\n",
       "    <tr>\n",
       "      <th>0</th>\n",
       "      <td>2631</td>\n",
       "      <td>0</td>\n",
       "      <td>93</td>\n",
       "      <td>54</td>\n",
       "      <td>152</td>\n",
       "      <td>2685</td>\n",
       "      <td>3186</td>\n",
       "      <td>63.273580</td>\n",
       "      <td>54.261958</td>\n",
       "      <td>0.514356</td>\n",
       "    </tr>\n",
       "    <tr>\n",
       "      <th>1</th>\n",
       "      <td>813</td>\n",
       "      <td>15</td>\n",
       "      <td>1</td>\n",
       "      <td>52</td>\n",
       "      <td>36</td>\n",
       "      <td>933</td>\n",
       "      <td>1295</td>\n",
       "      <td>41.588572</td>\n",
       "      <td>27.159956</td>\n",
       "      <td>0.757304</td>\n",
       "    </tr>\n",
       "  </tbody>\n",
       "</table>\n",
       "</div>"
      ],
      "text/plain": [
       "   area  bbox-0  bbox-1  bbox-2  bbox-3  convex_area  bbox_area  \\\n",
       "0  2631       0      93      54     152         2685       3186   \n",
       "1   813      15       1      52      36          933       1295   \n",
       "\n",
       "   major_axis_length  minor_axis_length  eccentricity  \n",
       "0          63.273580          54.261958      0.514356  \n",
       "1          41.588572          27.159956      0.757304  "
      ]
     },
     "execution_count": 247,
     "metadata": {},
     "output_type": "execute_result"
    }
   ],
   "source": [
    "df"
   ]
  },
  {
   "cell_type": "markdown",
   "metadata": {},
   "source": [
    "let's put that in a nicer function"
   ]
  },
  {
   "cell_type": "code",
   "execution_count": 253,
   "metadata": {},
   "outputs": [
    {
     "data": {
      "text/plain": [
       "(84, 188)"
      ]
     },
     "execution_count": 253,
     "metadata": {},
     "output_type": "execute_result"
    }
   ],
   "source": [
    "(h, w) = test_vals.shape\n",
    "h, w"
   ]
  },
  {
   "cell_type": "code",
   "execution_count": 275,
   "metadata": {},
   "outputs": [],
   "source": [
    "from shapely.geometry import Polygon"
   ]
  },
  {
   "cell_type": "code",
   "execution_count": 329,
   "metadata": {},
   "outputs": [],
   "source": [
    "def identify_drought_blob(vals:np.ndarray):\n",
    "\n",
    "    # first we're going to make this binary\n",
    "    # by setting data in a drought to 1 and\n",
    "    # not in a drought to 0, including nan\n",
    "\n",
    "    vals[(vals < 1) | np.isnan(vals)] = 0\n",
    "    vals[vals > 0] = 1\n",
    "\n",
    "    # now we are going to convert to RGB\n",
    "    (h, w) = vals.shape\n",
    "    t = (h, w, 3)\n",
    "    A = np.zeros(t, dtype=np.uint8)\n",
    "    for i in range(h):\n",
    "        for j in range(w):\n",
    "            # since we already made it binary, this\n",
    "            # will make 1 vals be white and 0 vals\n",
    "            # be black in our RGB array\n",
    "            color_val = 255*vals[i,j]\n",
    "            A[i, j] = [color_val, color_val, color_val]\n",
    "\n",
    "    # connectivity 2 will consider diagonals as connected\n",
    "    blobs = label(rgb2gray(A) > 0, connectivity=2)\n",
    "\n",
    "    properties =['area','bbox','convex_area','coords']\n",
    "    df = pd.DataFrame(regionprops_table(blobs, properties=properties))\n",
    "\n",
    "    return df\n",
    "\n",
    "    poly_geos = []\n",
    "    for coords in df.coords.values:\n",
    "        poly_geos.append(Polygon(zip(coords[:,1], coords[:,0])))    \n",
    "\n",
    "    return gpd.GeoDataFrame(df[['area']], geometry = poly_geos)"
   ]
  },
  {
   "cell_type": "code",
   "execution_count": 330,
   "metadata": {},
   "outputs": [
    {
     "data": {
      "text/html": [
       "<div>\n",
       "<style scoped>\n",
       "    .dataframe tbody tr th:only-of-type {\n",
       "        vertical-align: middle;\n",
       "    }\n",
       "\n",
       "    .dataframe tbody tr th {\n",
       "        vertical-align: top;\n",
       "    }\n",
       "\n",
       "    .dataframe thead th {\n",
       "        text-align: right;\n",
       "    }\n",
       "</style>\n",
       "<table border=\"1\" class=\"dataframe\">\n",
       "  <thead>\n",
       "    <tr style=\"text-align: right;\">\n",
       "      <th></th>\n",
       "      <th>area</th>\n",
       "      <th>bbox-0</th>\n",
       "      <th>bbox-1</th>\n",
       "      <th>bbox-2</th>\n",
       "      <th>bbox-3</th>\n",
       "      <th>convex_area</th>\n",
       "      <th>coords</th>\n",
       "    </tr>\n",
       "  </thead>\n",
       "  <tbody>\n",
       "    <tr>\n",
       "      <th>0</th>\n",
       "      <td>2631</td>\n",
       "      <td>0</td>\n",
       "      <td>93</td>\n",
       "      <td>54</td>\n",
       "      <td>152</td>\n",
       "      <td>2685</td>\n",
       "      <td>[[0, 100], [0, 101], [0, 102], [0, 103], [0, 1...</td>\n",
       "    </tr>\n",
       "    <tr>\n",
       "      <th>1</th>\n",
       "      <td>813</td>\n",
       "      <td>15</td>\n",
       "      <td>1</td>\n",
       "      <td>52</td>\n",
       "      <td>36</td>\n",
       "      <td>933</td>\n",
       "      <td>[[15, 1], [15, 2], [15, 3], [15, 4], [16, 2], ...</td>\n",
       "    </tr>\n",
       "  </tbody>\n",
       "</table>\n",
       "</div>"
      ],
      "text/plain": [
       "   area  bbox-0  bbox-1  bbox-2  bbox-3  convex_area  \\\n",
       "0  2631       0      93      54     152         2685   \n",
       "1   813      15       1      52      36          933   \n",
       "\n",
       "                                              coords  \n",
       "0  [[0, 100], [0, 101], [0, 102], [0, 103], [0, 1...  \n",
       "1  [[15, 1], [15, 2], [15, 3], [15, 4], [16, 2], ...  "
      ]
     },
     "execution_count": 330,
     "metadata": {},
     "output_type": "execute_result"
    }
   ],
   "source": [
    "blobs = identify_drought_blob(test_vals)\n",
    "blobs"
   ]
  },
  {
   "cell_type": "code",
   "execution_count": 331,
   "metadata": {},
   "outputs": [],
   "source": [
    "blob_x = blobs.coords.values[0][:,1]\n",
    "blob_y = blobs.coords.values[0][:,0]"
   ]
  },
  {
   "cell_type": "code",
   "execution_count": 333,
   "metadata": {},
   "outputs": [
    {
     "data": {
      "text/plain": [
       "<matplotlib.collections.PathCollection at 0x7fe46be8b690>"
      ]
     },
     "execution_count": 333,
     "metadata": {},
     "output_type": "execute_result"
    },
    {
     "data": {
      "image/png": "[encoded data removed]",
      "text/plain": [
       "<Figure size 432x288 with 1 Axes>"
      ]
     },
     "metadata": {
      "needs_background": "light"
     },
     "output_type": "display_data"
    }
   ],
   "source": [
    "fig, ax = plt.subplots()\n",
    "\n",
    "ax.scatter(blob_x, blob_y, s=0.1)"
   ]
  },
  {
   "cell_type": "markdown",
   "metadata": {},
   "source": [
    "OH. That's why my conversion to Polygon keeps looking funky. `coords` gets all the pixels that are in the blob"
   ]
  },
  {
   "cell_type": "markdown",
   "metadata": {},
   "source": [
    "Actually the easiest solution to detecting if they are the same via overlap is to see if they share any of the same pixels. Now this won't handle something diverging, but it's a start."
   ]
  },
  {
   "cell_type": "markdown",
   "metadata": {},
   "source": [
    "Let's test that"
   ]
  },
  {
   "cell_type": "code",
   "execution_count": 343,
   "metadata": {},
   "outputs": [
    {
     "data": {
      "image/png": "[encoded data removed]",
      "text/plain": [
       "<Figure size 720x360 with 4 Axes>"
      ]
     },
     "metadata": {
      "needs_background": "light"
     },
     "output_type": "display_data"
    }
   ],
   "source": [
    "fig, axs = plt.subplots(2,1, figsize=(10,5))\n",
    "\n",
    "for ax, idx in zip(axs.ravel(), [500, 501]):\n",
    "    test.sel(index=idx).plot(ax=ax, vmin=-1, vmax=4, cmap=ndplot.usdm_cmap())\n",
    "    ax.set_facecolor('gray')\n",
    "    ax.set_aspect('equal')\n",
    "\n",
    "plt.tight_layout()"
   ]
  },
  {
   "cell_type": "markdown",
   "metadata": {},
   "source": [
    "Cool, those are pretty similar and will suffice"
   ]
  },
  {
   "cell_type": "code",
   "execution_count": 345,
   "metadata": {},
   "outputs": [
    {
     "data": {
      "text/html": [
       "<div>\n",
       "<style scoped>\n",
       "    .dataframe tbody tr th:only-of-type {\n",
       "        vertical-align: middle;\n",
       "    }\n",
       "\n",
       "    .dataframe tbody tr th {\n",
       "        vertical-align: top;\n",
       "    }\n",
       "\n",
       "    .dataframe thead th {\n",
       "        text-align: right;\n",
       "    }\n",
       "</style>\n",
       "<table border=\"1\" class=\"dataframe\">\n",
       "  <thead>\n",
       "    <tr style=\"text-align: right;\">\n",
       "      <th></th>\n",
       "      <th>area</th>\n",
       "      <th>bbox-0</th>\n",
       "      <th>bbox-1</th>\n",
       "      <th>bbox-2</th>\n",
       "      <th>bbox-3</th>\n",
       "      <th>convex_area</th>\n",
       "      <th>coords</th>\n",
       "    </tr>\n",
       "  </thead>\n",
       "  <tbody>\n",
       "    <tr>\n",
       "      <th>0</th>\n",
       "      <td>2631</td>\n",
       "      <td>0</td>\n",
       "      <td>93</td>\n",
       "      <td>54</td>\n",
       "      <td>152</td>\n",
       "      <td>2685</td>\n",
       "      <td>[[0, 100], [0, 101], [0, 102], [0, 103], [0, 1...</td>\n",
       "    </tr>\n",
       "    <tr>\n",
       "      <th>1</th>\n",
       "      <td>813</td>\n",
       "      <td>15</td>\n",
       "      <td>1</td>\n",
       "      <td>52</td>\n",
       "      <td>36</td>\n",
       "      <td>933</td>\n",
       "      <td>[[15, 1], [15, 2], [15, 3], [15, 4], [16, 2], ...</td>\n",
       "    </tr>\n",
       "  </tbody>\n",
       "</table>\n",
       "</div>"
      ],
      "text/plain": [
       "   area  bbox-0  bbox-1  bbox-2  bbox-3  convex_area  \\\n",
       "0  2631       0      93      54     152         2685   \n",
       "1   813      15       1      52      36          933   \n",
       "\n",
       "                                              coords  \n",
       "0  [[0, 100], [0, 101], [0, 102], [0, 103], [0, 1...  \n",
       "1  [[15, 1], [15, 2], [15, 3], [15, 4], [16, 2], ...  "
      ]
     },
     "execution_count": 345,
     "metadata": {},
     "output_type": "execute_result"
    }
   ],
   "source": [
    "blobs_i500 = identify_drought_blob(test.sel(index=500).values)\n",
    "blobs_i500"
   ]
  },
  {
   "cell_type": "code",
   "execution_count": 347,
   "metadata": {},
   "outputs": [
    {
     "data": {
      "text/html": [
       "<div>\n",
       "<style scoped>\n",
       "    .dataframe tbody tr th:only-of-type {\n",
       "        vertical-align: middle;\n",
       "    }\n",
       "\n",
       "    .dataframe tbody tr th {\n",
       "        vertical-align: top;\n",
       "    }\n",
       "\n",
       "    .dataframe thead th {\n",
       "        text-align: right;\n",
       "    }\n",
       "</style>\n",
       "<table border=\"1\" class=\"dataframe\">\n",
       "  <thead>\n",
       "    <tr style=\"text-align: right;\">\n",
       "      <th></th>\n",
       "      <th>area</th>\n",
       "      <th>bbox-0</th>\n",
       "      <th>bbox-1</th>\n",
       "      <th>bbox-2</th>\n",
       "      <th>bbox-3</th>\n",
       "      <th>convex_area</th>\n",
       "      <th>coords</th>\n",
       "    </tr>\n",
       "  </thead>\n",
       "  <tbody>\n",
       "    <tr>\n",
       "      <th>0</th>\n",
       "      <td>2631</td>\n",
       "      <td>0</td>\n",
       "      <td>93</td>\n",
       "      <td>54</td>\n",
       "      <td>152</td>\n",
       "      <td>2685</td>\n",
       "      <td>[[0, 100], [0, 101], [0, 102], [0, 103], [0, 1...</td>\n",
       "    </tr>\n",
       "    <tr>\n",
       "      <th>1</th>\n",
       "      <td>813</td>\n",
       "      <td>15</td>\n",
       "      <td>1</td>\n",
       "      <td>52</td>\n",
       "      <td>36</td>\n",
       "      <td>933</td>\n",
       "      <td>[[15, 1], [15, 2], [15, 3], [15, 4], [16, 2], ...</td>\n",
       "    </tr>\n",
       "  </tbody>\n",
       "</table>\n",
       "</div>"
      ],
      "text/plain": [
       "   area  bbox-0  bbox-1  bbox-2  bbox-3  convex_area  \\\n",
       "0  2631       0      93      54     152         2685   \n",
       "1   813      15       1      52      36          933   \n",
       "\n",
       "                                              coords  \n",
       "0  [[0, 100], [0, 101], [0, 102], [0, 103], [0, 1...  \n",
       "1  [[15, 1], [15, 2], [15, 3], [15, 4], [16, 2], ...  "
      ]
     },
     "execution_count": 347,
     "metadata": {},
     "output_type": "execute_result"
    }
   ],
   "source": [
    "blobs_i501 = identify_drought_blob(test.sel(index=501).values)\n",
    "blobs_i501"
   ]
  },
  {
   "cell_type": "code",
   "execution_count": 352,
   "metadata": {},
   "outputs": [
    {
     "data": {
      "text/plain": [
       "array([ 1,  2,  3,  4,  5,  6,  7,  8,  9, 10, 11, 12, 13, 14, 15, 16, 17,\n",
       "       18, 19, 20, 21, 22, 23, 24, 25, 26, 27, 28, 29, 30, 31, 32, 33, 34,\n",
       "       35, 36, 37, 38, 39, 40, 41, 42, 43, 44, 45, 46, 47, 48, 49, 50, 51])"
      ]
     },
     "execution_count": 352,
     "metadata": {},
     "output_type": "execute_result"
    }
   ],
   "source": [
    "np.intersect1d(blobs_i501.coords.values[0], blobs_i500.coords.values[1])"
   ]
  },
  {
   "cell_type": "code",
   "execution_count": 367,
   "metadata": {},
   "outputs": [],
   "source": [
    "blob_dict = dict()\n",
    "\n",
    "for a, coords_i501 in enumerate(blobs_i501.coords.values):\n",
    "    coords_i501_set = set(tuple(coord) for coord in coords_i501)\n",
    "    for b, coords_i500 in enumerate(blobs_i500.coords.values):\n",
    "        coords_i500_set = set(tuple(coord) for coord in coords_i500)\n",
    "        if len(coords_i501_set.intersection(coords_i500_set)) > 0:\n",
    "            blob_dict[a] = b"
   ]
  },
  {
   "cell_type": "code",
   "execution_count": 368,
   "metadata": {},
   "outputs": [
    {
     "data": {
      "text/plain": [
       "{0: 0, 1: 1}"
      ]
     },
     "execution_count": 368,
     "metadata": {},
     "output_type": "execute_result"
    }
   ],
   "source": [
    "blob_dict"
   ]
  },
  {
   "cell_type": "markdown",
   "metadata": {},
   "source": [
    "Awesome. I'm not sure the efficiency of that solution but it's a solution"
   ]
  },
  {
   "cell_type": "markdown",
   "metadata": {},
   "source": [
    "Now how would we handle blobs splitting into new blobs or joining into one blob ..."
   ]
  },
  {
   "cell_type": "code",
   "execution_count": null,
   "metadata": {},
   "outputs": [],
   "source": []
  }
 ],
 "metadata": {
  "kernelspec": {
   "display_name": "Python 3.7.12 ('sedi')",
   "language": "python",
   "name": "python3"
  },
  "language_info": {
   "codemirror_mode": {
    "name": "ipython",
    "version": 3
   },
   "file_extension": ".py",
   "mimetype": "text/x-python",
   "name": "python",
   "nbconvert_exporter": "python",
   "pygments_lexer": "ipython3",
   "version": "3.7.12"
  },
  "orig_nbformat": 4,
  "vscode": {
   "interpreter": {
    "hash": "5585d616cc037afe4e5997f9d5ad9938ec3148b25e01a6d2931d801949bec716"
   }
  }
 },
 "nbformat": 4,
 "nbformat_minor": 2
}
