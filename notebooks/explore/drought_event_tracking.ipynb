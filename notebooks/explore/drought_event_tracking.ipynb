{
 "cells": [
  {
   "cell_type": "markdown",
   "metadata": {},
   "source": [
    "# Drought Event Tracking\n",
    "\n",
    "a. stein 7.8.2022\n",
    "\n",
    "A useful piece of information would be how big different droughts get because each pixel is impacted by its neighbor. Through blob tracking, I might be able to detect different drought events and their areas over time as they come and go."
   ]
  },
  {
   "cell_type": "code",
   "execution_count": 23,
   "metadata": {},
   "outputs": [
    {
     "name": "stdout",
     "output_type": "stream",
     "text": [
      "Populating the interactive namespace from numpy and matplotlib\n",
      "The autoreload extension is already loaded. To reload it, use:\n",
      "  %reload_ext autoreload\n"
     ]
    },
    {
     "name": "stderr",
     "output_type": "stream",
     "text": [
      "/pool0/data/steinadi/.conda/envs/sedi/lib/python3.7/site-packages/IPython/core/magics/pylab.py:160: UserWarning: pylab import has clobbered these variables: ['gray']\n",
      "`%matplotlib` prevents importing * from pylab and numpy\n",
      "  \"\\n`%matplotlib` prevents importing * from pylab and numpy\"\n"
     ]
    }
   ],
   "source": [
    "%pylab inline\n",
    "%load_ext autoreload\n",
    "%autoreload 2\n",
    "%reload_ext autoreload\n",
    "\n",
    "import xarray as xr\n",
    "import rioxarray\n",
    "import rasterio as rio\n",
    "import pandas as pd\n",
    "import geopandas as gpd\n",
    "\n",
    "import matplotlib.dates as mdates\n",
    "\n",
    "from tqdm.autonotebook import tqdm\n",
    "\n",
    "import sys\n",
    "sys.path.append('../../')\n",
    "import ndrought.wrangle as wrangle\n",
    "import ndrought.compare as compare\n",
    "import ndrought.plotting as ndplot"
   ]
  },
  {
   "cell_type": "markdown",
   "metadata": {},
   "source": [
    "Load in data"
   ]
  },
  {
   "cell_type": "code",
   "execution_count": 24,
   "metadata": {},
   "outputs": [],
   "source": [
    "dm_path = '/pool0/home/steinadi/data/drought/drought_impact/data/drought_measures'\n",
    "\n",
    "spi_intervals = ['14d', '30d', '90d', '180d', '270d', '1y', '2y', '5y', ]\n",
    "cats = ['neutral_wet', 'D0', 'D1', 'D2', 'D3', 'D4']\n",
    "\n",
    "dm_vars = ['USDM']\n",
    "dm_vars.extend([f'spi_{interval}' for interval in spi_intervals])\n",
    "\n",
    "paired_ds = xr.open_dataset(f'{dm_path}/ndrought_products/paired_USDM_SPI.nc')"
   ]
  },
  {
   "cell_type": "code",
   "execution_count": 25,
   "metadata": {},
   "outputs": [
    {
     "data": {
      "text/html": [
       "<div><svg style=\"position: absolute; width: 0; height: 0; overflow: hidden\">\n",
       "<defs>\n",
       "<symbol id=\"icon-database\" viewBox=\"0 0 32 32\">\n",
       "<path d=\"M16 0c-8.837 0-16 2.239-16 5v4c0 2.761 7.163 5 16 5s16-2.239 16-5v-4c0-2.761-7.163-5-16-5z\"></path>\n",
       "<path d=\"M16 17c-8.837 0-16-2.239-16-5v6c0 2.761 7.163 5 16 5s16-2.239 16-5v-6c0 2.761-7.163 5-16 5z\"></path>\n",
       "<path d=\"M16 26c-8.837 0-16-2.239-16-5v6c0 2.761 7.163 5 16 5s16-2.239 16-5v-6c0 2.761-7.163 5-16 5z\"></path>\n",
       "</symbol>\n",
       "<symbol id=\"icon-file-text2\" viewBox=\"0 0 32 32\">\n",
       "<path d=\"M28.681 7.159c-0.694-0.947-1.662-2.053-2.724-3.116s-2.169-2.030-3.116-2.724c-1.612-1.182-2.393-1.319-2.841-1.319h-15.5c-1.378 0-2.5 1.121-2.5 2.5v27c0 1.378 1.122 2.5 2.5 2.5h23c1.378 0 2.5-1.122 2.5-2.5v-19.5c0-0.448-0.137-1.23-1.319-2.841zM24.543 5.457c0.959 0.959 1.712 1.825 2.268 2.543h-4.811v-4.811c0.718 0.556 1.584 1.309 2.543 2.268zM28 29.5c0 0.271-0.229 0.5-0.5 0.5h-23c-0.271 0-0.5-0.229-0.5-0.5v-27c0-0.271 0.229-0.5 0.5-0.5 0 0 15.499-0 15.5 0v7c0 0.552 0.448 1 1 1h7v19.5z\"></path>\n",
       "<path d=\"M23 26h-14c-0.552 0-1-0.448-1-1s0.448-1 1-1h14c0.552 0 1 0.448 1 1s-0.448 1-1 1z\"></path>\n",
       "<path d=\"M23 22h-14c-0.552 0-1-0.448-1-1s0.448-1 1-1h14c0.552 0 1 0.448 1 1s-0.448 1-1 1z\"></path>\n",
       "<path d=\"M23 18h-14c-0.552 0-1-0.448-1-1s0.448-1 1-1h14c0.552 0 1 0.448 1 1s-0.448 1-1 1z\"></path>\n",
       "</symbol>\n",
       "</defs>\n",
       "</svg>\n",
       "<style>/* CSS stylesheet for displaying xarray objects in jupyterlab.\n",
       " *\n",
       " */\n",
       "\n",
       ":root {\n",
       "  --xr-font-color0: var(--jp-content-font-color0, rgba(0, 0, 0, 1));\n",
       "  --xr-font-color2: var(--jp-content-font-color2, rgba(0, 0, 0, 0.54));\n",
       "  --xr-font-color3: var(--jp-content-font-color3, rgba(0, 0, 0, 0.38));\n",
       "  --xr-border-color: var(--jp-border-color2, #e0e0e0);\n",
       "  --xr-disabled-color: var(--jp-layout-color3, #bdbdbd);\n",
       "  --xr-background-color: var(--jp-layout-color0, white);\n",
       "  --xr-background-color-row-even: var(--jp-layout-color1, white);\n",
       "  --xr-background-color-row-odd: var(--jp-layout-color2, #eeeeee);\n",
       "}\n",
       "\n",
       "html[theme=dark],\n",
       "body.vscode-dark {\n",
       "  --xr-font-color0: rgba(255, 255, 255, 1);\n",
       "  --xr-font-color2: rgba(255, 255, 255, 0.54);\n",
       "  --xr-font-color3: rgba(255, 255, 255, 0.38);\n",
       "  --xr-border-color: #1F1F1F;\n",
       "  --xr-disabled-color: #515151;\n",
       "  --xr-background-color: #111111;\n",
       "  --xr-background-color-row-even: #111111;\n",
       "  --xr-background-color-row-odd: #313131;\n",
       "}\n",
       "\n",
       ".xr-wrap {\n",
       "  display: block !important;\n",
       "  min-width: 300px;\n",
       "  max-width: 700px;\n",
       "}\n",
       "\n",
       ".xr-text-repr-fallback {\n",
       "  /* fallback to plain text repr when CSS is not injected (untrusted notebook) */\n",
       "  display: none;\n",
       "}\n",
       "\n",
       ".xr-header {\n",
       "  padding-top: 6px;\n",
       "  padding-bottom: 6px;\n",
       "  margin-bottom: 4px;\n",
       "  border-bottom: solid 1px var(--xr-border-color);\n",
       "}\n",
       "\n",
       ".xr-header > div,\n",
       ".xr-header > ul {\n",
       "  display: inline;\n",
       "  margin-top: 0;\n",
       "  margin-bottom: 0;\n",
       "}\n",
       "\n",
       ".xr-obj-type,\n",
       ".xr-array-name {\n",
       "  margin-left: 2px;\n",
       "  margin-right: 10px;\n",
       "}\n",
       "\n",
       ".xr-obj-type {\n",
       "  color: var(--xr-font-color2);\n",
       "}\n",
       "\n",
       ".xr-sections {\n",
       "  padding-left: 0 !important;\n",
       "  display: grid;\n",
       "  grid-template-columns: 150px auto auto 1fr 20px 20px;\n",
       "}\n",
       "\n",
       ".xr-section-item {\n",
       "  display: contents;\n",
       "}\n",
       "\n",
       ".xr-section-item input {\n",
       "  display: none;\n",
       "}\n",
       "\n",
       ".xr-section-item input + label {\n",
       "  color: var(--xr-disabled-color);\n",
       "}\n",
       "\n",
       ".xr-section-item input:enabled + label {\n",
       "  cursor: pointer;\n",
       "  color: var(--xr-font-color2);\n",
       "}\n",
       "\n",
       ".xr-section-item input:enabled + label:hover {\n",
       "  color: var(--xr-font-color0);\n",
       "}\n",
       "\n",
       ".xr-section-summary {\n",
       "  grid-column: 1;\n",
       "  color: var(--xr-font-color2);\n",
       "  font-weight: 500;\n",
       "}\n",
       "\n",
       ".xr-section-summary > span {\n",
       "  display: inline-block;\n",
       "  padding-left: 0.5em;\n",
       "}\n",
       "\n",
       ".xr-section-summary-in:disabled + label {\n",
       "  color: var(--xr-font-color2);\n",
       "}\n",
       "\n",
       ".xr-section-summary-in + label:before {\n",
       "  display: inline-block;\n",
       "  content: '►';\n",
       "  font-size: 11px;\n",
       "  width: 15px;\n",
       "  text-align: center;\n",
       "}\n",
       "\n",
       ".xr-section-summary-in:disabled + label:before {\n",
       "  color: var(--xr-disabled-color);\n",
       "}\n",
       "\n",
       ".xr-section-summary-in:checked + label:before {\n",
       "  content: '▼';\n",
       "}\n",
       "\n",
       ".xr-section-summary-in:checked + label > span {\n",
       "  display: none;\n",
       "}\n",
       "\n",
       ".xr-section-summary,\n",
       ".xr-section-inline-details {\n",
       "  padding-top: 4px;\n",
       "  padding-bottom: 4px;\n",
       "}\n",
       "\n",
       ".xr-section-inline-details {\n",
       "  grid-column: 2 / -1;\n",
       "}\n",
       "\n",
       ".xr-section-details {\n",
       "  display: none;\n",
       "  grid-column: 1 / -1;\n",
       "  margin-bottom: 5px;\n",
       "}\n",
       "\n",
       ".xr-section-summary-in:checked ~ .xr-section-details {\n",
       "  display: contents;\n",
       "}\n",
       "\n",
       ".xr-array-wrap {\n",
       "  grid-column: 1 / -1;\n",
       "  display: grid;\n",
       "  grid-template-columns: 20px auto;\n",
       "}\n",
       "\n",
       ".xr-array-wrap > label {\n",
       "  grid-column: 1;\n",
       "  vertical-align: top;\n",
       "}\n",
       "\n",
       ".xr-preview {\n",
       "  color: var(--xr-font-color3);\n",
       "}\n",
       "\n",
       ".xr-array-preview,\n",
       ".xr-array-data {\n",
       "  padding: 0 5px !important;\n",
       "  grid-column: 2;\n",
       "}\n",
       "\n",
       ".xr-array-data,\n",
       ".xr-array-in:checked ~ .xr-array-preview {\n",
       "  display: none;\n",
       "}\n",
       "\n",
       ".xr-array-in:checked ~ .xr-array-data,\n",
       ".xr-array-preview {\n",
       "  display: inline-block;\n",
       "}\n",
       "\n",
       ".xr-dim-list {\n",
       "  display: inline-block !important;\n",
       "  list-style: none;\n",
       "  padding: 0 !important;\n",
       "  margin: 0;\n",
       "}\n",
       "\n",
       ".xr-dim-list li {\n",
       "  display: inline-block;\n",
       "  padding: 0;\n",
       "  margin: 0;\n",
       "}\n",
       "\n",
       ".xr-dim-list:before {\n",
       "  content: '(';\n",
       "}\n",
       "\n",
       ".xr-dim-list:after {\n",
       "  content: ')';\n",
       "}\n",
       "\n",
       ".xr-dim-list li:not(:last-child):after {\n",
       "  content: ',';\n",
       "  padding-right: 5px;\n",
       "}\n",
       "\n",
       ".xr-has-index {\n",
       "  font-weight: bold;\n",
       "}\n",
       "\n",
       ".xr-var-list,\n",
       ".xr-var-item {\n",
       "  display: contents;\n",
       "}\n",
       "\n",
       ".xr-var-item > div,\n",
       ".xr-var-item label,\n",
       ".xr-var-item > .xr-var-name span {\n",
       "  background-color: var(--xr-background-color-row-even);\n",
       "  margin-bottom: 0;\n",
       "}\n",
       "\n",
       ".xr-var-item > .xr-var-name:hover span {\n",
       "  padding-right: 5px;\n",
       "}\n",
       "\n",
       ".xr-var-list > li:nth-child(odd) > div,\n",
       ".xr-var-list > li:nth-child(odd) > label,\n",
       ".xr-var-list > li:nth-child(odd) > .xr-var-name span {\n",
       "  background-color: var(--xr-background-color-row-odd);\n",
       "}\n",
       "\n",
       ".xr-var-name {\n",
       "  grid-column: 1;\n",
       "}\n",
       "\n",
       ".xr-var-dims {\n",
       "  grid-column: 2;\n",
       "}\n",
       "\n",
       ".xr-var-dtype {\n",
       "  grid-column: 3;\n",
       "  text-align: right;\n",
       "  color: var(--xr-font-color2);\n",
       "}\n",
       "\n",
       ".xr-var-preview {\n",
       "  grid-column: 4;\n",
       "}\n",
       "\n",
       ".xr-var-name,\n",
       ".xr-var-dims,\n",
       ".xr-var-dtype,\n",
       ".xr-preview,\n",
       ".xr-attrs dt {\n",
       "  white-space: nowrap;\n",
       "  overflow: hidden;\n",
       "  text-overflow: ellipsis;\n",
       "  padding-right: 10px;\n",
       "}\n",
       "\n",
       ".xr-var-name:hover,\n",
       ".xr-var-dims:hover,\n",
       ".xr-var-dtype:hover,\n",
       ".xr-attrs dt:hover {\n",
       "  overflow: visible;\n",
       "  width: auto;\n",
       "  z-index: 1;\n",
       "}\n",
       "\n",
       ".xr-var-attrs,\n",
       ".xr-var-data {\n",
       "  display: none;\n",
       "  background-color: var(--xr-background-color) !important;\n",
       "  padding-bottom: 5px !important;\n",
       "}\n",
       "\n",
       ".xr-var-attrs-in:checked ~ .xr-var-attrs,\n",
       ".xr-var-data-in:checked ~ .xr-var-data {\n",
       "  display: block;\n",
       "}\n",
       "\n",
       ".xr-var-data > table {\n",
       "  float: right;\n",
       "}\n",
       "\n",
       ".xr-var-name span,\n",
       ".xr-var-data,\n",
       ".xr-attrs {\n",
       "  padding-left: 25px !important;\n",
       "}\n",
       "\n",
       ".xr-attrs,\n",
       ".xr-var-attrs,\n",
       ".xr-var-data {\n",
       "  grid-column: 1 / -1;\n",
       "}\n",
       "\n",
       "dl.xr-attrs {\n",
       "  padding: 0;\n",
       "  margin: 0;\n",
       "  display: grid;\n",
       "  grid-template-columns: 125px auto;\n",
       "}\n",
       "\n",
       ".xr-attrs dt,\n",
       ".xr-attrs dd {\n",
       "  padding: 0;\n",
       "  margin: 0;\n",
       "  float: left;\n",
       "  padding-right: 10px;\n",
       "  width: auto;\n",
       "}\n",
       "\n",
       ".xr-attrs dt {\n",
       "  font-weight: normal;\n",
       "  grid-column: 1;\n",
       "}\n",
       "\n",
       ".xr-attrs dt:hover span {\n",
       "  display: inline-block;\n",
       "  background: var(--xr-background-color);\n",
       "  padding-right: 10px;\n",
       "}\n",
       "\n",
       ".xr-attrs dd {\n",
       "  grid-column: 2;\n",
       "  white-space: pre-wrap;\n",
       "  word-break: break-all;\n",
       "}\n",
       "\n",
       ".xr-icon-database,\n",
       ".xr-icon-file-text2 {\n",
       "  display: inline-block;\n",
       "  vertical-align: middle;\n",
       "  width: 1em;\n",
       "  height: 1.5em !important;\n",
       "  stroke-width: 0;\n",
       "  stroke: currentColor;\n",
       "  fill: currentColor;\n",
       "}\n",
       "</style><pre class='xr-text-repr-fallback'>&lt;xarray.Dataset&gt;\n",
       "Dimensions:      (lat: 84, lon: 188, index: 1148)\n",
       "Coordinates:\n",
       "  * lat          (lat) float64 48.98 48.94 48.9 48.86 ... 45.61 45.57 45.53\n",
       "  * lon          (lon) float64 -124.7 -124.7 -124.6 ... -117.0 -117.0 -116.9\n",
       "  * index        (index) int64 0 1 2 3 4 5 6 ... 1142 1143 1144 1145 1146 1147\n",
       "Data variables:\n",
       "    spatial_ref  int64 0\n",
       "    USDM         (index, lat, lon) float64 ...\n",
       "    USDM Date    (index) datetime64[ns] 2000-01-04 2000-01-11 ... 2021-12-28\n",
       "    spi_1y       (index, lat, lon) float32 ...\n",
       "    spi_2y       (index, lat, lon) float32 ...\n",
       "    spi_5y       (index, lat, lon) float32 ...\n",
       "    spi_14d      (index, lat, lon) float32 ...\n",
       "    spi_30d      (index, lat, lon) float32 ...\n",
       "    spi_90d      (index, lat, lon) float32 ...\n",
       "    spi_180d     (index, lat, lon) float32 ...\n",
       "    spi_270d     (index, lat, lon) float32 ...\n",
       "    SPI Date     (index) datetime64[ns] 1999-12-31 2000-01-10 ... 2021-12-26\n",
       "Attributes:\n",
       "    author:       a. stein 6/8/2022\n",
       "    description:  USDM and SPI matched to USDM data cutoff dates, as describe...\n",
       "    USDM Date:    this contains the original dates for USDM\n",
       "    SPI Date:     this contains the original dates for SPI</pre><div class='xr-wrap' style='display:none'><div class='xr-header'><div class='xr-obj-type'>xarray.Dataset</div></div><ul class='xr-sections'><li class='xr-section-item'><input id='section-fd2df31a-16f8-4c1a-943e-6bd49bed7e17' class='xr-section-summary-in' type='checkbox' disabled ><label for='section-fd2df31a-16f8-4c1a-943e-6bd49bed7e17' class='xr-section-summary'  title='Expand/collapse section'>Dimensions:</label><div class='xr-section-inline-details'><ul class='xr-dim-list'><li><span class='xr-has-index'>lat</span>: 84</li><li><span class='xr-has-index'>lon</span>: 188</li><li><span class='xr-has-index'>index</span>: 1148</li></ul></div><div class='xr-section-details'></div></li><li class='xr-section-item'><input id='section-b60a6a31-3e75-4984-9422-9d3f8bd94f6c' class='xr-section-summary-in' type='checkbox'  checked><label for='section-b60a6a31-3e75-4984-9422-9d3f8bd94f6c' class='xr-section-summary' >Coordinates: <span>(3)</span></label><div class='xr-section-inline-details'></div><div class='xr-section-details'><ul class='xr-var-list'><li class='xr-var-item'><div class='xr-var-name'><span class='xr-has-index'>lat</span></div><div class='xr-var-dims'>(lat)</div><div class='xr-var-dtype'>float64</div><div class='xr-var-preview xr-preview'>48.98 48.94 48.9 ... 45.57 45.53</div><input id='attrs-7a04add1-c284-447d-ae97-cdbfd464befe' class='xr-var-attrs-in' type='checkbox' disabled><label for='attrs-7a04add1-c284-447d-ae97-cdbfd464befe' title='Show/Hide attributes'><svg class='icon xr-icon-file-text2'><use xlink:href='#icon-file-text2'></use></svg></label><input id='data-a755e73c-ed87-4d29-85a4-61e50bcbb908' class='xr-var-data-in' type='checkbox'><label for='data-a755e73c-ed87-4d29-85a4-61e50bcbb908' title='Show/Hide data repr'><svg class='icon xr-icon-database'><use xlink:href='#icon-database'></use></svg></label><div class='xr-var-attrs'><dl class='xr-attrs'></dl></div><div class='xr-var-data'><pre>array([48.983333, 48.941667, 48.9     , 48.858333, 48.816667, 48.775   ,\n",
       "       48.733333, 48.691667, 48.65    , 48.608333, 48.566667, 48.525   ,\n",
       "       48.483333, 48.441667, 48.4     , 48.358333, 48.316667, 48.275   ,\n",
       "       48.233333, 48.191667, 48.15    , 48.108333, 48.066667, 48.025   ,\n",
       "       47.983333, 47.941667, 47.9     , 47.858333, 47.816667, 47.775   ,\n",
       "       47.733333, 47.691667, 47.65    , 47.608333, 47.566667, 47.525   ,\n",
       "       47.483333, 47.441667, 47.4     , 47.358333, 47.316667, 47.275   ,\n",
       "       47.233333, 47.191667, 47.15    , 47.108333, 47.066667, 47.025   ,\n",
       "       46.983333, 46.941667, 46.9     , 46.858333, 46.816667, 46.775   ,\n",
       "       46.733333, 46.691667, 46.65    , 46.608333, 46.566667, 46.525   ,\n",
       "       46.483333, 46.441667, 46.4     , 46.358333, 46.316667, 46.275   ,\n",
       "       46.233333, 46.191667, 46.15    , 46.108333, 46.066667, 46.025   ,\n",
       "       45.983333, 45.941667, 45.9     , 45.858333, 45.816667, 45.775   ,\n",
       "       45.733333, 45.691667, 45.65    , 45.608333, 45.566667, 45.525   ])</pre></div></li><li class='xr-var-item'><div class='xr-var-name'><span class='xr-has-index'>lon</span></div><div class='xr-var-dims'>(lon)</div><div class='xr-var-dtype'>float64</div><div class='xr-var-preview xr-preview'>-124.7 -124.7 ... -117.0 -116.9</div><input id='attrs-004ca57c-5b6c-4dbc-b25e-02822a151a94' class='xr-var-attrs-in' type='checkbox' disabled><label for='attrs-004ca57c-5b6c-4dbc-b25e-02822a151a94' title='Show/Hide attributes'><svg class='icon xr-icon-file-text2'><use xlink:href='#icon-file-text2'></use></svg></label><input id='data-579da178-a6a9-44a1-854f-9bdf13959e1b' class='xr-var-data-in' type='checkbox'><label for='data-579da178-a6a9-44a1-854f-9bdf13959e1b' title='Show/Hide data repr'><svg class='icon xr-icon-database'><use xlink:href='#icon-database'></use></svg></label><div class='xr-var-attrs'><dl class='xr-attrs'></dl></div><div class='xr-var-data'><pre>array([-124.725   , -124.683333, -124.641667, -124.6     , -124.558333,\n",
       "       -124.516667, -124.475   , -124.433333, -124.391667, -124.35    ,\n",
       "       -124.308333, -124.266667, -124.225   , -124.183333, -124.141667,\n",
       "       -124.1     , -124.058333, -124.016667, -123.975   , -123.933333,\n",
       "       -123.891667, -123.85    , -123.808333, -123.766667, -123.725   ,\n",
       "       -123.683333, -123.641667, -123.6     , -123.558333, -123.516667,\n",
       "       -123.475   , -123.433333, -123.391667, -123.35    , -123.308333,\n",
       "       -123.266667, -123.225   , -123.183333, -123.141667, -123.1     ,\n",
       "       -123.058333, -123.016667, -122.975   , -122.933333, -122.891667,\n",
       "       -122.85    , -122.808333, -122.766667, -122.725   , -122.683333,\n",
       "       -122.641667, -122.6     , -122.558333, -122.516667, -122.475   ,\n",
       "       -122.433333, -122.391667, -122.35    , -122.308333, -122.266667,\n",
       "       -122.225   , -122.183333, -122.141667, -122.1     , -122.058333,\n",
       "       -122.016667, -121.975   , -121.933333, -121.891667, -121.85    ,\n",
       "       -121.808333, -121.766667, -121.725   , -121.683333, -121.641667,\n",
       "       -121.6     , -121.558333, -121.516667, -121.475   , -121.433333,\n",
       "       -121.391667, -121.35    , -121.308333, -121.266667, -121.225   ,\n",
       "       -121.183333, -121.141667, -121.1     , -121.058333, -121.016667,\n",
       "       -120.975   , -120.933333, -120.891667, -120.85    , -120.808333,\n",
       "       -120.766667, -120.725   , -120.683333, -120.641667, -120.6     ,\n",
       "       -120.558333, -120.516667, -120.475   , -120.433333, -120.391667,\n",
       "       -120.35    , -120.308333, -120.266667, -120.225   , -120.183333,\n",
       "       -120.141667, -120.1     , -120.058333, -120.016667, -119.975   ,\n",
       "       -119.933333, -119.891667, -119.85    , -119.808333, -119.766667,\n",
       "       -119.725   , -119.683333, -119.641667, -119.6     , -119.558333,\n",
       "       -119.516667, -119.475   , -119.433333, -119.391667, -119.35    ,\n",
       "       -119.308333, -119.266667, -119.225   , -119.183333, -119.141667,\n",
       "       -119.1     , -119.058333, -119.016667, -118.975   , -118.933333,\n",
       "       -118.891667, -118.85    , -118.808333, -118.766667, -118.725   ,\n",
       "       -118.683333, -118.641667, -118.6     , -118.558333, -118.516667,\n",
       "       -118.475   , -118.433333, -118.391667, -118.35    , -118.308333,\n",
       "       -118.266667, -118.225   , -118.183333, -118.141667, -118.1     ,\n",
       "       -118.058333, -118.016667, -117.975   , -117.933333, -117.891667,\n",
       "       -117.85    , -117.808333, -117.766667, -117.725   , -117.683333,\n",
       "       -117.641667, -117.6     , -117.558333, -117.516667, -117.475   ,\n",
       "       -117.433333, -117.391667, -117.35    , -117.308333, -117.266667,\n",
       "       -117.225   , -117.183333, -117.141667, -117.1     , -117.058333,\n",
       "       -117.016667, -116.975   , -116.933333])</pre></div></li><li class='xr-var-item'><div class='xr-var-name'><span class='xr-has-index'>index</span></div><div class='xr-var-dims'>(index)</div><div class='xr-var-dtype'>int64</div><div class='xr-var-preview xr-preview'>0 1 2 3 4 ... 1144 1145 1146 1147</div><input id='attrs-be0e08e4-086d-49ac-9c5f-1788ce05e151' class='xr-var-attrs-in' type='checkbox' disabled><label for='attrs-be0e08e4-086d-49ac-9c5f-1788ce05e151' title='Show/Hide attributes'><svg class='icon xr-icon-file-text2'><use xlink:href='#icon-file-text2'></use></svg></label><input id='data-8e0a15ce-4bbc-444a-970c-975b5c58e26c' class='xr-var-data-in' type='checkbox'><label for='data-8e0a15ce-4bbc-444a-970c-975b5c58e26c' title='Show/Hide data repr'><svg class='icon xr-icon-database'><use xlink:href='#icon-database'></use></svg></label><div class='xr-var-attrs'><dl class='xr-attrs'></dl></div><div class='xr-var-data'><pre>array([   0,    1,    2, ..., 1145, 1146, 1147])</pre></div></li></ul></div></li><li class='xr-section-item'><input id='section-56de6491-3490-4849-bad4-ba286c26378f' class='xr-section-summary-in' type='checkbox'  checked><label for='section-56de6491-3490-4849-bad4-ba286c26378f' class='xr-section-summary' >Data variables: <span>(12)</span></label><div class='xr-section-inline-details'></div><div class='xr-section-details'><ul class='xr-var-list'><li class='xr-var-item'><div class='xr-var-name'><span>spatial_ref</span></div><div class='xr-var-dims'>()</div><div class='xr-var-dtype'>int64</div><div class='xr-var-preview xr-preview'>...</div><input id='attrs-a5163115-bbc3-4704-b028-b2c71dc5616a' class='xr-var-attrs-in' type='checkbox' ><label for='attrs-a5163115-bbc3-4704-b028-b2c71dc5616a' title='Show/Hide attributes'><svg class='icon xr-icon-file-text2'><use xlink:href='#icon-file-text2'></use></svg></label><input id='data-abc7853c-9d51-4326-bb8b-e5e3c547b33d' class='xr-var-data-in' type='checkbox'><label for='data-abc7853c-9d51-4326-bb8b-e5e3c547b33d' title='Show/Hide data repr'><svg class='icon xr-icon-database'><use xlink:href='#icon-database'></use></svg></label><div class='xr-var-attrs'><dl class='xr-attrs'><dt><span>crs_wkt :</span></dt><dd>GEOGCS[&quot;WGS 84&quot;,DATUM[&quot;WGS_1984&quot;,SPHEROID[&quot;WGS 84&quot;,6378137,298.257223563,AUTHORITY[&quot;EPSG&quot;,&quot;7030&quot;]],AUTHORITY[&quot;EPSG&quot;,&quot;6326&quot;]],PRIMEM[&quot;Greenwich&quot;,0,AUTHORITY[&quot;EPSG&quot;,&quot;8901&quot;]],UNIT[&quot;degree&quot;,0.0174532925199433,AUTHORITY[&quot;EPSG&quot;,&quot;9122&quot;]],AXIS[&quot;Latitude&quot;,NORTH],AXIS[&quot;Longitude&quot;,EAST],AUTHORITY[&quot;EPSG&quot;,&quot;4326&quot;]]</dd><dt><span>semi_major_axis :</span></dt><dd>6378137.0</dd><dt><span>semi_minor_axis :</span></dt><dd>6356752.314245179</dd><dt><span>inverse_flattening :</span></dt><dd>298.257223563</dd><dt><span>reference_ellipsoid_name :</span></dt><dd>WGS 84</dd><dt><span>longitude_of_prime_meridian :</span></dt><dd>0.0</dd><dt><span>prime_meridian_name :</span></dt><dd>Greenwich</dd><dt><span>geographic_crs_name :</span></dt><dd>WGS 84</dd><dt><span>grid_mapping_name :</span></dt><dd>latitude_longitude</dd><dt><span>spatial_ref :</span></dt><dd>GEOGCS[&quot;WGS 84&quot;,DATUM[&quot;WGS_1984&quot;,SPHEROID[&quot;WGS 84&quot;,6378137,298.257223563,AUTHORITY[&quot;EPSG&quot;,&quot;7030&quot;]],AUTHORITY[&quot;EPSG&quot;,&quot;6326&quot;]],PRIMEM[&quot;Greenwich&quot;,0,AUTHORITY[&quot;EPSG&quot;,&quot;8901&quot;]],UNIT[&quot;degree&quot;,0.0174532925199433,AUTHORITY[&quot;EPSG&quot;,&quot;9122&quot;]],AXIS[&quot;Latitude&quot;,NORTH],AXIS[&quot;Longitude&quot;,EAST],AUTHORITY[&quot;EPSG&quot;,&quot;4326&quot;]]</dd><dt><span>GeoTransform :</span></dt><dd>-124.7458333 0.041666666666666616 0.0 49.00416666666667 0.0 -0.04166666666666661</dd></dl></div><div class='xr-var-data'><pre>array(0)</pre></div></li><li class='xr-var-item'><div class='xr-var-name'><span>USDM</span></div><div class='xr-var-dims'>(index, lat, lon)</div><div class='xr-var-dtype'>float64</div><div class='xr-var-preview xr-preview'>...</div><input id='attrs-973d65c4-4d40-4350-a535-0aa50eacd2cc' class='xr-var-attrs-in' type='checkbox' ><label for='attrs-973d65c4-4d40-4350-a535-0aa50eacd2cc' title='Show/Hide attributes'><svg class='icon xr-icon-file-text2'><use xlink:href='#icon-file-text2'></use></svg></label><input id='data-bc245205-ac42-443d-a761-45989925d378' class='xr-var-data-in' type='checkbox'><label for='data-bc245205-ac42-443d-a761-45989925d378' title='Show/Hide data repr'><svg class='icon xr-icon-database'><use xlink:href='#icon-database'></use></svg></label><div class='xr-var-attrs'><dl class='xr-attrs'><dt><span>crs_wkt :</span></dt><dd>GEOGCS[&quot;WGS 84&quot;,DATUM[&quot;WGS_1984&quot;,SPHEROID[&quot;WGS 84&quot;,6378137,298.257223563,AUTHORITY[&quot;EPSG&quot;,&quot;7030&quot;]],AUTHORITY[&quot;EPSG&quot;,&quot;6326&quot;]],PRIMEM[&quot;Greenwich&quot;,0,AUTHORITY[&quot;EPSG&quot;,&quot;8901&quot;]],UNIT[&quot;degree&quot;,0.0174532925199433,AUTHORITY[&quot;EPSG&quot;,&quot;9122&quot;]],AXIS[&quot;Latitude&quot;,NORTH],AXIS[&quot;Longitude&quot;,EAST],AUTHORITY[&quot;EPSG&quot;,&quot;4326&quot;]]</dd><dt><span>semi_major_axis :</span></dt><dd>6378137.0</dd><dt><span>semi_minor_axis :</span></dt><dd>6356752.314245179</dd><dt><span>inverse_flattening :</span></dt><dd>298.257223563</dd><dt><span>reference_ellipsoid_name :</span></dt><dd>WGS 84</dd><dt><span>longitude_of_prime_meridian :</span></dt><dd>0.0</dd><dt><span>prime_meridian_name :</span></dt><dd>Greenwich</dd><dt><span>geographic_crs_name :</span></dt><dd>WGS 84</dd><dt><span>grid_mapping_name :</span></dt><dd>latitude_longitude</dd><dt><span>spatial_ref :</span></dt><dd>GEOGCS[&quot;WGS 84&quot;,DATUM[&quot;WGS_1984&quot;,SPHEROID[&quot;WGS 84&quot;,6378137,298.257223563,AUTHORITY[&quot;EPSG&quot;,&quot;7030&quot;]],AUTHORITY[&quot;EPSG&quot;,&quot;6326&quot;]],PRIMEM[&quot;Greenwich&quot;,0,AUTHORITY[&quot;EPSG&quot;,&quot;8901&quot;]],UNIT[&quot;degree&quot;,0.0174532925199433,AUTHORITY[&quot;EPSG&quot;,&quot;9122&quot;]],AXIS[&quot;Latitude&quot;,NORTH],AXIS[&quot;Longitude&quot;,EAST],AUTHORITY[&quot;EPSG&quot;,&quot;4326&quot;]]</dd><dt><span>GeoTransform :</span></dt><dd>-124.74590760646159 0.024999999999999963 0.0 49.01054810699192 0.0 -0.02499999999999997</dd><dt><span>grid_mapping :</span></dt><dd>spatial_ref</dd></dl></div><div class='xr-var-data'><pre>[18129216 values with dtype=float64]</pre></div></li><li class='xr-var-item'><div class='xr-var-name'><span>USDM Date</span></div><div class='xr-var-dims'>(index)</div><div class='xr-var-dtype'>datetime64[ns]</div><div class='xr-var-preview xr-preview'>...</div><input id='attrs-69f08e2a-4295-4cc9-9746-afdaaf0e1abc' class='xr-var-attrs-in' type='checkbox' disabled><label for='attrs-69f08e2a-4295-4cc9-9746-afdaaf0e1abc' title='Show/Hide attributes'><svg class='icon xr-icon-file-text2'><use xlink:href='#icon-file-text2'></use></svg></label><input id='data-7719046b-0e23-4b68-bb4e-e497fa140e49' class='xr-var-data-in' type='checkbox'><label for='data-7719046b-0e23-4b68-bb4e-e497fa140e49' title='Show/Hide data repr'><svg class='icon xr-icon-database'><use xlink:href='#icon-database'></use></svg></label><div class='xr-var-attrs'><dl class='xr-attrs'></dl></div><div class='xr-var-data'><pre>array([&#x27;2000-01-04T00:00:00.000000000&#x27;, &#x27;2000-01-11T00:00:00.000000000&#x27;,\n",
       "       &#x27;2000-01-18T00:00:00.000000000&#x27;, ..., &#x27;2021-12-14T00:00:00.000000000&#x27;,\n",
       "       &#x27;2021-12-21T00:00:00.000000000&#x27;, &#x27;2021-12-28T00:00:00.000000000&#x27;],\n",
       "      dtype=&#x27;datetime64[ns]&#x27;)</pre></div></li><li class='xr-var-item'><div class='xr-var-name'><span>spi_1y</span></div><div class='xr-var-dims'>(index, lat, lon)</div><div class='xr-var-dtype'>float32</div><div class='xr-var-preview xr-preview'>...</div><input id='attrs-e77520b0-ad80-4d76-a7f4-d507eb2be839' class='xr-var-attrs-in' type='checkbox' disabled><label for='attrs-e77520b0-ad80-4d76-a7f4-d507eb2be839' title='Show/Hide attributes'><svg class='icon xr-icon-file-text2'><use xlink:href='#icon-file-text2'></use></svg></label><input id='data-44c37638-348c-402d-b4b0-fb56933ff87d' class='xr-var-data-in' type='checkbox'><label for='data-44c37638-348c-402d-b4b0-fb56933ff87d' title='Show/Hide data repr'><svg class='icon xr-icon-database'><use xlink:href='#icon-database'></use></svg></label><div class='xr-var-attrs'><dl class='xr-attrs'></dl></div><div class='xr-var-data'><pre>[18129216 values with dtype=float32]</pre></div></li><li class='xr-var-item'><div class='xr-var-name'><span>spi_2y</span></div><div class='xr-var-dims'>(index, lat, lon)</div><div class='xr-var-dtype'>float32</div><div class='xr-var-preview xr-preview'>...</div><input id='attrs-c5840dd6-fa52-42e2-b651-de07dee64d2e' class='xr-var-attrs-in' type='checkbox' disabled><label for='attrs-c5840dd6-fa52-42e2-b651-de07dee64d2e' title='Show/Hide attributes'><svg class='icon xr-icon-file-text2'><use xlink:href='#icon-file-text2'></use></svg></label><input id='data-2deec963-195c-4caf-8091-67a99f0137d8' class='xr-var-data-in' type='checkbox'><label for='data-2deec963-195c-4caf-8091-67a99f0137d8' title='Show/Hide data repr'><svg class='icon xr-icon-database'><use xlink:href='#icon-database'></use></svg></label><div class='xr-var-attrs'><dl class='xr-attrs'></dl></div><div class='xr-var-data'><pre>[18129216 values with dtype=float32]</pre></div></li><li class='xr-var-item'><div class='xr-var-name'><span>spi_5y</span></div><div class='xr-var-dims'>(index, lat, lon)</div><div class='xr-var-dtype'>float32</div><div class='xr-var-preview xr-preview'>...</div><input id='attrs-8ce340de-3222-4fa9-ab1f-76fc9089ad5d' class='xr-var-attrs-in' type='checkbox' disabled><label for='attrs-8ce340de-3222-4fa9-ab1f-76fc9089ad5d' title='Show/Hide attributes'><svg class='icon xr-icon-file-text2'><use xlink:href='#icon-file-text2'></use></svg></label><input id='data-a526ddbc-3fd7-4212-9e97-c68d743a5d28' class='xr-var-data-in' type='checkbox'><label for='data-a526ddbc-3fd7-4212-9e97-c68d743a5d28' title='Show/Hide data repr'><svg class='icon xr-icon-database'><use xlink:href='#icon-database'></use></svg></label><div class='xr-var-attrs'><dl class='xr-attrs'></dl></div><div class='xr-var-data'><pre>[18129216 values with dtype=float32]</pre></div></li><li class='xr-var-item'><div class='xr-var-name'><span>spi_14d</span></div><div class='xr-var-dims'>(index, lat, lon)</div><div class='xr-var-dtype'>float32</div><div class='xr-var-preview xr-preview'>...</div><input id='attrs-d7eef9df-e377-456c-b3b7-5f88f157ae56' class='xr-var-attrs-in' type='checkbox' disabled><label for='attrs-d7eef9df-e377-456c-b3b7-5f88f157ae56' title='Show/Hide attributes'><svg class='icon xr-icon-file-text2'><use xlink:href='#icon-file-text2'></use></svg></label><input id='data-b1cf0e02-93b7-45ce-88ab-c9e471d0e90f' class='xr-var-data-in' type='checkbox'><label for='data-b1cf0e02-93b7-45ce-88ab-c9e471d0e90f' title='Show/Hide data repr'><svg class='icon xr-icon-database'><use xlink:href='#icon-database'></use></svg></label><div class='xr-var-attrs'><dl class='xr-attrs'></dl></div><div class='xr-var-data'><pre>[18129216 values with dtype=float32]</pre></div></li><li class='xr-var-item'><div class='xr-var-name'><span>spi_30d</span></div><div class='xr-var-dims'>(index, lat, lon)</div><div class='xr-var-dtype'>float32</div><div class='xr-var-preview xr-preview'>...</div><input id='attrs-de61a980-7f35-4881-899b-7b899e6cd9da' class='xr-var-attrs-in' type='checkbox' disabled><label for='attrs-de61a980-7f35-4881-899b-7b899e6cd9da' title='Show/Hide attributes'><svg class='icon xr-icon-file-text2'><use xlink:href='#icon-file-text2'></use></svg></label><input id='data-f994606e-311e-4f38-8a74-c30d0295af72' class='xr-var-data-in' type='checkbox'><label for='data-f994606e-311e-4f38-8a74-c30d0295af72' title='Show/Hide data repr'><svg class='icon xr-icon-database'><use xlink:href='#icon-database'></use></svg></label><div class='xr-var-attrs'><dl class='xr-attrs'></dl></div><div class='xr-var-data'><pre>[18129216 values with dtype=float32]</pre></div></li><li class='xr-var-item'><div class='xr-var-name'><span>spi_90d</span></div><div class='xr-var-dims'>(index, lat, lon)</div><div class='xr-var-dtype'>float32</div><div class='xr-var-preview xr-preview'>...</div><input id='attrs-95efcbe1-ee78-4031-82d2-87f2251a2b51' class='xr-var-attrs-in' type='checkbox' disabled><label for='attrs-95efcbe1-ee78-4031-82d2-87f2251a2b51' title='Show/Hide attributes'><svg class='icon xr-icon-file-text2'><use xlink:href='#icon-file-text2'></use></svg></label><input id='data-3395c7e8-ed80-470b-a502-08751a87e1a6' class='xr-var-data-in' type='checkbox'><label for='data-3395c7e8-ed80-470b-a502-08751a87e1a6' title='Show/Hide data repr'><svg class='icon xr-icon-database'><use xlink:href='#icon-database'></use></svg></label><div class='xr-var-attrs'><dl class='xr-attrs'></dl></div><div class='xr-var-data'><pre>[18129216 values with dtype=float32]</pre></div></li><li class='xr-var-item'><div class='xr-var-name'><span>spi_180d</span></div><div class='xr-var-dims'>(index, lat, lon)</div><div class='xr-var-dtype'>float32</div><div class='xr-var-preview xr-preview'>...</div><input id='attrs-30742da5-a2f3-4e4a-b21e-bbf1553072fa' class='xr-var-attrs-in' type='checkbox' disabled><label for='attrs-30742da5-a2f3-4e4a-b21e-bbf1553072fa' title='Show/Hide attributes'><svg class='icon xr-icon-file-text2'><use xlink:href='#icon-file-text2'></use></svg></label><input id='data-f9526631-b27f-4538-822a-7b504fe676cd' class='xr-var-data-in' type='checkbox'><label for='data-f9526631-b27f-4538-822a-7b504fe676cd' title='Show/Hide data repr'><svg class='icon xr-icon-database'><use xlink:href='#icon-database'></use></svg></label><div class='xr-var-attrs'><dl class='xr-attrs'></dl></div><div class='xr-var-data'><pre>[18129216 values with dtype=float32]</pre></div></li><li class='xr-var-item'><div class='xr-var-name'><span>spi_270d</span></div><div class='xr-var-dims'>(index, lat, lon)</div><div class='xr-var-dtype'>float32</div><div class='xr-var-preview xr-preview'>...</div><input id='attrs-694c7835-16da-4479-bd2a-ec4e41ebbd80' class='xr-var-attrs-in' type='checkbox' disabled><label for='attrs-694c7835-16da-4479-bd2a-ec4e41ebbd80' title='Show/Hide attributes'><svg class='icon xr-icon-file-text2'><use xlink:href='#icon-file-text2'></use></svg></label><input id='data-5c6cd952-9b6a-4df0-b4bc-f76297c8435c' class='xr-var-data-in' type='checkbox'><label for='data-5c6cd952-9b6a-4df0-b4bc-f76297c8435c' title='Show/Hide data repr'><svg class='icon xr-icon-database'><use xlink:href='#icon-database'></use></svg></label><div class='xr-var-attrs'><dl class='xr-attrs'></dl></div><div class='xr-var-data'><pre>[18129216 values with dtype=float32]</pre></div></li><li class='xr-var-item'><div class='xr-var-name'><span>SPI Date</span></div><div class='xr-var-dims'>(index)</div><div class='xr-var-dtype'>datetime64[ns]</div><div class='xr-var-preview xr-preview'>...</div><input id='attrs-10f4ee2f-4c7c-4936-9506-c72ec5acb7ef' class='xr-var-attrs-in' type='checkbox' disabled><label for='attrs-10f4ee2f-4c7c-4936-9506-c72ec5acb7ef' title='Show/Hide attributes'><svg class='icon xr-icon-file-text2'><use xlink:href='#icon-file-text2'></use></svg></label><input id='data-64aaca80-754d-4641-8508-6c6f81ed57e5' class='xr-var-data-in' type='checkbox'><label for='data-64aaca80-754d-4641-8508-6c6f81ed57e5' title='Show/Hide data repr'><svg class='icon xr-icon-database'><use xlink:href='#icon-database'></use></svg></label><div class='xr-var-attrs'><dl class='xr-attrs'></dl></div><div class='xr-var-data'><pre>array([&#x27;1999-12-31T00:00:00.000000000&#x27;, &#x27;2000-01-10T00:00:00.000000000&#x27;,\n",
       "       &#x27;2000-01-15T00:00:00.000000000&#x27;, ..., &#x27;2021-12-11T00:00:00.000000000&#x27;,\n",
       "       &#x27;2021-12-21T00:00:00.000000000&#x27;, &#x27;2021-12-26T00:00:00.000000000&#x27;],\n",
       "      dtype=&#x27;datetime64[ns]&#x27;)</pre></div></li></ul></div></li><li class='xr-section-item'><input id='section-9b47a257-a653-49a1-aa46-eb31ddc47aec' class='xr-section-summary-in' type='checkbox'  checked><label for='section-9b47a257-a653-49a1-aa46-eb31ddc47aec' class='xr-section-summary' >Attributes: <span>(4)</span></label><div class='xr-section-inline-details'></div><div class='xr-section-details'><dl class='xr-attrs'><dt><span>author :</span></dt><dd>a. stein 6/8/2022</dd><dt><span>description :</span></dt><dd>USDM and SPI matched to USDM data cutoff dates, as described by the index for Washington State. USDM has been upscaled to SPI resolution while SPI has been categorized according to the USDM drought categories.</dd><dt><span>USDM Date :</span></dt><dd>this contains the original dates for USDM</dd><dt><span>SPI Date :</span></dt><dd>this contains the original dates for SPI</dd></dl></div></li></ul></div></div>"
      ],
      "text/plain": [
       "<xarray.Dataset>\n",
       "Dimensions:      (lat: 84, lon: 188, index: 1148)\n",
       "Coordinates:\n",
       "  * lat          (lat) float64 48.98 48.94 48.9 48.86 ... 45.61 45.57 45.53\n",
       "  * lon          (lon) float64 -124.7 -124.7 -124.6 ... -117.0 -117.0 -116.9\n",
       "  * index        (index) int64 0 1 2 3 4 5 6 ... 1142 1143 1144 1145 1146 1147\n",
       "Data variables:\n",
       "    spatial_ref  int64 ...\n",
       "    USDM         (index, lat, lon) float64 ...\n",
       "    USDM Date    (index) datetime64[ns] ...\n",
       "    spi_1y       (index, lat, lon) float32 ...\n",
       "    spi_2y       (index, lat, lon) float32 ...\n",
       "    spi_5y       (index, lat, lon) float32 ...\n",
       "    spi_14d      (index, lat, lon) float32 ...\n",
       "    spi_30d      (index, lat, lon) float32 ...\n",
       "    spi_90d      (index, lat, lon) float32 ...\n",
       "    spi_180d     (index, lat, lon) float32 ...\n",
       "    spi_270d     (index, lat, lon) float32 ...\n",
       "    SPI Date     (index) datetime64[ns] ...\n",
       "Attributes:\n",
       "    author:       a. stein 6/8/2022\n",
       "    description:  USDM and SPI matched to USDM data cutoff dates, as describe...\n",
       "    USDM Date:    this contains the original dates for USDM\n",
       "    SPI Date:     this contains the original dates for SPI"
      ]
     },
     "execution_count": 25,
     "metadata": {},
     "output_type": "execute_result"
    }
   ],
   "source": [
    "paired_ds"
   ]
  },
  {
   "cell_type": "markdown",
   "metadata": {},
   "source": [
    "The most useful package for this appears to OpenCV .. here's a tutorial: https://pyimagesearch.com/2021/02/22/opencv-connected-component-labeling-and-analysis/"
   ]
  },
  {
   "cell_type": "code",
   "execution_count": 26,
   "metadata": {},
   "outputs": [],
   "source": [
    "import cv2"
   ]
  },
  {
   "cell_type": "code",
   "execution_count": 27,
   "metadata": {},
   "outputs": [],
   "source": [
    "test = paired_ds['USDM']\n",
    "test_vals = test.sel(index=500).values"
   ]
  },
  {
   "cell_type": "code",
   "execution_count": 28,
   "metadata": {},
   "outputs": [
    {
     "data": {
      "image/png": "[encoded data removed]",
      "text/plain": [
       "<Figure size 432x288 with 2 Axes>"
      ]
     },
     "metadata": {
      "needs_background": "light"
     },
     "output_type": "display_data"
    }
   ],
   "source": [
    "fig, ax = plt.subplots()\n",
    "\n",
    "cb = ax.imshow(test_vals, vmin=-1, vmax=4, cmap=ndplot.usdm_cmap())\n",
    "fig.colorbar(cb)\n",
    "ax.set_facecolor('k')"
   ]
  },
  {
   "cell_type": "markdown",
   "metadata": {},
   "source": [
    "Okay, I know I'm going to needs to use a binary image, so let's go ahead and use a threshold of D1"
   ]
  },
  {
   "cell_type": "code",
   "execution_count": 29,
   "metadata": {},
   "outputs": [],
   "source": [
    "test_vals[test_vals < 1] = 0\n",
    "test_vals[test_vals > 0] = 1"
   ]
  },
  {
   "cell_type": "code",
   "execution_count": 30,
   "metadata": {},
   "outputs": [
    {
     "data": {
      "image/png": "[encoded data removed]",
      "text/plain": [
       "<Figure size 432x288 with 2 Axes>"
      ]
     },
     "metadata": {
      "needs_background": "light"
     },
     "output_type": "display_data"
    }
   ],
   "source": [
    "fig, ax = plt.subplots()\n",
    "\n",
    "cb = ax.imshow(test_vals, vmin=0, vmax=1, cmap='viridis')\n",
    "fig.colorbar(cb)\n",
    "ax.set_facecolor('k')"
   ]
  },
  {
   "cell_type": "markdown",
   "metadata": {},
   "source": [
    "Cool, that looks right."
   ]
  },
  {
   "cell_type": "markdown",
   "metadata": {},
   "source": [
    "Now to figure out how to make it an image ... https://www.codespeedy.com/convert-a-numpy-array-to-image-in-python/"
   ]
  },
  {
   "cell_type": "code",
   "execution_count": 31,
   "metadata": {},
   "outputs": [],
   "source": [
    "from PIL import Image"
   ]
  },
  {
   "cell_type": "code",
   "execution_count": 32,
   "metadata": {},
   "outputs": [
    {
     "data": {
      "text/plain": [
       "(84, 188)"
      ]
     },
     "execution_count": 32,
     "metadata": {},
     "output_type": "execute_result"
    }
   ],
   "source": [
    "test_vals.shape"
   ]
  },
  {
   "cell_type": "code",
   "execution_count": 33,
   "metadata": {},
   "outputs": [],
   "source": [
    "w, h = len(paired_ds.lon), len(paired_ds.lat)\n",
    "t = (h, w, 3)\n",
    "A = np.zeros(t, dtype=np.uint8)\n",
    "for i in range(h):\n",
    "    for j in range(w):\n",
    "        val = test_vals[i,j]\n",
    "        if np.isnan(val):\n",
    "            val = 0\n",
    "        color_val = 255*val\n",
    "        color_val = np.uint8(color_val)\n",
    "        #print(color_val)\n",
    "        \n",
    "        A[i,j]=[color_val, color_val, color_val]\n",
    "\n",
    "img = Image.fromarray(A, 'RGB')"
   ]
  },
  {
   "cell_type": "code",
   "execution_count": 34,
   "metadata": {},
   "outputs": [
    {
     "data": {
      "image/png": "[encoded data removed]",
      "text/plain": [
       "<PIL.Image.Image image mode=RGB size=188x84 at 0x7FA5EECE8C50>"
      ]
     },
     "execution_count": 34,
     "metadata": {},
     "output_type": "execute_result"
    }
   ],
   "source": [
    "img"
   ]
  },
  {
   "cell_type": "code",
   "execution_count": 35,
   "metadata": {},
   "outputs": [
    {
     "data": {
      "text/plain": [
       "<matplotlib.image.AxesImage at 0x7fa5eee91d90>"
      ]
     },
     "execution_count": 35,
     "metadata": {},
     "output_type": "execute_result"
    },
    {
     "data": {
      "image/png": "[encoded data removed]",
      "text/plain": [
       "<Figure size 432x288 with 1 Axes>"
      ]
     },
     "metadata": {
      "needs_background": "light"
     },
     "output_type": "display_data"
    }
   ],
   "source": [
    "# double check that's right\n",
    "fig, ax = plt.subplots()\n",
    "\n",
    "ax.imshow(A, vmin=0, vmax=256)\n"
   ]
  },
  {
   "cell_type": "markdown",
   "metadata": {},
   "source": [
    "Cool. After much debugging, that's solved."
   ]
  },
  {
   "cell_type": "code",
   "execution_count": 36,
   "metadata": {},
   "outputs": [],
   "source": [
    "gray = cv2.cvtColor(A, cv2.COLOR_RGB2GRAY)"
   ]
  },
  {
   "cell_type": "code",
   "execution_count": 37,
   "metadata": {},
   "outputs": [],
   "source": [
    "thresh = cv2.threshold(gray, 0, 255, cv2.THRESH_BINARY_INV | cv2.THRESH_OTSU)[1]"
   ]
  },
  {
   "cell_type": "code",
   "execution_count": 38,
   "metadata": {},
   "outputs": [],
   "source": [
    "output = cv2.connectedComponentsWithStats(thresh, 8, cv2.CV_32S)"
   ]
  },
  {
   "cell_type": "code",
   "execution_count": 39,
   "metadata": {},
   "outputs": [],
   "source": [
    "(numLabels, labels, stats, centroids) = output"
   ]
  },
  {
   "cell_type": "code",
   "execution_count": 40,
   "metadata": {},
   "outputs": [
    {
     "data": {
      "text/plain": [
       "2"
      ]
     },
     "execution_count": 40,
     "metadata": {},
     "output_type": "execute_result"
    }
   ],
   "source": [
    "numLabels"
   ]
  },
  {
   "cell_type": "code",
   "execution_count": 41,
   "metadata": {},
   "outputs": [
    {
     "data": {
      "text/plain": [
       "array([[1, 1, 1, ..., 1, 1, 1],\n",
       "       [1, 1, 1, ..., 1, 1, 1],\n",
       "       [1, 1, 1, ..., 1, 1, 1],\n",
       "       ...,\n",
       "       [1, 1, 1, ..., 1, 1, 1],\n",
       "       [1, 1, 1, ..., 1, 1, 1],\n",
       "       [1, 1, 1, ..., 1, 1, 1]], dtype=int32)"
      ]
     },
     "execution_count": 41,
     "metadata": {},
     "output_type": "execute_result"
    }
   ],
   "source": [
    "labels"
   ]
  },
  {
   "cell_type": "code",
   "execution_count": 42,
   "metadata": {},
   "outputs": [
    {
     "data": {
      "text/plain": [
       "array([[    1,     0,   151,    54,  3444],\n",
       "       [    0,     0,   188,    84, 12348]], dtype=int32)"
      ]
     },
     "execution_count": 42,
     "metadata": {},
     "output_type": "execute_result"
    }
   ],
   "source": [
    "# so this is the bounding box and then the area in pixels\n",
    "stats"
   ]
  },
  {
   "cell_type": "code",
   "execution_count": 43,
   "metadata": {},
   "outputs": [
    {
     "data": {
      "text/plain": [
       "array([[96.97067364, 26.10481998],\n",
       "       [92.53198899, 45.79389375]])"
      ]
     },
     "execution_count": 43,
     "metadata": {},
     "output_type": "execute_result"
    }
   ],
   "source": [
    "centroids"
   ]
  },
  {
   "cell_type": "code",
   "execution_count": 44,
   "metadata": {},
   "outputs": [
    {
     "data": {
      "text/plain": [
       "<matplotlib.collections.PathCollection at 0x7fa5f7323890>"
      ]
     },
     "execution_count": 44,
     "metadata": {},
     "output_type": "execute_result"
    },
    {
     "data": {
      "image/png": "[encoded data removed]",
      "text/plain": [
       "<Figure size 432x288 with 1 Axes>"
      ]
     },
     "metadata": {
      "needs_background": "light"
     },
     "output_type": "display_data"
    }
   ],
   "source": [
    "fig, ax = plt.subplots()\n",
    "\n",
    "ax.imshow(labels)\n",
    "ax.scatter(x=centroids[:,0], y=centroids[:,1])"
   ]
  },
  {
   "cell_type": "code",
   "execution_count": 45,
   "metadata": {},
   "outputs": [
    {
     "data": {
      "text/plain": [
       "15792"
      ]
     },
     "execution_count": 45,
     "metadata": {},
     "output_type": "execute_result"
    }
   ],
   "source": [
    "stats[:,-1].sum()"
   ]
  },
  {
   "cell_type": "markdown",
   "metadata": {},
   "source": [
    "Ah, so it separated it into drought and not drought ... which isn't really what I was hoping for ..."
   ]
  },
  {
   "cell_type": "markdown",
   "metadata": {},
   "source": [
    "### Scikit"
   ]
  },
  {
   "cell_type": "markdown",
   "metadata": {},
   "source": [
    "Okay, this already looks soo much easier to use: https://towardsdatascience.com/image-processing-with-python-blob-detection-using-scikit-image-5df9a8380ade"
   ]
  },
  {
   "cell_type": "code",
   "execution_count": 46,
   "metadata": {},
   "outputs": [],
   "source": [
    "import skimage\n",
    "\n",
    "from skimage.io import imshow\n",
    "from skimage.color import rgb2gray\n",
    "from skimage.measure import label, regionprops, regionprops_table\n"
   ]
  },
  {
   "cell_type": "code",
   "execution_count": 47,
   "metadata": {},
   "outputs": [
    {
     "name": "stdout",
     "output_type": "stream",
     "text": [
      "\u001b[0;31mSignature:\u001b[0m \u001b[0mlabel\u001b[0m\u001b[0;34m(\u001b[0m\u001b[0mlabel_image\u001b[0m\u001b[0;34m,\u001b[0m \u001b[0mbackground\u001b[0m\u001b[0;34m=\u001b[0m\u001b[0;32mNone\u001b[0m\u001b[0;34m,\u001b[0m \u001b[0mreturn_num\u001b[0m\u001b[0;34m=\u001b[0m\u001b[0;32mFalse\u001b[0m\u001b[0;34m,\u001b[0m \u001b[0mconnectivity\u001b[0m\u001b[0;34m=\u001b[0m\u001b[0;32mNone\u001b[0m\u001b[0;34m)\u001b[0m\u001b[0;34m\u001b[0m\u001b[0;34m\u001b[0m\u001b[0m\n",
      "\u001b[0;31mDocstring:\u001b[0m\n",
      "Label connected regions of an integer array.\n",
      "\n",
      "Two pixels are connected when they are neighbors and have the same value.\n",
      "In 2D, they can be neighbors either in a 1- or 2-connected sense.\n",
      "The value refers to the maximum number of orthogonal hops to consider a\n",
      "pixel/voxel a neighbor::\n",
      "\n",
      "  1-connectivity     2-connectivity     diagonal connection close-up\n",
      "\n",
      "       [ ]           [ ]  [ ]  [ ]             [ ]\n",
      "        |               \\  |  /                 |  <- hop 2\n",
      "  [ ]--[x]--[ ]      [ ]--[x]--[ ]        [x]--[ ]\n",
      "        |               /  |  \\             hop 1\n",
      "       [ ]           [ ]  [ ]  [ ]\n",
      "\n",
      "Parameters\n",
      "----------\n",
      "label_image : ndarray of dtype int\n",
      "    Image to label.\n",
      "background : int, optional\n",
      "    Consider all pixels with this value as background pixels, and label\n",
      "    them as 0. By default, 0-valued pixels are considered as background\n",
      "    pixels.\n",
      "return_num : bool, optional\n",
      "    Whether to return the number of assigned labels.\n",
      "connectivity : int, optional\n",
      "    Maximum number of orthogonal hops to consider a pixel/voxel\n",
      "    as a neighbor.\n",
      "    Accepted values are ranging from  1 to input.ndim. If ``None``, a full\n",
      "    connectivity of ``input.ndim`` is used.\n",
      "\n",
      "Returns\n",
      "-------\n",
      "labels : ndarray of dtype int\n",
      "    Labeled array, where all connected regions are assigned the\n",
      "    same integer value.\n",
      "num : int, optional\n",
      "    Number of labels, which equals the maximum label index and is only\n",
      "    returned if return_num is `True`.\n",
      "\n",
      "See Also\n",
      "--------\n",
      "regionprops\n",
      "regionprops_table\n",
      "\n",
      "References\n",
      "----------\n",
      ".. [1] Christophe Fiorio and Jens Gustedt, \"Two linear time Union-Find\n",
      "       strategies for image processing\", Theoretical Computer Science\n",
      "       154 (1996), pp. 165-181.\n",
      ".. [2] Kensheng Wu, Ekow Otoo and Arie Shoshani, \"Optimizing connected\n",
      "       component labeling algorithms\", Paper LBNL-56864, 2005,\n",
      "       Lawrence Berkeley National Laboratory (University of California),\n",
      "       http://repositories.cdlib.org/lbnl/LBNL-56864\n",
      "\n",
      "Examples\n",
      "--------\n",
      ">>> import numpy as np\n",
      ">>> x = np.eye(3).astype(int)\n",
      ">>> print(x)\n",
      "[[1 0 0]\n",
      " [0 1 0]\n",
      " [0 0 1]]\n",
      ">>> print(label(x, connectivity=1))\n",
      "[[1 0 0]\n",
      " [0 2 0]\n",
      " [0 0 3]]\n",
      ">>> print(label(x, connectivity=2))\n",
      "[[1 0 0]\n",
      " [0 1 0]\n",
      " [0 0 1]]\n",
      ">>> print(label(x, background=-1))\n",
      "[[1 2 2]\n",
      " [2 1 2]\n",
      " [2 2 1]]\n",
      ">>> x = np.array([[1, 0, 0],\n",
      "...               [1, 1, 5],\n",
      "...               [0, 0, 0]])\n",
      ">>> print(label(x))\n",
      "[[1 0 0]\n",
      " [1 1 2]\n",
      " [0 0 0]]\n",
      "\u001b[0;31mFile:\u001b[0m      /pool0/data/steinadi/.conda/envs/sedi/lib/python3.7/site-packages/skimage/measure/_label.py\n",
      "\u001b[0;31mType:\u001b[0m      function\n"
     ]
    }
   ],
   "source": [
    "label?"
   ]
  },
  {
   "cell_type": "code",
   "execution_count": 48,
   "metadata": {},
   "outputs": [
    {
     "name": "stdout",
     "output_type": "stream",
     "text": [
      "\u001b[0;31mSignature:\u001b[0m\n",
      "\u001b[0mregionprops_table\u001b[0m\u001b[0;34m(\u001b[0m\u001b[0;34m\u001b[0m\n",
      "\u001b[0;34m\u001b[0m    \u001b[0mlabel_image\u001b[0m\u001b[0;34m,\u001b[0m\u001b[0;34m\u001b[0m\n",
      "\u001b[0;34m\u001b[0m    \u001b[0mintensity_image\u001b[0m\u001b[0;34m=\u001b[0m\u001b[0;32mNone\u001b[0m\u001b[0;34m,\u001b[0m\u001b[0;34m\u001b[0m\n",
      "\u001b[0;34m\u001b[0m    \u001b[0mproperties\u001b[0m\u001b[0;34m=\u001b[0m\u001b[0;34m(\u001b[0m\u001b[0;34m'label'\u001b[0m\u001b[0;34m,\u001b[0m \u001b[0;34m'bbox'\u001b[0m\u001b[0;34m)\u001b[0m\u001b[0;34m,\u001b[0m\u001b[0;34m\u001b[0m\n",
      "\u001b[0;34m\u001b[0m    \u001b[0;34m*\u001b[0m\u001b[0;34m,\u001b[0m\u001b[0;34m\u001b[0m\n",
      "\u001b[0;34m\u001b[0m    \u001b[0mcache\u001b[0m\u001b[0;34m=\u001b[0m\u001b[0;32mTrue\u001b[0m\u001b[0;34m,\u001b[0m\u001b[0;34m\u001b[0m\n",
      "\u001b[0;34m\u001b[0m    \u001b[0mseparator\u001b[0m\u001b[0;34m=\u001b[0m\u001b[0;34m'-'\u001b[0m\u001b[0;34m,\u001b[0m\u001b[0;34m\u001b[0m\n",
      "\u001b[0;34m\u001b[0m    \u001b[0mextra_properties\u001b[0m\u001b[0;34m=\u001b[0m\u001b[0;32mNone\u001b[0m\u001b[0;34m,\u001b[0m\u001b[0;34m\u001b[0m\n",
      "\u001b[0;34m\u001b[0m\u001b[0;34m)\u001b[0m\u001b[0;34m\u001b[0m\u001b[0;34m\u001b[0m\u001b[0m\n",
      "\u001b[0;31mDocstring:\u001b[0m\n",
      "Compute image properties and return them as a pandas-compatible table.\n",
      "\n",
      "The table is a dictionary mapping column names to value arrays. See Notes\n",
      "section below for details.\n",
      "\n",
      ".. versionadded:: 0.16\n",
      "\n",
      "Parameters\n",
      "----------\n",
      "label_image : (N, M[, P]) ndarray\n",
      "    Labeled input image. Labels with value 0 are ignored.\n",
      "intensity_image : (M, N[, P][, C]) ndarray, optional\n",
      "    Intensity (i.e., input) image with same size as labeled image, plus\n",
      "    optionally an extra dimension for multichannel data. Currently,\n",
      "    this extra channel dimension, if present, must be the last axis.\n",
      "    Default is None.\n",
      "\n",
      "    .. versionchanged:: 0.18.0\n",
      "        The ability to provide an extra dimension for channels was added.\n",
      "properties : tuple or list of str, optional\n",
      "    Properties that will be included in the resulting dictionary\n",
      "    For a list of available properties, please see :func:`regionprops`.\n",
      "    Users should remember to add \"label\" to keep track of region\n",
      "    identities.\n",
      "cache : bool, optional\n",
      "    Determine whether to cache calculated properties. The computation is\n",
      "    much faster for cached properties, whereas the memory consumption\n",
      "    increases.\n",
      "separator : str, optional\n",
      "    For non-scalar properties not listed in OBJECT_COLUMNS, each element\n",
      "    will appear in its own column, with the index of that element separated\n",
      "    from the property name by this separator. For example, the inertia\n",
      "    tensor of a 2D region will appear in four columns:\n",
      "    ``inertia_tensor-0-0``, ``inertia_tensor-0-1``, ``inertia_tensor-1-0``,\n",
      "    and ``inertia_tensor-1-1`` (where the separator is ``-``).\n",
      "\n",
      "    Object columns are those that cannot be split in this way because the\n",
      "    number of columns would change depending on the object. For example,\n",
      "    ``image`` and ``coords``.\n",
      "extra_properties : Iterable of callables\n",
      "    Add extra property computation functions that are not included with\n",
      "    skimage. The name of the property is derived from the function name,\n",
      "    the dtype is inferred by calling the function on a small sample.\n",
      "    If the name of an extra property clashes with the name of an existing\n",
      "    property the extra property wil not be visible and a UserWarning is\n",
      "    issued. A property computation function must take a region mask as its\n",
      "    first argument. If the property requires an intensity image, it must\n",
      "    accept the intensity image as the second argument.\n",
      "\n",
      "Returns\n",
      "-------\n",
      "out_dict : dict\n",
      "    Dictionary mapping property names to an array of values of that\n",
      "    property, one value per region. This dictionary can be used as input to\n",
      "    pandas ``DataFrame`` to map property names to columns in the frame and\n",
      "    regions to rows. If the image has no regions,\n",
      "    the arrays will have length 0, but the correct type.\n",
      "\n",
      "Notes\n",
      "-----\n",
      "Each column contains either a scalar property, an object property, or an\n",
      "element in a multidimensional array.\n",
      "\n",
      "Properties with scalar values for each region, such as \"eccentricity\", will\n",
      "appear as a float or int array with that property name as key.\n",
      "\n",
      "Multidimensional properties *of fixed size* for a given image dimension,\n",
      "such as \"centroid\" (every centroid will have three elements in a 3D image,\n",
      "no matter the region size), will be split into that many columns, with the\n",
      "name {property_name}{separator}{element_num} (for 1D properties),\n",
      "{property_name}{separator}{elem_num0}{separator}{elem_num1} (for 2D\n",
      "properties), and so on.\n",
      "\n",
      "For multidimensional properties that don't have a fixed size, such as\n",
      "\"image\" (the image of a region varies in size depending on the region\n",
      "size), an object array will be used, with the corresponding property name\n",
      "as the key.\n",
      "\n",
      "Examples\n",
      "--------\n",
      ">>> from skimage import data, util, measure\n",
      ">>> image = data.coins()\n",
      ">>> label_image = measure.label(image > 110, connectivity=image.ndim)\n",
      ">>> props = measure.regionprops_table(label_image, image,\n",
      "...                           properties=['label', 'inertia_tensor',\n",
      "...                                       'inertia_tensor_eigvals'])\n",
      ">>> props  # doctest: +ELLIPSIS +SKIP\n",
      "{'label': array([ 1,  2, ...]), ...\n",
      " 'inertia_tensor-0-0': array([  4.012...e+03,   8.51..., ...]), ...\n",
      " ...,\n",
      " 'inertia_tensor_eigvals-1': array([  2.67...e+02,   2.83..., ...])}\n",
      "\n",
      "The resulting dictionary can be directly passed to pandas, if installed, to\n",
      "obtain a clean DataFrame:\n",
      "\n",
      ">>> import pandas as pd  # doctest: +SKIP\n",
      ">>> data = pd.DataFrame(props)  # doctest: +SKIP\n",
      ">>> data.head()  # doctest: +SKIP\n",
      "   label  inertia_tensor-0-0  ...  inertia_tensor_eigvals-1\n",
      "0      1         4012.909888  ...                267.065503\n",
      "1      2            8.514739  ...                  2.834806\n",
      "2      3            0.666667  ...                  0.000000\n",
      "3      4            0.000000  ...                  0.000000\n",
      "4      5            0.222222  ...                  0.111111\n",
      "\n",
      "[5 rows x 7 columns]\n",
      "\n",
      "If we want to measure a feature that does not come as a built-in\n",
      "property, we can define custom functions and pass them as\n",
      "``extra_properties``. For example, we can create a custom function\n",
      "that measures the intensity quartiles in a region:\n",
      "\n",
      ">>> from skimage import data, util, measure\n",
      ">>> import numpy as np\n",
      ">>> def quartiles(regionmask, intensity):\n",
      "...     return np.percentile(intensity[regionmask], q=(25, 50, 75))\n",
      ">>>\n",
      ">>> image = data.coins()\n",
      ">>> label_image = measure.label(image > 110, connectivity=image.ndim)\n",
      ">>> props = measure.regionprops_table(label_image, intensity_image=image,\n",
      "...                                   properties=('label',),\n",
      "...                                   extra_properties=(quartiles,))\n",
      ">>> import pandas as pd # doctest: +SKIP\n",
      ">>> pd.DataFrame(props).head() # doctest: +SKIP\n",
      "       label  quartiles-0  quartiles-1  quartiles-2\n",
      "0      1       117.00        123.0        130.0\n",
      "1      2       111.25        112.0        114.0\n",
      "2      3       111.00        111.0        111.0\n",
      "3      4       111.00        111.5        112.5\n",
      "4      5       112.50        113.0        114.0\n",
      "\u001b[0;31mFile:\u001b[0m      /pool0/data/steinadi/.conda/envs/sedi/lib/python3.7/site-packages/skimage/measure/_regionprops.py\n",
      "\u001b[0;31mType:\u001b[0m      function\n"
     ]
    }
   ],
   "source": [
    "regionprops_table?"
   ]
  },
  {
   "cell_type": "code",
   "execution_count": 49,
   "metadata": {},
   "outputs": [
    {
     "name": "stderr",
     "output_type": "stream",
     "text": [
      "/pool0/data/steinadi/.conda/envs/sedi/lib/python3.7/site-packages/skimage/io/_plugins/matplotlib_plugin.py:150: UserWarning: Low image data range; displaying image with stretched contrast.\n",
      "  lo, hi, cmap = _get_display_range(image)\n"
     ]
    },
    {
     "data": {
      "text/plain": [
       "<matplotlib.image.AxesImage at 0x7fa3e6daa0d0>"
      ]
     },
     "execution_count": 49,
     "metadata": {},
     "output_type": "execute_result"
    },
    {
     "data": {
      "image/png": "[encoded data removed]",
      "text/plain": [
       "<Figure size 432x288 with 2 Axes>"
      ]
     },
     "metadata": {
      "needs_background": "light"
     },
     "output_type": "display_data"
    }
   ],
   "source": [
    "blobs = label(rgb2gray(A) > 0, connectivity=2)\n",
    "imshow(blobs)"
   ]
  },
  {
   "cell_type": "markdown",
   "metadata": {},
   "source": [
    "YAY! DIFFERENT BLOBS"
   ]
  },
  {
   "cell_type": "markdown",
   "metadata": {},
   "source": [
    "List of all different properties: https://scikit-image.org/docs/stable/api/skimage.measure.html#skimage.measure.regionprops"
   ]
  },
  {
   "cell_type": "code",
   "execution_count": 50,
   "metadata": {},
   "outputs": [],
   "source": [
    "properties =['area','bbox','convex_area','bbox_area',\n",
    "             'major_axis_length', 'minor_axis_length',\n",
    "             'eccentricity']\n",
    "df = pd.DataFrame(regionprops_table(blobs, properties = properties))"
   ]
  },
  {
   "cell_type": "code",
   "execution_count": 51,
   "metadata": {},
   "outputs": [
    {
     "data": {
      "text/html": [
       "<div>\n",
       "<style scoped>\n",
       "    .dataframe tbody tr th:only-of-type {\n",
       "        vertical-align: middle;\n",
       "    }\n",
       "\n",
       "    .dataframe tbody tr th {\n",
       "        vertical-align: top;\n",
       "    }\n",
       "\n",
       "    .dataframe thead th {\n",
       "        text-align: right;\n",
       "    }\n",
       "</style>\n",
       "<table border=\"1\" class=\"dataframe\">\n",
       "  <thead>\n",
       "    <tr style=\"text-align: right;\">\n",
       "      <th></th>\n",
       "      <th>area</th>\n",
       "      <th>bbox-0</th>\n",
       "      <th>bbox-1</th>\n",
       "      <th>bbox-2</th>\n",
       "      <th>bbox-3</th>\n",
       "      <th>convex_area</th>\n",
       "      <th>bbox_area</th>\n",
       "      <th>major_axis_length</th>\n",
       "      <th>minor_axis_length</th>\n",
       "      <th>eccentricity</th>\n",
       "    </tr>\n",
       "  </thead>\n",
       "  <tbody>\n",
       "    <tr>\n",
       "      <th>0</th>\n",
       "      <td>2631</td>\n",
       "      <td>0</td>\n",
       "      <td>93</td>\n",
       "      <td>54</td>\n",
       "      <td>152</td>\n",
       "      <td>2685</td>\n",
       "      <td>3186</td>\n",
       "      <td>63.273580</td>\n",
       "      <td>54.261958</td>\n",
       "      <td>0.514356</td>\n",
       "    </tr>\n",
       "    <tr>\n",
       "      <th>1</th>\n",
       "      <td>813</td>\n",
       "      <td>15</td>\n",
       "      <td>1</td>\n",
       "      <td>52</td>\n",
       "      <td>36</td>\n",
       "      <td>933</td>\n",
       "      <td>1295</td>\n",
       "      <td>41.588572</td>\n",
       "      <td>27.159956</td>\n",
       "      <td>0.757304</td>\n",
       "    </tr>\n",
       "  </tbody>\n",
       "</table>\n",
       "</div>"
      ],
      "text/plain": [
       "   area  bbox-0  bbox-1  bbox-2  bbox-3  convex_area  bbox_area  \\\n",
       "0  2631       0      93      54     152         2685       3186   \n",
       "1   813      15       1      52      36          933       1295   \n",
       "\n",
       "   major_axis_length  minor_axis_length  eccentricity  \n",
       "0          63.273580          54.261958      0.514356  \n",
       "1          41.588572          27.159956      0.757304  "
      ]
     },
     "execution_count": 51,
     "metadata": {},
     "output_type": "execute_result"
    }
   ],
   "source": [
    "df"
   ]
  },
  {
   "cell_type": "markdown",
   "metadata": {},
   "source": [
    "let's put that in a nicer function"
   ]
  },
  {
   "cell_type": "code",
   "execution_count": 52,
   "metadata": {},
   "outputs": [
    {
     "data": {
      "text/plain": [
       "(84, 188)"
      ]
     },
     "execution_count": 52,
     "metadata": {},
     "output_type": "execute_result"
    }
   ],
   "source": [
    "(h, w) = test_vals.shape\n",
    "h, w"
   ]
  },
  {
   "cell_type": "code",
   "execution_count": 53,
   "metadata": {},
   "outputs": [],
   "source": [
    "from shapely.geometry import Polygon"
   ]
  },
  {
   "cell_type": "code",
   "execution_count": 54,
   "metadata": {},
   "outputs": [],
   "source": [
    "def identify_drought_blob(vals:np.ndarray):\n",
    "    \"\"\"Using sci-kit image, identify drought event blobs.\n",
    "\n",
    "    Parameters\n",
    "    ----------\n",
    "    vals: np.ndarray\n",
    "        Spatial values for drought data categorized\n",
    "        according to the USDM scheme for a single\n",
    "        time step.\n",
    "\n",
    "    Returns\n",
    "    -------\n",
    "    pd.DataFrame\n",
    "        Drought blobs using connectivity 2 from\n",
    "        skimage.measure.label. Blobs are binary\n",
    "        definitions of drought, where the measure\n",
    "        exceeds D1. Each blob is provided with\n",
    "        it's area, bbox, convex_area, and coordinates\n",
    "        of all cells contained within the blob.    \n",
    "    \"\"\"\n",
    "\n",
    "    # first we're going to make this binary\n",
    "    # by setting data in a drought to 1 and\n",
    "    # not in a drought to 0, including nan\n",
    "\n",
    "    vals[(vals < 1) | np.isnan(vals)] = 0\n",
    "    vals[vals > 0] = 1\n",
    "\n",
    "    # now we are going to convert to RGBL\n",
    "    (h, w) = vals.shape\n",
    "    t = (h, w, 3)\n",
    "    A = np.zeros(t, dtype=np.uint8)\n",
    "    for i in range(h):\n",
    "        for j in range(w):\n",
    "            # since we already made it binary, this\n",
    "            # will make 1 vals be white and 0 vals\n",
    "            # be black in our RGB array\n",
    "            color_val = 255*vals[i,j]\n",
    "            A[i, j] = [color_val, color_val, color_val]\n",
    "\n",
    "    # connectivity 2 will consider diagonals as connected\n",
    "    blobs = skimage.measure.label(rgb2gray(A) > 0, connectivity=2)\n",
    "\n",
    "    properties =['area','bbox','convex_area','coords']\n",
    "    df = pd.DataFrame(regionprops_table(blobs, properties=properties))\n",
    "    df['drought_id'] = np.nan*np.zeros(len(df))\n",
    "\n",
    "    return df\n"
   ]
  },
  {
   "cell_type": "code",
   "execution_count": 55,
   "metadata": {},
   "outputs": [
    {
     "data": {
      "text/html": [
       "<div>\n",
       "<style scoped>\n",
       "    .dataframe tbody tr th:only-of-type {\n",
       "        vertical-align: middle;\n",
       "    }\n",
       "\n",
       "    .dataframe tbody tr th {\n",
       "        vertical-align: top;\n",
       "    }\n",
       "\n",
       "    .dataframe thead th {\n",
       "        text-align: right;\n",
       "    }\n",
       "</style>\n",
       "<table border=\"1\" class=\"dataframe\">\n",
       "  <thead>\n",
       "    <tr style=\"text-align: right;\">\n",
       "      <th></th>\n",
       "      <th>area</th>\n",
       "      <th>bbox-0</th>\n",
       "      <th>bbox-1</th>\n",
       "      <th>bbox-2</th>\n",
       "      <th>bbox-3</th>\n",
       "      <th>convex_area</th>\n",
       "      <th>coords</th>\n",
       "      <th>drought_id</th>\n",
       "    </tr>\n",
       "  </thead>\n",
       "  <tbody>\n",
       "    <tr>\n",
       "      <th>0</th>\n",
       "      <td>2631</td>\n",
       "      <td>0</td>\n",
       "      <td>93</td>\n",
       "      <td>54</td>\n",
       "      <td>152</td>\n",
       "      <td>2685</td>\n",
       "      <td>[[0, 100], [0, 101], [0, 102], [0, 103], [0, 1...</td>\n",
       "      <td>NaN</td>\n",
       "    </tr>\n",
       "    <tr>\n",
       "      <th>1</th>\n",
       "      <td>813</td>\n",
       "      <td>15</td>\n",
       "      <td>1</td>\n",
       "      <td>52</td>\n",
       "      <td>36</td>\n",
       "      <td>933</td>\n",
       "      <td>[[15, 1], [15, 2], [15, 3], [15, 4], [16, 2], ...</td>\n",
       "      <td>NaN</td>\n",
       "    </tr>\n",
       "  </tbody>\n",
       "</table>\n",
       "</div>"
      ],
      "text/plain": [
       "   area  bbox-0  bbox-1  bbox-2  bbox-3  convex_area  \\\n",
       "0  2631       0      93      54     152         2685   \n",
       "1   813      15       1      52      36          933   \n",
       "\n",
       "                                              coords  drought_id  \n",
       "0  [[0, 100], [0, 101], [0, 102], [0, 103], [0, 1...         NaN  \n",
       "1  [[15, 1], [15, 2], [15, 3], [15, 4], [16, 2], ...         NaN  "
      ]
     },
     "execution_count": 55,
     "metadata": {},
     "output_type": "execute_result"
    }
   ],
   "source": [
    "blobs = identify_drought_blob(test_vals)\n",
    "blobs"
   ]
  },
  {
   "cell_type": "code",
   "execution_count": 56,
   "metadata": {},
   "outputs": [],
   "source": [
    "blob_x = blobs.coords.values[0][:,1]\n",
    "blob_y = blobs.coords.values[0][:,0]"
   ]
  },
  {
   "cell_type": "code",
   "execution_count": 57,
   "metadata": {},
   "outputs": [
    {
     "data": {
      "text/plain": [
       "<matplotlib.collections.PathCollection at 0x7fa3698def90>"
      ]
     },
     "execution_count": 57,
     "metadata": {},
     "output_type": "execute_result"
    },
    {
     "data": {
      "image/png": "[encoded data removed]",
      "text/plain": [
       "<Figure size 432x288 with 1 Axes>"
      ]
     },
     "metadata": {
      "needs_background": "light"
     },
     "output_type": "display_data"
    }
   ],
   "source": [
    "fig, ax = plt.subplots()\n",
    "\n",
    "ax.scatter(blob_x, blob_y, s=0.1)"
   ]
  },
  {
   "cell_type": "markdown",
   "metadata": {},
   "source": [
    "OH. That's why my conversion to Polygon keeps looking funky. `coords` gets all the pixels that are in the blob"
   ]
  },
  {
   "cell_type": "markdown",
   "metadata": {},
   "source": [
    "Actually the easiest solution to detecting if they are the same via overlap is to see if they share any of the same pixels. Now this won't handle something diverging, but it's a start."
   ]
  },
  {
   "cell_type": "markdown",
   "metadata": {},
   "source": [
    "Let's test that"
   ]
  },
  {
   "cell_type": "code",
   "execution_count": 58,
   "metadata": {},
   "outputs": [
    {
     "data": {
      "image/png": "[encoded data removed]",
      "text/plain": [
       "<Figure size 720x360 with 4 Axes>"
      ]
     },
     "metadata": {
      "needs_background": "light"
     },
     "output_type": "display_data"
    }
   ],
   "source": [
    "fig, axs = plt.subplots(2,1, figsize=(10,5))\n",
    "\n",
    "for ax, idx in zip(axs.ravel(), [500, 501]):\n",
    "    test.sel(index=idx).plot(ax=ax, vmin=-1, vmax=4, cmap=ndplot.usdm_cmap())\n",
    "    ax.set_facecolor('gray')\n",
    "    ax.set_aspect('equal')\n",
    "\n",
    "plt.tight_layout()"
   ]
  },
  {
   "cell_type": "markdown",
   "metadata": {},
   "source": [
    "Cool, those are pretty similar and will suffice"
   ]
  },
  {
   "cell_type": "code",
   "execution_count": 59,
   "metadata": {},
   "outputs": [
    {
     "data": {
      "text/html": [
       "<div>\n",
       "<style scoped>\n",
       "    .dataframe tbody tr th:only-of-type {\n",
       "        vertical-align: middle;\n",
       "    }\n",
       "\n",
       "    .dataframe tbody tr th {\n",
       "        vertical-align: top;\n",
       "    }\n",
       "\n",
       "    .dataframe thead th {\n",
       "        text-align: right;\n",
       "    }\n",
       "</style>\n",
       "<table border=\"1\" class=\"dataframe\">\n",
       "  <thead>\n",
       "    <tr style=\"text-align: right;\">\n",
       "      <th></th>\n",
       "      <th>area</th>\n",
       "      <th>bbox-0</th>\n",
       "      <th>bbox-1</th>\n",
       "      <th>bbox-2</th>\n",
       "      <th>bbox-3</th>\n",
       "      <th>convex_area</th>\n",
       "      <th>coords</th>\n",
       "      <th>drought_id</th>\n",
       "    </tr>\n",
       "  </thead>\n",
       "  <tbody>\n",
       "    <tr>\n",
       "      <th>0</th>\n",
       "      <td>2631</td>\n",
       "      <td>0</td>\n",
       "      <td>93</td>\n",
       "      <td>54</td>\n",
       "      <td>152</td>\n",
       "      <td>2685</td>\n",
       "      <td>[[0, 100], [0, 101], [0, 102], [0, 103], [0, 1...</td>\n",
       "      <td>NaN</td>\n",
       "    </tr>\n",
       "    <tr>\n",
       "      <th>1</th>\n",
       "      <td>813</td>\n",
       "      <td>15</td>\n",
       "      <td>1</td>\n",
       "      <td>52</td>\n",
       "      <td>36</td>\n",
       "      <td>933</td>\n",
       "      <td>[[15, 1], [15, 2], [15, 3], [15, 4], [16, 2], ...</td>\n",
       "      <td>NaN</td>\n",
       "    </tr>\n",
       "  </tbody>\n",
       "</table>\n",
       "</div>"
      ],
      "text/plain": [
       "   area  bbox-0  bbox-1  bbox-2  bbox-3  convex_area  \\\n",
       "0  2631       0      93      54     152         2685   \n",
       "1   813      15       1      52      36          933   \n",
       "\n",
       "                                              coords  drought_id  \n",
       "0  [[0, 100], [0, 101], [0, 102], [0, 103], [0, 1...         NaN  \n",
       "1  [[15, 1], [15, 2], [15, 3], [15, 4], [16, 2], ...         NaN  "
      ]
     },
     "execution_count": 59,
     "metadata": {},
     "output_type": "execute_result"
    }
   ],
   "source": [
    "blobs_i500 = identify_drought_blob(test.sel(index=500).values)\n",
    "blobs_i500"
   ]
  },
  {
   "cell_type": "code",
   "execution_count": 60,
   "metadata": {},
   "outputs": [
    {
     "data": {
      "text/html": [
       "<div>\n",
       "<style scoped>\n",
       "    .dataframe tbody tr th:only-of-type {\n",
       "        vertical-align: middle;\n",
       "    }\n",
       "\n",
       "    .dataframe tbody tr th {\n",
       "        vertical-align: top;\n",
       "    }\n",
       "\n",
       "    .dataframe thead th {\n",
       "        text-align: right;\n",
       "    }\n",
       "</style>\n",
       "<table border=\"1\" class=\"dataframe\">\n",
       "  <thead>\n",
       "    <tr style=\"text-align: right;\">\n",
       "      <th></th>\n",
       "      <th>area</th>\n",
       "      <th>bbox-0</th>\n",
       "      <th>bbox-1</th>\n",
       "      <th>bbox-2</th>\n",
       "      <th>bbox-3</th>\n",
       "      <th>convex_area</th>\n",
       "      <th>coords</th>\n",
       "      <th>drought_id</th>\n",
       "    </tr>\n",
       "  </thead>\n",
       "  <tbody>\n",
       "    <tr>\n",
       "      <th>0</th>\n",
       "      <td>2631</td>\n",
       "      <td>0</td>\n",
       "      <td>93</td>\n",
       "      <td>54</td>\n",
       "      <td>152</td>\n",
       "      <td>2685</td>\n",
       "      <td>[[0, 100], [0, 101], [0, 102], [0, 103], [0, 1...</td>\n",
       "      <td>NaN</td>\n",
       "    </tr>\n",
       "    <tr>\n",
       "      <th>1</th>\n",
       "      <td>813</td>\n",
       "      <td>15</td>\n",
       "      <td>1</td>\n",
       "      <td>52</td>\n",
       "      <td>36</td>\n",
       "      <td>933</td>\n",
       "      <td>[[15, 1], [15, 2], [15, 3], [15, 4], [16, 2], ...</td>\n",
       "      <td>NaN</td>\n",
       "    </tr>\n",
       "  </tbody>\n",
       "</table>\n",
       "</div>"
      ],
      "text/plain": [
       "   area  bbox-0  bbox-1  bbox-2  bbox-3  convex_area  \\\n",
       "0  2631       0      93      54     152         2685   \n",
       "1   813      15       1      52      36          933   \n",
       "\n",
       "                                              coords  drought_id  \n",
       "0  [[0, 100], [0, 101], [0, 102], [0, 103], [0, 1...         NaN  \n",
       "1  [[15, 1], [15, 2], [15, 3], [15, 4], [16, 2], ...         NaN  "
      ]
     },
     "execution_count": 60,
     "metadata": {},
     "output_type": "execute_result"
    }
   ],
   "source": [
    "blobs_i501 = identify_drought_blob(test.sel(index=501).values)\n",
    "blobs_i501"
   ]
  },
  {
   "cell_type": "code",
   "execution_count": 61,
   "metadata": {},
   "outputs": [
    {
     "data": {
      "text/plain": [
       "array([ 1,  2,  3,  4,  5,  6,  7,  8,  9, 10, 11, 12, 13, 14, 15, 16, 17,\n",
       "       18, 19, 20, 21, 22, 23, 24, 25, 26, 27, 28, 29, 30, 31, 32, 33, 34,\n",
       "       35, 36, 37, 38, 39, 40, 41, 42, 43, 44, 45, 46, 47, 48, 49, 50, 51])"
      ]
     },
     "execution_count": 61,
     "metadata": {},
     "output_type": "execute_result"
    }
   ],
   "source": [
    "np.intersect1d(blobs_i501.coords.values[0], blobs_i500.coords.values[1])"
   ]
  },
  {
   "cell_type": "code",
   "execution_count": 62,
   "metadata": {},
   "outputs": [],
   "source": [
    "blob_dict = dict()\n",
    "\n",
    "for a, coords_i501 in enumerate(blobs_i501.coords.values):\n",
    "    coords_i501_set = set(tuple(coord) for coord in coords_i501)\n",
    "    for b, coords_i500 in enumerate(blobs_i500.coords.values):\n",
    "        coords_i500_set = set(tuple(coord) for coord in coords_i500)\n",
    "        if len(coords_i501_set.intersection(coords_i500_set)) > 0:\n",
    "            blob_dict[a] = b"
   ]
  },
  {
   "cell_type": "code",
   "execution_count": 63,
   "metadata": {},
   "outputs": [
    {
     "data": {
      "text/plain": [
       "{0: 0, 1: 1}"
      ]
     },
     "execution_count": 63,
     "metadata": {},
     "output_type": "execute_result"
    }
   ],
   "source": [
    "blob_dict"
   ]
  },
  {
   "cell_type": "markdown",
   "metadata": {},
   "source": [
    "Awesome. I'm not sure the efficiency of that solution but it's a solution"
   ]
  },
  {
   "cell_type": "code",
   "execution_count": 64,
   "metadata": {},
   "outputs": [],
   "source": [
    "def connect_blobs_over_time(df_1:pd.DataFrame, df_2:pd.DataFrame):\n",
    "    \"\"\"Identify blobs shared between time frames.\n",
    "\n",
    "    Parameters\n",
    "    ---------\n",
    "    df_1 : pd.DataFrame\n",
    "        Blob dataframe at first time index.\n",
    "    df_2 : pd.DataFrame\n",
    "        Blob dataframe at second time index.\n",
    "\n",
    "    Returns\n",
    "    -------\n",
    "    dict\n",
    "        Indices to each dataframe denoting which\n",
    "        blobs are shared, with the indices od df_2\n",
    "        as the keys and df_1 as the values.\n",
    "    \"\"\"\n",
    "\n",
    "    blob_dict = dict()\n",
    "\n",
    "    for idx_1, df_1_coords in enumerate(df_1.coords.values):\n",
    "        df_1_coords_set = set(tuple(coord) for coord in df_1_coords)\n",
    "        for idx_2, df_2_coords in enumerate(df_2.coords.values):\n",
    "            df_2_coords_set = set(tuple(coord) for coord in df_2_coords)\n",
    "            if len(df_1_coords_set.intersection(df_2_coords_set)) > 0:\n",
    "                blob_dict[idx_2] = idx_1\n",
    "\n",
    "    return blob_dict"
   ]
  },
  {
   "cell_type": "code",
   "execution_count": 65,
   "metadata": {},
   "outputs": [
    {
     "data": {
      "text/plain": [
       "{0: 0, 1: 1}"
      ]
     },
     "execution_count": 65,
     "metadata": {},
     "output_type": "execute_result"
    }
   ],
   "source": [
    "connect_blobs_over_time(blobs_i500, blobs_i501)"
   ]
  },
  {
   "cell_type": "markdown",
   "metadata": {},
   "source": [
    "Neat, that works."
   ]
  },
  {
   "cell_type": "markdown",
   "metadata": {},
   "source": [
    "Now how would we handle blobs splitting into new blobs or joining into one blob ..."
   ]
  },
  {
   "cell_type": "markdown",
   "metadata": {},
   "source": [
    "Okay, I wrote up a scheme on my whiteboard and will try to reconvey the general principals here than put figure out code for it and test it."
   ]
  },
  {
   "cell_type": "markdown",
   "metadata": {},
   "source": [
    "### Drought Event Encoding"
   ]
  },
  {
   "cell_type": "markdown",
   "metadata": {},
   "source": [
    "The method I propose is a modification on Pfaffstetter encoding, which nicely handles diverging/bifurcating/splitting objects, but does not address joining objects since it is designed for river networks which only split one way (note that this is defined for river networks by going upstream). To address this, I propose adding a \".\" as a delimiter in the string to store events. The larger of the two events becomes the primary event occurring and would retain the front-most space ahead of all the \".\" while following it is it's history until completion. The other problem with Pfaffstetter encoding is that by relying solely on digits, it can only hold up to 9 different categories at the topmost level ... which for is great for river basins but there will likely be more then 9 independent drought events in an entire time series. To address this, I propose adding a \"-\" to denote a split.\n",
    "\n",
    "Event X on at it's start, if it's start is independent, would only have code \"1\" ... while event Y starting at the same time would have code \"2\". Now, let's say that event X split into 2 events A and B, this would give us codes \"1-1\" for A and \"1-2\" for B, (although which one has a second digit of \"2\" is arbitrary). This allows us to identify that events A and B came from event X because their first digit is \"1\". Now let's say that event Y merges with event A. The combination of Y and A would produce code \"2.1-1\" if Y is bigger, and \"1-2.2\" if A is bigger. By storing the consumed event after a \".\", we do not loose the history of the event and can follow it throughout. Now let's assume Y was bigger so that we get \"2.1-1\" for this new event we'll call M. If then a new event Z emerged, this would have code \"3\" ... which is then oblivious to the other events if it emerges independent of them (e.g. not from a split). Let's say we wanted to then how event X changed over time, we can then search for codes that start with \"1\" (since in this scenario event B still exists) and for codes that have \".1\" in them, indicating that it got consumed in some other event along the way. From this search we would get the times with codes \"1\", \"1-1\", \"1-2\", and \"2.1-1\". From this we can then plot how the area changes over time through a stacked line chart that would show what percentage of total event X is then in each \"1-2\" and \"1-1\" and so forth. \n",
    "\n",
    "Now if that was a little confusing to read, bear with me while I make an example and develop code for this that I test."
   ]
  },
  {
   "cell_type": "markdown",
   "metadata": {},
   "source": [
    "Let's setup our grid system"
   ]
  },
  {
   "cell_type": "code",
   "execution_count": 66,
   "metadata": {},
   "outputs": [],
   "source": [
    "grid_cell_x = np.array([0, 1, 1, 0, 0])\n",
    "grid_cell_y = np.array([0, 0, 1, 1, 0])"
   ]
  },
  {
   "cell_type": "code",
   "execution_count": 67,
   "metadata": {},
   "outputs": [],
   "source": [
    "grid_geo = []\n",
    "\n",
    "# going by 0.5's will line us up with an imshow nicely,\n",
    "# using this grid system is more for labeling purposes\n",
    "# than the test itself\n",
    "for y_shift in [-0.5, 0.5, 1.5, 2.5]:\n",
    "    for x_shift in [-0.5, 0.5, 1.5, 2.5]:\n",
    "        poly = Polygon(zip(grid_cell_x+x_shift, grid_cell_y+y_shift))\n",
    "        grid_geo.append(poly)"
   ]
  },
  {
   "cell_type": "code",
   "execution_count": 68,
   "metadata": {},
   "outputs": [],
   "source": [
    "import string"
   ]
  },
  {
   "cell_type": "code",
   "execution_count": 69,
   "metadata": {},
   "outputs": [
    {
     "name": "stderr",
     "output_type": "stream",
     "text": [
      "/pool0/data/steinadi/.conda/envs/sedi/lib/python3.7/site-packages/ipykernel_launcher.py:4: UserWarning: Geometry is in a geographic CRS. Results from 'area' are likely incorrect. Use 'GeoSeries.to_crs()' to re-project geometries to a projected CRS before this operation.\n",
      "\n",
      "  after removing the cwd from sys.path.\n"
     ]
    },
    {
     "data": {
      "text/html": [
       "<div>\n",
       "<style scoped>\n",
       "    .dataframe tbody tr th:only-of-type {\n",
       "        vertical-align: middle;\n",
       "    }\n",
       "\n",
       "    .dataframe tbody tr th {\n",
       "        vertical-align: top;\n",
       "    }\n",
       "\n",
       "    .dataframe thead th {\n",
       "        text-align: right;\n",
       "    }\n",
       "</style>\n",
       "<table border=\"1\" class=\"dataframe\">\n",
       "  <thead>\n",
       "    <tr style=\"text-align: right;\">\n",
       "      <th></th>\n",
       "      <th>geometry</th>\n",
       "      <th>cell_id</th>\n",
       "      <th>area</th>\n",
       "    </tr>\n",
       "  </thead>\n",
       "  <tbody>\n",
       "    <tr>\n",
       "      <th>a</th>\n",
       "      <td>POLYGON ((-0.50000 -0.50000, 0.50000 -0.50000,...</td>\n",
       "      <td>a</td>\n",
       "      <td>1.0</td>\n",
       "    </tr>\n",
       "    <tr>\n",
       "      <th>b</th>\n",
       "      <td>POLYGON ((0.50000 -0.50000, 1.50000 -0.50000, ...</td>\n",
       "      <td>b</td>\n",
       "      <td>1.0</td>\n",
       "    </tr>\n",
       "    <tr>\n",
       "      <th>c</th>\n",
       "      <td>POLYGON ((1.50000 -0.50000, 2.50000 -0.50000, ...</td>\n",
       "      <td>c</td>\n",
       "      <td>1.0</td>\n",
       "    </tr>\n",
       "    <tr>\n",
       "      <th>d</th>\n",
       "      <td>POLYGON ((2.50000 -0.50000, 3.50000 -0.50000, ...</td>\n",
       "      <td>d</td>\n",
       "      <td>1.0</td>\n",
       "    </tr>\n",
       "    <tr>\n",
       "      <th>e</th>\n",
       "      <td>POLYGON ((-0.50000 0.50000, 0.50000 0.50000, 0...</td>\n",
       "      <td>e</td>\n",
       "      <td>1.0</td>\n",
       "    </tr>\n",
       "    <tr>\n",
       "      <th>f</th>\n",
       "      <td>POLYGON ((0.50000 0.50000, 1.50000 0.50000, 1....</td>\n",
       "      <td>f</td>\n",
       "      <td>1.0</td>\n",
       "    </tr>\n",
       "    <tr>\n",
       "      <th>g</th>\n",
       "      <td>POLYGON ((1.50000 0.50000, 2.50000 0.50000, 2....</td>\n",
       "      <td>g</td>\n",
       "      <td>1.0</td>\n",
       "    </tr>\n",
       "    <tr>\n",
       "      <th>h</th>\n",
       "      <td>POLYGON ((2.50000 0.50000, 3.50000 0.50000, 3....</td>\n",
       "      <td>h</td>\n",
       "      <td>1.0</td>\n",
       "    </tr>\n",
       "    <tr>\n",
       "      <th>i</th>\n",
       "      <td>POLYGON ((-0.50000 1.50000, 0.50000 1.50000, 0...</td>\n",
       "      <td>i</td>\n",
       "      <td>1.0</td>\n",
       "    </tr>\n",
       "    <tr>\n",
       "      <th>j</th>\n",
       "      <td>POLYGON ((0.50000 1.50000, 1.50000 1.50000, 1....</td>\n",
       "      <td>j</td>\n",
       "      <td>1.0</td>\n",
       "    </tr>\n",
       "    <tr>\n",
       "      <th>k</th>\n",
       "      <td>POLYGON ((1.50000 1.50000, 2.50000 1.50000, 2....</td>\n",
       "      <td>k</td>\n",
       "      <td>1.0</td>\n",
       "    </tr>\n",
       "    <tr>\n",
       "      <th>l</th>\n",
       "      <td>POLYGON ((2.50000 1.50000, 3.50000 1.50000, 3....</td>\n",
       "      <td>l</td>\n",
       "      <td>1.0</td>\n",
       "    </tr>\n",
       "    <tr>\n",
       "      <th>m</th>\n",
       "      <td>POLYGON ((-0.50000 2.50000, 0.50000 2.50000, 0...</td>\n",
       "      <td>m</td>\n",
       "      <td>1.0</td>\n",
       "    </tr>\n",
       "    <tr>\n",
       "      <th>n</th>\n",
       "      <td>POLYGON ((0.50000 2.50000, 1.50000 2.50000, 1....</td>\n",
       "      <td>n</td>\n",
       "      <td>1.0</td>\n",
       "    </tr>\n",
       "    <tr>\n",
       "      <th>o</th>\n",
       "      <td>POLYGON ((1.50000 2.50000, 2.50000 2.50000, 2....</td>\n",
       "      <td>o</td>\n",
       "      <td>1.0</td>\n",
       "    </tr>\n",
       "    <tr>\n",
       "      <th>p</th>\n",
       "      <td>POLYGON ((2.50000 2.50000, 3.50000 2.50000, 3....</td>\n",
       "      <td>p</td>\n",
       "      <td>1.0</td>\n",
       "    </tr>\n",
       "  </tbody>\n",
       "</table>\n",
       "</div>"
      ],
      "text/plain": [
       "                                            geometry cell_id  area\n",
       "a  POLYGON ((-0.50000 -0.50000, 0.50000 -0.50000,...       a   1.0\n",
       "b  POLYGON ((0.50000 -0.50000, 1.50000 -0.50000, ...       b   1.0\n",
       "c  POLYGON ((1.50000 -0.50000, 2.50000 -0.50000, ...       c   1.0\n",
       "d  POLYGON ((2.50000 -0.50000, 3.50000 -0.50000, ...       d   1.0\n",
       "e  POLYGON ((-0.50000 0.50000, 0.50000 0.50000, 0...       e   1.0\n",
       "f  POLYGON ((0.50000 0.50000, 1.50000 0.50000, 1....       f   1.0\n",
       "g  POLYGON ((1.50000 0.50000, 2.50000 0.50000, 2....       g   1.0\n",
       "h  POLYGON ((2.50000 0.50000, 3.50000 0.50000, 3....       h   1.0\n",
       "i  POLYGON ((-0.50000 1.50000, 0.50000 1.50000, 0...       i   1.0\n",
       "j  POLYGON ((0.50000 1.50000, 1.50000 1.50000, 1....       j   1.0\n",
       "k  POLYGON ((1.50000 1.50000, 2.50000 1.50000, 2....       k   1.0\n",
       "l  POLYGON ((2.50000 1.50000, 3.50000 1.50000, 3....       l   1.0\n",
       "m  POLYGON ((-0.50000 2.50000, 0.50000 2.50000, 0...       m   1.0\n",
       "n  POLYGON ((0.50000 2.50000, 1.50000 2.50000, 1....       n   1.0\n",
       "o  POLYGON ((1.50000 2.50000, 2.50000 2.50000, 2....       o   1.0\n",
       "p  POLYGON ((2.50000 2.50000, 3.50000 2.50000, 3....       p   1.0"
      ]
     },
     "execution_count": 69,
     "metadata": {},
     "output_type": "execute_result"
    }
   ],
   "source": [
    "grid_gdf = gpd.GeoDataFrame(geometry=grid_geo, \n",
    "crs='EPSG:4326', index=list(string.ascii_lowercase)[:16])\n",
    "grid_gdf['cell_id'] = grid_gdf.index\n",
    "grid_gdf['area'] = grid_gdf.geometry.area\n",
    "grid_gdf"
   ]
  },
  {
   "cell_type": "code",
   "execution_count": 70,
   "metadata": {},
   "outputs": [],
   "source": [
    "# pull center coordinates to be able to annotate\n",
    "grid_gdf['coords'] = grid_gdf['geometry'].apply(lambda x: x.representative_point().coords[:])\n",
    "grid_gdf['coords'] = [coords[0] for coords in grid_gdf['coords']]"
   ]
  },
  {
   "cell_type": "code",
   "execution_count": 71,
   "metadata": {},
   "outputs": [
    {
     "data": {
      "text/plain": [
       "<matplotlib.image.AxesImage at 0x7fa3458e8e10>"
      ]
     },
     "execution_count": 71,
     "metadata": {},
     "output_type": "execute_result"
    },
    {
     "data": {
      "image/png": "[encoded data removed]",
      "text/plain": [
       "<Figure size 432x288 with 1 Axes>"
      ]
     },
     "metadata": {
      "needs_background": "light"
     },
     "output_type": "display_data"
    }
   ],
   "source": [
    "fig, ax = plt.subplots()\n",
    "\n",
    "grid_gdf.plot(edgecolor='k', ax=ax, alpha=0.1)\n",
    "# number our cells\n",
    "for idx, row in grid_gdf.iterrows():\n",
    "    ax.annotate(row['cell_id'], xy=row['coords'], horizontalalignment='center')\n",
    "\n",
    "# some sample empty data\n",
    "ax.imshow(np.zeros((4,4)), alpha=0.5)"
   ]
  },
  {
   "cell_type": "markdown",
   "metadata": {},
   "source": [
    "Cool, our blank data works. Let's now implement our example."
   ]
  },
  {
   "cell_type": "code",
   "execution_count": 72,
   "metadata": {},
   "outputs": [
    {
     "data": {
      "text/plain": [
       "array([[1, 1, 0, 0],\n",
       "       [1, 1, 0, 0],\n",
       "       [0, 0, 0, 0],\n",
       "       [0, 0, 0, 0]])"
      ]
     },
     "execution_count": 72,
     "metadata": {},
     "output_type": "execute_result"
    }
   ],
   "source": [
    "# going to make this all by hand to make tracing easier\n",
    "t1 = np.array([\n",
    "    [1, 1, 0, 0],\n",
    "    [1, 1, 0, 0],\n",
    "    [0, 0, 0, 0],\n",
    "    [0, 0, 0, 0],\n",
    "])\n",
    "t1"
   ]
  },
  {
   "cell_type": "code",
   "execution_count": 73,
   "metadata": {},
   "outputs": [
    {
     "data": {
      "text/plain": [
       "array([[1, 1, 1, 0],\n",
       "       [1, 1, 1, 0],\n",
       "       [0, 0, 0, 0],\n",
       "       [0, 1, 1, 1]])"
      ]
     },
     "execution_count": 73,
     "metadata": {},
     "output_type": "execute_result"
    }
   ],
   "source": [
    "t2 = np.array([\n",
    "    [1, 1, 1, 0],\n",
    "    [1, 1, 1, 0],\n",
    "    [0, 0, 0, 0],\n",
    "    [0, 1, 1, 1],\n",
    "])\n",
    "t2"
   ]
  },
  {
   "cell_type": "code",
   "execution_count": 74,
   "metadata": {},
   "outputs": [
    {
     "data": {
      "text/plain": [
       "array([[1, 0, 0, 0],\n",
       "       [1, 0, 1, 1],\n",
       "       [0, 0, 0, 0],\n",
       "       [0, 1, 1, 1]])"
      ]
     },
     "execution_count": 74,
     "metadata": {},
     "output_type": "execute_result"
    }
   ],
   "source": [
    "t3 = np.array([\n",
    "    [1, 0, 0, 0],\n",
    "    [1, 0, 1, 1],\n",
    "    [0, 0, 0, 0],\n",
    "    [0, 1, 1, 1],\n",
    "])\n",
    "t3"
   ]
  },
  {
   "cell_type": "code",
   "execution_count": 75,
   "metadata": {},
   "outputs": [
    {
     "data": {
      "text/plain": [
       "array([[1, 0, 0, 0],\n",
       "       [1, 0, 1, 1],\n",
       "       [0, 0, 1, 1],\n",
       "       [0, 1, 1, 1]])"
      ]
     },
     "execution_count": 75,
     "metadata": {},
     "output_type": "execute_result"
    }
   ],
   "source": [
    "t4 = np.array([\n",
    "    [1, 0, 0, 0],\n",
    "    [1, 0, 1, 1],\n",
    "    [0, 0, 1, 1],\n",
    "    [0, 1, 1, 1],\n",
    "])\n",
    "t4"
   ]
  },
  {
   "cell_type": "code",
   "execution_count": 76,
   "metadata": {},
   "outputs": [
    {
     "data": {
      "image/png": "[encoded data removed]",
      "text/plain": [
       "<Figure size 864x360 with 4 Axes>"
      ]
     },
     "metadata": {
      "needs_background": "light"
     },
     "output_type": "display_data"
    }
   ],
   "source": [
    "fig, axs = plt.subplots(1,4, figsize=(12,5))\n",
    "\n",
    "for ax, t, label in zip(axs.ravel(), [t1, t2, t3, t4], ['t1', 't2', 't3', 't4']):\n",
    "\n",
    "    grid_gdf.plot(edgecolor='k', ax=ax, alpha=0.1)\n",
    "    # number our cells\n",
    "    for idx, row in grid_gdf.iterrows():\n",
    "        ax.annotate(row['cell_id'], xy=row['coords'], horizontalalignment='center')\n",
    "\n",
    "    ax.imshow(t, alpha=0.5)\n",
    "    ax.set_title(label)"
   ]
  },
  {
   "cell_type": "markdown",
   "metadata": {},
   "source": [
    "Plotted above we now have the scenario I described:\n",
    "- t1: event X appears in cells a, b, e, and f\n",
    "- t2: event Y appears in cells n, o, p. event X has now grown into c and g as well\n",
    "- t3: event X splits into events A and B, where A is in cells g and h, while B is in cells a and e. event Y remains uncahnged\n",
    "- t4: event Y merges with event A, making the total event g, h, k, l, n, o, and p. Event B remains unchanged\n",
    "\n",
    "I do not continue beyond this here because it demonstrates several key cases to first test:\n",
    "- a new event is found\n",
    "- events change size\n",
    "- one event splits into two events\n",
    "- one event merges with another event"
   ]
  },
  {
   "cell_type": "markdown",
   "metadata": {},
   "source": [
    "Some other cases to consider would be:\n",
    "- the split and merge occurring with 2+ events\n",
    "- an event splits and merges with another event in the same time step\n",
    "- multiple separate splits contribute to a single merge between the splits"
   ]
  },
  {
   "cell_type": "markdown",
   "metadata": {},
   "source": [
    "Looking at the above scenario, we would want the following codes to be generated:\n",
    "- t1: \"1\"\n",
    "- t2: \"1\", \"2\"\n",
    "- t3: \"1-1\", \"1-2\", \"2\"\n",
    "- t4: \"1-2\", \"2.1-2\""
   ]
  },
  {
   "cell_type": "markdown",
   "metadata": {},
   "source": [
    "Let's now run our blob detection function on each time frame"
   ]
  },
  {
   "cell_type": "code",
   "execution_count": 77,
   "metadata": {},
   "outputs": [],
   "source": [
    "vals = t1\n",
    "\n",
    "(h, w) = vals.shape\n",
    "t = (h, w, 3)\n",
    "A = np.zeros(t, dtype=np.uint8)\n",
    "for i in range(h):\n",
    "    for j in range(w):\n",
    "        # since we already made it binary, this\n",
    "        # will make 1 vals be white and 0 vals\n",
    "        # be black in our RGB array\n",
    "        color_val = 255*vals[i,j]\n",
    "        A[i, j] = [color_val, color_val, color_val]\n",
    "\n",
    "# connectivity 2 will consider diagonals as connected\n",
    "blobs = skimage.measure.label(rgb2gray(A) > 0, connectivity=2)"
   ]
  },
  {
   "cell_type": "code",
   "execution_count": 78,
   "metadata": {},
   "outputs": [
    {
     "data": {
      "text/html": [
       "<div>\n",
       "<style scoped>\n",
       "    .dataframe tbody tr th:only-of-type {\n",
       "        vertical-align: middle;\n",
       "    }\n",
       "\n",
       "    .dataframe tbody tr th {\n",
       "        vertical-align: top;\n",
       "    }\n",
       "\n",
       "    .dataframe thead th {\n",
       "        text-align: right;\n",
       "    }\n",
       "</style>\n",
       "<table border=\"1\" class=\"dataframe\">\n",
       "  <thead>\n",
       "    <tr style=\"text-align: right;\">\n",
       "      <th></th>\n",
       "      <th>area</th>\n",
       "      <th>bbox-0</th>\n",
       "      <th>bbox-1</th>\n",
       "      <th>bbox-2</th>\n",
       "      <th>bbox-3</th>\n",
       "      <th>convex_area</th>\n",
       "      <th>coords</th>\n",
       "      <th>drought_id</th>\n",
       "    </tr>\n",
       "  </thead>\n",
       "  <tbody>\n",
       "    <tr>\n",
       "      <th>0</th>\n",
       "      <td>4</td>\n",
       "      <td>0</td>\n",
       "      <td>0</td>\n",
       "      <td>2</td>\n",
       "      <td>2</td>\n",
       "      <td>4</td>\n",
       "      <td>[[0, 0], [0, 1], [1, 0], [1, 1]]</td>\n",
       "      <td>NaN</td>\n",
       "    </tr>\n",
       "  </tbody>\n",
       "</table>\n",
       "</div>"
      ],
      "text/plain": [
       "   area  bbox-0  bbox-1  bbox-2  bbox-3  convex_area  \\\n",
       "0     4       0       0       2       2            4   \n",
       "\n",
       "                             coords  drought_id  \n",
       "0  [[0, 0], [0, 1], [1, 0], [1, 1]]         NaN  "
      ]
     },
     "execution_count": 78,
     "metadata": {},
     "output_type": "execute_result"
    }
   ],
   "source": [
    "df_1 = identify_drought_blob(t1)\n",
    "df_1"
   ]
  },
  {
   "cell_type": "code",
   "execution_count": 79,
   "metadata": {},
   "outputs": [
    {
     "data": {
      "text/html": [
       "<div>\n",
       "<style scoped>\n",
       "    .dataframe tbody tr th:only-of-type {\n",
       "        vertical-align: middle;\n",
       "    }\n",
       "\n",
       "    .dataframe tbody tr th {\n",
       "        vertical-align: top;\n",
       "    }\n",
       "\n",
       "    .dataframe thead th {\n",
       "        text-align: right;\n",
       "    }\n",
       "</style>\n",
       "<table border=\"1\" class=\"dataframe\">\n",
       "  <thead>\n",
       "    <tr style=\"text-align: right;\">\n",
       "      <th></th>\n",
       "      <th>area</th>\n",
       "      <th>bbox-0</th>\n",
       "      <th>bbox-1</th>\n",
       "      <th>bbox-2</th>\n",
       "      <th>bbox-3</th>\n",
       "      <th>convex_area</th>\n",
       "      <th>coords</th>\n",
       "      <th>drought_id</th>\n",
       "    </tr>\n",
       "  </thead>\n",
       "  <tbody>\n",
       "    <tr>\n",
       "      <th>0</th>\n",
       "      <td>6</td>\n",
       "      <td>0</td>\n",
       "      <td>0</td>\n",
       "      <td>2</td>\n",
       "      <td>3</td>\n",
       "      <td>6</td>\n",
       "      <td>[[0, 0], [0, 1], [0, 2], [1, 0], [1, 1], [1, 2]]</td>\n",
       "      <td>NaN</td>\n",
       "    </tr>\n",
       "    <tr>\n",
       "      <th>1</th>\n",
       "      <td>3</td>\n",
       "      <td>3</td>\n",
       "      <td>1</td>\n",
       "      <td>4</td>\n",
       "      <td>4</td>\n",
       "      <td>3</td>\n",
       "      <td>[[3, 1], [3, 2], [3, 3]]</td>\n",
       "      <td>NaN</td>\n",
       "    </tr>\n",
       "  </tbody>\n",
       "</table>\n",
       "</div>"
      ],
      "text/plain": [
       "   area  bbox-0  bbox-1  bbox-2  bbox-3  convex_area  \\\n",
       "0     6       0       0       2       3            6   \n",
       "1     3       3       1       4       4            3   \n",
       "\n",
       "                                             coords  drought_id  \n",
       "0  [[0, 0], [0, 1], [0, 2], [1, 0], [1, 1], [1, 2]]         NaN  \n",
       "1                          [[3, 1], [3, 2], [3, 3]]         NaN  "
      ]
     },
     "execution_count": 79,
     "metadata": {},
     "output_type": "execute_result"
    }
   ],
   "source": [
    "df_2 = identify_drought_blob(t2)\n",
    "df_2"
   ]
  },
  {
   "cell_type": "code",
   "execution_count": 80,
   "metadata": {},
   "outputs": [
    {
     "data": {
      "text/html": [
       "<div>\n",
       "<style scoped>\n",
       "    .dataframe tbody tr th:only-of-type {\n",
       "        vertical-align: middle;\n",
       "    }\n",
       "\n",
       "    .dataframe tbody tr th {\n",
       "        vertical-align: top;\n",
       "    }\n",
       "\n",
       "    .dataframe thead th {\n",
       "        text-align: right;\n",
       "    }\n",
       "</style>\n",
       "<table border=\"1\" class=\"dataframe\">\n",
       "  <thead>\n",
       "    <tr style=\"text-align: right;\">\n",
       "      <th></th>\n",
       "      <th>area</th>\n",
       "      <th>bbox-0</th>\n",
       "      <th>bbox-1</th>\n",
       "      <th>bbox-2</th>\n",
       "      <th>bbox-3</th>\n",
       "      <th>convex_area</th>\n",
       "      <th>coords</th>\n",
       "      <th>drought_id</th>\n",
       "    </tr>\n",
       "  </thead>\n",
       "  <tbody>\n",
       "    <tr>\n",
       "      <th>0</th>\n",
       "      <td>2</td>\n",
       "      <td>0</td>\n",
       "      <td>0</td>\n",
       "      <td>2</td>\n",
       "      <td>1</td>\n",
       "      <td>2</td>\n",
       "      <td>[[0, 0], [1, 0]]</td>\n",
       "      <td>NaN</td>\n",
       "    </tr>\n",
       "    <tr>\n",
       "      <th>1</th>\n",
       "      <td>2</td>\n",
       "      <td>1</td>\n",
       "      <td>2</td>\n",
       "      <td>2</td>\n",
       "      <td>4</td>\n",
       "      <td>2</td>\n",
       "      <td>[[1, 2], [1, 3]]</td>\n",
       "      <td>NaN</td>\n",
       "    </tr>\n",
       "    <tr>\n",
       "      <th>2</th>\n",
       "      <td>3</td>\n",
       "      <td>3</td>\n",
       "      <td>1</td>\n",
       "      <td>4</td>\n",
       "      <td>4</td>\n",
       "      <td>3</td>\n",
       "      <td>[[3, 1], [3, 2], [3, 3]]</td>\n",
       "      <td>NaN</td>\n",
       "    </tr>\n",
       "  </tbody>\n",
       "</table>\n",
       "</div>"
      ],
      "text/plain": [
       "   area  bbox-0  bbox-1  bbox-2  bbox-3  convex_area  \\\n",
       "0     2       0       0       2       1            2   \n",
       "1     2       1       2       2       4            2   \n",
       "2     3       3       1       4       4            3   \n",
       "\n",
       "                     coords  drought_id  \n",
       "0          [[0, 0], [1, 0]]         NaN  \n",
       "1          [[1, 2], [1, 3]]         NaN  \n",
       "2  [[3, 1], [3, 2], [3, 3]]         NaN  "
      ]
     },
     "execution_count": 80,
     "metadata": {},
     "output_type": "execute_result"
    }
   ],
   "source": [
    "df_3 = identify_drought_blob(t3)\n",
    "df_3"
   ]
  },
  {
   "cell_type": "code",
   "execution_count": 81,
   "metadata": {},
   "outputs": [
    {
     "data": {
      "text/html": [
       "<div>\n",
       "<style scoped>\n",
       "    .dataframe tbody tr th:only-of-type {\n",
       "        vertical-align: middle;\n",
       "    }\n",
       "\n",
       "    .dataframe tbody tr th {\n",
       "        vertical-align: top;\n",
       "    }\n",
       "\n",
       "    .dataframe thead th {\n",
       "        text-align: right;\n",
       "    }\n",
       "</style>\n",
       "<table border=\"1\" class=\"dataframe\">\n",
       "  <thead>\n",
       "    <tr style=\"text-align: right;\">\n",
       "      <th></th>\n",
       "      <th>area</th>\n",
       "      <th>bbox-0</th>\n",
       "      <th>bbox-1</th>\n",
       "      <th>bbox-2</th>\n",
       "      <th>bbox-3</th>\n",
       "      <th>convex_area</th>\n",
       "      <th>coords</th>\n",
       "      <th>drought_id</th>\n",
       "    </tr>\n",
       "  </thead>\n",
       "  <tbody>\n",
       "    <tr>\n",
       "      <th>0</th>\n",
       "      <td>2</td>\n",
       "      <td>0</td>\n",
       "      <td>0</td>\n",
       "      <td>2</td>\n",
       "      <td>1</td>\n",
       "      <td>2</td>\n",
       "      <td>[[0, 0], [1, 0]]</td>\n",
       "      <td>NaN</td>\n",
       "    </tr>\n",
       "    <tr>\n",
       "      <th>1</th>\n",
       "      <td>7</td>\n",
       "      <td>1</td>\n",
       "      <td>1</td>\n",
       "      <td>4</td>\n",
       "      <td>4</td>\n",
       "      <td>8</td>\n",
       "      <td>[[1, 2], [1, 3], [2, 2], [2, 3], [3, 1], [3, 2...</td>\n",
       "      <td>NaN</td>\n",
       "    </tr>\n",
       "  </tbody>\n",
       "</table>\n",
       "</div>"
      ],
      "text/plain": [
       "   area  bbox-0  bbox-1  bbox-2  bbox-3  convex_area  \\\n",
       "0     2       0       0       2       1            2   \n",
       "1     7       1       1       4       4            8   \n",
       "\n",
       "                                              coords  drought_id  \n",
       "0                                   [[0, 0], [1, 0]]         NaN  \n",
       "1  [[1, 2], [1, 3], [2, 2], [2, 3], [3, 1], [3, 2...         NaN  "
      ]
     },
     "execution_count": 81,
     "metadata": {},
     "output_type": "execute_result"
    }
   ],
   "source": [
    "df_4 = identify_drought_blob(t4)\n",
    "df_4"
   ]
  },
  {
   "cell_type": "markdown",
   "metadata": {},
   "source": [
    "Okay, based on the areas counted, it looks like the blobs were correctly identified."
   ]
  },
  {
   "cell_type": "markdown",
   "metadata": {},
   "source": [
    "Let's pair them up using the function we made a bit ago."
   ]
  },
  {
   "cell_type": "code",
   "execution_count": 82,
   "metadata": {},
   "outputs": [
    {
     "data": {
      "text/plain": [
       "{0: 0}"
      ]
     },
     "execution_count": 82,
     "metadata": {},
     "output_type": "execute_result"
    }
   ],
   "source": [
    "blob_dict_t1_to_t2 = connect_blobs_over_time(df_1, df_2)\n",
    "blob_dict_t1_to_t2"
   ]
  },
  {
   "cell_type": "markdown",
   "metadata": {},
   "source": [
    "That looks right, the 4 area grows to the 6 area, but the new 3 area was not in t1 and therefore would not have a connection"
   ]
  },
  {
   "cell_type": "code",
   "execution_count": 83,
   "metadata": {},
   "outputs": [
    {
     "data": {
      "text/plain": [
       "{0: 0, 1: 0, 2: 1}"
      ]
     },
     "execution_count": 83,
     "metadata": {},
     "output_type": "execute_result"
    }
   ],
   "source": [
    "blob_dict_t2_to_t3 = connect_blobs_over_time(df_2, df_3)\n",
    "blob_dict_t2_to_t3"
   ]
  },
  {
   "cell_type": "markdown",
   "metadata": {},
   "source": [
    "Cool, that caught that the 6 area goes to two 2 areas, and that the 3 area stays a three area despite it's index changing."
   ]
  },
  {
   "cell_type": "code",
   "execution_count": 84,
   "metadata": {},
   "outputs": [
    {
     "data": {
      "text/plain": [
       "{0: 0, 1: 2}"
      ]
     },
     "execution_count": 84,
     "metadata": {},
     "output_type": "execute_result"
    }
   ],
   "source": [
    "blob_dict_t3_to_t4 = connect_blobs_over_time(df_3, df_4)\n",
    "blob_dict_t3_to_t4"
   ]
  },
  {
   "cell_type": "markdown",
   "metadata": {},
   "source": [
    "That got the 2 area staying as a 2 area ... but only one of the areas is preserved in the merge ... because it's a dictionary and therefore the result was overwritten. I can change that to tuples and then it won't be overwritten, cause if we just simply switch the keys and values then `blob_dict_t2_to_t3` would not catch the split and only retain one of them. "
   ]
  },
  {
   "cell_type": "code",
   "execution_count": 85,
   "metadata": {},
   "outputs": [],
   "source": [
    "def connect_blobs_over_time(df_1:pd.DataFrame, df_2:pd.DataFrame):\n",
    "    \"\"\"Identify blobs shared between time frames.\n",
    "\n",
    "    Parameters\n",
    "    ---------\n",
    "    df_1 : pd.DataFrame\n",
    "        Blob dataframe at first time index.\n",
    "    df_2 : pd.DataFrame\n",
    "        Blob dataframe at second time index.\n",
    "\n",
    "    Returns\n",
    "    -------\n",
    "    list\n",
    "        Indices to each dataframe denoting which\n",
    "        blobs are shared, where each tuple in the\n",
    "        list is connection. The first index of\n",
    "        each tuple corresponds to df_1, while the\n",
    "        second index correponds to df_2\n",
    "    \"\"\"\n",
    "\n",
    "    blob_pairs = []\n",
    "\n",
    "    for idx_1, df_1_coords in enumerate(df_1.coords.values):\n",
    "        df_1_coords_set = set(tuple(coord) for coord in df_1_coords)\n",
    "        for idx_2, df_2_coords in enumerate(df_2.coords.values):\n",
    "            df_2_coords_set = set(tuple(coord) for coord in df_2_coords)\n",
    "            if len(df_1_coords_set.intersection(df_2_coords_set)) > 0:\n",
    "                blob_pairs.append((idx_1, idx_2))\n",
    "\n",
    "    return blob_pairs"
   ]
  },
  {
   "cell_type": "markdown",
   "metadata": {},
   "source": [
    "Double check now that our earlier test case gives us the same answers"
   ]
  },
  {
   "cell_type": "code",
   "execution_count": 86,
   "metadata": {},
   "outputs": [
    {
     "data": {
      "text/plain": [
       "[(0, 0), (1, 1)]"
      ]
     },
     "execution_count": 86,
     "metadata": {},
     "output_type": "execute_result"
    }
   ],
   "source": [
    "connect_blobs_over_time(blobs_i500, blobs_i501)"
   ]
  },
  {
   "cell_type": "markdown",
   "metadata": {},
   "source": [
    "Cool. Now let's try our more elaborate test case out."
   ]
  },
  {
   "cell_type": "code",
   "execution_count": 87,
   "metadata": {},
   "outputs": [
    {
     "data": {
      "text/plain": [
       "[(0, 0)]"
      ]
     },
     "execution_count": 87,
     "metadata": {},
     "output_type": "execute_result"
    }
   ],
   "source": [
    "blob_con_t1_to_t2 = connect_blobs_over_time(df_1, df_2)\n",
    "blob_con_t1_to_t2"
   ]
  },
  {
   "cell_type": "markdown",
   "metadata": {},
   "source": [
    "Good, same as before."
   ]
  },
  {
   "cell_type": "code",
   "execution_count": 88,
   "metadata": {},
   "outputs": [
    {
     "data": {
      "text/plain": [
       "[(0, 0), (0, 1), (1, 2)]"
      ]
     },
     "execution_count": 88,
     "metadata": {},
     "output_type": "execute_result"
    }
   ],
   "source": [
    "blob_con_t2_to_t3 = connect_blobs_over_time(df_2, df_3)\n",
    "blob_con_t2_to_t3"
   ]
  },
  {
   "cell_type": "markdown",
   "metadata": {},
   "source": [
    "Still good. Can note the order of the indices is changed here since it just made more sense to me to preserve the order in which they were given."
   ]
  },
  {
   "cell_type": "code",
   "execution_count": 89,
   "metadata": {},
   "outputs": [
    {
     "data": {
      "text/plain": [
       "[(0, 0), (1, 1), (2, 1)]"
      ]
     },
     "execution_count": 89,
     "metadata": {},
     "output_type": "execute_result"
    }
   ],
   "source": [
    "blob_con_t3_to_t4 = connect_blobs_over_time(df_3, df_4)\n",
    "blob_con_t3_to_t4"
   ]
  },
  {
   "cell_type": "markdown",
   "metadata": {},
   "source": [
    "Much better, now it's got both of the things that merge into the 7 area."
   ]
  },
  {
   "cell_type": "markdown",
   "metadata": {},
   "source": [
    "Now to use these to encode the blobs. This is where we start to get finicky with strings."
   ]
  },
  {
   "cell_type": "code",
   "execution_count": 90,
   "metadata": {},
   "outputs": [],
   "source": [
    "# setup some empty space to fill with ids\n",
    "df_1['drought_id'] = np.nan*np.zeros(len(df_1))\n",
    "df_2['drought_id'] = np.nan*np.zeros(len(df_2))\n",
    "df_3['drought_id'] = np.nan*np.zeros(len(df_3))\n",
    "df_4['drought_id'] = np.nan*np.zeros(len(df_4))"
   ]
  },
  {
   "cell_type": "code",
   "execution_count": 91,
   "metadata": {},
   "outputs": [
    {
     "name": "stderr",
     "output_type": "stream",
     "text": [
      "/pool0/data/steinadi/.conda/envs/sedi/lib/python3.7/site-packages/pandas/core/indexing.py:1732: SettingWithCopyWarning: \n",
      "A value is trying to be set on a copy of a slice from a DataFrame\n",
      "\n",
      "See the caveats in the documentation: https://pandas.pydata.org/pandas-docs/stable/user_guide/indexing.html#returning-a-view-versus-a-copy\n",
      "  self._setitem_single_block(indexer, value, name)\n"
     ]
    },
    {
     "data": {
      "text/html": [
       "<div>\n",
       "<style scoped>\n",
       "    .dataframe tbody tr th:only-of-type {\n",
       "        vertical-align: middle;\n",
       "    }\n",
       "\n",
       "    .dataframe tbody tr th {\n",
       "        vertical-align: top;\n",
       "    }\n",
       "\n",
       "    .dataframe thead th {\n",
       "        text-align: right;\n",
       "    }\n",
       "</style>\n",
       "<table border=\"1\" class=\"dataframe\">\n",
       "  <thead>\n",
       "    <tr style=\"text-align: right;\">\n",
       "      <th></th>\n",
       "      <th>area</th>\n",
       "      <th>bbox-0</th>\n",
       "      <th>bbox-1</th>\n",
       "      <th>bbox-2</th>\n",
       "      <th>bbox-3</th>\n",
       "      <th>convex_area</th>\n",
       "      <th>coords</th>\n",
       "      <th>drought_id</th>\n",
       "    </tr>\n",
       "  </thead>\n",
       "  <tbody>\n",
       "    <tr>\n",
       "      <th>0</th>\n",
       "      <td>4</td>\n",
       "      <td>0</td>\n",
       "      <td>0</td>\n",
       "      <td>2</td>\n",
       "      <td>2</td>\n",
       "      <td>4</td>\n",
       "      <td>[[0, 0], [0, 1], [1, 0], [1, 1]]</td>\n",
       "      <td>1</td>\n",
       "    </tr>\n",
       "  </tbody>\n",
       "</table>\n",
       "</div>"
      ],
      "text/plain": [
       "   area  bbox-0  bbox-1  bbox-2  bbox-3  convex_area  \\\n",
       "0     4       0       0       2       2            4   \n",
       "\n",
       "                             coords drought_id  \n",
       "0  [[0, 0], [0, 1], [1, 0], [1, 1]]          1  "
      ]
     },
     "execution_count": 91,
     "metadata": {},
     "output_type": "execute_result"
    }
   ],
   "source": [
    "# want to keep track of what number we are on\n",
    "new_blob_num = 1\n",
    "\n",
    "for i in np.arange(len(df_1)):\n",
    "    df_1['drought_id'].iloc[i] = f'{new_blob_num}'\n",
    "    new_blob_num += 1\n",
    "\n",
    "df_1"
   ]
  },
  {
   "cell_type": "markdown",
   "metadata": {},
   "source": [
    "That was probably the easiest one. Now there needs to be communication between time steps"
   ]
  },
  {
   "cell_type": "code",
   "execution_count": 92,
   "metadata": {},
   "outputs": [],
   "source": [
    "def propagate_drought_id(df_1=None, df_2=None, connections=[], new_blob_num=1):\n",
    "\n",
    "    if len(connections) > 0:\n",
    "\n",
    "        # need to keep track of splits among multiple\n",
    "        # blobs (since they are 1-to-many and we are\n",
    "        # iterating through linearly)\n",
    "        split_origins = dict()\n",
    "\n",
    "        for i in np.arange(len(df_2)):\n",
    "            drought_id = \"\"\n",
    "\n",
    "            # ALL CONNECTIONS\n",
    "            # first we need to figure out if we are connected\n",
    "            connects_origins = list()\n",
    "            for connect in connections:\n",
    "                # this means that our current index\n",
    "                # connects to a previous time's index\n",
    "                if connect[1] == i:\n",
    "                    # we already know it's going to index i\n",
    "                    # we need to figure out where it's coming from\n",
    "                    connects_origins.append(connect[0])\n",
    "\n",
    "            # SPLITS        \n",
    "            # now we need to check if this is part of a split\n",
    "            split_connections = dict()\n",
    "            for origin in connects_origins:\n",
    "                split_counter = 0\n",
    "                for connect in connections:\n",
    "                    # we want to count how many times the origin is\n",
    "                    # connected to something ... if it ends up being\n",
    "                    # more than once then it's a split\n",
    "                    if connect[0] == origin:\n",
    "                        split_counter += 1\n",
    "                # meaning we found a split\n",
    "                if split_counter > 1:\n",
    "                    split_connections[origin] = split_counter\n",
    "                    # if this is a new split we found, we\n",
    "                    # should make sure to save a note of it\n",
    "                    if origin not in split_origins.keys():\n",
    "                        split_origins[origin] = 1\n",
    "                \n",
    "            # so this would be if the split was found        \n",
    "            if len(split_connections) > 0:\n",
    "                for split_origin in split_connections.keys():\n",
    "                    split_origin_id = df_1['drought_id'].values[split_origin]\n",
    "                    current_split_num = split_origins[split_origin]\n",
    "\n",
    "                    drought_id = f'{split_origin_id}-{current_split_num}'\n",
    "                    \n",
    "                    # iterate for the next blob it splits into\n",
    "                    split_origins[split_origin] += 1\n",
    "\n",
    "            # MERGES\n",
    "            # we have a merge if more than 1 blob\n",
    "            # goes into this one\n",
    "            if len(connects_origins) > 1:\n",
    "                merged_blob_ids = df_1.iloc[connects_origins].sort_values('area', ascending=False)['drought_id'].values\n",
    "                # double check if we already had a split and began\n",
    "                # writing our code for this blob, if not we need to\n",
    "                # set it up\n",
    "                if len(drought_id) == 0:\n",
    "                    drought_id = merged_blob_ids[0]\n",
    "                for id in merged_blob_ids[1:]:\n",
    "                    drought_id = f'{drought_id}.{id}'\n",
    "                    \n",
    "            # NO SPLIT NO MERGE        \n",
    "            if len(connects_origins) == 1 and len(split_connections) == 0:\n",
    "                drought_id = df_1.iloc[connects_origins[0]]['drought_id']\n",
    "                \n",
    "\n",
    "            # CONNECTIONS EXIST, BUT NEW BLOB\n",
    "            if len(connects_origins) == 0:\n",
    "                drought_id = f'{new_blob_num}'\n",
    "                new_blob_num += 1    \n",
    "\n",
    "            df_2['drought_id'].iloc[i] = drought_id                   \n",
    "\n",
    "    else:\n",
    "        # there were no connections, all id's start from scratch\n",
    "        for i in np.arange(len(df_2)):\n",
    "            df_2['drought_id'].iloc[i] = f'{new_blob_num}'\n",
    "            new_blob_num += 1\n",
    "\n",
    "    return df_2, new_blob_num"
   ]
  },
  {
   "cell_type": "code",
   "execution_count": 93,
   "metadata": {},
   "outputs": [
    {
     "data": {
      "text/html": [
       "<div>\n",
       "<style scoped>\n",
       "    .dataframe tbody tr th:only-of-type {\n",
       "        vertical-align: middle;\n",
       "    }\n",
       "\n",
       "    .dataframe tbody tr th {\n",
       "        vertical-align: top;\n",
       "    }\n",
       "\n",
       "    .dataframe thead th {\n",
       "        text-align: right;\n",
       "    }\n",
       "</style>\n",
       "<table border=\"1\" class=\"dataframe\">\n",
       "  <thead>\n",
       "    <tr style=\"text-align: right;\">\n",
       "      <th></th>\n",
       "      <th>area</th>\n",
       "      <th>bbox-0</th>\n",
       "      <th>bbox-1</th>\n",
       "      <th>bbox-2</th>\n",
       "      <th>bbox-3</th>\n",
       "      <th>convex_area</th>\n",
       "      <th>coords</th>\n",
       "      <th>drought_id</th>\n",
       "    </tr>\n",
       "  </thead>\n",
       "  <tbody>\n",
       "    <tr>\n",
       "      <th>0</th>\n",
       "      <td>4</td>\n",
       "      <td>0</td>\n",
       "      <td>0</td>\n",
       "      <td>2</td>\n",
       "      <td>2</td>\n",
       "      <td>4</td>\n",
       "      <td>[[0, 0], [0, 1], [1, 0], [1, 1]]</td>\n",
       "      <td>1</td>\n",
       "    </tr>\n",
       "  </tbody>\n",
       "</table>\n",
       "</div>"
      ],
      "text/plain": [
       "   area  bbox-0  bbox-1  bbox-2  bbox-3  convex_area  \\\n",
       "0     4       0       0       2       2            4   \n",
       "\n",
       "                             coords drought_id  \n",
       "0  [[0, 0], [0, 1], [1, 0], [1, 1]]          1  "
      ]
     },
     "execution_count": 93,
     "metadata": {},
     "output_type": "execute_result"
    }
   ],
   "source": [
    "df_1"
   ]
  },
  {
   "cell_type": "code",
   "execution_count": 94,
   "metadata": {},
   "outputs": [
    {
     "name": "stderr",
     "output_type": "stream",
     "text": [
      "/pool0/data/steinadi/.conda/envs/sedi/lib/python3.7/site-packages/pandas/core/indexing.py:1732: SettingWithCopyWarning: \n",
      "A value is trying to be set on a copy of a slice from a DataFrame\n",
      "\n",
      "See the caveats in the documentation: https://pandas.pydata.org/pandas-docs/stable/user_guide/indexing.html#returning-a-view-versus-a-copy\n",
      "  self._setitem_single_block(indexer, value, name)\n"
     ]
    }
   ],
   "source": [
    "new_blob_num = 2\n",
    "df_2, new_blob_num = propagate_drought_id(df_1, df_2, blob_con_t1_to_t2, new_blob_num)"
   ]
  },
  {
   "cell_type": "code",
   "execution_count": 95,
   "metadata": {},
   "outputs": [
    {
     "data": {
      "text/plain": [
       "3"
      ]
     },
     "execution_count": 95,
     "metadata": {},
     "output_type": "execute_result"
    }
   ],
   "source": [
    "new_blob_num"
   ]
  },
  {
   "cell_type": "code",
   "execution_count": 96,
   "metadata": {},
   "outputs": [
    {
     "data": {
      "text/html": [
       "<div>\n",
       "<style scoped>\n",
       "    .dataframe tbody tr th:only-of-type {\n",
       "        vertical-align: middle;\n",
       "    }\n",
       "\n",
       "    .dataframe tbody tr th {\n",
       "        vertical-align: top;\n",
       "    }\n",
       "\n",
       "    .dataframe thead th {\n",
       "        text-align: right;\n",
       "    }\n",
       "</style>\n",
       "<table border=\"1\" class=\"dataframe\">\n",
       "  <thead>\n",
       "    <tr style=\"text-align: right;\">\n",
       "      <th></th>\n",
       "      <th>area</th>\n",
       "      <th>bbox-0</th>\n",
       "      <th>bbox-1</th>\n",
       "      <th>bbox-2</th>\n",
       "      <th>bbox-3</th>\n",
       "      <th>convex_area</th>\n",
       "      <th>coords</th>\n",
       "      <th>drought_id</th>\n",
       "    </tr>\n",
       "  </thead>\n",
       "  <tbody>\n",
       "    <tr>\n",
       "      <th>0</th>\n",
       "      <td>6</td>\n",
       "      <td>0</td>\n",
       "      <td>0</td>\n",
       "      <td>2</td>\n",
       "      <td>3</td>\n",
       "      <td>6</td>\n",
       "      <td>[[0, 0], [0, 1], [0, 2], [1, 0], [1, 1], [1, 2]]</td>\n",
       "      <td>1</td>\n",
       "    </tr>\n",
       "    <tr>\n",
       "      <th>1</th>\n",
       "      <td>3</td>\n",
       "      <td>3</td>\n",
       "      <td>1</td>\n",
       "      <td>4</td>\n",
       "      <td>4</td>\n",
       "      <td>3</td>\n",
       "      <td>[[3, 1], [3, 2], [3, 3]]</td>\n",
       "      <td>2</td>\n",
       "    </tr>\n",
       "  </tbody>\n",
       "</table>\n",
       "</div>"
      ],
      "text/plain": [
       "   area  bbox-0  bbox-1  bbox-2  bbox-3  convex_area  \\\n",
       "0     6       0       0       2       3            6   \n",
       "1     3       3       1       4       4            3   \n",
       "\n",
       "                                             coords drought_id  \n",
       "0  [[0, 0], [0, 1], [0, 2], [1, 0], [1, 1], [1, 2]]          1  \n",
       "1                          [[3, 1], [3, 2], [3, 3]]          2  "
      ]
     },
     "execution_count": 96,
     "metadata": {},
     "output_type": "execute_result"
    }
   ],
   "source": [
    "df_2"
   ]
  },
  {
   "cell_type": "code",
   "execution_count": 97,
   "metadata": {},
   "outputs": [
    {
     "name": "stderr",
     "output_type": "stream",
     "text": [
      "/pool0/data/steinadi/.conda/envs/sedi/lib/python3.7/site-packages/pandas/core/indexing.py:1732: SettingWithCopyWarning: \n",
      "A value is trying to be set on a copy of a slice from a DataFrame\n",
      "\n",
      "See the caveats in the documentation: https://pandas.pydata.org/pandas-docs/stable/user_guide/indexing.html#returning-a-view-versus-a-copy\n",
      "  self._setitem_single_block(indexer, value, name)\n"
     ]
    }
   ],
   "source": [
    "df_3, new_blob_num = propagate_drought_id(df_2, df_3, blob_con_t2_to_t3, new_blob_num)"
   ]
  },
  {
   "cell_type": "code",
   "execution_count": 98,
   "metadata": {},
   "outputs": [
    {
     "data": {
      "text/html": [
       "<div>\n",
       "<style scoped>\n",
       "    .dataframe tbody tr th:only-of-type {\n",
       "        vertical-align: middle;\n",
       "    }\n",
       "\n",
       "    .dataframe tbody tr th {\n",
       "        vertical-align: top;\n",
       "    }\n",
       "\n",
       "    .dataframe thead th {\n",
       "        text-align: right;\n",
       "    }\n",
       "</style>\n",
       "<table border=\"1\" class=\"dataframe\">\n",
       "  <thead>\n",
       "    <tr style=\"text-align: right;\">\n",
       "      <th></th>\n",
       "      <th>area</th>\n",
       "      <th>bbox-0</th>\n",
       "      <th>bbox-1</th>\n",
       "      <th>bbox-2</th>\n",
       "      <th>bbox-3</th>\n",
       "      <th>convex_area</th>\n",
       "      <th>coords</th>\n",
       "      <th>drought_id</th>\n",
       "    </tr>\n",
       "  </thead>\n",
       "  <tbody>\n",
       "    <tr>\n",
       "      <th>0</th>\n",
       "      <td>2</td>\n",
       "      <td>0</td>\n",
       "      <td>0</td>\n",
       "      <td>2</td>\n",
       "      <td>1</td>\n",
       "      <td>2</td>\n",
       "      <td>[[0, 0], [1, 0]]</td>\n",
       "      <td>1-1</td>\n",
       "    </tr>\n",
       "    <tr>\n",
       "      <th>1</th>\n",
       "      <td>2</td>\n",
       "      <td>1</td>\n",
       "      <td>2</td>\n",
       "      <td>2</td>\n",
       "      <td>4</td>\n",
       "      <td>2</td>\n",
       "      <td>[[1, 2], [1, 3]]</td>\n",
       "      <td>1-2</td>\n",
       "    </tr>\n",
       "    <tr>\n",
       "      <th>2</th>\n",
       "      <td>3</td>\n",
       "      <td>3</td>\n",
       "      <td>1</td>\n",
       "      <td>4</td>\n",
       "      <td>4</td>\n",
       "      <td>3</td>\n",
       "      <td>[[3, 1], [3, 2], [3, 3]]</td>\n",
       "      <td>2</td>\n",
       "    </tr>\n",
       "  </tbody>\n",
       "</table>\n",
       "</div>"
      ],
      "text/plain": [
       "   area  bbox-0  bbox-1  bbox-2  bbox-3  convex_area  \\\n",
       "0     2       0       0       2       1            2   \n",
       "1     2       1       2       2       4            2   \n",
       "2     3       3       1       4       4            3   \n",
       "\n",
       "                     coords drought_id  \n",
       "0          [[0, 0], [1, 0]]        1-1  \n",
       "1          [[1, 2], [1, 3]]        1-2  \n",
       "2  [[3, 1], [3, 2], [3, 3]]          2  "
      ]
     },
     "execution_count": 98,
     "metadata": {},
     "output_type": "execute_result"
    }
   ],
   "source": [
    "df_3"
   ]
  },
  {
   "cell_type": "code",
   "execution_count": 99,
   "metadata": {},
   "outputs": [
    {
     "name": "stderr",
     "output_type": "stream",
     "text": [
      "/pool0/data/steinadi/.conda/envs/sedi/lib/python3.7/site-packages/pandas/core/indexing.py:1732: SettingWithCopyWarning: \n",
      "A value is trying to be set on a copy of a slice from a DataFrame\n",
      "\n",
      "See the caveats in the documentation: https://pandas.pydata.org/pandas-docs/stable/user_guide/indexing.html#returning-a-view-versus-a-copy\n",
      "  self._setitem_single_block(indexer, value, name)\n"
     ]
    }
   ],
   "source": [
    "df_4, new_blob_num = propagate_drought_id(df_3, df_4, blob_con_t3_to_t4, new_blob_num)"
   ]
  },
  {
   "cell_type": "code",
   "execution_count": 100,
   "metadata": {},
   "outputs": [
    {
     "data": {
      "text/html": [
       "<div>\n",
       "<style scoped>\n",
       "    .dataframe tbody tr th:only-of-type {\n",
       "        vertical-align: middle;\n",
       "    }\n",
       "\n",
       "    .dataframe tbody tr th {\n",
       "        vertical-align: top;\n",
       "    }\n",
       "\n",
       "    .dataframe thead th {\n",
       "        text-align: right;\n",
       "    }\n",
       "</style>\n",
       "<table border=\"1\" class=\"dataframe\">\n",
       "  <thead>\n",
       "    <tr style=\"text-align: right;\">\n",
       "      <th></th>\n",
       "      <th>area</th>\n",
       "      <th>bbox-0</th>\n",
       "      <th>bbox-1</th>\n",
       "      <th>bbox-2</th>\n",
       "      <th>bbox-3</th>\n",
       "      <th>convex_area</th>\n",
       "      <th>coords</th>\n",
       "      <th>drought_id</th>\n",
       "    </tr>\n",
       "  </thead>\n",
       "  <tbody>\n",
       "    <tr>\n",
       "      <th>0</th>\n",
       "      <td>2</td>\n",
       "      <td>0</td>\n",
       "      <td>0</td>\n",
       "      <td>2</td>\n",
       "      <td>1</td>\n",
       "      <td>2</td>\n",
       "      <td>[[0, 0], [1, 0]]</td>\n",
       "      <td>1-1</td>\n",
       "    </tr>\n",
       "    <tr>\n",
       "      <th>1</th>\n",
       "      <td>7</td>\n",
       "      <td>1</td>\n",
       "      <td>1</td>\n",
       "      <td>4</td>\n",
       "      <td>4</td>\n",
       "      <td>8</td>\n",
       "      <td>[[1, 2], [1, 3], [2, 2], [2, 3], [3, 1], [3, 2...</td>\n",
       "      <td>2.1-2</td>\n",
       "    </tr>\n",
       "  </tbody>\n",
       "</table>\n",
       "</div>"
      ],
      "text/plain": [
       "   area  bbox-0  bbox-1  bbox-2  bbox-3  convex_area  \\\n",
       "0     2       0       0       2       1            2   \n",
       "1     7       1       1       4       4            8   \n",
       "\n",
       "                                              coords drought_id  \n",
       "0                                   [[0, 0], [1, 0]]        1-1  \n",
       "1  [[1, 2], [1, 3], [2, 2], [2, 3], [3, 1], [3, 2...      2.1-2  "
      ]
     },
     "execution_count": 100,
     "metadata": {},
     "output_type": "execute_result"
    }
   ],
   "source": [
    "df_4"
   ]
  },
  {
   "cell_type": "markdown",
   "metadata": {},
   "source": [
    "Mwhahaha, it works!!!"
   ]
  },
  {
   "cell_type": "markdown",
   "metadata": {},
   "source": [
    "Those are the test answers I was hoping for."
   ]
  },
  {
   "cell_type": "markdown",
   "metadata": {},
   "source": [
    "Now, can I put it all in a dataset and make some plots ..."
   ]
  },
  {
   "cell_type": "code",
   "execution_count": 101,
   "metadata": {},
   "outputs": [
    {
     "data": {
      "text/html": [
       "<div>\n",
       "<style scoped>\n",
       "    .dataframe tbody tr th:only-of-type {\n",
       "        vertical-align: middle;\n",
       "    }\n",
       "\n",
       "    .dataframe tbody tr th {\n",
       "        vertical-align: top;\n",
       "    }\n",
       "\n",
       "    .dataframe thead th {\n",
       "        text-align: right;\n",
       "    }\n",
       "</style>\n",
       "<table border=\"1\" class=\"dataframe\">\n",
       "  <thead>\n",
       "    <tr style=\"text-align: right;\">\n",
       "      <th></th>\n",
       "      <th>geometry</th>\n",
       "      <th>cell_id</th>\n",
       "      <th>area</th>\n",
       "      <th>coords</th>\n",
       "    </tr>\n",
       "  </thead>\n",
       "  <tbody>\n",
       "    <tr>\n",
       "      <th>a</th>\n",
       "      <td>POLYGON ((-0.50000 -0.50000, 0.50000 -0.50000,...</td>\n",
       "      <td>a</td>\n",
       "      <td>1.0</td>\n",
       "      <td>(0.0, 0.0)</td>\n",
       "    </tr>\n",
       "    <tr>\n",
       "      <th>b</th>\n",
       "      <td>POLYGON ((0.50000 -0.50000, 1.50000 -0.50000, ...</td>\n",
       "      <td>b</td>\n",
       "      <td>1.0</td>\n",
       "      <td>(1.0, 0.0)</td>\n",
       "    </tr>\n",
       "    <tr>\n",
       "      <th>c</th>\n",
       "      <td>POLYGON ((1.50000 -0.50000, 2.50000 -0.50000, ...</td>\n",
       "      <td>c</td>\n",
       "      <td>1.0</td>\n",
       "      <td>(2.0, 0.0)</td>\n",
       "    </tr>\n",
       "    <tr>\n",
       "      <th>d</th>\n",
       "      <td>POLYGON ((2.50000 -0.50000, 3.50000 -0.50000, ...</td>\n",
       "      <td>d</td>\n",
       "      <td>1.0</td>\n",
       "      <td>(3.0, 0.0)</td>\n",
       "    </tr>\n",
       "    <tr>\n",
       "      <th>e</th>\n",
       "      <td>POLYGON ((-0.50000 0.50000, 0.50000 0.50000, 0...</td>\n",
       "      <td>e</td>\n",
       "      <td>1.0</td>\n",
       "      <td>(0.0, 1.0)</td>\n",
       "    </tr>\n",
       "    <tr>\n",
       "      <th>f</th>\n",
       "      <td>POLYGON ((0.50000 0.50000, 1.50000 0.50000, 1....</td>\n",
       "      <td>f</td>\n",
       "      <td>1.0</td>\n",
       "      <td>(1.0, 1.0)</td>\n",
       "    </tr>\n",
       "    <tr>\n",
       "      <th>g</th>\n",
       "      <td>POLYGON ((1.50000 0.50000, 2.50000 0.50000, 2....</td>\n",
       "      <td>g</td>\n",
       "      <td>1.0</td>\n",
       "      <td>(2.0, 1.0)</td>\n",
       "    </tr>\n",
       "    <tr>\n",
       "      <th>h</th>\n",
       "      <td>POLYGON ((2.50000 0.50000, 3.50000 0.50000, 3....</td>\n",
       "      <td>h</td>\n",
       "      <td>1.0</td>\n",
       "      <td>(3.0, 1.0)</td>\n",
       "    </tr>\n",
       "    <tr>\n",
       "      <th>i</th>\n",
       "      <td>POLYGON ((-0.50000 1.50000, 0.50000 1.50000, 0...</td>\n",
       "      <td>i</td>\n",
       "      <td>1.0</td>\n",
       "      <td>(0.0, 2.0)</td>\n",
       "    </tr>\n",
       "    <tr>\n",
       "      <th>j</th>\n",
       "      <td>POLYGON ((0.50000 1.50000, 1.50000 1.50000, 1....</td>\n",
       "      <td>j</td>\n",
       "      <td>1.0</td>\n",
       "      <td>(1.0, 2.0)</td>\n",
       "    </tr>\n",
       "    <tr>\n",
       "      <th>k</th>\n",
       "      <td>POLYGON ((1.50000 1.50000, 2.50000 1.50000, 2....</td>\n",
       "      <td>k</td>\n",
       "      <td>1.0</td>\n",
       "      <td>(2.0, 2.0)</td>\n",
       "    </tr>\n",
       "    <tr>\n",
       "      <th>l</th>\n",
       "      <td>POLYGON ((2.50000 1.50000, 3.50000 1.50000, 3....</td>\n",
       "      <td>l</td>\n",
       "      <td>1.0</td>\n",
       "      <td>(3.0, 2.0)</td>\n",
       "    </tr>\n",
       "    <tr>\n",
       "      <th>m</th>\n",
       "      <td>POLYGON ((-0.50000 2.50000, 0.50000 2.50000, 0...</td>\n",
       "      <td>m</td>\n",
       "      <td>1.0</td>\n",
       "      <td>(0.0, 3.0)</td>\n",
       "    </tr>\n",
       "    <tr>\n",
       "      <th>n</th>\n",
       "      <td>POLYGON ((0.50000 2.50000, 1.50000 2.50000, 1....</td>\n",
       "      <td>n</td>\n",
       "      <td>1.0</td>\n",
       "      <td>(1.0, 3.0)</td>\n",
       "    </tr>\n",
       "    <tr>\n",
       "      <th>o</th>\n",
       "      <td>POLYGON ((1.50000 2.50000, 2.50000 2.50000, 2....</td>\n",
       "      <td>o</td>\n",
       "      <td>1.0</td>\n",
       "      <td>(2.0, 3.0)</td>\n",
       "    </tr>\n",
       "    <tr>\n",
       "      <th>p</th>\n",
       "      <td>POLYGON ((2.50000 2.50000, 3.50000 2.50000, 3....</td>\n",
       "      <td>p</td>\n",
       "      <td>1.0</td>\n",
       "      <td>(3.0, 3.0)</td>\n",
       "    </tr>\n",
       "  </tbody>\n",
       "</table>\n",
       "</div>"
      ],
      "text/plain": [
       "                                            geometry cell_id  area      coords\n",
       "a  POLYGON ((-0.50000 -0.50000, 0.50000 -0.50000,...       a   1.0  (0.0, 0.0)\n",
       "b  POLYGON ((0.50000 -0.50000, 1.50000 -0.50000, ...       b   1.0  (1.0, 0.0)\n",
       "c  POLYGON ((1.50000 -0.50000, 2.50000 -0.50000, ...       c   1.0  (2.0, 0.0)\n",
       "d  POLYGON ((2.50000 -0.50000, 3.50000 -0.50000, ...       d   1.0  (3.0, 0.0)\n",
       "e  POLYGON ((-0.50000 0.50000, 0.50000 0.50000, 0...       e   1.0  (0.0, 1.0)\n",
       "f  POLYGON ((0.50000 0.50000, 1.50000 0.50000, 1....       f   1.0  (1.0, 1.0)\n",
       "g  POLYGON ((1.50000 0.50000, 2.50000 0.50000, 2....       g   1.0  (2.0, 1.0)\n",
       "h  POLYGON ((2.50000 0.50000, 3.50000 0.50000, 3....       h   1.0  (3.0, 1.0)\n",
       "i  POLYGON ((-0.50000 1.50000, 0.50000 1.50000, 0...       i   1.0  (0.0, 2.0)\n",
       "j  POLYGON ((0.50000 1.50000, 1.50000 1.50000, 1....       j   1.0  (1.0, 2.0)\n",
       "k  POLYGON ((1.50000 1.50000, 2.50000 1.50000, 2....       k   1.0  (2.0, 2.0)\n",
       "l  POLYGON ((2.50000 1.50000, 3.50000 1.50000, 3....       l   1.0  (3.0, 2.0)\n",
       "m  POLYGON ((-0.50000 2.50000, 0.50000 2.50000, 0...       m   1.0  (0.0, 3.0)\n",
       "n  POLYGON ((0.50000 2.50000, 1.50000 2.50000, 1....       n   1.0  (1.0, 3.0)\n",
       "o  POLYGON ((1.50000 2.50000, 2.50000 2.50000, 2....       o   1.0  (2.0, 3.0)\n",
       "p  POLYGON ((2.50000 2.50000, 3.50000 2.50000, 3....       p   1.0  (3.0, 3.0)"
      ]
     },
     "execution_count": 101,
     "metadata": {},
     "output_type": "execute_result"
    }
   ],
   "source": [
    "grid_gdf"
   ]
  },
  {
   "cell_type": "code",
   "execution_count": 102,
   "metadata": {},
   "outputs": [],
   "source": [
    "empty_id = np.array([\n",
    "    [\"\", \"\", \"\", \"\"],\n",
    "    [\"\", \"\", \"\", \"\"],\n",
    "    [\"\", \"\", \"\", \"\"],\n",
    "    [\"\", \"\", \"\", \"\"],\n",
    "], dtype=object_)"
   ]
  },
  {
   "cell_type": "code",
   "execution_count": 103,
   "metadata": {},
   "outputs": [
    {
     "data": {
      "text/html": [
       "<div><svg style=\"position: absolute; width: 0; height: 0; overflow: hidden\">\n",
       "<defs>\n",
       "<symbol id=\"icon-database\" viewBox=\"0 0 32 32\">\n",
       "<path d=\"M16 0c-8.837 0-16 2.239-16 5v4c0 2.761 7.163 5 16 5s16-2.239 16-5v-4c0-2.761-7.163-5-16-5z\"></path>\n",
       "<path d=\"M16 17c-8.837 0-16-2.239-16-5v6c0 2.761 7.163 5 16 5s16-2.239 16-5v-6c0 2.761-7.163 5-16 5z\"></path>\n",
       "<path d=\"M16 26c-8.837 0-16-2.239-16-5v6c0 2.761 7.163 5 16 5s16-2.239 16-5v-6c0 2.761-7.163 5-16 5z\"></path>\n",
       "</symbol>\n",
       "<symbol id=\"icon-file-text2\" viewBox=\"0 0 32 32\">\n",
       "<path d=\"M28.681 7.159c-0.694-0.947-1.662-2.053-2.724-3.116s-2.169-2.030-3.116-2.724c-1.612-1.182-2.393-1.319-2.841-1.319h-15.5c-1.378 0-2.5 1.121-2.5 2.5v27c0 1.378 1.122 2.5 2.5 2.5h23c1.378 0 2.5-1.122 2.5-2.5v-19.5c0-0.448-0.137-1.23-1.319-2.841zM24.543 5.457c0.959 0.959 1.712 1.825 2.268 2.543h-4.811v-4.811c0.718 0.556 1.584 1.309 2.543 2.268zM28 29.5c0 0.271-0.229 0.5-0.5 0.5h-23c-0.271 0-0.5-0.229-0.5-0.5v-27c0-0.271 0.229-0.5 0.5-0.5 0 0 15.499-0 15.5 0v7c0 0.552 0.448 1 1 1h7v19.5z\"></path>\n",
       "<path d=\"M23 26h-14c-0.552 0-1-0.448-1-1s0.448-1 1-1h14c0.552 0 1 0.448 1 1s-0.448 1-1 1z\"></path>\n",
       "<path d=\"M23 22h-14c-0.552 0-1-0.448-1-1s0.448-1 1-1h14c0.552 0 1 0.448 1 1s-0.448 1-1 1z\"></path>\n",
       "<path d=\"M23 18h-14c-0.552 0-1-0.448-1-1s0.448-1 1-1h14c0.552 0 1 0.448 1 1s-0.448 1-1 1z\"></path>\n",
       "</symbol>\n",
       "</defs>\n",
       "</svg>\n",
       "<style>/* CSS stylesheet for displaying xarray objects in jupyterlab.\n",
       " *\n",
       " */\n",
       "\n",
       ":root {\n",
       "  --xr-font-color0: var(--jp-content-font-color0, rgba(0, 0, 0, 1));\n",
       "  --xr-font-color2: var(--jp-content-font-color2, rgba(0, 0, 0, 0.54));\n",
       "  --xr-font-color3: var(--jp-content-font-color3, rgba(0, 0, 0, 0.38));\n",
       "  --xr-border-color: var(--jp-border-color2, #e0e0e0);\n",
       "  --xr-disabled-color: var(--jp-layout-color3, #bdbdbd);\n",
       "  --xr-background-color: var(--jp-layout-color0, white);\n",
       "  --xr-background-color-row-even: var(--jp-layout-color1, white);\n",
       "  --xr-background-color-row-odd: var(--jp-layout-color2, #eeeeee);\n",
       "}\n",
       "\n",
       "html[theme=dark],\n",
       "body.vscode-dark {\n",
       "  --xr-font-color0: rgba(255, 255, 255, 1);\n",
       "  --xr-font-color2: rgba(255, 255, 255, 0.54);\n",
       "  --xr-font-color3: rgba(255, 255, 255, 0.38);\n",
       "  --xr-border-color: #1F1F1F;\n",
       "  --xr-disabled-color: #515151;\n",
       "  --xr-background-color: #111111;\n",
       "  --xr-background-color-row-even: #111111;\n",
       "  --xr-background-color-row-odd: #313131;\n",
       "}\n",
       "\n",
       ".xr-wrap {\n",
       "  display: block !important;\n",
       "  min-width: 300px;\n",
       "  max-width: 700px;\n",
       "}\n",
       "\n",
       ".xr-text-repr-fallback {\n",
       "  /* fallback to plain text repr when CSS is not injected (untrusted notebook) */\n",
       "  display: none;\n",
       "}\n",
       "\n",
       ".xr-header {\n",
       "  padding-top: 6px;\n",
       "  padding-bottom: 6px;\n",
       "  margin-bottom: 4px;\n",
       "  border-bottom: solid 1px var(--xr-border-color);\n",
       "}\n",
       "\n",
       ".xr-header > div,\n",
       ".xr-header > ul {\n",
       "  display: inline;\n",
       "  margin-top: 0;\n",
       "  margin-bottom: 0;\n",
       "}\n",
       "\n",
       ".xr-obj-type,\n",
       ".xr-array-name {\n",
       "  margin-left: 2px;\n",
       "  margin-right: 10px;\n",
       "}\n",
       "\n",
       ".xr-obj-type {\n",
       "  color: var(--xr-font-color2);\n",
       "}\n",
       "\n",
       ".xr-sections {\n",
       "  padding-left: 0 !important;\n",
       "  display: grid;\n",
       "  grid-template-columns: 150px auto auto 1fr 20px 20px;\n",
       "}\n",
       "\n",
       ".xr-section-item {\n",
       "  display: contents;\n",
       "}\n",
       "\n",
       ".xr-section-item input {\n",
       "  display: none;\n",
       "}\n",
       "\n",
       ".xr-section-item input + label {\n",
       "  color: var(--xr-disabled-color);\n",
       "}\n",
       "\n",
       ".xr-section-item input:enabled + label {\n",
       "  cursor: pointer;\n",
       "  color: var(--xr-font-color2);\n",
       "}\n",
       "\n",
       ".xr-section-item input:enabled + label:hover {\n",
       "  color: var(--xr-font-color0);\n",
       "}\n",
       "\n",
       ".xr-section-summary {\n",
       "  grid-column: 1;\n",
       "  color: var(--xr-font-color2);\n",
       "  font-weight: 500;\n",
       "}\n",
       "\n",
       ".xr-section-summary > span {\n",
       "  display: inline-block;\n",
       "  padding-left: 0.5em;\n",
       "}\n",
       "\n",
       ".xr-section-summary-in:disabled + label {\n",
       "  color: var(--xr-font-color2);\n",
       "}\n",
       "\n",
       ".xr-section-summary-in + label:before {\n",
       "  display: inline-block;\n",
       "  content: '►';\n",
       "  font-size: 11px;\n",
       "  width: 15px;\n",
       "  text-align: center;\n",
       "}\n",
       "\n",
       ".xr-section-summary-in:disabled + label:before {\n",
       "  color: var(--xr-disabled-color);\n",
       "}\n",
       "\n",
       ".xr-section-summary-in:checked + label:before {\n",
       "  content: '▼';\n",
       "}\n",
       "\n",
       ".xr-section-summary-in:checked + label > span {\n",
       "  display: none;\n",
       "}\n",
       "\n",
       ".xr-section-summary,\n",
       ".xr-section-inline-details {\n",
       "  padding-top: 4px;\n",
       "  padding-bottom: 4px;\n",
       "}\n",
       "\n",
       ".xr-section-inline-details {\n",
       "  grid-column: 2 / -1;\n",
       "}\n",
       "\n",
       ".xr-section-details {\n",
       "  display: none;\n",
       "  grid-column: 1 / -1;\n",
       "  margin-bottom: 5px;\n",
       "}\n",
       "\n",
       ".xr-section-summary-in:checked ~ .xr-section-details {\n",
       "  display: contents;\n",
       "}\n",
       "\n",
       ".xr-array-wrap {\n",
       "  grid-column: 1 / -1;\n",
       "  display: grid;\n",
       "  grid-template-columns: 20px auto;\n",
       "}\n",
       "\n",
       ".xr-array-wrap > label {\n",
       "  grid-column: 1;\n",
       "  vertical-align: top;\n",
       "}\n",
       "\n",
       ".xr-preview {\n",
       "  color: var(--xr-font-color3);\n",
       "}\n",
       "\n",
       ".xr-array-preview,\n",
       ".xr-array-data {\n",
       "  padding: 0 5px !important;\n",
       "  grid-column: 2;\n",
       "}\n",
       "\n",
       ".xr-array-data,\n",
       ".xr-array-in:checked ~ .xr-array-preview {\n",
       "  display: none;\n",
       "}\n",
       "\n",
       ".xr-array-in:checked ~ .xr-array-data,\n",
       ".xr-array-preview {\n",
       "  display: inline-block;\n",
       "}\n",
       "\n",
       ".xr-dim-list {\n",
       "  display: inline-block !important;\n",
       "  list-style: none;\n",
       "  padding: 0 !important;\n",
       "  margin: 0;\n",
       "}\n",
       "\n",
       ".xr-dim-list li {\n",
       "  display: inline-block;\n",
       "  padding: 0;\n",
       "  margin: 0;\n",
       "}\n",
       "\n",
       ".xr-dim-list:before {\n",
       "  content: '(';\n",
       "}\n",
       "\n",
       ".xr-dim-list:after {\n",
       "  content: ')';\n",
       "}\n",
       "\n",
       ".xr-dim-list li:not(:last-child):after {\n",
       "  content: ',';\n",
       "  padding-right: 5px;\n",
       "}\n",
       "\n",
       ".xr-has-index {\n",
       "  font-weight: bold;\n",
       "}\n",
       "\n",
       ".xr-var-list,\n",
       ".xr-var-item {\n",
       "  display: contents;\n",
       "}\n",
       "\n",
       ".xr-var-item > div,\n",
       ".xr-var-item label,\n",
       ".xr-var-item > .xr-var-name span {\n",
       "  background-color: var(--xr-background-color-row-even);\n",
       "  margin-bottom: 0;\n",
       "}\n",
       "\n",
       ".xr-var-item > .xr-var-name:hover span {\n",
       "  padding-right: 5px;\n",
       "}\n",
       "\n",
       ".xr-var-list > li:nth-child(odd) > div,\n",
       ".xr-var-list > li:nth-child(odd) > label,\n",
       ".xr-var-list > li:nth-child(odd) > .xr-var-name span {\n",
       "  background-color: var(--xr-background-color-row-odd);\n",
       "}\n",
       "\n",
       ".xr-var-name {\n",
       "  grid-column: 1;\n",
       "}\n",
       "\n",
       ".xr-var-dims {\n",
       "  grid-column: 2;\n",
       "}\n",
       "\n",
       ".xr-var-dtype {\n",
       "  grid-column: 3;\n",
       "  text-align: right;\n",
       "  color: var(--xr-font-color2);\n",
       "}\n",
       "\n",
       ".xr-var-preview {\n",
       "  grid-column: 4;\n",
       "}\n",
       "\n",
       ".xr-var-name,\n",
       ".xr-var-dims,\n",
       ".xr-var-dtype,\n",
       ".xr-preview,\n",
       ".xr-attrs dt {\n",
       "  white-space: nowrap;\n",
       "  overflow: hidden;\n",
       "  text-overflow: ellipsis;\n",
       "  padding-right: 10px;\n",
       "}\n",
       "\n",
       ".xr-var-name:hover,\n",
       ".xr-var-dims:hover,\n",
       ".xr-var-dtype:hover,\n",
       ".xr-attrs dt:hover {\n",
       "  overflow: visible;\n",
       "  width: auto;\n",
       "  z-index: 1;\n",
       "}\n",
       "\n",
       ".xr-var-attrs,\n",
       ".xr-var-data {\n",
       "  display: none;\n",
       "  background-color: var(--xr-background-color) !important;\n",
       "  padding-bottom: 5px !important;\n",
       "}\n",
       "\n",
       ".xr-var-attrs-in:checked ~ .xr-var-attrs,\n",
       ".xr-var-data-in:checked ~ .xr-var-data {\n",
       "  display: block;\n",
       "}\n",
       "\n",
       ".xr-var-data > table {\n",
       "  float: right;\n",
       "}\n",
       "\n",
       ".xr-var-name span,\n",
       ".xr-var-data,\n",
       ".xr-attrs {\n",
       "  padding-left: 25px !important;\n",
       "}\n",
       "\n",
       ".xr-attrs,\n",
       ".xr-var-attrs,\n",
       ".xr-var-data {\n",
       "  grid-column: 1 / -1;\n",
       "}\n",
       "\n",
       "dl.xr-attrs {\n",
       "  padding: 0;\n",
       "  margin: 0;\n",
       "  display: grid;\n",
       "  grid-template-columns: 125px auto;\n",
       "}\n",
       "\n",
       ".xr-attrs dt,\n",
       ".xr-attrs dd {\n",
       "  padding: 0;\n",
       "  margin: 0;\n",
       "  float: left;\n",
       "  padding-right: 10px;\n",
       "  width: auto;\n",
       "}\n",
       "\n",
       ".xr-attrs dt {\n",
       "  font-weight: normal;\n",
       "  grid-column: 1;\n",
       "}\n",
       "\n",
       ".xr-attrs dt:hover span {\n",
       "  display: inline-block;\n",
       "  background: var(--xr-background-color);\n",
       "  padding-right: 10px;\n",
       "}\n",
       "\n",
       ".xr-attrs dd {\n",
       "  grid-column: 2;\n",
       "  white-space: pre-wrap;\n",
       "  word-break: break-all;\n",
       "}\n",
       "\n",
       ".xr-icon-database,\n",
       ".xr-icon-file-text2 {\n",
       "  display: inline-block;\n",
       "  vertical-align: middle;\n",
       "  width: 1em;\n",
       "  height: 1.5em !important;\n",
       "  stroke-width: 0;\n",
       "  stroke: currentColor;\n",
       "  fill: currentColor;\n",
       "}\n",
       "</style><pre class='xr-text-repr-fallback'>&lt;xarray.Dataset&gt;\n",
       "Dimensions:          (time: 4, y: 4, x: 4)\n",
       "Coordinates:\n",
       "  * x                (x) int64 0 1 2 3\n",
       "  * y                (y) int64 0 1 2 3\n",
       "  * time             (time) int64 0 1 2 3\n",
       "Data variables:\n",
       "    drought_measure  (time, y, x) int64 1 1 0 0 1 1 0 0 0 ... 1 0 0 1 1 0 1 1 1\n",
       "    drought_id       (time, y, x) object &#x27;&#x27; &#x27;&#x27; &#x27;&#x27; &#x27;&#x27; &#x27;&#x27; &#x27;&#x27; ... &#x27;&#x27; &#x27;&#x27; &#x27;&#x27; &#x27;&#x27; &#x27;&#x27; &#x27;&#x27;</pre><div class='xr-wrap' style='display:none'><div class='xr-header'><div class='xr-obj-type'>xarray.Dataset</div></div><ul class='xr-sections'><li class='xr-section-item'><input id='section-4ee2ed69-3c74-44d2-a5f0-8aa5f3bbb5a0' class='xr-section-summary-in' type='checkbox' disabled ><label for='section-4ee2ed69-3c74-44d2-a5f0-8aa5f3bbb5a0' class='xr-section-summary'  title='Expand/collapse section'>Dimensions:</label><div class='xr-section-inline-details'><ul class='xr-dim-list'><li><span class='xr-has-index'>time</span>: 4</li><li><span class='xr-has-index'>y</span>: 4</li><li><span class='xr-has-index'>x</span>: 4</li></ul></div><div class='xr-section-details'></div></li><li class='xr-section-item'><input id='section-a4795eb5-cde3-4bd9-8587-d625b27a10d6' class='xr-section-summary-in' type='checkbox'  checked><label for='section-a4795eb5-cde3-4bd9-8587-d625b27a10d6' class='xr-section-summary' >Coordinates: <span>(3)</span></label><div class='xr-section-inline-details'></div><div class='xr-section-details'><ul class='xr-var-list'><li class='xr-var-item'><div class='xr-var-name'><span class='xr-has-index'>x</span></div><div class='xr-var-dims'>(x)</div><div class='xr-var-dtype'>int64</div><div class='xr-var-preview xr-preview'>0 1 2 3</div><input id='attrs-c204b75b-9da3-4134-b372-eaaba0452493' class='xr-var-attrs-in' type='checkbox' disabled><label for='attrs-c204b75b-9da3-4134-b372-eaaba0452493' title='Show/Hide attributes'><svg class='icon xr-icon-file-text2'><use xlink:href='#icon-file-text2'></use></svg></label><input id='data-58df96fe-d401-45e9-8e5e-c31fe564c31b' class='xr-var-data-in' type='checkbox'><label for='data-58df96fe-d401-45e9-8e5e-c31fe564c31b' title='Show/Hide data repr'><svg class='icon xr-icon-database'><use xlink:href='#icon-database'></use></svg></label><div class='xr-var-attrs'><dl class='xr-attrs'></dl></div><div class='xr-var-data'><pre>array([0, 1, 2, 3])</pre></div></li><li class='xr-var-item'><div class='xr-var-name'><span class='xr-has-index'>y</span></div><div class='xr-var-dims'>(y)</div><div class='xr-var-dtype'>int64</div><div class='xr-var-preview xr-preview'>0 1 2 3</div><input id='attrs-a2d5d220-a38a-4762-8acd-426db6d60193' class='xr-var-attrs-in' type='checkbox' disabled><label for='attrs-a2d5d220-a38a-4762-8acd-426db6d60193' title='Show/Hide attributes'><svg class='icon xr-icon-file-text2'><use xlink:href='#icon-file-text2'></use></svg></label><input id='data-e3fbeff6-1f08-4884-aea5-0dd92f3198df' class='xr-var-data-in' type='checkbox'><label for='data-e3fbeff6-1f08-4884-aea5-0dd92f3198df' title='Show/Hide data repr'><svg class='icon xr-icon-database'><use xlink:href='#icon-database'></use></svg></label><div class='xr-var-attrs'><dl class='xr-attrs'></dl></div><div class='xr-var-data'><pre>array([0, 1, 2, 3])</pre></div></li><li class='xr-var-item'><div class='xr-var-name'><span class='xr-has-index'>time</span></div><div class='xr-var-dims'>(time)</div><div class='xr-var-dtype'>int64</div><div class='xr-var-preview xr-preview'>0 1 2 3</div><input id='attrs-ef5e2845-42c0-4653-9b7d-b9c559c6566a' class='xr-var-attrs-in' type='checkbox' disabled><label for='attrs-ef5e2845-42c0-4653-9b7d-b9c559c6566a' title='Show/Hide attributes'><svg class='icon xr-icon-file-text2'><use xlink:href='#icon-file-text2'></use></svg></label><input id='data-3b47ff46-5e2c-4dd8-8cc3-6a1d45748af3' class='xr-var-data-in' type='checkbox'><label for='data-3b47ff46-5e2c-4dd8-8cc3-6a1d45748af3' title='Show/Hide data repr'><svg class='icon xr-icon-database'><use xlink:href='#icon-database'></use></svg></label><div class='xr-var-attrs'><dl class='xr-attrs'></dl></div><div class='xr-var-data'><pre>array([0, 1, 2, 3])</pre></div></li></ul></div></li><li class='xr-section-item'><input id='section-42f5ab8d-7d2c-43a1-b540-8d5b082f7330' class='xr-section-summary-in' type='checkbox'  checked><label for='section-42f5ab8d-7d2c-43a1-b540-8d5b082f7330' class='xr-section-summary' >Data variables: <span>(2)</span></label><div class='xr-section-inline-details'></div><div class='xr-section-details'><ul class='xr-var-list'><li class='xr-var-item'><div class='xr-var-name'><span>drought_measure</span></div><div class='xr-var-dims'>(time, y, x)</div><div class='xr-var-dtype'>int64</div><div class='xr-var-preview xr-preview'>1 1 0 0 1 1 0 0 ... 0 0 1 1 0 1 1 1</div><input id='attrs-ff51cf4a-d98c-4476-816d-a5a5c0872320' class='xr-var-attrs-in' type='checkbox' disabled><label for='attrs-ff51cf4a-d98c-4476-816d-a5a5c0872320' title='Show/Hide attributes'><svg class='icon xr-icon-file-text2'><use xlink:href='#icon-file-text2'></use></svg></label><input id='data-ead8ba2f-77d4-438c-822b-c2d29e9c631c' class='xr-var-data-in' type='checkbox'><label for='data-ead8ba2f-77d4-438c-822b-c2d29e9c631c' title='Show/Hide data repr'><svg class='icon xr-icon-database'><use xlink:href='#icon-database'></use></svg></label><div class='xr-var-attrs'><dl class='xr-attrs'></dl></div><div class='xr-var-data'><pre>array([[[1, 1, 0, 0],\n",
       "        [1, 1, 0, 0],\n",
       "        [0, 0, 0, 0],\n",
       "        [0, 0, 0, 0]],\n",
       "\n",
       "       [[1, 1, 1, 0],\n",
       "        [1, 1, 1, 0],\n",
       "        [0, 0, 0, 0],\n",
       "        [0, 1, 1, 1]],\n",
       "\n",
       "       [[1, 0, 0, 0],\n",
       "        [1, 0, 1, 1],\n",
       "        [0, 0, 0, 0],\n",
       "        [0, 1, 1, 1]],\n",
       "\n",
       "       [[1, 0, 0, 0],\n",
       "        [1, 0, 1, 1],\n",
       "        [0, 0, 1, 1],\n",
       "        [0, 1, 1, 1]]])</pre></div></li><li class='xr-var-item'><div class='xr-var-name'><span>drought_id</span></div><div class='xr-var-dims'>(time, y, x)</div><div class='xr-var-dtype'>object</div><div class='xr-var-preview xr-preview'>&#x27;&#x27; &#x27;&#x27; &#x27;&#x27; &#x27;&#x27; &#x27;&#x27; ... &#x27;&#x27; &#x27;&#x27; &#x27;&#x27; &#x27;&#x27; &#x27;&#x27;</div><input id='attrs-7a932249-43e8-46c6-9e90-68c0b68653f4' class='xr-var-attrs-in' type='checkbox' disabled><label for='attrs-7a932249-43e8-46c6-9e90-68c0b68653f4' title='Show/Hide attributes'><svg class='icon xr-icon-file-text2'><use xlink:href='#icon-file-text2'></use></svg></label><input id='data-b571b7e5-aa81-4256-92d6-d93ba8486dae' class='xr-var-data-in' type='checkbox'><label for='data-b571b7e5-aa81-4256-92d6-d93ba8486dae' title='Show/Hide data repr'><svg class='icon xr-icon-database'><use xlink:href='#icon-database'></use></svg></label><div class='xr-var-attrs'><dl class='xr-attrs'></dl></div><div class='xr-var-data'><pre>array([[[&#x27;&#x27;, &#x27;&#x27;, &#x27;&#x27;, &#x27;&#x27;],\n",
       "        [&#x27;&#x27;, &#x27;&#x27;, &#x27;&#x27;, &#x27;&#x27;],\n",
       "        [&#x27;&#x27;, &#x27;&#x27;, &#x27;&#x27;, &#x27;&#x27;],\n",
       "        [&#x27;&#x27;, &#x27;&#x27;, &#x27;&#x27;, &#x27;&#x27;]],\n",
       "\n",
       "       [[&#x27;&#x27;, &#x27;&#x27;, &#x27;&#x27;, &#x27;&#x27;],\n",
       "        [&#x27;&#x27;, &#x27;&#x27;, &#x27;&#x27;, &#x27;&#x27;],\n",
       "        [&#x27;&#x27;, &#x27;&#x27;, &#x27;&#x27;, &#x27;&#x27;],\n",
       "        [&#x27;&#x27;, &#x27;&#x27;, &#x27;&#x27;, &#x27;&#x27;]],\n",
       "\n",
       "       [[&#x27;&#x27;, &#x27;&#x27;, &#x27;&#x27;, &#x27;&#x27;],\n",
       "        [&#x27;&#x27;, &#x27;&#x27;, &#x27;&#x27;, &#x27;&#x27;],\n",
       "        [&#x27;&#x27;, &#x27;&#x27;, &#x27;&#x27;, &#x27;&#x27;],\n",
       "        [&#x27;&#x27;, &#x27;&#x27;, &#x27;&#x27;, &#x27;&#x27;]],\n",
       "\n",
       "       [[&#x27;&#x27;, &#x27;&#x27;, &#x27;&#x27;, &#x27;&#x27;],\n",
       "        [&#x27;&#x27;, &#x27;&#x27;, &#x27;&#x27;, &#x27;&#x27;],\n",
       "        [&#x27;&#x27;, &#x27;&#x27;, &#x27;&#x27;, &#x27;&#x27;],\n",
       "        [&#x27;&#x27;, &#x27;&#x27;, &#x27;&#x27;, &#x27;&#x27;]]], dtype=object)</pre></div></li></ul></div></li><li class='xr-section-item'><input id='section-4243a851-057f-4a5e-96eb-6aced2dcb145' class='xr-section-summary-in' type='checkbox' disabled ><label for='section-4243a851-057f-4a5e-96eb-6aced2dcb145' class='xr-section-summary'  title='Expand/collapse section'>Attributes: <span>(0)</span></label><div class='xr-section-inline-details'></div><div class='xr-section-details'><dl class='xr-attrs'></dl></div></li></ul></div></div>"
      ],
      "text/plain": [
       "<xarray.Dataset>\n",
       "Dimensions:          (time: 4, y: 4, x: 4)\n",
       "Coordinates:\n",
       "  * x                (x) int64 0 1 2 3\n",
       "  * y                (y) int64 0 1 2 3\n",
       "  * time             (time) int64 0 1 2 3\n",
       "Data variables:\n",
       "    drought_measure  (time, y, x) int64 1 1 0 0 1 1 0 0 0 ... 1 0 0 1 1 0 1 1 1\n",
       "    drought_id       (time, y, x) object '' '' '' '' '' '' ... '' '' '' '' '' ''"
      ]
     },
     "execution_count": 103,
     "metadata": {},
     "output_type": "execute_result"
    }
   ],
   "source": [
    "test_ds = xr.Dataset(\n",
    "    coords=dict(\n",
    "        x=np.arange(4),\n",
    "        y=np.arange(4),\n",
    "        time=np.arange(4)\n",
    "    ),\n",
    "    data_vars=dict(\n",
    "        drought_measure=([\"time\", \"y\", \"x\"], [t1, t2, t3, t4]),\n",
    "        drought_id=([\"time\", \"y\", \"x\"], [empty_id, empty_id, empty_id, empty_id])\n",
    "    )\n",
    ")\n",
    "test_ds"
   ]
  },
  {
   "cell_type": "markdown",
   "metadata": {},
   "source": [
    "Double check we set that up right ..."
   ]
  },
  {
   "cell_type": "code",
   "execution_count": 104,
   "metadata": {},
   "outputs": [
    {
     "data": {
      "image/png": "[encoded data removed]",
      "text/plain": [
       "<Figure size 864x360 with 4 Axes>"
      ]
     },
     "metadata": {
      "needs_background": "light"
     },
     "output_type": "display_data"
    }
   ],
   "source": [
    "fig, axs = plt.subplots(1,4, figsize=(12,5))\n",
    "\n",
    "for i, ax in enumerate(axs.ravel()):\n",
    "\n",
    "    test_ds.isel(time=i)['drought_measure'].plot(ax=ax, alpha=0.5, add_colorbar=False)\n",
    "    \n",
    "\n",
    "    grid_gdf.plot(edgecolor='k', ax=ax, alpha=0.1)\n",
    "    # number our cells\n",
    "    for idx, row in grid_gdf.iterrows():\n",
    "        ax.annotate(row['cell_id'], xy=row['coords'], horizontalalignment='center')\n",
    "\n",
    "    ax.set_ylim(3.5, -0.5)\n"
   ]
  },
  {
   "cell_type": "markdown",
   "metadata": {},
   "source": [
    "Cool, now to toss in the `drought_id`"
   ]
  },
  {
   "cell_type": "code",
   "execution_count": 105,
   "metadata": {},
   "outputs": [
    {
     "data": {
      "text/plain": [
       "array([[0, 0],\n",
       "       [0, 1],\n",
       "       [1, 0],\n",
       "       [1, 1]])"
      ]
     },
     "execution_count": 105,
     "metadata": {},
     "output_type": "execute_result"
    }
   ],
   "source": [
    "df_1.coords.values[0]"
   ]
  },
  {
   "cell_type": "code",
   "execution_count": 106,
   "metadata": {},
   "outputs": [
    {
     "data": {
      "text/plain": [
       "array([['1', '1', '', ''],\n",
       "       ['1', '1', '', ''],\n",
       "       ['', '', '', ''],\n",
       "       ['', '', '', '']], dtype=object)"
      ]
     },
     "execution_count": 106,
     "metadata": {},
     "output_type": "execute_result"
    }
   ],
   "source": [
    "t1_drought_id = test_ds.sel(time=0)['drought_id'].values\n",
    "\n",
    "for i in np.arange(len(df_1)):\n",
    "    for coord in df_1.coords.values[i]:\n",
    "        t1_drought_id[coord[0], coord[1]] = df_1.drought_id.values[i]\n",
    "\n",
    "t1_drought_id"
   ]
  },
  {
   "cell_type": "code",
   "execution_count": 107,
   "metadata": {},
   "outputs": [],
   "source": [
    "test_ds.loc[{'time':0}]['drought_id'] = ((\"x\", \"y\"), t1_drought_id)"
   ]
  },
  {
   "cell_type": "code",
   "execution_count": 108,
   "metadata": {},
   "outputs": [
    {
     "data": {
      "text/html": [
       "<div><svg style=\"position: absolute; width: 0; height: 0; overflow: hidden\">\n",
       "<defs>\n",
       "<symbol id=\"icon-database\" viewBox=\"0 0 32 32\">\n",
       "<path d=\"M16 0c-8.837 0-16 2.239-16 5v4c0 2.761 7.163 5 16 5s16-2.239 16-5v-4c0-2.761-7.163-5-16-5z\"></path>\n",
       "<path d=\"M16 17c-8.837 0-16-2.239-16-5v6c0 2.761 7.163 5 16 5s16-2.239 16-5v-6c0 2.761-7.163 5-16 5z\"></path>\n",
       "<path d=\"M16 26c-8.837 0-16-2.239-16-5v6c0 2.761 7.163 5 16 5s16-2.239 16-5v-6c0 2.761-7.163 5-16 5z\"></path>\n",
       "</symbol>\n",
       "<symbol id=\"icon-file-text2\" viewBox=\"0 0 32 32\">\n",
       "<path d=\"M28.681 7.159c-0.694-0.947-1.662-2.053-2.724-3.116s-2.169-2.030-3.116-2.724c-1.612-1.182-2.393-1.319-2.841-1.319h-15.5c-1.378 0-2.5 1.121-2.5 2.5v27c0 1.378 1.122 2.5 2.5 2.5h23c1.378 0 2.5-1.122 2.5-2.5v-19.5c0-0.448-0.137-1.23-1.319-2.841zM24.543 5.457c0.959 0.959 1.712 1.825 2.268 2.543h-4.811v-4.811c0.718 0.556 1.584 1.309 2.543 2.268zM28 29.5c0 0.271-0.229 0.5-0.5 0.5h-23c-0.271 0-0.5-0.229-0.5-0.5v-27c0-0.271 0.229-0.5 0.5-0.5 0 0 15.499-0 15.5 0v7c0 0.552 0.448 1 1 1h7v19.5z\"></path>\n",
       "<path d=\"M23 26h-14c-0.552 0-1-0.448-1-1s0.448-1 1-1h14c0.552 0 1 0.448 1 1s-0.448 1-1 1z\"></path>\n",
       "<path d=\"M23 22h-14c-0.552 0-1-0.448-1-1s0.448-1 1-1h14c0.552 0 1 0.448 1 1s-0.448 1-1 1z\"></path>\n",
       "<path d=\"M23 18h-14c-0.552 0-1-0.448-1-1s0.448-1 1-1h14c0.552 0 1 0.448 1 1s-0.448 1-1 1z\"></path>\n",
       "</symbol>\n",
       "</defs>\n",
       "</svg>\n",
       "<style>/* CSS stylesheet for displaying xarray objects in jupyterlab.\n",
       " *\n",
       " */\n",
       "\n",
       ":root {\n",
       "  --xr-font-color0: var(--jp-content-font-color0, rgba(0, 0, 0, 1));\n",
       "  --xr-font-color2: var(--jp-content-font-color2, rgba(0, 0, 0, 0.54));\n",
       "  --xr-font-color3: var(--jp-content-font-color3, rgba(0, 0, 0, 0.38));\n",
       "  --xr-border-color: var(--jp-border-color2, #e0e0e0);\n",
       "  --xr-disabled-color: var(--jp-layout-color3, #bdbdbd);\n",
       "  --xr-background-color: var(--jp-layout-color0, white);\n",
       "  --xr-background-color-row-even: var(--jp-layout-color1, white);\n",
       "  --xr-background-color-row-odd: var(--jp-layout-color2, #eeeeee);\n",
       "}\n",
       "\n",
       "html[theme=dark],\n",
       "body.vscode-dark {\n",
       "  --xr-font-color0: rgba(255, 255, 255, 1);\n",
       "  --xr-font-color2: rgba(255, 255, 255, 0.54);\n",
       "  --xr-font-color3: rgba(255, 255, 255, 0.38);\n",
       "  --xr-border-color: #1F1F1F;\n",
       "  --xr-disabled-color: #515151;\n",
       "  --xr-background-color: #111111;\n",
       "  --xr-background-color-row-even: #111111;\n",
       "  --xr-background-color-row-odd: #313131;\n",
       "}\n",
       "\n",
       ".xr-wrap {\n",
       "  display: block !important;\n",
       "  min-width: 300px;\n",
       "  max-width: 700px;\n",
       "}\n",
       "\n",
       ".xr-text-repr-fallback {\n",
       "  /* fallback to plain text repr when CSS is not injected (untrusted notebook) */\n",
       "  display: none;\n",
       "}\n",
       "\n",
       ".xr-header {\n",
       "  padding-top: 6px;\n",
       "  padding-bottom: 6px;\n",
       "  margin-bottom: 4px;\n",
       "  border-bottom: solid 1px var(--xr-border-color);\n",
       "}\n",
       "\n",
       ".xr-header > div,\n",
       ".xr-header > ul {\n",
       "  display: inline;\n",
       "  margin-top: 0;\n",
       "  margin-bottom: 0;\n",
       "}\n",
       "\n",
       ".xr-obj-type,\n",
       ".xr-array-name {\n",
       "  margin-left: 2px;\n",
       "  margin-right: 10px;\n",
       "}\n",
       "\n",
       ".xr-obj-type {\n",
       "  color: var(--xr-font-color2);\n",
       "}\n",
       "\n",
       ".xr-sections {\n",
       "  padding-left: 0 !important;\n",
       "  display: grid;\n",
       "  grid-template-columns: 150px auto auto 1fr 20px 20px;\n",
       "}\n",
       "\n",
       ".xr-section-item {\n",
       "  display: contents;\n",
       "}\n",
       "\n",
       ".xr-section-item input {\n",
       "  display: none;\n",
       "}\n",
       "\n",
       ".xr-section-item input + label {\n",
       "  color: var(--xr-disabled-color);\n",
       "}\n",
       "\n",
       ".xr-section-item input:enabled + label {\n",
       "  cursor: pointer;\n",
       "  color: var(--xr-font-color2);\n",
       "}\n",
       "\n",
       ".xr-section-item input:enabled + label:hover {\n",
       "  color: var(--xr-font-color0);\n",
       "}\n",
       "\n",
       ".xr-section-summary {\n",
       "  grid-column: 1;\n",
       "  color: var(--xr-font-color2);\n",
       "  font-weight: 500;\n",
       "}\n",
       "\n",
       ".xr-section-summary > span {\n",
       "  display: inline-block;\n",
       "  padding-left: 0.5em;\n",
       "}\n",
       "\n",
       ".xr-section-summary-in:disabled + label {\n",
       "  color: var(--xr-font-color2);\n",
       "}\n",
       "\n",
       ".xr-section-summary-in + label:before {\n",
       "  display: inline-block;\n",
       "  content: '►';\n",
       "  font-size: 11px;\n",
       "  width: 15px;\n",
       "  text-align: center;\n",
       "}\n",
       "\n",
       ".xr-section-summary-in:disabled + label:before {\n",
       "  color: var(--xr-disabled-color);\n",
       "}\n",
       "\n",
       ".xr-section-summary-in:checked + label:before {\n",
       "  content: '▼';\n",
       "}\n",
       "\n",
       ".xr-section-summary-in:checked + label > span {\n",
       "  display: none;\n",
       "}\n",
       "\n",
       ".xr-section-summary,\n",
       ".xr-section-inline-details {\n",
       "  padding-top: 4px;\n",
       "  padding-bottom: 4px;\n",
       "}\n",
       "\n",
       ".xr-section-inline-details {\n",
       "  grid-column: 2 / -1;\n",
       "}\n",
       "\n",
       ".xr-section-details {\n",
       "  display: none;\n",
       "  grid-column: 1 / -1;\n",
       "  margin-bottom: 5px;\n",
       "}\n",
       "\n",
       ".xr-section-summary-in:checked ~ .xr-section-details {\n",
       "  display: contents;\n",
       "}\n",
       "\n",
       ".xr-array-wrap {\n",
       "  grid-column: 1 / -1;\n",
       "  display: grid;\n",
       "  grid-template-columns: 20px auto;\n",
       "}\n",
       "\n",
       ".xr-array-wrap > label {\n",
       "  grid-column: 1;\n",
       "  vertical-align: top;\n",
       "}\n",
       "\n",
       ".xr-preview {\n",
       "  color: var(--xr-font-color3);\n",
       "}\n",
       "\n",
       ".xr-array-preview,\n",
       ".xr-array-data {\n",
       "  padding: 0 5px !important;\n",
       "  grid-column: 2;\n",
       "}\n",
       "\n",
       ".xr-array-data,\n",
       ".xr-array-in:checked ~ .xr-array-preview {\n",
       "  display: none;\n",
       "}\n",
       "\n",
       ".xr-array-in:checked ~ .xr-array-data,\n",
       ".xr-array-preview {\n",
       "  display: inline-block;\n",
       "}\n",
       "\n",
       ".xr-dim-list {\n",
       "  display: inline-block !important;\n",
       "  list-style: none;\n",
       "  padding: 0 !important;\n",
       "  margin: 0;\n",
       "}\n",
       "\n",
       ".xr-dim-list li {\n",
       "  display: inline-block;\n",
       "  padding: 0;\n",
       "  margin: 0;\n",
       "}\n",
       "\n",
       ".xr-dim-list:before {\n",
       "  content: '(';\n",
       "}\n",
       "\n",
       ".xr-dim-list:after {\n",
       "  content: ')';\n",
       "}\n",
       "\n",
       ".xr-dim-list li:not(:last-child):after {\n",
       "  content: ',';\n",
       "  padding-right: 5px;\n",
       "}\n",
       "\n",
       ".xr-has-index {\n",
       "  font-weight: bold;\n",
       "}\n",
       "\n",
       ".xr-var-list,\n",
       ".xr-var-item {\n",
       "  display: contents;\n",
       "}\n",
       "\n",
       ".xr-var-item > div,\n",
       ".xr-var-item label,\n",
       ".xr-var-item > .xr-var-name span {\n",
       "  background-color: var(--xr-background-color-row-even);\n",
       "  margin-bottom: 0;\n",
       "}\n",
       "\n",
       ".xr-var-item > .xr-var-name:hover span {\n",
       "  padding-right: 5px;\n",
       "}\n",
       "\n",
       ".xr-var-list > li:nth-child(odd) > div,\n",
       ".xr-var-list > li:nth-child(odd) > label,\n",
       ".xr-var-list > li:nth-child(odd) > .xr-var-name span {\n",
       "  background-color: var(--xr-background-color-row-odd);\n",
       "}\n",
       "\n",
       ".xr-var-name {\n",
       "  grid-column: 1;\n",
       "}\n",
       "\n",
       ".xr-var-dims {\n",
       "  grid-column: 2;\n",
       "}\n",
       "\n",
       ".xr-var-dtype {\n",
       "  grid-column: 3;\n",
       "  text-align: right;\n",
       "  color: var(--xr-font-color2);\n",
       "}\n",
       "\n",
       ".xr-var-preview {\n",
       "  grid-column: 4;\n",
       "}\n",
       "\n",
       ".xr-var-name,\n",
       ".xr-var-dims,\n",
       ".xr-var-dtype,\n",
       ".xr-preview,\n",
       ".xr-attrs dt {\n",
       "  white-space: nowrap;\n",
       "  overflow: hidden;\n",
       "  text-overflow: ellipsis;\n",
       "  padding-right: 10px;\n",
       "}\n",
       "\n",
       ".xr-var-name:hover,\n",
       ".xr-var-dims:hover,\n",
       ".xr-var-dtype:hover,\n",
       ".xr-attrs dt:hover {\n",
       "  overflow: visible;\n",
       "  width: auto;\n",
       "  z-index: 1;\n",
       "}\n",
       "\n",
       ".xr-var-attrs,\n",
       ".xr-var-data {\n",
       "  display: none;\n",
       "  background-color: var(--xr-background-color) !important;\n",
       "  padding-bottom: 5px !important;\n",
       "}\n",
       "\n",
       ".xr-var-attrs-in:checked ~ .xr-var-attrs,\n",
       ".xr-var-data-in:checked ~ .xr-var-data {\n",
       "  display: block;\n",
       "}\n",
       "\n",
       ".xr-var-data > table {\n",
       "  float: right;\n",
       "}\n",
       "\n",
       ".xr-var-name span,\n",
       ".xr-var-data,\n",
       ".xr-attrs {\n",
       "  padding-left: 25px !important;\n",
       "}\n",
       "\n",
       ".xr-attrs,\n",
       ".xr-var-attrs,\n",
       ".xr-var-data {\n",
       "  grid-column: 1 / -1;\n",
       "}\n",
       "\n",
       "dl.xr-attrs {\n",
       "  padding: 0;\n",
       "  margin: 0;\n",
       "  display: grid;\n",
       "  grid-template-columns: 125px auto;\n",
       "}\n",
       "\n",
       ".xr-attrs dt,\n",
       ".xr-attrs dd {\n",
       "  padding: 0;\n",
       "  margin: 0;\n",
       "  float: left;\n",
       "  padding-right: 10px;\n",
       "  width: auto;\n",
       "}\n",
       "\n",
       ".xr-attrs dt {\n",
       "  font-weight: normal;\n",
       "  grid-column: 1;\n",
       "}\n",
       "\n",
       ".xr-attrs dt:hover span {\n",
       "  display: inline-block;\n",
       "  background: var(--xr-background-color);\n",
       "  padding-right: 10px;\n",
       "}\n",
       "\n",
       ".xr-attrs dd {\n",
       "  grid-column: 2;\n",
       "  white-space: pre-wrap;\n",
       "  word-break: break-all;\n",
       "}\n",
       "\n",
       ".xr-icon-database,\n",
       ".xr-icon-file-text2 {\n",
       "  display: inline-block;\n",
       "  vertical-align: middle;\n",
       "  width: 1em;\n",
       "  height: 1.5em !important;\n",
       "  stroke-width: 0;\n",
       "  stroke: currentColor;\n",
       "  fill: currentColor;\n",
       "}\n",
       "</style><pre class='xr-text-repr-fallback'>&lt;xarray.DataArray &#x27;drought_id&#x27; (y: 4, x: 4)&gt;\n",
       "array([[&#x27;1&#x27;, &#x27;1&#x27;, &#x27;&#x27;, &#x27;&#x27;],\n",
       "       [&#x27;1&#x27;, &#x27;1&#x27;, &#x27;&#x27;, &#x27;&#x27;],\n",
       "       [&#x27;&#x27;, &#x27;&#x27;, &#x27;&#x27;, &#x27;&#x27;],\n",
       "       [&#x27;&#x27;, &#x27;&#x27;, &#x27;&#x27;, &#x27;&#x27;]], dtype=object)\n",
       "Coordinates:\n",
       "  * x        (x) int64 0 1 2 3\n",
       "  * y        (y) int64 0 1 2 3\n",
       "    time     int64 0</pre><div class='xr-wrap' style='display:none'><div class='xr-header'><div class='xr-obj-type'>xarray.DataArray</div><div class='xr-array-name'>'drought_id'</div><ul class='xr-dim-list'><li><span class='xr-has-index'>y</span>: 4</li><li><span class='xr-has-index'>x</span>: 4</li></ul></div><ul class='xr-sections'><li class='xr-section-item'><div class='xr-array-wrap'><input id='section-da4f3be2-7fc3-4277-a06c-880e7a16d7fb' class='xr-array-in' type='checkbox' checked><label for='section-da4f3be2-7fc3-4277-a06c-880e7a16d7fb' title='Show/hide data repr'><svg class='icon xr-icon-database'><use xlink:href='#icon-database'></use></svg></label><div class='xr-array-preview xr-preview'><span>&#x27;1&#x27; &#x27;1&#x27; &#x27;&#x27; &#x27;&#x27; &#x27;1&#x27; &#x27;1&#x27; &#x27;&#x27; &#x27;&#x27; &#x27;&#x27; &#x27;&#x27; &#x27;&#x27; &#x27;&#x27; &#x27;&#x27; &#x27;&#x27; &#x27;&#x27; &#x27;&#x27;</span></div><div class='xr-array-data'><pre>array([[&#x27;1&#x27;, &#x27;1&#x27;, &#x27;&#x27;, &#x27;&#x27;],\n",
       "       [&#x27;1&#x27;, &#x27;1&#x27;, &#x27;&#x27;, &#x27;&#x27;],\n",
       "       [&#x27;&#x27;, &#x27;&#x27;, &#x27;&#x27;, &#x27;&#x27;],\n",
       "       [&#x27;&#x27;, &#x27;&#x27;, &#x27;&#x27;, &#x27;&#x27;]], dtype=object)</pre></div></div></li><li class='xr-section-item'><input id='section-57f6752f-a5ea-4f91-8732-d931fffafee7' class='xr-section-summary-in' type='checkbox'  checked><label for='section-57f6752f-a5ea-4f91-8732-d931fffafee7' class='xr-section-summary' >Coordinates: <span>(3)</span></label><div class='xr-section-inline-details'></div><div class='xr-section-details'><ul class='xr-var-list'><li class='xr-var-item'><div class='xr-var-name'><span class='xr-has-index'>x</span></div><div class='xr-var-dims'>(x)</div><div class='xr-var-dtype'>int64</div><div class='xr-var-preview xr-preview'>0 1 2 3</div><input id='attrs-72bcf9e0-279c-4943-b6ac-560a31580de6' class='xr-var-attrs-in' type='checkbox' disabled><label for='attrs-72bcf9e0-279c-4943-b6ac-560a31580de6' title='Show/Hide attributes'><svg class='icon xr-icon-file-text2'><use xlink:href='#icon-file-text2'></use></svg></label><input id='data-61aeedec-ad05-46ff-bc1c-213ecee212a6' class='xr-var-data-in' type='checkbox'><label for='data-61aeedec-ad05-46ff-bc1c-213ecee212a6' title='Show/Hide data repr'><svg class='icon xr-icon-database'><use xlink:href='#icon-database'></use></svg></label><div class='xr-var-attrs'><dl class='xr-attrs'></dl></div><div class='xr-var-data'><pre>array([0, 1, 2, 3])</pre></div></li><li class='xr-var-item'><div class='xr-var-name'><span class='xr-has-index'>y</span></div><div class='xr-var-dims'>(y)</div><div class='xr-var-dtype'>int64</div><div class='xr-var-preview xr-preview'>0 1 2 3</div><input id='attrs-c1500abd-2e41-485b-b9d8-9ed96dac470a' class='xr-var-attrs-in' type='checkbox' disabled><label for='attrs-c1500abd-2e41-485b-b9d8-9ed96dac470a' title='Show/Hide attributes'><svg class='icon xr-icon-file-text2'><use xlink:href='#icon-file-text2'></use></svg></label><input id='data-d626a4fd-216e-4559-b56c-659308d40c7d' class='xr-var-data-in' type='checkbox'><label for='data-d626a4fd-216e-4559-b56c-659308d40c7d' title='Show/Hide data repr'><svg class='icon xr-icon-database'><use xlink:href='#icon-database'></use></svg></label><div class='xr-var-attrs'><dl class='xr-attrs'></dl></div><div class='xr-var-data'><pre>array([0, 1, 2, 3])</pre></div></li><li class='xr-var-item'><div class='xr-var-name'><span>time</span></div><div class='xr-var-dims'>()</div><div class='xr-var-dtype'>int64</div><div class='xr-var-preview xr-preview'>0</div><input id='attrs-06d9dff6-5a84-4b51-a16e-364c52dfbd99' class='xr-var-attrs-in' type='checkbox' disabled><label for='attrs-06d9dff6-5a84-4b51-a16e-364c52dfbd99' title='Show/Hide attributes'><svg class='icon xr-icon-file-text2'><use xlink:href='#icon-file-text2'></use></svg></label><input id='data-90a3444f-8ae6-4bf3-80d4-84efcc860e27' class='xr-var-data-in' type='checkbox'><label for='data-90a3444f-8ae6-4bf3-80d4-84efcc860e27' title='Show/Hide data repr'><svg class='icon xr-icon-database'><use xlink:href='#icon-database'></use></svg></label><div class='xr-var-attrs'><dl class='xr-attrs'></dl></div><div class='xr-var-data'><pre>array(0)</pre></div></li></ul></div></li><li class='xr-section-item'><input id='section-490db58c-2b10-4cca-b19d-c30f512c7001' class='xr-section-summary-in' type='checkbox' disabled ><label for='section-490db58c-2b10-4cca-b19d-c30f512c7001' class='xr-section-summary'  title='Expand/collapse section'>Attributes: <span>(0)</span></label><div class='xr-section-inline-details'></div><div class='xr-section-details'><dl class='xr-attrs'></dl></div></li></ul></div></div>"
      ],
      "text/plain": [
       "<xarray.DataArray 'drought_id' (y: 4, x: 4)>\n",
       "array([['1', '1', '', ''],\n",
       "       ['1', '1', '', ''],\n",
       "       ['', '', '', ''],\n",
       "       ['', '', '', '']], dtype=object)\n",
       "Coordinates:\n",
       "  * x        (x) int64 0 1 2 3\n",
       "  * y        (y) int64 0 1 2 3\n",
       "    time     int64 0"
      ]
     },
     "execution_count": 108,
     "metadata": {},
     "output_type": "execute_result"
    }
   ],
   "source": [
    "test_ds.sel(time=0)['drought_id']"
   ]
  },
  {
   "cell_type": "code",
   "execution_count": 109,
   "metadata": {},
   "outputs": [
    {
     "data": {
      "text/plain": [
       "(array([0, 0, 1, 1]), array([0, 1, 0, 1]))"
      ]
     },
     "execution_count": 109,
     "metadata": {},
     "output_type": "execute_result"
    }
   ],
   "source": [
    "np.where(t1_drought_id == '1')"
   ]
  },
  {
   "cell_type": "markdown",
   "metadata": {},
   "source": [
    "Cool, that's a little clunky but it's something"
   ]
  },
  {
   "cell_type": "code",
   "execution_count": 110,
   "metadata": {},
   "outputs": [
    {
     "data": {
      "text/plain": [
       "array([['1', '1', '1', ''],\n",
       "       ['1', '1', '1', ''],\n",
       "       ['', '', '', ''],\n",
       "       ['', '2', '2', '2']], dtype=object)"
      ]
     },
     "execution_count": 110,
     "metadata": {},
     "output_type": "execute_result"
    }
   ],
   "source": [
    "t2_drought_id = test_ds.sel(time=1)['drought_id'].values\n",
    "\n",
    "for i in np.arange(len(df_2)):\n",
    "    for coord in df_2.coords.values[i]:\n",
    "        t2_drought_id[coord[0], coord[1]] = df_2.drought_id.values[i]\n",
    "\n",
    "t2_drought_id"
   ]
  },
  {
   "cell_type": "code",
   "execution_count": 111,
   "metadata": {},
   "outputs": [],
   "source": [
    "test_ds.loc[{'time':1}]['drought_id'] = ((\"x\", \"y\"), t2_drought_id)"
   ]
  },
  {
   "cell_type": "code",
   "execution_count": 112,
   "metadata": {},
   "outputs": [
    {
     "data": {
      "text/plain": [
       "array([['1-1', '', '', ''],\n",
       "       ['1-1', '', '1-2', '1-2'],\n",
       "       ['', '', '', ''],\n",
       "       ['', '2', '2', '2']], dtype=object)"
      ]
     },
     "execution_count": 112,
     "metadata": {},
     "output_type": "execute_result"
    }
   ],
   "source": [
    "t3_drought_id = test_ds.sel(time=2)['drought_id'].values\n",
    "\n",
    "for i in np.arange(len(df_3)):\n",
    "    for coord in df_3.coords.values[i]:\n",
    "        t3_drought_id[coord[0], coord[1]] = df_3.drought_id.values[i]\n",
    "\n",
    "t3_drought_id"
   ]
  },
  {
   "cell_type": "code",
   "execution_count": 113,
   "metadata": {},
   "outputs": [],
   "source": [
    "test_ds.loc[{'time':2}]['drought_id'] = ((\"x\", \"y\"), t3_drought_id)"
   ]
  },
  {
   "cell_type": "code",
   "execution_count": 114,
   "metadata": {},
   "outputs": [
    {
     "data": {
      "text/plain": [
       "array([['1-1', '', '', ''],\n",
       "       ['1-1', '', '2.1-2', '2.1-2'],\n",
       "       ['', '', '2.1-2', '2.1-2'],\n",
       "       ['', '2.1-2', '2.1-2', '2.1-2']], dtype=object)"
      ]
     },
     "execution_count": 114,
     "metadata": {},
     "output_type": "execute_result"
    }
   ],
   "source": [
    "t4_drought_id = test_ds.sel(time=3)['drought_id'].values\n",
    "\n",
    "for i in np.arange(len(df_4)):\n",
    "    for coord in df_4.coords.values[i]:\n",
    "        t4_drought_id[coord[0], coord[1]] = df_4.drought_id.values[i]\n",
    "\n",
    "t4_drought_id"
   ]
  },
  {
   "cell_type": "code",
   "execution_count": 115,
   "metadata": {},
   "outputs": [],
   "source": [
    "test_ds.loc[{'time':3}]['drought_id'] = ((\"x\", \"y\"), t4_drought_id)"
   ]
  },
  {
   "cell_type": "code",
   "execution_count": 116,
   "metadata": {},
   "outputs": [
    {
     "data": {
      "text/html": [
       "<div><svg style=\"position: absolute; width: 0; height: 0; overflow: hidden\">\n",
       "<defs>\n",
       "<symbol id=\"icon-database\" viewBox=\"0 0 32 32\">\n",
       "<path d=\"M16 0c-8.837 0-16 2.239-16 5v4c0 2.761 7.163 5 16 5s16-2.239 16-5v-4c0-2.761-7.163-5-16-5z\"></path>\n",
       "<path d=\"M16 17c-8.837 0-16-2.239-16-5v6c0 2.761 7.163 5 16 5s16-2.239 16-5v-6c0 2.761-7.163 5-16 5z\"></path>\n",
       "<path d=\"M16 26c-8.837 0-16-2.239-16-5v6c0 2.761 7.163 5 16 5s16-2.239 16-5v-6c0 2.761-7.163 5-16 5z\"></path>\n",
       "</symbol>\n",
       "<symbol id=\"icon-file-text2\" viewBox=\"0 0 32 32\">\n",
       "<path d=\"M28.681 7.159c-0.694-0.947-1.662-2.053-2.724-3.116s-2.169-2.030-3.116-2.724c-1.612-1.182-2.393-1.319-2.841-1.319h-15.5c-1.378 0-2.5 1.121-2.5 2.5v27c0 1.378 1.122 2.5 2.5 2.5h23c1.378 0 2.5-1.122 2.5-2.5v-19.5c0-0.448-0.137-1.23-1.319-2.841zM24.543 5.457c0.959 0.959 1.712 1.825 2.268 2.543h-4.811v-4.811c0.718 0.556 1.584 1.309 2.543 2.268zM28 29.5c0 0.271-0.229 0.5-0.5 0.5h-23c-0.271 0-0.5-0.229-0.5-0.5v-27c0-0.271 0.229-0.5 0.5-0.5 0 0 15.499-0 15.5 0v7c0 0.552 0.448 1 1 1h7v19.5z\"></path>\n",
       "<path d=\"M23 26h-14c-0.552 0-1-0.448-1-1s0.448-1 1-1h14c0.552 0 1 0.448 1 1s-0.448 1-1 1z\"></path>\n",
       "<path d=\"M23 22h-14c-0.552 0-1-0.448-1-1s0.448-1 1-1h14c0.552 0 1 0.448 1 1s-0.448 1-1 1z\"></path>\n",
       "<path d=\"M23 18h-14c-0.552 0-1-0.448-1-1s0.448-1 1-1h14c0.552 0 1 0.448 1 1s-0.448 1-1 1z\"></path>\n",
       "</symbol>\n",
       "</defs>\n",
       "</svg>\n",
       "<style>/* CSS stylesheet for displaying xarray objects in jupyterlab.\n",
       " *\n",
       " */\n",
       "\n",
       ":root {\n",
       "  --xr-font-color0: var(--jp-content-font-color0, rgba(0, 0, 0, 1));\n",
       "  --xr-font-color2: var(--jp-content-font-color2, rgba(0, 0, 0, 0.54));\n",
       "  --xr-font-color3: var(--jp-content-font-color3, rgba(0, 0, 0, 0.38));\n",
       "  --xr-border-color: var(--jp-border-color2, #e0e0e0);\n",
       "  --xr-disabled-color: var(--jp-layout-color3, #bdbdbd);\n",
       "  --xr-background-color: var(--jp-layout-color0, white);\n",
       "  --xr-background-color-row-even: var(--jp-layout-color1, white);\n",
       "  --xr-background-color-row-odd: var(--jp-layout-color2, #eeeeee);\n",
       "}\n",
       "\n",
       "html[theme=dark],\n",
       "body.vscode-dark {\n",
       "  --xr-font-color0: rgba(255, 255, 255, 1);\n",
       "  --xr-font-color2: rgba(255, 255, 255, 0.54);\n",
       "  --xr-font-color3: rgba(255, 255, 255, 0.38);\n",
       "  --xr-border-color: #1F1F1F;\n",
       "  --xr-disabled-color: #515151;\n",
       "  --xr-background-color: #111111;\n",
       "  --xr-background-color-row-even: #111111;\n",
       "  --xr-background-color-row-odd: #313131;\n",
       "}\n",
       "\n",
       ".xr-wrap {\n",
       "  display: block !important;\n",
       "  min-width: 300px;\n",
       "  max-width: 700px;\n",
       "}\n",
       "\n",
       ".xr-text-repr-fallback {\n",
       "  /* fallback to plain text repr when CSS is not injected (untrusted notebook) */\n",
       "  display: none;\n",
       "}\n",
       "\n",
       ".xr-header {\n",
       "  padding-top: 6px;\n",
       "  padding-bottom: 6px;\n",
       "  margin-bottom: 4px;\n",
       "  border-bottom: solid 1px var(--xr-border-color);\n",
       "}\n",
       "\n",
       ".xr-header > div,\n",
       ".xr-header > ul {\n",
       "  display: inline;\n",
       "  margin-top: 0;\n",
       "  margin-bottom: 0;\n",
       "}\n",
       "\n",
       ".xr-obj-type,\n",
       ".xr-array-name {\n",
       "  margin-left: 2px;\n",
       "  margin-right: 10px;\n",
       "}\n",
       "\n",
       ".xr-obj-type {\n",
       "  color: var(--xr-font-color2);\n",
       "}\n",
       "\n",
       ".xr-sections {\n",
       "  padding-left: 0 !important;\n",
       "  display: grid;\n",
       "  grid-template-columns: 150px auto auto 1fr 20px 20px;\n",
       "}\n",
       "\n",
       ".xr-section-item {\n",
       "  display: contents;\n",
       "}\n",
       "\n",
       ".xr-section-item input {\n",
       "  display: none;\n",
       "}\n",
       "\n",
       ".xr-section-item input + label {\n",
       "  color: var(--xr-disabled-color);\n",
       "}\n",
       "\n",
       ".xr-section-item input:enabled + label {\n",
       "  cursor: pointer;\n",
       "  color: var(--xr-font-color2);\n",
       "}\n",
       "\n",
       ".xr-section-item input:enabled + label:hover {\n",
       "  color: var(--xr-font-color0);\n",
       "}\n",
       "\n",
       ".xr-section-summary {\n",
       "  grid-column: 1;\n",
       "  color: var(--xr-font-color2);\n",
       "  font-weight: 500;\n",
       "}\n",
       "\n",
       ".xr-section-summary > span {\n",
       "  display: inline-block;\n",
       "  padding-left: 0.5em;\n",
       "}\n",
       "\n",
       ".xr-section-summary-in:disabled + label {\n",
       "  color: var(--xr-font-color2);\n",
       "}\n",
       "\n",
       ".xr-section-summary-in + label:before {\n",
       "  display: inline-block;\n",
       "  content: '►';\n",
       "  font-size: 11px;\n",
       "  width: 15px;\n",
       "  text-align: center;\n",
       "}\n",
       "\n",
       ".xr-section-summary-in:disabled + label:before {\n",
       "  color: var(--xr-disabled-color);\n",
       "}\n",
       "\n",
       ".xr-section-summary-in:checked + label:before {\n",
       "  content: '▼';\n",
       "}\n",
       "\n",
       ".xr-section-summary-in:checked + label > span {\n",
       "  display: none;\n",
       "}\n",
       "\n",
       ".xr-section-summary,\n",
       ".xr-section-inline-details {\n",
       "  padding-top: 4px;\n",
       "  padding-bottom: 4px;\n",
       "}\n",
       "\n",
       ".xr-section-inline-details {\n",
       "  grid-column: 2 / -1;\n",
       "}\n",
       "\n",
       ".xr-section-details {\n",
       "  display: none;\n",
       "  grid-column: 1 / -1;\n",
       "  margin-bottom: 5px;\n",
       "}\n",
       "\n",
       ".xr-section-summary-in:checked ~ .xr-section-details {\n",
       "  display: contents;\n",
       "}\n",
       "\n",
       ".xr-array-wrap {\n",
       "  grid-column: 1 / -1;\n",
       "  display: grid;\n",
       "  grid-template-columns: 20px auto;\n",
       "}\n",
       "\n",
       ".xr-array-wrap > label {\n",
       "  grid-column: 1;\n",
       "  vertical-align: top;\n",
       "}\n",
       "\n",
       ".xr-preview {\n",
       "  color: var(--xr-font-color3);\n",
       "}\n",
       "\n",
       ".xr-array-preview,\n",
       ".xr-array-data {\n",
       "  padding: 0 5px !important;\n",
       "  grid-column: 2;\n",
       "}\n",
       "\n",
       ".xr-array-data,\n",
       ".xr-array-in:checked ~ .xr-array-preview {\n",
       "  display: none;\n",
       "}\n",
       "\n",
       ".xr-array-in:checked ~ .xr-array-data,\n",
       ".xr-array-preview {\n",
       "  display: inline-block;\n",
       "}\n",
       "\n",
       ".xr-dim-list {\n",
       "  display: inline-block !important;\n",
       "  list-style: none;\n",
       "  padding: 0 !important;\n",
       "  margin: 0;\n",
       "}\n",
       "\n",
       ".xr-dim-list li {\n",
       "  display: inline-block;\n",
       "  padding: 0;\n",
       "  margin: 0;\n",
       "}\n",
       "\n",
       ".xr-dim-list:before {\n",
       "  content: '(';\n",
       "}\n",
       "\n",
       ".xr-dim-list:after {\n",
       "  content: ')';\n",
       "}\n",
       "\n",
       ".xr-dim-list li:not(:last-child):after {\n",
       "  content: ',';\n",
       "  padding-right: 5px;\n",
       "}\n",
       "\n",
       ".xr-has-index {\n",
       "  font-weight: bold;\n",
       "}\n",
       "\n",
       ".xr-var-list,\n",
       ".xr-var-item {\n",
       "  display: contents;\n",
       "}\n",
       "\n",
       ".xr-var-item > div,\n",
       ".xr-var-item label,\n",
       ".xr-var-item > .xr-var-name span {\n",
       "  background-color: var(--xr-background-color-row-even);\n",
       "  margin-bottom: 0;\n",
       "}\n",
       "\n",
       ".xr-var-item > .xr-var-name:hover span {\n",
       "  padding-right: 5px;\n",
       "}\n",
       "\n",
       ".xr-var-list > li:nth-child(odd) > div,\n",
       ".xr-var-list > li:nth-child(odd) > label,\n",
       ".xr-var-list > li:nth-child(odd) > .xr-var-name span {\n",
       "  background-color: var(--xr-background-color-row-odd);\n",
       "}\n",
       "\n",
       ".xr-var-name {\n",
       "  grid-column: 1;\n",
       "}\n",
       "\n",
       ".xr-var-dims {\n",
       "  grid-column: 2;\n",
       "}\n",
       "\n",
       ".xr-var-dtype {\n",
       "  grid-column: 3;\n",
       "  text-align: right;\n",
       "  color: var(--xr-font-color2);\n",
       "}\n",
       "\n",
       ".xr-var-preview {\n",
       "  grid-column: 4;\n",
       "}\n",
       "\n",
       ".xr-var-name,\n",
       ".xr-var-dims,\n",
       ".xr-var-dtype,\n",
       ".xr-preview,\n",
       ".xr-attrs dt {\n",
       "  white-space: nowrap;\n",
       "  overflow: hidden;\n",
       "  text-overflow: ellipsis;\n",
       "  padding-right: 10px;\n",
       "}\n",
       "\n",
       ".xr-var-name:hover,\n",
       ".xr-var-dims:hover,\n",
       ".xr-var-dtype:hover,\n",
       ".xr-attrs dt:hover {\n",
       "  overflow: visible;\n",
       "  width: auto;\n",
       "  z-index: 1;\n",
       "}\n",
       "\n",
       ".xr-var-attrs,\n",
       ".xr-var-data {\n",
       "  display: none;\n",
       "  background-color: var(--xr-background-color) !important;\n",
       "  padding-bottom: 5px !important;\n",
       "}\n",
       "\n",
       ".xr-var-attrs-in:checked ~ .xr-var-attrs,\n",
       ".xr-var-data-in:checked ~ .xr-var-data {\n",
       "  display: block;\n",
       "}\n",
       "\n",
       ".xr-var-data > table {\n",
       "  float: right;\n",
       "}\n",
       "\n",
       ".xr-var-name span,\n",
       ".xr-var-data,\n",
       ".xr-attrs {\n",
       "  padding-left: 25px !important;\n",
       "}\n",
       "\n",
       ".xr-attrs,\n",
       ".xr-var-attrs,\n",
       ".xr-var-data {\n",
       "  grid-column: 1 / -1;\n",
       "}\n",
       "\n",
       "dl.xr-attrs {\n",
       "  padding: 0;\n",
       "  margin: 0;\n",
       "  display: grid;\n",
       "  grid-template-columns: 125px auto;\n",
       "}\n",
       "\n",
       ".xr-attrs dt,\n",
       ".xr-attrs dd {\n",
       "  padding: 0;\n",
       "  margin: 0;\n",
       "  float: left;\n",
       "  padding-right: 10px;\n",
       "  width: auto;\n",
       "}\n",
       "\n",
       ".xr-attrs dt {\n",
       "  font-weight: normal;\n",
       "  grid-column: 1;\n",
       "}\n",
       "\n",
       ".xr-attrs dt:hover span {\n",
       "  display: inline-block;\n",
       "  background: var(--xr-background-color);\n",
       "  padding-right: 10px;\n",
       "}\n",
       "\n",
       ".xr-attrs dd {\n",
       "  grid-column: 2;\n",
       "  white-space: pre-wrap;\n",
       "  word-break: break-all;\n",
       "}\n",
       "\n",
       ".xr-icon-database,\n",
       ".xr-icon-file-text2 {\n",
       "  display: inline-block;\n",
       "  vertical-align: middle;\n",
       "  width: 1em;\n",
       "  height: 1.5em !important;\n",
       "  stroke-width: 0;\n",
       "  stroke: currentColor;\n",
       "  fill: currentColor;\n",
       "}\n",
       "</style><pre class='xr-text-repr-fallback'>&lt;xarray.DataArray &#x27;drought_id&#x27; (time: 4, y: 4, x: 4)&gt;\n",
       "array([[[&#x27;1&#x27;, &#x27;1&#x27;, &#x27;&#x27;, &#x27;&#x27;],\n",
       "        [&#x27;1&#x27;, &#x27;1&#x27;, &#x27;&#x27;, &#x27;&#x27;],\n",
       "        [&#x27;&#x27;, &#x27;&#x27;, &#x27;&#x27;, &#x27;&#x27;],\n",
       "        [&#x27;&#x27;, &#x27;&#x27;, &#x27;&#x27;, &#x27;&#x27;]],\n",
       "\n",
       "       [[&#x27;1&#x27;, &#x27;1&#x27;, &#x27;1&#x27;, &#x27;&#x27;],\n",
       "        [&#x27;1&#x27;, &#x27;1&#x27;, &#x27;1&#x27;, &#x27;&#x27;],\n",
       "        [&#x27;&#x27;, &#x27;&#x27;, &#x27;&#x27;, &#x27;&#x27;],\n",
       "        [&#x27;&#x27;, &#x27;2&#x27;, &#x27;2&#x27;, &#x27;2&#x27;]],\n",
       "\n",
       "       [[&#x27;1-1&#x27;, &#x27;&#x27;, &#x27;&#x27;, &#x27;&#x27;],\n",
       "        [&#x27;1-1&#x27;, &#x27;&#x27;, &#x27;1-2&#x27;, &#x27;1-2&#x27;],\n",
       "        [&#x27;&#x27;, &#x27;&#x27;, &#x27;&#x27;, &#x27;&#x27;],\n",
       "        [&#x27;&#x27;, &#x27;2&#x27;, &#x27;2&#x27;, &#x27;2&#x27;]],\n",
       "\n",
       "       [[&#x27;1-1&#x27;, &#x27;&#x27;, &#x27;&#x27;, &#x27;&#x27;],\n",
       "        [&#x27;1-1&#x27;, &#x27;&#x27;, &#x27;2.1-2&#x27;, &#x27;2.1-2&#x27;],\n",
       "        [&#x27;&#x27;, &#x27;&#x27;, &#x27;2.1-2&#x27;, &#x27;2.1-2&#x27;],\n",
       "        [&#x27;&#x27;, &#x27;2.1-2&#x27;, &#x27;2.1-2&#x27;, &#x27;2.1-2&#x27;]]], dtype=object)\n",
       "Coordinates:\n",
       "  * x        (x) int64 0 1 2 3\n",
       "  * y        (y) int64 0 1 2 3\n",
       "  * time     (time) int64 0 1 2 3</pre><div class='xr-wrap' style='display:none'><div class='xr-header'><div class='xr-obj-type'>xarray.DataArray</div><div class='xr-array-name'>'drought_id'</div><ul class='xr-dim-list'><li><span class='xr-has-index'>time</span>: 4</li><li><span class='xr-has-index'>y</span>: 4</li><li><span class='xr-has-index'>x</span>: 4</li></ul></div><ul class='xr-sections'><li class='xr-section-item'><div class='xr-array-wrap'><input id='section-1aff40cd-4ba8-4aa8-a7ef-5802b3b976bc' class='xr-array-in' type='checkbox' checked><label for='section-1aff40cd-4ba8-4aa8-a7ef-5802b3b976bc' title='Show/hide data repr'><svg class='icon xr-icon-database'><use xlink:href='#icon-database'></use></svg></label><div class='xr-array-preview xr-preview'><span>&#x27;1&#x27; &#x27;1&#x27; &#x27;&#x27; &#x27;&#x27; &#x27;1&#x27; &#x27;1&#x27; ... &#x27;2.1-2&#x27; &#x27;2.1-2&#x27; &#x27;&#x27; &#x27;2.1-2&#x27; &#x27;2.1-2&#x27; &#x27;2.1-2&#x27;</span></div><div class='xr-array-data'><pre>array([[[&#x27;1&#x27;, &#x27;1&#x27;, &#x27;&#x27;, &#x27;&#x27;],\n",
       "        [&#x27;1&#x27;, &#x27;1&#x27;, &#x27;&#x27;, &#x27;&#x27;],\n",
       "        [&#x27;&#x27;, &#x27;&#x27;, &#x27;&#x27;, &#x27;&#x27;],\n",
       "        [&#x27;&#x27;, &#x27;&#x27;, &#x27;&#x27;, &#x27;&#x27;]],\n",
       "\n",
       "       [[&#x27;1&#x27;, &#x27;1&#x27;, &#x27;1&#x27;, &#x27;&#x27;],\n",
       "        [&#x27;1&#x27;, &#x27;1&#x27;, &#x27;1&#x27;, &#x27;&#x27;],\n",
       "        [&#x27;&#x27;, &#x27;&#x27;, &#x27;&#x27;, &#x27;&#x27;],\n",
       "        [&#x27;&#x27;, &#x27;2&#x27;, &#x27;2&#x27;, &#x27;2&#x27;]],\n",
       "\n",
       "       [[&#x27;1-1&#x27;, &#x27;&#x27;, &#x27;&#x27;, &#x27;&#x27;],\n",
       "        [&#x27;1-1&#x27;, &#x27;&#x27;, &#x27;1-2&#x27;, &#x27;1-2&#x27;],\n",
       "        [&#x27;&#x27;, &#x27;&#x27;, &#x27;&#x27;, &#x27;&#x27;],\n",
       "        [&#x27;&#x27;, &#x27;2&#x27;, &#x27;2&#x27;, &#x27;2&#x27;]],\n",
       "\n",
       "       [[&#x27;1-1&#x27;, &#x27;&#x27;, &#x27;&#x27;, &#x27;&#x27;],\n",
       "        [&#x27;1-1&#x27;, &#x27;&#x27;, &#x27;2.1-2&#x27;, &#x27;2.1-2&#x27;],\n",
       "        [&#x27;&#x27;, &#x27;&#x27;, &#x27;2.1-2&#x27;, &#x27;2.1-2&#x27;],\n",
       "        [&#x27;&#x27;, &#x27;2.1-2&#x27;, &#x27;2.1-2&#x27;, &#x27;2.1-2&#x27;]]], dtype=object)</pre></div></div></li><li class='xr-section-item'><input id='section-965516d8-efb1-404f-a91d-881a83e91000' class='xr-section-summary-in' type='checkbox'  checked><label for='section-965516d8-efb1-404f-a91d-881a83e91000' class='xr-section-summary' >Coordinates: <span>(3)</span></label><div class='xr-section-inline-details'></div><div class='xr-section-details'><ul class='xr-var-list'><li class='xr-var-item'><div class='xr-var-name'><span class='xr-has-index'>x</span></div><div class='xr-var-dims'>(x)</div><div class='xr-var-dtype'>int64</div><div class='xr-var-preview xr-preview'>0 1 2 3</div><input id='attrs-3a8715dd-1233-4558-8e31-5a056e689b67' class='xr-var-attrs-in' type='checkbox' disabled><label for='attrs-3a8715dd-1233-4558-8e31-5a056e689b67' title='Show/Hide attributes'><svg class='icon xr-icon-file-text2'><use xlink:href='#icon-file-text2'></use></svg></label><input id='data-41d34d97-6328-45e5-b68c-c2c846e35a6c' class='xr-var-data-in' type='checkbox'><label for='data-41d34d97-6328-45e5-b68c-c2c846e35a6c' title='Show/Hide data repr'><svg class='icon xr-icon-database'><use xlink:href='#icon-database'></use></svg></label><div class='xr-var-attrs'><dl class='xr-attrs'></dl></div><div class='xr-var-data'><pre>array([0, 1, 2, 3])</pre></div></li><li class='xr-var-item'><div class='xr-var-name'><span class='xr-has-index'>y</span></div><div class='xr-var-dims'>(y)</div><div class='xr-var-dtype'>int64</div><div class='xr-var-preview xr-preview'>0 1 2 3</div><input id='attrs-098f44d0-8475-4acc-ae0f-7113a8fafaf5' class='xr-var-attrs-in' type='checkbox' disabled><label for='attrs-098f44d0-8475-4acc-ae0f-7113a8fafaf5' title='Show/Hide attributes'><svg class='icon xr-icon-file-text2'><use xlink:href='#icon-file-text2'></use></svg></label><input id='data-299b1e1c-28b5-4bf9-b587-fb1e98fd6528' class='xr-var-data-in' type='checkbox'><label for='data-299b1e1c-28b5-4bf9-b587-fb1e98fd6528' title='Show/Hide data repr'><svg class='icon xr-icon-database'><use xlink:href='#icon-database'></use></svg></label><div class='xr-var-attrs'><dl class='xr-attrs'></dl></div><div class='xr-var-data'><pre>array([0, 1, 2, 3])</pre></div></li><li class='xr-var-item'><div class='xr-var-name'><span class='xr-has-index'>time</span></div><div class='xr-var-dims'>(time)</div><div class='xr-var-dtype'>int64</div><div class='xr-var-preview xr-preview'>0 1 2 3</div><input id='attrs-f4f1d72b-fcc1-4c85-82b7-e23049956b9d' class='xr-var-attrs-in' type='checkbox' disabled><label for='attrs-f4f1d72b-fcc1-4c85-82b7-e23049956b9d' title='Show/Hide attributes'><svg class='icon xr-icon-file-text2'><use xlink:href='#icon-file-text2'></use></svg></label><input id='data-d3337067-2d75-4f8b-bcbf-e222a1088623' class='xr-var-data-in' type='checkbox'><label for='data-d3337067-2d75-4f8b-bcbf-e222a1088623' title='Show/Hide data repr'><svg class='icon xr-icon-database'><use xlink:href='#icon-database'></use></svg></label><div class='xr-var-attrs'><dl class='xr-attrs'></dl></div><div class='xr-var-data'><pre>array([0, 1, 2, 3])</pre></div></li></ul></div></li><li class='xr-section-item'><input id='section-7c968821-d028-44d7-8b58-97ffb2156729' class='xr-section-summary-in' type='checkbox' disabled ><label for='section-7c968821-d028-44d7-8b58-97ffb2156729' class='xr-section-summary'  title='Expand/collapse section'>Attributes: <span>(0)</span></label><div class='xr-section-inline-details'></div><div class='xr-section-details'><dl class='xr-attrs'></dl></div></li></ul></div></div>"
      ],
      "text/plain": [
       "<xarray.DataArray 'drought_id' (time: 4, y: 4, x: 4)>\n",
       "array([[['1', '1', '', ''],\n",
       "        ['1', '1', '', ''],\n",
       "        ['', '', '', ''],\n",
       "        ['', '', '', '']],\n",
       "\n",
       "       [['1', '1', '1', ''],\n",
       "        ['1', '1', '1', ''],\n",
       "        ['', '', '', ''],\n",
       "        ['', '2', '2', '2']],\n",
       "\n",
       "       [['1-1', '', '', ''],\n",
       "        ['1-1', '', '1-2', '1-2'],\n",
       "        ['', '', '', ''],\n",
       "        ['', '2', '2', '2']],\n",
       "\n",
       "       [['1-1', '', '', ''],\n",
       "        ['1-1', '', '2.1-2', '2.1-2'],\n",
       "        ['', '', '2.1-2', '2.1-2'],\n",
       "        ['', '2.1-2', '2.1-2', '2.1-2']]], dtype=object)\n",
       "Coordinates:\n",
       "  * x        (x) int64 0 1 2 3\n",
       "  * y        (y) int64 0 1 2 3\n",
       "  * time     (time) int64 0 1 2 3"
      ]
     },
     "execution_count": 116,
     "metadata": {},
     "output_type": "execute_result"
    }
   ],
   "source": [
    "test_ds['drought_id']"
   ]
  },
  {
   "cell_type": "markdown",
   "metadata": {},
   "source": [
    "So that's one way to do it ... but it also destroys any collective identity of the droughts, which was the whole purpose of this. Like it tracks them, but I can't easily grab the drought with id `1` across all time"
   ]
  },
  {
   "cell_type": "markdown",
   "metadata": {},
   "source": [
    "When I have used encoding like this before, I had to make a whole object class to since it had to have internal knowledge of how to navigate itself."
   ]
  },
  {
   "cell_type": "markdown",
   "metadata": {},
   "source": [
    "Can I do this with the pandas dataframes?"
   ]
  },
  {
   "cell_type": "code",
   "execution_count": 117,
   "metadata": {},
   "outputs": [
    {
     "data": {
      "text/html": [
       "<div>\n",
       "<style scoped>\n",
       "    .dataframe tbody tr th:only-of-type {\n",
       "        vertical-align: middle;\n",
       "    }\n",
       "\n",
       "    .dataframe tbody tr th {\n",
       "        vertical-align: top;\n",
       "    }\n",
       "\n",
       "    .dataframe thead th {\n",
       "        text-align: right;\n",
       "    }\n",
       "</style>\n",
       "<table border=\"1\" class=\"dataframe\">\n",
       "  <thead>\n",
       "    <tr style=\"text-align: right;\">\n",
       "      <th></th>\n",
       "      <th>area</th>\n",
       "      <th>coords</th>\n",
       "      <th>drought_id</th>\n",
       "    </tr>\n",
       "  </thead>\n",
       "  <tbody>\n",
       "    <tr>\n",
       "      <th>0</th>\n",
       "      <td>4</td>\n",
       "      <td>[[0, 0], [0, 1], [1, 0], [1, 1]]</td>\n",
       "      <td>1</td>\n",
       "    </tr>\n",
       "  </tbody>\n",
       "</table>\n",
       "</div>"
      ],
      "text/plain": [
       "   area                            coords drought_id\n",
       "0     4  [[0, 0], [0, 1], [1, 0], [1, 1]]          1"
      ]
     },
     "execution_count": 117,
     "metadata": {},
     "output_type": "execute_result"
    }
   ],
   "source": [
    "df_1[['area', 'coords', 'drought_id']]"
   ]
  },
  {
   "cell_type": "code",
   "execution_count": 118,
   "metadata": {},
   "outputs": [
    {
     "data": {
      "text/html": [
       "<div>\n",
       "<style scoped>\n",
       "    .dataframe tbody tr th:only-of-type {\n",
       "        vertical-align: middle;\n",
       "    }\n",
       "\n",
       "    .dataframe tbody tr th {\n",
       "        vertical-align: top;\n",
       "    }\n",
       "\n",
       "    .dataframe thead th {\n",
       "        text-align: right;\n",
       "    }\n",
       "</style>\n",
       "<table border=\"1\" class=\"dataframe\">\n",
       "  <thead>\n",
       "    <tr style=\"text-align: right;\">\n",
       "      <th></th>\n",
       "      <th>index</th>\n",
       "      <th>drought_id</th>\n",
       "      <th>area</th>\n",
       "      <th>coords</th>\n",
       "    </tr>\n",
       "  </thead>\n",
       "  <tbody>\n",
       "    <tr>\n",
       "      <th>0</th>\n",
       "      <td>0</td>\n",
       "      <td>1</td>\n",
       "      <td>4</td>\n",
       "      <td>[[0, 0], [0, 1], [1, 0], [1, 1]]</td>\n",
       "    </tr>\n",
       "    <tr>\n",
       "      <th>1</th>\n",
       "      <td>0</td>\n",
       "      <td>1</td>\n",
       "      <td>6</td>\n",
       "      <td>[[0, 0], [0, 1], [0, 2], [1, 0], [1, 1], [1, 2]]</td>\n",
       "    </tr>\n",
       "    <tr>\n",
       "      <th>2</th>\n",
       "      <td>1</td>\n",
       "      <td>2</td>\n",
       "      <td>3</td>\n",
       "      <td>[[3, 1], [3, 2], [3, 3]]</td>\n",
       "    </tr>\n",
       "    <tr>\n",
       "      <th>3</th>\n",
       "      <td>0</td>\n",
       "      <td>1-1</td>\n",
       "      <td>2</td>\n",
       "      <td>[[0, 0], [1, 0]]</td>\n",
       "    </tr>\n",
       "    <tr>\n",
       "      <th>4</th>\n",
       "      <td>1</td>\n",
       "      <td>1-2</td>\n",
       "      <td>2</td>\n",
       "      <td>[[1, 2], [1, 3]]</td>\n",
       "    </tr>\n",
       "    <tr>\n",
       "      <th>5</th>\n",
       "      <td>2</td>\n",
       "      <td>2</td>\n",
       "      <td>3</td>\n",
       "      <td>[[3, 1], [3, 2], [3, 3]]</td>\n",
       "    </tr>\n",
       "    <tr>\n",
       "      <th>6</th>\n",
       "      <td>0</td>\n",
       "      <td>1-1</td>\n",
       "      <td>2</td>\n",
       "      <td>[[0, 0], [1, 0]]</td>\n",
       "    </tr>\n",
       "    <tr>\n",
       "      <th>7</th>\n",
       "      <td>1</td>\n",
       "      <td>2.1-2</td>\n",
       "      <td>7</td>\n",
       "      <td>[[1, 2], [1, 3], [2, 2], [2, 3], [3, 1], [3, 2...</td>\n",
       "    </tr>\n",
       "  </tbody>\n",
       "</table>\n",
       "</div>"
      ],
      "text/plain": [
       "   index drought_id  area                                             coords\n",
       "0      0          1     4                   [[0, 0], [0, 1], [1, 0], [1, 1]]\n",
       "1      0          1     6   [[0, 0], [0, 1], [0, 2], [1, 0], [1, 1], [1, 2]]\n",
       "2      1          2     3                           [[3, 1], [3, 2], [3, 3]]\n",
       "3      0        1-1     2                                   [[0, 0], [1, 0]]\n",
       "4      1        1-2     2                                   [[1, 2], [1, 3]]\n",
       "5      2          2     3                           [[3, 1], [3, 2], [3, 3]]\n",
       "6      0        1-1     2                                   [[0, 0], [1, 0]]\n",
       "7      1      2.1-2     7  [[1, 2], [1, 3], [2, 2], [2, 3], [3, 1], [3, 2..."
      ]
     },
     "execution_count": 118,
     "metadata": {},
     "output_type": "execute_result"
    }
   ],
   "source": [
    "test_df_all = pd.concat([df[['drought_id', 'area', 'coords']] for df in [df_1, df_2, df_3, df_4]])\n",
    "test_df_all = test_df_all.reset_index()\n",
    "test_df_all"
   ]
  },
  {
   "cell_type": "markdown",
   "metadata": {},
   "source": [
    "Hm, I'm missing times from this ... oh that could become a multiindex (ugh, but not much other choice)"
   ]
  },
  {
   "cell_type": "code",
   "execution_count": 119,
   "metadata": {},
   "outputs": [],
   "source": [
    "for i, df in enumerate([df_1, df_2, df_3, df_4]):\n",
    "    df['time'] = i"
   ]
  },
  {
   "cell_type": "code",
   "execution_count": 120,
   "metadata": {},
   "outputs": [
    {
     "data": {
      "text/html": [
       "<div>\n",
       "<style scoped>\n",
       "    .dataframe tbody tr th:only-of-type {\n",
       "        vertical-align: middle;\n",
       "    }\n",
       "\n",
       "    .dataframe tbody tr th {\n",
       "        vertical-align: top;\n",
       "    }\n",
       "\n",
       "    .dataframe thead th {\n",
       "        text-align: right;\n",
       "    }\n",
       "</style>\n",
       "<table border=\"1\" class=\"dataframe\">\n",
       "  <thead>\n",
       "    <tr style=\"text-align: right;\">\n",
       "      <th></th>\n",
       "      <th></th>\n",
       "      <th>area</th>\n",
       "      <th>coords</th>\n",
       "    </tr>\n",
       "    <tr>\n",
       "      <th>time</th>\n",
       "      <th>drought_id</th>\n",
       "      <th></th>\n",
       "      <th></th>\n",
       "    </tr>\n",
       "  </thead>\n",
       "  <tbody>\n",
       "    <tr>\n",
       "      <th>0</th>\n",
       "      <th>1</th>\n",
       "      <td>4</td>\n",
       "      <td>[[0, 0], [0, 1], [1, 0], [1, 1]]</td>\n",
       "    </tr>\n",
       "    <tr>\n",
       "      <th rowspan=\"2\" valign=\"top\">1</th>\n",
       "      <th>1</th>\n",
       "      <td>6</td>\n",
       "      <td>[[0, 0], [0, 1], [0, 2], [1, 0], [1, 1], [1, 2]]</td>\n",
       "    </tr>\n",
       "    <tr>\n",
       "      <th>2</th>\n",
       "      <td>3</td>\n",
       "      <td>[[3, 1], [3, 2], [3, 3]]</td>\n",
       "    </tr>\n",
       "    <tr>\n",
       "      <th rowspan=\"3\" valign=\"top\">2</th>\n",
       "      <th>1-1</th>\n",
       "      <td>2</td>\n",
       "      <td>[[0, 0], [1, 0]]</td>\n",
       "    </tr>\n",
       "    <tr>\n",
       "      <th>1-2</th>\n",
       "      <td>2</td>\n",
       "      <td>[[1, 2], [1, 3]]</td>\n",
       "    </tr>\n",
       "    <tr>\n",
       "      <th>2</th>\n",
       "      <td>3</td>\n",
       "      <td>[[3, 1], [3, 2], [3, 3]]</td>\n",
       "    </tr>\n",
       "    <tr>\n",
       "      <th rowspan=\"2\" valign=\"top\">3</th>\n",
       "      <th>1-1</th>\n",
       "      <td>2</td>\n",
       "      <td>[[0, 0], [1, 0]]</td>\n",
       "    </tr>\n",
       "    <tr>\n",
       "      <th>2.1-2</th>\n",
       "      <td>7</td>\n",
       "      <td>[[1, 2], [1, 3], [2, 2], [2, 3], [3, 1], [3, 2...</td>\n",
       "    </tr>\n",
       "  </tbody>\n",
       "</table>\n",
       "</div>"
      ],
      "text/plain": [
       "                 area                                             coords\n",
       "time drought_id                                                         \n",
       "0    1              4                   [[0, 0], [0, 1], [1, 0], [1, 1]]\n",
       "1    1              6   [[0, 0], [0, 1], [0, 2], [1, 0], [1, 1], [1, 2]]\n",
       "     2              3                           [[3, 1], [3, 2], [3, 3]]\n",
       "2    1-1            2                                   [[0, 0], [1, 0]]\n",
       "     1-2            2                                   [[1, 2], [1, 3]]\n",
       "     2              3                           [[3, 1], [3, 2], [3, 3]]\n",
       "3    1-1            2                                   [[0, 0], [1, 0]]\n",
       "     2.1-2          7  [[1, 2], [1, 3], [2, 2], [2, 3], [3, 1], [3, 2..."
      ]
     },
     "execution_count": 120,
     "metadata": {},
     "output_type": "execute_result"
    }
   ],
   "source": [
    "test_df_all = pd.concat([df[['time', 'drought_id', 'area', 'coords']] for df in [df_1, df_2, df_3, df_4]], ignore_index=True)\n",
    "test_df_all = test_df_all.set_index(['time', 'drought_id'])\n",
    "test_df_all"
   ]
  },
  {
   "cell_type": "markdown",
   "metadata": {},
   "source": [
    "OOOOO"
   ]
  },
  {
   "cell_type": "markdown",
   "metadata": {},
   "source": [
    "Can I now extract a specific drought thread?"
   ]
  },
  {
   "cell_type": "markdown",
   "metadata": {},
   "source": [
    "I'd want to find what id's have '1' as the first value or have a '.1' in them"
   ]
  },
  {
   "cell_type": "code",
   "execution_count": 121,
   "metadata": {},
   "outputs": [
    {
     "data": {
      "text/html": [
       "<div>\n",
       "<style scoped>\n",
       "    .dataframe tbody tr th:only-of-type {\n",
       "        vertical-align: middle;\n",
       "    }\n",
       "\n",
       "    .dataframe tbody tr th {\n",
       "        vertical-align: top;\n",
       "    }\n",
       "\n",
       "    .dataframe thead th {\n",
       "        text-align: right;\n",
       "    }\n",
       "</style>\n",
       "<table border=\"1\" class=\"dataframe\">\n",
       "  <thead>\n",
       "    <tr style=\"text-align: right;\">\n",
       "      <th></th>\n",
       "      <th></th>\n",
       "      <th>area</th>\n",
       "      <th>coords</th>\n",
       "      <th>drought_id</th>\n",
       "    </tr>\n",
       "    <tr>\n",
       "      <th>time</th>\n",
       "      <th>drought_id</th>\n",
       "      <th></th>\n",
       "      <th></th>\n",
       "      <th></th>\n",
       "    </tr>\n",
       "  </thead>\n",
       "  <tbody>\n",
       "    <tr>\n",
       "      <th>0</th>\n",
       "      <th>1</th>\n",
       "      <td>4</td>\n",
       "      <td>[[0, 0], [0, 1], [1, 0], [1, 1]]</td>\n",
       "      <td>1</td>\n",
       "    </tr>\n",
       "    <tr>\n",
       "      <th rowspan=\"2\" valign=\"top\">1</th>\n",
       "      <th>1</th>\n",
       "      <td>6</td>\n",
       "      <td>[[0, 0], [0, 1], [0, 2], [1, 0], [1, 1], [1, 2]]</td>\n",
       "      <td>1</td>\n",
       "    </tr>\n",
       "    <tr>\n",
       "      <th>2</th>\n",
       "      <td>3</td>\n",
       "      <td>[[3, 1], [3, 2], [3, 3]]</td>\n",
       "      <td>2</td>\n",
       "    </tr>\n",
       "    <tr>\n",
       "      <th rowspan=\"3\" valign=\"top\">2</th>\n",
       "      <th>1-1</th>\n",
       "      <td>2</td>\n",
       "      <td>[[0, 0], [1, 0]]</td>\n",
       "      <td>1-1</td>\n",
       "    </tr>\n",
       "    <tr>\n",
       "      <th>1-2</th>\n",
       "      <td>2</td>\n",
       "      <td>[[1, 2], [1, 3]]</td>\n",
       "      <td>1-2</td>\n",
       "    </tr>\n",
       "    <tr>\n",
       "      <th>2</th>\n",
       "      <td>3</td>\n",
       "      <td>[[3, 1], [3, 2], [3, 3]]</td>\n",
       "      <td>2</td>\n",
       "    </tr>\n",
       "    <tr>\n",
       "      <th rowspan=\"2\" valign=\"top\">3</th>\n",
       "      <th>1-1</th>\n",
       "      <td>2</td>\n",
       "      <td>[[0, 0], [1, 0]]</td>\n",
       "      <td>1-1</td>\n",
       "    </tr>\n",
       "    <tr>\n",
       "      <th>2.1-2</th>\n",
       "      <td>7</td>\n",
       "      <td>[[1, 2], [1, 3], [2, 2], [2, 3], [3, 1], [3, 2...</td>\n",
       "      <td>2.1-2</td>\n",
       "    </tr>\n",
       "  </tbody>\n",
       "</table>\n",
       "</div>"
      ],
      "text/plain": [
       "                 area                                             coords  \\\n",
       "time drought_id                                                            \n",
       "0    1              4                   [[0, 0], [0, 1], [1, 0], [1, 1]]   \n",
       "1    1              6   [[0, 0], [0, 1], [0, 2], [1, 0], [1, 1], [1, 2]]   \n",
       "     2              3                           [[3, 1], [3, 2], [3, 3]]   \n",
       "2    1-1            2                                   [[0, 0], [1, 0]]   \n",
       "     1-2            2                                   [[1, 2], [1, 3]]   \n",
       "     2              3                           [[3, 1], [3, 2], [3, 3]]   \n",
       "3    1-1            2                                   [[0, 0], [1, 0]]   \n",
       "     2.1-2          7  [[1, 2], [1, 3], [2, 2], [2, 3], [3, 1], [3, 2...   \n",
       "\n",
       "                drought_id  \n",
       "time drought_id             \n",
       "0    1                   1  \n",
       "1    1                   1  \n",
       "     2                   2  \n",
       "2    1-1               1-1  \n",
       "     1-2               1-2  \n",
       "     2                   2  \n",
       "3    1-1               1-1  \n",
       "     2.1-2           2.1-2  "
      ]
     },
     "execution_count": 121,
     "metadata": {},
     "output_type": "execute_result"
    }
   ],
   "source": [
    "# this will allow for easier searching I think\n",
    "test_df_all['drought_id'] = test_df_all.index.get_level_values(1)\n",
    "test_df_all"
   ]
  },
  {
   "cell_type": "code",
   "execution_count": 122,
   "metadata": {},
   "outputs": [
    {
     "data": {
      "text/plain": [
       "[0, 1, 3, 4, 6, 7]"
      ]
     },
     "execution_count": 122,
     "metadata": {},
     "output_type": "execute_result"
    }
   ],
   "source": [
    "drought_thread = [i for i, val in enumerate(test_df_all['drought_id']) if '1' in val or '.1' in val]\n",
    "drought_thread"
   ]
  },
  {
   "cell_type": "code",
   "execution_count": 123,
   "metadata": {},
   "outputs": [
    {
     "data": {
      "text/html": [
       "<div>\n",
       "<style scoped>\n",
       "    .dataframe tbody tr th:only-of-type {\n",
       "        vertical-align: middle;\n",
       "    }\n",
       "\n",
       "    .dataframe tbody tr th {\n",
       "        vertical-align: top;\n",
       "    }\n",
       "\n",
       "    .dataframe thead th {\n",
       "        text-align: right;\n",
       "    }\n",
       "</style>\n",
       "<table border=\"1\" class=\"dataframe\">\n",
       "  <thead>\n",
       "    <tr style=\"text-align: right;\">\n",
       "      <th></th>\n",
       "      <th></th>\n",
       "      <th>area</th>\n",
       "      <th>coords</th>\n",
       "      <th>drought_id</th>\n",
       "    </tr>\n",
       "    <tr>\n",
       "      <th>time</th>\n",
       "      <th>drought_id</th>\n",
       "      <th></th>\n",
       "      <th></th>\n",
       "      <th></th>\n",
       "    </tr>\n",
       "  </thead>\n",
       "  <tbody>\n",
       "    <tr>\n",
       "      <th>0</th>\n",
       "      <th>1</th>\n",
       "      <td>4</td>\n",
       "      <td>[[0, 0], [0, 1], [1, 0], [1, 1]]</td>\n",
       "      <td>1</td>\n",
       "    </tr>\n",
       "    <tr>\n",
       "      <th>1</th>\n",
       "      <th>1</th>\n",
       "      <td>6</td>\n",
       "      <td>[[0, 0], [0, 1], [0, 2], [1, 0], [1, 1], [1, 2]]</td>\n",
       "      <td>1</td>\n",
       "    </tr>\n",
       "    <tr>\n",
       "      <th rowspan=\"2\" valign=\"top\">2</th>\n",
       "      <th>1-1</th>\n",
       "      <td>2</td>\n",
       "      <td>[[0, 0], [1, 0]]</td>\n",
       "      <td>1-1</td>\n",
       "    </tr>\n",
       "    <tr>\n",
       "      <th>1-2</th>\n",
       "      <td>2</td>\n",
       "      <td>[[1, 2], [1, 3]]</td>\n",
       "      <td>1-2</td>\n",
       "    </tr>\n",
       "    <tr>\n",
       "      <th rowspan=\"2\" valign=\"top\">3</th>\n",
       "      <th>1-1</th>\n",
       "      <td>2</td>\n",
       "      <td>[[0, 0], [1, 0]]</td>\n",
       "      <td>1-1</td>\n",
       "    </tr>\n",
       "    <tr>\n",
       "      <th>2.1-2</th>\n",
       "      <td>7</td>\n",
       "      <td>[[1, 2], [1, 3], [2, 2], [2, 3], [3, 1], [3, 2...</td>\n",
       "      <td>2.1-2</td>\n",
       "    </tr>\n",
       "  </tbody>\n",
       "</table>\n",
       "</div>"
      ],
      "text/plain": [
       "                 area                                             coords  \\\n",
       "time drought_id                                                            \n",
       "0    1              4                   [[0, 0], [0, 1], [1, 0], [1, 1]]   \n",
       "1    1              6   [[0, 0], [0, 1], [0, 2], [1, 0], [1, 1], [1, 2]]   \n",
       "2    1-1            2                                   [[0, 0], [1, 0]]   \n",
       "     1-2            2                                   [[1, 2], [1, 3]]   \n",
       "3    1-1            2                                   [[0, 0], [1, 0]]   \n",
       "     2.1-2          7  [[1, 2], [1, 3], [2, 2], [2, 3], [3, 1], [3, 2...   \n",
       "\n",
       "                drought_id  \n",
       "time drought_id             \n",
       "0    1                   1  \n",
       "1    1                   1  \n",
       "2    1-1               1-1  \n",
       "     1-2               1-2  \n",
       "3    1-1               1-1  \n",
       "     2.1-2           2.1-2  "
      ]
     },
     "execution_count": 123,
     "metadata": {},
     "output_type": "execute_result"
    }
   ],
   "source": [
    "thread_df = test_df_all.iloc[drought_thread]\n",
    "thread_df"
   ]
  },
  {
   "cell_type": "markdown",
   "metadata": {},
   "source": [
    "Okay, I got those indexed ... now how do I plot?"
   ]
  },
  {
   "cell_type": "code",
   "execution_count": 124,
   "metadata": {},
   "outputs": [
    {
     "data": {
      "image/png": "[encoded data removed]",
      "text/plain": [
       "<Figure size 432x288 with 1 Axes>"
      ]
     },
     "metadata": {
      "needs_background": "light"
     },
     "output_type": "display_data"
    }
   ],
   "source": [
    "fig, ax = plt.subplots()\n",
    "\n",
    "thread_df.groupby(level='time').sum().plot(ax=ax)\n",
    "ax.set_ylim(0, 4*4)\n",
    "ax.set_ylabel('Total Area in Drought')\n",
    "ax.set_title('Aggregate testing');"
   ]
  },
  {
   "cell_type": "markdown",
   "metadata": {},
   "source": [
    "So that get's me a plot I already could have made, which is a good sanity check, but now I want to get it split between the different events"
   ]
  },
  {
   "cell_type": "markdown",
   "metadata": {},
   "source": [
    "This is what I'd want it to look like:"
   ]
  },
  {
   "cell_type": "code",
   "execution_count": 125,
   "metadata": {},
   "outputs": [
    {
     "data": {
      "text/plain": [
       "Text(0.5, 1.0, 'Evolution of Drought in Test')"
      ]
     },
     "execution_count": 125,
     "metadata": {},
     "output_type": "execute_result"
    },
    {
     "data": {
      "image/png": "[encoded data removed]",
      "text/plain": [
       "<Figure size 432x288 with 1 Axes>"
      ]
     },
     "metadata": {
      "needs_background": "light"
     },
     "output_type": "display_data"
    }
   ],
   "source": [
    "fig, ax = plt.subplots()\n",
    "\n",
    "ax.stackplot(\n",
    "    [0, 1, 2, 3], \n",
    "    [4, 6, 0, 0],\n",
    "    [0, 0, 2, 2],\n",
    "    [0, 0, 2, 0],\n",
    "    [0, 0, 0, 7],\n",
    "    alpha=0.5,\n",
    "    labels=['1','1-1', '12', '2.1-2']\n",
    "\n",
    ")\n",
    "\n",
    "ax.set_xlim(0,3)\n",
    "ax.legend(loc='upper left')\n",
    "\n",
    "ax.set_xlabel('Time')\n",
    "ax.set_ylabel('Area in drought event')\n",
    "ax.set_title('Evolution of Drought in Test')"
   ]
  },
  {
   "cell_type": "markdown",
   "metadata": {},
   "source": [
    "alright, so more time intervals the better to get rid of the interpolation, but you can see here that after time 1, event `1` split into `1-1` and `1-2`. Then at time 2 can see that `1-2` got absorbed into `2.1-2`"
   ]
  },
  {
   "cell_type": "markdown",
   "metadata": {},
   "source": [
    "Now to figure out how to translate `thread_df` into that"
   ]
  },
  {
   "cell_type": "markdown",
   "metadata": {},
   "source": [
    "So I need the 0's for the whole time ... and then I can grab the areas for which times they correspond to ..."
   ]
  },
  {
   "cell_type": "code",
   "execution_count": 126,
   "metadata": {},
   "outputs": [
    {
     "name": "stdout",
     "output_type": "stream",
     "text": [
      "['1', '1-1', '1-2', '2.1-2']\n"
     ]
    }
   ],
   "source": [
    "times = np.arange(4)\n",
    "template = np.zeros(4)\n",
    "\n",
    "unique_drought_id = sorted(set(thread_df['drought_id'].values))\n",
    "print(unique_drought_id)"
   ]
  },
  {
   "cell_type": "code",
   "execution_count": 127,
   "metadata": {},
   "outputs": [],
   "source": [
    "droughts = []\n",
    "\n",
    "\n",
    "for id in unique_drought_id:\n",
    "    event_df = thread_df[thread_df.drought_id == id]\n",
    "    times = event_df.index.get_level_values(0)\n",
    "    event_array = template.copy()\n",
    "\n",
    "    for time in times:\n",
    "        event_array[time] = event_df.loc[time]['area']\n",
    "    \n",
    "    droughts.append(event_array)"
   ]
  },
  {
   "cell_type": "code",
   "execution_count": 128,
   "metadata": {},
   "outputs": [
    {
     "data": {
      "text/plain": [
       "[array([4., 6., 0., 0.]),\n",
       " array([0., 0., 2., 2.]),\n",
       " array([0., 0., 2., 0.]),\n",
       " array([0., 0., 0., 7.])]"
      ]
     },
     "execution_count": 128,
     "metadata": {},
     "output_type": "execute_result"
    }
   ],
   "source": [
    "droughts"
   ]
  },
  {
   "cell_type": "code",
   "execution_count": 129,
   "metadata": {},
   "outputs": [
    {
     "data": {
      "text/plain": [
       "Text(0.5, 1.0, 'Evolution of Drought in Test')"
      ]
     },
     "execution_count": 129,
     "metadata": {},
     "output_type": "execute_result"
    },
    {
     "data": {
      "image/png": "[encoded data removed]",
      "text/plain": [
       "<Figure size 432x288 with 1 Axes>"
      ]
     },
     "metadata": {
      "needs_background": "light"
     },
     "output_type": "display_data"
    }
   ],
   "source": [
    "fig, ax = plt.subplots()\n",
    "\n",
    "ax.stackplot(\n",
    "    [0, 1, 2, 3], \n",
    "    *droughts,\n",
    "    alpha=0.5,\n",
    "    labels=unique_drought_id\n",
    " \n",
    ")\n",
    "\n",
    "ax.set_xlim(0,3)\n",
    "ax.legend(loc='upper left')\n",
    "\n",
    "ax.set_xlabel('Time')\n",
    "ax.set_ylabel('Area in drought event')\n",
    "ax.set_title('Evolution of Drought in Test')"
   ]
  },
  {
   "cell_type": "markdown",
   "metadata": {},
   "source": [
    "Woot"
   ]
  },
  {
   "cell_type": "markdown",
   "metadata": {},
   "source": [
    "LOVE IT. WE HAVE A FULL WORKFLOW!!!"
   ]
  },
  {
   "cell_type": "markdown",
   "metadata": {},
   "source": [
    "Let's wrap the dataframe creation and plotting into functions"
   ]
  },
  {
   "cell_type": "markdown",
   "metadata": {},
   "source": [
    "Then I'll need to do handling from the xarray data ... which actually shouldn't be too hard"
   ]
  },
  {
   "cell_type": "markdown",
   "metadata": {},
   "source": [
    "Hm. Since the dataframe creation is just concation ... let's go ahead and wrap that into pulling the data from xarray and running it through the circus"
   ]
  },
  {
   "cell_type": "code",
   "execution_count": 130,
   "metadata": {},
   "outputs": [
    {
     "data": {
      "text/html": [
       "<div><svg style=\"position: absolute; width: 0; height: 0; overflow: hidden\">\n",
       "<defs>\n",
       "<symbol id=\"icon-database\" viewBox=\"0 0 32 32\">\n",
       "<path d=\"M16 0c-8.837 0-16 2.239-16 5v4c0 2.761 7.163 5 16 5s16-2.239 16-5v-4c0-2.761-7.163-5-16-5z\"></path>\n",
       "<path d=\"M16 17c-8.837 0-16-2.239-16-5v6c0 2.761 7.163 5 16 5s16-2.239 16-5v-6c0 2.761-7.163 5-16 5z\"></path>\n",
       "<path d=\"M16 26c-8.837 0-16-2.239-16-5v6c0 2.761 7.163 5 16 5s16-2.239 16-5v-6c0 2.761-7.163 5-16 5z\"></path>\n",
       "</symbol>\n",
       "<symbol id=\"icon-file-text2\" viewBox=\"0 0 32 32\">\n",
       "<path d=\"M28.681 7.159c-0.694-0.947-1.662-2.053-2.724-3.116s-2.169-2.030-3.116-2.724c-1.612-1.182-2.393-1.319-2.841-1.319h-15.5c-1.378 0-2.5 1.121-2.5 2.5v27c0 1.378 1.122 2.5 2.5 2.5h23c1.378 0 2.5-1.122 2.5-2.5v-19.5c0-0.448-0.137-1.23-1.319-2.841zM24.543 5.457c0.959 0.959 1.712 1.825 2.268 2.543h-4.811v-4.811c0.718 0.556 1.584 1.309 2.543 2.268zM28 29.5c0 0.271-0.229 0.5-0.5 0.5h-23c-0.271 0-0.5-0.229-0.5-0.5v-27c0-0.271 0.229-0.5 0.5-0.5 0 0 15.499-0 15.5 0v7c0 0.552 0.448 1 1 1h7v19.5z\"></path>\n",
       "<path d=\"M23 26h-14c-0.552 0-1-0.448-1-1s0.448-1 1-1h14c0.552 0 1 0.448 1 1s-0.448 1-1 1z\"></path>\n",
       "<path d=\"M23 22h-14c-0.552 0-1-0.448-1-1s0.448-1 1-1h14c0.552 0 1 0.448 1 1s-0.448 1-1 1z\"></path>\n",
       "<path d=\"M23 18h-14c-0.552 0-1-0.448-1-1s0.448-1 1-1h14c0.552 0 1 0.448 1 1s-0.448 1-1 1z\"></path>\n",
       "</symbol>\n",
       "</defs>\n",
       "</svg>\n",
       "<style>/* CSS stylesheet for displaying xarray objects in jupyterlab.\n",
       " *\n",
       " */\n",
       "\n",
       ":root {\n",
       "  --xr-font-color0: var(--jp-content-font-color0, rgba(0, 0, 0, 1));\n",
       "  --xr-font-color2: var(--jp-content-font-color2, rgba(0, 0, 0, 0.54));\n",
       "  --xr-font-color3: var(--jp-content-font-color3, rgba(0, 0, 0, 0.38));\n",
       "  --xr-border-color: var(--jp-border-color2, #e0e0e0);\n",
       "  --xr-disabled-color: var(--jp-layout-color3, #bdbdbd);\n",
       "  --xr-background-color: var(--jp-layout-color0, white);\n",
       "  --xr-background-color-row-even: var(--jp-layout-color1, white);\n",
       "  --xr-background-color-row-odd: var(--jp-layout-color2, #eeeeee);\n",
       "}\n",
       "\n",
       "html[theme=dark],\n",
       "body.vscode-dark {\n",
       "  --xr-font-color0: rgba(255, 255, 255, 1);\n",
       "  --xr-font-color2: rgba(255, 255, 255, 0.54);\n",
       "  --xr-font-color3: rgba(255, 255, 255, 0.38);\n",
       "  --xr-border-color: #1F1F1F;\n",
       "  --xr-disabled-color: #515151;\n",
       "  --xr-background-color: #111111;\n",
       "  --xr-background-color-row-even: #111111;\n",
       "  --xr-background-color-row-odd: #313131;\n",
       "}\n",
       "\n",
       ".xr-wrap {\n",
       "  display: block !important;\n",
       "  min-width: 300px;\n",
       "  max-width: 700px;\n",
       "}\n",
       "\n",
       ".xr-text-repr-fallback {\n",
       "  /* fallback to plain text repr when CSS is not injected (untrusted notebook) */\n",
       "  display: none;\n",
       "}\n",
       "\n",
       ".xr-header {\n",
       "  padding-top: 6px;\n",
       "  padding-bottom: 6px;\n",
       "  margin-bottom: 4px;\n",
       "  border-bottom: solid 1px var(--xr-border-color);\n",
       "}\n",
       "\n",
       ".xr-header > div,\n",
       ".xr-header > ul {\n",
       "  display: inline;\n",
       "  margin-top: 0;\n",
       "  margin-bottom: 0;\n",
       "}\n",
       "\n",
       ".xr-obj-type,\n",
       ".xr-array-name {\n",
       "  margin-left: 2px;\n",
       "  margin-right: 10px;\n",
       "}\n",
       "\n",
       ".xr-obj-type {\n",
       "  color: var(--xr-font-color2);\n",
       "}\n",
       "\n",
       ".xr-sections {\n",
       "  padding-left: 0 !important;\n",
       "  display: grid;\n",
       "  grid-template-columns: 150px auto auto 1fr 20px 20px;\n",
       "}\n",
       "\n",
       ".xr-section-item {\n",
       "  display: contents;\n",
       "}\n",
       "\n",
       ".xr-section-item input {\n",
       "  display: none;\n",
       "}\n",
       "\n",
       ".xr-section-item input + label {\n",
       "  color: var(--xr-disabled-color);\n",
       "}\n",
       "\n",
       ".xr-section-item input:enabled + label {\n",
       "  cursor: pointer;\n",
       "  color: var(--xr-font-color2);\n",
       "}\n",
       "\n",
       ".xr-section-item input:enabled + label:hover {\n",
       "  color: var(--xr-font-color0);\n",
       "}\n",
       "\n",
       ".xr-section-summary {\n",
       "  grid-column: 1;\n",
       "  color: var(--xr-font-color2);\n",
       "  font-weight: 500;\n",
       "}\n",
       "\n",
       ".xr-section-summary > span {\n",
       "  display: inline-block;\n",
       "  padding-left: 0.5em;\n",
       "}\n",
       "\n",
       ".xr-section-summary-in:disabled + label {\n",
       "  color: var(--xr-font-color2);\n",
       "}\n",
       "\n",
       ".xr-section-summary-in + label:before {\n",
       "  display: inline-block;\n",
       "  content: '►';\n",
       "  font-size: 11px;\n",
       "  width: 15px;\n",
       "  text-align: center;\n",
       "}\n",
       "\n",
       ".xr-section-summary-in:disabled + label:before {\n",
       "  color: var(--xr-disabled-color);\n",
       "}\n",
       "\n",
       ".xr-section-summary-in:checked + label:before {\n",
       "  content: '▼';\n",
       "}\n",
       "\n",
       ".xr-section-summary-in:checked + label > span {\n",
       "  display: none;\n",
       "}\n",
       "\n",
       ".xr-section-summary,\n",
       ".xr-section-inline-details {\n",
       "  padding-top: 4px;\n",
       "  padding-bottom: 4px;\n",
       "}\n",
       "\n",
       ".xr-section-inline-details {\n",
       "  grid-column: 2 / -1;\n",
       "}\n",
       "\n",
       ".xr-section-details {\n",
       "  display: none;\n",
       "  grid-column: 1 / -1;\n",
       "  margin-bottom: 5px;\n",
       "}\n",
       "\n",
       ".xr-section-summary-in:checked ~ .xr-section-details {\n",
       "  display: contents;\n",
       "}\n",
       "\n",
       ".xr-array-wrap {\n",
       "  grid-column: 1 / -1;\n",
       "  display: grid;\n",
       "  grid-template-columns: 20px auto;\n",
       "}\n",
       "\n",
       ".xr-array-wrap > label {\n",
       "  grid-column: 1;\n",
       "  vertical-align: top;\n",
       "}\n",
       "\n",
       ".xr-preview {\n",
       "  color: var(--xr-font-color3);\n",
       "}\n",
       "\n",
       ".xr-array-preview,\n",
       ".xr-array-data {\n",
       "  padding: 0 5px !important;\n",
       "  grid-column: 2;\n",
       "}\n",
       "\n",
       ".xr-array-data,\n",
       ".xr-array-in:checked ~ .xr-array-preview {\n",
       "  display: none;\n",
       "}\n",
       "\n",
       ".xr-array-in:checked ~ .xr-array-data,\n",
       ".xr-array-preview {\n",
       "  display: inline-block;\n",
       "}\n",
       "\n",
       ".xr-dim-list {\n",
       "  display: inline-block !important;\n",
       "  list-style: none;\n",
       "  padding: 0 !important;\n",
       "  margin: 0;\n",
       "}\n",
       "\n",
       ".xr-dim-list li {\n",
       "  display: inline-block;\n",
       "  padding: 0;\n",
       "  margin: 0;\n",
       "}\n",
       "\n",
       ".xr-dim-list:before {\n",
       "  content: '(';\n",
       "}\n",
       "\n",
       ".xr-dim-list:after {\n",
       "  content: ')';\n",
       "}\n",
       "\n",
       ".xr-dim-list li:not(:last-child):after {\n",
       "  content: ',';\n",
       "  padding-right: 5px;\n",
       "}\n",
       "\n",
       ".xr-has-index {\n",
       "  font-weight: bold;\n",
       "}\n",
       "\n",
       ".xr-var-list,\n",
       ".xr-var-item {\n",
       "  display: contents;\n",
       "}\n",
       "\n",
       ".xr-var-item > div,\n",
       ".xr-var-item label,\n",
       ".xr-var-item > .xr-var-name span {\n",
       "  background-color: var(--xr-background-color-row-even);\n",
       "  margin-bottom: 0;\n",
       "}\n",
       "\n",
       ".xr-var-item > .xr-var-name:hover span {\n",
       "  padding-right: 5px;\n",
       "}\n",
       "\n",
       ".xr-var-list > li:nth-child(odd) > div,\n",
       ".xr-var-list > li:nth-child(odd) > label,\n",
       ".xr-var-list > li:nth-child(odd) > .xr-var-name span {\n",
       "  background-color: var(--xr-background-color-row-odd);\n",
       "}\n",
       "\n",
       ".xr-var-name {\n",
       "  grid-column: 1;\n",
       "}\n",
       "\n",
       ".xr-var-dims {\n",
       "  grid-column: 2;\n",
       "}\n",
       "\n",
       ".xr-var-dtype {\n",
       "  grid-column: 3;\n",
       "  text-align: right;\n",
       "  color: var(--xr-font-color2);\n",
       "}\n",
       "\n",
       ".xr-var-preview {\n",
       "  grid-column: 4;\n",
       "}\n",
       "\n",
       ".xr-var-name,\n",
       ".xr-var-dims,\n",
       ".xr-var-dtype,\n",
       ".xr-preview,\n",
       ".xr-attrs dt {\n",
       "  white-space: nowrap;\n",
       "  overflow: hidden;\n",
       "  text-overflow: ellipsis;\n",
       "  padding-right: 10px;\n",
       "}\n",
       "\n",
       ".xr-var-name:hover,\n",
       ".xr-var-dims:hover,\n",
       ".xr-var-dtype:hover,\n",
       ".xr-attrs dt:hover {\n",
       "  overflow: visible;\n",
       "  width: auto;\n",
       "  z-index: 1;\n",
       "}\n",
       "\n",
       ".xr-var-attrs,\n",
       ".xr-var-data {\n",
       "  display: none;\n",
       "  background-color: var(--xr-background-color) !important;\n",
       "  padding-bottom: 5px !important;\n",
       "}\n",
       "\n",
       ".xr-var-attrs-in:checked ~ .xr-var-attrs,\n",
       ".xr-var-data-in:checked ~ .xr-var-data {\n",
       "  display: block;\n",
       "}\n",
       "\n",
       ".xr-var-data > table {\n",
       "  float: right;\n",
       "}\n",
       "\n",
       ".xr-var-name span,\n",
       ".xr-var-data,\n",
       ".xr-attrs {\n",
       "  padding-left: 25px !important;\n",
       "}\n",
       "\n",
       ".xr-attrs,\n",
       ".xr-var-attrs,\n",
       ".xr-var-data {\n",
       "  grid-column: 1 / -1;\n",
       "}\n",
       "\n",
       "dl.xr-attrs {\n",
       "  padding: 0;\n",
       "  margin: 0;\n",
       "  display: grid;\n",
       "  grid-template-columns: 125px auto;\n",
       "}\n",
       "\n",
       ".xr-attrs dt,\n",
       ".xr-attrs dd {\n",
       "  padding: 0;\n",
       "  margin: 0;\n",
       "  float: left;\n",
       "  padding-right: 10px;\n",
       "  width: auto;\n",
       "}\n",
       "\n",
       ".xr-attrs dt {\n",
       "  font-weight: normal;\n",
       "  grid-column: 1;\n",
       "}\n",
       "\n",
       ".xr-attrs dt:hover span {\n",
       "  display: inline-block;\n",
       "  background: var(--xr-background-color);\n",
       "  padding-right: 10px;\n",
       "}\n",
       "\n",
       ".xr-attrs dd {\n",
       "  grid-column: 2;\n",
       "  white-space: pre-wrap;\n",
       "  word-break: break-all;\n",
       "}\n",
       "\n",
       ".xr-icon-database,\n",
       ".xr-icon-file-text2 {\n",
       "  display: inline-block;\n",
       "  vertical-align: middle;\n",
       "  width: 1em;\n",
       "  height: 1.5em !important;\n",
       "  stroke-width: 0;\n",
       "  stroke: currentColor;\n",
       "  fill: currentColor;\n",
       "}\n",
       "</style><pre class='xr-text-repr-fallback'>&lt;xarray.Dataset&gt;\n",
       "Dimensions:      (lat: 84, lon: 188, index: 1148)\n",
       "Coordinates:\n",
       "  * lat          (lat) float64 48.98 48.94 48.9 48.86 ... 45.61 45.57 45.53\n",
       "  * lon          (lon) float64 -124.7 -124.7 -124.6 ... -117.0 -117.0 -116.9\n",
       "  * index        (index) int64 0 1 2 3 4 5 6 ... 1142 1143 1144 1145 1146 1147\n",
       "Data variables:\n",
       "    spatial_ref  int64 0\n",
       "    USDM         (index, lat, lon) float64 ...\n",
       "    USDM Date    (index) datetime64[ns] 2000-01-04 2000-01-11 ... 2021-12-28\n",
       "    spi_1y       (index, lat, lon) float32 ...\n",
       "    spi_2y       (index, lat, lon) float32 ...\n",
       "    spi_5y       (index, lat, lon) float32 ...\n",
       "    spi_14d      (index, lat, lon) float32 ...\n",
       "    spi_30d      (index, lat, lon) float32 ...\n",
       "    spi_90d      (index, lat, lon) float32 ...\n",
       "    spi_180d     (index, lat, lon) float32 ...\n",
       "    spi_270d     (index, lat, lon) float32 ...\n",
       "    SPI Date     (index) datetime64[ns] 1999-12-31 2000-01-10 ... 2021-12-26\n",
       "Attributes:\n",
       "    author:       a. stein 6/8/2022\n",
       "    description:  USDM and SPI matched to USDM data cutoff dates, as describe...\n",
       "    USDM Date:    this contains the original dates for USDM\n",
       "    SPI Date:     this contains the original dates for SPI</pre><div class='xr-wrap' style='display:none'><div class='xr-header'><div class='xr-obj-type'>xarray.Dataset</div></div><ul class='xr-sections'><li class='xr-section-item'><input id='section-a13a0a57-f2e8-4b74-9e09-22b53326f3e7' class='xr-section-summary-in' type='checkbox' disabled ><label for='section-a13a0a57-f2e8-4b74-9e09-22b53326f3e7' class='xr-section-summary'  title='Expand/collapse section'>Dimensions:</label><div class='xr-section-inline-details'><ul class='xr-dim-list'><li><span class='xr-has-index'>lat</span>: 84</li><li><span class='xr-has-index'>lon</span>: 188</li><li><span class='xr-has-index'>index</span>: 1148</li></ul></div><div class='xr-section-details'></div></li><li class='xr-section-item'><input id='section-1c3a4b5c-d4ca-4903-b91e-58238e2b57b1' class='xr-section-summary-in' type='checkbox'  checked><label for='section-1c3a4b5c-d4ca-4903-b91e-58238e2b57b1' class='xr-section-summary' >Coordinates: <span>(3)</span></label><div class='xr-section-inline-details'></div><div class='xr-section-details'><ul class='xr-var-list'><li class='xr-var-item'><div class='xr-var-name'><span class='xr-has-index'>lat</span></div><div class='xr-var-dims'>(lat)</div><div class='xr-var-dtype'>float64</div><div class='xr-var-preview xr-preview'>48.98 48.94 48.9 ... 45.57 45.53</div><input id='attrs-5caba0bf-bc1d-42a5-82d7-540bea147f85' class='xr-var-attrs-in' type='checkbox' disabled><label for='attrs-5caba0bf-bc1d-42a5-82d7-540bea147f85' title='Show/Hide attributes'><svg class='icon xr-icon-file-text2'><use xlink:href='#icon-file-text2'></use></svg></label><input id='data-075db521-959d-4a06-af14-8ed435cfc60d' class='xr-var-data-in' type='checkbox'><label for='data-075db521-959d-4a06-af14-8ed435cfc60d' title='Show/Hide data repr'><svg class='icon xr-icon-database'><use xlink:href='#icon-database'></use></svg></label><div class='xr-var-attrs'><dl class='xr-attrs'></dl></div><div class='xr-var-data'><pre>array([48.983333, 48.941667, 48.9     , 48.858333, 48.816667, 48.775   ,\n",
       "       48.733333, 48.691667, 48.65    , 48.608333, 48.566667, 48.525   ,\n",
       "       48.483333, 48.441667, 48.4     , 48.358333, 48.316667, 48.275   ,\n",
       "       48.233333, 48.191667, 48.15    , 48.108333, 48.066667, 48.025   ,\n",
       "       47.983333, 47.941667, 47.9     , 47.858333, 47.816667, 47.775   ,\n",
       "       47.733333, 47.691667, 47.65    , 47.608333, 47.566667, 47.525   ,\n",
       "       47.483333, 47.441667, 47.4     , 47.358333, 47.316667, 47.275   ,\n",
       "       47.233333, 47.191667, 47.15    , 47.108333, 47.066667, 47.025   ,\n",
       "       46.983333, 46.941667, 46.9     , 46.858333, 46.816667, 46.775   ,\n",
       "       46.733333, 46.691667, 46.65    , 46.608333, 46.566667, 46.525   ,\n",
       "       46.483333, 46.441667, 46.4     , 46.358333, 46.316667, 46.275   ,\n",
       "       46.233333, 46.191667, 46.15    , 46.108333, 46.066667, 46.025   ,\n",
       "       45.983333, 45.941667, 45.9     , 45.858333, 45.816667, 45.775   ,\n",
       "       45.733333, 45.691667, 45.65    , 45.608333, 45.566667, 45.525   ])</pre></div></li><li class='xr-var-item'><div class='xr-var-name'><span class='xr-has-index'>lon</span></div><div class='xr-var-dims'>(lon)</div><div class='xr-var-dtype'>float64</div><div class='xr-var-preview xr-preview'>-124.7 -124.7 ... -117.0 -116.9</div><input id='attrs-44e97ec8-b77d-429d-bcfc-5829de4365cb' class='xr-var-attrs-in' type='checkbox' disabled><label for='attrs-44e97ec8-b77d-429d-bcfc-5829de4365cb' title='Show/Hide attributes'><svg class='icon xr-icon-file-text2'><use xlink:href='#icon-file-text2'></use></svg></label><input id='data-3c2cfaaa-fbc1-4a19-82d5-2dd1fd7fd235' class='xr-var-data-in' type='checkbox'><label for='data-3c2cfaaa-fbc1-4a19-82d5-2dd1fd7fd235' title='Show/Hide data repr'><svg class='icon xr-icon-database'><use xlink:href='#icon-database'></use></svg></label><div class='xr-var-attrs'><dl class='xr-attrs'></dl></div><div class='xr-var-data'><pre>array([-124.725   , -124.683333, -124.641667, -124.6     , -124.558333,\n",
       "       -124.516667, -124.475   , -124.433333, -124.391667, -124.35    ,\n",
       "       -124.308333, -124.266667, -124.225   , -124.183333, -124.141667,\n",
       "       -124.1     , -124.058333, -124.016667, -123.975   , -123.933333,\n",
       "       -123.891667, -123.85    , -123.808333, -123.766667, -123.725   ,\n",
       "       -123.683333, -123.641667, -123.6     , -123.558333, -123.516667,\n",
       "       -123.475   , -123.433333, -123.391667, -123.35    , -123.308333,\n",
       "       -123.266667, -123.225   , -123.183333, -123.141667, -123.1     ,\n",
       "       -123.058333, -123.016667, -122.975   , -122.933333, -122.891667,\n",
       "       -122.85    , -122.808333, -122.766667, -122.725   , -122.683333,\n",
       "       -122.641667, -122.6     , -122.558333, -122.516667, -122.475   ,\n",
       "       -122.433333, -122.391667, -122.35    , -122.308333, -122.266667,\n",
       "       -122.225   , -122.183333, -122.141667, -122.1     , -122.058333,\n",
       "       -122.016667, -121.975   , -121.933333, -121.891667, -121.85    ,\n",
       "       -121.808333, -121.766667, -121.725   , -121.683333, -121.641667,\n",
       "       -121.6     , -121.558333, -121.516667, -121.475   , -121.433333,\n",
       "       -121.391667, -121.35    , -121.308333, -121.266667, -121.225   ,\n",
       "       -121.183333, -121.141667, -121.1     , -121.058333, -121.016667,\n",
       "       -120.975   , -120.933333, -120.891667, -120.85    , -120.808333,\n",
       "       -120.766667, -120.725   , -120.683333, -120.641667, -120.6     ,\n",
       "       -120.558333, -120.516667, -120.475   , -120.433333, -120.391667,\n",
       "       -120.35    , -120.308333, -120.266667, -120.225   , -120.183333,\n",
       "       -120.141667, -120.1     , -120.058333, -120.016667, -119.975   ,\n",
       "       -119.933333, -119.891667, -119.85    , -119.808333, -119.766667,\n",
       "       -119.725   , -119.683333, -119.641667, -119.6     , -119.558333,\n",
       "       -119.516667, -119.475   , -119.433333, -119.391667, -119.35    ,\n",
       "       -119.308333, -119.266667, -119.225   , -119.183333, -119.141667,\n",
       "       -119.1     , -119.058333, -119.016667, -118.975   , -118.933333,\n",
       "       -118.891667, -118.85    , -118.808333, -118.766667, -118.725   ,\n",
       "       -118.683333, -118.641667, -118.6     , -118.558333, -118.516667,\n",
       "       -118.475   , -118.433333, -118.391667, -118.35    , -118.308333,\n",
       "       -118.266667, -118.225   , -118.183333, -118.141667, -118.1     ,\n",
       "       -118.058333, -118.016667, -117.975   , -117.933333, -117.891667,\n",
       "       -117.85    , -117.808333, -117.766667, -117.725   , -117.683333,\n",
       "       -117.641667, -117.6     , -117.558333, -117.516667, -117.475   ,\n",
       "       -117.433333, -117.391667, -117.35    , -117.308333, -117.266667,\n",
       "       -117.225   , -117.183333, -117.141667, -117.1     , -117.058333,\n",
       "       -117.016667, -116.975   , -116.933333])</pre></div></li><li class='xr-var-item'><div class='xr-var-name'><span class='xr-has-index'>index</span></div><div class='xr-var-dims'>(index)</div><div class='xr-var-dtype'>int64</div><div class='xr-var-preview xr-preview'>0 1 2 3 4 ... 1144 1145 1146 1147</div><input id='attrs-63dd36c4-742a-49a3-94b5-a5346ea5d25c' class='xr-var-attrs-in' type='checkbox' disabled><label for='attrs-63dd36c4-742a-49a3-94b5-a5346ea5d25c' title='Show/Hide attributes'><svg class='icon xr-icon-file-text2'><use xlink:href='#icon-file-text2'></use></svg></label><input id='data-ff34e579-a9ae-4d8d-b128-fae0cad26b13' class='xr-var-data-in' type='checkbox'><label for='data-ff34e579-a9ae-4d8d-b128-fae0cad26b13' title='Show/Hide data repr'><svg class='icon xr-icon-database'><use xlink:href='#icon-database'></use></svg></label><div class='xr-var-attrs'><dl class='xr-attrs'></dl></div><div class='xr-var-data'><pre>array([   0,    1,    2, ..., 1145, 1146, 1147])</pre></div></li></ul></div></li><li class='xr-section-item'><input id='section-69e9a5ac-0914-449d-bf4a-99a1b18e41ce' class='xr-section-summary-in' type='checkbox'  checked><label for='section-69e9a5ac-0914-449d-bf4a-99a1b18e41ce' class='xr-section-summary' >Data variables: <span>(12)</span></label><div class='xr-section-inline-details'></div><div class='xr-section-details'><ul class='xr-var-list'><li class='xr-var-item'><div class='xr-var-name'><span>spatial_ref</span></div><div class='xr-var-dims'>()</div><div class='xr-var-dtype'>int64</div><div class='xr-var-preview xr-preview'>0</div><input id='attrs-5f5c900e-12c9-48af-ab28-37f5ef5d9b70' class='xr-var-attrs-in' type='checkbox' ><label for='attrs-5f5c900e-12c9-48af-ab28-37f5ef5d9b70' title='Show/Hide attributes'><svg class='icon xr-icon-file-text2'><use xlink:href='#icon-file-text2'></use></svg></label><input id='data-b759bb2a-6a9c-48d5-82c2-e9d82edef274' class='xr-var-data-in' type='checkbox'><label for='data-b759bb2a-6a9c-48d5-82c2-e9d82edef274' title='Show/Hide data repr'><svg class='icon xr-icon-database'><use xlink:href='#icon-database'></use></svg></label><div class='xr-var-attrs'><dl class='xr-attrs'><dt><span>crs_wkt :</span></dt><dd>GEOGCS[&quot;WGS 84&quot;,DATUM[&quot;WGS_1984&quot;,SPHEROID[&quot;WGS 84&quot;,6378137,298.257223563,AUTHORITY[&quot;EPSG&quot;,&quot;7030&quot;]],AUTHORITY[&quot;EPSG&quot;,&quot;6326&quot;]],PRIMEM[&quot;Greenwich&quot;,0,AUTHORITY[&quot;EPSG&quot;,&quot;8901&quot;]],UNIT[&quot;degree&quot;,0.0174532925199433,AUTHORITY[&quot;EPSG&quot;,&quot;9122&quot;]],AXIS[&quot;Latitude&quot;,NORTH],AXIS[&quot;Longitude&quot;,EAST],AUTHORITY[&quot;EPSG&quot;,&quot;4326&quot;]]</dd><dt><span>semi_major_axis :</span></dt><dd>6378137.0</dd><dt><span>semi_minor_axis :</span></dt><dd>6356752.314245179</dd><dt><span>inverse_flattening :</span></dt><dd>298.257223563</dd><dt><span>reference_ellipsoid_name :</span></dt><dd>WGS 84</dd><dt><span>longitude_of_prime_meridian :</span></dt><dd>0.0</dd><dt><span>prime_meridian_name :</span></dt><dd>Greenwich</dd><dt><span>geographic_crs_name :</span></dt><dd>WGS 84</dd><dt><span>grid_mapping_name :</span></dt><dd>latitude_longitude</dd><dt><span>spatial_ref :</span></dt><dd>GEOGCS[&quot;WGS 84&quot;,DATUM[&quot;WGS_1984&quot;,SPHEROID[&quot;WGS 84&quot;,6378137,298.257223563,AUTHORITY[&quot;EPSG&quot;,&quot;7030&quot;]],AUTHORITY[&quot;EPSG&quot;,&quot;6326&quot;]],PRIMEM[&quot;Greenwich&quot;,0,AUTHORITY[&quot;EPSG&quot;,&quot;8901&quot;]],UNIT[&quot;degree&quot;,0.0174532925199433,AUTHORITY[&quot;EPSG&quot;,&quot;9122&quot;]],AXIS[&quot;Latitude&quot;,NORTH],AXIS[&quot;Longitude&quot;,EAST],AUTHORITY[&quot;EPSG&quot;,&quot;4326&quot;]]</dd><dt><span>GeoTransform :</span></dt><dd>-124.7458333 0.041666666666666616 0.0 49.00416666666667 0.0 -0.04166666666666661</dd></dl></div><div class='xr-var-data'><pre>array(0)</pre></div></li><li class='xr-var-item'><div class='xr-var-name'><span>USDM</span></div><div class='xr-var-dims'>(index, lat, lon)</div><div class='xr-var-dtype'>float64</div><div class='xr-var-preview xr-preview'>...</div><input id='attrs-2e059896-4647-487a-a1f8-85209bfbaeb4' class='xr-var-attrs-in' type='checkbox' ><label for='attrs-2e059896-4647-487a-a1f8-85209bfbaeb4' title='Show/Hide attributes'><svg class='icon xr-icon-file-text2'><use xlink:href='#icon-file-text2'></use></svg></label><input id='data-ccc831ad-b101-432c-bdaf-fd5edf9ac0d4' class='xr-var-data-in' type='checkbox'><label for='data-ccc831ad-b101-432c-bdaf-fd5edf9ac0d4' title='Show/Hide data repr'><svg class='icon xr-icon-database'><use xlink:href='#icon-database'></use></svg></label><div class='xr-var-attrs'><dl class='xr-attrs'><dt><span>crs_wkt :</span></dt><dd>GEOGCS[&quot;WGS 84&quot;,DATUM[&quot;WGS_1984&quot;,SPHEROID[&quot;WGS 84&quot;,6378137,298.257223563,AUTHORITY[&quot;EPSG&quot;,&quot;7030&quot;]],AUTHORITY[&quot;EPSG&quot;,&quot;6326&quot;]],PRIMEM[&quot;Greenwich&quot;,0,AUTHORITY[&quot;EPSG&quot;,&quot;8901&quot;]],UNIT[&quot;degree&quot;,0.0174532925199433,AUTHORITY[&quot;EPSG&quot;,&quot;9122&quot;]],AXIS[&quot;Latitude&quot;,NORTH],AXIS[&quot;Longitude&quot;,EAST],AUTHORITY[&quot;EPSG&quot;,&quot;4326&quot;]]</dd><dt><span>semi_major_axis :</span></dt><dd>6378137.0</dd><dt><span>semi_minor_axis :</span></dt><dd>6356752.314245179</dd><dt><span>inverse_flattening :</span></dt><dd>298.257223563</dd><dt><span>reference_ellipsoid_name :</span></dt><dd>WGS 84</dd><dt><span>longitude_of_prime_meridian :</span></dt><dd>0.0</dd><dt><span>prime_meridian_name :</span></dt><dd>Greenwich</dd><dt><span>geographic_crs_name :</span></dt><dd>WGS 84</dd><dt><span>grid_mapping_name :</span></dt><dd>latitude_longitude</dd><dt><span>spatial_ref :</span></dt><dd>GEOGCS[&quot;WGS 84&quot;,DATUM[&quot;WGS_1984&quot;,SPHEROID[&quot;WGS 84&quot;,6378137,298.257223563,AUTHORITY[&quot;EPSG&quot;,&quot;7030&quot;]],AUTHORITY[&quot;EPSG&quot;,&quot;6326&quot;]],PRIMEM[&quot;Greenwich&quot;,0,AUTHORITY[&quot;EPSG&quot;,&quot;8901&quot;]],UNIT[&quot;degree&quot;,0.0174532925199433,AUTHORITY[&quot;EPSG&quot;,&quot;9122&quot;]],AXIS[&quot;Latitude&quot;,NORTH],AXIS[&quot;Longitude&quot;,EAST],AUTHORITY[&quot;EPSG&quot;,&quot;4326&quot;]]</dd><dt><span>GeoTransform :</span></dt><dd>-124.74590760646159 0.024999999999999963 0.0 49.01054810699192 0.0 -0.02499999999999997</dd><dt><span>grid_mapping :</span></dt><dd>spatial_ref</dd></dl></div><div class='xr-var-data'><pre>[18129216 values with dtype=float64]</pre></div></li><li class='xr-var-item'><div class='xr-var-name'><span>USDM Date</span></div><div class='xr-var-dims'>(index)</div><div class='xr-var-dtype'>datetime64[ns]</div><div class='xr-var-preview xr-preview'>2000-01-04 ... 2021-12-28</div><input id='attrs-c69f7577-8b82-40d0-9477-b6155c044969' class='xr-var-attrs-in' type='checkbox' disabled><label for='attrs-c69f7577-8b82-40d0-9477-b6155c044969' title='Show/Hide attributes'><svg class='icon xr-icon-file-text2'><use xlink:href='#icon-file-text2'></use></svg></label><input id='data-9a37fcbe-ef8d-464d-b9ec-effdde53923f' class='xr-var-data-in' type='checkbox'><label for='data-9a37fcbe-ef8d-464d-b9ec-effdde53923f' title='Show/Hide data repr'><svg class='icon xr-icon-database'><use xlink:href='#icon-database'></use></svg></label><div class='xr-var-attrs'><dl class='xr-attrs'></dl></div><div class='xr-var-data'><pre>array([&#x27;2000-01-04T00:00:00.000000000&#x27;, &#x27;2000-01-11T00:00:00.000000000&#x27;,\n",
       "       &#x27;2000-01-18T00:00:00.000000000&#x27;, ..., &#x27;2021-12-14T00:00:00.000000000&#x27;,\n",
       "       &#x27;2021-12-21T00:00:00.000000000&#x27;, &#x27;2021-12-28T00:00:00.000000000&#x27;],\n",
       "      dtype=&#x27;datetime64[ns]&#x27;)</pre></div></li><li class='xr-var-item'><div class='xr-var-name'><span>spi_1y</span></div><div class='xr-var-dims'>(index, lat, lon)</div><div class='xr-var-dtype'>float32</div><div class='xr-var-preview xr-preview'>...</div><input id='attrs-242ace6e-4714-49ea-83b2-9720891dddff' class='xr-var-attrs-in' type='checkbox' disabled><label for='attrs-242ace6e-4714-49ea-83b2-9720891dddff' title='Show/Hide attributes'><svg class='icon xr-icon-file-text2'><use xlink:href='#icon-file-text2'></use></svg></label><input id='data-2bdd98a5-be31-4dbc-b6ab-a1117aacb744' class='xr-var-data-in' type='checkbox'><label for='data-2bdd98a5-be31-4dbc-b6ab-a1117aacb744' title='Show/Hide data repr'><svg class='icon xr-icon-database'><use xlink:href='#icon-database'></use></svg></label><div class='xr-var-attrs'><dl class='xr-attrs'></dl></div><div class='xr-var-data'><pre>[18129216 values with dtype=float32]</pre></div></li><li class='xr-var-item'><div class='xr-var-name'><span>spi_2y</span></div><div class='xr-var-dims'>(index, lat, lon)</div><div class='xr-var-dtype'>float32</div><div class='xr-var-preview xr-preview'>...</div><input id='attrs-a0d2f5c5-cd0f-4aac-82bb-63cbb9d7350a' class='xr-var-attrs-in' type='checkbox' disabled><label for='attrs-a0d2f5c5-cd0f-4aac-82bb-63cbb9d7350a' title='Show/Hide attributes'><svg class='icon xr-icon-file-text2'><use xlink:href='#icon-file-text2'></use></svg></label><input id='data-dd595b1e-ede2-4c26-ad27-9edc94116118' class='xr-var-data-in' type='checkbox'><label for='data-dd595b1e-ede2-4c26-ad27-9edc94116118' title='Show/Hide data repr'><svg class='icon xr-icon-database'><use xlink:href='#icon-database'></use></svg></label><div class='xr-var-attrs'><dl class='xr-attrs'></dl></div><div class='xr-var-data'><pre>[18129216 values with dtype=float32]</pre></div></li><li class='xr-var-item'><div class='xr-var-name'><span>spi_5y</span></div><div class='xr-var-dims'>(index, lat, lon)</div><div class='xr-var-dtype'>float32</div><div class='xr-var-preview xr-preview'>...</div><input id='attrs-9d93cc29-68ef-4f57-b7b9-4d588deca1a3' class='xr-var-attrs-in' type='checkbox' disabled><label for='attrs-9d93cc29-68ef-4f57-b7b9-4d588deca1a3' title='Show/Hide attributes'><svg class='icon xr-icon-file-text2'><use xlink:href='#icon-file-text2'></use></svg></label><input id='data-aa33dccd-879a-4b80-916e-9591c235cafb' class='xr-var-data-in' type='checkbox'><label for='data-aa33dccd-879a-4b80-916e-9591c235cafb' title='Show/Hide data repr'><svg class='icon xr-icon-database'><use xlink:href='#icon-database'></use></svg></label><div class='xr-var-attrs'><dl class='xr-attrs'></dl></div><div class='xr-var-data'><pre>[18129216 values with dtype=float32]</pre></div></li><li class='xr-var-item'><div class='xr-var-name'><span>spi_14d</span></div><div class='xr-var-dims'>(index, lat, lon)</div><div class='xr-var-dtype'>float32</div><div class='xr-var-preview xr-preview'>...</div><input id='attrs-d1cbeedf-5672-40da-8b09-75841414f136' class='xr-var-attrs-in' type='checkbox' disabled><label for='attrs-d1cbeedf-5672-40da-8b09-75841414f136' title='Show/Hide attributes'><svg class='icon xr-icon-file-text2'><use xlink:href='#icon-file-text2'></use></svg></label><input id='data-874d80b7-f436-4cd6-ba1b-696d2e7ba0df' class='xr-var-data-in' type='checkbox'><label for='data-874d80b7-f436-4cd6-ba1b-696d2e7ba0df' title='Show/Hide data repr'><svg class='icon xr-icon-database'><use xlink:href='#icon-database'></use></svg></label><div class='xr-var-attrs'><dl class='xr-attrs'></dl></div><div class='xr-var-data'><pre>[18129216 values with dtype=float32]</pre></div></li><li class='xr-var-item'><div class='xr-var-name'><span>spi_30d</span></div><div class='xr-var-dims'>(index, lat, lon)</div><div class='xr-var-dtype'>float32</div><div class='xr-var-preview xr-preview'>...</div><input id='attrs-e42746d4-d006-4452-b582-423f125c031c' class='xr-var-attrs-in' type='checkbox' disabled><label for='attrs-e42746d4-d006-4452-b582-423f125c031c' title='Show/Hide attributes'><svg class='icon xr-icon-file-text2'><use xlink:href='#icon-file-text2'></use></svg></label><input id='data-4eb3237b-df11-4ac9-befa-65759a4badcb' class='xr-var-data-in' type='checkbox'><label for='data-4eb3237b-df11-4ac9-befa-65759a4badcb' title='Show/Hide data repr'><svg class='icon xr-icon-database'><use xlink:href='#icon-database'></use></svg></label><div class='xr-var-attrs'><dl class='xr-attrs'></dl></div><div class='xr-var-data'><pre>[18129216 values with dtype=float32]</pre></div></li><li class='xr-var-item'><div class='xr-var-name'><span>spi_90d</span></div><div class='xr-var-dims'>(index, lat, lon)</div><div class='xr-var-dtype'>float32</div><div class='xr-var-preview xr-preview'>...</div><input id='attrs-b60bdddf-67d8-4f66-911d-ea0924d3052e' class='xr-var-attrs-in' type='checkbox' disabled><label for='attrs-b60bdddf-67d8-4f66-911d-ea0924d3052e' title='Show/Hide attributes'><svg class='icon xr-icon-file-text2'><use xlink:href='#icon-file-text2'></use></svg></label><input id='data-cdc1cc6b-4679-48f1-8074-38ceabb7a754' class='xr-var-data-in' type='checkbox'><label for='data-cdc1cc6b-4679-48f1-8074-38ceabb7a754' title='Show/Hide data repr'><svg class='icon xr-icon-database'><use xlink:href='#icon-database'></use></svg></label><div class='xr-var-attrs'><dl class='xr-attrs'></dl></div><div class='xr-var-data'><pre>[18129216 values with dtype=float32]</pre></div></li><li class='xr-var-item'><div class='xr-var-name'><span>spi_180d</span></div><div class='xr-var-dims'>(index, lat, lon)</div><div class='xr-var-dtype'>float32</div><div class='xr-var-preview xr-preview'>...</div><input id='attrs-8518011f-a20f-4266-bbb7-9113469b50fb' class='xr-var-attrs-in' type='checkbox' disabled><label for='attrs-8518011f-a20f-4266-bbb7-9113469b50fb' title='Show/Hide attributes'><svg class='icon xr-icon-file-text2'><use xlink:href='#icon-file-text2'></use></svg></label><input id='data-d42fdd6a-b486-4cd4-87d3-a34fddb82ed3' class='xr-var-data-in' type='checkbox'><label for='data-d42fdd6a-b486-4cd4-87d3-a34fddb82ed3' title='Show/Hide data repr'><svg class='icon xr-icon-database'><use xlink:href='#icon-database'></use></svg></label><div class='xr-var-attrs'><dl class='xr-attrs'></dl></div><div class='xr-var-data'><pre>[18129216 values with dtype=float32]</pre></div></li><li class='xr-var-item'><div class='xr-var-name'><span>spi_270d</span></div><div class='xr-var-dims'>(index, lat, lon)</div><div class='xr-var-dtype'>float32</div><div class='xr-var-preview xr-preview'>...</div><input id='attrs-0b9e439f-b8dd-41e7-b3c9-b12cb4aa6b8f' class='xr-var-attrs-in' type='checkbox' disabled><label for='attrs-0b9e439f-b8dd-41e7-b3c9-b12cb4aa6b8f' title='Show/Hide attributes'><svg class='icon xr-icon-file-text2'><use xlink:href='#icon-file-text2'></use></svg></label><input id='data-d4ac8790-618d-4f10-bd45-0b891ae391ae' class='xr-var-data-in' type='checkbox'><label for='data-d4ac8790-618d-4f10-bd45-0b891ae391ae' title='Show/Hide data repr'><svg class='icon xr-icon-database'><use xlink:href='#icon-database'></use></svg></label><div class='xr-var-attrs'><dl class='xr-attrs'></dl></div><div class='xr-var-data'><pre>[18129216 values with dtype=float32]</pre></div></li><li class='xr-var-item'><div class='xr-var-name'><span>SPI Date</span></div><div class='xr-var-dims'>(index)</div><div class='xr-var-dtype'>datetime64[ns]</div><div class='xr-var-preview xr-preview'>1999-12-31 ... 2021-12-26</div><input id='attrs-0caebc3e-9db6-4d55-9a73-a0a7a090a98e' class='xr-var-attrs-in' type='checkbox' disabled><label for='attrs-0caebc3e-9db6-4d55-9a73-a0a7a090a98e' title='Show/Hide attributes'><svg class='icon xr-icon-file-text2'><use xlink:href='#icon-file-text2'></use></svg></label><input id='data-b47e3fc3-e9f0-47c5-9ac5-dc6a9bbb6f78' class='xr-var-data-in' type='checkbox'><label for='data-b47e3fc3-e9f0-47c5-9ac5-dc6a9bbb6f78' title='Show/Hide data repr'><svg class='icon xr-icon-database'><use xlink:href='#icon-database'></use></svg></label><div class='xr-var-attrs'><dl class='xr-attrs'></dl></div><div class='xr-var-data'><pre>array([&#x27;1999-12-31T00:00:00.000000000&#x27;, &#x27;2000-01-10T00:00:00.000000000&#x27;,\n",
       "       &#x27;2000-01-15T00:00:00.000000000&#x27;, ..., &#x27;2021-12-11T00:00:00.000000000&#x27;,\n",
       "       &#x27;2021-12-21T00:00:00.000000000&#x27;, &#x27;2021-12-26T00:00:00.000000000&#x27;],\n",
       "      dtype=&#x27;datetime64[ns]&#x27;)</pre></div></li></ul></div></li><li class='xr-section-item'><input id='section-d157fbd5-da66-41c8-92fe-d5217c57a2a1' class='xr-section-summary-in' type='checkbox'  checked><label for='section-d157fbd5-da66-41c8-92fe-d5217c57a2a1' class='xr-section-summary' >Attributes: <span>(4)</span></label><div class='xr-section-inline-details'></div><div class='xr-section-details'><dl class='xr-attrs'><dt><span>author :</span></dt><dd>a. stein 6/8/2022</dd><dt><span>description :</span></dt><dd>USDM and SPI matched to USDM data cutoff dates, as described by the index for Washington State. USDM has been upscaled to SPI resolution while SPI has been categorized according to the USDM drought categories.</dd><dt><span>USDM Date :</span></dt><dd>this contains the original dates for USDM</dd><dt><span>SPI Date :</span></dt><dd>this contains the original dates for SPI</dd></dl></div></li></ul></div></div>"
      ],
      "text/plain": [
       "<xarray.Dataset>\n",
       "Dimensions:      (lat: 84, lon: 188, index: 1148)\n",
       "Coordinates:\n",
       "  * lat          (lat) float64 48.98 48.94 48.9 48.86 ... 45.61 45.57 45.53\n",
       "  * lon          (lon) float64 -124.7 -124.7 -124.6 ... -117.0 -117.0 -116.9\n",
       "  * index        (index) int64 0 1 2 3 4 5 6 ... 1142 1143 1144 1145 1146 1147\n",
       "Data variables:\n",
       "    spatial_ref  int64 0\n",
       "    USDM         (index, lat, lon) float64 ...\n",
       "    USDM Date    (index) datetime64[ns] 2000-01-04 2000-01-11 ... 2021-12-28\n",
       "    spi_1y       (index, lat, lon) float32 ...\n",
       "    spi_2y       (index, lat, lon) float32 ...\n",
       "    spi_5y       (index, lat, lon) float32 ...\n",
       "    spi_14d      (index, lat, lon) float32 ...\n",
       "    spi_30d      (index, lat, lon) float32 ...\n",
       "    spi_90d      (index, lat, lon) float32 ...\n",
       "    spi_180d     (index, lat, lon) float32 ...\n",
       "    spi_270d     (index, lat, lon) float32 ...\n",
       "    SPI Date     (index) datetime64[ns] 1999-12-31 2000-01-10 ... 2021-12-26\n",
       "Attributes:\n",
       "    author:       a. stein 6/8/2022\n",
       "    description:  USDM and SPI matched to USDM data cutoff dates, as describe...\n",
       "    USDM Date:    this contains the original dates for USDM\n",
       "    SPI Date:     this contains the original dates for SPI"
      ]
     },
     "execution_count": 130,
     "metadata": {},
     "output_type": "execute_result"
    }
   ],
   "source": [
    "# want to remind myself the structure of this\n",
    "paired_ds"
   ]
  },
  {
   "cell_type": "code",
   "execution_count": 131,
   "metadata": {},
   "outputs": [
    {
     "data": {
      "text/plain": [
       "1148"
      ]
     },
     "execution_count": 131,
     "metadata": {},
     "output_type": "execute_result"
    }
   ],
   "source": [
    "paired_ds['USDM'].values.shape[0]"
   ]
  },
  {
   "cell_type": "code",
   "execution_count": 253,
   "metadata": {},
   "outputs": [],
   "source": [
    "def encode_drought_events(data:np.ndarray):\n",
    "    \"\"\"Detect and encode drought events.\n",
    "\n",
    "    Parameters\n",
    "    ----------\n",
    "    data: np.ndarray\n",
    "        Expecting first index to be temporal while second\n",
    "        and third are spatial.\n",
    "\n",
    "    Returns\n",
    "    -------\n",
    "    pd.DataFrame\n",
    "        A multi-indexed dataframe with time as the first level\n",
    "        and drought_id as the second level. 'area', 'convex_area',\n",
    "        and 'coords' are also outputted in this dataframe computed \n",
    "        from sci-kit image. Note that times that did not have a\n",
    "        drought will not appear in this dataframe.\n",
    "    \n",
    "    \"\"\"\n",
    "    blob_dfs = []\n",
    "\n",
    "    for i in tqdm(np.arange(data.shape[0]), desc='Identifying Blobs'):\n",
    "        blob_dfs.append(identify_drought_blob(data[i,:,:]))\n",
    "    \n",
    "\n",
    "    #return blob_dfs\n",
    "\n",
    "    new_blob_num = 1\n",
    "    init_df, new_blob_num = propagate_drought_id(df_2=blob_dfs[0])\n",
    "    init_df['time'] = 0\n",
    "    encoded_blob_dfs = [init_df]    \n",
    "    for i in tqdm(np.arange(len(blob_dfs)-1), desc='Encoding Blobs'):\n",
    "        df_1 = encoded_blob_dfs[i]\n",
    "        df_2 = blob_dfs[i+1]\n",
    "\n",
    "        blob_pairs = connect_blobs_over_time(df_1, df_2)\n",
    "        df_2_encoded, new_blob_num = propagate_drought_id(df_1, df_2, blob_pairs, new_blob_num)\n",
    "        df_2_encoded['time'] = i+1\n",
    "        encoded_blob_dfs.append(df_2_encoded)\n",
    "\n",
    "    all_blobs_df = pd.concat([df[['time', 'drought_id', 'area', 'convex_area', 'coords']] for df in encoded_blob_dfs], ignore_index=True)\n",
    "    all_blobs_df = all_blobs_df.set_index(['time', 'drought_id'])\n",
    "    all_blobs_df['drought_id'] = all_blobs_df.index.get_level_values(1)\n",
    "\n",
    "    return all_blobs_df"
   ]
  },
  {
   "cell_type": "code",
   "execution_count": 189,
   "metadata": {},
   "outputs": [
    {
     "data": {
      "application/vnd.jupyter.widget-view+json": {
       "model_id": "8e972654a8c4449cbe0fafe221de0686",
       "version_major": 2,
       "version_minor": 0
      },
      "text/plain": [
       "Identifying Blobs:   0%|          | 0/4 [00:00<?, ?it/s]"
      ]
     },
     "metadata": {},
     "output_type": "display_data"
    },
    {
     "name": "stderr",
     "output_type": "stream",
     "text": [
      "/pool0/data/steinadi/.conda/envs/sedi/lib/python3.7/site-packages/pandas/core/indexing.py:1732: SettingWithCopyWarning: \n",
      "A value is trying to be set on a copy of a slice from a DataFrame\n",
      "\n",
      "See the caveats in the documentation: https://pandas.pydata.org/pandas-docs/stable/user_guide/indexing.html#returning-a-view-versus-a-copy\n",
      "  self._setitem_single_block(indexer, value, name)\n"
     ]
    },
    {
     "data": {
      "application/vnd.jupyter.widget-view+json": {
       "model_id": "f6d7dbef2c1745f28c1c7fd58af504cf",
       "version_major": 2,
       "version_minor": 0
      },
      "text/plain": [
       "Encoding Blobs:   0%|          | 0/3 [00:00<?, ?it/s]"
      ]
     },
     "metadata": {},
     "output_type": "display_data"
    },
    {
     "data": {
      "text/html": [
       "<div>\n",
       "<style scoped>\n",
       "    .dataframe tbody tr th:only-of-type {\n",
       "        vertical-align: middle;\n",
       "    }\n",
       "\n",
       "    .dataframe tbody tr th {\n",
       "        vertical-align: top;\n",
       "    }\n",
       "\n",
       "    .dataframe thead th {\n",
       "        text-align: right;\n",
       "    }\n",
       "</style>\n",
       "<table border=\"1\" class=\"dataframe\">\n",
       "  <thead>\n",
       "    <tr style=\"text-align: right;\">\n",
       "      <th></th>\n",
       "      <th></th>\n",
       "      <th>area</th>\n",
       "      <th>convex_area</th>\n",
       "      <th>coords</th>\n",
       "      <th>drought_id</th>\n",
       "    </tr>\n",
       "    <tr>\n",
       "      <th>time</th>\n",
       "      <th>drought_id</th>\n",
       "      <th></th>\n",
       "      <th></th>\n",
       "      <th></th>\n",
       "      <th></th>\n",
       "    </tr>\n",
       "  </thead>\n",
       "  <tbody>\n",
       "    <tr>\n",
       "      <th>0</th>\n",
       "      <th>1</th>\n",
       "      <td>4</td>\n",
       "      <td>4</td>\n",
       "      <td>[[0, 0], [0, 1], [1, 0], [1, 1]]</td>\n",
       "      <td>1</td>\n",
       "    </tr>\n",
       "    <tr>\n",
       "      <th rowspan=\"2\" valign=\"top\">1</th>\n",
       "      <th>1</th>\n",
       "      <td>6</td>\n",
       "      <td>6</td>\n",
       "      <td>[[0, 0], [0, 1], [0, 2], [1, 0], [1, 1], [1, 2]]</td>\n",
       "      <td>1</td>\n",
       "    </tr>\n",
       "    <tr>\n",
       "      <th>2</th>\n",
       "      <td>3</td>\n",
       "      <td>3</td>\n",
       "      <td>[[3, 1], [3, 2], [3, 3]]</td>\n",
       "      <td>2</td>\n",
       "    </tr>\n",
       "    <tr>\n",
       "      <th rowspan=\"3\" valign=\"top\">2</th>\n",
       "      <th>1-1</th>\n",
       "      <td>2</td>\n",
       "      <td>2</td>\n",
       "      <td>[[0, 0], [1, 0]]</td>\n",
       "      <td>1-1</td>\n",
       "    </tr>\n",
       "    <tr>\n",
       "      <th>1-2</th>\n",
       "      <td>2</td>\n",
       "      <td>2</td>\n",
       "      <td>[[1, 2], [1, 3]]</td>\n",
       "      <td>1-2</td>\n",
       "    </tr>\n",
       "    <tr>\n",
       "      <th>2</th>\n",
       "      <td>3</td>\n",
       "      <td>3</td>\n",
       "      <td>[[3, 1], [3, 2], [3, 3]]</td>\n",
       "      <td>2</td>\n",
       "    </tr>\n",
       "    <tr>\n",
       "      <th rowspan=\"2\" valign=\"top\">3</th>\n",
       "      <th>1-1</th>\n",
       "      <td>2</td>\n",
       "      <td>2</td>\n",
       "      <td>[[0, 0], [1, 0]]</td>\n",
       "      <td>1-1</td>\n",
       "    </tr>\n",
       "    <tr>\n",
       "      <th>2.1-2</th>\n",
       "      <td>7</td>\n",
       "      <td>8</td>\n",
       "      <td>[[1, 2], [1, 3], [2, 2], [2, 3], [3, 1], [3, 2...</td>\n",
       "      <td>2.1-2</td>\n",
       "    </tr>\n",
       "  </tbody>\n",
       "</table>\n",
       "</div>"
      ],
      "text/plain": [
       "                 area  convex_area  \\\n",
       "time drought_id                      \n",
       "0    1              4            4   \n",
       "1    1              6            6   \n",
       "     2              3            3   \n",
       "2    1-1            2            2   \n",
       "     1-2            2            2   \n",
       "     2              3            3   \n",
       "3    1-1            2            2   \n",
       "     2.1-2          7            8   \n",
       "\n",
       "                                                            coords drought_id  \n",
       "time drought_id                                                                \n",
       "0    1                            [[0, 0], [0, 1], [1, 0], [1, 1]]          1  \n",
       "1    1            [[0, 0], [0, 1], [0, 2], [1, 0], [1, 1], [1, 2]]          1  \n",
       "     2                                    [[3, 1], [3, 2], [3, 3]]          2  \n",
       "2    1-1                                          [[0, 0], [1, 0]]        1-1  \n",
       "     1-2                                          [[1, 2], [1, 3]]        1-2  \n",
       "     2                                    [[3, 1], [3, 2], [3, 3]]          2  \n",
       "3    1-1                                          [[0, 0], [1, 0]]        1-1  \n",
       "     2.1-2       [[1, 2], [1, 3], [2, 2], [2, 3], [3, 1], [3, 2...      2.1-2  "
      ]
     },
     "execution_count": 189,
     "metadata": {},
     "output_type": "execute_result"
    }
   ],
   "source": [
    "t_all = np.array([t1, t2, t3, t4])\n",
    "\n",
    "test_output = encode_drought_events(t_all)\n",
    "test_output"
   ]
  },
  {
   "cell_type": "markdown",
   "metadata": {},
   "source": [
    "Success!"
   ]
  },
  {
   "cell_type": "markdown",
   "metadata": {},
   "source": [
    "Now for the plotting function"
   ]
  },
  {
   "cell_type": "code",
   "execution_count": 242,
   "metadata": {},
   "outputs": [],
   "source": [
    "def plot_drought_evolution(df:pd.DataFrame, event_id='', plot_var='area', ax=None, plot_legend=True):\n",
    "    \"\"\"Plots the evolution of droughts over time from blob detection.\n",
    "\n",
    "    Parameters\n",
    "    ----------\n",
    "    df : pd.DataFrame\n",
    "        Expected to be the output of encode_drought_events\n",
    "    event_id : str (optional)\n",
    "        The initial drought_id of the drought wishing to follow.\n",
    "        Defaults as '' to plot everything.\n",
    "    plot_var : str (optional)\n",
    "        Variable from df to plot, defaults as 'area' to plot pixel\n",
    "        area computed from blob detection.\n",
    "    ax (optional)\n",
    "        matplotlib axes object to plot on. one will be created\n",
    "        if not given.\n",
    "    plot_legend : boolean\n",
    "        Whether to plot the legend (which can sometimes be quite long).\n",
    "        Defaults as True to plot the legend\n",
    "    \"\"\"\n",
    "\n",
    "    assert(isinstance(event_id, str))\n",
    "\n",
    "    if ax is None:\n",
    "        __, ax = plt.subplots()\n",
    "\n",
    "    related_events_idx = [i for i, val in enumerate(df['drought_id']) if f'{event_id}' in val or f'.{event_id}' in val]\n",
    "    thread_df = df.iloc[related_events_idx]\n",
    "\n",
    "    # need to grab the last value since we aren't going to get a df to plot\n",
    "    # from times when there is no drought\n",
    "    times = np.arange(df.index.get_level_values(0)[-1]+1)\n",
    "    template = np.zeros(len(times))\n",
    "\n",
    "    unique_drought_id = sorted(set(thread_df['drought_id'].values))\n",
    "\n",
    "    droughts = []\n",
    "    for id in unique_drought_id:\n",
    "        event_df = thread_df[thread_df.drought_id == id]\n",
    "        event_array = template.copy()\n",
    "        event_times = event_df.index.get_level_values(0)\n",
    "\n",
    "        for time in event_times:\n",
    "            event_array[time] = event_df.loc[time][plot_var]\n",
    "        \n",
    "        droughts.append(event_array)\n",
    "\n",
    "    ax.stackplot(times, *droughts, labels=unique_drought_id)\n",
    "    ax.set_xlabel('Time')\n",
    "    ax.set_ylabel(f'{plot_var} in drought event')\n",
    "\n",
    "    if plot_legend:\n",
    "        ax.legend()\n",
    "\n",
    "    return ax"
   ]
  },
  {
   "cell_type": "code",
   "execution_count": 239,
   "metadata": {},
   "outputs": [
    {
     "data": {
      "text/plain": [
       "<AxesSubplot:xlabel='Time', ylabel='area in drought event'>"
      ]
     },
     "execution_count": 239,
     "metadata": {},
     "output_type": "execute_result"
    },
    {
     "data": {
      "image/png": "[encoded data removed]",
      "text/plain": [
       "<Figure size 432x288 with 1 Axes>"
      ]
     },
     "metadata": {
      "needs_background": "light"
     },
     "output_type": "display_data"
    }
   ],
   "source": [
    "plot_drought_evolution(test_output)"
   ]
  },
  {
   "cell_type": "code",
   "execution_count": 240,
   "metadata": {},
   "outputs": [
    {
     "data": {
      "text/plain": [
       "<AxesSubplot:xlabel='Time', ylabel='area in drought event'>"
      ]
     },
     "execution_count": 240,
     "metadata": {},
     "output_type": "execute_result"
    },
    {
     "data": {
      "image/png": "[encoded data removed]",
      "text/plain": [
       "<Figure size 432x288 with 1 Axes>"
      ]
     },
     "metadata": {
      "needs_background": "light"
     },
     "output_type": "display_data"
    }
   ],
   "source": [
    "plot_drought_evolution(test_output, '1')"
   ]
  },
  {
   "cell_type": "markdown",
   "metadata": {},
   "source": [
    "Awesome. That worked out nicely."
   ]
  },
  {
   "cell_type": "markdown",
   "metadata": {},
   "source": [
    "Now can I do this for our actual data?"
   ]
  },
  {
   "cell_type": "code",
   "execution_count": 211,
   "metadata": {},
   "outputs": [
    {
     "data": {
      "application/vnd.jupyter.widget-view+json": {
       "model_id": "50bb8aa588e540d49d39d28cdca23b04",
       "version_major": 2,
       "version_minor": 0
      },
      "text/plain": [
       "Identifying Blobs:   0%|          | 0/1148 [00:00<?, ?it/s]"
      ]
     },
     "metadata": {},
     "output_type": "display_data"
    },
    {
     "data": {
      "application/vnd.jupyter.widget-view+json": {
       "model_id": "37faf41925fa4298ad8aa4dbadb439da",
       "version_major": 2,
       "version_minor": 0
      },
      "text/plain": [
       "Encoding Blobs:   0%|          | 0/1147 [00:00<?, ?it/s]"
      ]
     },
     "metadata": {},
     "output_type": "display_data"
    },
    {
     "name": "stderr",
     "output_type": "stream",
     "text": [
      "/pool0/data/steinadi/.conda/envs/sedi/lib/python3.7/site-packages/pandas/core/indexing.py:1732: SettingWithCopyWarning: \n",
      "A value is trying to be set on a copy of a slice from a DataFrame\n",
      "\n",
      "See the caveats in the documentation: https://pandas.pydata.org/pandas-docs/stable/user_guide/indexing.html#returning-a-view-versus-a-copy\n",
      "  self._setitem_single_block(indexer, value, name)\n"
     ]
    }
   ],
   "source": [
    "USDM_events = encode_drought_events(paired_ds['USDM'].values)"
   ]
  },
  {
   "cell_type": "code",
   "execution_count": 247,
   "metadata": {},
   "outputs": [
    {
     "data": {
      "text/html": [
       "<div>\n",
       "<style scoped>\n",
       "    .dataframe tbody tr th:only-of-type {\n",
       "        vertical-align: middle;\n",
       "    }\n",
       "\n",
       "    .dataframe tbody tr th {\n",
       "        vertical-align: top;\n",
       "    }\n",
       "\n",
       "    .dataframe thead th {\n",
       "        text-align: right;\n",
       "    }\n",
       "</style>\n",
       "<table border=\"1\" class=\"dataframe\">\n",
       "  <thead>\n",
       "    <tr style=\"text-align: right;\">\n",
       "      <th></th>\n",
       "      <th></th>\n",
       "      <th>area</th>\n",
       "      <th>convex_area</th>\n",
       "      <th>coords</th>\n",
       "      <th>drought_id</th>\n",
       "      <th>frac_area</th>\n",
       "    </tr>\n",
       "    <tr>\n",
       "      <th>time</th>\n",
       "      <th>drought_id</th>\n",
       "      <th></th>\n",
       "      <th></th>\n",
       "      <th></th>\n",
       "      <th></th>\n",
       "      <th></th>\n",
       "    </tr>\n",
       "  </thead>\n",
       "  <tbody>\n",
       "    <tr>\n",
       "      <th>56</th>\n",
       "      <th>1</th>\n",
       "      <td>653</td>\n",
       "      <td>665</td>\n",
       "      <td>[[0, 154], [0, 155], [0, 156], [0, 157], [0, 1...</td>\n",
       "      <td>1</td>\n",
       "      <td>0.041350</td>\n",
       "    </tr>\n",
       "    <tr>\n",
       "      <th>57</th>\n",
       "      <th>1</th>\n",
       "      <td>653</td>\n",
       "      <td>665</td>\n",
       "      <td>[[0, 154], [0, 155], [0, 156], [0, 157], [0, 1...</td>\n",
       "      <td>1</td>\n",
       "      <td>0.041350</td>\n",
       "    </tr>\n",
       "    <tr>\n",
       "      <th rowspan=\"3\" valign=\"top\">58</th>\n",
       "      <th>1</th>\n",
       "      <td>12006</td>\n",
       "      <td>13514</td>\n",
       "      <td>[[0, 49], [0, 50], [0, 51], [0, 52], [0, 53], ...</td>\n",
       "      <td>1</td>\n",
       "      <td>0.760258</td>\n",
       "    </tr>\n",
       "    <tr>\n",
       "      <th>2</th>\n",
       "      <td>37</td>\n",
       "      <td>65</td>\n",
       "      <td>[[6, 41], [7, 41], [7, 43], [7, 44], [7, 45], ...</td>\n",
       "      <td>2</td>\n",
       "      <td>0.002343</td>\n",
       "    </tr>\n",
       "    <tr>\n",
       "      <th>3</th>\n",
       "      <td>1</td>\n",
       "      <td>1</td>\n",
       "      <td>[[10, 53]]</td>\n",
       "      <td>3</td>\n",
       "      <td>0.000063</td>\n",
       "    </tr>\n",
       "    <tr>\n",
       "      <th>...</th>\n",
       "      <th>...</th>\n",
       "      <td>...</td>\n",
       "      <td>...</td>\n",
       "      <td>...</td>\n",
       "      <td>...</td>\n",
       "      <td>...</td>\n",
       "    </tr>\n",
       "    <tr>\n",
       "      <th>1144</th>\n",
       "      <th>75.76.77.78-1.80-1-2</th>\n",
       "      <td>2</td>\n",
       "      <td>2</td>\n",
       "      <td>[[82, 62], [82, 63]]</td>\n",
       "      <td>75.76.77.78-1.80-1-2</td>\n",
       "      <td>0.000127</td>\n",
       "    </tr>\n",
       "    <tr>\n",
       "      <th rowspan=\"2\" valign=\"top\">1145</th>\n",
       "      <th>75.76.77.78-1.80-1-1</th>\n",
       "      <td>6861</td>\n",
       "      <td>7561</td>\n",
       "      <td>[[0, 113], [0, 114], [0, 115], [0, 116], [0, 1...</td>\n",
       "      <td>75.76.77.78-1.80-1-1</td>\n",
       "      <td>0.434460</td>\n",
       "    </tr>\n",
       "    <tr>\n",
       "      <th>75.76.77.78-1.80-1-2</th>\n",
       "      <td>2</td>\n",
       "      <td>2</td>\n",
       "      <td>[[82, 62], [82, 63]]</td>\n",
       "      <td>75.76.77.78-1.80-1-2</td>\n",
       "      <td>0.000127</td>\n",
       "    </tr>\n",
       "    <tr>\n",
       "      <th>1146</th>\n",
       "      <th>75.76.77.78-1.80-1-1</th>\n",
       "      <td>6771</td>\n",
       "      <td>7276</td>\n",
       "      <td>[[0, 114], [0, 115], [0, 116], [0, 117], [0, 1...</td>\n",
       "      <td>75.76.77.78-1.80-1-1</td>\n",
       "      <td>0.428761</td>\n",
       "    </tr>\n",
       "    <tr>\n",
       "      <th>1147</th>\n",
       "      <th>75.76.77.78-1.80-1-1</th>\n",
       "      <td>6810</td>\n",
       "      <td>7316</td>\n",
       "      <td>[[0, 113], [0, 114], [0, 115], [0, 116], [0, 1...</td>\n",
       "      <td>75.76.77.78-1.80-1-1</td>\n",
       "      <td>0.431231</td>\n",
       "    </tr>\n",
       "  </tbody>\n",
       "</table>\n",
       "<p>1408 rows × 5 columns</p>\n",
       "</div>"
      ],
      "text/plain": [
       "                            area  convex_area  \\\n",
       "time drought_id                                 \n",
       "56   1                       653          665   \n",
       "57   1                       653          665   \n",
       "58   1                     12006        13514   \n",
       "     2                        37           65   \n",
       "     3                         1            1   \n",
       "...                          ...          ...   \n",
       "1144 75.76.77.78-1.80-1-2      2            2   \n",
       "1145 75.76.77.78-1.80-1-1   6861         7561   \n",
       "     75.76.77.78-1.80-1-2      2            2   \n",
       "1146 75.76.77.78-1.80-1-1   6771         7276   \n",
       "1147 75.76.77.78-1.80-1-1   6810         7316   \n",
       "\n",
       "                                                                      coords  \\\n",
       "time drought_id                                                                \n",
       "56   1                     [[0, 154], [0, 155], [0, 156], [0, 157], [0, 1...   \n",
       "57   1                     [[0, 154], [0, 155], [0, 156], [0, 157], [0, 1...   \n",
       "58   1                     [[0, 49], [0, 50], [0, 51], [0, 52], [0, 53], ...   \n",
       "     2                     [[6, 41], [7, 41], [7, 43], [7, 44], [7, 45], ...   \n",
       "     3                                                            [[10, 53]]   \n",
       "...                                                                      ...   \n",
       "1144 75.76.77.78-1.80-1-2                               [[82, 62], [82, 63]]   \n",
       "1145 75.76.77.78-1.80-1-1  [[0, 113], [0, 114], [0, 115], [0, 116], [0, 1...   \n",
       "     75.76.77.78-1.80-1-2                               [[82, 62], [82, 63]]   \n",
       "1146 75.76.77.78-1.80-1-1  [[0, 114], [0, 115], [0, 116], [0, 117], [0, 1...   \n",
       "1147 75.76.77.78-1.80-1-1  [[0, 113], [0, 114], [0, 115], [0, 116], [0, 1...   \n",
       "\n",
       "                                     drought_id  frac_area  \n",
       "time drought_id                                             \n",
       "56   1                                        1   0.041350  \n",
       "57   1                                        1   0.041350  \n",
       "58   1                                        1   0.760258  \n",
       "     2                                        2   0.002343  \n",
       "     3                                        3   0.000063  \n",
       "...                                         ...        ...  \n",
       "1144 75.76.77.78-1.80-1-2  75.76.77.78-1.80-1-2   0.000127  \n",
       "1145 75.76.77.78-1.80-1-1  75.76.77.78-1.80-1-1   0.434460  \n",
       "     75.76.77.78-1.80-1-2  75.76.77.78-1.80-1-2   0.000127  \n",
       "1146 75.76.77.78-1.80-1-1  75.76.77.78-1.80-1-1   0.428761  \n",
       "1147 75.76.77.78-1.80-1-1  75.76.77.78-1.80-1-1   0.431231  \n",
       "\n",
       "[1408 rows x 5 columns]"
      ]
     },
     "execution_count": 247,
     "metadata": {},
     "output_type": "execute_result"
    }
   ],
   "source": [
    "USDM_events['frac_area'] = USDM_events['area']/(84*188)\n",
    "USDM_events"
   ]
  },
  {
   "cell_type": "code",
   "execution_count": 251,
   "metadata": {},
   "outputs": [
    {
     "data": {
      "text/plain": [
       "<AxesSubplot:xlabel='Time', ylabel='frac_area in drought event'>"
      ]
     },
     "execution_count": 251,
     "metadata": {},
     "output_type": "execute_result"
    },
    {
     "data": {
      "image/png": "[encoded data removed]",
      "text/plain": [
       "<Figure size 1440x576 with 1 Axes>"
      ]
     },
     "metadata": {
      "needs_background": "light"
     },
     "output_type": "display_data"
    }
   ],
   "source": [
    "fig, ax = plt.subplots(figsize=(20, 8))\n",
    "\n",
    "plot_drought_evolution(USDM_events, plot_legend=False, ax=ax, plot_var='frac_area', event_id='')"
   ]
  },
  {
   "cell_type": "markdown",
   "metadata": {},
   "source": [
    "Fuck yeah. Think the only thing that's left is to do some polishing on that plot like coloring the droughts according to a colormap instead of the defaults so we can better track new events"
   ]
  },
  {
   "cell_type": "code",
   "execution_count": 250,
   "metadata": {},
   "outputs": [
    {
     "data": {
      "text/plain": [
       "<AxesSubplot:xlabel='Time', ylabel='frac_area in drought event'>"
      ]
     },
     "execution_count": 250,
     "metadata": {},
     "output_type": "execute_result"
    },
    {
     "data": {
      "image/png": "[encoded data removed]",
      "text/plain": [
       "<Figure size 1440x576 with 1 Axes>"
      ]
     },
     "metadata": {
      "needs_background": "light"
     },
     "output_type": "display_data"
    }
   ],
   "source": [
    "fig, ax = plt.subplots(figsize=(20, 8))\n",
    "\n",
    "plot_drought_evolution(USDM_events, plot_legend=False, ax=ax, plot_var='frac_area', event_id='1')"
   ]
  },
  {
   "cell_type": "markdown",
   "metadata": {},
   "source": [
    "Ah, so it's picking up the splits that then have a `1` in them ... need to figure out a way around that"
   ]
  },
  {
   "cell_type": "code",
   "execution_count": 252,
   "metadata": {},
   "outputs": [
    {
     "data": {
      "text/plain": [
       "<AxesSubplot:xlabel='Time', ylabel='frac_area in drought event'>"
      ]
     },
     "execution_count": 252,
     "metadata": {},
     "output_type": "execute_result"
    },
    {
     "data": {
      "image/png": "[encoded data removed]",
      "text/plain": [
       "<Figure size 1440x576 with 1 Axes>"
      ]
     },
     "metadata": {
      "needs_background": "light"
     },
     "output_type": "display_data"
    }
   ],
   "source": [
    "fig, ax = plt.subplots(figsize=(20, 8))\n",
    "\n",
    "plot_drought_evolution(USDM_events, plot_legend=False, ax=ax, plot_var='frac_area', event_id='10')"
   ]
  },
  {
   "cell_type": "code",
   "execution_count": null,
   "metadata": {},
   "outputs": [],
   "source": []
  }
 ],
 "metadata": {
  "kernelspec": {
   "display_name": "Python 3.7.12 ('sedi')",
   "language": "python",
   "name": "python3"
  },
  "language_info": {
   "codemirror_mode": {
    "name": "ipython",
    "version": 3
   },
   "file_extension": ".py",
   "mimetype": "text/x-python",
   "name": "python",
   "nbconvert_exporter": "python",
   "pygments_lexer": "ipython3",
   "version": "3.7.12"
  },
  "orig_nbformat": 4,
  "vscode": {
   "interpreter": {
    "hash": "5585d616cc037afe4e5997f9d5ad9938ec3148b25e01a6d2931d801949bec716"
   }
  }
 },
 "nbformat": 4,
 "nbformat_minor": 2
}
