{
 "cells": [
  {
   "attachments": {},
   "cell_type": "markdown",
   "metadata": {},
   "source": [
    "# Test Nexus Comparison\n",
    "1.3.2023\n",
    "\n",
    "Recently I developed Alignment Fraction (AF), Disagreement Fraction (DF), and began delving into moments of inertia to characterize differences in drought evolution between metrics in `explore/drought_event_comparison.ipynb`. Here I will use simple geometries to test whether these computations are performing as expected."
   ]
  },
  {
   "attachments": {},
   "cell_type": "markdown",
   "metadata": {},
   "source": [
    "## Desired Characterizations\n",
    "\n",
    "- how similar/different are drought event ...\n",
    "    - extent\n",
    "    - total covered area\n",
    "    - location\n",
    "- how far does a drought \"move and spread\" over the course of its lifetime? how does that compare to other metrics?"
   ]
  },
  {
   "attachments": {},
   "cell_type": "markdown",
   "metadata": {},
   "source": [
    "The first large bullet I am attributing to being handled by AF and DF. However, they have no bearing on how the drought has changed from initial development to recovery, which is where I think moments of inertia could be useful."
   ]
  },
  {
   "attachments": {},
   "cell_type": "markdown",
   "metadata": {},
   "source": [
    "Let's compose some test scenarios:\n",
    "- two metrics completely match (AF=1 and DF=0)\n",
    "- two metrics never match (AF=0, DF=1)\n",
    "    - parallel track evolution (movements are the same, starting location different)\n",
    "    - mirrored track evolution (opposite movements about common axis)\n",
    "    - repulsion evolution (moving directly away from each other)\n",
    "    - attractive with external repulsion evolution (moving towards each other, but something between them keeps them apart, (i.e. a mountain range?))\n",
    "- two metrics overlap at some point in time, but not all time (0 <= AF, DF <= 1)\n",
    "    - convergence (end up overlapping and staying overlapping)\n",
    "        - mutual approach (both events head towards each other at same rate)\n",
    "        - asymmetric approach (one event heads toward the other while the other remains stationary)\n",
    "    - divergence (start overlapping and end up not overlapping)\n",
    "        - mirrored\n",
    "        - asymmetrical (each event follows completely different paths)\n",
    "    - mixed\n",
    "        - passing (events pass straight through each other, overlap maybe coincidental)\n",
    "        - dispersion (events converge then have offshoots diverging but have part staying converged)\n",
    "\n",
    "All of these should have growth (increased drought area), shrink (decreased drought area), and static (unchanged drought area) evolutions."
   ]
  },
  {
   "cell_type": "code",
   "execution_count": 27,
   "metadata": {},
   "outputs": [
    {
     "name": "stdout",
     "output_type": "stream",
     "text": [
      "The autoreload extension is already loaded. To reload it, use:\n",
      "  %reload_ext autoreload\n"
     ]
    }
   ],
   "source": [
    "%load_ext autoreload\n",
    "%autoreload 2\n",
    "%reload_ext autoreload\n",
    "\n",
    "import numpy as np\n",
    "import matplotlib as mpl\n",
    "import matplotlib.pylab as plt\n",
    "\n",
    "import xarray as xr\n",
    "import pandas as pd\n",
    "\n",
    "from tqdm.autonotebook import tqdm\n",
    "\n",
    "import sys\n",
    "sys.path.append('../../')\n",
    "import ndrought.wrangle as wrangle\n",
    "import ndrought.compare as compare\n",
    "import ndrought.plotting as ndplot\n",
    "import ndrought.drought_network as dnet"
   ]
  },
  {
   "cell_type": "code",
   "execution_count": 19,
   "metadata": {},
   "outputs": [],
   "source": [
    "n = np.array([0, 0, 0, 0, 0])\n",
    "a = np.array([1, 0, 0, 0, 0])\n",
    "b = np.array([0, 1, 0, 0, 0])\n",
    "c = np.array([0, 0, 1, 0, 0])\n",
    "d = np.array([0, 0, 0, 1, 0])\n",
    "e = np.array([0, 0, 0, 0, 1])"
   ]
  },
  {
   "attachments": {},
   "cell_type": "markdown",
   "metadata": {},
   "source": [
    "### Complete Match"
   ]
  },
  {
   "cell_type": "code",
   "execution_count": 20,
   "metadata": {},
   "outputs": [],
   "source": [
    "cm = [\n",
    "    np.vstack([n, n, c, n, n]),\n",
    "    np.vstack([n, n, d, n, n]),\n",
    "    np.vstack([n, n, e, n, n]),\n",
    "    np.vstack([n, n, d, n, n]),\n",
    "    np.vstack([n, n, c, n, n]),\n",
    "    np.vstack([n, n, b, n, n]),\n",
    "    np.vstack([n, n, a, n, n])\n",
    "]\n"
   ]
  },
  {
   "attachments": {},
   "cell_type": "markdown",
   "metadata": {},
   "source": [
    "Double check real quick I'm setting these up right"
   ]
  },
  {
   "cell_type": "code",
   "execution_count": 21,
   "metadata": {},
   "outputs": [
    {
     "data": {
      "image/png": "[encoded data removed]",
      "text/plain": [
       "<Figure size 432x288 with 7 Axes>"
      ]
     },
     "metadata": {
      "needs_background": "light"
     },
     "output_type": "display_data"
    }
   ],
   "source": [
    "fig, axs = plt.subplots(1, 7)\n",
    "\n",
    "for ax, ar in zip(axs.ravel(), cm):\n",
    "    ax.imshow(ar)\n",
    "    ax.set_xticklabels('')\n",
    "    ax.set_yticklabels('')\n",
    "\n",
    "plt.tight_layout()"
   ]
  },
  {
   "cell_type": "code",
   "execution_count": 44,
   "metadata": {},
   "outputs": [
    {
     "data": {
      "text/plain": [
       "([time: 0, id: 0], 1)"
      ]
     },
     "execution_count": 44,
     "metadata": {},
     "output_type": "execute_result"
    }
   ],
   "source": [
    "dnet.create_EventNodes(cm[0])"
   ]
  },
  {
   "attachments": {},
   "cell_type": "markdown",
   "metadata": {},
   "source": [
    "### Parallel Track"
   ]
  },
  {
   "cell_type": "code",
   "execution_count": 23,
   "metadata": {},
   "outputs": [],
   "source": [
    "pt_1 = [\n",
    "    np.vstack([n, n, n, b, n]),\n",
    "    np.vstack([n, n, b, n, n]),\n",
    "    np.vstack([n, b, n, n, n])\n",
    "]\n",
    "\n",
    "pt_2 = [\n",
    "    np.vstack([n, n, n, d, n]),\n",
    "    np.vstack([n, n, d, n, n]),\n",
    "    np.vstack([n, d, n, n, n])\n",
    "]"
   ]
  },
  {
   "cell_type": "code",
   "execution_count": null,
   "metadata": {},
   "outputs": [],
   "source": []
  }
 ],
 "metadata": {
  "kernelspec": {
   "display_name": "sedi",
   "language": "python",
   "name": "python3"
  },
  "language_info": {
   "codemirror_mode": {
    "name": "ipython",
    "version": 3
   },
   "file_extension": ".py",
   "mimetype": "text/x-python",
   "name": "python",
   "nbconvert_exporter": "python",
   "pygments_lexer": "ipython3",
   "version": "3.10.8 | packaged by conda-forge | (main, Nov 22 2022, 08:26:04) [GCC 10.4.0]"
  },
  "orig_nbformat": 4,
  "vscode": {
   "interpreter": {
    "hash": "5585d616cc037afe4e5997f9d5ad9938ec3148b25e01a6d2931d801949bec716"
   }
  }
 },
 "nbformat": 4,
 "nbformat_minor": 2
}
