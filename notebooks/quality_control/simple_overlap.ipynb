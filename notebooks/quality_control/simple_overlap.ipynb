{
 "cells": [
  {
   "attachments": {},
   "cell_type": "markdown",
   "metadata": {},
   "source": [
    "# Simple Overlap\n",
    "a. stein 4.12.2023\n",
    "\n",
    "I'm skeptical that my overlapping method is working correctly, so let's use our simple little cellular automata example and overlap it with itself."
   ]
  },
  {
   "cell_type": "code",
   "execution_count": 1,
   "metadata": {},
   "outputs": [
    {
     "name": "stdout",
     "output_type": "stream",
     "text": [
      "%pylab is deprecated, use %matplotlib inline and import the required libraries.\n",
      "Populating the interactive namespace from numpy and matplotlib\n"
     ]
    },
    {
     "name": "stderr",
     "output_type": "stream",
     "text": [
      "/tmp/ipykernel_19258/978642154.py:12: TqdmExperimentalWarning: Using `tqdm.autonotebook.tqdm` in notebook mode. Use `tqdm.tqdm` instead to force console mode (e.g. in jupyter console)\n",
      "  from tqdm.autonotebook import tqdm\n"
     ]
    }
   ],
   "source": [
    "%pylab inline\n",
    "%load_ext autoreload\n",
    "%autoreload 2\n",
    "%reload_ext autoreload\n",
    "\n",
    "import xarray as xr\n",
    "import pandas as pd\n",
    "import geopandas as gpd\n",
    "\n",
    "import matplotlib.dates as mdates\n",
    "\n",
    "from tqdm.autonotebook import tqdm\n",
    "\n",
    "import sys\n",
    "sys.path.append('../../')\n",
    "from ndrought import drought_network_v12 as dnet_test"
   ]
  },
  {
   "cell_type": "markdown",
   "metadata": {},
   "source": [
    "Let's get our simpler test case up in here."
   ]
  },
  {
   "cell_type": "code",
   "execution_count": 2,
   "metadata": {},
   "outputs": [],
   "source": [
    "def tick(matrix):\n",
    "    new_state = np.copy(matrix)\n",
    "\n",
    "    i_dim, j_dim = matrix.shape\n",
    "\n",
    "    for i in range(i_dim):\n",
    "        for j in range(j_dim):\n",
    "            north = matrix[i][j-1] if j>0 else 0\n",
    "            south = matrix[i][j+1] if j<(j_dim-1) else 0\n",
    "            west = matrix[i+1][j] if i<(i_dim-1) else 0\n",
    "            east = matrix[i-1][j] if i>0 else 0\n",
    "            se = matrix[i+1][j+1] if i<(i_dim-1) and j<(j_dim-1) else 0\n",
    "            sw = matrix[i+1][j-1] if i<(i_dim-1) and j>0 else 0\n",
    "            ne = matrix[i-1][j+1] if i>0 and j<(j_dim-1) else 0\n",
    "            nw = matrix[i-1][j-1] if i>0 and j>0 else 0\n",
    "            neighbors = np.sum([north, south, west, east, se, sw, ne, nw])\n",
    "\n",
    "            # rules\n",
    "            if matrix[i][j] == 0 and neighbors == 3: # reproduction\n",
    "                new_state[i][j] = 1\n",
    "            elif matrix[i][j] == 1 and neighbors < 2: # underpopulation\n",
    "                new_state[i][j] = 0\n",
    "            elif matrix[i][j] == 1 and neighbors > 3: # overpopulation\n",
    "                new_state[i][j] = 0\n",
    "            elif matrix[i][j] == 1 and neighbors == 2: # survives\n",
    "                new_state[i][j] = 1\n",
    "            elif matrix[i][j] == 1 and neighbors == 3: # also survives\n",
    "                new_state[i][j] = 1\n",
    "\n",
    "    return new_state"
   ]
  },
  {
   "cell_type": "code",
   "execution_count": 3,
   "metadata": {},
   "outputs": [],
   "source": [
    "# this was originally generated randomly using the same method method as\n",
    "# before, but I have now hard coded it to have a consistent test example\n",
    "test_matrix = np.array([\n",
    "    [0, 0, 0, 0, 0],\n",
    "    [0, 1, 1, 0, 1],\n",
    "    [1, 1, 0, 0, 1],\n",
    "    [1, 1, 1, 0, 1],\n",
    "    [0, 0, 1, 0, 1]\n",
    "])"
   ]
  },
  {
   "cell_type": "code",
   "execution_count": 4,
   "metadata": {},
   "outputs": [
    {
     "data": {
      "image/png": "[encoded data removed]",
      "text/plain": [
       "<Figure size 720x432 with 8 Axes>"
      ]
     },
     "metadata": {
      "needs_background": "light"
     },
     "output_type": "display_data"
    }
   ],
   "source": [
    "fig, axs = plt.subplots(2, 4, figsize=(10,6))\n",
    "\n",
    "test_series = []\n",
    "plot_matrix = test_matrix\n",
    "\n",
    "for i, ax in enumerate(axs.ravel()):\n",
    "    test_series.append(plot_matrix)\n",
    "    ax.imshow(plot_matrix)\n",
    "    plot_matrix = tick(plot_matrix)\n",
    "\n",
    "    ax.set_title(i)\n",
    "\n",
    "plt.tight_layout()"
   ]
  },
  {
   "cell_type": "code",
   "execution_count": 5,
   "metadata": {},
   "outputs": [],
   "source": [
    "test_series = np.array(test_series)"
   ]
  },
  {
   "cell_type": "code",
   "execution_count": 6,
   "metadata": {},
   "outputs": [
    {
     "data": {
      "application/vnd.jupyter.widget-view+json": {
       "model_id": "9ba0bce8e18547b4be211edb8f99d076",
       "version_major": 2,
       "version_minor": 0
      },
      "text/plain": [
       "Creating Network: drought_network:   0%|          | 0/8 [00:00<?, ?it/s]"
      ]
     },
     "metadata": {},
     "output_type": "display_data"
    }
   ],
   "source": [
    "test = dnet_test.DroughtNetwork(test_series, area_threshold=0)"
   ]
  },
  {
   "cell_type": "code",
   "execution_count": 7,
   "metadata": {},
   "outputs": [],
   "source": [
    "matched_dates_dict = {i:i for i in np.arange(8)}"
   ]
  },
  {
   "cell_type": "code",
   "execution_count": null,
   "metadata": {},
   "outputs": [],
   "source": []
  },
  {
   "cell_type": "code",
   "execution_count": 8,
   "metadata": {},
   "outputs": [
    {
     "data": {
      "application/vnd.jupyter.widget-view+json": {
       "model_id": "70c747547882424795d349a5ea6c0fe9",
       "version_major": 2,
       "version_minor": 0
      },
      "text/plain": [
       "Overlapping drought_network & drought_network:   0%|          | 0/256 [00:00<?, ?it/s]"
      ]
     },
     "metadata": {},
     "output_type": "display_data"
    },
    {
     "ename": "IndexError",
     "evalue": "list index out of range",
     "output_type": "error",
     "traceback": [
      "\u001b[0;31m---------------------------------------------------------------------------\u001b[0m",
      "\u001b[0;31mIndexError\u001b[0m                                Traceback (most recent call last)",
      "\u001b[1;32m/pool0/home/steinjao/data/drought/drought_impact/notebooks/quality_control/simple_overlap.ipynb Cell 11\u001b[0m in \u001b[0;36m<cell line: 1>\u001b[0;34m()\u001b[0m\n\u001b[0;32m----> <a href='vscode-notebook-cell://ssh-remote%2Bh2o/pool0/home/steinjao/data/drought/drought_impact/notebooks/quality_control/simple_overlap.ipynb#X14sdnNjb2RlLXJlbW90ZQ%3D%3D?line=0'>1</a>\u001b[0m test\u001b[39m.\u001b[39;49mfind_overlapping_nodes_events(test, matched_dates_dict)\n",
      "File \u001b[0;32m/pool0/data/steinjao/drought/drought_impact/notebooks/quality_control/../../ndrought/drought_network_v12.py:935\u001b[0m, in \u001b[0;36mDroughtNetwork.find_overlapping_nodes_events\u001b[0;34m(self, other, matched_dates_dict_idx)\u001b[0m\n\u001b[1;32m    930\u001b[0m         current_event \u001b[39m=\u001b[39m [{idx:overlapped_nodes[idx]}]\n\u001b[1;32m    932\u001b[0m \u001b[39m# lastly, if the final time is consecutive, then we\u001b[39;00m\n\u001b[1;32m    933\u001b[0m \u001b[39m# won't end up storing in our events, so we should\u001b[39;00m\n\u001b[1;32m    934\u001b[0m \u001b[39m# check whether it got stored and store it if not\u001b[39;00m\n\u001b[0;32m--> 935\u001b[0m \u001b[39mif\u001b[39;00m \u001b[39mlen\u001b[39m(current_event) \u001b[39m!=\u001b[39m \u001b[39m0\u001b[39m \u001b[39mand\u001b[39;00m overlap_events[\u001b[39m-\u001b[39;49m\u001b[39m1\u001b[39;49m] \u001b[39m!=\u001b[39m current_event:\n\u001b[1;32m    936\u001b[0m     overlap_events\u001b[39m.\u001b[39mappend(current_event)\n\u001b[1;32m    939\u001b[0m \u001b[39mreturn\u001b[39;00m overlap_events\n",
      "\u001b[0;31mIndexError\u001b[0m: list index out of range"
     ]
    }
   ],
   "source": [
    "test.find_overlapping_nodes_events(test, matched_dates_dict)"
   ]
  },
  {
   "cell_type": "code",
   "execution_count": null,
   "metadata": {},
   "outputs": [],
   "source": []
  }
 ],
 "metadata": {
  "kernelspec": {
   "display_name": "sedi",
   "language": "python",
   "name": "sedi"
  },
  "language_info": {
   "codemirror_mode": {
    "name": "ipython",
    "version": 3
   },
   "file_extension": ".py",
   "mimetype": "text/x-python",
   "name": "python",
   "nbconvert_exporter": "python",
   "pygments_lexer": "ipython3",
   "version": "3.10.8"
  },
  "orig_nbformat": 4
 },
 "nbformat": 4,
 "nbformat_minor": 2
}
