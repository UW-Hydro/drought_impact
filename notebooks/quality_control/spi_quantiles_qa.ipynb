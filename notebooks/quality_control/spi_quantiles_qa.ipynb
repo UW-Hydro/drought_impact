{
 "cells": [
  {
   "cell_type": "markdown",
   "metadata": {},
   "source": [
    "# SPI Quantile Quality Control\n",
    "a. stein 6.1.2022\n",
    "\n",
    "In `analysis/usdm_spi_investigate_temporal.ipynb` found that D4 appears very overrepresented in the stacked timeseries for WA caf, so here I'm looking into what's up with that."
   ]
  },
  {
   "cell_type": "code",
   "execution_count": 1,
   "metadata": {},
   "outputs": [
    {
     "name": "stdout",
     "output_type": "stream",
     "text": [
      "Populating the interactive namespace from numpy and matplotlib\n"
     ]
    },
    {
     "name": "stderr",
     "output_type": "stream",
     "text": [
      "/pool0/data/steinadi/.conda/envs/sedi/lib/python3.7/site-packages/ipykernel_launcher.py:14: TqdmExperimentalWarning: Using `tqdm.autonotebook.tqdm` in notebook mode. Use `tqdm.tqdm` instead to force console mode (e.g. in jupyter console)\n",
      "  \n"
     ]
    }
   ],
   "source": [
    "%pylab inline\n",
    "%load_ext autoreload\n",
    "%autoreload 2\n",
    "%reload_ext autoreload\n",
    "\n",
    "import xarray as xr\n",
    "import rioxarray\n",
    "import rasterio as rio\n",
    "import pandas as pd\n",
    "import geopandas as gpd\n",
    "\n",
    "import matplotlib.dates as mdates\n",
    "\n",
    "from tqdm.autonotebook import tqdm\n",
    "\n",
    "import sys\n",
    "sys.path.append('../../')\n",
    "import ndrought.wrangle as wrangle\n",
    "import ndrought.compare as compare\n",
    "import ndrought.plotting as ndplot"
   ]
  },
  {
   "cell_type": "code",
   "execution_count": 2,
   "metadata": {},
   "outputs": [],
   "source": [
    "dm_path = '/pool0/home/steinadi/data/drought/drought_impact/data/drought_measures'\n",
    "spi_path = f'{dm_path}/spi/WA'\n",
    "\n",
    "spi_intervals = ['14d', '30d', '90d', '180d', '270d', '1y', '2y', '5y', ]\n",
    "\n",
    "spi = dict()\n",
    "for spi_int in spi_intervals:\n",
    "    spi[spi_int] = xr.open_dataset(f'{spi_path}/spi_{spi_int}.nc')['spi']"
   ]
  },
  {
   "cell_type": "code",
   "execution_count": 3,
   "metadata": {},
   "outputs": [],
   "source": [
    "spi_nanless = dict()\n",
    "\n",
    "for spi_int in spi_intervals:\n",
    "    spi_nanless[spi_int] = spi[spi_int].values.ravel()[np.isnan(spi[spi_int].values.ravel()) == False]"
   ]
  },
  {
   "cell_type": "code",
   "execution_count": 4,
   "metadata": {},
   "outputs": [
    {
     "data": {
      "application/vnd.jupyter.widget-view+json": {
       "model_id": "676161d5a06941b4b90d46d92d5da8aa",
       "version_major": 2,
       "version_minor": 0
      },
      "text/plain": [
       "  0%|          | 0/8 [00:00<?, ?it/s]"
      ]
     },
     "metadata": {},
     "output_type": "display_data"
    }
   ],
   "source": [
    "spi_cdfs = dict()\n",
    "\n",
    "for spi_int in tqdm(spi_intervals):\n",
    "    spi_cdfs[spi_int] = wrangle.cunnane_empircal_cdf(spi_nanless[spi_int])"
   ]
  },
  {
   "cell_type": "code",
   "execution_count": 5,
   "metadata": {},
   "outputs": [
    {
     "data": {
      "text/plain": [
       "<matplotlib.collections.PathCollection at 0x7f02d54e5790>"
      ]
     },
     "execution_count": 5,
     "metadata": {},
     "output_type": "execute_result"
    },
    {
     "data": {
      "image/png": "[encoded data removed]",
      "text/plain": [
       "<Figure size 576x360 with 1 Axes>"
      ]
     },
     "metadata": {
      "needs_background": "light"
     },
     "output_type": "display_data"
    }
   ],
   "source": [
    "fig, ax = plt.subplots(figsize=(8,5))\n",
    "\n",
    "for spi_int in spi_intervals:\n",
    "    sorted, pos = spi_cdfs[spi_int]\n",
    "    ax.plot(sorted, pos)\n",
    "\n",
    "ax.scatter(-0.5, 0.3, color='k', marker='x', s=100)\n",
    "ax.scatter(-0.8, 0.2, color='k', marker='x', s=100)\n",
    "ax.scatter(-1.3, 0.1, color='k', marker='x', s=100)\n",
    "ax.scatter(-1.6, 0.05, color='k', marker='x', s=100)\n",
    "ax.scatter(-2.0, 0.02, color='k', marker='x', s=100)"
   ]
  },
  {
   "cell_type": "code",
   "execution_count": 6,
   "metadata": {},
   "outputs": [],
   "source": [
    "tot = len(spi_cdfs['14d'][0])"
   ]
  },
  {
   "cell_type": "code",
   "execution_count": 7,
   "metadata": {},
   "outputs": [
    {
     "name": "stdout",
     "output_type": "stream",
     "text": [
      "14d\n",
      "D0 29.72\n",
      "D1 20.87\n",
      "D2 6.89\n",
      "D3 4.36\n",
      "D4 2.03\n",
      "\n",
      "30d\n",
      "D0 31.55\n",
      "D1 23.25\n",
      "D2 8.99\n",
      "D3 6.09\n",
      "D4 3.23\n",
      "\n",
      "90d\n",
      "D0 31.34\n",
      "D1 23.21\n",
      "D2 9.59\n",
      "D3 6.79\n",
      "D4 3.95\n",
      "\n",
      "180d\n",
      "D0 31.05\n",
      "D1 22.87\n",
      "D2 9.10\n",
      "D3 6.32\n",
      "D4 3.52\n",
      "\n",
      "270d\n",
      "D0 30.53\n",
      "D1 22.44\n",
      "D2 8.77\n",
      "D3 6.02\n",
      "D4 3.25\n",
      "\n",
      "1y\n",
      "D0 30.15\n",
      "D1 22.10\n",
      "D2 8.66\n",
      "D3 5.96\n",
      "D4 3.22\n",
      "\n",
      "2y\n",
      "D0 30.20\n",
      "D1 21.94\n",
      "D2 8.49\n",
      "D3 5.83\n",
      "D4 3.15\n",
      "\n",
      "5y\n",
      "D0 29.61\n",
      "D1 21.44\n",
      "D2 8.03\n",
      "D3 5.37\n",
      "D4 2.71\n",
      "\n"
     ]
    }
   ],
   "source": [
    "for spi_int in spi_intervals:\n",
    "    print(spi_int)\n",
    "    tot = len(spi_cdfs[spi_int][0])\n",
    "    for threshold, cat in zip([-0.5, -0.8, -1.3, -1.6, -2.0], ['D0', 'D1', 'D2', 'D3', 'D4']):\n",
    "        print(f'{cat} {100*len(np.where(spi_cdfs[spi_int][0] <= threshold)[0])/tot:.2f}')\n",
    "    print()"
   ]
  },
  {
   "cell_type": "markdown",
   "metadata": {},
   "source": [
    "So those look fairly fine. Some ride a little high in D4, but not drastically so."
   ]
  },
  {
   "cell_type": "markdown",
   "metadata": {},
   "source": [
    "Did it get messed up when being put into categories?"
   ]
  },
  {
   "cell_type": "code",
   "execution_count": 8,
   "metadata": {},
   "outputs": [],
   "source": [
    "spi_cat = xr.open_dataset(f'{spi_path}/spi_usdmcat_WA.nc')"
   ]
  },
  {
   "cell_type": "code",
   "execution_count": 9,
   "metadata": {},
   "outputs": [
    {
     "data": {
      "text/html": [
       "<div><svg style=\"position: absolute; width: 0; height: 0; overflow: hidden\">\n",
       "<defs>\n",
       "<symbol id=\"icon-database\" viewBox=\"0 0 32 32\">\n",
       "<path d=\"M16 0c-8.837 0-16 2.239-16 5v4c0 2.761 7.163 5 16 5s16-2.239 16-5v-4c0-2.761-7.163-5-16-5z\"></path>\n",
       "<path d=\"M16 17c-8.837 0-16-2.239-16-5v6c0 2.761 7.163 5 16 5s16-2.239 16-5v-6c0 2.761-7.163 5-16 5z\"></path>\n",
       "<path d=\"M16 26c-8.837 0-16-2.239-16-5v6c0 2.761 7.163 5 16 5s16-2.239 16-5v-6c0 2.761-7.163 5-16 5z\"></path>\n",
       "</symbol>\n",
       "<symbol id=\"icon-file-text2\" viewBox=\"0 0 32 32\">\n",
       "<path d=\"M28.681 7.159c-0.694-0.947-1.662-2.053-2.724-3.116s-2.169-2.030-3.116-2.724c-1.612-1.182-2.393-1.319-2.841-1.319h-15.5c-1.378 0-2.5 1.121-2.5 2.5v27c0 1.378 1.122 2.5 2.5 2.5h23c1.378 0 2.5-1.122 2.5-2.5v-19.5c0-0.448-0.137-1.23-1.319-2.841zM24.543 5.457c0.959 0.959 1.712 1.825 2.268 2.543h-4.811v-4.811c0.718 0.556 1.584 1.309 2.543 2.268zM28 29.5c0 0.271-0.229 0.5-0.5 0.5h-23c-0.271 0-0.5-0.229-0.5-0.5v-27c0-0.271 0.229-0.5 0.5-0.5 0 0 15.499-0 15.5 0v7c0 0.552 0.448 1 1 1h7v19.5z\"></path>\n",
       "<path d=\"M23 26h-14c-0.552 0-1-0.448-1-1s0.448-1 1-1h14c0.552 0 1 0.448 1 1s-0.448 1-1 1z\"></path>\n",
       "<path d=\"M23 22h-14c-0.552 0-1-0.448-1-1s0.448-1 1-1h14c0.552 0 1 0.448 1 1s-0.448 1-1 1z\"></path>\n",
       "<path d=\"M23 18h-14c-0.552 0-1-0.448-1-1s0.448-1 1-1h14c0.552 0 1 0.448 1 1s-0.448 1-1 1z\"></path>\n",
       "</symbol>\n",
       "</defs>\n",
       "</svg>\n",
       "<style>/* CSS stylesheet for displaying xarray objects in jupyterlab.\n",
       " *\n",
       " */\n",
       "\n",
       ":root {\n",
       "  --xr-font-color0: var(--jp-content-font-color0, rgba(0, 0, 0, 1));\n",
       "  --xr-font-color2: var(--jp-content-font-color2, rgba(0, 0, 0, 0.54));\n",
       "  --xr-font-color3: var(--jp-content-font-color3, rgba(0, 0, 0, 0.38));\n",
       "  --xr-border-color: var(--jp-border-color2, #e0e0e0);\n",
       "  --xr-disabled-color: var(--jp-layout-color3, #bdbdbd);\n",
       "  --xr-background-color: var(--jp-layout-color0, white);\n",
       "  --xr-background-color-row-even: var(--jp-layout-color1, white);\n",
       "  --xr-background-color-row-odd: var(--jp-layout-color2, #eeeeee);\n",
       "}\n",
       "\n",
       "html[theme=dark],\n",
       "body.vscode-dark {\n",
       "  --xr-font-color0: rgba(255, 255, 255, 1);\n",
       "  --xr-font-color2: rgba(255, 255, 255, 0.54);\n",
       "  --xr-font-color3: rgba(255, 255, 255, 0.38);\n",
       "  --xr-border-color: #1F1F1F;\n",
       "  --xr-disabled-color: #515151;\n",
       "  --xr-background-color: #111111;\n",
       "  --xr-background-color-row-even: #111111;\n",
       "  --xr-background-color-row-odd: #313131;\n",
       "}\n",
       "\n",
       ".xr-wrap {\n",
       "  display: block !important;\n",
       "  min-width: 300px;\n",
       "  max-width: 700px;\n",
       "}\n",
       "\n",
       ".xr-text-repr-fallback {\n",
       "  /* fallback to plain text repr when CSS is not injected (untrusted notebook) */\n",
       "  display: none;\n",
       "}\n",
       "\n",
       ".xr-header {\n",
       "  padding-top: 6px;\n",
       "  padding-bottom: 6px;\n",
       "  margin-bottom: 4px;\n",
       "  border-bottom: solid 1px var(--xr-border-color);\n",
       "}\n",
       "\n",
       ".xr-header > div,\n",
       ".xr-header > ul {\n",
       "  display: inline;\n",
       "  margin-top: 0;\n",
       "  margin-bottom: 0;\n",
       "}\n",
       "\n",
       ".xr-obj-type,\n",
       ".xr-array-name {\n",
       "  margin-left: 2px;\n",
       "  margin-right: 10px;\n",
       "}\n",
       "\n",
       ".xr-obj-type {\n",
       "  color: var(--xr-font-color2);\n",
       "}\n",
       "\n",
       ".xr-sections {\n",
       "  padding-left: 0 !important;\n",
       "  display: grid;\n",
       "  grid-template-columns: 150px auto auto 1fr 20px 20px;\n",
       "}\n",
       "\n",
       ".xr-section-item {\n",
       "  display: contents;\n",
       "}\n",
       "\n",
       ".xr-section-item input {\n",
       "  display: none;\n",
       "}\n",
       "\n",
       ".xr-section-item input + label {\n",
       "  color: var(--xr-disabled-color);\n",
       "}\n",
       "\n",
       ".xr-section-item input:enabled + label {\n",
       "  cursor: pointer;\n",
       "  color: var(--xr-font-color2);\n",
       "}\n",
       "\n",
       ".xr-section-item input:enabled + label:hover {\n",
       "  color: var(--xr-font-color0);\n",
       "}\n",
       "\n",
       ".xr-section-summary {\n",
       "  grid-column: 1;\n",
       "  color: var(--xr-font-color2);\n",
       "  font-weight: 500;\n",
       "}\n",
       "\n",
       ".xr-section-summary > span {\n",
       "  display: inline-block;\n",
       "  padding-left: 0.5em;\n",
       "}\n",
       "\n",
       ".xr-section-summary-in:disabled + label {\n",
       "  color: var(--xr-font-color2);\n",
       "}\n",
       "\n",
       ".xr-section-summary-in + label:before {\n",
       "  display: inline-block;\n",
       "  content: '►';\n",
       "  font-size: 11px;\n",
       "  width: 15px;\n",
       "  text-align: center;\n",
       "}\n",
       "\n",
       ".xr-section-summary-in:disabled + label:before {\n",
       "  color: var(--xr-disabled-color);\n",
       "}\n",
       "\n",
       ".xr-section-summary-in:checked + label:before {\n",
       "  content: '▼';\n",
       "}\n",
       "\n",
       ".xr-section-summary-in:checked + label > span {\n",
       "  display: none;\n",
       "}\n",
       "\n",
       ".xr-section-summary,\n",
       ".xr-section-inline-details {\n",
       "  padding-top: 4px;\n",
       "  padding-bottom: 4px;\n",
       "}\n",
       "\n",
       ".xr-section-inline-details {\n",
       "  grid-column: 2 / -1;\n",
       "}\n",
       "\n",
       ".xr-section-details {\n",
       "  display: none;\n",
       "  grid-column: 1 / -1;\n",
       "  margin-bottom: 5px;\n",
       "}\n",
       "\n",
       ".xr-section-summary-in:checked ~ .xr-section-details {\n",
       "  display: contents;\n",
       "}\n",
       "\n",
       ".xr-array-wrap {\n",
       "  grid-column: 1 / -1;\n",
       "  display: grid;\n",
       "  grid-template-columns: 20px auto;\n",
       "}\n",
       "\n",
       ".xr-array-wrap > label {\n",
       "  grid-column: 1;\n",
       "  vertical-align: top;\n",
       "}\n",
       "\n",
       ".xr-preview {\n",
       "  color: var(--xr-font-color3);\n",
       "}\n",
       "\n",
       ".xr-array-preview,\n",
       ".xr-array-data {\n",
       "  padding: 0 5px !important;\n",
       "  grid-column: 2;\n",
       "}\n",
       "\n",
       ".xr-array-data,\n",
       ".xr-array-in:checked ~ .xr-array-preview {\n",
       "  display: none;\n",
       "}\n",
       "\n",
       ".xr-array-in:checked ~ .xr-array-data,\n",
       ".xr-array-preview {\n",
       "  display: inline-block;\n",
       "}\n",
       "\n",
       ".xr-dim-list {\n",
       "  display: inline-block !important;\n",
       "  list-style: none;\n",
       "  padding: 0 !important;\n",
       "  margin: 0;\n",
       "}\n",
       "\n",
       ".xr-dim-list li {\n",
       "  display: inline-block;\n",
       "  padding: 0;\n",
       "  margin: 0;\n",
       "}\n",
       "\n",
       ".xr-dim-list:before {\n",
       "  content: '(';\n",
       "}\n",
       "\n",
       ".xr-dim-list:after {\n",
       "  content: ')';\n",
       "}\n",
       "\n",
       ".xr-dim-list li:not(:last-child):after {\n",
       "  content: ',';\n",
       "  padding-right: 5px;\n",
       "}\n",
       "\n",
       ".xr-has-index {\n",
       "  font-weight: bold;\n",
       "}\n",
       "\n",
       ".xr-var-list,\n",
       ".xr-var-item {\n",
       "  display: contents;\n",
       "}\n",
       "\n",
       ".xr-var-item > div,\n",
       ".xr-var-item label,\n",
       ".xr-var-item > .xr-var-name span {\n",
       "  background-color: var(--xr-background-color-row-even);\n",
       "  margin-bottom: 0;\n",
       "}\n",
       "\n",
       ".xr-var-item > .xr-var-name:hover span {\n",
       "  padding-right: 5px;\n",
       "}\n",
       "\n",
       ".xr-var-list > li:nth-child(odd) > div,\n",
       ".xr-var-list > li:nth-child(odd) > label,\n",
       ".xr-var-list > li:nth-child(odd) > .xr-var-name span {\n",
       "  background-color: var(--xr-background-color-row-odd);\n",
       "}\n",
       "\n",
       ".xr-var-name {\n",
       "  grid-column: 1;\n",
       "}\n",
       "\n",
       ".xr-var-dims {\n",
       "  grid-column: 2;\n",
       "}\n",
       "\n",
       ".xr-var-dtype {\n",
       "  grid-column: 3;\n",
       "  text-align: right;\n",
       "  color: var(--xr-font-color2);\n",
       "}\n",
       "\n",
       ".xr-var-preview {\n",
       "  grid-column: 4;\n",
       "}\n",
       "\n",
       ".xr-var-name,\n",
       ".xr-var-dims,\n",
       ".xr-var-dtype,\n",
       ".xr-preview,\n",
       ".xr-attrs dt {\n",
       "  white-space: nowrap;\n",
       "  overflow: hidden;\n",
       "  text-overflow: ellipsis;\n",
       "  padding-right: 10px;\n",
       "}\n",
       "\n",
       ".xr-var-name:hover,\n",
       ".xr-var-dims:hover,\n",
       ".xr-var-dtype:hover,\n",
       ".xr-attrs dt:hover {\n",
       "  overflow: visible;\n",
       "  width: auto;\n",
       "  z-index: 1;\n",
       "}\n",
       "\n",
       ".xr-var-attrs,\n",
       ".xr-var-data {\n",
       "  display: none;\n",
       "  background-color: var(--xr-background-color) !important;\n",
       "  padding-bottom: 5px !important;\n",
       "}\n",
       "\n",
       ".xr-var-attrs-in:checked ~ .xr-var-attrs,\n",
       ".xr-var-data-in:checked ~ .xr-var-data {\n",
       "  display: block;\n",
       "}\n",
       "\n",
       ".xr-var-data > table {\n",
       "  float: right;\n",
       "}\n",
       "\n",
       ".xr-var-name span,\n",
       ".xr-var-data,\n",
       ".xr-attrs {\n",
       "  padding-left: 25px !important;\n",
       "}\n",
       "\n",
       ".xr-attrs,\n",
       ".xr-var-attrs,\n",
       ".xr-var-data {\n",
       "  grid-column: 1 / -1;\n",
       "}\n",
       "\n",
       "dl.xr-attrs {\n",
       "  padding: 0;\n",
       "  margin: 0;\n",
       "  display: grid;\n",
       "  grid-template-columns: 125px auto;\n",
       "}\n",
       "\n",
       ".xr-attrs dt,\n",
       ".xr-attrs dd {\n",
       "  padding: 0;\n",
       "  margin: 0;\n",
       "  float: left;\n",
       "  padding-right: 10px;\n",
       "  width: auto;\n",
       "}\n",
       "\n",
       ".xr-attrs dt {\n",
       "  font-weight: normal;\n",
       "  grid-column: 1;\n",
       "}\n",
       "\n",
       ".xr-attrs dt:hover span {\n",
       "  display: inline-block;\n",
       "  background: var(--xr-background-color);\n",
       "  padding-right: 10px;\n",
       "}\n",
       "\n",
       ".xr-attrs dd {\n",
       "  grid-column: 2;\n",
       "  white-space: pre-wrap;\n",
       "  word-break: break-all;\n",
       "}\n",
       "\n",
       ".xr-icon-database,\n",
       ".xr-icon-file-text2 {\n",
       "  display: inline-block;\n",
       "  vertical-align: middle;\n",
       "  width: 1em;\n",
       "  height: 1.5em !important;\n",
       "  stroke-width: 0;\n",
       "  stroke: currentColor;\n",
       "  fill: currentColor;\n",
       "}\n",
       "</style><pre class='xr-text-repr-fallback'>&lt;xarray.Dataset&gt;\n",
       "Dimensions:   (lat: 84, lon: 188, day: 1148)\n",
       "Coordinates:\n",
       "  * lat       (lat) float64 48.98 48.94 48.9 48.86 ... 45.65 45.61 45.57 45.53\n",
       "  * lon       (lon) float64 -124.7 -124.7 -124.6 -124.6 ... -117.0 -117.0 -116.9\n",
       "  * day       (day) datetime64[ns] 1999-12-31 2000-01-10 ... 2021-12-26\n",
       "Data variables:\n",
       "    spi_1y    (day, lat, lon) float32 ...\n",
       "    spi_2y    (day, lat, lon) float32 ...\n",
       "    spi_5y    (day, lat, lon) float32 ...\n",
       "    spi_14d   (day, lat, lon) float32 ...\n",
       "    spi_30d   (day, lat, lon) float32 ...\n",
       "    spi_90d   (day, lat, lon) float32 ...\n",
       "    spi_180d  (day, lat, lon) float32 ...\n",
       "    spi_270d  (day, lat, lon) float32 ...\n",
       "Attributes:\n",
       "    author:       a. stein, 4/28/2022\n",
       "    description:  Standardized Precipitation Index (SPI) gathered from variou...\n",
       "    clipping:     Clipped to Washington state using http://eric.clst.org/asse...</pre><div class='xr-wrap' style='display:none'><div class='xr-header'><div class='xr-obj-type'>xarray.Dataset</div></div><ul class='xr-sections'><li class='xr-section-item'><input id='section-b8b1c14b-6539-4a8c-8673-c6ccd55547be' class='xr-section-summary-in' type='checkbox' disabled ><label for='section-b8b1c14b-6539-4a8c-8673-c6ccd55547be' class='xr-section-summary'  title='Expand/collapse section'>Dimensions:</label><div class='xr-section-inline-details'><ul class='xr-dim-list'><li><span class='xr-has-index'>lat</span>: 84</li><li><span class='xr-has-index'>lon</span>: 188</li><li><span class='xr-has-index'>day</span>: 1148</li></ul></div><div class='xr-section-details'></div></li><li class='xr-section-item'><input id='section-e40c74f2-7db1-4154-8859-bf8e40d5b579' class='xr-section-summary-in' type='checkbox'  checked><label for='section-e40c74f2-7db1-4154-8859-bf8e40d5b579' class='xr-section-summary' >Coordinates: <span>(3)</span></label><div class='xr-section-inline-details'></div><div class='xr-section-details'><ul class='xr-var-list'><li class='xr-var-item'><div class='xr-var-name'><span class='xr-has-index'>lat</span></div><div class='xr-var-dims'>(lat)</div><div class='xr-var-dtype'>float64</div><div class='xr-var-preview xr-preview'>48.98 48.94 48.9 ... 45.57 45.53</div><input id='attrs-2faadc43-9959-4846-85e9-6570d76c1fac' class='xr-var-attrs-in' type='checkbox' ><label for='attrs-2faadc43-9959-4846-85e9-6570d76c1fac' title='Show/Hide attributes'><svg class='icon xr-icon-file-text2'><use xlink:href='#icon-file-text2'></use></svg></label><input id='data-12746d91-d62a-47b8-b046-6a09fafed922' class='xr-var-data-in' type='checkbox'><label for='data-12746d91-d62a-47b8-b046-6a09fafed922' title='Show/Hide data repr'><svg class='icon xr-icon-database'><use xlink:href='#icon-database'></use></svg></label><div class='xr-var-attrs'><dl class='xr-attrs'><dt><span>units :</span></dt><dd>degrees_north</dd><dt><span>description :</span></dt><dd>latitude</dd><dt><span>long_name :</span></dt><dd>latitude</dd><dt><span>standard_name :</span></dt><dd>latitude</dd><dt><span>axis :</span></dt><dd>Y</dd></dl></div><div class='xr-var-data'><pre>array([48.983333, 48.941667, 48.9     , 48.858333, 48.816667, 48.775   ,\n",
       "       48.733333, 48.691667, 48.65    , 48.608333, 48.566667, 48.525   ,\n",
       "       48.483333, 48.441667, 48.4     , 48.358333, 48.316667, 48.275   ,\n",
       "       48.233333, 48.191667, 48.15    , 48.108333, 48.066667, 48.025   ,\n",
       "       47.983333, 47.941667, 47.9     , 47.858333, 47.816667, 47.775   ,\n",
       "       47.733333, 47.691667, 47.65    , 47.608333, 47.566667, 47.525   ,\n",
       "       47.483333, 47.441667, 47.4     , 47.358333, 47.316667, 47.275   ,\n",
       "       47.233333, 47.191667, 47.15    , 47.108333, 47.066667, 47.025   ,\n",
       "       46.983333, 46.941667, 46.9     , 46.858333, 46.816667, 46.775   ,\n",
       "       46.733333, 46.691667, 46.65    , 46.608333, 46.566667, 46.525   ,\n",
       "       46.483333, 46.441667, 46.4     , 46.358333, 46.316667, 46.275   ,\n",
       "       46.233333, 46.191667, 46.15    , 46.108333, 46.066667, 46.025   ,\n",
       "       45.983333, 45.941667, 45.9     , 45.858333, 45.816667, 45.775   ,\n",
       "       45.733333, 45.691667, 45.65    , 45.608333, 45.566667, 45.525   ])</pre></div></li><li class='xr-var-item'><div class='xr-var-name'><span class='xr-has-index'>lon</span></div><div class='xr-var-dims'>(lon)</div><div class='xr-var-dtype'>float64</div><div class='xr-var-preview xr-preview'>-124.7 -124.7 ... -117.0 -116.9</div><input id='attrs-29e7c33e-8194-4323-865e-7ff762f57b87' class='xr-var-attrs-in' type='checkbox' ><label for='attrs-29e7c33e-8194-4323-865e-7ff762f57b87' title='Show/Hide attributes'><svg class='icon xr-icon-file-text2'><use xlink:href='#icon-file-text2'></use></svg></label><input id='data-ac07e8d9-aaf6-42f6-a921-9a4680544c97' class='xr-var-data-in' type='checkbox'><label for='data-ac07e8d9-aaf6-42f6-a921-9a4680544c97' title='Show/Hide data repr'><svg class='icon xr-icon-database'><use xlink:href='#icon-database'></use></svg></label><div class='xr-var-attrs'><dl class='xr-attrs'><dt><span>units :</span></dt><dd>degrees_east</dd><dt><span>description :</span></dt><dd>longitude</dd><dt><span>long_name :</span></dt><dd>longitude</dd><dt><span>standard_name :</span></dt><dd>longitude</dd><dt><span>axis :</span></dt><dd>X</dd></dl></div><div class='xr-var-data'><pre>array([-124.725   , -124.683333, -124.641667, -124.6     , -124.558333,\n",
       "       -124.516667, -124.475   , -124.433333, -124.391667, -124.35    ,\n",
       "       -124.308333, -124.266667, -124.225   , -124.183333, -124.141667,\n",
       "       -124.1     , -124.058333, -124.016667, -123.975   , -123.933333,\n",
       "       -123.891667, -123.85    , -123.808333, -123.766667, -123.725   ,\n",
       "       -123.683333, -123.641667, -123.6     , -123.558333, -123.516667,\n",
       "       -123.475   , -123.433333, -123.391667, -123.35    , -123.308333,\n",
       "       -123.266667, -123.225   , -123.183333, -123.141667, -123.1     ,\n",
       "       -123.058333, -123.016667, -122.975   , -122.933333, -122.891667,\n",
       "       -122.85    , -122.808333, -122.766667, -122.725   , -122.683333,\n",
       "       -122.641667, -122.6     , -122.558333, -122.516667, -122.475   ,\n",
       "       -122.433333, -122.391667, -122.35    , -122.308333, -122.266667,\n",
       "       -122.225   , -122.183333, -122.141667, -122.1     , -122.058333,\n",
       "       -122.016667, -121.975   , -121.933333, -121.891667, -121.85    ,\n",
       "       -121.808333, -121.766667, -121.725   , -121.683333, -121.641667,\n",
       "       -121.6     , -121.558333, -121.516667, -121.475   , -121.433333,\n",
       "       -121.391667, -121.35    , -121.308333, -121.266667, -121.225   ,\n",
       "       -121.183333, -121.141667, -121.1     , -121.058333, -121.016667,\n",
       "       -120.975   , -120.933333, -120.891667, -120.85    , -120.808333,\n",
       "       -120.766667, -120.725   , -120.683333, -120.641667, -120.6     ,\n",
       "       -120.558333, -120.516667, -120.475   , -120.433333, -120.391667,\n",
       "       -120.35    , -120.308333, -120.266667, -120.225   , -120.183333,\n",
       "       -120.141667, -120.1     , -120.058333, -120.016667, -119.975   ,\n",
       "       -119.933333, -119.891667, -119.85    , -119.808333, -119.766667,\n",
       "       -119.725   , -119.683333, -119.641667, -119.6     , -119.558333,\n",
       "       -119.516667, -119.475   , -119.433333, -119.391667, -119.35    ,\n",
       "       -119.308333, -119.266667, -119.225   , -119.183333, -119.141667,\n",
       "       -119.1     , -119.058333, -119.016667, -118.975   , -118.933333,\n",
       "       -118.891667, -118.85    , -118.808333, -118.766667, -118.725   ,\n",
       "       -118.683333, -118.641667, -118.6     , -118.558333, -118.516667,\n",
       "       -118.475   , -118.433333, -118.391667, -118.35    , -118.308333,\n",
       "       -118.266667, -118.225   , -118.183333, -118.141667, -118.1     ,\n",
       "       -118.058333, -118.016667, -117.975   , -117.933333, -117.891667,\n",
       "       -117.85    , -117.808333, -117.766667, -117.725   , -117.683333,\n",
       "       -117.641667, -117.6     , -117.558333, -117.516667, -117.475   ,\n",
       "       -117.433333, -117.391667, -117.35    , -117.308333, -117.266667,\n",
       "       -117.225   , -117.183333, -117.141667, -117.1     , -117.058333,\n",
       "       -117.016667, -116.975   , -116.933333])</pre></div></li><li class='xr-var-item'><div class='xr-var-name'><span class='xr-has-index'>day</span></div><div class='xr-var-dims'>(day)</div><div class='xr-var-dtype'>datetime64[ns]</div><div class='xr-var-preview xr-preview'>1999-12-31 ... 2021-12-26</div><input id='attrs-5f681d01-f1c6-44b7-8dd0-20fd3d8061de' class='xr-var-attrs-in' type='checkbox' ><label for='attrs-5f681d01-f1c6-44b7-8dd0-20fd3d8061de' title='Show/Hide attributes'><svg class='icon xr-icon-file-text2'><use xlink:href='#icon-file-text2'></use></svg></label><input id='data-205cc8c4-2e01-447e-b519-0d39e0795057' class='xr-var-data-in' type='checkbox'><label for='data-205cc8c4-2e01-447e-b519-0d39e0795057' title='Show/Hide data repr'><svg class='icon xr-icon-database'><use xlink:href='#icon-database'></use></svg></label><div class='xr-var-attrs'><dl class='xr-attrs'><dt><span>description :</span></dt><dd>days since 1900-01-01</dd><dt><span>long_name :</span></dt><dd>time</dd><dt><span>standard_name :</span></dt><dd>time</dd></dl></div><div class='xr-var-data'><pre>array([&#x27;1999-12-31T00:00:00.000000000&#x27;, &#x27;2000-01-10T00:00:00.000000000&#x27;,\n",
       "       &#x27;2000-01-15T00:00:00.000000000&#x27;, ..., &#x27;2021-12-11T00:00:00.000000000&#x27;,\n",
       "       &#x27;2021-12-21T00:00:00.000000000&#x27;, &#x27;2021-12-26T00:00:00.000000000&#x27;],\n",
       "      dtype=&#x27;datetime64[ns]&#x27;)</pre></div></li></ul></div></li><li class='xr-section-item'><input id='section-53797b45-4386-434e-9fd2-98c957cae29d' class='xr-section-summary-in' type='checkbox'  checked><label for='section-53797b45-4386-434e-9fd2-98c957cae29d' class='xr-section-summary' >Data variables: <span>(8)</span></label><div class='xr-section-inline-details'></div><div class='xr-section-details'><ul class='xr-var-list'><li class='xr-var-item'><div class='xr-var-name'><span>spi_1y</span></div><div class='xr-var-dims'>(day, lat, lon)</div><div class='xr-var-dtype'>float32</div><div class='xr-var-preview xr-preview'>...</div><input id='attrs-cfb23e32-88e3-4fb4-99cc-7dc520f4f670' class='xr-var-attrs-in' type='checkbox' ><label for='attrs-cfb23e32-88e3-4fb4-99cc-7dc520f4f670' title='Show/Hide attributes'><svg class='icon xr-icon-file-text2'><use xlink:href='#icon-file-text2'></use></svg></label><input id='data-ca71889e-3af1-4587-bcb6-6dd8df4804db' class='xr-var-data-in' type='checkbox'><label for='data-ca71889e-3af1-4587-bcb6-6dd8df4804db' title='Show/Hide data repr'><svg class='icon xr-icon-database'><use xlink:href='#icon-database'></use></svg></label><div class='xr-var-attrs'><dl class='xr-attrs'><dt><span>units :</span></dt><dd></dd><dt><span>description :</span></dt><dd>Standardized Precipitation Index</dd><dt><span>long_name :</span></dt><dd>spi1y</dd><dt><span>standard_name :</span></dt><dd>spi1y</dd><dt><span>dimensions :</span></dt><dd>lon lat time</dd><dt><span>coordinate_system :</span></dt><dd>WGS84,EPSG:4326</dd><dt><span>Clipping :</span></dt><dd>original data was clipped to Washington using http://eric.clst.org/assets/wiki/uploads/Stuff/gz_2010_us_040_00_5m.json</dd><dt><span>grid_mapping :</span></dt><dd>crs</dd></dl></div><div class='xr-var-data'><pre>[18129216 values with dtype=float32]</pre></div></li><li class='xr-var-item'><div class='xr-var-name'><span>spi_2y</span></div><div class='xr-var-dims'>(day, lat, lon)</div><div class='xr-var-dtype'>float32</div><div class='xr-var-preview xr-preview'>...</div><input id='attrs-7d30af21-b41e-43df-a85d-d1c76e0f0532' class='xr-var-attrs-in' type='checkbox' ><label for='attrs-7d30af21-b41e-43df-a85d-d1c76e0f0532' title='Show/Hide attributes'><svg class='icon xr-icon-file-text2'><use xlink:href='#icon-file-text2'></use></svg></label><input id='data-7aa7f879-8383-4852-9b43-d35465f04eeb' class='xr-var-data-in' type='checkbox'><label for='data-7aa7f879-8383-4852-9b43-d35465f04eeb' title='Show/Hide data repr'><svg class='icon xr-icon-database'><use xlink:href='#icon-database'></use></svg></label><div class='xr-var-attrs'><dl class='xr-attrs'><dt><span>units :</span></dt><dd></dd><dt><span>description :</span></dt><dd>Standardized Precipitation Index</dd><dt><span>long_name :</span></dt><dd>spi2y</dd><dt><span>standard_name :</span></dt><dd>spi2y</dd><dt><span>dimensions :</span></dt><dd>lon lat time</dd><dt><span>coordinate_system :</span></dt><dd>WGS84,EPSG:4326</dd><dt><span>Clipping :</span></dt><dd>original data was clipped to Washington using http://eric.clst.org/assets/wiki/uploads/Stuff/gz_2010_us_040_00_5m.json</dd></dl></div><div class='xr-var-data'><pre>[18129216 values with dtype=float32]</pre></div></li><li class='xr-var-item'><div class='xr-var-name'><span>spi_5y</span></div><div class='xr-var-dims'>(day, lat, lon)</div><div class='xr-var-dtype'>float32</div><div class='xr-var-preview xr-preview'>...</div><input id='attrs-811db0e1-35e9-4291-b299-872d7f87a174' class='xr-var-attrs-in' type='checkbox' ><label for='attrs-811db0e1-35e9-4291-b299-872d7f87a174' title='Show/Hide attributes'><svg class='icon xr-icon-file-text2'><use xlink:href='#icon-file-text2'></use></svg></label><input id='data-5e9ab469-3d0b-4bba-a450-9c265c8f5c4b' class='xr-var-data-in' type='checkbox'><label for='data-5e9ab469-3d0b-4bba-a450-9c265c8f5c4b' title='Show/Hide data repr'><svg class='icon xr-icon-database'><use xlink:href='#icon-database'></use></svg></label><div class='xr-var-attrs'><dl class='xr-attrs'><dt><span>units :</span></dt><dd></dd><dt><span>description :</span></dt><dd>Standardized Precipitation Index</dd><dt><span>long_name :</span></dt><dd>spi5y</dd><dt><span>standard_name :</span></dt><dd>spi5y</dd><dt><span>dimensions :</span></dt><dd>lon lat time</dd><dt><span>coordinate_system :</span></dt><dd>WGS84,EPSG:4326</dd><dt><span>Clipping :</span></dt><dd>original data was clipped to Washington using http://eric.clst.org/assets/wiki/uploads/Stuff/gz_2010_us_040_00_5m.json</dd></dl></div><div class='xr-var-data'><pre>[18129216 values with dtype=float32]</pre></div></li><li class='xr-var-item'><div class='xr-var-name'><span>spi_14d</span></div><div class='xr-var-dims'>(day, lat, lon)</div><div class='xr-var-dtype'>float32</div><div class='xr-var-preview xr-preview'>...</div><input id='attrs-87818694-b3ab-4d84-a30c-88d33c452eb5' class='xr-var-attrs-in' type='checkbox' ><label for='attrs-87818694-b3ab-4d84-a30c-88d33c452eb5' title='Show/Hide attributes'><svg class='icon xr-icon-file-text2'><use xlink:href='#icon-file-text2'></use></svg></label><input id='data-9ecb9902-2e11-4bdf-b880-ec88adbeab47' class='xr-var-data-in' type='checkbox'><label for='data-9ecb9902-2e11-4bdf-b880-ec88adbeab47' title='Show/Hide data repr'><svg class='icon xr-icon-database'><use xlink:href='#icon-database'></use></svg></label><div class='xr-var-attrs'><dl class='xr-attrs'><dt><span>units :</span></dt><dd></dd><dt><span>description :</span></dt><dd>Standardized Precipitation Index</dd><dt><span>long_name :</span></dt><dd>spi14d</dd><dt><span>standard_name :</span></dt><dd>spi14d</dd><dt><span>dimensions :</span></dt><dd>lon lat time</dd><dt><span>coordinate_system :</span></dt><dd>WGS84,EPSG:4326</dd><dt><span>Clipping :</span></dt><dd>original data was clipped to Washington using http://eric.clst.org/assets/wiki/uploads/Stuff/gz_2010_us_040_00_5m.json</dd></dl></div><div class='xr-var-data'><pre>[18129216 values with dtype=float32]</pre></div></li><li class='xr-var-item'><div class='xr-var-name'><span>spi_30d</span></div><div class='xr-var-dims'>(day, lat, lon)</div><div class='xr-var-dtype'>float32</div><div class='xr-var-preview xr-preview'>...</div><input id='attrs-3220e0bc-d49a-4298-b45d-e2fb5e0c5c87' class='xr-var-attrs-in' type='checkbox' ><label for='attrs-3220e0bc-d49a-4298-b45d-e2fb5e0c5c87' title='Show/Hide attributes'><svg class='icon xr-icon-file-text2'><use xlink:href='#icon-file-text2'></use></svg></label><input id='data-9b833868-abbc-4ac5-9aa4-88d28752213f' class='xr-var-data-in' type='checkbox'><label for='data-9b833868-abbc-4ac5-9aa4-88d28752213f' title='Show/Hide data repr'><svg class='icon xr-icon-database'><use xlink:href='#icon-database'></use></svg></label><div class='xr-var-attrs'><dl class='xr-attrs'><dt><span>units :</span></dt><dd></dd><dt><span>description :</span></dt><dd>Standardized Precipitation Index</dd><dt><span>long_name :</span></dt><dd>spi30d</dd><dt><span>standard_name :</span></dt><dd>spi30d</dd><dt><span>dimensions :</span></dt><dd>lon lat time</dd><dt><span>coordinate_system :</span></dt><dd>WGS84,EPSG:4326</dd><dt><span>Clipping :</span></dt><dd>original data was clipped to Washington using http://eric.clst.org/assets/wiki/uploads/Stuff/gz_2010_us_040_00_5m.json</dd></dl></div><div class='xr-var-data'><pre>[18129216 values with dtype=float32]</pre></div></li><li class='xr-var-item'><div class='xr-var-name'><span>spi_90d</span></div><div class='xr-var-dims'>(day, lat, lon)</div><div class='xr-var-dtype'>float32</div><div class='xr-var-preview xr-preview'>...</div><input id='attrs-d639f9cd-75a1-428f-9cbd-b2ed5bf4233b' class='xr-var-attrs-in' type='checkbox' ><label for='attrs-d639f9cd-75a1-428f-9cbd-b2ed5bf4233b' title='Show/Hide attributes'><svg class='icon xr-icon-file-text2'><use xlink:href='#icon-file-text2'></use></svg></label><input id='data-43a3f328-b3ab-491c-ac8d-b0f3cd24fbed' class='xr-var-data-in' type='checkbox'><label for='data-43a3f328-b3ab-491c-ac8d-b0f3cd24fbed' title='Show/Hide data repr'><svg class='icon xr-icon-database'><use xlink:href='#icon-database'></use></svg></label><div class='xr-var-attrs'><dl class='xr-attrs'><dt><span>units :</span></dt><dd></dd><dt><span>description :</span></dt><dd>Standardized Precipitation Index</dd><dt><span>long_name :</span></dt><dd>spi90d</dd><dt><span>standard_name :</span></dt><dd>spi90d</dd><dt><span>dimensions :</span></dt><dd>lon lat time</dd><dt><span>coordinate_system :</span></dt><dd>WGS84,EPSG:4326</dd><dt><span>Clipping :</span></dt><dd>original data was clipped to Washington using http://eric.clst.org/assets/wiki/uploads/Stuff/gz_2010_us_040_00_5m.json</dd></dl></div><div class='xr-var-data'><pre>[18129216 values with dtype=float32]</pre></div></li><li class='xr-var-item'><div class='xr-var-name'><span>spi_180d</span></div><div class='xr-var-dims'>(day, lat, lon)</div><div class='xr-var-dtype'>float32</div><div class='xr-var-preview xr-preview'>...</div><input id='attrs-295d20ea-3c39-4460-9428-dac965e16597' class='xr-var-attrs-in' type='checkbox' ><label for='attrs-295d20ea-3c39-4460-9428-dac965e16597' title='Show/Hide attributes'><svg class='icon xr-icon-file-text2'><use xlink:href='#icon-file-text2'></use></svg></label><input id='data-b964b4c4-5d9b-4e85-a726-e5b1907b7c1d' class='xr-var-data-in' type='checkbox'><label for='data-b964b4c4-5d9b-4e85-a726-e5b1907b7c1d' title='Show/Hide data repr'><svg class='icon xr-icon-database'><use xlink:href='#icon-database'></use></svg></label><div class='xr-var-attrs'><dl class='xr-attrs'><dt><span>units :</span></dt><dd></dd><dt><span>description :</span></dt><dd>Standardized Precipitation Index</dd><dt><span>long_name :</span></dt><dd>spi180d</dd><dt><span>standard_name :</span></dt><dd>spi180d</dd><dt><span>dimensions :</span></dt><dd>lon lat time</dd><dt><span>coordinate_system :</span></dt><dd>WGS84,EPSG:4326</dd><dt><span>Clipping :</span></dt><dd>original data was clipped to Washington using http://eric.clst.org/assets/wiki/uploads/Stuff/gz_2010_us_040_00_5m.json</dd></dl></div><div class='xr-var-data'><pre>[18129216 values with dtype=float32]</pre></div></li><li class='xr-var-item'><div class='xr-var-name'><span>spi_270d</span></div><div class='xr-var-dims'>(day, lat, lon)</div><div class='xr-var-dtype'>float32</div><div class='xr-var-preview xr-preview'>...</div><input id='attrs-1639ee28-f6ca-4a91-a6a1-83a26f5185c3' class='xr-var-attrs-in' type='checkbox' ><label for='attrs-1639ee28-f6ca-4a91-a6a1-83a26f5185c3' title='Show/Hide attributes'><svg class='icon xr-icon-file-text2'><use xlink:href='#icon-file-text2'></use></svg></label><input id='data-f1fff2dd-c0f7-40e6-b662-817c274c1301' class='xr-var-data-in' type='checkbox'><label for='data-f1fff2dd-c0f7-40e6-b662-817c274c1301' title='Show/Hide data repr'><svg class='icon xr-icon-database'><use xlink:href='#icon-database'></use></svg></label><div class='xr-var-attrs'><dl class='xr-attrs'><dt><span>units :</span></dt><dd></dd><dt><span>description :</span></dt><dd>Standardized Precipitation Index</dd><dt><span>long_name :</span></dt><dd>spi270d</dd><dt><span>standard_name :</span></dt><dd>spi270d</dd><dt><span>dimensions :</span></dt><dd>lon lat time</dd><dt><span>coordinate_system :</span></dt><dd>WGS84,EPSG:4326</dd><dt><span>Clipping :</span></dt><dd>original data was clipped to Washington using http://eric.clst.org/assets/wiki/uploads/Stuff/gz_2010_us_040_00_5m.json</dd></dl></div><div class='xr-var-data'><pre>[18129216 values with dtype=float32]</pre></div></li></ul></div></li><li class='xr-section-item'><input id='section-2fdc652a-c05f-4939-bd89-57c09e719723' class='xr-section-summary-in' type='checkbox'  checked><label for='section-2fdc652a-c05f-4939-bd89-57c09e719723' class='xr-section-summary' >Attributes: <span>(3)</span></label><div class='xr-section-inline-details'></div><div class='xr-section-details'><dl class='xr-attrs'><dt><span>author :</span></dt><dd>a. stein, 4/28/2022</dd><dt><span>description :</span></dt><dd>Standardized Precipitation Index (SPI) gathered from various time windows, (specified by the value following the underscore), categorized into USDM categories ndrought.compare.spi_to_usdmcat function.</dd><dt><span>clipping :</span></dt><dd>Clipped to Washington state using http://eric.clst.org/assets/wiki/uploads/Stuff/gz_2010_us_040_00_5m.json</dd></dl></div></li></ul></div></div>"
      ],
      "text/plain": [
       "<xarray.Dataset>\n",
       "Dimensions:   (lat: 84, lon: 188, day: 1148)\n",
       "Coordinates:\n",
       "  * lat       (lat) float64 48.98 48.94 48.9 48.86 ... 45.65 45.61 45.57 45.53\n",
       "  * lon       (lon) float64 -124.7 -124.7 -124.6 -124.6 ... -117.0 -117.0 -116.9\n",
       "  * day       (day) datetime64[ns] 1999-12-31 2000-01-10 ... 2021-12-26\n",
       "Data variables:\n",
       "    spi_1y    (day, lat, lon) float32 ...\n",
       "    spi_2y    (day, lat, lon) float32 ...\n",
       "    spi_5y    (day, lat, lon) float32 ...\n",
       "    spi_14d   (day, lat, lon) float32 ...\n",
       "    spi_30d   (day, lat, lon) float32 ...\n",
       "    spi_90d   (day, lat, lon) float32 ...\n",
       "    spi_180d  (day, lat, lon) float32 ...\n",
       "    spi_270d  (day, lat, lon) float32 ...\n",
       "Attributes:\n",
       "    author:       a. stein, 4/28/2022\n",
       "    description:  Standardized Precipitation Index (SPI) gathered from variou...\n",
       "    clipping:     Clipped to Washington state using http://eric.clst.org/asse..."
      ]
     },
     "execution_count": 9,
     "metadata": {},
     "output_type": "execute_result"
    }
   ],
   "source": [
    "spi_cat"
   ]
  },
  {
   "cell_type": "code",
   "execution_count": 10,
   "metadata": {},
   "outputs": [
    {
     "name": "stdout",
     "output_type": "stream",
     "text": [
      "DX (OG) (CAT)\n",
      "14d\n",
      "D0 29.72 25.75\n",
      "D1 20.87 18.45\n",
      "D2 6.89 6.73\n",
      "D3 4.36 4.39\n",
      "D4 2.03 2.20\n",
      "\n",
      "30d\n",
      "D0 31.55 28.09\n",
      "D1 23.25 21.08\n",
      "D2 8.99 8.45\n",
      "D3 6.09 5.79\n",
      "D4 3.23 3.18\n",
      "\n",
      "90d\n",
      "D0 31.34 28.77\n",
      "D1 23.21 22.01\n",
      "D2 9.59 10.16\n",
      "D3 6.79 7.54\n",
      "D4 3.95 4.67\n",
      "\n",
      "180d\n",
      "D0 31.05 28.80\n",
      "D1 22.87 22.04\n",
      "D2 9.10 9.53\n",
      "D3 6.32 6.90\n",
      "D4 3.52 4.11\n",
      "\n",
      "270d\n",
      "D0 30.53 27.56\n",
      "D1 22.44 20.71\n",
      "D2 8.77 8.91\n",
      "D3 6.02 6.47\n",
      "D4 3.25 3.87\n",
      "\n",
      "1y\n",
      "D0 30.15 27.03\n",
      "D1 22.10 20.01\n",
      "D2 8.66 8.57\n",
      "D3 5.96 6.36\n",
      "D4 3.22 3.95\n",
      "\n",
      "2y\n",
      "D0 30.20 26.34\n",
      "D1 21.94 19.30\n",
      "D2 8.49 7.92\n",
      "D3 5.83 5.57\n",
      "D4 3.15 3.10\n",
      "\n",
      "5y\n",
      "D0 29.61 21.26\n",
      "D1 21.44 14.87\n",
      "D2 8.03 6.18\n",
      "D3 5.37 4.54\n",
      "D4 2.71 2.52\n",
      "\n"
     ]
    }
   ],
   "source": [
    "print('DX (OG) (CAT)')\n",
    "\n",
    "for spi_int in spi_intervals:\n",
    "    print(spi_int)\n",
    "    tot_cat = len(spi_cat[f\"spi_{spi_int}\"].values.ravel())\n",
    "    tot_og = len(spi_cdfs[spi_int][0])\n",
    "    for threshold_cat, threshold_q, cat in zip([0, 1, 2, 3, 4], [-0.5, -0.8, -1.3, -1.6, -2.0], ['D0', 'D1', 'D2', 'D3', 'D4']):\n",
    "        cat_q = 100*len(np.where(spi_cat[f\"spi_{spi_int}\"].values.ravel() >= threshold_cat)[0])/tot_cat\n",
    "        og_q = 100*len(np.where(spi_cdfs[spi_int][0] <= threshold_q)[0])/tot_og\n",
    "        print(f'{cat} {og_q:.2f} {cat_q:.2f}')\n",
    "    print()"
   ]
  },
  {
   "cell_type": "markdown",
   "metadata": {},
   "source": [
    "So there are some differences between the two, but still not nearly as large of a jump as to create what is happening in the stacked plots."
   ]
  },
  {
   "cell_type": "code",
   "execution_count": 11,
   "metadata": {},
   "outputs": [],
   "source": [
    "caf_ds = xr.open_dataset(f'{dm_path}/ndrought_products/paired_USDM_SPI_caf.nc')"
   ]
  },
  {
   "cell_type": "code",
   "execution_count": 12,
   "metadata": {},
   "outputs": [
    {
     "data": {
      "text/html": [
       "<div><svg style=\"position: absolute; width: 0; height: 0; overflow: hidden\">\n",
       "<defs>\n",
       "<symbol id=\"icon-database\" viewBox=\"0 0 32 32\">\n",
       "<path d=\"M16 0c-8.837 0-16 2.239-16 5v4c0 2.761 7.163 5 16 5s16-2.239 16-5v-4c0-2.761-7.163-5-16-5z\"></path>\n",
       "<path d=\"M16 17c-8.837 0-16-2.239-16-5v6c0 2.761 7.163 5 16 5s16-2.239 16-5v-6c0 2.761-7.163 5-16 5z\"></path>\n",
       "<path d=\"M16 26c-8.837 0-16-2.239-16-5v6c0 2.761 7.163 5 16 5s16-2.239 16-5v-6c0 2.761-7.163 5-16 5z\"></path>\n",
       "</symbol>\n",
       "<symbol id=\"icon-file-text2\" viewBox=\"0 0 32 32\">\n",
       "<path d=\"M28.681 7.159c-0.694-0.947-1.662-2.053-2.724-3.116s-2.169-2.030-3.116-2.724c-1.612-1.182-2.393-1.319-2.841-1.319h-15.5c-1.378 0-2.5 1.121-2.5 2.5v27c0 1.378 1.122 2.5 2.5 2.5h23c1.378 0 2.5-1.122 2.5-2.5v-19.5c0-0.448-0.137-1.23-1.319-2.841zM24.543 5.457c0.959 0.959 1.712 1.825 2.268 2.543h-4.811v-4.811c0.718 0.556 1.584 1.309 2.543 2.268zM28 29.5c0 0.271-0.229 0.5-0.5 0.5h-23c-0.271 0-0.5-0.229-0.5-0.5v-27c0-0.271 0.229-0.5 0.5-0.5 0 0 15.499-0 15.5 0v7c0 0.552 0.448 1 1 1h7v19.5z\"></path>\n",
       "<path d=\"M23 26h-14c-0.552 0-1-0.448-1-1s0.448-1 1-1h14c0.552 0 1 0.448 1 1s-0.448 1-1 1z\"></path>\n",
       "<path d=\"M23 22h-14c-0.552 0-1-0.448-1-1s0.448-1 1-1h14c0.552 0 1 0.448 1 1s-0.448 1-1 1z\"></path>\n",
       "<path d=\"M23 18h-14c-0.552 0-1-0.448-1-1s0.448-1 1-1h14c0.552 0 1 0.448 1 1s-0.448 1-1 1z\"></path>\n",
       "</symbol>\n",
       "</defs>\n",
       "</svg>\n",
       "<style>/* CSS stylesheet for displaying xarray objects in jupyterlab.\n",
       " *\n",
       " */\n",
       "\n",
       ":root {\n",
       "  --xr-font-color0: var(--jp-content-font-color0, rgba(0, 0, 0, 1));\n",
       "  --xr-font-color2: var(--jp-content-font-color2, rgba(0, 0, 0, 0.54));\n",
       "  --xr-font-color3: var(--jp-content-font-color3, rgba(0, 0, 0, 0.38));\n",
       "  --xr-border-color: var(--jp-border-color2, #e0e0e0);\n",
       "  --xr-disabled-color: var(--jp-layout-color3, #bdbdbd);\n",
       "  --xr-background-color: var(--jp-layout-color0, white);\n",
       "  --xr-background-color-row-even: var(--jp-layout-color1, white);\n",
       "  --xr-background-color-row-odd: var(--jp-layout-color2, #eeeeee);\n",
       "}\n",
       "\n",
       "html[theme=dark],\n",
       "body.vscode-dark {\n",
       "  --xr-font-color0: rgba(255, 255, 255, 1);\n",
       "  --xr-font-color2: rgba(255, 255, 255, 0.54);\n",
       "  --xr-font-color3: rgba(255, 255, 255, 0.38);\n",
       "  --xr-border-color: #1F1F1F;\n",
       "  --xr-disabled-color: #515151;\n",
       "  --xr-background-color: #111111;\n",
       "  --xr-background-color-row-even: #111111;\n",
       "  --xr-background-color-row-odd: #313131;\n",
       "}\n",
       "\n",
       ".xr-wrap {\n",
       "  display: block !important;\n",
       "  min-width: 300px;\n",
       "  max-width: 700px;\n",
       "}\n",
       "\n",
       ".xr-text-repr-fallback {\n",
       "  /* fallback to plain text repr when CSS is not injected (untrusted notebook) */\n",
       "  display: none;\n",
       "}\n",
       "\n",
       ".xr-header {\n",
       "  padding-top: 6px;\n",
       "  padding-bottom: 6px;\n",
       "  margin-bottom: 4px;\n",
       "  border-bottom: solid 1px var(--xr-border-color);\n",
       "}\n",
       "\n",
       ".xr-header > div,\n",
       ".xr-header > ul {\n",
       "  display: inline;\n",
       "  margin-top: 0;\n",
       "  margin-bottom: 0;\n",
       "}\n",
       "\n",
       ".xr-obj-type,\n",
       ".xr-array-name {\n",
       "  margin-left: 2px;\n",
       "  margin-right: 10px;\n",
       "}\n",
       "\n",
       ".xr-obj-type {\n",
       "  color: var(--xr-font-color2);\n",
       "}\n",
       "\n",
       ".xr-sections {\n",
       "  padding-left: 0 !important;\n",
       "  display: grid;\n",
       "  grid-template-columns: 150px auto auto 1fr 20px 20px;\n",
       "}\n",
       "\n",
       ".xr-section-item {\n",
       "  display: contents;\n",
       "}\n",
       "\n",
       ".xr-section-item input {\n",
       "  display: none;\n",
       "}\n",
       "\n",
       ".xr-section-item input + label {\n",
       "  color: var(--xr-disabled-color);\n",
       "}\n",
       "\n",
       ".xr-section-item input:enabled + label {\n",
       "  cursor: pointer;\n",
       "  color: var(--xr-font-color2);\n",
       "}\n",
       "\n",
       ".xr-section-item input:enabled + label:hover {\n",
       "  color: var(--xr-font-color0);\n",
       "}\n",
       "\n",
       ".xr-section-summary {\n",
       "  grid-column: 1;\n",
       "  color: var(--xr-font-color2);\n",
       "  font-weight: 500;\n",
       "}\n",
       "\n",
       ".xr-section-summary > span {\n",
       "  display: inline-block;\n",
       "  padding-left: 0.5em;\n",
       "}\n",
       "\n",
       ".xr-section-summary-in:disabled + label {\n",
       "  color: var(--xr-font-color2);\n",
       "}\n",
       "\n",
       ".xr-section-summary-in + label:before {\n",
       "  display: inline-block;\n",
       "  content: '►';\n",
       "  font-size: 11px;\n",
       "  width: 15px;\n",
       "  text-align: center;\n",
       "}\n",
       "\n",
       ".xr-section-summary-in:disabled + label:before {\n",
       "  color: var(--xr-disabled-color);\n",
       "}\n",
       "\n",
       ".xr-section-summary-in:checked + label:before {\n",
       "  content: '▼';\n",
       "}\n",
       "\n",
       ".xr-section-summary-in:checked + label > span {\n",
       "  display: none;\n",
       "}\n",
       "\n",
       ".xr-section-summary,\n",
       ".xr-section-inline-details {\n",
       "  padding-top: 4px;\n",
       "  padding-bottom: 4px;\n",
       "}\n",
       "\n",
       ".xr-section-inline-details {\n",
       "  grid-column: 2 / -1;\n",
       "}\n",
       "\n",
       ".xr-section-details {\n",
       "  display: none;\n",
       "  grid-column: 1 / -1;\n",
       "  margin-bottom: 5px;\n",
       "}\n",
       "\n",
       ".xr-section-summary-in:checked ~ .xr-section-details {\n",
       "  display: contents;\n",
       "}\n",
       "\n",
       ".xr-array-wrap {\n",
       "  grid-column: 1 / -1;\n",
       "  display: grid;\n",
       "  grid-template-columns: 20px auto;\n",
       "}\n",
       "\n",
       ".xr-array-wrap > label {\n",
       "  grid-column: 1;\n",
       "  vertical-align: top;\n",
       "}\n",
       "\n",
       ".xr-preview {\n",
       "  color: var(--xr-font-color3);\n",
       "}\n",
       "\n",
       ".xr-array-preview,\n",
       ".xr-array-data {\n",
       "  padding: 0 5px !important;\n",
       "  grid-column: 2;\n",
       "}\n",
       "\n",
       ".xr-array-data,\n",
       ".xr-array-in:checked ~ .xr-array-preview {\n",
       "  display: none;\n",
       "}\n",
       "\n",
       ".xr-array-in:checked ~ .xr-array-data,\n",
       ".xr-array-preview {\n",
       "  display: inline-block;\n",
       "}\n",
       "\n",
       ".xr-dim-list {\n",
       "  display: inline-block !important;\n",
       "  list-style: none;\n",
       "  padding: 0 !important;\n",
       "  margin: 0;\n",
       "}\n",
       "\n",
       ".xr-dim-list li {\n",
       "  display: inline-block;\n",
       "  padding: 0;\n",
       "  margin: 0;\n",
       "}\n",
       "\n",
       ".xr-dim-list:before {\n",
       "  content: '(';\n",
       "}\n",
       "\n",
       ".xr-dim-list:after {\n",
       "  content: ')';\n",
       "}\n",
       "\n",
       ".xr-dim-list li:not(:last-child):after {\n",
       "  content: ',';\n",
       "  padding-right: 5px;\n",
       "}\n",
       "\n",
       ".xr-has-index {\n",
       "  font-weight: bold;\n",
       "}\n",
       "\n",
       ".xr-var-list,\n",
       ".xr-var-item {\n",
       "  display: contents;\n",
       "}\n",
       "\n",
       ".xr-var-item > div,\n",
       ".xr-var-item label,\n",
       ".xr-var-item > .xr-var-name span {\n",
       "  background-color: var(--xr-background-color-row-even);\n",
       "  margin-bottom: 0;\n",
       "}\n",
       "\n",
       ".xr-var-item > .xr-var-name:hover span {\n",
       "  padding-right: 5px;\n",
       "}\n",
       "\n",
       ".xr-var-list > li:nth-child(odd) > div,\n",
       ".xr-var-list > li:nth-child(odd) > label,\n",
       ".xr-var-list > li:nth-child(odd) > .xr-var-name span {\n",
       "  background-color: var(--xr-background-color-row-odd);\n",
       "}\n",
       "\n",
       ".xr-var-name {\n",
       "  grid-column: 1;\n",
       "}\n",
       "\n",
       ".xr-var-dims {\n",
       "  grid-column: 2;\n",
       "}\n",
       "\n",
       ".xr-var-dtype {\n",
       "  grid-column: 3;\n",
       "  text-align: right;\n",
       "  color: var(--xr-font-color2);\n",
       "}\n",
       "\n",
       ".xr-var-preview {\n",
       "  grid-column: 4;\n",
       "}\n",
       "\n",
       ".xr-var-name,\n",
       ".xr-var-dims,\n",
       ".xr-var-dtype,\n",
       ".xr-preview,\n",
       ".xr-attrs dt {\n",
       "  white-space: nowrap;\n",
       "  overflow: hidden;\n",
       "  text-overflow: ellipsis;\n",
       "  padding-right: 10px;\n",
       "}\n",
       "\n",
       ".xr-var-name:hover,\n",
       ".xr-var-dims:hover,\n",
       ".xr-var-dtype:hover,\n",
       ".xr-attrs dt:hover {\n",
       "  overflow: visible;\n",
       "  width: auto;\n",
       "  z-index: 1;\n",
       "}\n",
       "\n",
       ".xr-var-attrs,\n",
       ".xr-var-data {\n",
       "  display: none;\n",
       "  background-color: var(--xr-background-color) !important;\n",
       "  padding-bottom: 5px !important;\n",
       "}\n",
       "\n",
       ".xr-var-attrs-in:checked ~ .xr-var-attrs,\n",
       ".xr-var-data-in:checked ~ .xr-var-data {\n",
       "  display: block;\n",
       "}\n",
       "\n",
       ".xr-var-data > table {\n",
       "  float: right;\n",
       "}\n",
       "\n",
       ".xr-var-name span,\n",
       ".xr-var-data,\n",
       ".xr-attrs {\n",
       "  padding-left: 25px !important;\n",
       "}\n",
       "\n",
       ".xr-attrs,\n",
       ".xr-var-attrs,\n",
       ".xr-var-data {\n",
       "  grid-column: 1 / -1;\n",
       "}\n",
       "\n",
       "dl.xr-attrs {\n",
       "  padding: 0;\n",
       "  margin: 0;\n",
       "  display: grid;\n",
       "  grid-template-columns: 125px auto;\n",
       "}\n",
       "\n",
       ".xr-attrs dt,\n",
       ".xr-attrs dd {\n",
       "  padding: 0;\n",
       "  margin: 0;\n",
       "  float: left;\n",
       "  padding-right: 10px;\n",
       "  width: auto;\n",
       "}\n",
       "\n",
       ".xr-attrs dt {\n",
       "  font-weight: normal;\n",
       "  grid-column: 1;\n",
       "}\n",
       "\n",
       ".xr-attrs dt:hover span {\n",
       "  display: inline-block;\n",
       "  background: var(--xr-background-color);\n",
       "  padding-right: 10px;\n",
       "}\n",
       "\n",
       ".xr-attrs dd {\n",
       "  grid-column: 2;\n",
       "  white-space: pre-wrap;\n",
       "  word-break: break-all;\n",
       "}\n",
       "\n",
       ".xr-icon-database,\n",
       ".xr-icon-file-text2 {\n",
       "  display: inline-block;\n",
       "  vertical-align: middle;\n",
       "  width: 1em;\n",
       "  height: 1.5em !important;\n",
       "  stroke-width: 0;\n",
       "  stroke: currentColor;\n",
       "  fill: currentColor;\n",
       "}\n",
       "</style><pre class='xr-text-repr-fallback'>&lt;xarray.Dataset&gt;\n",
       "Dimensions:               (index: 1148)\n",
       "Coordinates:\n",
       "  * index                 (index) int64 0 1 2 3 4 5 ... 1143 1144 1145 1146 1147\n",
       "Data variables: (12/56)\n",
       "    USDM_neutral_wet      (index) float64 1.0 1.0 1.0 ... 0.3866 0.3989 0.3994\n",
       "    USDM_D0               (index) float64 0.0 0.0 0.0 ... 0.04413 0.0394 0.03567\n",
       "    USDM_D1               (index) float64 0.0 0.0 0.0 ... 0.2084 0.2225 0.2451\n",
       "    USDM_D2               (index) float64 0.0 0.0 0.0 ... 0.2044 0.2265 0.216\n",
       "    USDM_D3               (index) float64 0.0 0.0 0.0 ... 0.1565 0.1127 0.1038\n",
       "    USDM_D4               (index) float64 0.0 0.0 0.0 0.0 ... 0.0 0.0 0.0 0.0\n",
       "    ...                    ...\n",
       "    spi_270d_D1           (index) float64 0.1769 0.1468 0.1102 ... 0.2603 0.2643\n",
       "    spi_270d_D2           (index) float64 0.02587 0.02994 ... 0.05173 0.0471\n",
       "    spi_270d_D3           (index) float64 0.04407 0.03912 ... 0.0768 0.05964\n",
       "    spi_270d_D4           (index) float64 0.1151 0.1023 ... 0.06522 0.06019\n",
       "    USDM Date             (index) datetime64[ns] 2000-01-04 ... 2021-12-28\n",
       "    SPI Date              (index) datetime64[ns] 1999-12-31 ... 2021-12-26\n",
       "Attributes:\n",
       "    description:  Fraction of total non-nan area that is in that USDM drought...</pre><div class='xr-wrap' style='display:none'><div class='xr-header'><div class='xr-obj-type'>xarray.Dataset</div></div><ul class='xr-sections'><li class='xr-section-item'><input id='section-6c96904c-afd8-466d-90d0-e3761929f3c7' class='xr-section-summary-in' type='checkbox' disabled ><label for='section-6c96904c-afd8-466d-90d0-e3761929f3c7' class='xr-section-summary'  title='Expand/collapse section'>Dimensions:</label><div class='xr-section-inline-details'><ul class='xr-dim-list'><li><span class='xr-has-index'>index</span>: 1148</li></ul></div><div class='xr-section-details'></div></li><li class='xr-section-item'><input id='section-5117ddeb-d639-4405-837c-0bd55d9621de' class='xr-section-summary-in' type='checkbox'  checked><label for='section-5117ddeb-d639-4405-837c-0bd55d9621de' class='xr-section-summary' >Coordinates: <span>(1)</span></label><div class='xr-section-inline-details'></div><div class='xr-section-details'><ul class='xr-var-list'><li class='xr-var-item'><div class='xr-var-name'><span class='xr-has-index'>index</span></div><div class='xr-var-dims'>(index)</div><div class='xr-var-dtype'>int64</div><div class='xr-var-preview xr-preview'>0 1 2 3 4 ... 1144 1145 1146 1147</div><input id='attrs-3d38ef2b-42c0-4fa6-91a0-e3bc24df7b6f' class='xr-var-attrs-in' type='checkbox' disabled><label for='attrs-3d38ef2b-42c0-4fa6-91a0-e3bc24df7b6f' title='Show/Hide attributes'><svg class='icon xr-icon-file-text2'><use xlink:href='#icon-file-text2'></use></svg></label><input id='data-f3e93a20-736e-4990-ab39-72f44620ffd7' class='xr-var-data-in' type='checkbox'><label for='data-f3e93a20-736e-4990-ab39-72f44620ffd7' title='Show/Hide data repr'><svg class='icon xr-icon-database'><use xlink:href='#icon-database'></use></svg></label><div class='xr-var-attrs'><dl class='xr-attrs'></dl></div><div class='xr-var-data'><pre>array([   0,    1,    2, ..., 1145, 1146, 1147])</pre></div></li></ul></div></li><li class='xr-section-item'><input id='section-3a46177a-b7fe-414f-acf8-41b75d6a330f' class='xr-section-summary-in' type='checkbox'  ><label for='section-3a46177a-b7fe-414f-acf8-41b75d6a330f' class='xr-section-summary' >Data variables: <span>(56)</span></label><div class='xr-section-inline-details'></div><div class='xr-section-details'><ul class='xr-var-list'><li class='xr-var-item'><div class='xr-var-name'><span>USDM_neutral_wet</span></div><div class='xr-var-dims'>(index)</div><div class='xr-var-dtype'>float64</div><div class='xr-var-preview xr-preview'>...</div><input id='attrs-ec6cb3fd-be51-4a81-8d69-eefed19f9fbc' class='xr-var-attrs-in' type='checkbox' disabled><label for='attrs-ec6cb3fd-be51-4a81-8d69-eefed19f9fbc' title='Show/Hide attributes'><svg class='icon xr-icon-file-text2'><use xlink:href='#icon-file-text2'></use></svg></label><input id='data-2b863b57-c3c6-4b35-a3c3-3253f74d135a' class='xr-var-data-in' type='checkbox'><label for='data-2b863b57-c3c6-4b35-a3c3-3253f74d135a' title='Show/Hide data repr'><svg class='icon xr-icon-database'><use xlink:href='#icon-database'></use></svg></label><div class='xr-var-attrs'><dl class='xr-attrs'></dl></div><div class='xr-var-data'><pre>array([1.      , 1.      , 1.      , ..., 0.386562, 0.398922, 0.399419])</pre></div></li><li class='xr-var-item'><div class='xr-var-name'><span>USDM_D0</span></div><div class='xr-var-dims'>(index)</div><div class='xr-var-dtype'>float64</div><div class='xr-var-preview xr-preview'>...</div><input id='attrs-ed14c990-78b3-4abc-a2d9-980861101b54' class='xr-var-attrs-in' type='checkbox' disabled><label for='attrs-ed14c990-78b3-4abc-a2d9-980861101b54' title='Show/Hide attributes'><svg class='icon xr-icon-file-text2'><use xlink:href='#icon-file-text2'></use></svg></label><input id='data-231efc75-9d6a-4621-b23f-e8747a0efcc0' class='xr-var-data-in' type='checkbox'><label for='data-231efc75-9d6a-4621-b23f-e8747a0efcc0' title='Show/Hide data repr'><svg class='icon xr-icon-database'><use xlink:href='#icon-database'></use></svg></label><div class='xr-var-attrs'><dl class='xr-attrs'></dl></div><div class='xr-var-data'><pre>array([0.      , 0.      , 0.      , ..., 0.044131, 0.039403, 0.03567 ])</pre></div></li><li class='xr-var-item'><div class='xr-var-name'><span>USDM_D1</span></div><div class='xr-var-dims'>(index)</div><div class='xr-var-dtype'>float64</div><div class='xr-var-preview xr-preview'>...</div><input id='attrs-d23582db-8ff5-4557-a2a0-673637e0dd08' class='xr-var-attrs-in' type='checkbox' disabled><label for='attrs-d23582db-8ff5-4557-a2a0-673637e0dd08' title='Show/Hide attributes'><svg class='icon xr-icon-file-text2'><use xlink:href='#icon-file-text2'></use></svg></label><input id='data-14827f22-9146-4dae-8725-ab3c87803a4e' class='xr-var-data-in' type='checkbox'><label for='data-14827f22-9146-4dae-8725-ab3c87803a4e' title='Show/Hide data repr'><svg class='icon xr-icon-database'><use xlink:href='#icon-database'></use></svg></label><div class='xr-var-attrs'><dl class='xr-attrs'></dl></div><div class='xr-var-data'><pre>array([0.      , 0.      , 0.      , ..., 0.208378, 0.22248 , 0.245127])</pre></div></li><li class='xr-var-item'><div class='xr-var-name'><span>USDM_D2</span></div><div class='xr-var-dims'>(index)</div><div class='xr-var-dtype'>float64</div><div class='xr-var-preview xr-preview'>...</div><input id='attrs-bc356c29-59e8-4125-8ca3-a3187c890d6d' class='xr-var-attrs-in' type='checkbox' disabled><label for='attrs-bc356c29-59e8-4125-8ca3-a3187c890d6d' title='Show/Hide attributes'><svg class='icon xr-icon-file-text2'><use xlink:href='#icon-file-text2'></use></svg></label><input id='data-f22ed878-565a-46cb-9385-73741a7484e4' class='xr-var-data-in' type='checkbox'><label for='data-f22ed878-565a-46cb-9385-73741a7484e4' title='Show/Hide data repr'><svg class='icon xr-icon-database'><use xlink:href='#icon-database'></use></svg></label><div class='xr-var-attrs'><dl class='xr-attrs'></dl></div><div class='xr-var-data'><pre>array([0.      , 0.      , 0.      , ..., 0.204397, 0.226462, 0.21601 ])</pre></div></li><li class='xr-var-item'><div class='xr-var-name'><span>USDM_D3</span></div><div class='xr-var-dims'>(index)</div><div class='xr-var-dtype'>float64</div><div class='xr-var-preview xr-preview'>...</div><input id='attrs-996ba80e-0b8a-4d12-accc-ecd41ff514d6' class='xr-var-attrs-in' type='checkbox' disabled><label for='attrs-996ba80e-0b8a-4d12-accc-ecd41ff514d6' title='Show/Hide attributes'><svg class='icon xr-icon-file-text2'><use xlink:href='#icon-file-text2'></use></svg></label><input id='data-659ed5de-c8bb-48f4-8a77-6bc157406d9d' class='xr-var-data-in' type='checkbox'><label for='data-659ed5de-c8bb-48f4-8a77-6bc157406d9d' title='Show/Hide data repr'><svg class='icon xr-icon-database'><use xlink:href='#icon-database'></use></svg></label><div class='xr-var-attrs'><dl class='xr-attrs'></dl></div><div class='xr-var-data'><pre>array([0.      , 0.      , 0.      , ..., 0.156533, 0.112733, 0.103774])</pre></div></li><li class='xr-var-item'><div class='xr-var-name'><span>USDM_D4</span></div><div class='xr-var-dims'>(index)</div><div class='xr-var-dtype'>float64</div><div class='xr-var-preview xr-preview'>...</div><input id='attrs-c0833a1d-61a9-4521-9eac-4460801074b1' class='xr-var-attrs-in' type='checkbox' disabled><label for='attrs-c0833a1d-61a9-4521-9eac-4460801074b1' title='Show/Hide attributes'><svg class='icon xr-icon-file-text2'><use xlink:href='#icon-file-text2'></use></svg></label><input id='data-ca173ca9-eed4-4e13-a74f-6a21ca7123fe' class='xr-var-data-in' type='checkbox'><label for='data-ca173ca9-eed4-4e13-a74f-6a21ca7123fe' title='Show/Hide data repr'><svg class='icon xr-icon-database'><use xlink:href='#icon-database'></use></svg></label><div class='xr-var-attrs'><dl class='xr-attrs'></dl></div><div class='xr-var-data'><pre>array([0., 0., 0., ..., 0., 0., 0.])</pre></div></li><li class='xr-var-item'><div class='xr-var-name'><span>spi_1y_neutral_wet</span></div><div class='xr-var-dims'>(index)</div><div class='xr-var-dtype'>float64</div><div class='xr-var-preview xr-preview'>...</div><input id='attrs-cc6fc6b3-a4b2-456f-89c3-fb34c75783a1' class='xr-var-attrs-in' type='checkbox' disabled><label for='attrs-cc6fc6b3-a4b2-456f-89c3-fb34c75783a1' title='Show/Hide attributes'><svg class='icon xr-icon-file-text2'><use xlink:href='#icon-file-text2'></use></svg></label><input id='data-57bd8bf5-807e-4359-8314-b11421b089a8' class='xr-var-data-in' type='checkbox'><label for='data-57bd8bf5-807e-4359-8314-b11421b089a8' title='Show/Hide data repr'><svg class='icon xr-icon-database'><use xlink:href='#icon-database'></use></svg></label><div class='xr-var-attrs'><dl class='xr-attrs'></dl></div><div class='xr-var-data'><pre>array([0.776545, 0.806083, 0.829235, ..., 0.540556, 0.540715, 0.558518])</pre></div></li><li class='xr-var-item'><div class='xr-var-name'><span>spi_1y_D0</span></div><div class='xr-var-dims'>(index)</div><div class='xr-var-dtype'>float64</div><div class='xr-var-preview xr-preview'>...</div><input id='attrs-d189583a-4c94-436c-9078-675f619e4306' class='xr-var-attrs-in' type='checkbox' disabled><label for='attrs-d189583a-4c94-436c-9078-675f619e4306' title='Show/Hide attributes'><svg class='icon xr-icon-file-text2'><use xlink:href='#icon-file-text2'></use></svg></label><input id='data-7b95db3f-531a-4d8e-8e27-2561decbe85e' class='xr-var-data-in' type='checkbox'><label for='data-7b95db3f-531a-4d8e-8e27-2561decbe85e' title='Show/Hide data repr'><svg class='icon xr-icon-database'><use xlink:href='#icon-database'></use></svg></label><div class='xr-var-attrs'><dl class='xr-attrs'></dl></div><div class='xr-var-data'><pre>array([0.047421, 0.043989, 0.042631, ..., 0.083666, 0.071212, 0.083187])</pre></div></li><li class='xr-var-item'><div class='xr-var-name'><span>spi_1y_D1</span></div><div class='xr-var-dims'>(index)</div><div class='xr-var-dtype'>float64</div><div class='xr-var-preview xr-preview'>...</div><input id='attrs-70ddb21b-852d-4cc4-b06a-6cde779de63d' class='xr-var-attrs-in' type='checkbox' disabled><label for='attrs-70ddb21b-852d-4cc4-b06a-6cde779de63d' title='Show/Hide attributes'><svg class='icon xr-icon-file-text2'><use xlink:href='#icon-file-text2'></use></svg></label><input id='data-663c19be-d09e-4356-a2a0-02ed28c00179' class='xr-var-data-in' type='checkbox'><label for='data-663c19be-d09e-4356-a2a0-02ed28c00179' title='Show/Hide data repr'><svg class='icon xr-icon-database'><use xlink:href='#icon-database'></use></svg></label><div class='xr-var-attrs'><dl class='xr-attrs'></dl></div><div class='xr-var-data'><pre>array([0.078317, 0.074246, 0.069376, ..., 0.214913, 0.254191, 0.232157])</pre></div></li><li class='xr-var-item'><div class='xr-var-name'><span>spi_1y_D2</span></div><div class='xr-var-dims'>(index)</div><div class='xr-var-dtype'>float64</div><div class='xr-var-preview xr-preview'>...</div><input id='attrs-2a1f16d5-1ab1-474f-bd6d-f480da0d2f3c' class='xr-var-attrs-in' type='checkbox' disabled><label for='attrs-2a1f16d5-1ab1-474f-bd6d-f480da0d2f3c' title='Show/Hide attributes'><svg class='icon xr-icon-file-text2'><use xlink:href='#icon-file-text2'></use></svg></label><input id='data-693c0203-1748-4305-95af-dfdc416d7a6f' class='xr-var-data-in' type='checkbox'><label for='data-693c0203-1748-4305-95af-dfdc416d7a6f' title='Show/Hide data repr'><svg class='icon xr-icon-database'><use xlink:href='#icon-database'></use></svg></label><div class='xr-var-attrs'><dl class='xr-attrs'></dl></div><div class='xr-var-data'><pre>array([0.025148, 0.016765, 0.016925, ..., 0.079355, 0.077678, 0.064107])</pre></div></li><li class='xr-var-item'><div class='xr-var-name'><span>spi_1y_D3</span></div><div class='xr-var-dims'>(index)</div><div class='xr-var-dtype'>float64</div><div class='xr-var-preview xr-preview'>...</div><input id='attrs-7db987ae-71d0-47b9-9012-54f602a82b82' class='xr-var-attrs-in' type='checkbox' disabled><label for='attrs-7db987ae-71d0-47b9-9012-54f602a82b82' title='Show/Hide attributes'><svg class='icon xr-icon-file-text2'><use xlink:href='#icon-file-text2'></use></svg></label><input id='data-a76c1465-4ac8-4f62-b097-01277d23c088' class='xr-var-data-in' type='checkbox'><label for='data-a76c1465-4ac8-4f62-b097-01277d23c088' title='Show/Hide data repr'><svg class='icon xr-icon-database'><use xlink:href='#icon-database'></use></svg></label><div class='xr-var-attrs'><dl class='xr-attrs'></dl></div><div class='xr-var-data'><pre>array([0.015807, 0.016126, 0.016286, ..., 0.035766, 0.01924 , 0.020677])</pre></div></li><li class='xr-var-item'><div class='xr-var-name'><span>spi_1y_D4</span></div><div class='xr-var-dims'>(index)</div><div class='xr-var-dtype'>float64</div><div class='xr-var-preview xr-preview'>...</div><input id='attrs-fe677e48-291e-489c-901e-2daaa497232b' class='xr-var-attrs-in' type='checkbox' disabled><label for='attrs-fe677e48-291e-489c-901e-2daaa497232b' title='Show/Hide attributes'><svg class='icon xr-icon-file-text2'><use xlink:href='#icon-file-text2'></use></svg></label><input id='data-40453ef5-bfe3-4f57-97b2-8afebd6fd7fb' class='xr-var-data-in' type='checkbox'><label for='data-40453ef5-bfe3-4f57-97b2-8afebd6fd7fb' title='Show/Hide data repr'><svg class='icon xr-icon-database'><use xlink:href='#icon-database'></use></svg></label><div class='xr-var-attrs'><dl class='xr-attrs'></dl></div><div class='xr-var-data'><pre>array([0.056762, 0.042791, 0.025547, ..., 0.045745, 0.036963, 0.041354])</pre></div></li><li class='xr-var-item'><div class='xr-var-name'><span>spi_2y_neutral_wet</span></div><div class='xr-var-dims'>(index)</div><div class='xr-var-dtype'>float64</div><div class='xr-var-preview xr-preview'>...</div><input id='attrs-04010da4-ad3c-4c17-9fe4-dd0f7705ae3a' class='xr-var-attrs-in' type='checkbox' disabled><label for='attrs-04010da4-ad3c-4c17-9fe4-dd0f7705ae3a' title='Show/Hide attributes'><svg class='icon xr-icon-file-text2'><use xlink:href='#icon-file-text2'></use></svg></label><input id='data-9489ef2e-2578-4c3f-abf2-c60b598b4de9' class='xr-var-data-in' type='checkbox'><label for='data-9489ef2e-2578-4c3f-abf2-c60b598b4de9' title='Show/Hide data repr'><svg class='icon xr-icon-database'><use xlink:href='#icon-database'></use></svg></label><div class='xr-var-attrs'><dl class='xr-attrs'></dl></div><div class='xr-var-data'><pre>array([0.897813, 0.900846, 0.893182, ..., 0.59141 , 0.592687, 0.619591])</pre></div></li><li class='xr-var-item'><div class='xr-var-name'><span>spi_2y_D0</span></div><div class='xr-var-dims'>(index)</div><div class='xr-var-dtype'>float64</div><div class='xr-var-preview xr-preview'>...</div><input id='attrs-104f6898-a8c0-4afc-ac69-6b7c13978986' class='xr-var-attrs-in' type='checkbox' disabled><label for='attrs-104f6898-a8c0-4afc-ac69-6b7c13978986' title='Show/Hide attributes'><svg class='icon xr-icon-file-text2'><use xlink:href='#icon-file-text2'></use></svg></label><input id='data-267270b9-5fe4-4234-9449-8b0c93786db7' class='xr-var-data-in' type='checkbox'><label for='data-267270b9-5fe4-4234-9449-8b0c93786db7' title='Show/Hide data repr'><svg class='icon xr-icon-database'><use xlink:href='#icon-database'></use></svg></label><div class='xr-var-attrs'><dl class='xr-attrs'></dl></div><div class='xr-var-data'><pre>array([0.026744, 0.027144, 0.028181, ..., 0.077998, 0.084065, 0.078557])</pre></div></li><li class='xr-var-item'><div class='xr-var-name'><span>spi_2y_D1</span></div><div class='xr-var-dims'>(index)</div><div class='xr-var-dtype'>float64</div><div class='xr-var-preview xr-preview'>...</div><input id='attrs-d025ec80-66b8-4949-ad42-eba0ec179b32' class='xr-var-attrs-in' type='checkbox' disabled><label for='attrs-d025ec80-66b8-4949-ad42-eba0ec179b32' title='Show/Hide attributes'><svg class='icon xr-icon-file-text2'><use xlink:href='#icon-file-text2'></use></svg></label><input id='data-4902b67a-30a7-4f8a-a5fc-a078b5a106fe' class='xr-var-data-in' type='checkbox'><label for='data-4902b67a-30a7-4f8a-a5fc-a078b5a106fe' title='Show/Hide data repr'><svg class='icon xr-icon-database'><use xlink:href='#icon-database'></use></svg></label><div class='xr-var-attrs'><dl class='xr-attrs'></dl></div><div class='xr-var-data'><pre>array([0.059556, 0.056682, 0.055724, ..., 0.164618, 0.171004, 0.156554])</pre></div></li><li class='xr-var-item'><div class='xr-var-name'><span>spi_2y_D2</span></div><div class='xr-var-dims'>(index)</div><div class='xr-var-dtype'>float64</div><div class='xr-var-preview xr-preview'>...</div><input id='attrs-292a4979-7622-488e-9d0b-bf381023efc5' class='xr-var-attrs-in' type='checkbox' disabled><label for='attrs-292a4979-7622-488e-9d0b-bf381023efc5' title='Show/Hide attributes'><svg class='icon xr-icon-file-text2'><use xlink:href='#icon-file-text2'></use></svg></label><input id='data-ac9f6e94-59d0-4275-a861-49d2484a622f' class='xr-var-data-in' type='checkbox'><label for='data-ac9f6e94-59d0-4275-a861-49d2484a622f' title='Show/Hide data repr'><svg class='icon xr-icon-database'><use xlink:href='#icon-database'></use></svg></label><div class='xr-var-attrs'><dl class='xr-attrs'></dl></div><div class='xr-var-data'><pre>array([0.011895, 0.010059, 0.013252, ..., 0.033131, 0.030736, 0.034568])</pre></div></li><li class='xr-var-item'><div class='xr-var-name'><span>spi_2y_D3</span></div><div class='xr-var-dims'>(index)</div><div class='xr-var-dtype'>float64</div><div class='xr-var-preview xr-preview'>...</div><input id='attrs-45ea0b1c-93b3-4b26-b5a1-8b99548051db' class='xr-var-attrs-in' type='checkbox' disabled><label for='attrs-45ea0b1c-93b3-4b26-b5a1-8b99548051db' title='Show/Hide attributes'><svg class='icon xr-icon-file-text2'><use xlink:href='#icon-file-text2'></use></svg></label><input id='data-e634b3ae-a7cc-462d-88e1-97259da32425' class='xr-var-data-in' type='checkbox'><label for='data-e634b3ae-a7cc-462d-88e1-97259da32425' title='Show/Hide data repr'><svg class='icon xr-icon-database'><use xlink:href='#icon-database'></use></svg></label><div class='xr-var-attrs'><dl class='xr-attrs'></dl></div><div class='xr-var-data'><pre>array([0.003353, 0.00487 , 0.008941, ..., 0.031614, 0.025627, 0.025547])</pre></div></li><li class='xr-var-item'><div class='xr-var-name'><span>spi_2y_D4</span></div><div class='xr-var-dims'>(index)</div><div class='xr-var-dtype'>float64</div><div class='xr-var-preview xr-preview'>...</div><input id='attrs-1461a72f-b6a8-4788-9698-570cfec182c0' class='xr-var-attrs-in' type='checkbox' disabled><label for='attrs-1461a72f-b6a8-4788-9698-570cfec182c0' title='Show/Hide attributes'><svg class='icon xr-icon-file-text2'><use xlink:href='#icon-file-text2'></use></svg></label><input id='data-59f5dcae-c0e7-481b-9757-711dcbddfed5' class='xr-var-data-in' type='checkbox'><label for='data-59f5dcae-c0e7-481b-9757-711dcbddfed5' title='Show/Hide data repr'><svg class='icon xr-icon-database'><use xlink:href='#icon-database'></use></svg></label><div class='xr-var-attrs'><dl class='xr-attrs'></dl></div><div class='xr-var-data'><pre>array([0.000639, 0.000399, 0.000719, ..., 0.101229, 0.095881, 0.085183])</pre></div></li><li class='xr-var-item'><div class='xr-var-name'><span>spi_5y_neutral_wet</span></div><div class='xr-var-dims'>(index)</div><div class='xr-var-dtype'>float64</div><div class='xr-var-preview xr-preview'>...</div><input id='attrs-04bd7340-6d9b-4979-8f1b-4ca6fe3063d1' class='xr-var-attrs-in' type='checkbox' disabled><label for='attrs-04bd7340-6d9b-4979-8f1b-4ca6fe3063d1' title='Show/Hide attributes'><svg class='icon xr-icon-file-text2'><use xlink:href='#icon-file-text2'></use></svg></label><input id='data-1259c52c-ef2a-464b-9e44-22d20652a2e4' class='xr-var-data-in' type='checkbox'><label for='data-1259c52c-ef2a-464b-9e44-22d20652a2e4' title='Show/Hide data repr'><svg class='icon xr-icon-database'><use xlink:href='#icon-database'></use></svg></label><div class='xr-var-attrs'><dl class='xr-attrs'></dl></div><div class='xr-var-data'><pre>array([1.      , 1.      , 1.      , ..., 0.699745, 0.718186, 0.732716])</pre></div></li><li class='xr-var-item'><div class='xr-var-name'><span>spi_5y_D0</span></div><div class='xr-var-dims'>(index)</div><div class='xr-var-dtype'>float64</div><div class='xr-var-preview xr-preview'>...</div><input id='attrs-bd4463a6-d2d6-43d7-bf92-12bf722eb90b' class='xr-var-attrs-in' type='checkbox' disabled><label for='attrs-bd4463a6-d2d6-43d7-bf92-12bf722eb90b' title='Show/Hide attributes'><svg class='icon xr-icon-file-text2'><use xlink:href='#icon-file-text2'></use></svg></label><input id='data-5f1e0563-084a-4bb0-bdc0-3604efd09e13' class='xr-var-data-in' type='checkbox'><label for='data-5f1e0563-084a-4bb0-bdc0-3604efd09e13' title='Show/Hide data repr'><svg class='icon xr-icon-database'><use xlink:href='#icon-database'></use></svg></label><div class='xr-var-attrs'><dl class='xr-attrs'></dl></div><div class='xr-var-data'><pre>array([0.      , 0.      , 0.      , ..., 0.093565, 0.093246, 0.088137])</pre></div></li><li class='xr-var-item'><div class='xr-var-name'><span>spi_5y_D1</span></div><div class='xr-var-dims'>(index)</div><div class='xr-var-dtype'>float64</div><div class='xr-var-preview xr-preview'>...</div><input id='attrs-af1e02de-4a24-4152-9fd1-b916762e36d6' class='xr-var-attrs-in' type='checkbox' disabled><label for='attrs-af1e02de-4a24-4152-9fd1-b916762e36d6' title='Show/Hide attributes'><svg class='icon xr-icon-file-text2'><use xlink:href='#icon-file-text2'></use></svg></label><input id='data-de86ddb1-9619-4248-b499-e00b54f48238' class='xr-var-data-in' type='checkbox'><label for='data-de86ddb1-9619-4248-b499-e00b54f48238' title='Show/Hide data repr'><svg class='icon xr-icon-database'><use xlink:href='#icon-database'></use></svg></label><div class='xr-var-attrs'><dl class='xr-attrs'></dl></div><div class='xr-var-data'><pre>array([0.      , 0.      , 0.      , ..., 0.128772, 0.121986, 0.119112])</pre></div></li><li class='xr-var-item'><div class='xr-var-name'><span>spi_5y_D2</span></div><div class='xr-var-dims'>(index)</div><div class='xr-var-dtype'>float64</div><div class='xr-var-preview xr-preview'>...</div><input id='attrs-1a50d2a0-b2df-4550-9496-cc768d652f6e' class='xr-var-attrs-in' type='checkbox' disabled><label for='attrs-1a50d2a0-b2df-4550-9496-cc768d652f6e' title='Show/Hide attributes'><svg class='icon xr-icon-file-text2'><use xlink:href='#icon-file-text2'></use></svg></label><input id='data-79505834-4cf4-4b6a-8df4-eac48d09203f' class='xr-var-data-in' type='checkbox'><label for='data-79505834-4cf4-4b6a-8df4-eac48d09203f' title='Show/Hide data repr'><svg class='icon xr-icon-database'><use xlink:href='#icon-database'></use></svg></label><div class='xr-var-attrs'><dl class='xr-attrs'></dl></div><div class='xr-var-data'><pre>array([0.      , 0.      , 0.      , ..., 0.015168, 0.012614, 0.009021])</pre></div></li><li class='xr-var-item'><div class='xr-var-name'><span>spi_5y_D3</span></div><div class='xr-var-dims'>(index)</div><div class='xr-var-dtype'>float64</div><div class='xr-var-preview xr-preview'>...</div><input id='attrs-139a8fb7-ece3-494a-b0ab-ac8ad63699fd' class='xr-var-attrs-in' type='checkbox' disabled><label for='attrs-139a8fb7-ece3-494a-b0ab-ac8ad63699fd' title='Show/Hide attributes'><svg class='icon xr-icon-file-text2'><use xlink:href='#icon-file-text2'></use></svg></label><input id='data-8d5e2146-1651-4009-ad71-1621b8ca0777' class='xr-var-data-in' type='checkbox'><label for='data-8d5e2146-1651-4009-ad71-1621b8ca0777' title='Show/Hide data repr'><svg class='icon xr-icon-database'><use xlink:href='#icon-database'></use></svg></label><div class='xr-var-attrs'><dl class='xr-attrs'></dl></div><div class='xr-var-data'><pre>array([0.      , 0.      , 0.      , ..., 0.013332, 0.008383, 0.00958 ])</pre></div></li><li class='xr-var-item'><div class='xr-var-name'><span>spi_5y_D4</span></div><div class='xr-var-dims'>(index)</div><div class='xr-var-dtype'>float64</div><div class='xr-var-preview xr-preview'>...</div><input id='attrs-cb483ff5-9224-4edc-b72d-716ca9be0c37' class='xr-var-attrs-in' type='checkbox' disabled><label for='attrs-cb483ff5-9224-4edc-b72d-716ca9be0c37' title='Show/Hide attributes'><svg class='icon xr-icon-file-text2'><use xlink:href='#icon-file-text2'></use></svg></label><input id='data-6dff8acc-79b6-4c8f-a87c-b150157c99de' class='xr-var-data-in' type='checkbox'><label for='data-6dff8acc-79b6-4c8f-a87c-b150157c99de' title='Show/Hide data repr'><svg class='icon xr-icon-database'><use xlink:href='#icon-database'></use></svg></label><div class='xr-var-attrs'><dl class='xr-attrs'></dl></div><div class='xr-var-data'><pre>array([0.      , 0.      , 0.      , ..., 0.049417, 0.045585, 0.041434])</pre></div></li><li class='xr-var-item'><div class='xr-var-name'><span>spi_14d_neutral_wet</span></div><div class='xr-var-dims'>(index)</div><div class='xr-var-dtype'>float64</div><div class='xr-var-preview xr-preview'>...</div><input id='attrs-d56bdcba-8cfb-441f-86c9-730624124b47' class='xr-var-attrs-in' type='checkbox' disabled><label for='attrs-d56bdcba-8cfb-441f-86c9-730624124b47' title='Show/Hide attributes'><svg class='icon xr-icon-file-text2'><use xlink:href='#icon-file-text2'></use></svg></label><input id='data-626a4c67-4a40-4c98-8dd1-5e17682c58e9' class='xr-var-data-in' type='checkbox'><label for='data-626a4c67-4a40-4c98-8dd1-5e17682c58e9' title='Show/Hide data repr'><svg class='icon xr-icon-database'><use xlink:href='#icon-database'></use></svg></label><div class='xr-var-attrs'><dl class='xr-attrs'></dl></div><div class='xr-var-data'><pre>array([0.152403, 0.859652, 0.998244, ..., 0.612726, 0.958486, 0.994412])</pre></div></li><li class='xr-var-item'><div class='xr-var-name'><span>spi_14d_D0</span></div><div class='xr-var-dims'>(index)</div><div class='xr-var-dtype'>float64</div><div class='xr-var-preview xr-preview'>...</div><input id='attrs-7107f3b5-c1bb-45ff-95d9-1d50dfa18dd8' class='xr-var-attrs-in' type='checkbox' disabled><label for='attrs-7107f3b5-c1bb-45ff-95d9-1d50dfa18dd8' title='Show/Hide attributes'><svg class='icon xr-icon-file-text2'><use xlink:href='#icon-file-text2'></use></svg></label><input id='data-e31c0834-9843-42e0-ab58-27b7e858e9ed' class='xr-var-data-in' type='checkbox'><label for='data-e31c0834-9843-42e0-ab58-27b7e858e9ed' title='Show/Hide data repr'><svg class='icon xr-icon-database'><use xlink:href='#icon-database'></use></svg></label><div class='xr-var-attrs'><dl class='xr-attrs'></dl></div><div class='xr-var-data'><pre>array([0.063707, 0.080872, 0.000798, ..., 0.085183, 0.025786, 0.005269])</pre></div></li><li class='xr-var-item'><div class='xr-var-name'><span>spi_14d_D1</span></div><div class='xr-var-dims'>(index)</div><div class='xr-var-dtype'>float64</div><div class='xr-var-preview xr-preview'>...</div><input id='attrs-9c8f1ee9-0bcb-4c49-be3a-269878bd3838' class='xr-var-attrs-in' type='checkbox' disabled><label for='attrs-9c8f1ee9-0bcb-4c49-be3a-269878bd3838' title='Show/Hide attributes'><svg class='icon xr-icon-file-text2'><use xlink:href='#icon-file-text2'></use></svg></label><input id='data-5e4ec703-eb5f-42f3-b829-2485d1340be7' class='xr-var-data-in' type='checkbox'><label for='data-5e4ec703-eb5f-42f3-b829-2485d1340be7' title='Show/Hide data repr'><svg class='icon xr-icon-database'><use xlink:href='#icon-database'></use></svg></label><div class='xr-var-attrs'><dl class='xr-attrs'></dl></div><div class='xr-var-data'><pre>array([3.589334e-01, 5.732077e-02, 9.580073e-04, ..., 1.005109e-01,\n",
       "       1.572729e-02, 3.193358e-04])</pre></div></li><li class='xr-var-item'><div class='xr-var-name'><span>spi_14d_D2</span></div><div class='xr-var-dims'>(index)</div><div class='xr-var-dtype'>float64</div><div class='xr-var-preview xr-preview'>...</div><input id='attrs-1b5de7e6-96e3-4c1d-85c1-a97543948507' class='xr-var-attrs-in' type='checkbox' disabled><label for='attrs-1b5de7e6-96e3-4c1d-85c1-a97543948507' title='Show/Hide attributes'><svg class='icon xr-icon-file-text2'><use xlink:href='#icon-file-text2'></use></svg></label><input id='data-cea9a3d2-3299-40d0-ad0f-07f31d4ae195' class='xr-var-data-in' type='checkbox'><label for='data-cea9a3d2-3299-40d0-ad0f-07f31d4ae195' title='Show/Hide data repr'><svg class='icon xr-icon-database'><use xlink:href='#icon-database'></use></svg></label><div class='xr-var-attrs'><dl class='xr-attrs'></dl></div><div class='xr-var-data'><pre>array([0.166134, 0.001916, 0.      , ..., 0.043989, 0.      , 0.      ])</pre></div></li><li class='xr-var-item'><div class='xr-var-name'><span>spi_14d_D3</span></div><div class='xr-var-dims'>(index)</div><div class='xr-var-dtype'>float64</div><div class='xr-var-preview xr-preview'>...</div><input id='attrs-137e9c22-49d6-44fb-aba5-ac0bef83b26f' class='xr-var-attrs-in' type='checkbox' disabled><label for='attrs-137e9c22-49d6-44fb-aba5-ac0bef83b26f' title='Show/Hide attributes'><svg class='icon xr-icon-file-text2'><use xlink:href='#icon-file-text2'></use></svg></label><input id='data-2c68ba8f-da4d-4ef7-bb81-0d682c6520b4' class='xr-var-data-in' type='checkbox'><label for='data-2c68ba8f-da4d-4ef7-bb81-0d682c6520b4' title='Show/Hide data repr'><svg class='icon xr-icon-database'><use xlink:href='#icon-database'></use></svg></label><div class='xr-var-attrs'><dl class='xr-attrs'></dl></div><div class='xr-var-data'><pre>array([2.565863e-01, 2.395018e-04, 0.000000e+00, ..., 1.564745e-01,\n",
       "       0.000000e+00, 0.000000e+00])</pre></div></li><li class='xr-var-item'><div class='xr-var-name'><span>spi_14d_D4</span></div><div class='xr-var-dims'>(index)</div><div class='xr-var-dtype'>float64</div><div class='xr-var-preview xr-preview'>...</div><input id='attrs-74b6b698-b28f-4a15-b51b-5d9aad4b0764' class='xr-var-attrs-in' type='checkbox' disabled><label for='attrs-74b6b698-b28f-4a15-b51b-5d9aad4b0764' title='Show/Hide attributes'><svg class='icon xr-icon-file-text2'><use xlink:href='#icon-file-text2'></use></svg></label><input id='data-8a564a36-3770-4029-bbed-2e4eafd12dba' class='xr-var-data-in' type='checkbox'><label for='data-8a564a36-3770-4029-bbed-2e4eafd12dba' title='Show/Hide data repr'><svg class='icon xr-icon-database'><use xlink:href='#icon-database'></use></svg></label><div class='xr-var-attrs'><dl class='xr-attrs'></dl></div><div class='xr-var-data'><pre>array([0.002235, 0.      , 0.      , ..., 0.001118, 0.      , 0.      ])</pre></div></li><li class='xr-var-item'><div class='xr-var-name'><span>spi_30d_neutral_wet</span></div><div class='xr-var-dims'>(index)</div><div class='xr-var-dtype'>float64</div><div class='xr-var-preview xr-preview'>...</div><input id='attrs-1670c983-1008-49ab-9461-7a2b21e41171' class='xr-var-attrs-in' type='checkbox' disabled><label for='attrs-1670c983-1008-49ab-9461-7a2b21e41171' title='Show/Hide attributes'><svg class='icon xr-icon-file-text2'><use xlink:href='#icon-file-text2'></use></svg></label><input id='data-4abddc2d-47b4-4f2d-99e3-d7ea54ed93f7' class='xr-var-data-in' type='checkbox'><label for='data-4abddc2d-47b4-4f2d-99e3-d7ea54ed93f7' title='Show/Hide data repr'><svg class='icon xr-icon-database'><use xlink:href='#icon-database'></use></svg></label><div class='xr-var-attrs'><dl class='xr-attrs'></dl></div><div class='xr-var-data'><pre>array([0.862686, 0.799377, 0.935335, ..., 0.580872, 0.745649, 0.820533])</pre></div></li><li class='xr-var-item'><div class='xr-var-name'><span>spi_30d_D0</span></div><div class='xr-var-dims'>(index)</div><div class='xr-var-dtype'>float64</div><div class='xr-var-preview xr-preview'>...</div><input id='attrs-55b7d092-6fff-4913-a870-ac0c9b17b9b9' class='xr-var-attrs-in' type='checkbox' disabled><label for='attrs-55b7d092-6fff-4913-a870-ac0c9b17b9b9' title='Show/Hide attributes'><svg class='icon xr-icon-file-text2'><use xlink:href='#icon-file-text2'></use></svg></label><input id='data-4dd9ff2a-dc7b-449e-af02-cd5b664b1105' class='xr-var-data-in' type='checkbox'><label for='data-4dd9ff2a-dc7b-449e-af02-cd5b664b1105' title='Show/Hide data repr'><svg class='icon xr-icon-database'><use xlink:href='#icon-database'></use></svg></label><div class='xr-var-attrs'><dl class='xr-attrs'></dl></div><div class='xr-var-data'><pre>array([0.059317, 0.078397, 0.041035, ..., 0.172361, 0.116478, 0.070493])</pre></div></li><li class='xr-var-item'><div class='xr-var-name'><span>spi_30d_D1</span></div><div class='xr-var-dims'>(index)</div><div class='xr-var-dtype'>float64</div><div class='xr-var-preview xr-preview'>...</div><input id='attrs-f5c291ce-f978-4fcb-9ddd-b4d317f8d71f' class='xr-var-attrs-in' type='checkbox' disabled><label for='attrs-f5c291ce-f978-4fcb-9ddd-b4d317f8d71f' title='Show/Hide attributes'><svg class='icon xr-icon-file-text2'><use xlink:href='#icon-file-text2'></use></svg></label><input id='data-32475eae-c12e-4e99-ac49-171893ccbcfe' class='xr-var-data-in' type='checkbox'><label for='data-32475eae-c12e-4e99-ac49-171893ccbcfe' title='Show/Hide data repr'><svg class='icon xr-icon-database'><use xlink:href='#icon-database'></use></svg></label><div class='xr-var-attrs'><dl class='xr-attrs'></dl></div><div class='xr-var-data'><pre>array([0.063628, 0.108255, 0.021875, ..., 0.236468, 0.114083, 0.094683])</pre></div></li><li class='xr-var-item'><div class='xr-var-name'><span>spi_30d_D2</span></div><div class='xr-var-dims'>(index)</div><div class='xr-var-dtype'>float64</div><div class='xr-var-preview xr-preview'>...</div><input id='attrs-cd53adeb-0512-41d0-8500-1defbf6c8c35' class='xr-var-attrs-in' type='checkbox' disabled><label for='attrs-cd53adeb-0512-41d0-8500-1defbf6c8c35' title='Show/Hide attributes'><svg class='icon xr-icon-file-text2'><use xlink:href='#icon-file-text2'></use></svg></label><input id='data-9ebdd0e7-503f-48cd-94da-02a1327c8d73' class='xr-var-data-in' type='checkbox'><label for='data-9ebdd0e7-503f-48cd-94da-02a1327c8d73' title='Show/Hide data repr'><svg class='icon xr-icon-database'><use xlink:href='#icon-database'></use></svg></label><div class='xr-var-attrs'><dl class='xr-attrs'></dl></div><div class='xr-var-data'><pre>array([0.011017, 0.013492, 0.000559, ..., 0.005509, 0.010378, 0.008303])</pre></div></li><li class='xr-var-item'><div class='xr-var-name'><span>spi_30d_D3</span></div><div class='xr-var-dims'>(index)</div><div class='xr-var-dtype'>float64</div><div class='xr-var-preview xr-preview'>...</div><input id='attrs-d448c36f-18e3-49dd-bcb9-0c31eb9481c6' class='xr-var-attrs-in' type='checkbox' disabled><label for='attrs-d448c36f-18e3-49dd-bcb9-0c31eb9481c6' title='Show/Hide attributes'><svg class='icon xr-icon-file-text2'><use xlink:href='#icon-file-text2'></use></svg></label><input id='data-17d0c439-db59-47fc-9576-3c467b2c9165' class='xr-var-data-in' type='checkbox'><label for='data-17d0c439-db59-47fc-9576-3c467b2c9165' title='Show/Hide data repr'><svg class='icon xr-icon-database'><use xlink:href='#icon-database'></use></svg></label><div class='xr-var-attrs'><dl class='xr-attrs'></dl></div><div class='xr-var-data'><pre>array([0.003353, 0.000399, 0.001118, ..., 0.003752, 0.011097, 0.001357])</pre></div></li><li class='xr-var-item'><div class='xr-var-name'><span>spi_30d_D4</span></div><div class='xr-var-dims'>(index)</div><div class='xr-var-dtype'>float64</div><div class='xr-var-preview xr-preview'>...</div><input id='attrs-d37dd761-5de8-4e99-acfa-0b3bf89ec66e' class='xr-var-attrs-in' type='checkbox' disabled><label for='attrs-d37dd761-5de8-4e99-acfa-0b3bf89ec66e' title='Show/Hide attributes'><svg class='icon xr-icon-file-text2'><use xlink:href='#icon-file-text2'></use></svg></label><input id='data-55275a4f-4f3b-4cd4-be45-1e27525acfba' class='xr-var-data-in' type='checkbox'><label for='data-55275a4f-4f3b-4cd4-be45-1e27525acfba' title='Show/Hide data repr'><svg class='icon xr-icon-database'><use xlink:href='#icon-database'></use></svg></label><div class='xr-var-attrs'><dl class='xr-attrs'></dl></div><div class='xr-var-data'><pre>array([0.000000e+00, 7.983395e-05, 7.983395e-05, ..., 1.037841e-03,\n",
       "       2.315184e-03, 4.630369e-03])</pre></div></li><li class='xr-var-item'><div class='xr-var-name'><span>spi_90d_neutral_wet</span></div><div class='xr-var-dims'>(index)</div><div class='xr-var-dtype'>float64</div><div class='xr-var-preview xr-preview'>...</div><input id='attrs-263f32c3-312f-4509-ab13-f161e3f9ad17' class='xr-var-attrs-in' type='checkbox' disabled><label for='attrs-263f32c3-312f-4509-ab13-f161e3f9ad17' title='Show/Hide attributes'><svg class='icon xr-icon-file-text2'><use xlink:href='#icon-file-text2'></use></svg></label><input id='data-91b460cd-06da-4c28-9306-72bc45619869' class='xr-var-data-in' type='checkbox'><label for='data-91b460cd-06da-4c28-9306-72bc45619869' title='Show/Hide data repr'><svg class='icon xr-icon-database'><use xlink:href='#icon-database'></use></svg></label><div class='xr-var-attrs'><dl class='xr-attrs'></dl></div><div class='xr-var-data'><pre>array([0.834584, 0.832508, 0.891905, ..., 0.998723, 1.      , 0.99992 ])</pre></div></li><li class='xr-var-item'><div class='xr-var-name'><span>spi_90d_D0</span></div><div class='xr-var-dims'>(index)</div><div class='xr-var-dtype'>float64</div><div class='xr-var-preview xr-preview'>...</div><input id='attrs-3349c51e-cfee-4aa4-81b4-309214030a83' class='xr-var-attrs-in' type='checkbox' disabled><label for='attrs-3349c51e-cfee-4aa4-81b4-309214030a83' title='Show/Hide attributes'><svg class='icon xr-icon-file-text2'><use xlink:href='#icon-file-text2'></use></svg></label><input id='data-0a998838-d954-440b-ac83-18dbf75cc241' class='xr-var-data-in' type='checkbox'><label for='data-0a998838-d954-440b-ac83-18dbf75cc241' title='Show/Hide data repr'><svg class='icon xr-icon-database'><use xlink:href='#icon-database'></use></svg></label><div class='xr-var-attrs'><dl class='xr-attrs'></dl></div><div class='xr-var-data'><pre>array([4.534568e-02, 5.348874e-02, 4.782053e-02, ..., 1.277343e-03,\n",
       "       0.000000e+00, 7.983395e-05])</pre></div></li><li class='xr-var-item'><div class='xr-var-name'><span>spi_90d_D1</span></div><div class='xr-var-dims'>(index)</div><div class='xr-var-dtype'>float64</div><div class='xr-var-preview xr-preview'>...</div><input id='attrs-5b387c68-16d6-42b7-b1e3-6998857b85a5' class='xr-var-attrs-in' type='checkbox' disabled><label for='attrs-5b387c68-16d6-42b7-b1e3-6998857b85a5' title='Show/Hide attributes'><svg class='icon xr-icon-file-text2'><use xlink:href='#icon-file-text2'></use></svg></label><input id='data-6774f45a-a446-4935-9e6e-44725f1355aa' class='xr-var-data-in' type='checkbox'><label for='data-6774f45a-a446-4935-9e6e-44725f1355aa' title='Show/Hide data repr'><svg class='icon xr-icon-database'><use xlink:href='#icon-database'></use></svg></label><div class='xr-var-attrs'><dl class='xr-attrs'></dl></div><div class='xr-var-data'><pre>array([0.115919, 0.103385, 0.060275, ..., 0.      , 0.      , 0.      ])</pre></div></li><li class='xr-var-item'><div class='xr-var-name'><span>spi_90d_D2</span></div><div class='xr-var-dims'>(index)</div><div class='xr-var-dtype'>float64</div><div class='xr-var-preview xr-preview'>...</div><input id='attrs-87f0bd02-1724-4b0b-9491-493349f6c4a6' class='xr-var-attrs-in' type='checkbox' disabled><label for='attrs-87f0bd02-1724-4b0b-9491-493349f6c4a6' title='Show/Hide attributes'><svg class='icon xr-icon-file-text2'><use xlink:href='#icon-file-text2'></use></svg></label><input id='data-4b1e4c19-15a3-4b6f-ac9f-6155e9ba2673' class='xr-var-data-in' type='checkbox'><label for='data-4b1e4c19-15a3-4b6f-ac9f-6155e9ba2673' title='Show/Hide data repr'><svg class='icon xr-icon-database'><use xlink:href='#icon-database'></use></svg></label><div class='xr-var-attrs'><dl class='xr-attrs'></dl></div><div class='xr-var-data'><pre>array([0.003832, 0.010618, 0.      , ..., 0.      , 0.      , 0.      ])</pre></div></li><li class='xr-var-item'><div class='xr-var-name'><span>spi_90d_D3</span></div><div class='xr-var-dims'>(index)</div><div class='xr-var-dtype'>float64</div><div class='xr-var-preview xr-preview'>...</div><input id='attrs-6c0e6687-502e-4564-98f2-7fb5e5d5c676' class='xr-var-attrs-in' type='checkbox' disabled><label for='attrs-6c0e6687-502e-4564-98f2-7fb5e5d5c676' title='Show/Hide attributes'><svg class='icon xr-icon-file-text2'><use xlink:href='#icon-file-text2'></use></svg></label><input id='data-9d561f41-9f6e-4745-bde0-d131f21d25b0' class='xr-var-data-in' type='checkbox'><label for='data-9d561f41-9f6e-4745-bde0-d131f21d25b0' title='Show/Hide data repr'><svg class='icon xr-icon-database'><use xlink:href='#icon-database'></use></svg></label><div class='xr-var-attrs'><dl class='xr-attrs'></dl></div><div class='xr-var-data'><pre>array([0.000319, 0.      , 0.      , ..., 0.      , 0.      , 0.      ])</pre></div></li><li class='xr-var-item'><div class='xr-var-name'><span>spi_90d_D4</span></div><div class='xr-var-dims'>(index)</div><div class='xr-var-dtype'>float64</div><div class='xr-var-preview xr-preview'>...</div><input id='attrs-1348f65c-a0c6-4487-810f-ac562ba83414' class='xr-var-attrs-in' type='checkbox' disabled><label for='attrs-1348f65c-a0c6-4487-810f-ac562ba83414' title='Show/Hide attributes'><svg class='icon xr-icon-file-text2'><use xlink:href='#icon-file-text2'></use></svg></label><input id='data-dfc34031-e9a2-41c6-8aa5-238e3b8cf7fb' class='xr-var-data-in' type='checkbox'><label for='data-dfc34031-e9a2-41c6-8aa5-238e3b8cf7fb' title='Show/Hide data repr'><svg class='icon xr-icon-database'><use xlink:href='#icon-database'></use></svg></label><div class='xr-var-attrs'><dl class='xr-attrs'></dl></div><div class='xr-var-data'><pre>array([0., 0., 0., ..., 0., 0., 0.])</pre></div></li><li class='xr-var-item'><div class='xr-var-name'><span>spi_180d_neutral_wet</span></div><div class='xr-var-dims'>(index)</div><div class='xr-var-dtype'>float64</div><div class='xr-var-preview xr-preview'>...</div><input id='attrs-e94c4900-844f-4778-a81b-ce706043a217' class='xr-var-attrs-in' type='checkbox' disabled><label for='attrs-e94c4900-844f-4778-a81b-ce706043a217' title='Show/Hide attributes'><svg class='icon xr-icon-file-text2'><use xlink:href='#icon-file-text2'></use></svg></label><input id='data-2d97c387-4909-443d-abaa-14dd33c7e2eb' class='xr-var-data-in' type='checkbox'><label for='data-2d97c387-4909-443d-abaa-14dd33c7e2eb' title='Show/Hide data repr'><svg class='icon xr-icon-database'><use xlink:href='#icon-database'></use></svg></label><div class='xr-var-attrs'><dl class='xr-attrs'></dl></div><div class='xr-var-data'><pre>array([0.716989, 0.7308  , 0.787402, ..., 0.879052, 0.977567, 0.991937])</pre></div></li><li class='xr-var-item'><div class='xr-var-name'><span>spi_180d_D0</span></div><div class='xr-var-dims'>(index)</div><div class='xr-var-dtype'>float64</div><div class='xr-var-preview xr-preview'>...</div><input id='attrs-81f952d9-c490-46ce-8a03-b129ea50d498' class='xr-var-attrs-in' type='checkbox' disabled><label for='attrs-81f952d9-c490-46ce-8a03-b129ea50d498' title='Show/Hide attributes'><svg class='icon xr-icon-file-text2'><use xlink:href='#icon-file-text2'></use></svg></label><input id='data-3cc9076b-f567-4b6b-be67-84fc441c92eb' class='xr-var-data-in' type='checkbox'><label for='data-3cc9076b-f567-4b6b-be67-84fc441c92eb' title='Show/Hide data repr'><svg class='icon xr-icon-database'><use xlink:href='#icon-database'></use></svg></label><div class='xr-var-attrs'><dl class='xr-attrs'></dl></div><div class='xr-var-data'><pre>array([0.089574, 0.068258, 0.050695, ..., 0.095881, 0.017803, 0.006626])</pre></div></li><li class='xr-var-item'><div class='xr-var-name'><span>spi_180d_D1</span></div><div class='xr-var-dims'>(index)</div><div class='xr-var-dtype'>float64</div><div class='xr-var-preview xr-preview'>...</div><input id='attrs-63d10fde-3cd7-402c-a2af-4c1644c8d0cb' class='xr-var-attrs-in' type='checkbox' disabled><label for='attrs-63d10fde-3cd7-402c-a2af-4c1644c8d0cb' title='Show/Hide attributes'><svg class='icon xr-icon-file-text2'><use xlink:href='#icon-file-text2'></use></svg></label><input id='data-cb926df2-bef3-4bc3-ad15-f13a3752ea47' class='xr-var-data-in' type='checkbox'><label for='data-cb926df2-bef3-4bc3-ad15-f13a3752ea47' title='Show/Hide data repr'><svg class='icon xr-icon-database'><use xlink:href='#icon-database'></use></svg></label><div class='xr-var-attrs'><dl class='xr-attrs'></dl></div><div class='xr-var-data'><pre>array([0.111688, 0.112007, 0.099952, ..., 0.024509, 0.00463 , 0.001437])</pre></div></li><li class='xr-var-item'><div class='xr-var-name'><span>spi_180d_D2</span></div><div class='xr-var-dims'>(index)</div><div class='xr-var-dtype'>float64</div><div class='xr-var-preview xr-preview'>...</div><input id='attrs-eca034db-bb05-423e-b100-0e006851e79a' class='xr-var-attrs-in' type='checkbox' disabled><label for='attrs-eca034db-bb05-423e-b100-0e006851e79a' title='Show/Hide attributes'><svg class='icon xr-icon-file-text2'><use xlink:href='#icon-file-text2'></use></svg></label><input id='data-71d8fdf3-2383-43c2-8241-8e22108385b8' class='xr-var-data-in' type='checkbox'><label for='data-71d8fdf3-2383-43c2-8241-8e22108385b8' title='Show/Hide data repr'><svg class='icon xr-icon-database'><use xlink:href='#icon-database'></use></svg></label><div class='xr-var-attrs'><dl class='xr-attrs'></dl></div><div class='xr-var-data'><pre>array([0.024749, 0.047421, 0.046064, ..., 0.00024 , 0.      , 0.      ])</pre></div></li><li class='xr-var-item'><div class='xr-var-name'><span>spi_180d_D3</span></div><div class='xr-var-dims'>(index)</div><div class='xr-var-dtype'>float64</div><div class='xr-var-preview xr-preview'>...</div><input id='attrs-57bd2b2f-b84c-497f-8f9a-0771770115ec' class='xr-var-attrs-in' type='checkbox' disabled><label for='attrs-57bd2b2f-b84c-497f-8f9a-0771770115ec' title='Show/Hide attributes'><svg class='icon xr-icon-file-text2'><use xlink:href='#icon-file-text2'></use></svg></label><input id='data-5c21940a-7d3e-4301-b6d2-d9ae7048135d' class='xr-var-data-in' type='checkbox'><label for='data-5c21940a-7d3e-4301-b6d2-d9ae7048135d' title='Show/Hide data repr'><svg class='icon xr-icon-database'><use xlink:href='#icon-database'></use></svg></label><div class='xr-var-attrs'><dl class='xr-attrs'></dl></div><div class='xr-var-data'><pre>array([0.053888, 0.041114, 0.015887, ..., 0.000319, 0.      , 0.      ])</pre></div></li><li class='xr-var-item'><div class='xr-var-name'><span>spi_180d_D4</span></div><div class='xr-var-dims'>(index)</div><div class='xr-var-dtype'>float64</div><div class='xr-var-preview xr-preview'>...</div><input id='attrs-d0b58ecf-0886-485d-8133-9690f642ee09' class='xr-var-attrs-in' type='checkbox' disabled><label for='attrs-d0b58ecf-0886-485d-8133-9690f642ee09' title='Show/Hide attributes'><svg class='icon xr-icon-file-text2'><use xlink:href='#icon-file-text2'></use></svg></label><input id='data-f1ce9919-c197-4353-9ebc-95c5393f5ad1' class='xr-var-data-in' type='checkbox'><label for='data-f1ce9919-c197-4353-9ebc-95c5393f5ad1' title='Show/Hide data repr'><svg class='icon xr-icon-database'><use xlink:href='#icon-database'></use></svg></label><div class='xr-var-attrs'><dl class='xr-attrs'></dl></div><div class='xr-var-data'><pre>array([0.003114, 0.000399, 0.      , ..., 0.      , 0.      , 0.      ])</pre></div></li><li class='xr-var-item'><div class='xr-var-name'><span>spi_270d_neutral_wet</span></div><div class='xr-var-dims'>(index)</div><div class='xr-var-dtype'>float64</div><div class='xr-var-preview xr-preview'>...</div><input id='attrs-d861f362-e1a4-4067-ab46-0ceea06fb651' class='xr-var-attrs-in' type='checkbox' disabled><label for='attrs-d861f362-e1a4-4067-ab46-0ceea06fb651' title='Show/Hide attributes'><svg class='icon xr-icon-file-text2'><use xlink:href='#icon-file-text2'></use></svg></label><input id='data-5eadab6f-5688-4c6d-8bab-0b3dd5cf4400' class='xr-var-data-in' type='checkbox'><label for='data-5eadab6f-5688-4c6d-8bab-0b3dd5cf4400' title='Show/Hide data repr'><svg class='icon xr-icon-database'><use xlink:href='#icon-database'></use></svg></label><div class='xr-var-attrs'><dl class='xr-attrs'></dl></div><div class='xr-var-data'><pre>array([0.55269 , 0.583267, 0.666693, ..., 0.43278 , 0.480201, 0.502315])</pre></div></li><li class='xr-var-item'><div class='xr-var-name'><span>spi_270d_D0</span></div><div class='xr-var-dims'>(index)</div><div class='xr-var-dtype'>float64</div><div class='xr-var-preview xr-preview'>...</div><input id='attrs-a5c99f2d-a433-4d3b-aa6b-9f1d3ac06662' class='xr-var-attrs-in' type='checkbox' disabled><label for='attrs-a5c99f2d-a433-4d3b-aa6b-9f1d3ac06662' title='Show/Hide attributes'><svg class='icon xr-icon-file-text2'><use xlink:href='#icon-file-text2'></use></svg></label><input id='data-cb96dda4-b447-40c9-9760-d7ccb55466a4' class='xr-var-data-in' type='checkbox'><label for='data-cb96dda4-b447-40c9-9760-d7ccb55466a4' title='Show/Hide data repr'><svg class='icon xr-icon-database'><use xlink:href='#icon-database'></use></svg></label><div class='xr-var-attrs'><dl class='xr-attrs'></dl></div><div class='xr-var-data'><pre>array([0.085342, 0.098595, 0.085422, ..., 0.033051, 0.065783, 0.066502])</pre></div></li><li class='xr-var-item'><div class='xr-var-name'><span>spi_270d_D1</span></div><div class='xr-var-dims'>(index)</div><div class='xr-var-dtype'>float64</div><div class='xr-var-preview xr-preview'>...</div><input id='attrs-e031a06b-5a70-48cc-a498-090cb66707fc' class='xr-var-attrs-in' type='checkbox' disabled><label for='attrs-e031a06b-5a70-48cc-a498-090cb66707fc' title='Show/Hide attributes'><svg class='icon xr-icon-file-text2'><use xlink:href='#icon-file-text2'></use></svg></label><input id='data-dd1c25f2-14b0-4252-a6c4-1194e6314cbd' class='xr-var-data-in' type='checkbox'><label for='data-dd1c25f2-14b0-4252-a6c4-1194e6314cbd' title='Show/Hide data repr'><svg class='icon xr-icon-database'><use xlink:href='#icon-database'></use></svg></label><div class='xr-var-attrs'><dl class='xr-attrs'></dl></div><div class='xr-var-data'><pre>array([0.176912, 0.146815, 0.110171, ..., 0.240141, 0.260259, 0.26425 ])</pre></div></li><li class='xr-var-item'><div class='xr-var-name'><span>spi_270d_D2</span></div><div class='xr-var-dims'>(index)</div><div class='xr-var-dtype'>float64</div><div class='xr-var-preview xr-preview'>...</div><input id='attrs-d3a77f57-67ce-4aec-8ca3-efc90e03f73e' class='xr-var-attrs-in' type='checkbox' disabled><label for='attrs-d3a77f57-67ce-4aec-8ca3-efc90e03f73e' title='Show/Hide attributes'><svg class='icon xr-icon-file-text2'><use xlink:href='#icon-file-text2'></use></svg></label><input id='data-8f3e622b-088a-44eb-83a2-d89df9150154' class='xr-var-data-in' type='checkbox'><label for='data-8f3e622b-088a-44eb-83a2-d89df9150154' title='Show/Hide data repr'><svg class='icon xr-icon-database'><use xlink:href='#icon-database'></use></svg></label><div class='xr-var-attrs'><dl class='xr-attrs'></dl></div><div class='xr-var-data'><pre>array([0.025866, 0.029938, 0.025307, ..., 0.099074, 0.051732, 0.047102])</pre></div></li><li class='xr-var-item'><div class='xr-var-name'><span>spi_270d_D3</span></div><div class='xr-var-dims'>(index)</div><div class='xr-var-dtype'>float64</div><div class='xr-var-preview xr-preview'>...</div><input id='attrs-b02080c5-6df7-47f8-aa0a-957cc7ecc705' class='xr-var-attrs-in' type='checkbox' disabled><label for='attrs-b02080c5-6df7-47f8-aa0a-957cc7ecc705' title='Show/Hide attributes'><svg class='icon xr-icon-file-text2'><use xlink:href='#icon-file-text2'></use></svg></label><input id='data-3beb6b67-b54c-46bd-88b8-94a5920f9a7f' class='xr-var-data-in' type='checkbox'><label for='data-3beb6b67-b54c-46bd-88b8-94a5920f9a7f' title='Show/Hide data repr'><svg class='icon xr-icon-database'><use xlink:href='#icon-database'></use></svg></label><div class='xr-var-attrs'><dl class='xr-attrs'></dl></div><div class='xr-var-data'><pre>array([0.044068, 0.039119, 0.045984, ..., 0.122066, 0.0768  , 0.059636])</pre></div></li><li class='xr-var-item'><div class='xr-var-name'><span>spi_270d_D4</span></div><div class='xr-var-dims'>(index)</div><div class='xr-var-dtype'>float64</div><div class='xr-var-preview xr-preview'>...</div><input id='attrs-4ce93068-0b94-4fcf-978e-ae78a7486295' class='xr-var-attrs-in' type='checkbox' disabled><label for='attrs-4ce93068-0b94-4fcf-978e-ae78a7486295' title='Show/Hide attributes'><svg class='icon xr-icon-file-text2'><use xlink:href='#icon-file-text2'></use></svg></label><input id='data-9dbc8584-6ad9-41ef-a995-5739285e8232' class='xr-var-data-in' type='checkbox'><label for='data-9dbc8584-6ad9-41ef-a995-5739285e8232' title='Show/Hide data repr'><svg class='icon xr-icon-database'><use xlink:href='#icon-database'></use></svg></label><div class='xr-var-attrs'><dl class='xr-attrs'></dl></div><div class='xr-var-data'><pre>array([0.115121, 0.102267, 0.066422, ..., 0.072888, 0.065224, 0.060195])</pre></div></li><li class='xr-var-item'><div class='xr-var-name'><span>USDM Date</span></div><div class='xr-var-dims'>(index)</div><div class='xr-var-dtype'>datetime64[ns]</div><div class='xr-var-preview xr-preview'>...</div><input id='attrs-8aaed9e0-222a-4767-b71e-b6bd8db7d123' class='xr-var-attrs-in' type='checkbox' disabled><label for='attrs-8aaed9e0-222a-4767-b71e-b6bd8db7d123' title='Show/Hide attributes'><svg class='icon xr-icon-file-text2'><use xlink:href='#icon-file-text2'></use></svg></label><input id='data-4ba69af1-1fc2-47c9-b414-46199eb4d5b6' class='xr-var-data-in' type='checkbox'><label for='data-4ba69af1-1fc2-47c9-b414-46199eb4d5b6' title='Show/Hide data repr'><svg class='icon xr-icon-database'><use xlink:href='#icon-database'></use></svg></label><div class='xr-var-attrs'><dl class='xr-attrs'></dl></div><div class='xr-var-data'><pre>array([&#x27;2000-01-04T00:00:00.000000000&#x27;, &#x27;2000-01-11T00:00:00.000000000&#x27;,\n",
       "       &#x27;2000-01-18T00:00:00.000000000&#x27;, ..., &#x27;2021-12-14T00:00:00.000000000&#x27;,\n",
       "       &#x27;2021-12-21T00:00:00.000000000&#x27;, &#x27;2021-12-28T00:00:00.000000000&#x27;],\n",
       "      dtype=&#x27;datetime64[ns]&#x27;)</pre></div></li><li class='xr-var-item'><div class='xr-var-name'><span>SPI Date</span></div><div class='xr-var-dims'>(index)</div><div class='xr-var-dtype'>datetime64[ns]</div><div class='xr-var-preview xr-preview'>...</div><input id='attrs-5ce5a531-c696-4689-a3a8-7173bde406ae' class='xr-var-attrs-in' type='checkbox' disabled><label for='attrs-5ce5a531-c696-4689-a3a8-7173bde406ae' title='Show/Hide attributes'><svg class='icon xr-icon-file-text2'><use xlink:href='#icon-file-text2'></use></svg></label><input id='data-63f8f20d-07d0-4ccf-a2dd-ce8e0d007d29' class='xr-var-data-in' type='checkbox'><label for='data-63f8f20d-07d0-4ccf-a2dd-ce8e0d007d29' title='Show/Hide data repr'><svg class='icon xr-icon-database'><use xlink:href='#icon-database'></use></svg></label><div class='xr-var-attrs'><dl class='xr-attrs'></dl></div><div class='xr-var-data'><pre>array([&#x27;1999-12-31T00:00:00.000000000&#x27;, &#x27;2000-01-10T00:00:00.000000000&#x27;,\n",
       "       &#x27;2000-01-15T00:00:00.000000000&#x27;, ..., &#x27;2021-12-11T00:00:00.000000000&#x27;,\n",
       "       &#x27;2021-12-21T00:00:00.000000000&#x27;, &#x27;2021-12-26T00:00:00.000000000&#x27;],\n",
       "      dtype=&#x27;datetime64[ns]&#x27;)</pre></div></li></ul></div></li><li class='xr-section-item'><input id='section-dc3d1f69-184c-4b86-97a0-c03144e97c37' class='xr-section-summary-in' type='checkbox'  checked><label for='section-dc3d1f69-184c-4b86-97a0-c03144e97c37' class='xr-section-summary' >Attributes: <span>(1)</span></label><div class='xr-section-inline-details'></div><div class='xr-section-details'><dl class='xr-attrs'><dt><span>description :</span></dt><dd>Fraction of total non-nan area that is in that USDM drought category for the given index.</dd></dl></div></li></ul></div></div>"
      ],
      "text/plain": [
       "<xarray.Dataset>\n",
       "Dimensions:               (index: 1148)\n",
       "Coordinates:\n",
       "  * index                 (index) int64 0 1 2 3 4 5 ... 1143 1144 1145 1146 1147\n",
       "Data variables: (12/56)\n",
       "    USDM_neutral_wet      (index) float64 ...\n",
       "    USDM_D0               (index) float64 ...\n",
       "    USDM_D1               (index) float64 ...\n",
       "    USDM_D2               (index) float64 ...\n",
       "    USDM_D3               (index) float64 ...\n",
       "    USDM_D4               (index) float64 ...\n",
       "    ...                    ...\n",
       "    spi_270d_D1           (index) float64 ...\n",
       "    spi_270d_D2           (index) float64 ...\n",
       "    spi_270d_D3           (index) float64 ...\n",
       "    spi_270d_D4           (index) float64 ...\n",
       "    USDM Date             (index) datetime64[ns] ...\n",
       "    SPI Date              (index) datetime64[ns] ...\n",
       "Attributes:\n",
       "    description:  Fraction of total non-nan area that is in that USDM drought..."
      ]
     },
     "execution_count": 12,
     "metadata": {},
     "output_type": "execute_result"
    }
   ],
   "source": [
    "caf_ds"
   ]
  },
  {
   "cell_type": "code",
   "execution_count": 13,
   "metadata": {},
   "outputs": [
    {
     "name": "stdout",
     "output_type": "stream",
     "text": [
      "14d\n",
      "D4 2.78 0.00 84.48\n",
      "D3 5.53 0.01 68.14\n",
      "D2 8.48 0.11 58.61\n",
      "D1 23.26 6.89 74.53\n",
      "D0 32.47 14.35 43.33\n",
      "\n",
      "30d\n",
      "D4 4.00 0.00 88.55\n",
      "D3 7.30 0.05 51.31\n",
      "D2 10.66 0.29 45.06\n",
      "D1 26.58 10.67 83.87\n",
      "D0 35.41 18.13 50.22\n",
      "\n",
      "90d\n",
      "D4 5.89 0.02 92.18\n",
      "D3 9.50 0.16 56.27\n",
      "D2 12.81 0.67 77.32\n",
      "D1 27.74 10.77 73.00\n",
      "D0 36.27 18.25 39.69\n",
      "\n",
      "180d\n",
      "D4 5.18 0.08 92.99\n",
      "D3 8.70 0.51 55.45\n",
      "D2 12.01 1.54 22.68\n",
      "D1 27.79 14.22 67.99\n",
      "D0 36.30 21.83 31.29\n",
      "\n",
      "270d\n",
      "D4 4.88 0.14 75.88\n",
      "D3 8.16 0.81 42.18\n",
      "D2 11.23 2.06 24.18\n",
      "D1 26.11 13.93 59.17\n",
      "D0 34.75 21.75 31.81\n",
      "\n",
      "1y\n",
      "D4 4.98 0.20 78.46\n",
      "D3 8.02 1.00 24.37\n",
      "D2 10.80 2.15 21.71\n",
      "D1 25.23 13.69 61.22\n",
      "D0 34.08 22.11 30.38\n",
      "\n",
      "2y\n",
      "D4 3.91 0.28 34.15\n",
      "D3 7.02 0.78 24.18\n",
      "D2 9.98 1.50 17.45\n",
      "D1 24.33 9.68 62.10\n",
      "D0 33.21 17.33 31.22\n",
      "\n",
      "5y\n",
      "D4 3.18 0.19 72.15\n",
      "D3 5.73 0.65 40.32\n",
      "D2 7.79 1.33 19.74\n",
      "D1 18.75 8.29 48.78\n",
      "D0 26.81 13.83 26.24\n",
      "\n"
     ]
    }
   ],
   "source": [
    "for spi_int in spi_intervals:\n",
    "    print(spi_int)\n",
    "    cumulative_mean = 0\n",
    "    cumulative_median = 0\n",
    "    for cat in ['D4', 'D3', 'D2', 'D1' , 'D0']:\n",
    "        mean = 100*np.mean(caf_ds[f'spi_{spi_int}_{cat}'].values)\n",
    "        median = 100*np.median(caf_ds[f'spi_{spi_int}_{cat}'].values)\n",
    "        max = 100*np.max(caf_ds[f'spi_{spi_int}_{cat}'].values)\n",
    "        cumulative_mean += mean\n",
    "        cumulative_median += median\n",
    "        print(f'{cat} {cumulative_mean:.2f} {cumulative_median:.2f} {max:.2f}')\n",
    "\n",
    "    print()"
   ]
  },
  {
   "cell_type": "markdown",
   "metadata": {},
   "source": [
    "What if I just plot all the data."
   ]
  },
  {
   "cell_type": "markdown",
   "metadata": {},
   "source": [
    "fig, axs = plt.subplots(len(spi_intervals), 1, figsize = (15,15))\n",
    "\n",
    "for ax, spi_int in zip(axs.ravel(), spi_intervals):\n",
    "\n",
    "    ax.plot(spi_nanless[spi_int], linestyle='', marker='.')\n",
    "    bot, top = ax.get_ylim()\n",
    "    ax.set_ylim(top=-0.5, bottom=bot)\n",
    "    ax.axhline(-0.5, color='k')\n",
    "    ax.axhline(-0.8, color='k')\n",
    "    ax.axhline(-1.3, color='k')\n",
    "    ax.axhline(-1.6, color='k')\n",
    "    ax.axhline(-2.0, color='k')\n",
    "\n",
    "plt.tight_layout()"
   ]
  },
  {
   "cell_type": "markdown",
   "metadata": {},
   "source": [
    "Okay .. yeah those don't look like a mss amount in D4, the bottom most group, they seem mostly elsewhere. Will note that the data does look rather discrete ... which explains the steps in the CDF"
   ]
  },
  {
   "cell_type": "markdown",
   "metadata": {},
   "source": [
    "What if I look at some particular dates of interest?"
   ]
  },
  {
   "cell_type": "code",
   "execution_count": 14,
   "metadata": {},
   "outputs": [
    {
     "data": {
      "text/plain": [
       "<matplotlib.collections.QuadMesh at 0x7efc218db810>"
      ]
     },
     "execution_count": 14,
     "metadata": {},
     "output_type": "execute_result"
    },
    {
     "data": {
      "image/png": "[encoded data removed]",
      "text/plain": [
       "<Figure size 432x288 with 2 Axes>"
      ]
     },
     "metadata": {
      "needs_background": "light"
     },
     "output_type": "display_data"
    }
   ],
   "source": [
    "spi['5y'].sel(day='2004-04-04').plot(cmap='RdBu', vmax=-2)"
   ]
  },
  {
   "cell_type": "code",
   "execution_count": 15,
   "metadata": {},
   "outputs": [
    {
     "data": {
      "text/plain": [
       "<matplotlib.collections.QuadMesh at 0x7efc217e9290>"
      ]
     },
     "execution_count": 15,
     "metadata": {},
     "output_type": "execute_result"
    },
    {
     "data": {
      "image/png": "[encoded data removed]",
      "text/plain": [
       "<Figure size 432x288 with 2 Axes>"
      ]
     },
     "metadata": {
      "needs_background": "light"
     },
     "output_type": "display_data"
    }
   ],
   "source": [
    "spi['1y'].sel(day='2000-05-04').plot(cmap='RdBu', vmax=-2)"
   ]
  },
  {
   "cell_type": "markdown",
   "metadata": {},
   "source": [
    "Yeah those CAF are wayyy off. "
   ]
  },
  {
   "cell_type": "markdown",
   "metadata": {},
   "source": [
    "And it's not a plotting error ... cause the readout above does show those large D4 values are in the dataset ... whether or not they're the dates I picked isn't a connection I can make, but I am betting they're still wrong based on the rest of the raw data I've been looking at."
   ]
  },
  {
   "cell_type": "markdown",
   "metadata": {},
   "source": [
    "So there is clearly something wrong in how CAF is computed. But where? And why?"
   ]
  },
  {
   "cell_type": "markdown",
   "metadata": {},
   "source": [
    "I know at one point there was a problem where I was compounding accidentally ... maybe I never actually deleted the dataset that was compounded?"
   ]
  },
  {
   "cell_type": "markdown",
   "metadata": {},
   "source": [
    "Let's step through it again step by step and see if we can find the error"
   ]
  },
  {
   "cell_type": "code",
   "execution_count": 32,
   "metadata": {},
   "outputs": [],
   "source": [
    "cat = 'spi_1y'\n",
    "\n",
    "tot_cells = (np.isnan(spi_cat[cat].isel(day=0).values) == False).sum()\n",
    "cat_cells = [(spi_cat[cat].sel(day=day).values == 4).sum() for day in spi_cat[cat].day]\n",
    "percents = cat_cells/tot_cells"
   ]
  },
  {
   "cell_type": "code",
   "execution_count": 71,
   "metadata": {},
   "outputs": [
    {
     "data": {
      "image/png": "[encoded data removed]",
      "text/plain": [
       "<Figure size 720x720 with 3 Axes>"
      ]
     },
     "metadata": {
      "needs_background": "light"
     },
     "output_type": "display_data"
    }
   ],
   "source": [
    "fig, axs = plt.subplots(3,1, figsize=(10,10))\n",
    "\n",
    "axs[0].hist(percents, edgecolor='k')\n",
    "\n",
    "axs[1].hist(spi_cat[cat].values.ravel(), bins=7, edgecolor='k')\n",
    "\n",
    "axs[2].hist(spi['1y'].values.ravel(), bins=100, edgecolor='k')\n",
    "axs[2].set_xlim(right=-0.5)\n",
    "axs[2].invert_xaxis()\n",
    "axs[2].axvline(-0.8, color='r')\n",
    "axs[2].axvline(-1.3, color='r')\n",
    "axs[2].axvline(-1.6, color='r')\n",
    "axs[2].axvline(-2.0, color='r')\n",
    "\n",
    "plt.tight_layout()"
   ]
  },
  {
   "cell_type": "markdown",
   "metadata": {},
   "source": [
    "Okay, where is it really big?"
   ]
  },
  {
   "cell_type": "code",
   "execution_count": 75,
   "metadata": {},
   "outputs": [
    {
     "data": {
      "text/plain": [
       "array(['2001-06-04T00:00:00.000000000', '2001-06-09T00:00:00.000000000',\n",
       "       '2001-06-19T00:00:00.000000000', '2001-06-24T00:00:00.000000000',\n",
       "       '2001-07-09T00:00:00.000000000', '2001-07-14T00:00:00.000000000',\n",
       "       '2001-11-11T00:00:00.000000000'], dtype='datetime64[ns]')"
      ]
     },
     "execution_count": 75,
     "metadata": {},
     "output_type": "execute_result"
    }
   ],
   "source": [
    "spi_cat.day.values[np.where(percents > 0.7)[0]]"
   ]
  },
  {
   "cell_type": "code",
   "execution_count": 78,
   "metadata": {},
   "outputs": [
    {
     "data": {
      "text/plain": [
       "<matplotlib.collections.QuadMesh at 0x7efc0c26e910>"
      ]
     },
     "execution_count": 78,
     "metadata": {},
     "output_type": "execute_result"
    },
    {
     "data": {
      "image/png": "[encoded data removed]",
      "text/plain": [
       "<Figure size 432x288 with 2 Axes>"
      ]
     },
     "metadata": {
      "needs_background": "light"
     },
     "output_type": "display_data"
    }
   ],
   "source": [
    "spi_cat[cat].sel(day='2001-06-04').plot()"
   ]
  },
  {
   "cell_type": "code",
   "execution_count": 88,
   "metadata": {},
   "outputs": [
    {
     "data": {
      "text/plain": [
       "<matplotlib.collections.QuadMesh at 0x7ef813302bd0>"
      ]
     },
     "execution_count": 88,
     "metadata": {},
     "output_type": "execute_result"
    },
    {
     "data": {
      "image/png": "[encoded data removed]",
      "text/plain": [
       "<Figure size 432x288 with 2 Axes>"
      ]
     },
     "metadata": {
      "needs_background": "light"
     },
     "output_type": "display_data"
    }
   ],
   "source": [
    "spi['1y'].sel(day='2001-06-04').plot(cmap='RdBu')"
   ]
  },
  {
   "cell_type": "markdown",
   "metadata": {},
   "source": [
    "Huh, that's actually correct. And when I look up WA drought in 2001, I see it was the fifth driest Jan-July in the PNW on record at the time ... which tracks with the SPI plots https://www.ncei.noaa.gov/access/monitoring/monthly-report/drought/200107"
   ]
  },
  {
   "cell_type": "markdown",
   "metadata": {},
   "source": [
    "And so that'd also line up with several of the SPI's capturing the 2000-2001 drought with shorter windows showing a sooner recovery but the longer windows showing the long-term impacts."
   ]
  },
  {
   "cell_type": "markdown",
   "metadata": {},
   "source": [
    "That report does confirm that there was more rainfall in July, alleviating short-term but long-term severe drought still persisted."
   ]
  },
  {
   "cell_type": "markdown",
   "metadata": {},
   "source": [
    "But the USDM just doesn't capture it? Checking the map archive ... it's just not there in WA?!? https://droughtmonitor.unl.edu/Maps/MapArchive.aspx"
   ]
  },
  {
   "cell_type": "markdown",
   "metadata": {},
   "source": [
    "But it does capture it in Oregon and Idaho .."
   ]
  },
  {
   "cell_type": "markdown",
   "metadata": {},
   "source": [
    "What about that SPI 5y event?"
   ]
  },
  {
   "cell_type": "code",
   "execution_count": 79,
   "metadata": {},
   "outputs": [],
   "source": [
    "cat = 'spi_5y'\n",
    "\n",
    "tot_cells = (np.isnan(spi_cat[cat].isel(day=0).values) == False).sum()\n",
    "cat_cells = [(spi_cat[cat].sel(day=day).values == 4).sum() for day in spi_cat[cat].day]\n",
    "percents = cat_cells/tot_cells"
   ]
  },
  {
   "cell_type": "code",
   "execution_count": 80,
   "metadata": {},
   "outputs": [
    {
     "data": {
      "text/plain": [
       "array(['2005-03-06T00:00:00.000000000', '2005-03-11T00:00:00.000000000',\n",
       "       '2005-03-21T00:00:00.000000000', '2005-03-26T00:00:00.000000000'],\n",
       "      dtype='datetime64[ns]')"
      ]
     },
     "execution_count": 80,
     "metadata": {},
     "output_type": "execute_result"
    }
   ],
   "source": [
    "spi_cat.day.values[np.where(percents > 0.7)[0]]"
   ]
  },
  {
   "cell_type": "code",
   "execution_count": 84,
   "metadata": {},
   "outputs": [
    {
     "data": {
      "text/plain": [
       "<matplotlib.collections.QuadMesh at 0x7efa0bcde9d0>"
      ]
     },
     "execution_count": 84,
     "metadata": {},
     "output_type": "execute_result"
    },
    {
     "data": {
      "image/png": "[encoded data removed]",
      "text/plain": [
       "<Figure size 432x288 with 2 Axes>"
      ]
     },
     "metadata": {
      "needs_background": "light"
     },
     "output_type": "display_data"
    }
   ],
   "source": [
    "spi_cat['spi_5y'].sel(day='2005-03-06').plot()"
   ]
  },
  {
   "cell_type": "code",
   "execution_count": 86,
   "metadata": {},
   "outputs": [
    {
     "data": {
      "text/plain": [
       "<matplotlib.collections.QuadMesh at 0x7ef9b0c6c810>"
      ]
     },
     "execution_count": 86,
     "metadata": {},
     "output_type": "execute_result"
    },
    {
     "data": {
      "image/png": "[encoded data removed]",
      "text/plain": [
       "<Figure size 432x288 with 2 Axes>"
      ]
     },
     "metadata": {
      "needs_background": "light"
     },
     "output_type": "display_data"
    }
   ],
   "source": [
    "spi['5y'].sel(day='2005-03-06').plot(cmap='RdBu')"
   ]
  },
  {
   "cell_type": "markdown",
   "metadata": {},
   "source": [
    "Okay, so the calculations don't actually look wrong then ... but still shocking ... and why doesn't USDM pick up on it?"
   ]
  },
  {
   "cell_type": "markdown",
   "metadata": {},
   "source": [
    "But where is the 2015 drought?? It comes up in USDM but not SPI largely ..."
   ]
  },
  {
   "cell_type": "markdown",
   "metadata": {},
   "source": [
    "OH SHIT. ITS BECAUSE THE 2015 DROUGHT WAS A SNOW DROUGHT, AND SPI DOESNT DISTINGUISH BETWEEN RAIN AND SNOW FOR PRECIP!!! https://climate.washington.edu/climate-events/2015drought/"
   ]
  },
  {
   "cell_type": "markdown",
   "metadata": {},
   "source": [
    "So maybe looking at more indicators will shed light on why USDM doesn't pick up the 2001 drought ... looking at the Drought Impacts Reporter there isn't much news on it ... so maybe it wasn't felt as much and that's why USDM didn't pick up?"
   ]
  },
  {
   "cell_type": "markdown",
   "metadata": {},
   "source": [
    "I think this is sufficient to move on."
   ]
  },
  {
   "cell_type": "code",
   "execution_count": null,
   "metadata": {},
   "outputs": [],
   "source": []
  }
 ],
 "metadata": {
  "interpreter": {
   "hash": "5585d616cc037afe4e5997f9d5ad9938ec3148b25e01a6d2931d801949bec716"
  },
  "kernelspec": {
   "display_name": "Python 3.7.12 ('sedi')",
   "language": "python",
   "name": "python3"
  },
  "language_info": {
   "codemirror_mode": {
    "name": "ipython",
    "version": 3
   },
   "file_extension": ".py",
   "mimetype": "text/x-python",
   "name": "python",
   "nbconvert_exporter": "python",
   "pygments_lexer": "ipython3",
   "version": "3.10.5"
  },
  "orig_nbformat": 4
 },
 "nbformat": 4,
 "nbformat_minor": 2
}
