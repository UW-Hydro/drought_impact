{
 "cells": [
  {
   "cell_type": "markdown",
   "metadata": {},
   "source": [
    "- environment file (min setup)\n",
    "- put dataset on hydroshare\n",
    "    - test: spi180d over Washington\n",
    "- setup cell that pulls data from hydroshare and goes through basic functionality of package\n",
    "    - runs through creating the network\n",
    "    - few cells that show some plotting\n",
    "- well documented notebook & functions"
   ]
  },
  {
   "cell_type": "markdown",
   "metadata": {},
   "source": [
    "# ndrought Tutorial\n",
    "a. stein 8.1.2023"
   ]
  },
  {
   "cell_type": "markdown",
   "metadata": {},
   "source": [
    "## Setup"
   ]
  },
  {
   "cell_type": "code",
   "execution_count": 1,
   "metadata": {},
   "outputs": [
    {
     "name": "stderr",
     "output_type": "stream",
     "text": [
      "/pool0/data/steinjao/drought/drought_impact/notebooks/tutorial/../../ndrought/wrangle_v11.py:18: TqdmWarning: IProgress not found. Please update jupyter and ipywidgets. See https://ipywidgets.readthedocs.io/en/stable/user_install.html\n",
      "  from tqdm.autonotebook import tqdm\n"
     ]
    }
   ],
   "source": [
    "import numpy as np\n",
    "\n",
    "import sys\n",
    "import os\n",
    "sys.path.append('../../')\n",
    "import ndrought.drought_network_v12 as dnet\n",
    "import ndrought.wrangle_v11 as dnw\n",
    "\n",
    "import matplotlib as mpl\n",
    "import matplotlib.pyplot as plt\n",
    "\n",
    "import pandas as pd\n",
    "import xarray as xr\n",
    "\n",
    "from tqdm.autonotebook import tqdm\n",
    "\n",
    "from dask.distributed import Client, LocalCluster, wait\n",
    "import dask"
   ]
  },
  {
   "cell_type": "markdown",
   "metadata": {},
   "source": [
    "Download Data"
   ]
  },
  {
   "cell_type": "code",
   "execution_count": 2,
   "metadata": {},
   "outputs": [],
   "source": [
    "if not os.path.exists('spi180d_tutorial.nc'):\n",
    "    !wget https://www.hydroshare.org/resource/1ca38699cd1245b8bf9baf52bc99b85d/data/contents/spi180d_tutorial.nc"
   ]
  },
  {
   "cell_type": "markdown",
   "metadata": {},
   "source": [
    "Read in data"
   ]
  },
  {
   "cell_type": "code",
   "execution_count": 3,
   "metadata": {},
   "outputs": [
    {
     "data": {
      "text/html": [
       "<div><svg style=\"position: absolute; width: 0; height: 0; overflow: hidden\">\n",
       "<defs>\n",
       "<symbol id=\"icon-database\" viewBox=\"0 0 32 32\">\n",
       "<path d=\"M16 0c-8.837 0-16 2.239-16 5v4c0 2.761 7.163 5 16 5s16-2.239 16-5v-4c0-2.761-7.163-5-16-5z\"></path>\n",
       "<path d=\"M16 17c-8.837 0-16-2.239-16-5v6c0 2.761 7.163 5 16 5s16-2.239 16-5v-6c0 2.761-7.163 5-16 5z\"></path>\n",
       "<path d=\"M16 26c-8.837 0-16-2.239-16-5v6c0 2.761 7.163 5 16 5s16-2.239 16-5v-6c0 2.761-7.163 5-16 5z\"></path>\n",
       "</symbol>\n",
       "<symbol id=\"icon-file-text2\" viewBox=\"0 0 32 32\">\n",
       "<path d=\"M28.681 7.159c-0.694-0.947-1.662-2.053-2.724-3.116s-2.169-2.030-3.116-2.724c-1.612-1.182-2.393-1.319-2.841-1.319h-15.5c-1.378 0-2.5 1.121-2.5 2.5v27c0 1.378 1.122 2.5 2.5 2.5h23c1.378 0 2.5-1.122 2.5-2.5v-19.5c0-0.448-0.137-1.23-1.319-2.841zM24.543 5.457c0.959 0.959 1.712 1.825 2.268 2.543h-4.811v-4.811c0.718 0.556 1.584 1.309 2.543 2.268zM28 29.5c0 0.271-0.229 0.5-0.5 0.5h-23c-0.271 0-0.5-0.229-0.5-0.5v-27c0-0.271 0.229-0.5 0.5-0.5 0 0 15.499-0 15.5 0v7c0 0.552 0.448 1 1 1h7v19.5z\"></path>\n",
       "<path d=\"M23 26h-14c-0.552 0-1-0.448-1-1s0.448-1 1-1h14c0.552 0 1 0.448 1 1s-0.448 1-1 1z\"></path>\n",
       "<path d=\"M23 22h-14c-0.552 0-1-0.448-1-1s0.448-1 1-1h14c0.552 0 1 0.448 1 1s-0.448 1-1 1z\"></path>\n",
       "<path d=\"M23 18h-14c-0.552 0-1-0.448-1-1s0.448-1 1-1h14c0.552 0 1 0.448 1 1s-0.448 1-1 1z\"></path>\n",
       "</symbol>\n",
       "</defs>\n",
       "</svg>\n",
       "<style>/* CSS stylesheet for displaying xarray objects in jupyterlab.\n",
       " *\n",
       " */\n",
       "\n",
       ":root {\n",
       "  --xr-font-color0: var(--jp-content-font-color0, rgba(0, 0, 0, 1));\n",
       "  --xr-font-color2: var(--jp-content-font-color2, rgba(0, 0, 0, 0.54));\n",
       "  --xr-font-color3: var(--jp-content-font-color3, rgba(0, 0, 0, 0.38));\n",
       "  --xr-border-color: var(--jp-border-color2, #e0e0e0);\n",
       "  --xr-disabled-color: var(--jp-layout-color3, #bdbdbd);\n",
       "  --xr-background-color: var(--jp-layout-color0, white);\n",
       "  --xr-background-color-row-even: var(--jp-layout-color1, white);\n",
       "  --xr-background-color-row-odd: var(--jp-layout-color2, #eeeeee);\n",
       "}\n",
       "\n",
       "html[theme=dark],\n",
       "body[data-theme=dark],\n",
       "body.vscode-dark {\n",
       "  --xr-font-color0: rgba(255, 255, 255, 1);\n",
       "  --xr-font-color2: rgba(255, 255, 255, 0.54);\n",
       "  --xr-font-color3: rgba(255, 255, 255, 0.38);\n",
       "  --xr-border-color: #1F1F1F;\n",
       "  --xr-disabled-color: #515151;\n",
       "  --xr-background-color: #111111;\n",
       "  --xr-background-color-row-even: #111111;\n",
       "  --xr-background-color-row-odd: #313131;\n",
       "}\n",
       "\n",
       ".xr-wrap {\n",
       "  display: block !important;\n",
       "  min-width: 300px;\n",
       "  max-width: 700px;\n",
       "}\n",
       "\n",
       ".xr-text-repr-fallback {\n",
       "  /* fallback to plain text repr when CSS is not injected (untrusted notebook) */\n",
       "  display: none;\n",
       "}\n",
       "\n",
       ".xr-header {\n",
       "  padding-top: 6px;\n",
       "  padding-bottom: 6px;\n",
       "  margin-bottom: 4px;\n",
       "  border-bottom: solid 1px var(--xr-border-color);\n",
       "}\n",
       "\n",
       ".xr-header > div,\n",
       ".xr-header > ul {\n",
       "  display: inline;\n",
       "  margin-top: 0;\n",
       "  margin-bottom: 0;\n",
       "}\n",
       "\n",
       ".xr-obj-type,\n",
       ".xr-array-name {\n",
       "  margin-left: 2px;\n",
       "  margin-right: 10px;\n",
       "}\n",
       "\n",
       ".xr-obj-type {\n",
       "  color: var(--xr-font-color2);\n",
       "}\n",
       "\n",
       ".xr-sections {\n",
       "  padding-left: 0 !important;\n",
       "  display: grid;\n",
       "  grid-template-columns: 150px auto auto 1fr 20px 20px;\n",
       "}\n",
       "\n",
       ".xr-section-item {\n",
       "  display: contents;\n",
       "}\n",
       "\n",
       ".xr-section-item input {\n",
       "  display: none;\n",
       "}\n",
       "\n",
       ".xr-section-item input + label {\n",
       "  color: var(--xr-disabled-color);\n",
       "}\n",
       "\n",
       ".xr-section-item input:enabled + label {\n",
       "  cursor: pointer;\n",
       "  color: var(--xr-font-color2);\n",
       "}\n",
       "\n",
       ".xr-section-item input:enabled + label:hover {\n",
       "  color: var(--xr-font-color0);\n",
       "}\n",
       "\n",
       ".xr-section-summary {\n",
       "  grid-column: 1;\n",
       "  color: var(--xr-font-color2);\n",
       "  font-weight: 500;\n",
       "}\n",
       "\n",
       ".xr-section-summary > span {\n",
       "  display: inline-block;\n",
       "  padding-left: 0.5em;\n",
       "}\n",
       "\n",
       ".xr-section-summary-in:disabled + label {\n",
       "  color: var(--xr-font-color2);\n",
       "}\n",
       "\n",
       ".xr-section-summary-in + label:before {\n",
       "  display: inline-block;\n",
       "  content: '►';\n",
       "  font-size: 11px;\n",
       "  width: 15px;\n",
       "  text-align: center;\n",
       "}\n",
       "\n",
       ".xr-section-summary-in:disabled + label:before {\n",
       "  color: var(--xr-disabled-color);\n",
       "}\n",
       "\n",
       ".xr-section-summary-in:checked + label:before {\n",
       "  content: '▼';\n",
       "}\n",
       "\n",
       ".xr-section-summary-in:checked + label > span {\n",
       "  display: none;\n",
       "}\n",
       "\n",
       ".xr-section-summary,\n",
       ".xr-section-inline-details {\n",
       "  padding-top: 4px;\n",
       "  padding-bottom: 4px;\n",
       "}\n",
       "\n",
       ".xr-section-inline-details {\n",
       "  grid-column: 2 / -1;\n",
       "}\n",
       "\n",
       ".xr-section-details {\n",
       "  display: none;\n",
       "  grid-column: 1 / -1;\n",
       "  margin-bottom: 5px;\n",
       "}\n",
       "\n",
       ".xr-section-summary-in:checked ~ .xr-section-details {\n",
       "  display: contents;\n",
       "}\n",
       "\n",
       ".xr-array-wrap {\n",
       "  grid-column: 1 / -1;\n",
       "  display: grid;\n",
       "  grid-template-columns: 20px auto;\n",
       "}\n",
       "\n",
       ".xr-array-wrap > label {\n",
       "  grid-column: 1;\n",
       "  vertical-align: top;\n",
       "}\n",
       "\n",
       ".xr-preview {\n",
       "  color: var(--xr-font-color3);\n",
       "}\n",
       "\n",
       ".xr-array-preview,\n",
       ".xr-array-data {\n",
       "  padding: 0 5px !important;\n",
       "  grid-column: 2;\n",
       "}\n",
       "\n",
       ".xr-array-data,\n",
       ".xr-array-in:checked ~ .xr-array-preview {\n",
       "  display: none;\n",
       "}\n",
       "\n",
       ".xr-array-in:checked ~ .xr-array-data,\n",
       ".xr-array-preview {\n",
       "  display: inline-block;\n",
       "}\n",
       "\n",
       ".xr-dim-list {\n",
       "  display: inline-block !important;\n",
       "  list-style: none;\n",
       "  padding: 0 !important;\n",
       "  margin: 0;\n",
       "}\n",
       "\n",
       ".xr-dim-list li {\n",
       "  display: inline-block;\n",
       "  padding: 0;\n",
       "  margin: 0;\n",
       "}\n",
       "\n",
       ".xr-dim-list:before {\n",
       "  content: '(';\n",
       "}\n",
       "\n",
       ".xr-dim-list:after {\n",
       "  content: ')';\n",
       "}\n",
       "\n",
       ".xr-dim-list li:not(:last-child):after {\n",
       "  content: ',';\n",
       "  padding-right: 5px;\n",
       "}\n",
       "\n",
       ".xr-has-index {\n",
       "  font-weight: bold;\n",
       "}\n",
       "\n",
       ".xr-var-list,\n",
       ".xr-var-item {\n",
       "  display: contents;\n",
       "}\n",
       "\n",
       ".xr-var-item > div,\n",
       ".xr-var-item label,\n",
       ".xr-var-item > .xr-var-name span {\n",
       "  background-color: var(--xr-background-color-row-even);\n",
       "  margin-bottom: 0;\n",
       "}\n",
       "\n",
       ".xr-var-item > .xr-var-name:hover span {\n",
       "  padding-right: 5px;\n",
       "}\n",
       "\n",
       ".xr-var-list > li:nth-child(odd) > div,\n",
       ".xr-var-list > li:nth-child(odd) > label,\n",
       ".xr-var-list > li:nth-child(odd) > .xr-var-name span {\n",
       "  background-color: var(--xr-background-color-row-odd);\n",
       "}\n",
       "\n",
       ".xr-var-name {\n",
       "  grid-column: 1;\n",
       "}\n",
       "\n",
       ".xr-var-dims {\n",
       "  grid-column: 2;\n",
       "}\n",
       "\n",
       ".xr-var-dtype {\n",
       "  grid-column: 3;\n",
       "  text-align: right;\n",
       "  color: var(--xr-font-color2);\n",
       "}\n",
       "\n",
       ".xr-var-preview {\n",
       "  grid-column: 4;\n",
       "}\n",
       "\n",
       ".xr-index-preview {\n",
       "  grid-column: 2 / 5;\n",
       "  color: var(--xr-font-color2);\n",
       "}\n",
       "\n",
       ".xr-var-name,\n",
       ".xr-var-dims,\n",
       ".xr-var-dtype,\n",
       ".xr-preview,\n",
       ".xr-attrs dt {\n",
       "  white-space: nowrap;\n",
       "  overflow: hidden;\n",
       "  text-overflow: ellipsis;\n",
       "  padding-right: 10px;\n",
       "}\n",
       "\n",
       ".xr-var-name:hover,\n",
       ".xr-var-dims:hover,\n",
       ".xr-var-dtype:hover,\n",
       ".xr-attrs dt:hover {\n",
       "  overflow: visible;\n",
       "  width: auto;\n",
       "  z-index: 1;\n",
       "}\n",
       "\n",
       ".xr-var-attrs,\n",
       ".xr-var-data,\n",
       ".xr-index-data {\n",
       "  display: none;\n",
       "  background-color: var(--xr-background-color) !important;\n",
       "  padding-bottom: 5px !important;\n",
       "}\n",
       "\n",
       ".xr-var-attrs-in:checked ~ .xr-var-attrs,\n",
       ".xr-var-data-in:checked ~ .xr-var-data,\n",
       ".xr-index-data-in:checked ~ .xr-index-data {\n",
       "  display: block;\n",
       "}\n",
       "\n",
       ".xr-var-data > table {\n",
       "  float: right;\n",
       "}\n",
       "\n",
       ".xr-var-name span,\n",
       ".xr-var-data,\n",
       ".xr-index-name div,\n",
       ".xr-index-data,\n",
       ".xr-attrs {\n",
       "  padding-left: 25px !important;\n",
       "}\n",
       "\n",
       ".xr-attrs,\n",
       ".xr-var-attrs,\n",
       ".xr-var-data,\n",
       ".xr-index-data {\n",
       "  grid-column: 1 / -1;\n",
       "}\n",
       "\n",
       "dl.xr-attrs {\n",
       "  padding: 0;\n",
       "  margin: 0;\n",
       "  display: grid;\n",
       "  grid-template-columns: 125px auto;\n",
       "}\n",
       "\n",
       ".xr-attrs dt,\n",
       ".xr-attrs dd {\n",
       "  padding: 0;\n",
       "  margin: 0;\n",
       "  float: left;\n",
       "  padding-right: 10px;\n",
       "  width: auto;\n",
       "}\n",
       "\n",
       ".xr-attrs dt {\n",
       "  font-weight: normal;\n",
       "  grid-column: 1;\n",
       "}\n",
       "\n",
       ".xr-attrs dt:hover span {\n",
       "  display: inline-block;\n",
       "  background: var(--xr-background-color);\n",
       "  padding-right: 10px;\n",
       "}\n",
       "\n",
       ".xr-attrs dd {\n",
       "  grid-column: 2;\n",
       "  white-space: pre-wrap;\n",
       "  word-break: break-all;\n",
       "}\n",
       "\n",
       ".xr-icon-database,\n",
       ".xr-icon-file-text2,\n",
       ".xr-no-icon {\n",
       "  display: inline-block;\n",
       "  vertical-align: middle;\n",
       "  width: 1em;\n",
       "  height: 1.5em !important;\n",
       "  stroke-width: 0;\n",
       "  stroke: currentColor;\n",
       "  fill: currentColor;\n",
       "}\n",
       "</style><pre class='xr-text-repr-fallback'>&lt;xarray.Dataset&gt;\n",
       "Dimensions:  (lat: 84, lon: 188, day: 1533)\n",
       "Coordinates:\n",
       "  * lat      (lat) float64 48.98 48.94 48.9 48.86 ... 45.65 45.61 45.57 45.53\n",
       "  * lon      (lon) float64 -124.7 -124.7 -124.6 -124.6 ... -117.0 -117.0 -116.9\n",
       "  * day      (day) datetime64[ns] 2000-01-05 2000-01-10 ... 2020-12-30\n",
       "Data variables:\n",
       "    crs      int64 ...\n",
       "    spi      (day, lat, lon) float32 ...</pre><div class='xr-wrap' style='display:none'><div class='xr-header'><div class='xr-obj-type'>xarray.Dataset</div></div><ul class='xr-sections'><li class='xr-section-item'><input id='section-4f0d75eb-a5f8-4cc0-bca5-7c19d4b10bfd' class='xr-section-summary-in' type='checkbox' disabled ><label for='section-4f0d75eb-a5f8-4cc0-bca5-7c19d4b10bfd' class='xr-section-summary'  title='Expand/collapse section'>Dimensions:</label><div class='xr-section-inline-details'><ul class='xr-dim-list'><li><span class='xr-has-index'>lat</span>: 84</li><li><span class='xr-has-index'>lon</span>: 188</li><li><span class='xr-has-index'>day</span>: 1533</li></ul></div><div class='xr-section-details'></div></li><li class='xr-section-item'><input id='section-ac80b09e-bb05-4faa-b1f4-65f6f6e88865' class='xr-section-summary-in' type='checkbox'  checked><label for='section-ac80b09e-bb05-4faa-b1f4-65f6f6e88865' class='xr-section-summary' >Coordinates: <span>(3)</span></label><div class='xr-section-inline-details'></div><div class='xr-section-details'><ul class='xr-var-list'><li class='xr-var-item'><div class='xr-var-name'><span class='xr-has-index'>lat</span></div><div class='xr-var-dims'>(lat)</div><div class='xr-var-dtype'>float64</div><div class='xr-var-preview xr-preview'>48.98 48.94 48.9 ... 45.57 45.53</div><input id='attrs-47153a07-f745-4d87-b751-814996c46f7e' class='xr-var-attrs-in' type='checkbox' ><label for='attrs-47153a07-f745-4d87-b751-814996c46f7e' title='Show/Hide attributes'><svg class='icon xr-icon-file-text2'><use xlink:href='#icon-file-text2'></use></svg></label><input id='data-621aab15-5cd5-4cdb-bd3f-fd2f80594233' class='xr-var-data-in' type='checkbox'><label for='data-621aab15-5cd5-4cdb-bd3f-fd2f80594233' title='Show/Hide data repr'><svg class='icon xr-icon-database'><use xlink:href='#icon-database'></use></svg></label><div class='xr-var-attrs'><dl class='xr-attrs'><dt><span>units :</span></dt><dd>degrees_north</dd><dt><span>description :</span></dt><dd>latitude</dd><dt><span>long_name :</span></dt><dd>latitude</dd><dt><span>standard_name :</span></dt><dd>latitude</dd><dt><span>axis :</span></dt><dd>Y</dd></dl></div><div class='xr-var-data'><pre>array([48.983333, 48.941667, 48.9     , 48.858333, 48.816667, 48.775   ,\n",
       "       48.733333, 48.691667, 48.65    , 48.608333, 48.566667, 48.525   ,\n",
       "       48.483333, 48.441667, 48.4     , 48.358333, 48.316667, 48.275   ,\n",
       "       48.233333, 48.191667, 48.15    , 48.108333, 48.066667, 48.025   ,\n",
       "       47.983333, 47.941667, 47.9     , 47.858333, 47.816667, 47.775   ,\n",
       "       47.733333, 47.691667, 47.65    , 47.608333, 47.566667, 47.525   ,\n",
       "       47.483333, 47.441667, 47.4     , 47.358333, 47.316667, 47.275   ,\n",
       "       47.233333, 47.191667, 47.15    , 47.108333, 47.066667, 47.025   ,\n",
       "       46.983333, 46.941667, 46.9     , 46.858333, 46.816667, 46.775   ,\n",
       "       46.733333, 46.691667, 46.65    , 46.608333, 46.566667, 46.525   ,\n",
       "       46.483333, 46.441667, 46.4     , 46.358333, 46.316667, 46.275   ,\n",
       "       46.233333, 46.191667, 46.15    , 46.108333, 46.066667, 46.025   ,\n",
       "       45.983333, 45.941667, 45.9     , 45.858333, 45.816667, 45.775   ,\n",
       "       45.733333, 45.691667, 45.65    , 45.608333, 45.566667, 45.525   ])</pre></div></li><li class='xr-var-item'><div class='xr-var-name'><span class='xr-has-index'>lon</span></div><div class='xr-var-dims'>(lon)</div><div class='xr-var-dtype'>float64</div><div class='xr-var-preview xr-preview'>-124.7 -124.7 ... -117.0 -116.9</div><input id='attrs-1a297607-0f56-4a42-a9bc-f30d3a958463' class='xr-var-attrs-in' type='checkbox' ><label for='attrs-1a297607-0f56-4a42-a9bc-f30d3a958463' title='Show/Hide attributes'><svg class='icon xr-icon-file-text2'><use xlink:href='#icon-file-text2'></use></svg></label><input id='data-fe2e6118-9aad-47df-825f-dc1fe695a88b' class='xr-var-data-in' type='checkbox'><label for='data-fe2e6118-9aad-47df-825f-dc1fe695a88b' title='Show/Hide data repr'><svg class='icon xr-icon-database'><use xlink:href='#icon-database'></use></svg></label><div class='xr-var-attrs'><dl class='xr-attrs'><dt><span>units :</span></dt><dd>degrees_east</dd><dt><span>description :</span></dt><dd>longitude</dd><dt><span>long_name :</span></dt><dd>longitude</dd><dt><span>standard_name :</span></dt><dd>longitude</dd><dt><span>axis :</span></dt><dd>X</dd></dl></div><div class='xr-var-data'><pre>array([-124.725   , -124.683333, -124.641667, -124.6     , -124.558333,\n",
       "       -124.516667, -124.475   , -124.433333, -124.391667, -124.35    ,\n",
       "       -124.308333, -124.266667, -124.225   , -124.183333, -124.141667,\n",
       "       -124.1     , -124.058333, -124.016667, -123.975   , -123.933333,\n",
       "       -123.891667, -123.85    , -123.808333, -123.766667, -123.725   ,\n",
       "       -123.683333, -123.641667, -123.6     , -123.558333, -123.516667,\n",
       "       -123.475   , -123.433333, -123.391667, -123.35    , -123.308333,\n",
       "       -123.266667, -123.225   , -123.183333, -123.141667, -123.1     ,\n",
       "       -123.058333, -123.016667, -122.975   , -122.933333, -122.891667,\n",
       "       -122.85    , -122.808333, -122.766667, -122.725   , -122.683333,\n",
       "       -122.641667, -122.6     , -122.558333, -122.516667, -122.475   ,\n",
       "       -122.433333, -122.391667, -122.35    , -122.308333, -122.266667,\n",
       "       -122.225   , -122.183333, -122.141667, -122.1     , -122.058333,\n",
       "       -122.016667, -121.975   , -121.933333, -121.891667, -121.85    ,\n",
       "       -121.808333, -121.766667, -121.725   , -121.683333, -121.641667,\n",
       "       -121.6     , -121.558333, -121.516667, -121.475   , -121.433333,\n",
       "       -121.391667, -121.35    , -121.308333, -121.266667, -121.225   ,\n",
       "       -121.183333, -121.141667, -121.1     , -121.058333, -121.016667,\n",
       "       -120.975   , -120.933333, -120.891667, -120.85    , -120.808333,\n",
       "       -120.766667, -120.725   , -120.683333, -120.641667, -120.6     ,\n",
       "       -120.558333, -120.516667, -120.475   , -120.433333, -120.391667,\n",
       "       -120.35    , -120.308333, -120.266667, -120.225   , -120.183333,\n",
       "       -120.141667, -120.1     , -120.058333, -120.016667, -119.975   ,\n",
       "       -119.933333, -119.891667, -119.85    , -119.808333, -119.766667,\n",
       "       -119.725   , -119.683333, -119.641667, -119.6     , -119.558333,\n",
       "       -119.516667, -119.475   , -119.433333, -119.391667, -119.35    ,\n",
       "       -119.308333, -119.266667, -119.225   , -119.183333, -119.141667,\n",
       "       -119.1     , -119.058333, -119.016667, -118.975   , -118.933333,\n",
       "       -118.891667, -118.85    , -118.808333, -118.766667, -118.725   ,\n",
       "       -118.683333, -118.641667, -118.6     , -118.558333, -118.516667,\n",
       "       -118.475   , -118.433333, -118.391667, -118.35    , -118.308333,\n",
       "       -118.266667, -118.225   , -118.183333, -118.141667, -118.1     ,\n",
       "       -118.058333, -118.016667, -117.975   , -117.933333, -117.891667,\n",
       "       -117.85    , -117.808333, -117.766667, -117.725   , -117.683333,\n",
       "       -117.641667, -117.6     , -117.558333, -117.516667, -117.475   ,\n",
       "       -117.433333, -117.391667, -117.35    , -117.308333, -117.266667,\n",
       "       -117.225   , -117.183333, -117.141667, -117.1     , -117.058333,\n",
       "       -117.016667, -116.975   , -116.933333])</pre></div></li><li class='xr-var-item'><div class='xr-var-name'><span class='xr-has-index'>day</span></div><div class='xr-var-dims'>(day)</div><div class='xr-var-dtype'>datetime64[ns]</div><div class='xr-var-preview xr-preview'>2000-01-05 ... 2020-12-30</div><input id='attrs-c7c532ad-54ef-4bc4-a8e5-f4780f98312c' class='xr-var-attrs-in' type='checkbox' ><label for='attrs-c7c532ad-54ef-4bc4-a8e5-f4780f98312c' title='Show/Hide attributes'><svg class='icon xr-icon-file-text2'><use xlink:href='#icon-file-text2'></use></svg></label><input id='data-82f28217-ee94-4763-8654-5bfc253b76b9' class='xr-var-data-in' type='checkbox'><label for='data-82f28217-ee94-4763-8654-5bfc253b76b9' title='Show/Hide data repr'><svg class='icon xr-icon-database'><use xlink:href='#icon-database'></use></svg></label><div class='xr-var-attrs'><dl class='xr-attrs'><dt><span>description :</span></dt><dd>days since 1900-01-01</dd><dt><span>long_name :</span></dt><dd>time</dd><dt><span>standard_name :</span></dt><dd>time</dd></dl></div><div class='xr-var-data'><pre>array([&#x27;2000-01-05T00:00:00.000000000&#x27;, &#x27;2000-01-10T00:00:00.000000000&#x27;,\n",
       "       &#x27;2000-01-15T00:00:00.000000000&#x27;, ..., &#x27;2020-12-20T00:00:00.000000000&#x27;,\n",
       "       &#x27;2020-12-25T00:00:00.000000000&#x27;, &#x27;2020-12-30T00:00:00.000000000&#x27;],\n",
       "      dtype=&#x27;datetime64[ns]&#x27;)</pre></div></li></ul></div></li><li class='xr-section-item'><input id='section-1b46faac-e2e3-46a8-97dd-efb277d53945' class='xr-section-summary-in' type='checkbox'  checked><label for='section-1b46faac-e2e3-46a8-97dd-efb277d53945' class='xr-section-summary' >Data variables: <span>(2)</span></label><div class='xr-section-inline-details'></div><div class='xr-section-details'><ul class='xr-var-list'><li class='xr-var-item'><div class='xr-var-name'><span>crs</span></div><div class='xr-var-dims'>()</div><div class='xr-var-dtype'>int64</div><div class='xr-var-preview xr-preview'>...</div><input id='attrs-c6649f9e-ddb7-4c92-b528-eac6d29f6c6b' class='xr-var-attrs-in' type='checkbox' ><label for='attrs-c6649f9e-ddb7-4c92-b528-eac6d29f6c6b' title='Show/Hide attributes'><svg class='icon xr-icon-file-text2'><use xlink:href='#icon-file-text2'></use></svg></label><input id='data-793e871b-2aea-40fb-8747-bab65ce7e272' class='xr-var-data-in' type='checkbox'><label for='data-793e871b-2aea-40fb-8747-bab65ce7e272' title='Show/Hide data repr'><svg class='icon xr-icon-database'><use xlink:href='#icon-database'></use></svg></label><div class='xr-var-attrs'><dl class='xr-attrs'><dt><span>crs_wkt :</span></dt><dd>GEOGCS[&quot;WGS 84&quot;,DATUM[&quot;WGS_1984&quot;,SPHEROID[&quot;WGS 84&quot;,6378137,298.257223563,AUTHORITY[&quot;EPSG&quot;,&quot;7030&quot;]],AUTHORITY[&quot;EPSG&quot;,&quot;6326&quot;]],PRIMEM[&quot;Greenwich&quot;,0,AUTHORITY[&quot;EPSG&quot;,&quot;8901&quot;]],UNIT[&quot;degree&quot;,0.0174532925199433,AUTHORITY[&quot;EPSG&quot;,&quot;9122&quot;]],AXIS[&quot;Latitude&quot;,NORTH],AXIS[&quot;Longitude&quot;,EAST],AUTHORITY[&quot;EPSG&quot;,&quot;4326&quot;]]</dd><dt><span>semi_major_axis :</span></dt><dd>6378137.0</dd><dt><span>semi_minor_axis :</span></dt><dd>6356752.314245179</dd><dt><span>inverse_flattening :</span></dt><dd>298.257223563</dd><dt><span>reference_ellipsoid_name :</span></dt><dd>WGS 84</dd><dt><span>longitude_of_prime_meridian :</span></dt><dd>0.0</dd><dt><span>prime_meridian_name :</span></dt><dd>Greenwich</dd><dt><span>geographic_crs_name :</span></dt><dd>WGS 84</dd><dt><span>grid_mapping_name :</span></dt><dd>latitude_longitude</dd><dt><span>spatial_ref :</span></dt><dd>GEOGCS[&quot;WGS 84&quot;,DATUM[&quot;WGS_1984&quot;,SPHEROID[&quot;WGS 84&quot;,6378137,298.257223563,AUTHORITY[&quot;EPSG&quot;,&quot;7030&quot;]],AUTHORITY[&quot;EPSG&quot;,&quot;6326&quot;]],PRIMEM[&quot;Greenwich&quot;,0,AUTHORITY[&quot;EPSG&quot;,&quot;8901&quot;]],UNIT[&quot;degree&quot;,0.0174532925199433,AUTHORITY[&quot;EPSG&quot;,&quot;9122&quot;]],AXIS[&quot;Latitude&quot;,NORTH],AXIS[&quot;Longitude&quot;,EAST],AUTHORITY[&quot;EPSG&quot;,&quot;4326&quot;]]</dd><dt><span>GeoTransform :</span></dt><dd>-124.7458333 0.041666666666666616 0.0 49.00416666666667 0.0 -0.04166666666666661</dd></dl></div><div class='xr-var-data'><pre>[1 values with dtype=int64]</pre></div></li><li class='xr-var-item'><div class='xr-var-name'><span>spi</span></div><div class='xr-var-dims'>(day, lat, lon)</div><div class='xr-var-dtype'>float32</div><div class='xr-var-preview xr-preview'>...</div><input id='attrs-883f53e1-fda5-4414-8b4c-085f35e828b2' class='xr-var-attrs-in' type='checkbox' ><label for='attrs-883f53e1-fda5-4414-8b4c-085f35e828b2' title='Show/Hide attributes'><svg class='icon xr-icon-file-text2'><use xlink:href='#icon-file-text2'></use></svg></label><input id='data-0cae3b46-5b44-4560-b8f3-bb50b8f24489' class='xr-var-data-in' type='checkbox'><label for='data-0cae3b46-5b44-4560-b8f3-bb50b8f24489' title='Show/Hide data repr'><svg class='icon xr-icon-database'><use xlink:href='#icon-database'></use></svg></label><div class='xr-var-attrs'><dl class='xr-attrs'><dt><span>units :</span></dt><dd></dd><dt><span>description :</span></dt><dd>Standardized Precipitation Index</dd><dt><span>long_name :</span></dt><dd>spi180d</dd><dt><span>standard_name :</span></dt><dd>spi180d</dd><dt><span>dimensions :</span></dt><dd>lon lat time</dd><dt><span>coordinate_system :</span></dt><dd>WGS84,EPSG:4326</dd><dt><span>Clipping :</span></dt><dd>original data was clipped to Washington using http://eric.clst.org/assets/wiki/uploads/Stuff/gz_2010_us_040_00_5m.json</dd><dt><span>grid_mapping :</span></dt><dd>crs</dd></dl></div><div class='xr-var-data'><pre>[24209136 values with dtype=float32]</pre></div></li></ul></div></li><li class='xr-section-item'><input id='section-f7a844da-a9e2-436e-93ab-c3bc687ae10a' class='xr-section-summary-in' type='checkbox'  ><label for='section-f7a844da-a9e2-436e-93ab-c3bc687ae10a' class='xr-section-summary' >Indexes: <span>(3)</span></label><div class='xr-section-inline-details'></div><div class='xr-section-details'><ul class='xr-var-list'><li class='xr-var-item'><div class='xr-index-name'><div>lat</div></div><div class='xr-index-preview'>PandasIndex</div><div></div><input id='index-ccd9ebf3-fe63-4a8a-b353-02f340168200' class='xr-index-data-in' type='checkbox'/><label for='index-ccd9ebf3-fe63-4a8a-b353-02f340168200' title='Show/Hide index repr'><svg class='icon xr-icon-database'><use xlink:href='#icon-database'></use></svg></label><div class='xr-index-data'><pre>PandasIndex(Index([48.983333333333334,  48.94166666666667, 48.900000000000006,\n",
       "       48.858333333333334,  48.81666666666667, 48.775000000000006,\n",
       "       48.733333333333334,  48.69166666666667, 48.650000000000006,\n",
       "       48.608333333333334,  48.56666666666667, 48.525000000000006,\n",
       "       48.483333333333334,  48.44166666666667, 48.400000000000006,\n",
       "       48.358333333333334,  48.31666666666667, 48.275000000000006,\n",
       "       48.233333333333334,  48.19166666666667, 48.150000000000006,\n",
       "       48.108333333333334,  48.06666666666667, 48.025000000000006,\n",
       "       47.983333333333334,  47.94166666666667, 47.900000000000006,\n",
       "       47.858333333333334,  47.81666666666667, 47.775000000000006,\n",
       "       47.733333333333334,  47.69166666666667, 47.650000000000006,\n",
       "       47.608333333333334,  47.56666666666667, 47.525000000000006,\n",
       "       47.483333333333334,  47.44166666666667, 47.400000000000006,\n",
       "       47.358333333333334,  47.31666666666667, 47.275000000000006,\n",
       "       47.233333333333334,  47.19166666666667, 47.150000000000006,\n",
       "       47.108333333333334,  47.06666666666667, 47.025000000000006,\n",
       "       46.983333333333334,  46.94166666666667, 46.900000000000006,\n",
       "       46.858333333333334,  46.81666666666667, 46.775000000000006,\n",
       "       46.733333333333334,  46.69166666666667, 46.650000000000006,\n",
       "       46.608333333333334,  46.56666666666667, 46.525000000000006,\n",
       "       46.483333333333334,  46.44166666666667, 46.400000000000006,\n",
       "       46.358333333333334,  46.31666666666667, 46.275000000000006,\n",
       "       46.233333333333334,  46.19166666666667, 46.150000000000006,\n",
       "       46.108333333333334,  46.06666666666667, 46.025000000000006,\n",
       "       45.983333333333334,  45.94166666666667, 45.900000000000006,\n",
       "       45.858333333333334,  45.81666666666667, 45.775000000000006,\n",
       "       45.733333333333334,  45.69166666666667, 45.650000000000006,\n",
       "       45.608333333333334,  45.56666666666667, 45.525000000000006],\n",
       "      dtype=&#x27;float64&#x27;, name=&#x27;lat&#x27;))</pre></div></li><li class='xr-var-item'><div class='xr-index-name'><div>lon</div></div><div class='xr-index-preview'>PandasIndex</div><div></div><input id='index-f8582078-a806-41ea-8503-348f2221c1ec' class='xr-index-data-in' type='checkbox'/><label for='index-f8582078-a806-41ea-8503-348f2221c1ec' title='Show/Hide index repr'><svg class='icon xr-icon-database'><use xlink:href='#icon-database'></use></svg></label><div class='xr-index-data'><pre>PandasIndex(Index([-124.72499996666667, -124.68333330000002, -124.64166663333334,\n",
       "       -124.59999996666667, -124.55833330000002, -124.51666663333334,\n",
       "       -124.47499996666667, -124.43333330000002, -124.39166663333334,\n",
       "       -124.34999996666667,\n",
       "       ...\n",
       "       -117.30833330000002, -117.26666663333334, -117.22499996666667,\n",
       "       -117.18333330000002, -117.14166663333334, -117.09999996666667,\n",
       "       -117.05833330000002, -117.01666663333334, -116.97499996666667,\n",
       "       -116.93333330000002],\n",
       "      dtype=&#x27;float64&#x27;, name=&#x27;lon&#x27;, length=188))</pre></div></li><li class='xr-var-item'><div class='xr-index-name'><div>day</div></div><div class='xr-index-preview'>PandasIndex</div><div></div><input id='index-f4511d5a-82ce-4306-9e71-a75632cac5dd' class='xr-index-data-in' type='checkbox'/><label for='index-f4511d5a-82ce-4306-9e71-a75632cac5dd' title='Show/Hide index repr'><svg class='icon xr-icon-database'><use xlink:href='#icon-database'></use></svg></label><div class='xr-index-data'><pre>PandasIndex(DatetimeIndex([&#x27;2000-01-05&#x27;, &#x27;2000-01-10&#x27;, &#x27;2000-01-15&#x27;, &#x27;2000-01-20&#x27;,\n",
       "               &#x27;2000-01-25&#x27;, &#x27;2000-01-30&#x27;, &#x27;2000-02-04&#x27;, &#x27;2000-02-09&#x27;,\n",
       "               &#x27;2000-02-14&#x27;, &#x27;2000-02-19&#x27;,\n",
       "               ...\n",
       "               &#x27;2020-11-15&#x27;, &#x27;2020-11-20&#x27;, &#x27;2020-11-25&#x27;, &#x27;2020-11-30&#x27;,\n",
       "               &#x27;2020-12-05&#x27;, &#x27;2020-12-10&#x27;, &#x27;2020-12-15&#x27;, &#x27;2020-12-20&#x27;,\n",
       "               &#x27;2020-12-25&#x27;, &#x27;2020-12-30&#x27;],\n",
       "              dtype=&#x27;datetime64[ns]&#x27;, name=&#x27;day&#x27;, length=1533, freq=None))</pre></div></li></ul></div></li><li class='xr-section-item'><input id='section-76782d13-ad2e-4401-9599-474adb62c0a7' class='xr-section-summary-in' type='checkbox' disabled ><label for='section-76782d13-ad2e-4401-9599-474adb62c0a7' class='xr-section-summary'  title='Expand/collapse section'>Attributes: <span>(0)</span></label><div class='xr-section-inline-details'></div><div class='xr-section-details'><dl class='xr-attrs'></dl></div></li></ul></div></div>"
      ],
      "text/plain": [
       "<xarray.Dataset>\n",
       "Dimensions:  (lat: 84, lon: 188, day: 1533)\n",
       "Coordinates:\n",
       "  * lat      (lat) float64 48.98 48.94 48.9 48.86 ... 45.65 45.61 45.57 45.53\n",
       "  * lon      (lon) float64 -124.7 -124.7 -124.6 -124.6 ... -117.0 -117.0 -116.9\n",
       "  * day      (day) datetime64[ns] 2000-01-05 2000-01-10 ... 2020-12-30\n",
       "Data variables:\n",
       "    crs      int64 ...\n",
       "    spi      (day, lat, lon) float32 ..."
      ]
     },
     "execution_count": 3,
     "metadata": {},
     "output_type": "execute_result"
    }
   ],
   "source": [
    "spi_180d = xr.open_dataset('spi180d_tutorial.nc')\n",
    "spi_180d"
   ]
  },
  {
   "cell_type": "code",
   "execution_count": 4,
   "metadata": {},
   "outputs": [
    {
     "data": {
      "text/html": [
       "<div><svg style=\"position: absolute; width: 0; height: 0; overflow: hidden\">\n",
       "<defs>\n",
       "<symbol id=\"icon-database\" viewBox=\"0 0 32 32\">\n",
       "<path d=\"M16 0c-8.837 0-16 2.239-16 5v4c0 2.761 7.163 5 16 5s16-2.239 16-5v-4c0-2.761-7.163-5-16-5z\"></path>\n",
       "<path d=\"M16 17c-8.837 0-16-2.239-16-5v6c0 2.761 7.163 5 16 5s16-2.239 16-5v-6c0 2.761-7.163 5-16 5z\"></path>\n",
       "<path d=\"M16 26c-8.837 0-16-2.239-16-5v6c0 2.761 7.163 5 16 5s16-2.239 16-5v-6c0 2.761-7.163 5-16 5z\"></path>\n",
       "</symbol>\n",
       "<symbol id=\"icon-file-text2\" viewBox=\"0 0 32 32\">\n",
       "<path d=\"M28.681 7.159c-0.694-0.947-1.662-2.053-2.724-3.116s-2.169-2.030-3.116-2.724c-1.612-1.182-2.393-1.319-2.841-1.319h-15.5c-1.378 0-2.5 1.121-2.5 2.5v27c0 1.378 1.122 2.5 2.5 2.5h23c1.378 0 2.5-1.122 2.5-2.5v-19.5c0-0.448-0.137-1.23-1.319-2.841zM24.543 5.457c0.959 0.959 1.712 1.825 2.268 2.543h-4.811v-4.811c0.718 0.556 1.584 1.309 2.543 2.268zM28 29.5c0 0.271-0.229 0.5-0.5 0.5h-23c-0.271 0-0.5-0.229-0.5-0.5v-27c0-0.271 0.229-0.5 0.5-0.5 0 0 15.499-0 15.5 0v7c0 0.552 0.448 1 1 1h7v19.5z\"></path>\n",
       "<path d=\"M23 26h-14c-0.552 0-1-0.448-1-1s0.448-1 1-1h14c0.552 0 1 0.448 1 1s-0.448 1-1 1z\"></path>\n",
       "<path d=\"M23 22h-14c-0.552 0-1-0.448-1-1s0.448-1 1-1h14c0.552 0 1 0.448 1 1s-0.448 1-1 1z\"></path>\n",
       "<path d=\"M23 18h-14c-0.552 0-1-0.448-1-1s0.448-1 1-1h14c0.552 0 1 0.448 1 1s-0.448 1-1 1z\"></path>\n",
       "</symbol>\n",
       "</defs>\n",
       "</svg>\n",
       "<style>/* CSS stylesheet for displaying xarray objects in jupyterlab.\n",
       " *\n",
       " */\n",
       "\n",
       ":root {\n",
       "  --xr-font-color0: var(--jp-content-font-color0, rgba(0, 0, 0, 1));\n",
       "  --xr-font-color2: var(--jp-content-font-color2, rgba(0, 0, 0, 0.54));\n",
       "  --xr-font-color3: var(--jp-content-font-color3, rgba(0, 0, 0, 0.38));\n",
       "  --xr-border-color: var(--jp-border-color2, #e0e0e0);\n",
       "  --xr-disabled-color: var(--jp-layout-color3, #bdbdbd);\n",
       "  --xr-background-color: var(--jp-layout-color0, white);\n",
       "  --xr-background-color-row-even: var(--jp-layout-color1, white);\n",
       "  --xr-background-color-row-odd: var(--jp-layout-color2, #eeeeee);\n",
       "}\n",
       "\n",
       "html[theme=dark],\n",
       "body[data-theme=dark],\n",
       "body.vscode-dark {\n",
       "  --xr-font-color0: rgba(255, 255, 255, 1);\n",
       "  --xr-font-color2: rgba(255, 255, 255, 0.54);\n",
       "  --xr-font-color3: rgba(255, 255, 255, 0.38);\n",
       "  --xr-border-color: #1F1F1F;\n",
       "  --xr-disabled-color: #515151;\n",
       "  --xr-background-color: #111111;\n",
       "  --xr-background-color-row-even: #111111;\n",
       "  --xr-background-color-row-odd: #313131;\n",
       "}\n",
       "\n",
       ".xr-wrap {\n",
       "  display: block !important;\n",
       "  min-width: 300px;\n",
       "  max-width: 700px;\n",
       "}\n",
       "\n",
       ".xr-text-repr-fallback {\n",
       "  /* fallback to plain text repr when CSS is not injected (untrusted notebook) */\n",
       "  display: none;\n",
       "}\n",
       "\n",
       ".xr-header {\n",
       "  padding-top: 6px;\n",
       "  padding-bottom: 6px;\n",
       "  margin-bottom: 4px;\n",
       "  border-bottom: solid 1px var(--xr-border-color);\n",
       "}\n",
       "\n",
       ".xr-header > div,\n",
       ".xr-header > ul {\n",
       "  display: inline;\n",
       "  margin-top: 0;\n",
       "  margin-bottom: 0;\n",
       "}\n",
       "\n",
       ".xr-obj-type,\n",
       ".xr-array-name {\n",
       "  margin-left: 2px;\n",
       "  margin-right: 10px;\n",
       "}\n",
       "\n",
       ".xr-obj-type {\n",
       "  color: var(--xr-font-color2);\n",
       "}\n",
       "\n",
       ".xr-sections {\n",
       "  padding-left: 0 !important;\n",
       "  display: grid;\n",
       "  grid-template-columns: 150px auto auto 1fr 20px 20px;\n",
       "}\n",
       "\n",
       ".xr-section-item {\n",
       "  display: contents;\n",
       "}\n",
       "\n",
       ".xr-section-item input {\n",
       "  display: none;\n",
       "}\n",
       "\n",
       ".xr-section-item input + label {\n",
       "  color: var(--xr-disabled-color);\n",
       "}\n",
       "\n",
       ".xr-section-item input:enabled + label {\n",
       "  cursor: pointer;\n",
       "  color: var(--xr-font-color2);\n",
       "}\n",
       "\n",
       ".xr-section-item input:enabled + label:hover {\n",
       "  color: var(--xr-font-color0);\n",
       "}\n",
       "\n",
       ".xr-section-summary {\n",
       "  grid-column: 1;\n",
       "  color: var(--xr-font-color2);\n",
       "  font-weight: 500;\n",
       "}\n",
       "\n",
       ".xr-section-summary > span {\n",
       "  display: inline-block;\n",
       "  padding-left: 0.5em;\n",
       "}\n",
       "\n",
       ".xr-section-summary-in:disabled + label {\n",
       "  color: var(--xr-font-color2);\n",
       "}\n",
       "\n",
       ".xr-section-summary-in + label:before {\n",
       "  display: inline-block;\n",
       "  content: '►';\n",
       "  font-size: 11px;\n",
       "  width: 15px;\n",
       "  text-align: center;\n",
       "}\n",
       "\n",
       ".xr-section-summary-in:disabled + label:before {\n",
       "  color: var(--xr-disabled-color);\n",
       "}\n",
       "\n",
       ".xr-section-summary-in:checked + label:before {\n",
       "  content: '▼';\n",
       "}\n",
       "\n",
       ".xr-section-summary-in:checked + label > span {\n",
       "  display: none;\n",
       "}\n",
       "\n",
       ".xr-section-summary,\n",
       ".xr-section-inline-details {\n",
       "  padding-top: 4px;\n",
       "  padding-bottom: 4px;\n",
       "}\n",
       "\n",
       ".xr-section-inline-details {\n",
       "  grid-column: 2 / -1;\n",
       "}\n",
       "\n",
       ".xr-section-details {\n",
       "  display: none;\n",
       "  grid-column: 1 / -1;\n",
       "  margin-bottom: 5px;\n",
       "}\n",
       "\n",
       ".xr-section-summary-in:checked ~ .xr-section-details {\n",
       "  display: contents;\n",
       "}\n",
       "\n",
       ".xr-array-wrap {\n",
       "  grid-column: 1 / -1;\n",
       "  display: grid;\n",
       "  grid-template-columns: 20px auto;\n",
       "}\n",
       "\n",
       ".xr-array-wrap > label {\n",
       "  grid-column: 1;\n",
       "  vertical-align: top;\n",
       "}\n",
       "\n",
       ".xr-preview {\n",
       "  color: var(--xr-font-color3);\n",
       "}\n",
       "\n",
       ".xr-array-preview,\n",
       ".xr-array-data {\n",
       "  padding: 0 5px !important;\n",
       "  grid-column: 2;\n",
       "}\n",
       "\n",
       ".xr-array-data,\n",
       ".xr-array-in:checked ~ .xr-array-preview {\n",
       "  display: none;\n",
       "}\n",
       "\n",
       ".xr-array-in:checked ~ .xr-array-data,\n",
       ".xr-array-preview {\n",
       "  display: inline-block;\n",
       "}\n",
       "\n",
       ".xr-dim-list {\n",
       "  display: inline-block !important;\n",
       "  list-style: none;\n",
       "  padding: 0 !important;\n",
       "  margin: 0;\n",
       "}\n",
       "\n",
       ".xr-dim-list li {\n",
       "  display: inline-block;\n",
       "  padding: 0;\n",
       "  margin: 0;\n",
       "}\n",
       "\n",
       ".xr-dim-list:before {\n",
       "  content: '(';\n",
       "}\n",
       "\n",
       ".xr-dim-list:after {\n",
       "  content: ')';\n",
       "}\n",
       "\n",
       ".xr-dim-list li:not(:last-child):after {\n",
       "  content: ',';\n",
       "  padding-right: 5px;\n",
       "}\n",
       "\n",
       ".xr-has-index {\n",
       "  font-weight: bold;\n",
       "}\n",
       "\n",
       ".xr-var-list,\n",
       ".xr-var-item {\n",
       "  display: contents;\n",
       "}\n",
       "\n",
       ".xr-var-item > div,\n",
       ".xr-var-item label,\n",
       ".xr-var-item > .xr-var-name span {\n",
       "  background-color: var(--xr-background-color-row-even);\n",
       "  margin-bottom: 0;\n",
       "}\n",
       "\n",
       ".xr-var-item > .xr-var-name:hover span {\n",
       "  padding-right: 5px;\n",
       "}\n",
       "\n",
       ".xr-var-list > li:nth-child(odd) > div,\n",
       ".xr-var-list > li:nth-child(odd) > label,\n",
       ".xr-var-list > li:nth-child(odd) > .xr-var-name span {\n",
       "  background-color: var(--xr-background-color-row-odd);\n",
       "}\n",
       "\n",
       ".xr-var-name {\n",
       "  grid-column: 1;\n",
       "}\n",
       "\n",
       ".xr-var-dims {\n",
       "  grid-column: 2;\n",
       "}\n",
       "\n",
       ".xr-var-dtype {\n",
       "  grid-column: 3;\n",
       "  text-align: right;\n",
       "  color: var(--xr-font-color2);\n",
       "}\n",
       "\n",
       ".xr-var-preview {\n",
       "  grid-column: 4;\n",
       "}\n",
       "\n",
       ".xr-index-preview {\n",
       "  grid-column: 2 / 5;\n",
       "  color: var(--xr-font-color2);\n",
       "}\n",
       "\n",
       ".xr-var-name,\n",
       ".xr-var-dims,\n",
       ".xr-var-dtype,\n",
       ".xr-preview,\n",
       ".xr-attrs dt {\n",
       "  white-space: nowrap;\n",
       "  overflow: hidden;\n",
       "  text-overflow: ellipsis;\n",
       "  padding-right: 10px;\n",
       "}\n",
       "\n",
       ".xr-var-name:hover,\n",
       ".xr-var-dims:hover,\n",
       ".xr-var-dtype:hover,\n",
       ".xr-attrs dt:hover {\n",
       "  overflow: visible;\n",
       "  width: auto;\n",
       "  z-index: 1;\n",
       "}\n",
       "\n",
       ".xr-var-attrs,\n",
       ".xr-var-data,\n",
       ".xr-index-data {\n",
       "  display: none;\n",
       "  background-color: var(--xr-background-color) !important;\n",
       "  padding-bottom: 5px !important;\n",
       "}\n",
       "\n",
       ".xr-var-attrs-in:checked ~ .xr-var-attrs,\n",
       ".xr-var-data-in:checked ~ .xr-var-data,\n",
       ".xr-index-data-in:checked ~ .xr-index-data {\n",
       "  display: block;\n",
       "}\n",
       "\n",
       ".xr-var-data > table {\n",
       "  float: right;\n",
       "}\n",
       "\n",
       ".xr-var-name span,\n",
       ".xr-var-data,\n",
       ".xr-index-name div,\n",
       ".xr-index-data,\n",
       ".xr-attrs {\n",
       "  padding-left: 25px !important;\n",
       "}\n",
       "\n",
       ".xr-attrs,\n",
       ".xr-var-attrs,\n",
       ".xr-var-data,\n",
       ".xr-index-data {\n",
       "  grid-column: 1 / -1;\n",
       "}\n",
       "\n",
       "dl.xr-attrs {\n",
       "  padding: 0;\n",
       "  margin: 0;\n",
       "  display: grid;\n",
       "  grid-template-columns: 125px auto;\n",
       "}\n",
       "\n",
       ".xr-attrs dt,\n",
       ".xr-attrs dd {\n",
       "  padding: 0;\n",
       "  margin: 0;\n",
       "  float: left;\n",
       "  padding-right: 10px;\n",
       "  width: auto;\n",
       "}\n",
       "\n",
       ".xr-attrs dt {\n",
       "  font-weight: normal;\n",
       "  grid-column: 1;\n",
       "}\n",
       "\n",
       ".xr-attrs dt:hover span {\n",
       "  display: inline-block;\n",
       "  background: var(--xr-background-color);\n",
       "  padding-right: 10px;\n",
       "}\n",
       "\n",
       ".xr-attrs dd {\n",
       "  grid-column: 2;\n",
       "  white-space: pre-wrap;\n",
       "  word-break: break-all;\n",
       "}\n",
       "\n",
       ".xr-icon-database,\n",
       ".xr-icon-file-text2,\n",
       ".xr-no-icon {\n",
       "  display: inline-block;\n",
       "  vertical-align: middle;\n",
       "  width: 1em;\n",
       "  height: 1.5em !important;\n",
       "  stroke-width: 0;\n",
       "  stroke: currentColor;\n",
       "  fill: currentColor;\n",
       "}\n",
       "</style><pre class='xr-text-repr-fallback'>&lt;xarray.DataArray &#x27;spi&#x27; (time: 1533, lat: 84, lon: 188)&gt;\n",
       "[24209136 values with dtype=float32]\n",
       "Coordinates:\n",
       "  * lat      (lat) float64 48.98 48.94 48.9 48.86 ... 45.65 45.61 45.57 45.53\n",
       "  * lon      (lon) float64 -124.7 -124.7 -124.6 -124.6 ... -117.0 -117.0 -116.9\n",
       "  * time     (time) datetime64[ns] 2000-01-05 2000-01-10 ... 2020-12-30\n",
       "Attributes:\n",
       "    units:              \n",
       "    description:        Standardized Precipitation Index\n",
       "    long_name:          spi180d\n",
       "    standard_name:      spi180d\n",
       "    dimensions:         lon lat time\n",
       "    coordinate_system:  WGS84,EPSG:4326\n",
       "    Clipping:           original data was clipped to Washington using http://...\n",
       "    grid_mapping:       crs</pre><div class='xr-wrap' style='display:none'><div class='xr-header'><div class='xr-obj-type'>xarray.DataArray</div><div class='xr-array-name'>'spi'</div><ul class='xr-dim-list'><li><span class='xr-has-index'>time</span>: 1533</li><li><span class='xr-has-index'>lat</span>: 84</li><li><span class='xr-has-index'>lon</span>: 188</li></ul></div><ul class='xr-sections'><li class='xr-section-item'><div class='xr-array-wrap'><input id='section-7c9d19fa-2741-4982-bcbf-b835359fc4cb' class='xr-array-in' type='checkbox' checked><label for='section-7c9d19fa-2741-4982-bcbf-b835359fc4cb' title='Show/hide data repr'><svg class='icon xr-icon-database'><use xlink:href='#icon-database'></use></svg></label><div class='xr-array-preview xr-preview'><span>...</span></div><div class='xr-array-data'><pre>[24209136 values with dtype=float32]</pre></div></div></li><li class='xr-section-item'><input id='section-5576c5f0-1495-44c2-9423-a48d33950db3' class='xr-section-summary-in' type='checkbox'  checked><label for='section-5576c5f0-1495-44c2-9423-a48d33950db3' class='xr-section-summary' >Coordinates: <span>(3)</span></label><div class='xr-section-inline-details'></div><div class='xr-section-details'><ul class='xr-var-list'><li class='xr-var-item'><div class='xr-var-name'><span class='xr-has-index'>lat</span></div><div class='xr-var-dims'>(lat)</div><div class='xr-var-dtype'>float64</div><div class='xr-var-preview xr-preview'>48.98 48.94 48.9 ... 45.57 45.53</div><input id='attrs-a2408c43-f5a1-404a-b49f-ccf68238c138' class='xr-var-attrs-in' type='checkbox' ><label for='attrs-a2408c43-f5a1-404a-b49f-ccf68238c138' title='Show/Hide attributes'><svg class='icon xr-icon-file-text2'><use xlink:href='#icon-file-text2'></use></svg></label><input id='data-0c437a14-7afe-41d4-b41d-6f3ff65f293f' class='xr-var-data-in' type='checkbox'><label for='data-0c437a14-7afe-41d4-b41d-6f3ff65f293f' title='Show/Hide data repr'><svg class='icon xr-icon-database'><use xlink:href='#icon-database'></use></svg></label><div class='xr-var-attrs'><dl class='xr-attrs'><dt><span>units :</span></dt><dd>degrees_north</dd><dt><span>description :</span></dt><dd>latitude</dd><dt><span>long_name :</span></dt><dd>latitude</dd><dt><span>standard_name :</span></dt><dd>latitude</dd><dt><span>axis :</span></dt><dd>Y</dd></dl></div><div class='xr-var-data'><pre>array([48.983333, 48.941667, 48.9     , 48.858333, 48.816667, 48.775   ,\n",
       "       48.733333, 48.691667, 48.65    , 48.608333, 48.566667, 48.525   ,\n",
       "       48.483333, 48.441667, 48.4     , 48.358333, 48.316667, 48.275   ,\n",
       "       48.233333, 48.191667, 48.15    , 48.108333, 48.066667, 48.025   ,\n",
       "       47.983333, 47.941667, 47.9     , 47.858333, 47.816667, 47.775   ,\n",
       "       47.733333, 47.691667, 47.65    , 47.608333, 47.566667, 47.525   ,\n",
       "       47.483333, 47.441667, 47.4     , 47.358333, 47.316667, 47.275   ,\n",
       "       47.233333, 47.191667, 47.15    , 47.108333, 47.066667, 47.025   ,\n",
       "       46.983333, 46.941667, 46.9     , 46.858333, 46.816667, 46.775   ,\n",
       "       46.733333, 46.691667, 46.65    , 46.608333, 46.566667, 46.525   ,\n",
       "       46.483333, 46.441667, 46.4     , 46.358333, 46.316667, 46.275   ,\n",
       "       46.233333, 46.191667, 46.15    , 46.108333, 46.066667, 46.025   ,\n",
       "       45.983333, 45.941667, 45.9     , 45.858333, 45.816667, 45.775   ,\n",
       "       45.733333, 45.691667, 45.65    , 45.608333, 45.566667, 45.525   ])</pre></div></li><li class='xr-var-item'><div class='xr-var-name'><span class='xr-has-index'>lon</span></div><div class='xr-var-dims'>(lon)</div><div class='xr-var-dtype'>float64</div><div class='xr-var-preview xr-preview'>-124.7 -124.7 ... -117.0 -116.9</div><input id='attrs-01408ccc-d26d-4f7d-8790-1ba41ef6a39c' class='xr-var-attrs-in' type='checkbox' ><label for='attrs-01408ccc-d26d-4f7d-8790-1ba41ef6a39c' title='Show/Hide attributes'><svg class='icon xr-icon-file-text2'><use xlink:href='#icon-file-text2'></use></svg></label><input id='data-b3918d87-eaa4-4f9b-b968-ba3cc0faa897' class='xr-var-data-in' type='checkbox'><label for='data-b3918d87-eaa4-4f9b-b968-ba3cc0faa897' title='Show/Hide data repr'><svg class='icon xr-icon-database'><use xlink:href='#icon-database'></use></svg></label><div class='xr-var-attrs'><dl class='xr-attrs'><dt><span>units :</span></dt><dd>degrees_east</dd><dt><span>description :</span></dt><dd>longitude</dd><dt><span>long_name :</span></dt><dd>longitude</dd><dt><span>standard_name :</span></dt><dd>longitude</dd><dt><span>axis :</span></dt><dd>X</dd></dl></div><div class='xr-var-data'><pre>array([-124.725   , -124.683333, -124.641667, -124.6     , -124.558333,\n",
       "       -124.516667, -124.475   , -124.433333, -124.391667, -124.35    ,\n",
       "       -124.308333, -124.266667, -124.225   , -124.183333, -124.141667,\n",
       "       -124.1     , -124.058333, -124.016667, -123.975   , -123.933333,\n",
       "       -123.891667, -123.85    , -123.808333, -123.766667, -123.725   ,\n",
       "       -123.683333, -123.641667, -123.6     , -123.558333, -123.516667,\n",
       "       -123.475   , -123.433333, -123.391667, -123.35    , -123.308333,\n",
       "       -123.266667, -123.225   , -123.183333, -123.141667, -123.1     ,\n",
       "       -123.058333, -123.016667, -122.975   , -122.933333, -122.891667,\n",
       "       -122.85    , -122.808333, -122.766667, -122.725   , -122.683333,\n",
       "       -122.641667, -122.6     , -122.558333, -122.516667, -122.475   ,\n",
       "       -122.433333, -122.391667, -122.35    , -122.308333, -122.266667,\n",
       "       -122.225   , -122.183333, -122.141667, -122.1     , -122.058333,\n",
       "       -122.016667, -121.975   , -121.933333, -121.891667, -121.85    ,\n",
       "       -121.808333, -121.766667, -121.725   , -121.683333, -121.641667,\n",
       "       -121.6     , -121.558333, -121.516667, -121.475   , -121.433333,\n",
       "       -121.391667, -121.35    , -121.308333, -121.266667, -121.225   ,\n",
       "       -121.183333, -121.141667, -121.1     , -121.058333, -121.016667,\n",
       "       -120.975   , -120.933333, -120.891667, -120.85    , -120.808333,\n",
       "       -120.766667, -120.725   , -120.683333, -120.641667, -120.6     ,\n",
       "       -120.558333, -120.516667, -120.475   , -120.433333, -120.391667,\n",
       "       -120.35    , -120.308333, -120.266667, -120.225   , -120.183333,\n",
       "       -120.141667, -120.1     , -120.058333, -120.016667, -119.975   ,\n",
       "       -119.933333, -119.891667, -119.85    , -119.808333, -119.766667,\n",
       "       -119.725   , -119.683333, -119.641667, -119.6     , -119.558333,\n",
       "       -119.516667, -119.475   , -119.433333, -119.391667, -119.35    ,\n",
       "       -119.308333, -119.266667, -119.225   , -119.183333, -119.141667,\n",
       "       -119.1     , -119.058333, -119.016667, -118.975   , -118.933333,\n",
       "       -118.891667, -118.85    , -118.808333, -118.766667, -118.725   ,\n",
       "       -118.683333, -118.641667, -118.6     , -118.558333, -118.516667,\n",
       "       -118.475   , -118.433333, -118.391667, -118.35    , -118.308333,\n",
       "       -118.266667, -118.225   , -118.183333, -118.141667, -118.1     ,\n",
       "       -118.058333, -118.016667, -117.975   , -117.933333, -117.891667,\n",
       "       -117.85    , -117.808333, -117.766667, -117.725   , -117.683333,\n",
       "       -117.641667, -117.6     , -117.558333, -117.516667, -117.475   ,\n",
       "       -117.433333, -117.391667, -117.35    , -117.308333, -117.266667,\n",
       "       -117.225   , -117.183333, -117.141667, -117.1     , -117.058333,\n",
       "       -117.016667, -116.975   , -116.933333])</pre></div></li><li class='xr-var-item'><div class='xr-var-name'><span class='xr-has-index'>time</span></div><div class='xr-var-dims'>(time)</div><div class='xr-var-dtype'>datetime64[ns]</div><div class='xr-var-preview xr-preview'>2000-01-05 ... 2020-12-30</div><input id='attrs-58254ecf-363c-447f-b249-de03c4da9bd2' class='xr-var-attrs-in' type='checkbox' ><label for='attrs-58254ecf-363c-447f-b249-de03c4da9bd2' title='Show/Hide attributes'><svg class='icon xr-icon-file-text2'><use xlink:href='#icon-file-text2'></use></svg></label><input id='data-2a22c02d-3301-41b2-b804-97fcfa475fea' class='xr-var-data-in' type='checkbox'><label for='data-2a22c02d-3301-41b2-b804-97fcfa475fea' title='Show/Hide data repr'><svg class='icon xr-icon-database'><use xlink:href='#icon-database'></use></svg></label><div class='xr-var-attrs'><dl class='xr-attrs'><dt><span>description :</span></dt><dd>days since 1900-01-01</dd><dt><span>long_name :</span></dt><dd>time</dd><dt><span>standard_name :</span></dt><dd>time</dd></dl></div><div class='xr-var-data'><pre>array([&#x27;2000-01-05T00:00:00.000000000&#x27;, &#x27;2000-01-10T00:00:00.000000000&#x27;,\n",
       "       &#x27;2000-01-15T00:00:00.000000000&#x27;, ..., &#x27;2020-12-20T00:00:00.000000000&#x27;,\n",
       "       &#x27;2020-12-25T00:00:00.000000000&#x27;, &#x27;2020-12-30T00:00:00.000000000&#x27;],\n",
       "      dtype=&#x27;datetime64[ns]&#x27;)</pre></div></li></ul></div></li><li class='xr-section-item'><input id='section-ccac9537-4606-40e3-9876-f3252523570f' class='xr-section-summary-in' type='checkbox'  ><label for='section-ccac9537-4606-40e3-9876-f3252523570f' class='xr-section-summary' >Indexes: <span>(3)</span></label><div class='xr-section-inline-details'></div><div class='xr-section-details'><ul class='xr-var-list'><li class='xr-var-item'><div class='xr-index-name'><div>lat</div></div><div class='xr-index-preview'>PandasIndex</div><div></div><input id='index-5327a9dd-14db-441e-864c-9217481c204e' class='xr-index-data-in' type='checkbox'/><label for='index-5327a9dd-14db-441e-864c-9217481c204e' title='Show/Hide index repr'><svg class='icon xr-icon-database'><use xlink:href='#icon-database'></use></svg></label><div class='xr-index-data'><pre>PandasIndex(Index([48.983333333333334,  48.94166666666667, 48.900000000000006,\n",
       "       48.858333333333334,  48.81666666666667, 48.775000000000006,\n",
       "       48.733333333333334,  48.69166666666667, 48.650000000000006,\n",
       "       48.608333333333334,  48.56666666666667, 48.525000000000006,\n",
       "       48.483333333333334,  48.44166666666667, 48.400000000000006,\n",
       "       48.358333333333334,  48.31666666666667, 48.275000000000006,\n",
       "       48.233333333333334,  48.19166666666667, 48.150000000000006,\n",
       "       48.108333333333334,  48.06666666666667, 48.025000000000006,\n",
       "       47.983333333333334,  47.94166666666667, 47.900000000000006,\n",
       "       47.858333333333334,  47.81666666666667, 47.775000000000006,\n",
       "       47.733333333333334,  47.69166666666667, 47.650000000000006,\n",
       "       47.608333333333334,  47.56666666666667, 47.525000000000006,\n",
       "       47.483333333333334,  47.44166666666667, 47.400000000000006,\n",
       "       47.358333333333334,  47.31666666666667, 47.275000000000006,\n",
       "       47.233333333333334,  47.19166666666667, 47.150000000000006,\n",
       "       47.108333333333334,  47.06666666666667, 47.025000000000006,\n",
       "       46.983333333333334,  46.94166666666667, 46.900000000000006,\n",
       "       46.858333333333334,  46.81666666666667, 46.775000000000006,\n",
       "       46.733333333333334,  46.69166666666667, 46.650000000000006,\n",
       "       46.608333333333334,  46.56666666666667, 46.525000000000006,\n",
       "       46.483333333333334,  46.44166666666667, 46.400000000000006,\n",
       "       46.358333333333334,  46.31666666666667, 46.275000000000006,\n",
       "       46.233333333333334,  46.19166666666667, 46.150000000000006,\n",
       "       46.108333333333334,  46.06666666666667, 46.025000000000006,\n",
       "       45.983333333333334,  45.94166666666667, 45.900000000000006,\n",
       "       45.858333333333334,  45.81666666666667, 45.775000000000006,\n",
       "       45.733333333333334,  45.69166666666667, 45.650000000000006,\n",
       "       45.608333333333334,  45.56666666666667, 45.525000000000006],\n",
       "      dtype=&#x27;float64&#x27;, name=&#x27;lat&#x27;))</pre></div></li><li class='xr-var-item'><div class='xr-index-name'><div>lon</div></div><div class='xr-index-preview'>PandasIndex</div><div></div><input id='index-a3366038-b78d-4592-ad0d-21cc9afddd30' class='xr-index-data-in' type='checkbox'/><label for='index-a3366038-b78d-4592-ad0d-21cc9afddd30' title='Show/Hide index repr'><svg class='icon xr-icon-database'><use xlink:href='#icon-database'></use></svg></label><div class='xr-index-data'><pre>PandasIndex(Index([-124.72499996666667, -124.68333330000002, -124.64166663333334,\n",
       "       -124.59999996666667, -124.55833330000002, -124.51666663333334,\n",
       "       -124.47499996666667, -124.43333330000002, -124.39166663333334,\n",
       "       -124.34999996666667,\n",
       "       ...\n",
       "       -117.30833330000002, -117.26666663333334, -117.22499996666667,\n",
       "       -117.18333330000002, -117.14166663333334, -117.09999996666667,\n",
       "       -117.05833330000002, -117.01666663333334, -116.97499996666667,\n",
       "       -116.93333330000002],\n",
       "      dtype=&#x27;float64&#x27;, name=&#x27;lon&#x27;, length=188))</pre></div></li><li class='xr-var-item'><div class='xr-index-name'><div>time</div></div><div class='xr-index-preview'>PandasIndex</div><div></div><input id='index-ebbc59af-f3d0-45c0-bd11-44179c37daf6' class='xr-index-data-in' type='checkbox'/><label for='index-ebbc59af-f3d0-45c0-bd11-44179c37daf6' title='Show/Hide index repr'><svg class='icon xr-icon-database'><use xlink:href='#icon-database'></use></svg></label><div class='xr-index-data'><pre>PandasIndex(DatetimeIndex([&#x27;2000-01-05&#x27;, &#x27;2000-01-10&#x27;, &#x27;2000-01-15&#x27;, &#x27;2000-01-20&#x27;,\n",
       "               &#x27;2000-01-25&#x27;, &#x27;2000-01-30&#x27;, &#x27;2000-02-04&#x27;, &#x27;2000-02-09&#x27;,\n",
       "               &#x27;2000-02-14&#x27;, &#x27;2000-02-19&#x27;,\n",
       "               ...\n",
       "               &#x27;2020-11-15&#x27;, &#x27;2020-11-20&#x27;, &#x27;2020-11-25&#x27;, &#x27;2020-11-30&#x27;,\n",
       "               &#x27;2020-12-05&#x27;, &#x27;2020-12-10&#x27;, &#x27;2020-12-15&#x27;, &#x27;2020-12-20&#x27;,\n",
       "               &#x27;2020-12-25&#x27;, &#x27;2020-12-30&#x27;],\n",
       "              dtype=&#x27;datetime64[ns]&#x27;, name=&#x27;time&#x27;, length=1533, freq=None))</pre></div></li></ul></div></li><li class='xr-section-item'><input id='section-6ae45177-02f9-4b45-9634-2057faab8d50' class='xr-section-summary-in' type='checkbox'  checked><label for='section-6ae45177-02f9-4b45-9634-2057faab8d50' class='xr-section-summary' >Attributes: <span>(8)</span></label><div class='xr-section-inline-details'></div><div class='xr-section-details'><dl class='xr-attrs'><dt><span>units :</span></dt><dd></dd><dt><span>description :</span></dt><dd>Standardized Precipitation Index</dd><dt><span>long_name :</span></dt><dd>spi180d</dd><dt><span>standard_name :</span></dt><dd>spi180d</dd><dt><span>dimensions :</span></dt><dd>lon lat time</dd><dt><span>coordinate_system :</span></dt><dd>WGS84,EPSG:4326</dd><dt><span>Clipping :</span></dt><dd>original data was clipped to Washington using http://eric.clst.org/assets/wiki/uploads/Stuff/gz_2010_us_040_00_5m.json</dd><dt><span>grid_mapping :</span></dt><dd>crs</dd></dl></div></li></ul></div></div>"
      ],
      "text/plain": [
       "<xarray.DataArray 'spi' (time: 1533, lat: 84, lon: 188)>\n",
       "[24209136 values with dtype=float32]\n",
       "Coordinates:\n",
       "  * lat      (lat) float64 48.98 48.94 48.9 48.86 ... 45.65 45.61 45.57 45.53\n",
       "  * lon      (lon) float64 -124.7 -124.7 -124.6 -124.6 ... -117.0 -117.0 -116.9\n",
       "  * time     (time) datetime64[ns] 2000-01-05 2000-01-10 ... 2020-12-30\n",
       "Attributes:\n",
       "    units:              \n",
       "    description:        Standardized Precipitation Index\n",
       "    long_name:          spi180d\n",
       "    standard_name:      spi180d\n",
       "    dimensions:         lon lat time\n",
       "    coordinate_system:  WGS84,EPSG:4326\n",
       "    Clipping:           original data was clipped to Washington using http://...\n",
       "    grid_mapping:       crs"
      ]
     },
     "execution_count": 4,
     "metadata": {},
     "output_type": "execute_result"
    }
   ],
   "source": [
    "spi_180d_da = spi_180d['spi'].rename({'day':'time'})\n",
    "spi_180d_da"
   ]
  },
  {
   "cell_type": "markdown",
   "metadata": {},
   "source": [
    "## Convert to USDM Categories\n",
    "\n",
    "D0 : 21 to 30 p    \n",
    "D1 : 11 to 20 p    \n",
    "D2 : 6 to 10 p    \n",
    "D3 : 3 to 5 p    \n",
    "D4 : 0 to 2 p"
   ]
  },
  {
   "cell_type": "code",
   "execution_count": 5,
   "metadata": {},
   "outputs": [],
   "source": [
    "percentiles = [30, 20, 10, 5, 2]\n",
    "if not os.path.exists('spi180d_usdmcat.nc'):\n",
    "    # note that this can take about 2 minutes to run\n",
    "    spi_180d_usdmcat = dnw.dm_to_usdmcat_multtime(spi_180d_da, percentiles)\n",
    "    spi_180d_usdmcat.to_netcdf('spi180d_usdmcat.nc')\n",
    "else:\n",
    "    spi_180d_usdmcat = xr.open_dataset('spi180d_usdmcat.nc')['spi']"
   ]
  },
  {
   "cell_type": "markdown",
   "metadata": {},
   "source": [
    "Now we can check that our values are in USDM Categories through a little histogram:"
   ]
  },
  {
   "cell_type": "code",
   "execution_count": 6,
   "metadata": {},
   "outputs": [
    {
     "data": {
      "image/png": "[encoded data removed]",
      "text/plain": [
       "<Figure size 800x500 with 2 Axes>"
      ]
     },
     "metadata": {},
     "output_type": "display_data"
    }
   ],
   "source": [
    "fig, axs = plt.subplots(1, 2, figsize=(8,5))\n",
    "\n",
    "axs[0].hist(spi_180d_da.values.ravel(), edgecolor='k')\n",
    "axs[1].hist(spi_180d_usdmcat.values.ravel(), bins=6, edgecolor='k')\n",
    "\n",
    "fig.supylabel('Count')\n",
    "axs[0].set_xlabel('SPI Value')\n",
    "axs[1].set_xlabel('SPI in USDM Category')\n",
    "\n",
    "plt.tight_layout()"
   ]
  },
  {
   "cell_type": "markdown",
   "metadata": {},
   "source": [
    "Now we need to reproject to an Albers Equal Area projection for doing computations on drought area that is creating the drought network and extracting drought tracks."
   ]
  },
  {
   "cell_type": "markdown",
   "metadata": {},
   "source": [
    "First off, since we have a dataarray, we need to write it's crs"
   ]
  },
  {
   "cell_type": "code",
   "execution_count": 7,
   "metadata": {},
   "outputs": [
    {
     "data": {
      "text/plain": [
       "'GEOGCS[\"WGS 84\",DATUM[\"WGS_1984\",SPHEROID[\"WGS 84\",6378137,298.257223563,AUTHORITY[\"EPSG\",\"7030\"]],AUTHORITY[\"EPSG\",\"6326\"]],PRIMEM[\"Greenwich\",0,AUTHORITY[\"EPSG\",\"8901\"]],UNIT[\"degree\",0.0174532925199433,AUTHORITY[\"EPSG\",\"9122\"]],AXIS[\"Latitude\",NORTH],AXIS[\"Longitude\",EAST],AUTHORITY[\"EPSG\",\"4326\"]]'"
      ]
     },
     "execution_count": 7,
     "metadata": {},
     "output_type": "execute_result"
    }
   ],
   "source": [
    "spi_180d.crs.attrs['crs_wkt']"
   ]
  },
  {
   "cell_type": "markdown",
   "metadata": {},
   "source": [
    "We can see that EPSG:4326 was the last projection this was converted to, so let's write that down."
   ]
  },
  {
   "cell_type": "code",
   "execution_count": 8,
   "metadata": {},
   "outputs": [],
   "source": [
    "spi_180d_usdmcat = spi_180d_usdmcat.rio.write_crs('EPSG:4326', inplace=True)"
   ]
  },
  {
   "cell_type": "markdown",
   "metadata": {},
   "source": [
    "Now I want to reproject it to EPSG:5070 to have an Albers Equal Area projection over Washington state."
   ]
  },
  {
   "cell_type": "code",
   "execution_count": 9,
   "metadata": {},
   "outputs": [],
   "source": [
    "spi_180d_usdmcat_reproj = spi_180d_usdmcat.rio.reproject('EPSG:5070')"
   ]
  },
  {
   "cell_type": "markdown",
   "metadata": {},
   "source": [
    "Let's save that out"
   ]
  },
  {
   "cell_type": "code",
   "execution_count": 10,
   "metadata": {},
   "outputs": [],
   "source": [
    "# need to remove this grid_mapping \n",
    "# attribute for the function to save out properly\n",
    "del spi_180d_usdmcat_reproj.attrs['grid_mapping']\n",
    "# also need to remove the crs we just assigned it to \n",
    "# preserve the netcdf as a singular variable that\n",
    "# our drought tracks will want later\n",
    "del spi_180d_usdmcat_reproj['crs']\n",
    "if not os.path.exists('spi180d_usdmcat_EPSG5070.nc'):\n",
    "    spi_180d_usdmcat_reproj.to_netcdf('spi180d_usdmcat_EPSG5070.nc')"
   ]
  },
  {
   "cell_type": "markdown",
   "metadata": {},
   "source": [
    "Wonderful. Now that we have that sorted we can move on to creating our drought network."
   ]
  },
  {
   "cell_type": "markdown",
   "metadata": {},
   "source": [
    "## Create Drought Network"
   ]
  },
  {
   "cell_type": "markdown",
   "metadata": {},
   "source": [
    "Let's compute how big a cell is"
   ]
  },
  {
   "cell_type": "code",
   "execution_count": 11,
   "metadata": {},
   "outputs": [
    {
     "data": {
      "text/plain": [
       "'metre'"
      ]
     },
     "execution_count": 11,
     "metadata": {},
     "output_type": "execute_result"
    }
   ],
   "source": [
    "spi_180d_usdmcat_reproj.x.attrs['units']"
   ]
  },
  {
   "cell_type": "code",
   "execution_count": 12,
   "metadata": {},
   "outputs": [
    {
     "data": {
      "text/plain": [
       "3.4502829917380584"
      ]
     },
     "execution_count": 12,
     "metadata": {},
     "output_type": "execute_result"
    }
   ],
   "source": [
    "x_spacing = np.abs(spi_180d_usdmcat_reproj.x.values[1] - spi_180d_usdmcat_reproj.x.values[0])/1e3 #km\n",
    "x_spacing"
   ]
  },
  {
   "cell_type": "code",
   "execution_count": 13,
   "metadata": {},
   "outputs": [
    {
     "data": {
      "text/plain": [
       "3.4502829917380584"
      ]
     },
     "execution_count": 13,
     "metadata": {},
     "output_type": "execute_result"
    }
   ],
   "source": [
    "y_spacing = np.abs(spi_180d_usdmcat_reproj.y.values[1] - spi_180d_usdmcat_reproj.y.values[0])/1e3 # km\n",
    "y_spacing"
   ]
  },
  {
   "cell_type": "code",
   "execution_count": 14,
   "metadata": {},
   "outputs": [
    {
     "data": {
      "text/plain": [
       "11.9"
      ]
     },
     "execution_count": 14,
     "metadata": {},
     "output_type": "execute_result"
    }
   ],
   "source": [
    "cell_area = np.round(np.abs(x_spacing*y_spacing), 1)\n",
    "cell_area"
   ]
  },
  {
   "cell_type": "markdown",
   "metadata": {},
   "source": [
    "Computing the drought network takes an area threshold in number of cells, so we need to divide whatever our desired area is in square-kilometers by our cell area to get the number of cells we need to set our threshold at."
   ]
  },
  {
   "cell_type": "code",
   "execution_count": 15,
   "metadata": {},
   "outputs": [
    {
     "data": {
      "text/plain": [
       "2101"
      ]
     },
     "execution_count": 15,
     "metadata": {},
     "output_type": "execute_result"
    }
   ],
   "source": [
    "# adding one since I want to round up\n",
    "area_threshold = np.int64(25000/cell_area)+1 \n",
    "area_threshold"
   ]
  },
  {
   "cell_type": "markdown",
   "metadata": {},
   "source": [
    "Now we can create our drought network. Notice that we can save these out in a pickle for easy access later."
   ]
  },
  {
   "cell_type": "code",
   "execution_count": 16,
   "metadata": {},
   "outputs": [],
   "source": [
    "# around 3 minutes to run if area threshold is 25000 km2\n",
    "if not os.path.exists('spi180d_dnet.pickle'):\n",
    "    spi180d_dnet = dnet.DroughtNetwork(spi_180d_usdmcat_reproj.values, area_threshold=area_threshold)\n",
    "    spi180d_dnet.pickle('spi180d_dnet.pickle')\n",
    "else:\n",
    "    spi180d_dnet = dnet.DroughtNetwork.unpickle('spi180d_dnet.pickle')"
   ]
  },
  {
   "cell_type": "markdown",
   "metadata": {},
   "source": [
    "## Extract Drought Tracks"
   ]
  },
  {
   "cell_type": "markdown",
   "metadata": {},
   "source": [
    "### Create Configuration file"
   ]
  },
  {
   "cell_type": "code",
   "execution_count": 17,
   "metadata": {},
   "outputs": [],
   "source": [
    "config_path = 'tutorial_config.yaml'\n",
    "track_path = 'spi180d_tracks.pickle'\n",
    "\n",
    "if not os.path.exists(config_path):\n",
    "    dnw.write_config(\n",
    "            config_path='tutorial_config.yaml',\n",
    "            data_dir='spi180d_usdmcat_EPSG5070.nc',\n",
    "            dnet_dir='spi180d_dnet.pickle',\n",
    "            track_dir=track_path,\n",
    "            log_dir='tutorial_logs',\n",
    "            metric_thresh=1,\n",
    "            area_thresh=area_threshold,\n",
    "            ratio_thresh=0.2\n",
    "        )"
   ]
  },
  {
   "cell_type": "markdown",
   "metadata": {},
   "source": [
    "### Create a dask client for parallelism"
   ]
  },
  {
   "cell_type": "code",
   "execution_count": 18,
   "metadata": {},
   "outputs": [
    {
     "name": "stderr",
     "output_type": "stream",
     "text": [
      "/pool0/data/steinadi/.conda/envs/ndrought/lib/python3.11/site-packages/distributed/node.py:182: UserWarning: Port 8787 is already in use.\n",
      "Perhaps you already have a cluster running?\n",
      "Hosting the HTTP server on port 40367 instead\n",
      "  warnings.warn(\n"
     ]
    },
    {
     "name": "stdout",
     "output_type": "stream",
     "text": [
      "http://127.0.0.1:40367/status\n"
     ]
    }
   ],
   "source": [
    "cluster = LocalCluster(n_workers=4, threads_per_worker=1)\n",
    "\n",
    "client = Client(cluster)\n",
    "print(client.dashboard_link)"
   ]
  },
  {
   "cell_type": "markdown",
   "metadata": {},
   "source": [
    "### Extract our tracks from the network"
   ]
  },
  {
   "cell_type": "code",
   "execution_count": 19,
   "metadata": {},
   "outputs": [
    {
     "name": "stdout",
     "output_type": "stream",
     "text": [
      "Lazy Data Load\n",
      "... Data ready\n"
     ]
    }
   ],
   "source": [
    "dnw.compute_drought_tracks(config_path, client)"
   ]
  },
  {
   "cell_type": "markdown",
   "metadata": {},
   "source": [
    "So what did we just create? We extracted the following attributes as tracks:\n",
    "- x coordinate\n",
    "- y coordinate\n",
    "- u vector\n",
    "- v vector\n",
    "- time coordinate\n",
    "- color as a function of relative time\n",
    "- transparency as a function of similarity\n",
    "- size of blobs at x,y\n",
    "- size of blobs at x+u, y+v"
   ]
  },
  {
   "cell_type": "markdown",
   "metadata": {},
   "source": [
    "With this we can compute a variety of statistics about our drought metric"
   ]
  },
  {
   "cell_type": "markdown",
   "metadata": {},
   "source": [
    "### Read in our tracks"
   ]
  },
  {
   "cell_type": "markdown",
   "metadata": {},
   "source": [
    "Here we have our drought-track-dictionary, or dtd for short"
   ]
  },
  {
   "cell_type": "code",
   "execution_count": 20,
   "metadata": {},
   "outputs": [],
   "source": [
    "spi180d_dtd = dnw.convert_pickle_to_dtd(track_path)"
   ]
  },
  {
   "cell_type": "markdown",
   "metadata": {},
   "source": [
    "I'm going to prune the tracks so that we only have one track per termination point, e.g. enforcing our singular-termination point filter as described in the paper."
   ]
  },
  {
   "cell_type": "code",
   "execution_count": 21,
   "metadata": {},
   "outputs": [],
   "source": [
    "spi180d_dtd = dnw.prune_tracks(spi180d_dtd)"
   ]
  },
  {
   "cell_type": "markdown",
   "metadata": {},
   "source": [
    "Let's take a look at our keys we get"
   ]
  },
  {
   "cell_type": "code",
   "execution_count": 22,
   "metadata": {},
   "outputs": [
    {
     "data": {
      "text/plain": [
       "dict_keys(['x', 'y', 'u', 'v', 't', 'c', 'a', 's', 'sf'])"
      ]
     },
     "execution_count": 22,
     "metadata": {},
     "output_type": "execute_result"
    }
   ],
   "source": [
    "spi180d_dtd.keys()"
   ]
  },
  {
   "cell_type": "markdown",
   "metadata": {},
   "source": [
    "Each key corresponds to the list previously mentioned:\n",
    "- x : x coordinate\n",
    "- y : y coordinate\n",
    "- u : u vector\n",
    "- v : v vector\n",
    "- t : time coordinate\n",
    "- c : color as a function of relative time\n",
    "- a : transparency as a function of similarity\n",
    "- s : size of blobs at x,y\n",
    "- sf : size of blobs at x+u, y+v"
   ]
  },
  {
   "cell_type": "markdown",
   "metadata": {},
   "source": [
    "The dictionary is composed of a list of tracks that follow the same order for each key. So if I wanted to get the x,y coordinates of the first track listed, I'd do:"
   ]
  },
  {
   "cell_type": "code",
   "execution_count": 23,
   "metadata": {},
   "outputs": [
    {
     "data": {
      "text/plain": [
       "[(-1785337.6354301653, 2856081.7167596617)]"
      ]
     },
     "execution_count": 23,
     "metadata": {},
     "output_type": "execute_result"
    }
   ],
   "source": [
    "[(x, y) for x, y in zip(spi180d_dtd['x'][0], spi180d_dtd['y'][0])]"
   ]
  },
  {
   "cell_type": "markdown",
   "metadata": {},
   "source": [
    "Which happens to be a singular element"
   ]
  },
  {
   "cell_type": "markdown",
   "metadata": {},
   "source": [
    "And if I call `len` on one of the dtd lists, then I can see how many tracks there are"
   ]
  },
  {
   "cell_type": "code",
   "execution_count": 24,
   "metadata": {},
   "outputs": [
    {
     "data": {
      "text/plain": [
       "43"
      ]
     },
     "execution_count": 24,
     "metadata": {},
     "output_type": "execute_result"
    }
   ],
   "source": [
    "len(spi180d_dtd['x'])"
   ]
  },
  {
   "cell_type": "markdown",
   "metadata": {},
   "source": [
    "If we want our basic summary statistics described in the paper (lifetime, distance, displacement, average velocity, similarity, size), we can use a summarizing function:"
   ]
  },
  {
   "cell_type": "code",
   "execution_count": 25,
   "metadata": {},
   "outputs": [],
   "source": [
    "# need to pass in how many days per time increment.\n",
    "# for spi it's pentads, or 5 days\n",
    "spi180d_summary, spi180d_summary_grouped = dnw.compute_track_summary_characterization(spi180d_dtd, 5)"
   ]
  },
  {
   "cell_type": "code",
   "execution_count": 26,
   "metadata": {},
   "outputs": [
    {
     "data": {
      "text/html": [
       "<div>\n",
       "<style scoped>\n",
       "    .dataframe tbody tr th:only-of-type {\n",
       "        vertical-align: middle;\n",
       "    }\n",
       "\n",
       "    .dataframe tbody tr th {\n",
       "        vertical-align: top;\n",
       "    }\n",
       "\n",
       "    .dataframe thead th {\n",
       "        text-align: right;\n",
       "    }\n",
       "</style>\n",
       "<table border=\"1\" class=\"dataframe\">\n",
       "  <thead>\n",
       "    <tr style=\"text-align: right;\">\n",
       "      <th></th>\n",
       "      <th>lifetime</th>\n",
       "      <th>distance</th>\n",
       "      <th>displacement</th>\n",
       "      <th>average velocity</th>\n",
       "      <th>similarity</th>\n",
       "      <th>xy_size</th>\n",
       "      <th>uv_size</th>\n",
       "    </tr>\n",
       "  </thead>\n",
       "  <tbody>\n",
       "    <tr>\n",
       "      <th>0</th>\n",
       "      <td>0</td>\n",
       "      <td>5519.004667</td>\n",
       "      <td>5519.004667</td>\n",
       "      <td>inf</td>\n",
       "      <td>0.901313</td>\n",
       "      <td>[2128]</td>\n",
       "      <td>[2361]</td>\n",
       "    </tr>\n",
       "    <tr>\n",
       "      <th>1</th>\n",
       "      <td>0</td>\n",
       "      <td>13865.557998</td>\n",
       "      <td>13865.557998</td>\n",
       "      <td>inf</td>\n",
       "      <td>0.920949</td>\n",
       "      <td>[3036]</td>\n",
       "      <td>[2796]</td>\n",
       "    </tr>\n",
       "    <tr>\n",
       "      <th>2</th>\n",
       "      <td>245</td>\n",
       "      <td>671580.701035</td>\n",
       "      <td>131290.457655</td>\n",
       "      <td>2741.145719</td>\n",
       "      <td>0.933859</td>\n",
       "      <td>[6389, 9830, 10021, 9201, 11104, 12850, 12705,...</td>\n",
       "      <td>[9830, 10021, 9201, 11104, 12850, 12705, 12726...</td>\n",
       "    </tr>\n",
       "    <tr>\n",
       "      <th>3</th>\n",
       "      <td>10</td>\n",
       "      <td>55379.685618</td>\n",
       "      <td>34973.811416</td>\n",
       "      <td>5537.968562</td>\n",
       "      <td>0.676662</td>\n",
       "      <td>[2696, 3684, 2185]</td>\n",
       "      <td>[3684, 2185, 3099]</td>\n",
       "    </tr>\n",
       "    <tr>\n",
       "      <th>4</th>\n",
       "      <td>0</td>\n",
       "      <td>41145.413395</td>\n",
       "      <td>41145.413395</td>\n",
       "      <td>inf</td>\n",
       "      <td>0.583619</td>\n",
       "      <td>[4383]</td>\n",
       "      <td>[2558]</td>\n",
       "    </tr>\n",
       "  </tbody>\n",
       "</table>\n",
       "</div>"
      ],
      "text/plain": [
       "   lifetime       distance   displacement  average velocity  similarity  \\\n",
       "0         0    5519.004667    5519.004667               inf    0.901313   \n",
       "1         0   13865.557998   13865.557998               inf    0.920949   \n",
       "2       245  671580.701035  131290.457655       2741.145719    0.933859   \n",
       "3        10   55379.685618   34973.811416       5537.968562    0.676662   \n",
       "4         0   41145.413395   41145.413395               inf    0.583619   \n",
       "\n",
       "                                             xy_size  \\\n",
       "0                                             [2128]   \n",
       "1                                             [3036]   \n",
       "2  [6389, 9830, 10021, 9201, 11104, 12850, 12705,...   \n",
       "3                                 [2696, 3684, 2185]   \n",
       "4                                             [4383]   \n",
       "\n",
       "                                             uv_size  \n",
       "0                                             [2361]  \n",
       "1                                             [2796]  \n",
       "2  [9830, 10021, 9201, 11104, 12850, 12705, 12726...  \n",
       "3                                 [3684, 2185, 3099]  \n",
       "4                                             [2558]  "
      ]
     },
     "execution_count": 26,
     "metadata": {},
     "output_type": "execute_result"
    }
   ],
   "source": [
    "spi180d_summary.head()"
   ]
  },
  {
   "cell_type": "markdown",
   "metadata": {},
   "source": [
    "The second output from that function is a groupby object grouped by `[0, 30, 60, 90, 180, 365, 730, 1825, 7*1163]`"
   ]
  },
  {
   "cell_type": "code",
   "execution_count": 27,
   "metadata": {},
   "outputs": [
    {
     "data": {
      "text/plain": [
       "<pandas.core.groupby.generic.DataFrameGroupBy object at 0x7fc645e2d750>"
      ]
     },
     "execution_count": 27,
     "metadata": {},
     "output_type": "execute_result"
    }
   ],
   "source": [
    "spi180d_summary_grouped"
   ]
  },
  {
   "cell_type": "markdown",
   "metadata": {},
   "source": [
    "That way we can do things like get the mean lifetime per temporal bin:"
   ]
  },
  {
   "cell_type": "code",
   "execution_count": 28,
   "metadata": {},
   "outputs": [
    {
     "data": {
      "text/plain": [
       "lifetime\n",
       "(0, 30]          17.000000\n",
       "(30, 60]         40.833333\n",
       "(60, 90]         67.500000\n",
       "(90, 180]       143.125000\n",
       "(180, 365]      260.000000\n",
       "(365, 730]             NaN\n",
       "(730, 1825]            NaN\n",
       "(1825, 8141]           NaN\n",
       "Name: lifetime, dtype: float64"
      ]
     },
     "execution_count": 28,
     "metadata": {},
     "output_type": "execute_result"
    }
   ],
   "source": [
    "spi180d_summary_grouped['lifetime'].mean()"
   ]
  },
  {
   "cell_type": "markdown",
   "metadata": {},
   "source": [
    "Now what if we want to get latitudes and longitudes out of our tracks instead? Well we can use `dnw.transform_points`"
   ]
  },
  {
   "cell_type": "code",
   "execution_count": 29,
   "metadata": {},
   "outputs": [
    {
     "name": "stdout",
     "output_type": "stream",
     "text": [
      "\u001b[0;31mSignature:\u001b[0m\n",
      "\u001b[0mdnw\u001b[0m\u001b[0;34m.\u001b[0m\u001b[0mtransform_points\u001b[0m\u001b[0;34m(\u001b[0m\u001b[0;34m\u001b[0m\n",
      "\u001b[0;34m\u001b[0m    \u001b[0mx\u001b[0m\u001b[0;34m,\u001b[0m\u001b[0;34m\u001b[0m\n",
      "\u001b[0;34m\u001b[0m    \u001b[0my\u001b[0m\u001b[0;34m,\u001b[0m\u001b[0;34m\u001b[0m\n",
      "\u001b[0;34m\u001b[0m    \u001b[0minproj\u001b[0m\u001b[0;34m=\u001b[0m\u001b[0;34m<\u001b[0m\u001b[0mProjected\u001b[0m \u001b[0mCRS\u001b[0m\u001b[0;34m:\u001b[0m \u001b[0mEPSG\u001b[0m\u001b[0;34m:\u001b[0m\u001b[0;36m5070\u001b[0m\u001b[0;34m>\u001b[0m\u001b[0;34m\u001b[0m\n",
      "\u001b[0;34m\u001b[0m\u001b[0mName\u001b[0m\u001b[0;34m:\u001b[0m \u001b[0mNAD83\u001b[0m \u001b[0;34m/\u001b[0m \u001b[0mConus\u001b[0m \u001b[0mAlbers\u001b[0m\u001b[0;34m\u001b[0m\n",
      "\u001b[0;34m\u001b[0m\u001b[0mAxis\u001b[0m \u001b[0mInfo\u001b[0m \u001b[0;34m[\u001b[0m\u001b[0mcartesian\u001b[0m\u001b[0;34m]\u001b[0m\u001b[0;34m:\u001b[0m\u001b[0;34m\u001b[0m\n",
      "\u001b[0;34m\u001b[0m\u001b[0;34m-\u001b[0m \u001b[0mX\u001b[0m\u001b[0;34m[\u001b[0m\u001b[0meast\u001b[0m\u001b[0;34m]\u001b[0m\u001b[0;34m:\u001b[0m \u001b[0mEasting\u001b[0m \u001b[0;34m(\u001b[0m\u001b[0mmetre\u001b[0m\u001b[0;34m)\u001b[0m\u001b[0;34m\u001b[0m\n",
      "\u001b[0;34m\u001b[0m\u001b[0;34m-\u001b[0m \u001b[0mY\u001b[0m\u001b[0;34m[\u001b[0m\u001b[0mnorth\u001b[0m\u001b[0;34m]\u001b[0m\u001b[0;34m:\u001b[0m \u001b[0mNorthing\u001b[0m \u001b[0;34m(\u001b[0m\u001b[0mmetre\u001b[0m\u001b[0;34m)\u001b[0m\u001b[0;34m\u001b[0m\n",
      "\u001b[0;34m\u001b[0m\u001b[0mArea\u001b[0m \u001b[0mof\u001b[0m \u001b[0mUse\u001b[0m\u001b[0;34m:\u001b[0m\u001b[0;34m\u001b[0m\n",
      "\u001b[0;34m\u001b[0m\u001b[0;34m-\u001b[0m \u001b[0mname\u001b[0m\u001b[0;34m:\u001b[0m \u001b[0mUnited\u001b[0m \u001b[0mStates\u001b[0m \u001b[0;34m(\u001b[0m\u001b[0mUSA\u001b[0m\u001b[0;34m)\u001b[0m \u001b[0;34m-\u001b[0m \u001b[0mCONUS\u001b[0m \u001b[0monshore\u001b[0m \u001b[0;34m-\u001b[0m \u001b[0mAlabama\u001b[0m\u001b[0;34m;\u001b[0m \u001b[0mArizona\u001b[0m\u001b[0;34m;\u001b[0m \u001b[0mArkansas\u001b[0m\u001b[0;34m;\u001b[0m \u001b[0mCalifornia\u001b[0m\u001b[0;34m;\u001b[0m \u001b[0mColorado\u001b[0m\u001b[0;34m;\u001b[0m \u001b[0mConnecticut\u001b[0m\u001b[0;34m;\u001b[0m \u001b[0mDelaware\u001b[0m\u001b[0;34m;\u001b[0m \u001b[0mFlorida\u001b[0m\u001b[0;34m;\u001b[0m \u001b[0mGeorgia\u001b[0m\u001b[0;34m;\u001b[0m \u001b[0mIdaho\u001b[0m\u001b[0;34m;\u001b[0m \u001b[0mIllinois\u001b[0m\u001b[0;34m;\u001b[0m \u001b[0mIndiana\u001b[0m\u001b[0;34m;\u001b[0m \u001b[0mIowa\u001b[0m\u001b[0;34m;\u001b[0m \u001b[0mKansas\u001b[0m\u001b[0;34m;\u001b[0m \u001b[0mKentucky\u001b[0m\u001b[0;34m;\u001b[0m \u001b[0mLouisiana\u001b[0m\u001b[0;34m;\u001b[0m \u001b[0mMaine\u001b[0m\u001b[0;34m;\u001b[0m \u001b[0mMaryland\u001b[0m\u001b[0;34m;\u001b[0m \u001b[0mMassachusetts\u001b[0m\u001b[0;34m;\u001b[0m \u001b[0mMichigan\u001b[0m\u001b[0;34m;\u001b[0m \u001b[0mMinnesota\u001b[0m\u001b[0;34m;\u001b[0m \u001b[0mMississippi\u001b[0m\u001b[0;34m;\u001b[0m \u001b[0mMissouri\u001b[0m\u001b[0;34m;\u001b[0m \u001b[0mMontana\u001b[0m\u001b[0;34m;\u001b[0m \u001b[0mNebraska\u001b[0m\u001b[0;34m;\u001b[0m \u001b[0mNevada\u001b[0m\u001b[0;34m;\u001b[0m \u001b[0mNew\u001b[0m \u001b[0mHampshire\u001b[0m\u001b[0;34m;\u001b[0m \u001b[0mNew\u001b[0m \u001b[0mJersey\u001b[0m\u001b[0;34m;\u001b[0m \u001b[0mNew\u001b[0m \u001b[0mMexico\u001b[0m\u001b[0;34m;\u001b[0m \u001b[0mNew\u001b[0m \u001b[0mYork\u001b[0m\u001b[0;34m;\u001b[0m \u001b[0mNorth\u001b[0m \u001b[0mCarolina\u001b[0m\u001b[0;34m;\u001b[0m \u001b[0mNorth\u001b[0m \u001b[0mDakota\u001b[0m\u001b[0;34m;\u001b[0m \u001b[0mOhio\u001b[0m\u001b[0;34m;\u001b[0m \u001b[0mOklahoma\u001b[0m\u001b[0;34m;\u001b[0m \u001b[0mOregon\u001b[0m\u001b[0;34m;\u001b[0m \u001b[0mPennsylvania\u001b[0m\u001b[0;34m;\u001b[0m \u001b[0mRhode\u001b[0m \u001b[0mIsland\u001b[0m\u001b[0;34m;\u001b[0m \u001b[0mSouth\u001b[0m \u001b[0mCarolina\u001b[0m\u001b[0;34m;\u001b[0m \u001b[0mSouth\u001b[0m \u001b[0mDakota\u001b[0m\u001b[0;34m;\u001b[0m \u001b[0mTennessee\u001b[0m\u001b[0;34m;\u001b[0m \u001b[0mTexas\u001b[0m\u001b[0;34m;\u001b[0m \u001b[0mUtah\u001b[0m\u001b[0;34m;\u001b[0m \u001b[0mVermont\u001b[0m\u001b[0;34m;\u001b[0m \u001b[0mVirginia\u001b[0m\u001b[0;34m;\u001b[0m \u001b[0mWashington\u001b[0m\u001b[0;34m;\u001b[0m \u001b[0mWest\u001b[0m \u001b[0mVirginia\u001b[0m\u001b[0;34m;\u001b[0m \u001b[0mWisconsin\u001b[0m\u001b[0;34m;\u001b[0m \u001b[0mWyoming\u001b[0m\u001b[0;34m.\u001b[0m\u001b[0;34m\u001b[0m\n",
      "\u001b[0;34m\u001b[0m\u001b[0;34m-\u001b[0m \u001b[0mbounds\u001b[0m\u001b[0;34m:\u001b[0m \u001b[0;34m(\u001b[0m\u001b[0;34m-\u001b[0m\u001b[0;36m124.79\u001b[0m\u001b[0;34m,\u001b[0m \u001b[0;36m24.41\u001b[0m\u001b[0;34m,\u001b[0m \u001b[0;34m-\u001b[0m\u001b[0;36m66.91\u001b[0m\u001b[0;34m,\u001b[0m \u001b[0;36m49.38\u001b[0m\u001b[0;34m)\u001b[0m\u001b[0;34m\u001b[0m\n",
      "\u001b[0;34m\u001b[0m\u001b[0mCoordinate\u001b[0m \u001b[0mOperation\u001b[0m\u001b[0;34m:\u001b[0m\u001b[0;34m\u001b[0m\n",
      "\u001b[0;34m\u001b[0m\u001b[0;34m-\u001b[0m \u001b[0mname\u001b[0m\u001b[0;34m:\u001b[0m \u001b[0mConus\u001b[0m \u001b[0mAlbers\u001b[0m\u001b[0;34m\u001b[0m\n",
      "\u001b[0;34m\u001b[0m\u001b[0;34m-\u001b[0m \u001b[0mmethod\u001b[0m\u001b[0;34m:\u001b[0m \u001b[0mAlbers\u001b[0m \u001b[0mEqual\u001b[0m \u001b[0mArea\u001b[0m\u001b[0;34m\u001b[0m\n",
      "\u001b[0;34m\u001b[0m\u001b[0mDatum\u001b[0m\u001b[0;34m:\u001b[0m \u001b[0mNorth\u001b[0m \u001b[0mAmerican\u001b[0m \u001b[0mDatum\u001b[0m \u001b[0;36m1983\u001b[0m\u001b[0;34m\u001b[0m\n",
      "\u001b[0;34m\u001b[0m\u001b[0;34m-\u001b[0m \u001b[0mEllipsoid\u001b[0m\u001b[0;34m:\u001b[0m \u001b[0mGRS\u001b[0m \u001b[0;36m1980\u001b[0m\u001b[0;34m\u001b[0m\n",
      "\u001b[0;34m\u001b[0m\u001b[0;34m-\u001b[0m \u001b[0mPrime\u001b[0m \u001b[0mMeridian\u001b[0m\u001b[0;34m:\u001b[0m \u001b[0mGreenwich\u001b[0m\u001b[0;34m\u001b[0m\n",
      "\u001b[0;34m\u001b[0m\u001b[0;34m,\u001b[0m\u001b[0;34m\u001b[0m\n",
      "\u001b[0;34m\u001b[0m    \u001b[0moutproj\u001b[0m\u001b[0;34m=\u001b[0m\u001b[0;34m<\u001b[0m\u001b[0mGeographic\u001b[0m \u001b[0;36m2\u001b[0m\u001b[0mD\u001b[0m \u001b[0mCRS\u001b[0m\u001b[0;34m:\u001b[0m \u001b[0mEPSG\u001b[0m\u001b[0;34m:\u001b[0m\u001b[0;36m4326\u001b[0m\u001b[0;34m>\u001b[0m\u001b[0;34m\u001b[0m\n",
      "\u001b[0;34m\u001b[0m\u001b[0mName\u001b[0m\u001b[0;34m:\u001b[0m \u001b[0mWGS\u001b[0m \u001b[0;36m84\u001b[0m\u001b[0;34m\u001b[0m\n",
      "\u001b[0;34m\u001b[0m\u001b[0mAxis\u001b[0m \u001b[0mInfo\u001b[0m \u001b[0;34m[\u001b[0m\u001b[0mellipsoidal\u001b[0m\u001b[0;34m]\u001b[0m\u001b[0;34m:\u001b[0m\u001b[0;34m\u001b[0m\n",
      "\u001b[0;34m\u001b[0m\u001b[0;34m-\u001b[0m \u001b[0mLat\u001b[0m\u001b[0;34m[\u001b[0m\u001b[0mnorth\u001b[0m\u001b[0;34m]\u001b[0m\u001b[0;34m:\u001b[0m \u001b[0mGeodetic\u001b[0m \u001b[0mlatitude\u001b[0m \u001b[0;34m(\u001b[0m\u001b[0mdegree\u001b[0m\u001b[0;34m)\u001b[0m\u001b[0;34m\u001b[0m\n",
      "\u001b[0;34m\u001b[0m\u001b[0;34m-\u001b[0m \u001b[0mLon\u001b[0m\u001b[0;34m[\u001b[0m\u001b[0meast\u001b[0m\u001b[0;34m]\u001b[0m\u001b[0;34m:\u001b[0m \u001b[0mGeodetic\u001b[0m \u001b[0mlongitude\u001b[0m \u001b[0;34m(\u001b[0m\u001b[0mdegree\u001b[0m\u001b[0;34m)\u001b[0m\u001b[0;34m\u001b[0m\n",
      "\u001b[0;34m\u001b[0m\u001b[0mArea\u001b[0m \u001b[0mof\u001b[0m \u001b[0mUse\u001b[0m\u001b[0;34m:\u001b[0m\u001b[0;34m\u001b[0m\n",
      "\u001b[0;34m\u001b[0m\u001b[0;34m-\u001b[0m \u001b[0mname\u001b[0m\u001b[0;34m:\u001b[0m \u001b[0mWorld\u001b[0m\u001b[0;34m.\u001b[0m\u001b[0;34m\u001b[0m\n",
      "\u001b[0;34m\u001b[0m\u001b[0;34m-\u001b[0m \u001b[0mbounds\u001b[0m\u001b[0;34m:\u001b[0m \u001b[0;34m(\u001b[0m\u001b[0;34m-\u001b[0m\u001b[0;36m180.0\u001b[0m\u001b[0;34m,\u001b[0m \u001b[0;34m-\u001b[0m\u001b[0;36m90.0\u001b[0m\u001b[0;34m,\u001b[0m \u001b[0;36m180.0\u001b[0m\u001b[0;34m,\u001b[0m \u001b[0;36m90.0\u001b[0m\u001b[0;34m)\u001b[0m\u001b[0;34m\u001b[0m\n",
      "\u001b[0;34m\u001b[0m\u001b[0mDatum\u001b[0m\u001b[0;34m:\u001b[0m \u001b[0mWorld\u001b[0m \u001b[0mGeodetic\u001b[0m \u001b[0mSystem\u001b[0m \u001b[0;36m1984\u001b[0m \u001b[0mensemble\u001b[0m\u001b[0;34m\u001b[0m\n",
      "\u001b[0;34m\u001b[0m\u001b[0;34m-\u001b[0m \u001b[0mEllipsoid\u001b[0m\u001b[0;34m:\u001b[0m \u001b[0mWGS\u001b[0m \u001b[0;36m84\u001b[0m\u001b[0;34m\u001b[0m\n",
      "\u001b[0;34m\u001b[0m\u001b[0;34m-\u001b[0m \u001b[0mPrime\u001b[0m \u001b[0mMeridian\u001b[0m\u001b[0;34m:\u001b[0m \u001b[0mGreenwich\u001b[0m\u001b[0;34m\u001b[0m\n",
      "\u001b[0;34m\u001b[0m\u001b[0;34m,\u001b[0m\u001b[0;34m\u001b[0m\n",
      "\u001b[0;34m\u001b[0m\u001b[0;34m)\u001b[0m\u001b[0;34m\u001b[0m\u001b[0;34m\u001b[0m\u001b[0m\n",
      "\u001b[0;31mDocstring:\u001b[0m\n",
      "Transforms points using pyproj\n",
      "    \n",
      "\u001b[0;31mFile:\u001b[0m      /pool0/data/steinjao/drought/drought_impact/ndrought/wrangle_v11.py\n",
      "\u001b[0;31mType:\u001b[0m      function"
     ]
    }
   ],
   "source": [
    "dnw.transform_points?"
   ]
  },
  {
   "cell_type": "markdown",
   "metadata": {},
   "source": [
    "We can see the default arguments are expecting coordinates of `EPSG:5070` and tranforming them into `EPSG:4326`, but we could replace them with any projections."
   ]
  },
  {
   "cell_type": "code",
   "execution_count": 30,
   "metadata": {},
   "outputs": [
    {
     "name": "stdout",
     "output_type": "stream",
     "text": [
      "[46.69779135] [-119.49753271]\n"
     ]
    },
    {
     "name": "stderr",
     "output_type": "stream",
     "text": [
      "/pool0/data/steinjao/drought/drought_impact/notebooks/tutorial/../../ndrought/wrangle_v11.py:985: FutureWarning: This function is deprecated. See: https://pyproj4.github.io/pyproj/stable/gotchas.html#upgrading-to-pyproj-2-from-pyproj-1\n",
      "  return pyproj.transform(inproj,outproj,x,y)\n"
     ]
    }
   ],
   "source": [
    "lat, lon = dnw.transform_points(spi180d_dtd['x'][0], spi180d_dtd['y'][0])\n",
    "print(lat, lon)"
   ]
  },
  {
   "cell_type": "code",
   "execution_count": null,
   "metadata": {},
   "outputs": [],
   "source": []
  }
 ],
 "metadata": {
  "kernelspec": {
   "display_name": "ndrought",
   "language": "python",
   "name": "python3"
  },
  "language_info": {
   "codemirror_mode": {
    "name": "ipython",
    "version": 3
   },
   "file_extension": ".py",
   "mimetype": "text/x-python",
   "name": "python",
   "nbconvert_exporter": "python",
   "pygments_lexer": "ipython3",
   "version": "3.11.4"
  },
  "orig_nbformat": 4
 },
 "nbformat": 4,
 "nbformat_minor": 2
}
