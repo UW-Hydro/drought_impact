{
 "cells": [
  {
   "cell_type": "markdown",
   "metadata": {},
   "source": [
    "# Small Nexus: 2015 Drought\n",
    "a. stein 11.1.2022\n",
    "\n",
    "So drawing the entire nexus is too big, even for `pyvis`. Also, doing any computations on a graph that has multiple drought threads (meaning a discontinuous graph) greatly interferes with efforts to measure connectivity. So here I want to try isolating a drought thread to do a smaller scale analysis. For this I'll use the 2015 drought."
   ]
  },
  {
   "cell_type": "code",
   "execution_count": 69,
   "metadata": {},
   "outputs": [
    {
     "name": "stdout",
     "output_type": "stream",
     "text": [
      "%pylab is deprecated, use %matplotlib inline and import the required libraries.\n",
      "Populating the interactive namespace from numpy and matplotlib\n",
      "The autoreload extension is already loaded. To reload it, use:\n",
      "  %reload_ext autoreload\n"
     ]
    }
   ],
   "source": [
    "%pylab inline\n",
    "%load_ext autoreload\n",
    "%autoreload 2\n",
    "%reload_ext autoreload\n",
    "\n",
    "import xarray as xr\n",
    "import rioxarray\n",
    "import rasterio as rio\n",
    "import pandas as pd\n",
    "import geopandas as gpd\n",
    "import networkx as nx\n",
    "\n",
    "import matplotlib.dates as mdates\n",
    "\n",
    "from tqdm.autonotebook import tqdm\n",
    "\n",
    "import sys\n",
    "sys.path.append('../../')\n",
    "import ndrought.wrangle as wrangle\n",
    "import ndrought.compare as compare\n",
    "import ndrought.plotting as ndplot\n",
    "import ndrought.drought_network as dnet\n",
    "\n",
    "from pyvis.network import Network"
   ]
  },
  {
   "cell_type": "markdown",
   "metadata": {},
   "source": [
    "## Load in data"
   ]
  },
  {
   "cell_type": "code",
   "execution_count": 2,
   "metadata": {},
   "outputs": [],
   "source": [
    "dm_path = '/pool0/home/steinadi/data/drought/drought_impact/data/drought_measures'"
   ]
  },
  {
   "cell_type": "code",
   "execution_count": 3,
   "metadata": {},
   "outputs": [],
   "source": [
    "usdm = xr.open_dataset(f'{dm_path}/usdm/USDM_WA_20000104_20220412.nc')"
   ]
  },
  {
   "cell_type": "code",
   "execution_count": 4,
   "metadata": {},
   "outputs": [],
   "source": [
    "usdm_net = dnet.DroughtNetwork.unpickle(f'{dm_path}/usdm/usdm_WA_net.pickle')"
   ]
  },
  {
   "cell_type": "code",
   "execution_count": 5,
   "metadata": {},
   "outputs": [],
   "source": [
    "pdsi = xr.open_dataset(f'{dm_path}/pdsi/WA/pdsi_usdmcat_WA.nc')"
   ]
  },
  {
   "cell_type": "code",
   "execution_count": 6,
   "metadata": {},
   "outputs": [],
   "source": [
    "pdsi_net = dnet.DroughtNetwork.unpickle(f'{dm_path}/pdsi/WA/pdsi_WA_net.pickle')"
   ]
  },
  {
   "cell_type": "markdown",
   "metadata": {},
   "source": [
    "## Match & Overlap data"
   ]
  },
  {
   "cell_type": "code",
   "execution_count": 7,
   "metadata": {},
   "outputs": [],
   "source": [
    "matched_dates = compare.pair_to_usdm_date(pd.to_datetime(usdm.date.values), pd.to_datetime(pdsi.day.values), 'PDSI', realign=True)"
   ]
  },
  {
   "cell_type": "code",
   "execution_count": 8,
   "metadata": {},
   "outputs": [],
   "source": [
    "pdsi_date_idx = []\n",
    "\n",
    "for date in matched_dates['PDSI'].values:\n",
    "    pdsi_date_idx.append(np.where(pdsi.day.values == date)[0][0])\n",
    "usdm_date_idx = []\n",
    "\n",
    "for date in matched_dates['USDM Date'].values:\n",
    "    usdm_date_idx.append(np.where(usdm.date.values == date)[0][0])\n",
    "    \n",
    "matched_dates_dict = dict()\n",
    "for usdm_date, pdsi_date in zip(usdm_date_idx, pdsi_date_idx):\n",
    "    matched_dates_dict[usdm_date] = pdsi_date"
   ]
  },
  {
   "cell_type": "code",
   "execution_count": 9,
   "metadata": {},
   "outputs": [
    {
     "data": {
      "application/vnd.jupyter.widget-view+json": {
       "model_id": "87b9eced801d455dac698a4d20a95699",
       "version_major": 2,
       "version_minor": 0
      },
      "text/plain": [
       "  0%|          | 0/86991324 [00:00<?, ?it/s]"
      ]
     },
     "metadata": {},
     "output_type": "display_data"
    }
   ],
   "source": [
    "overlap_events = usdm_net.find_overlapping_nodes_events(pdsi_net, matched_dates_dict)"
   ]
  },
  {
   "cell_type": "markdown",
   "metadata": {},
   "source": [
    "## Select out 2015 Drought"
   ]
  },
  {
   "cell_type": "markdown",
   "metadata": {},
   "source": [
    "Okay, so I have already identified for the USDM that the drought event that best captures the 2015 drought starts at id 893."
   ]
  },
  {
   "cell_type": "code",
   "execution_count": 10,
   "metadata": {},
   "outputs": [],
   "source": [
    "usdm_thread_893 = usdm_net.get_chronological_future_thread(id=893)\n",
    "usdm_ids_893 = [node.id for node in usdm_thread_893]\n",
    "usdm_adj_dict_893 = usdm_net.filter_adj_dict_by_id(usdm_ids_893)"
   ]
  },
  {
   "cell_type": "code",
   "execution_count": 11,
   "metadata": {},
   "outputs": [
    {
     "data": {
      "text/plain": [
       "731"
      ]
     },
     "execution_count": 11,
     "metadata": {},
     "output_type": "execute_result"
    }
   ],
   "source": [
    "usdm_thread_893[0].time"
   ]
  },
  {
   "cell_type": "code",
   "execution_count": 12,
   "metadata": {},
   "outputs": [
    {
     "data": {
      "text/plain": [
       "846"
      ]
     },
     "execution_count": 12,
     "metadata": {},
     "output_type": "execute_result"
    }
   ],
   "source": [
    "usdm_thread_893[-1].time"
   ]
  },
  {
   "cell_type": "code",
   "execution_count": 13,
   "metadata": {},
   "outputs": [
    {
     "data": {
      "text/plain": [
       "<AxesSubplot:xlabel='Time', ylabel='Area in Drought Event'>"
      ]
     },
     "execution_count": 13,
     "metadata": {},
     "output_type": "execute_result"
    },
    {
     "data": {
      "image/png": "[encoded data removed]",
      "text/plain": [
       "<Figure size 432x288 with 1 Axes>"
      ]
     },
     "metadata": {
      "needs_background": "light"
     },
     "output_type": "display_data"
    }
   ],
   "source": [
    "usdm_net.stacked_events_plot(id=893)"
   ]
  },
  {
   "cell_type": "markdown",
   "metadata": {},
   "source": [
    "Let's make the staked plots for pdsi to find where it's got the 2015 drought"
   ]
  },
  {
   "cell_type": "code",
   "execution_count": 14,
   "metadata": {},
   "outputs": [
    {
     "data": {
      "text/plain": [
       "(array([731]),)"
      ]
     },
     "execution_count": 14,
     "metadata": {},
     "output_type": "execute_result"
    }
   ],
   "source": [
    "np.where(pdsi['day'].values == pdsi['day'].sel(day='2014').values[0])"
   ]
  },
  {
   "cell_type": "code",
   "execution_count": 15,
   "metadata": {},
   "outputs": [
    {
     "data": {
      "text/plain": [
       "(array([783]),)"
      ]
     },
     "execution_count": 15,
     "metadata": {},
     "output_type": "execute_result"
    }
   ],
   "source": [
    "np.where(pdsi['day'].values == pdsi['day'].sel(day='2015').values[0])"
   ]
  },
  {
   "cell_type": "code",
   "execution_count": 16,
   "metadata": {},
   "outputs": [
    {
     "data": {
      "text/plain": [
       "(array([835]),)"
      ]
     },
     "execution_count": 16,
     "metadata": {},
     "output_type": "execute_result"
    }
   ],
   "source": [
    "np.where(pdsi['day'].values == pdsi['day'].sel(day='2016').values[0])"
   ]
  },
  {
   "cell_type": "code",
   "execution_count": 17,
   "metadata": {},
   "outputs": [
    {
     "data": {
      "text/plain": [
       "<AxesSubplot:xlabel='Time', ylabel='Area in Drought Event'>"
      ]
     },
     "execution_count": 17,
     "metadata": {},
     "output_type": "execute_result"
    },
    {
     "data": {
      "image/png": "[encoded data removed]",
      "text/plain": [
       "<Figure size 432x288 with 1 Axes>"
      ]
     },
     "metadata": {
      "needs_background": "light"
     },
     "output_type": "display_data"
    }
   ],
   "source": [
    "pdsi_net.stacked_events_plot(start_time=728, end_time=848)"
   ]
  },
  {
   "cell_type": "markdown",
   "metadata": {},
   "source": [
    "That looks like it covers the same thing ... now to trace it"
   ]
  },
  {
   "cell_type": "code",
   "execution_count": 18,
   "metadata": {},
   "outputs": [],
   "source": [
    "potential_pdsi_threads = pdsi_net.time_slice(728, 848)"
   ]
  },
  {
   "cell_type": "code",
   "execution_count": 33,
   "metadata": {},
   "outputs": [
    {
     "data": {
      "text/plain": [
       "array([728, 728, 728, ..., 848, 848, 848])"
      ]
     },
     "execution_count": 33,
     "metadata": {},
     "output_type": "execute_result"
    }
   ],
   "source": [
    "np.array([node.time for node in potential_pdsi_threads])"
   ]
  },
  {
   "cell_type": "code",
   "execution_count": 20,
   "metadata": {},
   "outputs": [
    {
     "data": {
      "text/plain": [
       "3667"
      ]
     },
     "execution_count": 20,
     "metadata": {},
     "output_type": "execute_result"
    }
   ],
   "source": [
    "len(potential_pdsi_threads)"
   ]
  },
  {
   "cell_type": "code",
   "execution_count": 46,
   "metadata": {},
   "outputs": [
    {
     "data": {
      "text/plain": [
       "DatetimeIndex(['2013-12-16', '2013-12-21', '2013-12-31', '2014-01-05',\n",
       "               '2014-01-10', '2014-01-20', '2014-01-25', '2014-02-04',\n",
       "               '2014-02-09', '2014-02-14',\n",
       "               ...\n",
       "               '2016-01-30', '2016-02-09', '2016-02-14', '2016-02-19',\n",
       "               '2016-02-29', '2016-03-05', '2016-03-15', '2016-03-20',\n",
       "               '2016-03-25', '2016-04-04'],\n",
       "              dtype='datetime64[ns]', length=121, freq=None)"
      ]
     },
     "execution_count": 46,
     "metadata": {},
     "output_type": "execute_result"
    }
   ],
   "source": [
    "times = pd.to_datetime(pdsi.day.values[728:849])\n",
    "times"
   ]
  },
  {
   "cell_type": "code",
   "execution_count": 48,
   "metadata": {},
   "outputs": [],
   "source": [
    "test_pdsi_adj_dict = pdsi_net.filter_adj_dict_by_id([node.id for node in potential_pdsi_threads])"
   ]
  },
  {
   "cell_type": "code",
   "execution_count": 50,
   "metadata": {},
   "outputs": [],
   "source": [
    "pdsi_net.create_animated_gif('test/pdsi_2015_drought_test.gif', \n",
    "                             adj_dict=test_pdsi_adj_dict, \n",
    "                             times=times, \n",
    "                             fps=4, overwrite=True)"
   ]
  },
  {
   "cell_type": "markdown",
   "metadata": {},
   "source": [
    "Okay, those look right. Hard to say if more should be trimmed, but I think that they shouldn't because PDSI is much more spatially segmented than USDM where I did filter to a thread."
   ]
  },
  {
   "cell_type": "code",
   "execution_count": 56,
   "metadata": {},
   "outputs": [],
   "source": [
    "usdm_2015_ids = usdm_thread_893\n",
    "pdsi_2015_ids = potential_pdsi_threads"
   ]
  },
  {
   "cell_type": "code",
   "execution_count": 57,
   "metadata": {},
   "outputs": [],
   "source": [
    "usdm_2015_adj_dict = usdm_adj_dict_893\n",
    "pdsi_2015_adj_dict = test_pdsi_adj_dict"
   ]
  },
  {
   "cell_type": "code",
   "execution_count": 62,
   "metadata": {},
   "outputs": [],
   "source": [
    "G_usdm = nx.Graph(usdm_2015_adj_dict)\n",
    "G_pdsi = nx.Graph(pdsi_2015_adj_dict)"
   ]
  },
  {
   "cell_type": "code",
   "execution_count": 63,
   "metadata": {},
   "outputs": [],
   "source": [
    "G_usdm_relab = ndplot.attach_dm_node_label(G_usdm, 'usdm')\n",
    "G_pdsi_relab = ndplot.attach_dm_node_label(G_pdsi, 'pdsi')"
   ]
  },
  {
   "cell_type": "code",
   "execution_count": 66,
   "metadata": {},
   "outputs": [],
   "source": [
    "G_usdm_pdsi = nx.union(G_usdm_relab, G_pdsi_relab)"
   ]
  },
  {
   "cell_type": "code",
   "execution_count": 68,
   "metadata": {},
   "outputs": [],
   "source": [
    "G_usdm_pdsi_connected = ndplot.connect_overlap_nodes(G_usdm_pdsi, overlap_events, 'usdm', 'pdsi')"
   ]
  },
  {
   "cell_type": "code",
   "execution_count": 70,
   "metadata": {},
   "outputs": [
    {
     "name": "stdout",
     "output_type": "stream",
     "text": [
      "Local cdn resources have problems on chrome/safari when used in jupyter-notebook. \n"
     ]
    }
   ],
   "source": [
    "g = Network(notebook=True)\n",
    "g.toggle_physics('True')\n",
    "g.from_nx(G_usdm_pdsi_connected.copy())"
   ]
  },
  {
   "cell_type": "markdown",
   "metadata": {},
   "source": [
    "g.show('example.html')"
   ]
  },
  {
   "cell_type": "code",
   "execution_count": null,
   "metadata": {},
   "outputs": [],
   "source": []
  }
 ],
 "metadata": {
  "kernelspec": {
   "display_name": "sedi",
   "language": "python",
   "name": "sedi"
  },
  "language_info": {
   "codemirror_mode": {
    "name": "ipython",
    "version": 3
   },
   "file_extension": ".py",
   "mimetype": "text/x-python",
   "name": "python",
   "nbconvert_exporter": "python",
   "pygments_lexer": "ipython3",
   "version": "3.10.5"
  }
 },
 "nbformat": 4,
 "nbformat_minor": 4
}
