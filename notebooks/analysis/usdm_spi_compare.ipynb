{
 "cells": [
  {
   "cell_type": "markdown",
   "metadata": {},
   "source": [
    "# Compare USDM & SPI\n",
    "a. stein 4.27.2022\n",
    "\n",
    "Building off of `explore/usdm_spi_explore_workflow.ipynb`, this notebook builds upon lessons learned and the workflow developed there to more thoroughly compare the USDM and various interval SPIs."
   ]
  },
  {
   "cell_type": "code",
   "execution_count": 1,
   "metadata": {},
   "outputs": [
    {
     "name": "stdout",
     "output_type": "stream",
     "text": [
      "Populating the interactive namespace from numpy and matplotlib\n"
     ]
    },
    {
     "name": "stderr",
     "output_type": "stream",
     "text": [
      "/pool0/data/steinadi/.conda/envs/sedi/lib/python3.7/site-packages/ipykernel_launcher.py:12: TqdmExperimentalWarning: Using `tqdm.autonotebook.tqdm` in notebook mode. Use `tqdm.tqdm` instead to force console mode (e.g. in jupyter console)\n",
      "  if sys.path[0] == '':\n"
     ]
    }
   ],
   "source": [
    "%pylab inline\n",
    "%load_ext autoreload\n",
    "%autoreload 2\n",
    "%reload_ext autoreload\n",
    "\n",
    "import xarray as xr\n",
    "import rioxarray\n",
    "import rasterio as rio\n",
    "import pandas as pd\n",
    "import geopandas as gpd\n",
    "\n",
    "from tqdm.autonotebook import tqdm\n",
    "\n",
    "import sys\n",
    "sys.path.append('../../')\n",
    "import ndrought.wrangle as wrangle\n",
    "import ndrought.compare as compare"
   ]
  },
  {
   "cell_type": "markdown",
   "metadata": {},
   "source": [
    "Load in data"
   ]
  },
  {
   "cell_type": "code",
   "execution_count": 2,
   "metadata": {},
   "outputs": [],
   "source": [
    "dm_path = '/pool0/home/steinadi/data/drought/drought_impact/data/drought_measures'\n",
    "\n",
    "# USDM & SPI already clipped in WA folders\n",
    "usdm = xr.open_dataset(f'{dm_path}/usdm/USDM_WA_20000104_20220412.nc')\n",
    "spi_1y = xr.open_dataset(f'{dm_path}/spi/WA/spi_1y.nc')\n",
    "spi_2y = xr.open_dataset(f'{dm_path}/spi/WA/spi_2y.nc')\n",
    "spi_5y = xr.open_dataset(f'{dm_path}/spi/WA/spi_5y.nc')\n",
    "spi_14d = xr.open_dataset(f'{dm_path}/spi/WA/spi_14d.nc')\n",
    "spi_30d = xr.open_dataset(f'{dm_path}/spi/WA/spi_30d.nc')\n",
    "spi_90d = xr.open_dataset(f'{dm_path}/spi/WA/spi_90d.nc')\n",
    "spi_180d = xr.open_dataset(f'{dm_path}/spi/WA/spi_180d.nc')\n",
    "spi_270d = xr.open_dataset(f'{dm_path}/spi/WA/spi_270d.nc')\n",
    "spi_list = [spi_1y, spi_2y, spi_5y, spi_14d, spi_30d, spi_90d, spi_180d, spi_270d]\n",
    "spi_intervals = ['1y', '2y', '5y', '14d', '30d', '90d', '180d', '270d']"
   ]
  },
  {
   "cell_type": "markdown",
   "metadata": {},
   "source": [
    "Check if SPI dates and coordinates all match"
   ]
  },
  {
   "cell_type": "code",
   "execution_count": 3,
   "metadata": {},
   "outputs": [],
   "source": [
    "for spi in spi_list[1:]:\n",
    "    if len(np.where(spi_1y['day'].values != spi['day'].values)[0]) != 0:\n",
    "        print('Time mistmatch')\n",
    "    if len(np.where(spi_1y['lat'].values != spi['lat'].values)[0]) != 0:\n",
    "        print('lat mismatch')\n",
    "    if len(np.where(spi_1y['lon'].values != spi['lon'].values)[0]) != 0:\n",
    "        print('lon mismatch')"
   ]
  },
  {
   "cell_type": "markdown",
   "metadata": {},
   "source": [
    "Cool, so then I only need to make 1 set of paired dates and upscale USDM to 1 of the SPI grids cause they're all the same."
   ]
  },
  {
   "cell_type": "code",
   "execution_count": 4,
   "metadata": {},
   "outputs": [],
   "source": [
    "usdm_da = usdm['USDM'].rio.write_crs('EPSG:4326', inplace=True)\n",
    "spi_1y_da = spi_1y['spi'].rio.write_crs('EPSG:4326', inplace=True)\n",
    "usdm_upscale = (usdm_da).rio.reproject_match(spi_1y_da)"
   ]
  },
  {
   "cell_type": "code",
   "execution_count": 7,
   "metadata": {},
   "outputs": [
    {
     "data": {
      "text/plain": [
       "DatetimeIndex(['2000-01-04', '2000-01-11', '2000-01-18', '2000-01-25',\n",
       "               '2000-02-01', '2000-02-08', '2000-02-15', '2000-02-22',\n",
       "               '2000-02-29', '2000-03-07',\n",
       "               ...\n",
       "               '2022-02-08', '2022-02-15', '2022-02-22', '2022-03-01',\n",
       "               '2022-03-08', '2022-03-15', '2022-03-22', '2022-03-29',\n",
       "               '2022-04-05', '2022-04-12'],\n",
       "              dtype='datetime64[ns]', length=1163, freq=None)"
      ]
     },
     "execution_count": 7,
     "metadata": {},
     "output_type": "execute_result"
    }
   ],
   "source": [
    "usdm_dates"
   ]
  },
  {
   "cell_type": "code",
   "execution_count": 31,
   "metadata": {},
   "outputs": [
    {
     "name": "stderr",
     "output_type": "stream",
     "text": [
      "/pool0/data/steinadi/.conda/envs/sedi/lib/python3.7/site-packages/pandas/core/indexing.py:1732: SettingWithCopyWarning: \n",
      "A value is trying to be set on a copy of a slice from a DataFrame\n",
      "\n",
      "See the caveats in the documentation: https://pandas.pydata.org/pandas-docs/stable/user_guide/indexing.html#returning-a-view-versus-a-copy\n",
      "  self._setitem_single_block(indexer, value, name)\n"
     ]
    },
    {
     "data": {
      "text/html": [
       "<div>\n",
       "<style scoped>\n",
       "    .dataframe tbody tr th:only-of-type {\n",
       "        vertical-align: middle;\n",
       "    }\n",
       "\n",
       "    .dataframe tbody tr th {\n",
       "        vertical-align: top;\n",
       "    }\n",
       "\n",
       "    .dataframe thead th {\n",
       "        text-align: right;\n",
       "    }\n",
       "</style>\n",
       "<table border=\"1\" class=\"dataframe\">\n",
       "  <thead>\n",
       "    <tr style=\"text-align: right;\">\n",
       "      <th></th>\n",
       "      <th>SPI Date</th>\n",
       "      <th>USDM Date</th>\n",
       "    </tr>\n",
       "  </thead>\n",
       "  <tbody>\n",
       "    <tr>\n",
       "      <th>0</th>\n",
       "      <td>1999-12-31</td>\n",
       "      <td>2000-01-04</td>\n",
       "    </tr>\n",
       "    <tr>\n",
       "      <th>1</th>\n",
       "      <td>2000-01-10</td>\n",
       "      <td>2000-01-11</td>\n",
       "    </tr>\n",
       "    <tr>\n",
       "      <th>2</th>\n",
       "      <td>2000-01-15</td>\n",
       "      <td>2000-01-18</td>\n",
       "    </tr>\n",
       "    <tr>\n",
       "      <th>3</th>\n",
       "      <td>2000-01-25</td>\n",
       "      <td>2000-01-25</td>\n",
       "    </tr>\n",
       "    <tr>\n",
       "      <th>4</th>\n",
       "      <td>2000-01-30</td>\n",
       "      <td>2000-02-01</td>\n",
       "    </tr>\n",
       "    <tr>\n",
       "      <th>...</th>\n",
       "      <td>...</td>\n",
       "      <td>...</td>\n",
       "    </tr>\n",
       "    <tr>\n",
       "      <th>1143</th>\n",
       "      <td>2021-11-26</td>\n",
       "      <td>2021-11-30</td>\n",
       "    </tr>\n",
       "    <tr>\n",
       "      <th>1144</th>\n",
       "      <td>2021-12-06</td>\n",
       "      <td>2021-12-07</td>\n",
       "    </tr>\n",
       "    <tr>\n",
       "      <th>1145</th>\n",
       "      <td>2021-12-11</td>\n",
       "      <td>2021-12-14</td>\n",
       "    </tr>\n",
       "    <tr>\n",
       "      <th>1146</th>\n",
       "      <td>2021-12-21</td>\n",
       "      <td>2021-12-21</td>\n",
       "    </tr>\n",
       "    <tr>\n",
       "      <th>1147</th>\n",
       "      <td>2021-12-26</td>\n",
       "      <td>2021-12-28</td>\n",
       "    </tr>\n",
       "  </tbody>\n",
       "</table>\n",
       "<p>1148 rows × 2 columns</p>\n",
       "</div>"
      ],
      "text/plain": [
       "       SPI Date  USDM Date\n",
       "0    1999-12-31 2000-01-04\n",
       "1    2000-01-10 2000-01-11\n",
       "2    2000-01-15 2000-01-18\n",
       "3    2000-01-25 2000-01-25\n",
       "4    2000-01-30 2000-02-01\n",
       "...         ...        ...\n",
       "1143 2021-11-26 2021-11-30\n",
       "1144 2021-12-06 2021-12-07\n",
       "1145 2021-12-11 2021-12-14\n",
       "1146 2021-12-21 2021-12-21\n",
       "1147 2021-12-26 2021-12-28\n",
       "\n",
       "[1148 rows x 2 columns]"
      ]
     },
     "execution_count": 31,
     "metadata": {},
     "output_type": "execute_result"
    }
   ],
   "source": [
    "usdm_dates = pd.DatetimeIndex(usdm['date'].values)\n",
    "usdm_dates = usdm_dates[usdm_dates < '2022']\n",
    "\n",
    "spi_dates = pd.DatetimeIndex(spi_1y['day'].values)\n",
    "#spi_dates = spi_dates[spi_dates >= '1999-12-31']\n",
    "\n",
    "pair_dates = compare.pair_to_usdm_date(usdm_dates, spi_dates, 'SPI Date', realign=True)\n",
    "pair_dates"
   ]
  },
  {
   "cell_type": "markdown",
   "metadata": {},
   "source": [
    "Add in Hydrologic Year (need to double check I have the counting right ...)"
   ]
  },
  {
   "cell_type": "code",
   "execution_count": 32,
   "metadata": {},
   "outputs": [
    {
     "data": {
      "text/html": [
       "<div>\n",
       "<style scoped>\n",
       "    .dataframe tbody tr th:only-of-type {\n",
       "        vertical-align: middle;\n",
       "    }\n",
       "\n",
       "    .dataframe tbody tr th {\n",
       "        vertical-align: top;\n",
       "    }\n",
       "\n",
       "    .dataframe thead th {\n",
       "        text-align: right;\n",
       "    }\n",
       "</style>\n",
       "<table border=\"1\" class=\"dataframe\">\n",
       "  <thead>\n",
       "    <tr style=\"text-align: right;\">\n",
       "      <th></th>\n",
       "      <th>SPI Date</th>\n",
       "      <th>USDM Date</th>\n",
       "      <th>USDM Hydrologic Year</th>\n",
       "    </tr>\n",
       "  </thead>\n",
       "  <tbody>\n",
       "    <tr>\n",
       "      <th>0</th>\n",
       "      <td>1999-12-31</td>\n",
       "      <td>2000-01-04</td>\n",
       "      <td>2000</td>\n",
       "    </tr>\n",
       "    <tr>\n",
       "      <th>1</th>\n",
       "      <td>2000-01-10</td>\n",
       "      <td>2000-01-11</td>\n",
       "      <td>2000</td>\n",
       "    </tr>\n",
       "    <tr>\n",
       "      <th>2</th>\n",
       "      <td>2000-01-15</td>\n",
       "      <td>2000-01-18</td>\n",
       "      <td>2000</td>\n",
       "    </tr>\n",
       "    <tr>\n",
       "      <th>3</th>\n",
       "      <td>2000-01-25</td>\n",
       "      <td>2000-01-25</td>\n",
       "      <td>2000</td>\n",
       "    </tr>\n",
       "    <tr>\n",
       "      <th>4</th>\n",
       "      <td>2000-01-30</td>\n",
       "      <td>2000-02-01</td>\n",
       "      <td>2000</td>\n",
       "    </tr>\n",
       "    <tr>\n",
       "      <th>...</th>\n",
       "      <td>...</td>\n",
       "      <td>...</td>\n",
       "      <td>...</td>\n",
       "    </tr>\n",
       "    <tr>\n",
       "      <th>1143</th>\n",
       "      <td>2021-11-26</td>\n",
       "      <td>2021-11-30</td>\n",
       "      <td>2022</td>\n",
       "    </tr>\n",
       "    <tr>\n",
       "      <th>1144</th>\n",
       "      <td>2021-12-06</td>\n",
       "      <td>2021-12-07</td>\n",
       "      <td>2022</td>\n",
       "    </tr>\n",
       "    <tr>\n",
       "      <th>1145</th>\n",
       "      <td>2021-12-11</td>\n",
       "      <td>2021-12-14</td>\n",
       "      <td>2022</td>\n",
       "    </tr>\n",
       "    <tr>\n",
       "      <th>1146</th>\n",
       "      <td>2021-12-21</td>\n",
       "      <td>2021-12-21</td>\n",
       "      <td>2022</td>\n",
       "    </tr>\n",
       "    <tr>\n",
       "      <th>1147</th>\n",
       "      <td>2021-12-26</td>\n",
       "      <td>2021-12-28</td>\n",
       "      <td>2022</td>\n",
       "    </tr>\n",
       "  </tbody>\n",
       "</table>\n",
       "<p>1148 rows × 3 columns</p>\n",
       "</div>"
      ],
      "text/plain": [
       "       SPI Date  USDM Date  USDM Hydrologic Year\n",
       "0    1999-12-31 2000-01-04                  2000\n",
       "1    2000-01-10 2000-01-11                  2000\n",
       "2    2000-01-15 2000-01-18                  2000\n",
       "3    2000-01-25 2000-01-25                  2000\n",
       "4    2000-01-30 2000-02-01                  2000\n",
       "...         ...        ...                   ...\n",
       "1143 2021-11-26 2021-11-30                  2022\n",
       "1144 2021-12-06 2021-12-07                  2022\n",
       "1145 2021-12-11 2021-12-14                  2022\n",
       "1146 2021-12-21 2021-12-21                  2022\n",
       "1147 2021-12-26 2021-12-28                  2022\n",
       "\n",
       "[1148 rows x 3 columns]"
      ]
     },
     "execution_count": 32,
     "metadata": {},
     "output_type": "execute_result"
    }
   ],
   "source": [
    "pair_dates['USDM Hydrologic Year'] = (pd.DatetimeIndex(pair_dates['USDM Date']) + pd.DateOffset(months=3)).year\n",
    "pair_dates"
   ]
  },
  {
   "cell_type": "markdown",
   "metadata": {},
   "source": [
    "Convert SPI to USDM categories ..."
   ]
  },
  {
   "cell_type": "code",
   "execution_count": null,
   "metadata": {},
   "outputs": [],
   "source": []
  },
  {
   "cell_type": "code",
   "execution_count": 41,
   "metadata": {},
   "outputs": [
    {
     "data": {
      "application/vnd.jupyter.widget-view+json": {
       "model_id": "04ff624cde8142758cf0725fabe74221",
       "version_major": 2,
       "version_minor": 0
      },
      "text/plain": [
       "  0%|          | 0/8 [00:00<?, ?it/s]"
      ]
     },
     "metadata": {},
     "output_type": "display_data"
    }
   ],
   "source": [
    "spi_usdmcat = dict()\n",
    "\n",
    "for spi, interval in tqdm(zip(spi_list, spi_intervals), total=len(spi_intervals)):\n",
    "    spi_usdmcat[interval] = compare.spi_to_usdmcat_multtime(spi['spi'].sel(day=pair_dates['SPI Date'].values))"
   ]
  },
  {
   "cell_type": "markdown",
   "metadata": {},
   "source": [
    "This looks like it might take a bit ... should save out this dataset once done ..."
   ]
  },
  {
   "cell_type": "markdown",
   "metadata": {},
   "source": [
    "Make some preliminary plots"
   ]
  },
  {
   "cell_type": "code",
   "execution_count": null,
   "metadata": {},
   "outputs": [],
   "source": [
    "fig, axs = plt.subplots(5,4, figsize=(20, 20), sharex=True, sharey=True)\n",
    "\n",
    "for year, ax in zip(np.arange(2000, 2021, 1), axs.ravel()):\n",
    "    hyear_idxs = date_pairs[date_pairs['USDM Hydrologic Year'] == pd.to_datetime(f'{year}').year].index.values\n",
    "    extreme = 5*len(hyear_idxs)\n",
    "    (usdm_resample_sel_timeless.sel(index=hyear_idxs)-spi_usdmcat_sel_timeless.sel(index=hyear_idxs)).mean(dim='index').plot(ax=ax, vmin=-5, vmax=5, cmap='PuOr')\n",
    "\n",
    "    ax.set_title(f\"USDM {year}'s Hydrologic Year ({len(hyear_idxs)} times)\")\n",
    "    ax.set_xlabel('')\n",
    "    ax.set_ylabel('')\n",
    "\n",
    "fig.supylabel('latitude [degrees_north]', x=-0.01)\n",
    "fig.supxlabel('longitude [degrees_east]', y=-0.01)\n",
    "fig.suptitle('Mean Difference between Upscaled USDM and 1-yr SPI', y=1.01)\n",
    "\n",
    "plt.tight_layout()"
   ]
  }
 ],
 "metadata": {
  "interpreter": {
   "hash": "5585d616cc037afe4e5997f9d5ad9938ec3148b25e01a6d2931d801949bec716"
  },
  "kernelspec": {
   "display_name": "Python 3.7.12 ('sedi')",
   "language": "python",
   "name": "python3"
  },
  "language_info": {
   "codemirror_mode": {
    "name": "ipython",
    "version": 3
   },
   "file_extension": ".py",
   "mimetype": "text/x-python",
   "name": "python",
   "nbconvert_exporter": "python",
   "pygments_lexer": "ipython3",
   "version": "3.7.12"
  },
  "orig_nbformat": 4
 },
 "nbformat": 4,
 "nbformat_minor": 2
}
