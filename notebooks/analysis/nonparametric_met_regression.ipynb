{
 "cells": [
  {
   "cell_type": "markdown",
   "metadata": {},
   "source": [
    "# Nonparametric Regression between Meteorology Data and Park Visitations\n",
    "a. stein\n",
    "3/16/2022\n",
    "\n",
    "This notebook builds off of `park_met_relations.ipynb` where compiling meteorology timeseries for each park was developed and parametric regression (that is mostly non-applicable due to the non-normal nature of the visitation data) was explored. Here I build off of that to use better suited statistical tools for non-normal distributions, aka non-parametric regression and tests."
   ]
  },
  {
   "cell_type": "code",
   "execution_count": null,
   "metadata": {},
   "outputs": [],
   "source": []
  }
 ],
 "metadata": {
  "language_info": {
   "name": "python"
  },
  "orig_nbformat": 4
 },
 "nbformat": 4,
 "nbformat_minor": 2
}
