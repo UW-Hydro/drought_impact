{
 "cells": [
  {
   "cell_type": "code",
   "execution_count": 1,
   "metadata": {},
   "outputs": [
    {
     "name": "stderr",
     "output_type": "stream",
     "text": [
      "/pool0/data/steinjao/drought/drought_impact/notebooks/analysis/drought_tracks/../../../ndrought/wrangle.py:17: TqdmExperimentalWarning: Using `tqdm.autonotebook.tqdm` in notebook mode. Use `tqdm.tqdm` instead to force console mode (e.g. in jupyter console)\n",
      "  from tqdm.autonotebook import tqdm\n"
     ]
    }
   ],
   "source": [
    "import pickle\n",
    "import numpy as np\n",
    "\n",
    "import sys\n",
    "sys.path.append('../../../')\n",
    "import ndrought.drought_network as dnet\n",
    "import ndrought.wrangle_v11 as dnw\n",
    "\n",
    "import matplotlib as mpl\n",
    "import matplotlib.pyplot as plt\n",
    "\n",
    "import pandas as pd\n",
    "import xarray as xr\n",
    "\n",
    "import os"
   ]
  },
  {
   "cell_type": "code",
   "execution_count": 2,
   "metadata": {},
   "outputs": [],
   "source": [
    "cwd = '/pool0/home/steinadi/data/drought/drought_impact/data/thresh_experiments'"
   ]
  },
  {
   "cell_type": "markdown",
   "metadata": {},
   "source": [
    "First let's check that the new method matches the old method"
   ]
  },
  {
   "cell_type": "code",
   "execution_count": 3,
   "metadata": {},
   "outputs": [],
   "source": [
    "test_dtd_old = dnw.convert_pickle_to_dtd(f'{cwd}/spi30d/track/track_2800a_09r_1m.pickle')"
   ]
  },
  {
   "cell_type": "code",
   "execution_count": 4,
   "metadata": {},
   "outputs": [],
   "source": [
    "#test_dtd_new = dnw.convert_pickle_to_dtd(f'{cwd}/spi30d/track/storage/track_2800a_09r_1m.pickle')"
   ]
  },
  {
   "cell_type": "code",
   "execution_count": 5,
   "metadata": {},
   "outputs": [],
   "source": [
    "#test_summ, test_summ_grp = dnw.compute_track_summary_characterization(test_dtd_old, 5)\n",
    "# ValueError: zero-size array to reduction operation maximum which has no identity"
   ]
  },
  {
   "cell_type": "code",
   "execution_count": 6,
   "metadata": {},
   "outputs": [],
   "source": [
    "#test_dtd_old['t']"
   ]
  },
  {
   "cell_type": "code",
   "execution_count": 7,
   "metadata": {},
   "outputs": [],
   "source": [
    "#test_dtd_new['t']"
   ]
  },
  {
   "cell_type": "markdown",
   "metadata": {},
   "source": [
    "the new method jumps time on occasion .... don't like that. We'll stick with the old method."
   ]
  },
  {
   "cell_type": "markdown",
   "metadata": {},
   "source": [
    "Old method still has some empty paths ... we need to remove those."
   ]
  },
  {
   "cell_type": "code",
   "execution_count": 8,
   "metadata": {},
   "outputs": [],
   "source": [
    "test_dtd = test_dtd_old"
   ]
  },
  {
   "cell_type": "code",
   "execution_count": 9,
   "metadata": {},
   "outputs": [],
   "source": [
    "new_x = []\n",
    "for track in test_dtd['x']:\n",
    "    if len(track) > 0:\n",
    "        new_x.append(track)"
   ]
  },
  {
   "cell_type": "code",
   "execution_count": 10,
   "metadata": {},
   "outputs": [],
   "source": [
    "for key in test_dtd.keys():\n",
    "    var_tracks = test_dtd[key]\n",
    "    trimmed_tracks = []\n",
    "    for track in var_tracks:\n",
    "        if len(track) > 0:\n",
    "            trimmed_tracks.append(track)\n",
    "    test_dtd[key] = trimmed_tracks"
   ]
  },
  {
   "cell_type": "code",
   "execution_count": 11,
   "metadata": {},
   "outputs": [
    {
     "name": "stderr",
     "output_type": "stream",
     "text": [
      "/pool0/data/steinjao/drought/drought_impact/notebooks/analysis/drought_tracks/../../../ndrought/wrangle_v11.py:971: FutureWarning: ['xy_size', 'uv_size'] did not aggregate successfully. If any error is raised this will raise in a future version of pandas. Drop these columns/ops to avoid this warning.\n",
      "  return summary_df, summary_df.groupby(pd.cut(summary_df.lifetime, bins=bins)).agg(['mean', 'median', 'max', 'min', 'std', 'count'])\n"
     ]
    }
   ],
   "source": [
    "test_summ, test_summ_grp = dnw.compute_track_summary_characterization(test_dtd, 5)"
   ]
  },
  {
   "cell_type": "code",
   "execution_count": 12,
   "metadata": {},
   "outputs": [
    {
     "data": {
      "text/html": [
       "<div>\n",
       "<style scoped>\n",
       "    .dataframe tbody tr th:only-of-type {\n",
       "        vertical-align: middle;\n",
       "    }\n",
       "\n",
       "    .dataframe tbody tr th {\n",
       "        vertical-align: top;\n",
       "    }\n",
       "\n",
       "    .dataframe thead th {\n",
       "        text-align: right;\n",
       "    }\n",
       "</style>\n",
       "<table border=\"1\" class=\"dataframe\">\n",
       "  <thead>\n",
       "    <tr style=\"text-align: right;\">\n",
       "      <th></th>\n",
       "      <th>lifetime</th>\n",
       "      <th>distance</th>\n",
       "      <th>displacement</th>\n",
       "      <th>average velocity</th>\n",
       "      <th>similarity</th>\n",
       "      <th>xy_size</th>\n",
       "      <th>uv_size</th>\n",
       "    </tr>\n",
       "  </thead>\n",
       "  <tbody>\n",
       "    <tr>\n",
       "      <th>0</th>\n",
       "      <td>5</td>\n",
       "      <td>8.014812e+05</td>\n",
       "      <td>712884.456813</td>\n",
       "      <td>1.602962e+05</td>\n",
       "      <td>0.451215</td>\n",
       "      <td>[5050, 78200]</td>\n",
       "      <td>[78200, 93334]</td>\n",
       "    </tr>\n",
       "    <tr>\n",
       "      <th>1</th>\n",
       "      <td>5</td>\n",
       "      <td>7.432056e+05</td>\n",
       "      <td>500829.534176</td>\n",
       "      <td>1.486411e+05</td>\n",
       "      <td>0.445396</td>\n",
       "      <td>[4140, 78200]</td>\n",
       "      <td>[78200, 93334]</td>\n",
       "    </tr>\n",
       "    <tr>\n",
       "      <th>2</th>\n",
       "      <td>20</td>\n",
       "      <td>7.877706e+05</td>\n",
       "      <td>750730.700255</td>\n",
       "      <td>3.938853e+04</td>\n",
       "      <td>0.775824</td>\n",
       "      <td>[9999, 10457, 48842, 60219, 63784]</td>\n",
       "      <td>[10457, 48842, 60219, 63784, 66885]</td>\n",
       "    </tr>\n",
       "    <tr>\n",
       "      <th>3</th>\n",
       "      <td>15</td>\n",
       "      <td>4.364986e+05</td>\n",
       "      <td>249503.362585</td>\n",
       "      <td>2.909990e+04</td>\n",
       "      <td>0.692970</td>\n",
       "      <td>[3080, 48842, 60219, 63784]</td>\n",
       "      <td>[48842, 60219, 63784, 66885]</td>\n",
       "    </tr>\n",
       "    <tr>\n",
       "      <th>4</th>\n",
       "      <td>15</td>\n",
       "      <td>9.552266e+05</td>\n",
       "      <td>732008.284168</td>\n",
       "      <td>6.368177e+04</td>\n",
       "      <td>0.692678</td>\n",
       "      <td>[3023, 48842, 60219, 63784]</td>\n",
       "      <td>[48842, 60219, 63784, 66885]</td>\n",
       "    </tr>\n",
       "    <tr>\n",
       "      <th>...</th>\n",
       "      <td>...</td>\n",
       "      <td>...</td>\n",
       "      <td>...</td>\n",
       "      <td>...</td>\n",
       "      <td>...</td>\n",
       "      <td>...</td>\n",
       "      <td>...</td>\n",
       "    </tr>\n",
       "    <tr>\n",
       "      <th>536</th>\n",
       "      <td>0</td>\n",
       "      <td>1.886142e+05</td>\n",
       "      <td>188614.198356</td>\n",
       "      <td>inf</td>\n",
       "      <td>0.537215</td>\n",
       "      <td>[5637]</td>\n",
       "      <td>[10493]</td>\n",
       "    </tr>\n",
       "    <tr>\n",
       "      <th>537</th>\n",
       "      <td>10</td>\n",
       "      <td>8.124789e+05</td>\n",
       "      <td>690240.296501</td>\n",
       "      <td>8.124789e+04</td>\n",
       "      <td>0.653193</td>\n",
       "      <td>[6197, 60509, 56439]</td>\n",
       "      <td>[60509, 56439, 61053]</td>\n",
       "    </tr>\n",
       "    <tr>\n",
       "      <th>538</th>\n",
       "      <td>10</td>\n",
       "      <td>6.819899e+05</td>\n",
       "      <td>590820.099702</td>\n",
       "      <td>6.819899e+04</td>\n",
       "      <td>0.658823</td>\n",
       "      <td>[7219, 60509, 56439]</td>\n",
       "      <td>[60509, 56439, 61053]</td>\n",
       "    </tr>\n",
       "    <tr>\n",
       "      <th>539</th>\n",
       "      <td>5</td>\n",
       "      <td>1.028960e+06</td>\n",
       "      <td>926845.923263</td>\n",
       "      <td>2.057920e+05</td>\n",
       "      <td>0.264291</td>\n",
       "      <td>[4987, 17033]</td>\n",
       "      <td>[17033, 72236]</td>\n",
       "    </tr>\n",
       "    <tr>\n",
       "      <th>540</th>\n",
       "      <td>0</td>\n",
       "      <td>2.542306e+05</td>\n",
       "      <td>254230.635227</td>\n",
       "      <td>inf</td>\n",
       "      <td>0.536464</td>\n",
       "      <td>[38752]</td>\n",
       "      <td>[72236]</td>\n",
       "    </tr>\n",
       "  </tbody>\n",
       "</table>\n",
       "<p>541 rows × 7 columns</p>\n",
       "</div>"
      ],
      "text/plain": [
       "     lifetime      distance   displacement  average velocity  similarity  \\\n",
       "0           5  8.014812e+05  712884.456813      1.602962e+05    0.451215   \n",
       "1           5  7.432056e+05  500829.534176      1.486411e+05    0.445396   \n",
       "2          20  7.877706e+05  750730.700255      3.938853e+04    0.775824   \n",
       "3          15  4.364986e+05  249503.362585      2.909990e+04    0.692970   \n",
       "4          15  9.552266e+05  732008.284168      6.368177e+04    0.692678   \n",
       "..        ...           ...            ...               ...         ...   \n",
       "536         0  1.886142e+05  188614.198356               inf    0.537215   \n",
       "537        10  8.124789e+05  690240.296501      8.124789e+04    0.653193   \n",
       "538        10  6.819899e+05  590820.099702      6.819899e+04    0.658823   \n",
       "539         5  1.028960e+06  926845.923263      2.057920e+05    0.264291   \n",
       "540         0  2.542306e+05  254230.635227               inf    0.536464   \n",
       "\n",
       "                                xy_size                              uv_size  \n",
       "0                         [5050, 78200]                       [78200, 93334]  \n",
       "1                         [4140, 78200]                       [78200, 93334]  \n",
       "2    [9999, 10457, 48842, 60219, 63784]  [10457, 48842, 60219, 63784, 66885]  \n",
       "3           [3080, 48842, 60219, 63784]         [48842, 60219, 63784, 66885]  \n",
       "4           [3023, 48842, 60219, 63784]         [48842, 60219, 63784, 66885]  \n",
       "..                                  ...                                  ...  \n",
       "536                              [5637]                              [10493]  \n",
       "537                [6197, 60509, 56439]                [60509, 56439, 61053]  \n",
       "538                [7219, 60509, 56439]                [60509, 56439, 61053]  \n",
       "539                       [4987, 17033]                       [17033, 72236]  \n",
       "540                             [38752]                              [72236]  \n",
       "\n",
       "[541 rows x 7 columns]"
      ]
     },
     "execution_count": 12,
     "metadata": {},
     "output_type": "execute_result"
    }
   ],
   "source": [
    "test_summ"
   ]
  },
  {
   "cell_type": "code",
   "execution_count": 20,
   "metadata": {},
   "outputs": [
    {
     "ename": "AttributeError",
     "evalue": "'DataFrame' object has no attribute 'get_group'",
     "output_type": "error",
     "traceback": [
      "\u001b[0;31m---------------------------------------------------------------------------\u001b[0m",
      "\u001b[0;31mAttributeError\u001b[0m                            Traceback (most recent call last)",
      "\u001b[1;32m/pool0/home/steinjao/data/drought/drought_impact/notebooks/analysis/drought_tracks/thresh_experiments.ipynb Cell 16\u001b[0m in \u001b[0;36m<cell line: 1>\u001b[0;34m()\u001b[0m\n\u001b[0;32m----> <a href='vscode-notebook-cell://ssh-remote%2Bh2o/pool0/home/steinjao/data/drought/drought_impact/notebooks/analysis/drought_tracks/thresh_experiments.ipynb#X21sdnNjb2RlLXJlbW90ZQ%3D%3D?line=0'>1</a>\u001b[0m test_summ_grp[\u001b[39m'\u001b[39;49m\u001b[39mdistance\u001b[39;49m\u001b[39m'\u001b[39;49m]\u001b[39m.\u001b[39;49mget_group(\u001b[39m'\u001b[39m\u001b[39m(0,30]\u001b[39m\u001b[39m'\u001b[39m)\n",
      "File \u001b[0;32m/pool0/data/steinadi/.conda/envs/sedi/lib/python3.10/site-packages/pandas/core/generic.py:5902\u001b[0m, in \u001b[0;36mNDFrame.__getattr__\u001b[0;34m(self, name)\u001b[0m\n\u001b[1;32m   5895\u001b[0m \u001b[39mif\u001b[39;00m (\n\u001b[1;32m   5896\u001b[0m     name \u001b[39mnot\u001b[39;00m \u001b[39min\u001b[39;00m \u001b[39mself\u001b[39m\u001b[39m.\u001b[39m_internal_names_set\n\u001b[1;32m   5897\u001b[0m     \u001b[39mand\u001b[39;00m name \u001b[39mnot\u001b[39;00m \u001b[39min\u001b[39;00m \u001b[39mself\u001b[39m\u001b[39m.\u001b[39m_metadata\n\u001b[1;32m   5898\u001b[0m     \u001b[39mand\u001b[39;00m name \u001b[39mnot\u001b[39;00m \u001b[39min\u001b[39;00m \u001b[39mself\u001b[39m\u001b[39m.\u001b[39m_accessors\n\u001b[1;32m   5899\u001b[0m     \u001b[39mand\u001b[39;00m \u001b[39mself\u001b[39m\u001b[39m.\u001b[39m_info_axis\u001b[39m.\u001b[39m_can_hold_identifiers_and_holds_name(name)\n\u001b[1;32m   5900\u001b[0m ):\n\u001b[1;32m   5901\u001b[0m     \u001b[39mreturn\u001b[39;00m \u001b[39mself\u001b[39m[name]\n\u001b[0;32m-> 5902\u001b[0m \u001b[39mreturn\u001b[39;00m \u001b[39mobject\u001b[39;49m\u001b[39m.\u001b[39;49m\u001b[39m__getattribute__\u001b[39;49m(\u001b[39mself\u001b[39;49m, name)\n",
      "\u001b[0;31mAttributeError\u001b[0m: 'DataFrame' object has no attribute 'get_group'"
     ]
    }
   ],
   "source": [
    "test_summ_grp['distance'].get_group('(0,30]')"
   ]
  },
  {
   "cell_type": "code",
   "execution_count": null,
   "metadata": {},
   "outputs": [],
   "source": []
  }
 ],
 "metadata": {
  "kernelspec": {
   "display_name": "sedi",
   "language": "python",
   "name": "sedi"
  },
  "language_info": {
   "codemirror_mode": {
    "name": "ipython",
    "version": 3
   },
   "file_extension": ".py",
   "mimetype": "text/x-python",
   "name": "python",
   "nbconvert_exporter": "python",
   "pygments_lexer": "ipython3",
   "version": "3.10.8"
  },
  "orig_nbformat": 4
 },
 "nbformat": 4,
 "nbformat_minor": 2
}
