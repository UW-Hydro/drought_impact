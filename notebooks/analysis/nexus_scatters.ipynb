{
 "cells": [
  {
   "cell_type": "markdown",
   "metadata": {},
   "source": [
    "# Nexus Scatter\n",
    "9.14.2022, a. stein"
   ]
  },
  {
   "cell_type": "code",
   "execution_count": 1,
   "metadata": {},
   "outputs": [
    {
     "name": "stdout",
     "output_type": "stream",
     "text": [
      "%pylab is deprecated, use %matplotlib inline and import the required libraries.\n",
      "Populating the interactive namespace from numpy and matplotlib\n"
     ]
    },
    {
     "name": "stderr",
     "output_type": "stream",
     "text": [
      "/tmp/ipykernel_1711949/1988245056.py:14: TqdmExperimentalWarning: Using `tqdm.autonotebook.tqdm` in notebook mode. Use `tqdm.tqdm` instead to force console mode (e.g. in jupyter console)\n",
      "  from tqdm.autonotebook import tqdm\n"
     ]
    }
   ],
   "source": [
    "%pylab inline\n",
    "%load_ext autoreload\n",
    "%autoreload 2\n",
    "%reload_ext autoreload\n",
    "\n",
    "import xarray as xr\n",
    "import rioxarray\n",
    "import rasterio as rio\n",
    "import pandas as pd\n",
    "import geopandas as gpd\n",
    "\n",
    "import matplotlib.dates as mdates\n",
    "\n",
    "from tqdm.autonotebook import tqdm\n",
    "\n",
    "import sys\n",
    "sys.path.append('../../')\n",
    "import ndrought.wrangle as wrangle\n",
    "import ndrought.compare as compare\n",
    "import ndrought.plotting as ndplot"
   ]
  },
  {
   "cell_type": "markdown",
   "metadata": {},
   "source": [
    "## Load in Data"
   ]
  },
  {
   "cell_type": "code",
   "execution_count": 2,
   "metadata": {},
   "outputs": [],
   "source": [
    "dm_path = '/pool0/home/steinadi/data/drought/drought_impact/data/drought_measures'"
   ]
  },
  {
   "cell_type": "code",
   "execution_count": 3,
   "metadata": {},
   "outputs": [],
   "source": [
    "usdm = xr.open_dataset(f'{dm_path}/usdm/USDM_WA_20000104_20220412.nc').load()"
   ]
  },
  {
   "cell_type": "code",
   "execution_count": 4,
   "metadata": {},
   "outputs": [],
   "source": [
    "intervals = ['14d', '30d', '90d', '180d', '270d', '1y', '2y', '5y', ]"
   ]
  },
  {
   "cell_type": "code",
   "execution_count": 5,
   "metadata": {},
   "outputs": [],
   "source": [
    "spi = xr.open_dataset(f'{dm_path}/spi/WA/spi_usdmcat_WA.nc').load()"
   ]
  },
  {
   "cell_type": "code",
   "execution_count": 6,
   "metadata": {},
   "outputs": [],
   "source": [
    "spei = xr.open_dataset(f'{dm_path}/spei/WA/spei_usdmcat_WA.nc').load()"
   ]
  },
  {
   "cell_type": "code",
   "execution_count": 7,
   "metadata": {},
   "outputs": [],
   "source": [
    "eddi = xr.open_dataset(f'{dm_path}/eddi/WA/eddi_usdmcat_WA.nc').load()"
   ]
  },
  {
   "cell_type": "code",
   "execution_count": 8,
   "metadata": {},
   "outputs": [],
   "source": [
    "pdsi = xr.open_dataset(f'{dm_path}/pdsi/WA/pdsi_usdmcat_WA.nc').load()"
   ]
  },
  {
   "cell_type": "code",
   "execution_count": 9,
   "metadata": {},
   "outputs": [],
   "source": [
    "grace = xr.open_dataset(f'{dm_path}/grace/WA/grace_usdmcat_WA.nc').load()\n",
    "grace_vars = ['gws', 'rtzsm', 'sfsm']"
   ]
  },
  {
   "cell_type": "markdown",
   "metadata": {},
   "source": [
    "## Pairing"
   ]
  },
  {
   "cell_type": "code",
   "execution_count": 25,
   "metadata": {},
   "outputs": [],
   "source": [
    "def pair_dates(dates_a:pd.DatetimeIndex, dates_b:pd.DatetimeIndex, dates_a_name:str, dates_b_name:str, method='last-b', realign=False):\n",
    "    \"\"\"Pairs dates between two metrics for comparison.\n",
    "    \n",
    "    Note that this was developed for SPI and USDM and should be double checked.\n",
    "\n",
    "    WARNING: The current catch for too-many dates provided is experimental.\n",
    "\n",
    "    Parameters\n",
    "    ----------\n",
    "    dates_a: DateTimeIndex\n",
    "    dates_b: DateTimeIndex\n",
    "    dates_a_name: str\n",
    "        Name of dates_a.\n",
    "    dates_b_name: str\n",
    "        Name of dates_b.\n",
    "    method: str\n",
    "        How to pair dates between dates_a and dates_b. The following are\n",
    "        currently supported:\n",
    "        - last-a: match dates_b to the last dates_a available. Use if there\n",
    "            is reason to believe that measure A informs measure B\n",
    "        - last-b: match dates_a to the last dates_b available. Use if there\n",
    "            is reason to believe that measure B informs measure A\n",
    "        - nearest: dates are paired by their nearest neighbors, dropping any\n",
    "            dates that are not chosen in the process. Use if there is no\n",
    "            reason to believe A nor B inform each other and do not want\n",
    "            an aggregate process\n",
    "\n",
    "        To come:\n",
    "        - cluster-a: match all dates_b to their nearest dates_a, which\n",
    "            can result in multiple dates being assigned to a date in dates_a\n",
    "            and an aggregation scheme should be used in the data. Use if\n",
    "            believe B informs A and wanting to allow for multi-pairing.\n",
    "        - cluster-b: match all dates_a to their nearest dates_b, which\n",
    "            can result in multiple dates being assigned to a date in dates_b\n",
    "            and an aggregation scheme should be used in the data. Use if\n",
    "            believe A informs B and wanting to allow for multi-pairing.\n",
    "        - cluster-nearest: each date is assigned to the nearest other date,\n",
    "            being the only method to guarantee no dates are dropped in pairing.\n",
    "            Use if there is no strong belief that one measure dominantly\n",
    "            influences the other and wanting to allow for multi-pairing.\n",
    "    realign: boolean, (optional)\n",
    "        Whether to automatically clip dates to ensure proper pairing,\n",
    "        defaults as False.\n",
    "\n",
    "    Returns\n",
    "    -------\n",
    "    pd.DataFrame\n",
    "        DataFrame where each row pairs an dates_b to a dates_a.\n",
    "    \"\"\"\n",
    "\n",
    "    # check if times are too far out of alignment\n",
    "    if dates_a[-1] - pd.Timedelta(days=7) > dates_b[-1]:\n",
    "        if realign:\n",
    "            dates_a = dates_a[dates_a <= dates_b[-1] + pd.Timedelta(days=7)]\n",
    "        else:\n",
    "            raise Exception('dates_a extends more than a week beyond dates_b, resulting in an inability to pair. Please adjust dates_a accordingly or set realign=True to (experimentally) automatically correct.')\n",
    "    if dates_b[-1] - pd.Timedelta(days=7) > dates_a[-1]:\n",
    "        if realign:\n",
    "            dates_b = dates_b[dates_b <= dates_a[-1] + pd.Timedelta(days=7)]\n",
    "        else:\n",
    "            raise Exception('dates_b extends more than a week beyond dates_a, resulting in an inability to pair. Please adjust dates_b accordingly or set realign=True to (experimentally) automatically correct.')\n",
    "    if dates_b[0] + pd.Timedelta(days=7) < dates_a[-1]:\n",
    "        if realign:\n",
    "            dates_b = dates_b[dates_b >= dates_a[0] - pd.Timedelta(days=7)]\n",
    "        else:\n",
    "            raise Exception('dates_b extends more than a week prior to dates_a, resulting in an inability to pair. Please adjust dates_b accordingly or set realign=True to (experimentally) automatically correct')\n",
    "    if dates_a[0] + pd.Timedelta(days=7) < dates_b[-1]:\n",
    "        if realign:\n",
    "            dates_a = dates_a[dates_a >= dates_b[0] - pd.Timedelta(days=7)]\n",
    "        else:\n",
    "            raise Exception('dates_a extends more than a week prior to dates_b, resulting in an inability to pair. Please adjust dates_a accordingly or set realign=True to (experimentally) automatically correct')\n",
    "\n",
    "    # now we need to iterate through and find which other dates are the closest\n",
    "    # and pair them\n",
    "    if method == 'last-b':\n",
    "        pair_dates = pd.DataFrame(pd.Series(dates_b, name=dates_b_name))\n",
    "        # add the column for dates_a dates\n",
    "        pair_dates[dates_a_name] = np.nan * np.zeros(len(pair_dates[dates_b_name]))\n",
    "\n",
    "        i = 0\n",
    "        for date in dates_a:\n",
    "            if date >= dates_b[i]:\n",
    "                while i < len(dates_b) and dates_b[i] <= date:\n",
    "                    i += 1\n",
    "                if not isinstance(pair_dates[dates_a_name].iloc[i-1], pd.Timestamp):\n",
    "                    pair_dates[dates_a_name].iloc[i-1] = date\n",
    "    elif method == 'last-a':\n",
    "        pair_dates = pd.DataFrame(pd.Series(dates_a, name=dates_a_name))\n",
    "        # add the column for dates_b dates\n",
    "        pair_dates[dates_b_name] = np.nan * np.zeros(len(pair_dates[dates_a_name]))\n",
    "\n",
    "        i = 0\n",
    "        for date in dates_b:\n",
    "            if date >= dates_a[i]:\n",
    "                while i < len(dates_a)-1 and dates_a[i+1] <= date:\n",
    "                    i += 1\n",
    "                if not isinstance(pair_dates[dates_b_name].iloc[i], pd.Timestamp):\n",
    "                    pair_dates[dates_b_name].iloc[i] = date\n",
    "    elif method == 'nearest':\n",
    "        i = 0\n",
    "        j = 0\n",
    "        pairs = []\n",
    "\n",
    "        # go through and match each date in A with the nearest date in B\n",
    "        while i < len(dates_a) and j < len(dates_b):\n",
    "            current_difference = np.abs(dates_a[i] - dates_b[j])\n",
    "\n",
    "            # if we've gotten to the end of the list, match with\n",
    "            # it and reset our search\n",
    "            if j+1 == len(dates_b):\n",
    "                pairs.append((dates_a[i], dates_b[j]))\n",
    "                i += 1\n",
    "                j = 0\n",
    "            # if there is an exact match or the found date is closer\n",
    "            # than the following, consider it a match\n",
    "            elif current_difference == pd.Timedelta('0 day') or current_difference < np.abs(dates_a[i] - dates_b[j+1]):\n",
    "                pairs.append((dates_a[i], dates_b[j]))\n",
    "                i += 1\n",
    "            # keep looking\n",
    "            else:\n",
    "                j += 1\n",
    "\n",
    "        # now need to trim duplicate pairings\n",
    "\n",
    "        paired_b = np.array(pairs)[:, 1]\n",
    "        remove_pairs = []\n",
    "\n",
    "        for date in dates_b:\n",
    "            found_pairs = np.where(date == paired_b)[0]\n",
    "            # check if found more than one pairing\n",
    "            if len(found_pairs > 1):\n",
    "                # gather differences\n",
    "                deltas = []\n",
    "                for duplicate in found_pairs:\n",
    "                    pairing = pairs[duplicate]\n",
    "                    deltas.append(np.abs(pairing[0] - pairing[1]))\n",
    "                # find closest\n",
    "                minimum_index = np.argmin(np.array(deltas))\n",
    "                minimum_pairing = pairs[found_pairs[minimum_index]]\n",
    "            # collect which pairs to remove (removing now would mess\n",
    "            # with the ordering of things)\n",
    "            for duplicate in found_pairs:\n",
    "                pairing = pairs[duplicate]\n",
    "                if pairing != minimum_pairing:\n",
    "                    remove_pairs.append(pairing)\n",
    "        # finally remove unfavorable duplicates\n",
    "        for pair in remove_pairs:\n",
    "            pairs.remove(pair)\n",
    "            \n",
    "        pair_dates = pd.DataFrame(data=np.array(pairs), columns=[dates_a_name, dates_b_name])\n",
    "            \n",
    "    #elif method == 'cluster-a':\n",
    "    #elif method == 'cluster-b':\n",
    "    #elif method == 'cluster-nearest':\n",
    "    else:\n",
    "        raise Exception(f'{method} is not a supported method. Please visit the documentation for supported methods.')\n",
    "\n",
    "    # now drop the dates that did not get chosen\n",
    "    #pair_dates = pair_dates.dropna('index')\n",
    "    # reset the index\n",
    "    pair_dates = pair_dates.reset_index()\n",
    "    # and make sure to drop pandas trying to preserve the old index\n",
    "    pair_dates = pair_dates.drop(columns='index')\n",
    "\n",
    "    return pair_dates"
   ]
  },
  {
   "cell_type": "code",
   "execution_count": 11,
   "metadata": {},
   "outputs": [],
   "source": [
    "dates_a = pd.to_datetime([f'2000-01-{i}' for i in [2, 9, 16, 23]])\n",
    "dates_b = pd.to_datetime([f'2000-01-{i}' for i in [1, 6, 11, 16, 21, 26]])"
   ]
  },
  {
   "cell_type": "code",
   "execution_count": 12,
   "metadata": {},
   "outputs": [
    {
     "name": "stderr",
     "output_type": "stream",
     "text": [
      "/tmp/ipykernel_1711949/1037679482.py:86: SettingWithCopyWarning: \n",
      "A value is trying to be set on a copy of a slice from a DataFrame\n",
      "\n",
      "See the caveats in the documentation: https://pandas.pydata.org/pandas-docs/stable/user_guide/indexing.html#returning-a-view-versus-a-copy\n",
      "  pair_dates[dates_a_name].iloc[i-1] = date\n"
     ]
    },
    {
     "data": {
      "text/html": [
       "<div>\n",
       "<style scoped>\n",
       "    .dataframe tbody tr th:only-of-type {\n",
       "        vertical-align: middle;\n",
       "    }\n",
       "\n",
       "    .dataframe tbody tr th {\n",
       "        vertical-align: top;\n",
       "    }\n",
       "\n",
       "    .dataframe thead th {\n",
       "        text-align: right;\n",
       "    }\n",
       "</style>\n",
       "<table border=\"1\" class=\"dataframe\">\n",
       "  <thead>\n",
       "    <tr style=\"text-align: right;\">\n",
       "      <th></th>\n",
       "      <th>B</th>\n",
       "      <th>A</th>\n",
       "    </tr>\n",
       "  </thead>\n",
       "  <tbody>\n",
       "    <tr>\n",
       "      <th>0</th>\n",
       "      <td>2000-01-01</td>\n",
       "      <td>2000-01-02 00:00:00</td>\n",
       "    </tr>\n",
       "    <tr>\n",
       "      <th>1</th>\n",
       "      <td>2000-01-06</td>\n",
       "      <td>2000-01-09 00:00:00</td>\n",
       "    </tr>\n",
       "    <tr>\n",
       "      <th>2</th>\n",
       "      <td>2000-01-11</td>\n",
       "      <td>NaN</td>\n",
       "    </tr>\n",
       "    <tr>\n",
       "      <th>3</th>\n",
       "      <td>2000-01-16</td>\n",
       "      <td>2000-01-16 00:00:00</td>\n",
       "    </tr>\n",
       "    <tr>\n",
       "      <th>4</th>\n",
       "      <td>2000-01-21</td>\n",
       "      <td>2000-01-23 00:00:00</td>\n",
       "    </tr>\n",
       "    <tr>\n",
       "      <th>5</th>\n",
       "      <td>2000-01-26</td>\n",
       "      <td>NaN</td>\n",
       "    </tr>\n",
       "  </tbody>\n",
       "</table>\n",
       "</div>"
      ],
      "text/plain": [
       "           B                    A\n",
       "0 2000-01-01  2000-01-02 00:00:00\n",
       "1 2000-01-06  2000-01-09 00:00:00\n",
       "2 2000-01-11                  NaN\n",
       "3 2000-01-16  2000-01-16 00:00:00\n",
       "4 2000-01-21  2000-01-23 00:00:00\n",
       "5 2000-01-26                  NaN"
      ]
     },
     "execution_count": 12,
     "metadata": {},
     "output_type": "execute_result"
    }
   ],
   "source": [
    "pair_dates(dates_a, dates_b, \"A\", \"B\", method='last-b', realign=True)"
   ]
  },
  {
   "cell_type": "code",
   "execution_count": 13,
   "metadata": {},
   "outputs": [
    {
     "name": "stderr",
     "output_type": "stream",
     "text": [
      "/tmp/ipykernel_1711949/1037679482.py:98: SettingWithCopyWarning: \n",
      "A value is trying to be set on a copy of a slice from a DataFrame\n",
      "\n",
      "See the caveats in the documentation: https://pandas.pydata.org/pandas-docs/stable/user_guide/indexing.html#returning-a-view-versus-a-copy\n",
      "  pair_dates[dates_b_name].iloc[i] = date\n"
     ]
    },
    {
     "data": {
      "text/html": [
       "<div>\n",
       "<style scoped>\n",
       "    .dataframe tbody tr th:only-of-type {\n",
       "        vertical-align: middle;\n",
       "    }\n",
       "\n",
       "    .dataframe tbody tr th {\n",
       "        vertical-align: top;\n",
       "    }\n",
       "\n",
       "    .dataframe thead th {\n",
       "        text-align: right;\n",
       "    }\n",
       "</style>\n",
       "<table border=\"1\" class=\"dataframe\">\n",
       "  <thead>\n",
       "    <tr style=\"text-align: right;\">\n",
       "      <th></th>\n",
       "      <th>A</th>\n",
       "      <th>B</th>\n",
       "    </tr>\n",
       "  </thead>\n",
       "  <tbody>\n",
       "    <tr>\n",
       "      <th>0</th>\n",
       "      <td>2000-01-02</td>\n",
       "      <td>2000-01-06 00:00:00</td>\n",
       "    </tr>\n",
       "    <tr>\n",
       "      <th>1</th>\n",
       "      <td>2000-01-09</td>\n",
       "      <td>2000-01-11 00:00:00</td>\n",
       "    </tr>\n",
       "    <tr>\n",
       "      <th>2</th>\n",
       "      <td>2000-01-16</td>\n",
       "      <td>2000-01-16 00:00:00</td>\n",
       "    </tr>\n",
       "    <tr>\n",
       "      <th>3</th>\n",
       "      <td>2000-01-23</td>\n",
       "      <td>2000-01-26 00:00:00</td>\n",
       "    </tr>\n",
       "  </tbody>\n",
       "</table>\n",
       "</div>"
      ],
      "text/plain": [
       "           A                    B\n",
       "0 2000-01-02  2000-01-06 00:00:00\n",
       "1 2000-01-09  2000-01-11 00:00:00\n",
       "2 2000-01-16  2000-01-16 00:00:00\n",
       "3 2000-01-23  2000-01-26 00:00:00"
      ]
     },
     "execution_count": 13,
     "metadata": {},
     "output_type": "execute_result"
    }
   ],
   "source": [
    "pair_dates(dates_a, dates_b, \"A\", \"B\", method='last-a', realign=True)"
   ]
  },
  {
   "cell_type": "code",
   "execution_count": 14,
   "metadata": {},
   "outputs": [
    {
     "name": "stdout",
     "output_type": "stream",
     "text": [
      "0 0 1 days 00:00:00\n",
      "0 1 4 days 00:00:00\n",
      "1 0 8 days 00:00:00\n",
      "1 1 3 days 00:00:00\n",
      "1 2 2 days 00:00:00\n",
      "1 3 7 days 00:00:00\n",
      "2 0 15 days 00:00:00\n",
      "2 1 10 days 00:00:00\n",
      "2 2 5 days 00:00:00\n",
      "2 3 0 days 00:00:00\n",
      "2 4 5 days 00:00:00\n",
      "3 0 22 days 00:00:00\n",
      "3 1 17 days 00:00:00\n",
      "3 2 12 days 00:00:00\n",
      "3 3 7 days 00:00:00\n",
      "3 4 2 days 00:00:00\n",
      "3 5 3 days 00:00:00\n"
     ]
    }
   ],
   "source": [
    "i = 0\n",
    "j = 0\n",
    "\n",
    "pairs = []\n",
    "\n",
    "nearest_threshold = pd.Timedelta('10 day')\n",
    "difference = nearest_threshold\n",
    "while i < len(dates_a) and j < len(dates_b):\n",
    "    print(i, j, np.abs(dates_a[i] - dates_b[j]))\n",
    "\n",
    "    current_difference = np.abs(dates_a[i] - dates_b[j])\n",
    "\n",
    "    if current_difference < difference:\n",
    "        difference = current_difference\n",
    "        j += 1\n",
    "    elif current_difference >= nearest_threshold:\n",
    "        j += 1\n",
    "    else:\n",
    "        pairs.append((dates_a[i], dates_b[j-1]))\n",
    "        difference = nearest_threshold\n",
    "        i += 1\n",
    "        j = 0"
   ]
  },
  {
   "cell_type": "code",
   "execution_count": 15,
   "metadata": {},
   "outputs": [
    {
     "data": {
      "text/plain": [
       "[(Timestamp('2000-01-02 00:00:00'), Timestamp('2000-01-01 00:00:00')),\n",
       " (Timestamp('2000-01-09 00:00:00'), Timestamp('2000-01-11 00:00:00')),\n",
       " (Timestamp('2000-01-16 00:00:00'), Timestamp('2000-01-16 00:00:00')),\n",
       " (Timestamp('2000-01-23 00:00:00'), Timestamp('2000-01-21 00:00:00'))]"
      ]
     },
     "execution_count": 15,
     "metadata": {},
     "output_type": "execute_result"
    }
   ],
   "source": [
    "pairs"
   ]
  },
  {
   "cell_type": "code",
   "execution_count": 16,
   "metadata": {},
   "outputs": [
    {
     "data": {
      "text/plain": [
       "4"
      ]
     },
     "execution_count": 16,
     "metadata": {},
     "output_type": "execute_result"
    }
   ],
   "source": [
    "len(dates_a)"
   ]
  },
  {
   "cell_type": "code",
   "execution_count": 17,
   "metadata": {},
   "outputs": [
    {
     "data": {
      "text/plain": [
       "6"
      ]
     },
     "execution_count": 17,
     "metadata": {},
     "output_type": "execute_result"
    }
   ],
   "source": [
    "len(dates_b)"
   ]
  },
  {
   "cell_type": "code",
   "execution_count": 18,
   "metadata": {},
   "outputs": [
    {
     "name": "stdout",
     "output_type": "stream",
     "text": [
      "0 0 1 days 00:00:00\n",
      "1 0 4 days 00:00:00\n",
      "1 1 3 days 00:00:00\n",
      "2 1 2 days 00:00:00\n",
      "3 1 7 days 00:00:00\n",
      "3 2 0 days 00:00:00\n",
      "4 2 5 days 00:00:00\n",
      "4 3 2 days 00:00:00\n",
      "5 0 24 days 00:00:00\n",
      "5 1 17 days 00:00:00\n",
      "5 2 10 days 00:00:00\n",
      "5 3 3 days 00:00:00\n"
     ]
    }
   ],
   "source": [
    "i = 0\n",
    "j = 0\n",
    "\n",
    "pairs = []\n",
    "\n",
    "#nearest_threshold = pd.Timedelta('10 day')\n",
    "#difference = nearest_threshold\n",
    "while i < len(dates_b) and j < len(dates_a):\n",
    "    print(i, j, np.abs(dates_b[i] - dates_a[j]))\n",
    "\n",
    "    current_difference = np.abs(dates_b[i] - dates_a[j])\n",
    "\n",
    "    if j + 1 == len(dates_a):\n",
    "        pairs.append((dates_b[i], dates_a[j]))\n",
    "        i += 1\n",
    "        j = 0\n",
    "    elif current_difference == pd.Timedelta('0 day') or current_difference < np.abs(dates_b[i] - dates_a[j+1]):\n",
    "        pairs.append((dates_b[i], dates_a[j]))\n",
    "        i += 1\n",
    "    else:\n",
    "        j += 1\n",
    "    "
   ]
  },
  {
   "cell_type": "code",
   "execution_count": 19,
   "metadata": {},
   "outputs": [
    {
     "data": {
      "text/plain": [
       "[(Timestamp('2000-01-01 00:00:00'), Timestamp('2000-01-02 00:00:00')),\n",
       " (Timestamp('2000-01-06 00:00:00'), Timestamp('2000-01-09 00:00:00')),\n",
       " (Timestamp('2000-01-11 00:00:00'), Timestamp('2000-01-09 00:00:00')),\n",
       " (Timestamp('2000-01-16 00:00:00'), Timestamp('2000-01-16 00:00:00')),\n",
       " (Timestamp('2000-01-21 00:00:00'), Timestamp('2000-01-23 00:00:00')),\n",
       " (Timestamp('2000-01-26 00:00:00'), Timestamp('2000-01-23 00:00:00'))]"
      ]
     },
     "execution_count": 19,
     "metadata": {},
     "output_type": "execute_result"
    }
   ],
   "source": [
    "pairs"
   ]
  },
  {
   "cell_type": "code",
   "execution_count": 20,
   "metadata": {},
   "outputs": [
    {
     "name": "stdout",
     "output_type": "stream",
     "text": [
      "[1 2]\n",
      "(Timestamp('2000-01-06 00:00:00'), Timestamp('2000-01-09 00:00:00'))\n",
      "(Timestamp('2000-01-11 00:00:00'), Timestamp('2000-01-09 00:00:00'))\n",
      "[4 5]\n",
      "(Timestamp('2000-01-21 00:00:00'), Timestamp('2000-01-23 00:00:00'))\n",
      "(Timestamp('2000-01-26 00:00:00'), Timestamp('2000-01-23 00:00:00'))\n"
     ]
    }
   ],
   "source": [
    "# trimming\n",
    "\n",
    "paired_a = np.array(pairs)[:, 1]\n",
    "\n",
    "remove_pairs = []\n",
    "for date in dates_a:\n",
    "    found_pairs = np.where(date == paired_a)[0]\n",
    "    if len(found_pairs) > 1:\n",
    "\n",
    "        print(found_pairs)\n",
    "        deltas = []\n",
    "        for duplicate in found_pairs:\n",
    "            pairing = pairs[duplicate]\n",
    "            print(pairing)\n",
    "            deltas.append(np.abs(pairing[0] - pairing[1]))\n",
    "            \n",
    "        deltas = np.array(deltas)\n",
    "        minimum_index = np.argmin(deltas)\n",
    "        minimum_pairing = pairs[found_pairs[minimum_index]]\n",
    "        \n",
    "        for duplicate in found_pairs:\n",
    "            pairing = pairs[duplicate]\n",
    "            if pairing != minimum_pairing:\n",
    "                remove_pairs.append(pairing)\n",
    "\n",
    "for pair in remove_pairs:\n",
    "    pairs.remove(pair)"
   ]
  },
  {
   "cell_type": "code",
   "execution_count": 21,
   "metadata": {},
   "outputs": [
    {
     "data": {
      "text/plain": [
       "[(Timestamp('2000-01-01 00:00:00'), Timestamp('2000-01-02 00:00:00')),\n",
       " (Timestamp('2000-01-11 00:00:00'), Timestamp('2000-01-09 00:00:00')),\n",
       " (Timestamp('2000-01-16 00:00:00'), Timestamp('2000-01-16 00:00:00')),\n",
       " (Timestamp('2000-01-21 00:00:00'), Timestamp('2000-01-23 00:00:00'))]"
      ]
     },
     "execution_count": 21,
     "metadata": {},
     "output_type": "execute_result"
    }
   ],
   "source": [
    "pairs"
   ]
  },
  {
   "cell_type": "code",
   "execution_count": 22,
   "metadata": {},
   "outputs": [
    {
     "data": {
      "text/html": [
       "<div>\n",
       "<style scoped>\n",
       "    .dataframe tbody tr th:only-of-type {\n",
       "        vertical-align: middle;\n",
       "    }\n",
       "\n",
       "    .dataframe tbody tr th {\n",
       "        vertical-align: top;\n",
       "    }\n",
       "\n",
       "    .dataframe thead th {\n",
       "        text-align: right;\n",
       "    }\n",
       "</style>\n",
       "<table border=\"1\" class=\"dataframe\">\n",
       "  <thead>\n",
       "    <tr style=\"text-align: right;\">\n",
       "      <th></th>\n",
       "      <th>B</th>\n",
       "      <th>A</th>\n",
       "    </tr>\n",
       "  </thead>\n",
       "  <tbody>\n",
       "    <tr>\n",
       "      <th>0</th>\n",
       "      <td>2000-01-01</td>\n",
       "      <td>2000-01-02</td>\n",
       "    </tr>\n",
       "    <tr>\n",
       "      <th>1</th>\n",
       "      <td>2000-01-11</td>\n",
       "      <td>2000-01-09</td>\n",
       "    </tr>\n",
       "    <tr>\n",
       "      <th>2</th>\n",
       "      <td>2000-01-16</td>\n",
       "      <td>2000-01-16</td>\n",
       "    </tr>\n",
       "    <tr>\n",
       "      <th>3</th>\n",
       "      <td>2000-01-21</td>\n",
       "      <td>2000-01-23</td>\n",
       "    </tr>\n",
       "  </tbody>\n",
       "</table>\n",
       "</div>"
      ],
      "text/plain": [
       "           B          A\n",
       "0 2000-01-01 2000-01-02\n",
       "1 2000-01-11 2000-01-09\n",
       "2 2000-01-16 2000-01-16\n",
       "3 2000-01-21 2000-01-23"
      ]
     },
     "execution_count": 22,
     "metadata": {},
     "output_type": "execute_result"
    }
   ],
   "source": [
    "pd.DataFrame(data=np.array(pairs), columns=['B', 'A'])"
   ]
  },
  {
   "cell_type": "code",
   "execution_count": 26,
   "metadata": {},
   "outputs": [
    {
     "data": {
      "text/html": [
       "<div>\n",
       "<style scoped>\n",
       "    .dataframe tbody tr th:only-of-type {\n",
       "        vertical-align: middle;\n",
       "    }\n",
       "\n",
       "    .dataframe tbody tr th {\n",
       "        vertical-align: top;\n",
       "    }\n",
       "\n",
       "    .dataframe thead th {\n",
       "        text-align: right;\n",
       "    }\n",
       "</style>\n",
       "<table border=\"1\" class=\"dataframe\">\n",
       "  <thead>\n",
       "    <tr style=\"text-align: right;\">\n",
       "      <th></th>\n",
       "      <th>A</th>\n",
       "      <th>B</th>\n",
       "    </tr>\n",
       "  </thead>\n",
       "  <tbody>\n",
       "    <tr>\n",
       "      <th>0</th>\n",
       "      <td>2000-01-02</td>\n",
       "      <td>2000-01-01</td>\n",
       "    </tr>\n",
       "    <tr>\n",
       "      <th>1</th>\n",
       "      <td>2000-01-09</td>\n",
       "      <td>2000-01-11</td>\n",
       "    </tr>\n",
       "    <tr>\n",
       "      <th>2</th>\n",
       "      <td>2000-01-16</td>\n",
       "      <td>2000-01-16</td>\n",
       "    </tr>\n",
       "    <tr>\n",
       "      <th>3</th>\n",
       "      <td>2000-01-23</td>\n",
       "      <td>2000-01-21</td>\n",
       "    </tr>\n",
       "  </tbody>\n",
       "</table>\n",
       "</div>"
      ],
      "text/plain": [
       "           A          B\n",
       "0 2000-01-02 2000-01-01\n",
       "1 2000-01-09 2000-01-11\n",
       "2 2000-01-16 2000-01-16\n",
       "3 2000-01-23 2000-01-21"
      ]
     },
     "execution_count": 26,
     "metadata": {},
     "output_type": "execute_result"
    }
   ],
   "source": [
    "pair_dates(dates_a, dates_b, 'A', 'B', realign=True, method='nearest')"
   ]
  },
  {
   "cell_type": "code",
   "execution_count": 27,
   "metadata": {},
   "outputs": [
    {
     "data": {
      "text/html": [
       "<div>\n",
       "<style scoped>\n",
       "    .dataframe tbody tr th:only-of-type {\n",
       "        vertical-align: middle;\n",
       "    }\n",
       "\n",
       "    .dataframe tbody tr th {\n",
       "        vertical-align: top;\n",
       "    }\n",
       "\n",
       "    .dataframe thead th {\n",
       "        text-align: right;\n",
       "    }\n",
       "</style>\n",
       "<table border=\"1\" class=\"dataframe\">\n",
       "  <thead>\n",
       "    <tr style=\"text-align: right;\">\n",
       "      <th></th>\n",
       "      <th>B</th>\n",
       "      <th>A</th>\n",
       "    </tr>\n",
       "  </thead>\n",
       "  <tbody>\n",
       "    <tr>\n",
       "      <th>0</th>\n",
       "      <td>2000-01-01</td>\n",
       "      <td>2000-01-02</td>\n",
       "    </tr>\n",
       "    <tr>\n",
       "      <th>1</th>\n",
       "      <td>2000-01-11</td>\n",
       "      <td>2000-01-09</td>\n",
       "    </tr>\n",
       "    <tr>\n",
       "      <th>2</th>\n",
       "      <td>2000-01-16</td>\n",
       "      <td>2000-01-16</td>\n",
       "    </tr>\n",
       "    <tr>\n",
       "      <th>3</th>\n",
       "      <td>2000-01-21</td>\n",
       "      <td>2000-01-23</td>\n",
       "    </tr>\n",
       "  </tbody>\n",
       "</table>\n",
       "</div>"
      ],
      "text/plain": [
       "           B          A\n",
       "0 2000-01-01 2000-01-02\n",
       "1 2000-01-11 2000-01-09\n",
       "2 2000-01-16 2000-01-16\n",
       "3 2000-01-21 2000-01-23"
      ]
     },
     "execution_count": 27,
     "metadata": {},
     "output_type": "execute_result"
    }
   ],
   "source": [
    "pair_dates(dates_b, dates_a, 'B', 'A', realign=True, method='nearest')"
   ]
  },
  {
   "cell_type": "markdown",
   "metadata": {},
   "source": [
    "Wonderful. I'll worry about the cluster methods another time because I'd have to contemplate aggregation methods as well."
   ]
  },
  {
   "cell_type": "code",
   "execution_count": null,
   "metadata": {},
   "outputs": [],
   "source": [
    "usdm_dates = pd.to_datetime(usdm.date.values)\n",
    "spi_dates = pd.to_datetime(spi['spi_1y'].day.values)"
   ]
  },
  {
   "cell_type": "markdown",
   "metadata": {},
   "source": [
    "## Pixel Stats"
   ]
  },
  {
   "cell_type": "code",
   "execution_count": null,
   "metadata": {},
   "outputs": [],
   "source": []
  }
 ],
 "metadata": {
  "kernelspec": {
   "display_name": "Python 3.10.5 ('sedi')",
   "language": "python",
   "name": "python3"
  },
  "language_info": {
   "codemirror_mode": {
    "name": "ipython",
    "version": 3
   },
   "file_extension": ".py",
   "mimetype": "text/x-python",
   "name": "python",
   "nbconvert_exporter": "python",
   "pygments_lexer": "ipython3",
   "version": "3.10.5"
  },
  "orig_nbformat": 4,
  "vscode": {
   "interpreter": {
    "hash": "5585d616cc037afe4e5997f9d5ad9938ec3148b25e01a6d2931d801949bec716"
   }
  }
 },
 "nbformat": 4,
 "nbformat_minor": 2
}
