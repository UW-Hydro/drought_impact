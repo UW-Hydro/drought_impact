{
 "cells": [
  {
   "cell_type": "markdown",
   "metadata": {},
   "source": [
    "# All Drought Measure Comparison - USDM Date Paired\n",
    "\n",
    "a.stein 8.8.2022\n",
    "\n",
    "This notebook begins to get into developing the comparison matrix between:\n",
    "- USDM\n",
    "- SPI\n",
    "- SPEI\n",
    "- EDDI\n",
    "- PDSI\n",
    "- Palmer Z Index\n",
    "- GRACE soil moisture data\n",
    "\n",
    "By \"USDM Date Paired,\" I mean that while this data will be all categorized into USDM categories for similar measures, their time steps have been synced to USDM, but spatial scales have not been altered."
   ]
  },
  {
   "cell_type": "code",
   "execution_count": 1,
   "metadata": {},
   "outputs": [
    {
     "name": "stdout",
     "output_type": "stream",
     "text": [
      "%pylab is deprecated, use %matplotlib inline and import the required libraries.\n",
      "Populating the interactive namespace from numpy and matplotlib\n"
     ]
    },
    {
     "name": "stderr",
     "output_type": "stream",
     "text": [
      "/tmp/ipykernel_3156079/1988245056.py:14: TqdmExperimentalWarning: Using `tqdm.autonotebook.tqdm` in notebook mode. Use `tqdm.tqdm` instead to force console mode (e.g. in jupyter console)\n",
      "  from tqdm.autonotebook import tqdm\n"
     ]
    }
   ],
   "source": [
    "%pylab inline\n",
    "%load_ext autoreload\n",
    "%autoreload 2\n",
    "%reload_ext autoreload\n",
    "\n",
    "import xarray as xr\n",
    "import rioxarray\n",
    "import rasterio as rio\n",
    "import pandas as pd\n",
    "import geopandas as gpd\n",
    "\n",
    "import matplotlib.dates as mdates\n",
    "\n",
    "from tqdm.autonotebook import tqdm\n",
    "\n",
    "import sys\n",
    "sys.path.append('../../')\n",
    "import ndrought.wrangle as wrangle\n",
    "import ndrought.compare as compare\n",
    "import ndrought.plotting as ndplot"
   ]
  },
  {
   "cell_type": "markdown",
   "metadata": {},
   "source": [
    "Load in data"
   ]
  },
  {
   "cell_type": "code",
   "execution_count": 2,
   "metadata": {},
   "outputs": [],
   "source": [
    "dm_path = '/pool0/home/steinadi/data/drought/drought_impact/data/drought_measures'"
   ]
  },
  {
   "cell_type": "code",
   "execution_count": 3,
   "metadata": {},
   "outputs": [],
   "source": [
    "usdm = xr.open_dataset(f'{dm_path}/usdm/USDM_WA_20000104_20220412.nc')"
   ]
  },
  {
   "cell_type": "code",
   "execution_count": 4,
   "metadata": {},
   "outputs": [],
   "source": [
    "spi = xr.open_dataset(f'{dm_path}/spi/WA/spi_usdmcat_WA.nc')"
   ]
  },
  {
   "cell_type": "code",
   "execution_count": 5,
   "metadata": {},
   "outputs": [],
   "source": [
    "spei = xr.open_dataset(f'{dm_path}/spei/WA/spei_usdmcat_WA.nc')"
   ]
  },
  {
   "cell_type": "code",
   "execution_count": 6,
   "metadata": {},
   "outputs": [],
   "source": [
    "eddi = xr.open_dataset(f'{dm_path}/eddi/WA/eddi_usdmcat_WA.nc')"
   ]
  },
  {
   "cell_type": "code",
   "execution_count": 7,
   "metadata": {},
   "outputs": [],
   "source": [
    "pdsi = xr.open_dataset(f'{dm_path}/pdsi/WA/pdsi_usdmcat_WA.nc')"
   ]
  },
  {
   "cell_type": "code",
   "execution_count": 8,
   "metadata": {},
   "outputs": [],
   "source": [
    "grace = xr.open_dataset(f'{dm_path}/grace/WA/grace_usdmcat_WA.nc')"
   ]
  },
  {
   "cell_type": "code",
   "execution_count": 9,
   "metadata": {},
   "outputs": [],
   "source": [
    "palmer_z = xr.open_dataset(f'{dm_path}/palmer_z_index/WA/palmer_z_index_usdmcat_WA.nc')"
   ]
  },
  {
   "cell_type": "markdown",
   "metadata": {},
   "source": [
    "## State CAF Stacked Timeseries"
   ]
  },
  {
   "cell_type": "markdown",
   "metadata": {},
   "source": [
    "## Onset & Duration"
   ]
  },
  {
   "cell_type": "markdown",
   "metadata": {},
   "source": [
    "## Drought Networks"
   ]
  },
  {
   "cell_type": "markdown",
   "metadata": {},
   "source": []
  },
  {
   "cell_type": "code",
   "execution_count": null,
   "metadata": {},
   "outputs": [],
   "source": []
  }
 ],
 "metadata": {
  "kernelspec": {
   "display_name": "Python 3.7.12 ('sedi')",
   "language": "python",
   "name": "python3"
  },
  "language_info": {
   "codemirror_mode": {
    "name": "ipython",
    "version": 3
   },
   "file_extension": ".py",
   "mimetype": "text/x-python",
   "name": "python",
   "nbconvert_exporter": "python",
   "pygments_lexer": "ipython3",
   "version": "3.10.5"
  },
  "orig_nbformat": 4,
  "vscode": {
   "interpreter": {
    "hash": "5585d616cc037afe4e5997f9d5ad9938ec3148b25e01a6d2931d801949bec716"
   }
  }
 },
 "nbformat": 4,
 "nbformat_minor": 2
}
